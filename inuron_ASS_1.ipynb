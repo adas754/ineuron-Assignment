{
  "nbformat": 4,
  "nbformat_minor": 0,
  "metadata": {
    "colab": {
      "provenance": []
    },
    "kernelspec": {
      "name": "python3",
      "display_name": "Python 3"
    },
    "language_info": {
      "name": "python"
    }
  },
  "cells": [
    {
      "cell_type": "markdown",
      "source": [
        "# 1.Write a Python program to reverse a string without using any built-in string reversal functions.\n"
      ],
      "metadata": {
        "id": "O6jZ1qERJKcN"
      }
    },
    {
      "cell_type": "code",
      "source": [
        "def reverse_string(string):\n",
        "  reversed_string=\"\"\n",
        "  for i in range(len(string)-1,-1,-1):\n",
        "    reversed_string+=string[i]\n",
        "  return reversed_string\n",
        "string=input(\"Enter any string :\")\n",
        "reversed_string=reverse_string(string)\n",
        "print(reversed_string)"
      ],
      "metadata": {
        "colab": {
          "base_uri": "https://localhost:8080/"
        },
        "id": "Lw9_gCELJz0P",
        "outputId": "5ed0fbdd-44f5-4dab-f907-c908e008dd30"
      },
      "execution_count": null,
      "outputs": [
        {
          "output_type": "stream",
          "name": "stdout",
          "text": [
            "Enter any string :munai\n",
            "ianum\n"
          ]
        }
      ]
    },
    {
      "cell_type": "markdown",
      "source": [
        "# 2. Implement a function to check if a given string is a palindrome."
      ],
      "metadata": {
        "id": "8fuUkFAmLmmD"
      }
    },
    {
      "cell_type": "code",
      "source": [
        "def is_palindrome(string):\n",
        "  reverse_string=\"\"\n",
        "  for i in range(len(string)-1,-1,-1):\n",
        "    reverse_string+=string[i]\n",
        "  return string==reverse_string\n",
        "string=input(\"Enter a string \")\n",
        "print(is_palindrome(string))"
      ],
      "metadata": {
        "colab": {
          "base_uri": "https://localhost:8080/"
        },
        "id": "_gPHr60vMG0E",
        "outputId": "90bc3f45-7826-4f63-85f3-8223be77695f"
      },
      "execution_count": null,
      "outputs": [
        {
          "output_type": "stream",
          "name": "stdout",
          "text": [
            "Enter a string mam\n",
            "True\n"
          ]
        }
      ]
    },
    {
      "cell_type": "markdown",
      "source": [
        "# 3. Write a program to find the largest element in a given list.\n"
      ],
      "metadata": {
        "id": "zIBeYnVRQHNT"
      }
    },
    {
      "cell_type": "code",
      "source": [
        "def find_largest(list):\n",
        "  largest_element=list[0]\n",
        "  for element in list:\n",
        "    if element>largest_element:\n",
        "      largest_element=element\n",
        "  return largest_element\n",
        "list=[10,4,9,2,7]\n",
        "largest_element=find_largest(list)\n",
        "print(largest_element)\n"
      ],
      "metadata": {
        "colab": {
          "base_uri": "https://localhost:8080/"
        },
        "id": "9F5ADXtYYkqT",
        "outputId": "ac1178b4-464b-4fdc-f8e8-e324f473b317"
      },
      "execution_count": null,
      "outputs": [
        {
          "output_type": "stream",
          "name": "stdout",
          "text": [
            "10\n"
          ]
        }
      ]
    },
    {
      "cell_type": "markdown",
      "source": [
        "# 4. Implement a function to count the occurrence of each element in a list.\n"
      ],
      "metadata": {
        "id": "f6id-NeObLF_"
      }
    },
    {
      "cell_type": "code",
      "source": [
        "def count_occurrences(list):\n",
        "  occurrences={}\n",
        "  for element in list:\n",
        "    if element in occurrences:\n",
        "      occurrences[element]+=1\n",
        "    else:\n",
        "      occurrences[element]=1\n",
        "  return occurrences\n",
        "list=[1,2,3,1,2,5]\n",
        "occurrences=count_occurrences(list)\n",
        "print (occurrences)"
      ],
      "metadata": {
        "colab": {
          "base_uri": "https://localhost:8080/"
        },
        "id": "8iDPqCoFaAMz",
        "outputId": "5388738d-78a9-4f13-e28a-21de99025d8f"
      },
      "execution_count": null,
      "outputs": [
        {
          "output_type": "stream",
          "name": "stdout",
          "text": [
            "{1: 2, 2: 2, 3: 1, 5: 1}\n"
          ]
        }
      ]
    },
    {
      "cell_type": "markdown",
      "source": [
        "# 5. Write a Python program to find the second largest number in a list.\n"
      ],
      "metadata": {
        "id": "4GFW3Nphbwl0"
      }
    },
    {
      "cell_type": "code",
      "source": [
        "def find_second_largest(numbers):\n",
        "  if len(numbers)<2:\n",
        "    return None\n",
        "  largest=second_largest=numbers[0]\n",
        "  for num in numbers:\n",
        "    if num>largest:\n",
        "      second_largest=largest\n",
        "      largest=num\n",
        "    elif num>second_largest:\n",
        "      second_largest=num\n",
        "  if second_largest==largest:\n",
        "    return None\n",
        "  else:\n",
        "    return second_largest\n",
        "my_list=[10,5,8,20,9,19]\n",
        "result=find_second_largest(my_list)\n",
        "if result is not None:\n",
        "  print(\"The second largest number is \",result)\n",
        "else:\n",
        "  print(\"The list does not have largest number\")"
      ],
      "metadata": {
        "colab": {
          "base_uri": "https://localhost:8080/"
        },
        "id": "qISM4lGBXZoJ",
        "outputId": "b59198dc-3454-4079-97f7-62a0832119e4"
      },
      "execution_count": null,
      "outputs": [
        {
          "output_type": "stream",
          "name": "stdout",
          "text": [
            "The second largest number is  19\n"
          ]
        }
      ]
    },
    {
      "cell_type": "markdown",
      "source": [
        "#6. Implement a function to remove duplicate elements from a list.\n"
      ],
      "metadata": {
        "id": "2N1hrp6Cdn8l"
      }
    },
    {
      "cell_type": "code",
      "source": [
        "def remove_duplicates(list):\n",
        "  new_list=[]\n",
        "  seen=set()\n",
        "  for item in list:\n",
        "    if item not in seen:\n",
        "      new_list.append(item)\n",
        "      seen.add(item)\n",
        "  return new_list\n",
        "list=[1,2,3,4,5,1,2,3]\n",
        "new_list=remove_duplicates(list)\n",
        "print(new_list)"
      ],
      "metadata": {
        "colab": {
          "base_uri": "https://localhost:8080/"
        },
        "id": "BLtgF-E5d25y",
        "outputId": "c19ec315-44a2-4162-a619-10945cacffd9"
      },
      "execution_count": null,
      "outputs": [
        {
          "output_type": "stream",
          "name": "stdout",
          "text": [
            "[1, 2, 3, 4, 5]\n"
          ]
        }
      ]
    },
    {
      "cell_type": "markdown",
      "source": [
        "# 7. Write a program to calculate the factorial of a given number.\n"
      ],
      "metadata": {
        "id": "uPPFFMD6qlye"
      }
    },
    {
      "cell_type": "code",
      "source": [
        "\n",
        "def factorial(number):\n",
        "  if number<0:\n",
        "    return None\n",
        "  elif number==0:\n",
        "    return 1\n",
        "  else:\n",
        "    return number*factorial(number-1)\n",
        "number=int(input(\"Enter number  \"))\n",
        "factorial_of_number=factorial(number)\n",
        "print(factorial_of_number)"
      ],
      "metadata": {
        "colab": {
          "base_uri": "https://localhost:8080/"
        },
        "id": "IShV_udWiffy",
        "outputId": "7f78c2a6-4a97-46db-fc0f-303665c8426c"
      },
      "execution_count": null,
      "outputs": [
        {
          "output_type": "stream",
          "name": "stdout",
          "text": [
            "Enter number  6\n",
            "720\n"
          ]
        }
      ]
    },
    {
      "cell_type": "markdown",
      "source": [
        "## 8. Implement a function to check if a given number is prime.\n"
      ],
      "metadata": {
        "id": "_FVFji13q7UR"
      }
    },
    {
      "cell_type": "code",
      "source": [
        "def is_prime(number):\n",
        "  if number<2:\n",
        "    return False\n",
        "  else:\n",
        "    for i in range(2,int(number**0.5)+1):\n",
        "      if number%i==0:\n",
        "        return False\n",
        "    return True\n",
        "number=int(input(\"Enter a number \"))\n",
        "is_prime_number=is_prime(number)\n",
        "print(f\"The number {number} is {'prime' if is_prime_number else 'not prime'}\")"
      ],
      "metadata": {
        "colab": {
          "base_uri": "https://localhost:8080/"
        },
        "id": "_9rSYJ0ur6JJ",
        "outputId": "49aecf34-4ce3-4a09-da56-a81e59e38365"
      },
      "execution_count": null,
      "outputs": [
        {
          "output_type": "stream",
          "name": "stdout",
          "text": [
            "Enter a number 33\n",
            "The number 33 is not prime\n"
          ]
        }
      ]
    },
    {
      "cell_type": "markdown",
      "source": [
        "# 9. Write a Python program to sort a list of integers in ascending order.\n"
      ],
      "metadata": {
        "id": "Ti48OUQ7ugxL"
      }
    },
    {
      "cell_type": "code",
      "source": [
        "def sort_list(list):\n",
        "  for i in range(len(list)):\n",
        "    for j in range(i+1,len(list)):\n",
        "      if list[i]>list[j]:\n",
        "        list[i],list[j]=list[j],list[i]\n",
        "  return list\n",
        "list=[10, 5, 2, 1, 8, 9, 7, 6, 4, 3]\n",
        "sorted_list=sort_list(list)\n",
        "print(sorted_list)"
      ],
      "metadata": {
        "id": "hgMdHY21u1HV",
        "colab": {
          "base_uri": "https://localhost:8080/"
        },
        "outputId": "0274e1f8-d565-42f9-984c-a2523d9c0147"
      },
      "execution_count": null,
      "outputs": [
        {
          "output_type": "stream",
          "name": "stdout",
          "text": [
            "[1, 2, 3, 4, 5, 6, 7, 8, 9, 10]\n"
          ]
        }
      ]
    },
    {
      "cell_type": "markdown",
      "source": [
        "## 10. Implement a function to find the sum of all numbers in a list."
      ],
      "metadata": {
        "id": "gcuNRhVv3gAT"
      }
    },
    {
      "cell_type": "code",
      "source": [
        "def sum_of_numbers(numbers):\n",
        "  sum=0\n",
        "  for  number in numbers:\n",
        "    sum+=number\n",
        "  return sum\n",
        "numbers=[1,2,3,4,5]\n",
        "sum=sum_of_numbers(numbers)\n",
        "print(sum)"
      ],
      "metadata": {
        "colab": {
          "base_uri": "https://localhost:8080/"
        },
        "id": "jFSCcWkV4NFQ",
        "outputId": "15fe7817-1b75-422e-cdc7-eb19004ce847"
      },
      "execution_count": null,
      "outputs": [
        {
          "output_type": "stream",
          "name": "stdout",
          "text": [
            "15\n"
          ]
        }
      ]
    },
    {
      "cell_type": "markdown",
      "source": [
        "## 11. Write a program to find the common elements between two lists.\n"
      ],
      "metadata": {
        "id": "0Cs8XC0E4yXq"
      }
    },
    {
      "cell_type": "code",
      "source": [
        "def find_common_elements(list1,list2):\n",
        "  common_elements=[]\n",
        "  for element in list1:\n",
        "    if element in list2:\n",
        "      common_elements.append(element)\n",
        "  return common_elements\n",
        "list1=[1,2,3,4,5]\n",
        "list2=[2,3,5,6,7]\n",
        "common_elements=find_common_elements(list1,list2)\n",
        "print(common_elements)"
      ],
      "metadata": {
        "colab": {
          "base_uri": "https://localhost:8080/"
        },
        "id": "e04yI_ac5CVZ",
        "outputId": "e76e5b4e-6d6b-4728-fc47-b5b4cc717c6e"
      },
      "execution_count": null,
      "outputs": [
        {
          "output_type": "stream",
          "name": "stdout",
          "text": [
            "[2, 3, 5]\n"
          ]
        }
      ]
    },
    {
      "cell_type": "markdown",
      "source": [
        "## 12. Implement a function to check if a given string is an anagram of another string.\n"
      ],
      "metadata": {
        "id": "4tUHYTzTuuMY"
      }
    },
    {
      "cell_type": "code",
      "source": [
        "def is_anagram(str1,str2):\n",
        "  if len(str1)!=len(str2):\n",
        "    return False\n",
        "  char_set=set()\n",
        "  for char in str1:\n",
        "    char_set.add(char)\n",
        "  for char in str2:\n",
        "    if char not in char_set:\n",
        "      return False\n",
        "  return True\n",
        "str1=\"mad\"\n",
        "str2=\"dam\"\n",
        "print(is_anagram(str1,str2))"
      ],
      "metadata": {
        "colab": {
          "base_uri": "https://localhost:8080/"
        },
        "id": "BypuSQfLwLiM",
        "outputId": "f4848152-efe4-4c87-c0f4-e5b4f0740647"
      },
      "execution_count": null,
      "outputs": [
        {
          "output_type": "stream",
          "name": "stdout",
          "text": [
            "True\n"
          ]
        }
      ]
    },
    {
      "cell_type": "markdown",
      "source": [
        "##13. Write a Python program to generate all permutations of a given string.\n"
      ],
      "metadata": {
        "id": "VjXvYIQy6wcy"
      }
    },
    {
      "cell_type": "code",
      "source": [
        "def permute(string):\n",
        "  if len(string)==0:\n",
        "    return []\n",
        "  if len(string)==1:\n",
        "    return [string]\n",
        "  permutations=[]\n",
        "  for i in range(len(string)):\n",
        "    first_char=string[i]\n",
        "    remaining_chars=string[:i]+string[i+1:]\n",
        "    for perm in permute(remaining_chars):\n",
        "      permutations.append(first_char+perm)\n",
        "  return permutations\n",
        "input_string=input(\"Enter a string :\")\n",
        "result=permute(input_string)\n",
        "print(\"Permutation\")\n",
        "for perm in result:\n",
        "  print(perm)"
      ],
      "metadata": {
        "colab": {
          "base_uri": "https://localhost:8080/"
        },
        "id": "RZP6ouHB0bDv",
        "outputId": "28807f93-83d3-49c7-9d9f-866665b315ec"
      },
      "execution_count": null,
      "outputs": [
        {
          "output_type": "stream",
          "name": "stdout",
          "text": [
            "Enter a string :abc\n",
            "Permutation\n",
            "abc\n",
            "acb\n",
            "bac\n",
            "bca\n",
            "cab\n",
            "cba\n"
          ]
        }
      ]
    },
    {
      "cell_type": "markdown",
      "source": [
        "# 14. Implement a function to calculate the Fibonacci sequence up to a given number of terms.\n"
      ],
      "metadata": {
        "id": "DX5-wjUC7fDh"
      }
    },
    {
      "cell_type": "code",
      "source": [
        "def fibonacci(n):\n",
        "  if n<=1:\n",
        "    return n\n",
        "  else:\n",
        "    return fibonacci(n-1)+fibonacci(n-2)\n",
        "n=int(input(\"Enter the number of term :\"))\n",
        "for i in range(n):\n",
        "  print(fibonacci(i))"
      ],
      "metadata": {
        "colab": {
          "base_uri": "https://localhost:8080/"
        },
        "id": "zI6pG_8G3-j9",
        "outputId": "c1be7b42-0861-4dad-93fa-b3f248762390"
      },
      "execution_count": null,
      "outputs": [
        {
          "output_type": "stream",
          "name": "stdout",
          "text": [
            "Enter the number of term :10\n",
            "0\n",
            "1\n",
            "1\n",
            "2\n",
            "3\n",
            "5\n",
            "8\n",
            "13\n",
            "21\n",
            "34\n"
          ]
        }
      ]
    },
    {
      "cell_type": "markdown",
      "source": [
        "## 15. Write a program to find the median of a list of numbers.\n"
      ],
      "metadata": {
        "id": "pcMQzPURYsBq"
      }
    },
    {
      "cell_type": "code",
      "source": [
        "def median(numbers):\n",
        "  for i in range(len(numbers)):\n",
        "    for j in range(i,len(numbers)):\n",
        "      if numbers[i]>numbers[j]:\n",
        "        numbers[j],numbers[i]=numbers[i],numbers[j]\n",
        "      mid=len(numbers)//2\n",
        "      if len(numbers)%2==0:\n",
        "        return (numbers[mid]+numbers[mid-1])/2\n",
        "      else:\n",
        "        return numbers[mid]\n",
        "numbers=[1,2,3,4,5,6,7,8]\n",
        "print(median(numbers))"
      ],
      "metadata": {
        "colab": {
          "base_uri": "https://localhost:8080/"
        },
        "id": "Wk2ZtUsR89gJ",
        "outputId": "50039cb5-4e59-49a7-e7f4-dea2293be6a1"
      },
      "execution_count": null,
      "outputs": [
        {
          "output_type": "stream",
          "name": "stdout",
          "text": [
            "4.5\n"
          ]
        }
      ]
    },
    {
      "cell_type": "markdown",
      "source": [
        "## 16. Implement a function to check if a given list is sorted in non-decreasing order.\n"
      ],
      "metadata": {
        "id": "YVFExVPjZHe9"
      }
    },
    {
      "cell_type": "code",
      "source": [
        "def is_sorted_non_decreasing(numbers):\n",
        "  for i in range(len(numbers)-1):\n",
        "    if numbers[i]>numbers[i+1]:\n",
        "      return False\n",
        "    return True\n",
        "numbers=[1,2,6]\n",
        "is_sorted=is_sorted_non_decreasing(numbers)\n",
        "print(is_sorted)"
      ],
      "metadata": {
        "colab": {
          "base_uri": "https://localhost:8080/"
        },
        "id": "6OLVU0w8Zv5K",
        "outputId": "bd7c1d27-2b3b-41d2-fa52-12f11788c283"
      },
      "execution_count": null,
      "outputs": [
        {
          "output_type": "stream",
          "name": "stdout",
          "text": [
            "True\n"
          ]
        }
      ]
    },
    {
      "cell_type": "markdown",
      "source": [
        "# 17. Write a Python program to find the intersection of two lists.\n"
      ],
      "metadata": {
        "id": "2wesxRybcUab"
      }
    },
    {
      "cell_type": "code",
      "source": [
        "def intersection(list1,list2):\n",
        "  intersection_list=[]\n",
        "  for ele in list1:\n",
        "    if ele in list2:\n",
        "      intersection_list.append(ele)\n",
        "  return intersection_list\n",
        "list1=[1,2,3,4,5]\n",
        "list2=[2,3,5,6,7]\n",
        "intersection_list=intersection(list1,list2)\n",
        "print(intersection_list)"
      ],
      "metadata": {
        "colab": {
          "base_uri": "https://localhost:8080/"
        },
        "id": "_ZJDvm30chQg",
        "outputId": "73874aac-20aa-453b-cf19-d7cf9d12fdb8"
      },
      "execution_count": null,
      "outputs": [
        {
          "output_type": "stream",
          "name": "stdout",
          "text": [
            "[2, 3, 5]\n"
          ]
        }
      ]
    },
    {
      "cell_type": "markdown",
      "source": [
        "### 18. Implement a function to find the maximum subarray sum in a given list."
      ],
      "metadata": {
        "id": "rcdmRVSFfg1N"
      }
    },
    {
      "cell_type": "code",
      "source": [
        "def max_subarray_sum(arr):\n",
        "  if len(arr)==0:\n",
        "    return 0\n",
        "  max_sum=arr[0]\n",
        "  curr_sum=arr[0]\n",
        "  for i in range(1,len(arr)):\n",
        "    curr_sum=max(arr[i],curr_sum+arr[i])\n",
        "    max_sum=max(max_sum,curr_sum)\n",
        "  return max_sum\n",
        "arr = [-2, -3, 4, -1, -2, 1, 5, -3]\n",
        "result=max_subarray_sum(arr)\n",
        "print(result)"
      ],
      "metadata": {
        "id": "hCBNpAN2lH4h",
        "colab": {
          "base_uri": "https://localhost:8080/"
        },
        "outputId": "ad3e2724-1ec4-4437-b37a-40b2b7984a97"
      },
      "execution_count": null,
      "outputs": [
        {
          "output_type": "stream",
          "name": "stdout",
          "text": [
            "7\n"
          ]
        }
      ]
    },
    {
      "cell_type": "markdown",
      "source": [
        "## 19. Write a program to remove all vowels from a given string."
      ],
      "metadata": {
        "id": "xoFHE9MjxMLo"
      }
    },
    {
      "cell_type": "code",
      "source": [
        "def remove_vowels(string):\n",
        "  vowels='aeiouAEIOU'\n",
        "  without_vowels=\" \"\n",
        "  for char in string:\n",
        "    if char not in vowels:\n",
        "      without_vowels+=char\n",
        "  return without_vowels\n",
        "input_string=input(\"Enter a string \")\n",
        "result=remove_vowels(input_string)\n",
        "print(result)"
      ],
      "metadata": {
        "colab": {
          "base_uri": "https://localhost:8080/"
        },
        "id": "6GUr1A3i1WZH",
        "outputId": "568c5e3e-4d90-4ea1-d93e-9395f8d148ae"
      },
      "execution_count": null,
      "outputs": [
        {
          "output_type": "stream",
          "name": "stdout",
          "text": [
            "Enter a string ghechu\n",
            " ghch\n"
          ]
        }
      ]
    },
    {
      "cell_type": "markdown",
      "source": [
        "### 20. Implement a function to reverse the order of words in a given sentence.\n"
      ],
      "metadata": {
        "id": "BdT4Pis94iXu"
      }
    },
    {
      "cell_type": "code",
      "source": [
        "def reverse_words(sentence):\n",
        "  words=sentence.split(\" \")\n",
        "  reversed_words=[]\n",
        "  for i in range(len(words)-1,-1,-1):\n",
        "    reversed_words.append(words[i])\n",
        "  reversed_sentence=\" \".join(reversed_words)\n",
        "  return reversed_sentence\n",
        "sentence=\"This is panda\"\n",
        "reverse_sentence=reverse_words(sentence)\n",
        "print(reverse_sentence)\n",
        "\n"
      ],
      "metadata": {
        "colab": {
          "base_uri": "https://localhost:8080/"
        },
        "id": "pvece3CT5GMY",
        "outputId": "92a6335f-d627-491c-b842-cca0d362633f"
      },
      "execution_count": null,
      "outputs": [
        {
          "output_type": "stream",
          "name": "stdout",
          "text": [
            "panda is This\n"
          ]
        }
      ]
    },
    {
      "cell_type": "markdown",
      "source": [
        "## 21. Write a Python program to check if two strings are anagrams of each other.\n"
      ],
      "metadata": {
        "id": "3S7FUqEo84yV"
      }
    },
    {
      "cell_type": "code",
      "source": [
        "def is_anagram(str1,str2):\n",
        "  if len(str1)!=len(str2):\n",
        "    return False\n",
        "  char_set=set()\n",
        "  for char in str1:\n",
        "    char_set.add(char)\n",
        "  for char in str2:\n",
        "    if char not in char_set:\n",
        "      return False\n",
        "  return True\n",
        "str1=\"mad\"\n",
        "str2=\"dam\"\n",
        "print(is_anagram(str1,str2))"
      ],
      "metadata": {
        "colab": {
          "base_uri": "https://localhost:8080/"
        },
        "id": "-GhToa048POa",
        "outputId": "0099f15a-fa64-47c6-bdc0-43e4fb75c49d"
      },
      "execution_count": null,
      "outputs": [
        {
          "output_type": "stream",
          "name": "stdout",
          "text": [
            "True\n"
          ]
        }
      ]
    },
    {
      "cell_type": "markdown",
      "source": [
        "## 22. Implement a function to find the first non-repeating character in a string.\n"
      ],
      "metadata": {
        "id": "lsgp4q45_o9F"
      }
    },
    {
      "cell_type": "code",
      "source": [
        "def find_first_non_repeating_character(string):\n",
        "  char_count={}\n",
        "  for char in string:\n",
        "    char_count[char]=char_count.get(char,0)+1\n",
        "  for char in string:\n",
        "    if char_count[char]==1:\n",
        "      return char\n",
        "  return None\n",
        "input_string=input(\"Enter a string \")\n",
        "result=find_first_non_repeating_character(input_string)\n",
        "if result:\n",
        "  print(\"first non repeating character \",result)\n",
        "else:\n",
        "  print(\"no non-repeating character found\")"
      ],
      "metadata": {
        "colab": {
          "base_uri": "https://localhost:8080/"
        },
        "id": "fWUFx8fVErGl",
        "outputId": "d5f13a66-3bfa-4a59-a689-c0f426c38126"
      },
      "execution_count": null,
      "outputs": [
        {
          "output_type": "stream",
          "name": "stdout",
          "text": [
            "Enter a string munaiai\n",
            "first non repeating character  m\n"
          ]
        }
      ]
    },
    {
      "cell_type": "markdown",
      "source": [
        "## 23. Write a program to find the prime factors of a given number."
      ],
      "metadata": {
        "id": "RF46jfiRHXzA"
      }
    },
    {
      "cell_type": "code",
      "source": [
        "def find_prime_factors(num):\n",
        "  prime_factors=[]\n",
        "  for  i in range(2,num+1):\n",
        "    while num%i==0:\n",
        "      prime_factors.append(i)\n",
        "      num//=i\n",
        "    if num==1:\n",
        "      break\n",
        "  return prime_factors\n",
        "input_num=int(input(\"Enter a number \"))\n",
        "result=find_prime_factors(input_num)\n",
        "print(result)"
      ],
      "metadata": {
        "colab": {
          "base_uri": "https://localhost:8080/"
        },
        "id": "yhDqwkLpIWfu",
        "outputId": "6189d3d7-23c5-4072-a97c-1d6a93f09b3e"
      },
      "execution_count": null,
      "outputs": [
        {
          "output_type": "stream",
          "name": "stdout",
          "text": [
            "Enter a number 28\n",
            "[2, 2, 7]\n"
          ]
        }
      ]
    },
    {
      "cell_type": "markdown",
      "source": [
        "## 24. Implement a function to check if a given number is a power of two.\n"
      ],
      "metadata": {
        "id": "_1xFAi9fLQIn"
      }
    },
    {
      "cell_type": "code",
      "source": [
        "def is_power_of_two(num):\n",
        "  if num<=0:\n",
        "    return False\n",
        "  return (num &(num-1))==0\n",
        "input_num=int(input(\"Enter a number \"))\n",
        "result=is_power_of_two(input_num)\n",
        "if result:\n",
        "  print(\"The number is a power of two\")\n",
        "else:\n",
        "  print(\"The number is not a power of two\")"
      ],
      "metadata": {
        "colab": {
          "base_uri": "https://localhost:8080/"
        },
        "id": "2WN5zIw3OgtF",
        "outputId": "8e1042c4-80d4-40cd-9e1c-fe38f4ca44a8"
      },
      "execution_count": null,
      "outputs": [
        {
          "output_type": "stream",
          "name": "stdout",
          "text": [
            "Enter a number 64\n",
            "The number is a power of two\n"
          ]
        }
      ]
    },
    {
      "cell_type": "markdown",
      "source": [
        "## 25. Write a Python program to merge two sorted lists into a single sorted list.\n"
      ],
      "metadata": {
        "id": "-LdNnDvSPwyV"
      }
    },
    {
      "cell_type": "code",
      "source": [
        "\n",
        "def merge_sorted_lists(list1,list2):\n",
        "  merged_list=[]\n",
        "  i=0\n",
        "  j=0\n",
        "  while i<len(list1) and j<len(list2):\n",
        "    if list1[i]<list2[j]:\n",
        "      merged_list.append(list1[i])\n",
        "      i+=1\n",
        "    else:\n",
        "      merged_list.append(list2[j])\n",
        "      j+=1\n",
        "  merged_list.extend(list1[i:])\n",
        "  merged_list.extend(list2[j:])\n",
        "  return merged_list\n",
        "list1 = [1, 3, 5, 7, 9]\n",
        "list2 = [2, 4, 6, 8, 10]\n",
        "merged_list=merge_sorted_lists(list1,list2)\n",
        "print(merged_list)"
      ],
      "metadata": {
        "colab": {
          "base_uri": "https://localhost:8080/"
        },
        "id": "WlY3nuNlRu-6",
        "outputId": "f1ef84de-30f4-4f15-b22a-f5c68ce5e092"
      },
      "execution_count": null,
      "outputs": [
        {
          "output_type": "stream",
          "name": "stdout",
          "text": [
            "[1, 2, 3, 4, 5, 6, 7, 8, 9, 10]\n"
          ]
        }
      ]
    },
    {
      "cell_type": "markdown",
      "source": [
        "## 26. Implement a function to find the mode of a list of numbers.\n"
      ],
      "metadata": {
        "id": "_bDg7uvDTq9G"
      }
    },
    {
      "cell_type": "code",
      "source": [
        "def mode(numbers):\n",
        "  count={}\n",
        "  for number in numbers:\n",
        "    if number in count:\n",
        "      count[number]+=1\n",
        "    else:\n",
        "      count[number]=1\n",
        "  max_count=max(count.values())\n",
        "  mode=[key for key,value in count.items() if value==max_count]\n",
        "  return mode\n",
        "numbers=[6,8,9,0,0,9,9]\n",
        "print(mode(numbers))"
      ],
      "metadata": {
        "colab": {
          "base_uri": "https://localhost:8080/"
        },
        "id": "sJ-TGv5QTXuH",
        "outputId": "8f6d66e8-4521-4858-a204-8fd17265c213"
      },
      "execution_count": null,
      "outputs": [
        {
          "output_type": "stream",
          "name": "stdout",
          "text": [
            "[9]\n"
          ]
        }
      ]
    },
    {
      "cell_type": "markdown",
      "source": [
        "## 27. Write a program to find the greatest common divisor (GCD) of two numbers.\n"
      ],
      "metadata": {
        "id": "iH7dKW6rV1vu"
      }
    },
    {
      "cell_type": "code",
      "source": [
        "def find_gcd(a,b):\n",
        "  num=1\n",
        "  if a%b==0:\n",
        "    return b\n",
        "  for i in range(int(b/2),0,-1):\n",
        "    if a%i==0 and b%i==0:\n",
        "      num=i\n",
        "      break\n",
        "  return num\n",
        "print(\"gcd of 20 and 28 is \",find_gcd(20,28))"
      ],
      "metadata": {
        "colab": {
          "base_uri": "https://localhost:8080/"
        },
        "id": "lPL4-H5CYKRd",
        "outputId": "abcefe5a-1a60-4d3e-f5c4-2d802d69e445"
      },
      "execution_count": null,
      "outputs": [
        {
          "output_type": "stream",
          "name": "stdout",
          "text": [
            "gcd of 20 and 28 is  4\n"
          ]
        }
      ]
    },
    {
      "cell_type": "markdown",
      "source": [
        "## 28. Implement a function to calculate the square root of a given number."
      ],
      "metadata": {
        "id": "rnAScNiYZg88"
      }
    },
    {
      "cell_type": "code",
      "source": [
        "def square_root(number):\n",
        "  if number<0:\n",
        "    raise ValueError(\"Squre root is not defined for negative number\")\n",
        "  return number**0.5\n",
        "square_root(25)"
      ],
      "metadata": {
        "colab": {
          "base_uri": "https://localhost:8080/"
        },
        "id": "lYj34ghtZ3qH",
        "outputId": "20f4cad2-ec7a-4a40-e37d-9a302d202907"
      },
      "execution_count": null,
      "outputs": [
        {
          "output_type": "execute_result",
          "data": {
            "text/plain": [
              "5.0"
            ]
          },
          "metadata": {},
          "execution_count": 101
        }
      ]
    },
    {
      "cell_type": "markdown",
      "source": [
        "##29. Write a Python program to check if a given string is a valid palindrome ignoring non-alphanumeric characters.\n"
      ],
      "metadata": {
        "id": "jrjFBxk6aW_n"
      }
    },
    {
      "cell_type": "code",
      "source": [
        "import re\n",
        "def is_valid_palindrome(string):\n",
        "  string=re.sub(r'\\w+','',string.lower())\n",
        "  return string==string[::-1]\n",
        "string=\"mam:\"\n",
        "print(is_valid_palindrome(string))"
      ],
      "metadata": {
        "colab": {
          "base_uri": "https://localhost:8080/"
        },
        "id": "NrQodlp6c2ob",
        "outputId": "da2cf573-2cd5-4a8f-a639-aa697d832681"
      },
      "execution_count": null,
      "outputs": [
        {
          "output_type": "stream",
          "name": "stdout",
          "text": [
            "True\n"
          ]
        }
      ]
    },
    {
      "cell_type": "markdown",
      "source": [
        "## 30. Implement a function to find the minimum element in a rotated sorted list.\n"
      ],
      "metadata": {
        "id": "nhCKQ1Svbvfx"
      }
    },
    {
      "cell_type": "code",
      "source": [
        "def find_minimum(nums):\n",
        "  for i in range(1,len(nums)):\n",
        "    if nums[i]<nums[i-1]:\n",
        "      return nums[i]\n",
        "  return nums[0]\n",
        "nums=[4,5,6,7,0,1,2]\n",
        "print(find_minimum(nums))"
      ],
      "metadata": {
        "colab": {
          "base_uri": "https://localhost:8080/"
        },
        "id": "4dMsQL-YbRe1",
        "outputId": "f7223ab7-85dd-4404-8f8e-e4bf6f640860"
      },
      "execution_count": null,
      "outputs": [
        {
          "output_type": "stream",
          "name": "stdout",
          "text": [
            "0\n"
          ]
        }
      ]
    },
    {
      "cell_type": "markdown",
      "source": [
        "### 31. Write a program to find the sum of all even numbers in a list."
      ],
      "metadata": {
        "id": "XPpS1ZInb4kz"
      }
    },
    {
      "cell_type": "code",
      "source": [
        "def sum_even_numbers(numbers):\n",
        "  total=0\n",
        "  for num in numbers:\n",
        "    if num%2==0:\n",
        "      total+=num\n",
        "  return total\n",
        "numbers=[1,2,3,4,5,6,7,8,9,10]\n",
        "print(sum_even_numbers(numbers))"
      ],
      "metadata": {
        "colab": {
          "base_uri": "https://localhost:8080/"
        },
        "id": "cuMQ_SLRcSWY",
        "outputId": "618e3cbc-7762-4207-c05b-3c143392c0cb"
      },
      "execution_count": null,
      "outputs": [
        {
          "output_type": "stream",
          "name": "stdout",
          "text": [
            "30\n"
          ]
        }
      ]
    },
    {
      "cell_type": "markdown",
      "source": [
        "### 32. Implement a function to calculate the power of a number using recursion.\n"
      ],
      "metadata": {
        "id": "cpZKa_Uxduuz"
      }
    },
    {
      "cell_type": "code",
      "source": [
        "def power(base,exponent):\n",
        "  if exponent==0:\n",
        "    return 1\n",
        "  elif exponent>0:\n",
        "    return base*power(base,exponent-1)\n",
        "  else:\n",
        "    return 1/power(base,-exponent)\n",
        "base=5\n",
        "exponent=4\n",
        "result=power(base,exponent)\n",
        "print(result)"
      ],
      "metadata": {
        "colab": {
          "base_uri": "https://localhost:8080/"
        },
        "id": "6PCRXlUGdj6C",
        "outputId": "b942fa06-17b5-4158-f5ae-9a0b2d7844b5"
      },
      "execution_count": null,
      "outputs": [
        {
          "output_type": "stream",
          "name": "stdout",
          "text": [
            "625\n"
          ]
        }
      ]
    },
    {
      "cell_type": "markdown",
      "source": [
        "## 33. Write a Python program to remove duplicates from a list while preserving the order.\n"
      ],
      "metadata": {
        "id": "sP-8x82-erZK"
      }
    },
    {
      "cell_type": "code",
      "source": [
        "def remove_duplicates(lst):\n",
        "  seen=set()\n",
        "  result=[]\n",
        "  for item in lst:\n",
        "    if item not in seen:\n",
        "      seen.add(item)\n",
        "      result.append(item)\n",
        "  return result\n",
        "my_list=[1, 3, 2, 1, 5, 2, 4, 3, 5]\n",
        "new_list=remove_duplicates(my_list)\n",
        "print(new_list)"
      ],
      "metadata": {
        "colab": {
          "base_uri": "https://localhost:8080/"
        },
        "id": "CEPwxeDIepe3",
        "outputId": "6d86382e-6f65-4814-c0e5-a31c23119c3f"
      },
      "execution_count": null,
      "outputs": [
        {
          "output_type": "stream",
          "name": "stdout",
          "text": [
            "[1, 3, 2, 5, 4]\n"
          ]
        }
      ]
    },
    {
      "cell_type": "markdown",
      "source": [
        "## 34. Implement a function to find the longest common prefix among a list of strings.\n"
      ],
      "metadata": {
        "id": "Vzv1ZTgXgwRG"
      }
    },
    {
      "cell_type": "code",
      "source": [
        "def longest_common_prefix(strs):\n",
        "  if not strs:\n",
        "    return \"\"\n",
        "  prefix=strs[0]\n",
        "  for string in strs[1:]:\n",
        "    while not string.startswith(prefix):\n",
        "      prefix=prefix[:-1]\n",
        "      if not prefix:\n",
        "        return \"\"\n",
        "  return prefix\n",
        "\n",
        "strings = [\"flower\", \"flow\", \"flight\"]\n",
        "common_prefix=longest_common_prefix(strings)\n",
        "print(common_prefix)\n"
      ],
      "metadata": {
        "colab": {
          "base_uri": "https://localhost:8080/"
        },
        "id": "ixHD5YuC94pM",
        "outputId": "1a06363f-9500-4883-ac80-1bc0d98586fb"
      },
      "execution_count": 49,
      "outputs": [
        {
          "output_type": "stream",
          "name": "stdout",
          "text": [
            "fl\n"
          ]
        }
      ]
    },
    {
      "cell_type": "markdown",
      "source": [
        "## 35. Write a program to check if a given number is a perfect square.\n"
      ],
      "metadata": {
        "id": "BAoh6uf9cuw6"
      }
    },
    {
      "cell_type": "code",
      "source": [
        "import math\n",
        "def is_perfect_square(number):\n",
        "  square_root=math.isqrt(number)\n",
        "  return square_root*square_root==number\n",
        "number=int(input(\"Enter a number \"))\n",
        "if is_perfect_square(number):\n",
        "  print(f'{number} is perfect Square number ')\n",
        "else:\n",
        "  print(f'{number} is not perfect square number')"
      ],
      "metadata": {
        "colab": {
          "base_uri": "https://localhost:8080/"
        },
        "id": "2a_x0lEpb80l",
        "outputId": "86b027ec-d8a2-478a-d1e6-6fb258c50315"
      },
      "execution_count": 47,
      "outputs": [
        {
          "output_type": "stream",
          "name": "stdout",
          "text": [
            "Enter a number 49\n",
            "49 is perfect Square number \n"
          ]
        }
      ]
    },
    {
      "cell_type": "markdown",
      "source": [
        "## 36. Implement a function to calculate the product of all elements in a list."
      ],
      "metadata": {
        "id": "-c5khlEpc189"
      }
    },
    {
      "cell_type": "code",
      "source": [
        "def calculate_product(lst):\n",
        "  product=1\n",
        "  for num in lst:\n",
        "    product*=num\n",
        "  return product\n",
        "numbers=[2,3,4,5]\n",
        "result=calculate_product(numbers)\n",
        "print(f'The product of number {numbers} is {result}')"
      ],
      "metadata": {
        "colab": {
          "base_uri": "https://localhost:8080/"
        },
        "id": "WduzMXjGdFId",
        "outputId": "06a534a3-5ba7-4a32-b7f5-908f4af9dc52"
      },
      "execution_count": 6,
      "outputs": [
        {
          "output_type": "stream",
          "name": "stdout",
          "text": [
            "The product of number [2, 3, 4, 5] is 120\n"
          ]
        }
      ]
    },
    {
      "cell_type": "markdown",
      "source": [
        "## 37. Write a Python program to reverse the order of words in a sentence while preserving the word order.\n"
      ],
      "metadata": {
        "id": "KXnKncaKfC_V"
      }
    },
    {
      "cell_type": "code",
      "source": [
        "def reverse_sentence(sentence):\n",
        "  word=sentence.split()\n",
        "  reverse_words=word[::-1]\n",
        "  reversed_sentence=\" \".join(reverse_words)\n",
        "  return reversed_sentence\n",
        "sentence=input(\"Enter a sentence \")\n",
        "reversed_sentence=reverse_sentence(sentence)\n",
        "print(\"Reversed sentence :\",reversed_sentence)"
      ],
      "metadata": {
        "colab": {
          "base_uri": "https://localhost:8080/"
        },
        "id": "J7f--cT0fRAa",
        "outputId": "0cadbdbc-9aa2-4ef5-f197-0728edc6bebf"
      },
      "execution_count": 9,
      "outputs": [
        {
          "output_type": "stream",
          "name": "stdout",
          "text": [
            "Enter a sentence i am munai\n",
            "Reversed sentence : munai am i\n"
          ]
        }
      ]
    },
    {
      "cell_type": "markdown",
      "source": [
        "## 38. Implement a function to find the missing number in a given list of consecutive numbers.\n"
      ],
      "metadata": {
        "id": "FpPtL-M9iF_N"
      }
    },
    {
      "cell_type": "code",
      "source": [
        "def find_missing_number(numbers):\n",
        "  n=len(numbers)+1\n",
        "  total_sum=(n*(n+1))//2\n",
        "  actual_sum=sum(numbers)\n",
        "  missing_number= - actual_sum+total_sum\n",
        "  return missing_number\n",
        "numbers=[1,2,3,5,6,7,8,9,10]\n",
        "missing_number=find_missing_number(numbers)\n",
        "print(missing_number)\n"
      ],
      "metadata": {
        "colab": {
          "base_uri": "https://localhost:8080/"
        },
        "id": "re46lhghjK8M",
        "outputId": "62755300-11f3-4d2a-c303-d8b8d0b4a23f"
      },
      "execution_count": 12,
      "outputs": [
        {
          "output_type": "stream",
          "name": "stdout",
          "text": [
            "4\n"
          ]
        }
      ]
    },
    {
      "cell_type": "markdown",
      "source": [
        "## 39. Write a program to find the sum of digits of a given number.\n"
      ],
      "metadata": {
        "id": "ExQnY0ECtSTF"
      }
    },
    {
      "cell_type": "code",
      "source": [
        "def sum_of_digits(number):\n",
        "  sum=0\n",
        "  while number>0:\n",
        "    digit=number%10\n",
        "    sum+=digit\n",
        "    number//=10\n",
        "  return sum\n",
        "number=int(input(\"Enter a number :\"))\n",
        "digit_sum=sum_of_digits(number)\n",
        "print(digit_sum)\n"
      ],
      "metadata": {
        "colab": {
          "base_uri": "https://localhost:8080/"
        },
        "id": "gRIcnkBUtkA6",
        "outputId": "da7f9105-ce94-41ea-a0f6-e6a3ce6efae7"
      },
      "execution_count": 15,
      "outputs": [
        {
          "output_type": "stream",
          "name": "stdout",
          "text": [
            "Enter a number :68\n",
            "14\n"
          ]
        }
      ]
    },
    {
      "cell_type": "markdown",
      "source": [
        "## 40. Implement a function to check if a given string is a valid palindrome considering case sensitivity.\n"
      ],
      "metadata": {
        "id": "Tf8ws_3IvWTe"
      }
    },
    {
      "cell_type": "code",
      "source": [
        "def is_palindrome(string):\n",
        "  string=string.replace(\" \",\"\")\n",
        "  return string==string[::-1]\n",
        "string=input(\"Enter a string :\")\n",
        "if is_palindrome(string):\n",
        "  print(f\"{string} is valid palindrome\")\n",
        "else:\n",
        "  print(f\"{string} is not valid palindrome\")"
      ],
      "metadata": {
        "colab": {
          "base_uri": "https://localhost:8080/"
        },
        "id": "fz7Iagz7zYOY",
        "outputId": "6f05c1b0-d328-4767-fc82-7302886128ee"
      },
      "execution_count": 19,
      "outputs": [
        {
          "output_type": "stream",
          "name": "stdout",
          "text": [
            "Enter a string :mam\n",
            "mam is valid palindrome\n"
          ]
        }
      ]
    },
    {
      "cell_type": "markdown",
      "source": [
        "## 41. Write a Python program to find the smallest missing positive integer in a list."
      ],
      "metadata": {
        "id": "C6yLXutJ2tUC"
      }
    },
    {
      "cell_type": "code",
      "source": [
        "def find_smallest_missing_positive(numbers):\n",
        "  positives=set(num for num in numbers if num>0)\n",
        "  if len(positives)==0 or 1 not in positives:\n",
        "    return 1\n",
        "  n=len(positives)\n",
        "  for i in range(1,n+1):\n",
        "    if i not in positives:\n",
        "      return i\n",
        "  return n+1\n",
        "numbers=[3,5,-1,1,-2,4]\n",
        "smallest_missing=find_smallest_missing_positive(numbers)\n",
        "print(smallest_missing)\n"
      ],
      "metadata": {
        "colab": {
          "base_uri": "https://localhost:8080/"
        },
        "id": "IuayEFQw22UP",
        "outputId": "0f40629a-4bf0-441b-9404-0d79c15d7257"
      },
      "execution_count": 22,
      "outputs": [
        {
          "output_type": "stream",
          "name": "stdout",
          "text": [
            "2\n"
          ]
        }
      ]
    },
    {
      "cell_type": "markdown",
      "source": [
        "## 42. Implement a function to find the longest palindrome substring in a given string.\n"
      ],
      "metadata": {
        "id": "vh2eWgbA6HyE"
      }
    },
    {
      "cell_type": "code",
      "source": [
        "def largest_palindrome_string(string):\n",
        "  longest=\"\"\n",
        "  n=len(string)\n",
        "  for i in range(n):\n",
        "    left=right=i\n",
        "    while left>=0 and right<n and string[left]==string[right]:\n",
        "      left-=1\n",
        "      right+=1\n",
        "    odd_palindrome=string[left+1:right]\n",
        "    left=i\n",
        "    right=i+1\n",
        "    while left>=0 and right<n and string[left]==string[right]:\n",
        "      left-=1\n",
        "      right+=1\n",
        "    even_palindrome=string[left+1:right]\n",
        "    if len(odd_palindrome)>len(longest):\n",
        "      longest=odd_palindrome\n",
        "    if len(even_palindrome)>len(longest):\n",
        "      longest=even_palindrome\n",
        "  return longest\n",
        "string= input(\"Enter a string :\")\n",
        "result=largest_palindrome_string(string)\n",
        "print(result)\n",
        ""
      ],
      "metadata": {
        "colab": {
          "base_uri": "https://localhost:8080/"
        },
        "id": "V93uwnQYJfWY",
        "outputId": "28f5bec3-161d-4939-8117-974acfe68daf"
      },
      "execution_count": 32,
      "outputs": [
        {
          "output_type": "stream",
          "name": "stdout",
          "text": [
            "Enter a string :MAM LOVES ME AND ABBA\n",
            "ABBA\n"
          ]
        }
      ]
    },
    {
      "cell_type": "markdown",
      "source": [
        "## 43. Write a program to find the number of occurrences of a given element in a list.\n"
      ],
      "metadata": {
        "id": "FdpGYrgfNTp1"
      }
    },
    {
      "cell_type": "code",
      "source": [
        "def count_occurrences(lst,element):\n",
        "  count=0\n",
        "  for item in lst:\n",
        "    if item ==element:\n",
        "      count+=1\n",
        "  return count\n",
        "lst = [1, 2, 3, 4, 2, 2, 5, 2, 6]\n",
        "element = 2\n",
        "occurences=count_occurrences(lst,element)\n",
        "print(occurences)"
      ],
      "metadata": {
        "colab": {
          "base_uri": "https://localhost:8080/"
        },
        "id": "DBAxP94mnNWm",
        "outputId": "1c75c66c-e847-4fa3-c3e8-999fe974fb28"
      },
      "execution_count": 35,
      "outputs": [
        {
          "output_type": "stream",
          "name": "stdout",
          "text": [
            "4\n"
          ]
        }
      ]
    },
    {
      "cell_type": "markdown",
      "source": [
        "# 44. Implement a function to check if a given number is a perfect number.\n",
        "\n"
      ],
      "metadata": {
        "id": "4aRj7fSdOM3L"
      }
    },
    {
      "cell_type": "code",
      "source": [
        "def is_perfect_number(number):\n",
        "  if number<=0:\n",
        "    return False\n",
        "  divisor_sum=0\n",
        "  for i in range(1,number):\n",
        "    if number%i==0:\n",
        "      divisor_sum+=i\n",
        "  return divisor_sum==number\n",
        "number=int(input(\"Enter a number :\"))\n",
        "if is_perfect_number(number):\n",
        "  print(number,\"is perfect number\")\n",
        "else:\n",
        "  print(number,\"is not perfect number \")"
      ],
      "metadata": {
        "colab": {
          "base_uri": "https://localhost:8080/"
        },
        "id": "HtzI9QW2uqYL",
        "outputId": "ac9abf93-29de-401b-d0cb-b25d1f8fb317"
      },
      "execution_count": 37,
      "outputs": [
        {
          "output_type": "stream",
          "name": "stdout",
          "text": [
            "Enter a number :28\n",
            "28 is perfect number\n"
          ]
        }
      ]
    },
    {
      "cell_type": "markdown",
      "source": [
        "# 45. Write a Python program to remove all duplicates from a string."
      ],
      "metadata": {
        "id": "U9_JfbrJolHI"
      }
    },
    {
      "cell_type": "code",
      "source": [
        "def remove_duplicates(string):\n",
        "  unique_char=\"\"\n",
        "  for char in string:\n",
        "    if char not in unique_char:\n",
        "      unique_char+=char\n",
        "  return unique_char\n",
        "string=input(\"Enter a string \")\n",
        "result=remove_duplicates(string)\n",
        "print(result)\n"
      ],
      "metadata": {
        "colab": {
          "base_uri": "https://localhost:8080/"
        },
        "id": "effIhkWAzyUN",
        "outputId": "e1c5e5dc-7461-48e0-b9ad-a8fd2a963c50"
      },
      "execution_count": 40,
      "outputs": [
        {
          "output_type": "stream",
          "name": "stdout",
          "text": [
            "Enter a string munaidas\n",
            "munaids\n"
          ]
        }
      ]
    },
    {
      "cell_type": "markdown",
      "source": [
        "# 46. Implement a function to find the first missing positive"
      ],
      "metadata": {
        "id": "WEGvTaOmomF4"
      }
    },
    {
      "cell_type": "code",
      "source": [
        "def find_first_missing_positive(number):\n",
        "  positives=set(num for num in number if num>0)\n",
        "  if len(positives)==0 or 1 not in positives:\n",
        "    return 1\n",
        "  n=len(positives)\n",
        "  for i in range(1,n+1):\n",
        "    if i not in positives:\n",
        "      return i\n",
        "  return n+1\n",
        "numbers=[3,4,-1,1]\n",
        "smallest_missing=find_smallest_missing_positive(numbers)\n",
        "print(smallest_missing)"
      ],
      "metadata": {
        "colab": {
          "base_uri": "https://localhost:8080/"
        },
        "id": "dASsGnMH5FK9",
        "outputId": "d761ff4c-733c-4116-a24d-70a6cb09146a"
      },
      "execution_count": 45,
      "outputs": [
        {
          "output_type": "stream",
          "name": "stdout",
          "text": [
            "2\n"
          ]
        }
      ]
    }
  ]
}