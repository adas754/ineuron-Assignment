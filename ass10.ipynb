{
  "nbformat": 4,
  "nbformat_minor": 0,
  "metadata": {
    "colab": {
      "provenance": []
    },
    "kernelspec": {
      "name": "python3",
      "display_name": "Python 3"
    },
    "language_info": {
      "name": "python"
    }
  },
  "cells": [
    {
      "cell_type": "markdown",
      "source": [
        "# 1. Write a Python program to find sum of elements in list?"
      ],
      "metadata": {
        "id": "NSPM2DZSijKr"
      }
    },
    {
      "cell_type": "code",
      "execution_count": null,
      "metadata": {
        "colab": {
          "base_uri": "https://localhost:8080/"
        },
        "id": "TDClczgqic_b",
        "outputId": "d5548d65-e64f-493a-fb59-d85b058ec3d0"
      },
      "outputs": [
        {
          "output_type": "execute_result",
          "data": {
            "text/plain": [
              "10"
            ]
          },
          "metadata": {},
          "execution_count": 1
        }
      ],
      "source": [
        "def sum_list(lst):\n",
        "  total=0\n",
        "  for i in lst:\n",
        "    total+=i\n",
        "  return total\n",
        "lst=[1,2,3,4]\n",
        "sum_list(lst)"
      ]
    },
    {
      "cell_type": "markdown",
      "source": [
        "# 2. Write a Python program to Multiply all numbers in the list?"
      ],
      "metadata": {
        "id": "dyNty3brjjY0"
      }
    },
    {
      "cell_type": "code",
      "source": [
        "def multiply_lst(lst):\n",
        "  total=1\n",
        "  for i in lst:\n",
        "    total*=i\n",
        "  return total\n",
        "lst=[1,2,3,4]\n",
        "multiply_lst(lst)"
      ],
      "metadata": {
        "colab": {
          "base_uri": "https://localhost:8080/"
        },
        "id": "nedenvVvjoDK",
        "outputId": "20cf6d2a-530e-4088-b7c0-de36607109a5"
      },
      "execution_count": null,
      "outputs": [
        {
          "output_type": "execute_result",
          "data": {
            "text/plain": [
              "24"
            ]
          },
          "metadata": {},
          "execution_count": 4
        }
      ]
    },
    {
      "cell_type": "markdown",
      "source": [
        "# 3. Write a Python program to find smallest number in a list?"
      ],
      "metadata": {
        "id": "DNWEujnTkUOP"
      }
    },
    {
      "cell_type": "code",
      "source": [
        "def find_smallest(lst):\n",
        "  smallest=lst[0]\n",
        "  for i in lst:\n",
        "    if i <smallest:\n",
        "      smallest=i\n",
        "  return smallest\n",
        "lst=[1,2,3,4,5,-7]\n",
        "find_smallest(lst)"
      ],
      "metadata": {
        "colab": {
          "base_uri": "https://localhost:8080/"
        },
        "id": "_wtvpHNekXow",
        "outputId": "ce2c5c17-bc82-45d0-f19b-31d6079d9c6e"
      },
      "execution_count": null,
      "outputs": [
        {
          "output_type": "execute_result",
          "data": {
            "text/plain": [
              "-7"
            ]
          },
          "metadata": {},
          "execution_count": 7
        }
      ]
    },
    {
      "cell_type": "markdown",
      "source": [
        "# 4. Write a Python program to find largest number in a list?"
      ],
      "metadata": {
        "id": "vUNQau1KlL9v"
      }
    },
    {
      "cell_type": "code",
      "source": [
        "def find_largest(lst):\n",
        "  largest=lst[0]\n",
        "  for i in lst:\n",
        "    if i>largest:\n",
        "      largest=i\n",
        "  return largest\n",
        "lst=[5,8,0,89,34]\n",
        "find_largest(lst)"
      ],
      "metadata": {
        "colab": {
          "base_uri": "https://localhost:8080/"
        },
        "id": "0vlB82irlQYx",
        "outputId": "47e1951a-308d-4490-a420-bb15cfbf7587"
      },
      "execution_count": null,
      "outputs": [
        {
          "output_type": "execute_result",
          "data": {
            "text/plain": [
              "89"
            ]
          },
          "metadata": {},
          "execution_count": 9
        }
      ]
    },
    {
      "cell_type": "markdown",
      "source": [
        "# 5. Write a Python program to find second largest number in a list?"
      ],
      "metadata": {
        "id": "2SDYManxmF6n"
      }
    },
    {
      "cell_type": "code",
      "source": [
        "def find_second_largest(lst):\n",
        "  largest=lst[0]\n",
        "  second_largest=lst[0]\n",
        "  for i in lst:\n",
        "    if i >second_largest:\n",
        "      second_largest=largest\n",
        "      largest=i\n",
        "    elif i>second_largest and i!=largest:\n",
        "      second_largest=i\n",
        "  return second_largest\n",
        "lst=[13,78,90,67]\n",
        "find_second_largest(lst)"
      ],
      "metadata": {
        "colab": {
          "base_uri": "https://localhost:8080/"
        },
        "id": "Bnmq6xV0or--",
        "outputId": "029f8779-df28-4269-a22b-c4c1aacc60cf"
      },
      "execution_count": null,
      "outputs": [
        {
          "output_type": "execute_result",
          "data": {
            "text/plain": [
              "78"
            ]
          },
          "metadata": {},
          "execution_count": 12
        }
      ]
    },
    {
      "cell_type": "code",
      "source": [
        "def find_second_largest(lst):\n",
        "  largest=lst[0]\n",
        "  second_largest=lst[0]\n",
        "  for i in lst:\n",
        "    if i>second_largest:\n",
        "      second_largest=largest\n",
        "      largest=i\n",
        "    elif i>second_largest and i!=largest:\n",
        "      second_largest=i\n",
        "  return second_largest\n",
        "lst=[45,89,90]\n",
        "find_second_largest(lst)"
      ],
      "metadata": {
        "colab": {
          "base_uri": "https://localhost:8080/"
        },
        "id": "59Pirrrzqv7Q",
        "outputId": "ad2bb39d-ebfa-4f85-bfb9-fa0c82780c0b"
      },
      "execution_count": null,
      "outputs": [
        {
          "output_type": "execute_result",
          "data": {
            "text/plain": [
              "89"
            ]
          },
          "metadata": {},
          "execution_count": 1
        }
      ]
    },
    {
      "cell_type": "markdown",
      "source": [
        "# 6. Write a Python program to find N largest elements from a list?"
      ],
      "metadata": {
        "id": "FLOBZPOMqCZr"
      }
    },
    {
      "cell_type": "code",
      "source": [
        "def n_largest(n, lst):\n",
        "    largest = []\n",
        "    for i in range(n):\n",
        "        max_val = lst[0]\n",
        "        max_index = 0\n",
        "        for j in range(len(lst)):\n",
        "            if lst[j] > max_val:\n",
        "                max_val = lst[j]\n",
        "                max_index = j\n",
        "        largest.append(max_val)\n",
        "        lst.pop(max_index)\n",
        "    return largest\n",
        "\n",
        "# test the function\n",
        "lst = [1, 3, 5, 2, 4, 6, 8, 7]\n",
        "print(n_largest(3, lst)) \n"
      ],
      "metadata": {
        "id": "xJWhrnMMqISy",
        "colab": {
          "base_uri": "https://localhost:8080/"
        },
        "outputId": "bf1a04f8-8917-4059-ad18-2523e3acd799"
      },
      "execution_count": 13,
      "outputs": [
        {
          "output_type": "stream",
          "name": "stdout",
          "text": [
            "[8, 7, 6]\n"
          ]
        }
      ]
    },
    {
      "cell_type": "code",
      "source": [
        "def n_largest(n,list):\n",
        "  largest_elements=[]\n",
        "  for i in range(len(list)):\n",
        "    if len(largest_elements)<n:\n",
        "      largest_elements.append(lst[i])\n",
        "    else:\n",
        "      min_elements=min(largest_elements)\n",
        "      if lst[i]>min_elements:\n",
        "        largest_elements.remove(min_elements)\n",
        "        largest_elements.append(lst[i])\n",
        "  return largest_elements\n",
        "lst = [1, 3, 5, 2, 4, 6, 8, 7]\n",
        "print(n_largest(3, lst)) "
      ],
      "metadata": {
        "colab": {
          "base_uri": "https://localhost:8080/"
        },
        "id": "m_IoC7yUD7pN",
        "outputId": "e9fea1e0-c09b-46b7-ffd5-1f096e041b4d"
      },
      "execution_count": 18,
      "outputs": [
        {
          "output_type": "stream",
          "name": "stdout",
          "text": [
            "[6, 8, 7]\n"
          ]
        }
      ]
    },
    {
      "cell_type": "markdown",
      "source": [
        "# 7. Write a Python program to print even numbers in a list?"
      ],
      "metadata": {
        "id": "YN-YkY7cJUSP"
      }
    },
    {
      "cell_type": "code",
      "source": [
        "def print_even(lst):\n",
        "  for num in lst:\n",
        "    if num%2==0:\n",
        "      print(num)\n",
        "lst=[1,4,8,9,6,3]\n",
        "print_even(lst)"
      ],
      "metadata": {
        "colab": {
          "base_uri": "https://localhost:8080/"
        },
        "id": "rcGKytmnJWpS",
        "outputId": "e7f15aa9-97c3-4440-865a-f40cbc7f8bb2"
      },
      "execution_count": 19,
      "outputs": [
        {
          "output_type": "stream",
          "name": "stdout",
          "text": [
            "4\n",
            "8\n",
            "6\n"
          ]
        }
      ]
    },
    {
      "cell_type": "markdown",
      "source": [
        "# 8. Write a Python program to print odd numbers in a List?"
      ],
      "metadata": {
        "id": "4k-E2YX5J7Gh"
      }
    },
    {
      "cell_type": "code",
      "source": [
        "def odd_lst(lst):\n",
        "  for num in lst:\n",
        "    if num%2!=0:\n",
        "      print (num)\n",
        "lst=[1,4,8,9,6,3]\n",
        "odd_lst(lst)\n"
      ],
      "metadata": {
        "colab": {
          "base_uri": "https://localhost:8080/"
        },
        "id": "ThFKxnFzKDKq",
        "outputId": "4198e863-585f-4736-8145-8a7e2c6403ab"
      },
      "execution_count": 23,
      "outputs": [
        {
          "output_type": "stream",
          "name": "stdout",
          "text": [
            "1\n",
            "9\n",
            "3\n"
          ]
        }
      ]
    },
    {
      "cell_type": "markdown",
      "source": [
        "# 9. Write a Python program to Remove empty List from List?"
      ],
      "metadata": {
        "id": "xdAFREQlKxd_"
      }
    },
    {
      "cell_type": "code",
      "source": [
        "def new_remove(lst):\n",
        "  return[x for x in lst if x]\n",
        "lst = [[], [1, 2], [], [3, 4], [], [5, 6], []]\n",
        "print(new_remove(lst))\n"
      ],
      "metadata": {
        "colab": {
          "base_uri": "https://localhost:8080/"
        },
        "id": "X3E0MKbeKz0M",
        "outputId": "f6a2c67c-45d5-46e8-df15-1e69c8068e00"
      },
      "execution_count": 24,
      "outputs": [
        {
          "output_type": "stream",
          "name": "stdout",
          "text": [
            "[[1, 2], [3, 4], [5, 6]]\n"
          ]
        }
      ]
    },
    {
      "cell_type": "markdown",
      "source": [
        "# 10. Write a Python program to Cloning or Copying a list?"
      ],
      "metadata": {
        "id": "R8rtlsNQLu6p"
      }
    },
    {
      "cell_type": "code",
      "source": [
        "def copy_list(original_list):\n",
        "  new_list=original_list[:]\n",
        "  return new_list\n",
        "original_list=[1,8,9,7]\n",
        "new_list=copy_list(original_list)\n",
        "print(new_list)"
      ],
      "metadata": {
        "colab": {
          "base_uri": "https://localhost:8080/"
        },
        "id": "4aa1Mnu7L05g",
        "outputId": "1ede86fa-2927-4a25-a32c-7c35dceae02f"
      },
      "execution_count": 25,
      "outputs": [
        {
          "output_type": "stream",
          "name": "stdout",
          "text": [
            "[1, 8, 9, 7]\n"
          ]
        }
      ]
    },
    {
      "cell_type": "markdown",
      "source": [
        "# 11. Write a Python program to Count occurrences of an element in a list?"
      ],
      "metadata": {
        "id": "Vg1mWIuBNtc3"
      }
    },
    {
      "cell_type": "code",
      "source": [
        "def count_occurance(lst,x):\n",
        "  count=0\n",
        "  for i in lst:\n",
        "    if i==x:\n",
        "      count+=1\n",
        "  return count\n",
        "numbers = [1, 2, 3, 4, 5, 1, 2, 3, 4, 5, 1, 2, 3, 4, 5]\n",
        "x = 2\n",
        "occurrences = count_occurrences(numbers, x)\n",
        "print(occurrences) "
      ],
      "metadata": {
        "colab": {
          "base_uri": "https://localhost:8080/"
        },
        "id": "YuFE9DKtPn22",
        "outputId": "8bedea4d-7b6c-4d36-ae8d-ac78df4d450f"
      },
      "execution_count": 35,
      "outputs": [
        {
          "output_type": "stream",
          "name": "stdout",
          "text": [
            "3\n"
          ]
        }
      ]
    }
  ]
}