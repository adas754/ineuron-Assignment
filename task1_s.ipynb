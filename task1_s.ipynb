{
  "nbformat": 4,
  "nbformat_minor": 0,
  "metadata": {
    "colab": {
      "name": "task1 s.ipynb",
      "provenance": []
    },
    "kernelspec": {
      "name": "python3",
      "display_name": "Python 3"
    },
    "language_info": {
      "name": "python"
    }
  },
  "cells": [
    {
      "cell_type": "code",
      "execution_count": 11,
      "metadata": {
        "id": "oSd8UEt2YZjP"
      },
      "outputs": [],
      "source": [
        "logging.basicConfig(filename=\"examplelog.log\",level=logging.DEBUG,format='%(asctime)s %(levelname)s %(message)s')"
      ]
    },
    {
      "cell_type": "code",
      "source": [
        "import logging"
      ],
      "metadata": {
        "id": "sZ7SewIzYe21"
      },
      "execution_count": 12,
      "outputs": []
    },
    {
      "cell_type": "code",
      "source": [
        "class ReadText():\n",
        "\n",
        "    def __init__(self, filename, init_content):\n",
        " \n",
        "        logging.info(\" New object was initiated \")\n",
        "        self.filename = filename\n",
        "        self.init_content = init_content\n",
        "        try:\n",
        "            with open(self.filename, \"w\") as file:\n",
        "                file.write(self.init_content)\n",
        "        except Exception as err:\n",
        "            logging.exception(f\"Exception occurred during object initiation. Error: {err}\")\n",
        "\n",
        "    def readFile(self):\n",
        "    \n",
        "        try:\n",
        "            logging.info(f\"File read operation executed for file: {self.filename}\")\n",
        "            with open(self.filename, \"r\") as file:\n",
        "                data = file.read()\n",
        "        except Exception as err:\n",
        "            logging.exception(f\"Exception occurred while reading the file. Error: {err}\")\n",
        "\n",
        "        return data\n",
        "\n",
        "    def updateFile(self, old_str, new_str):\n",
        "    \n",
        "        try:\n",
        "            logging.info(f\"File update operation executed for the file: {self.filename}\")\n",
        "            with open(self.filename, \"r+\") as file:\n",
        "                data = file.read()\n",
        "                new_data = data.replace(old_str, new_str)\n",
        "                file.seek(0)\n",
        "                file.write(new_data)\n",
        "        except Exception as err:\n",
        "            logging.exception(f\"Exception occurred while replacing file content/updating the file. Error: {err}\")\n",
        "\n",
        "if __name__ == '__main__':\n",
        "    logging.info(\" Application started \")\n",
        "    file1 = ReadText(\"example.txt\", \"This is a placement assignment\")\n",
        "    print(\"Before replace:\", file1.readFile())\n",
        "    file1.updateFile(\"placement\", \"screening\")\n",
        "    print(\"After replacing:\", file1.readFile())\n",
        "    logging.info(\" End of Application process \")"
      ],
      "metadata": {
        "colab": {
          "base_uri": "https://localhost:8080/"
        },
        "id": "1FUDSIWfazO6",
        "outputId": "3858d01d-2803-4543-8e28-f022e70487ae"
      },
      "execution_count": 13,
      "outputs": [
        {
          "output_type": "stream",
          "name": "stdout",
          "text": [
            "Before replace: This is a placement assignment\n",
            "After replacing: This is a screening assignment\n"
          ]
        }
      ]
    }
  ]
}