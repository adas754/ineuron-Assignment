{
  "nbformat": 4,
  "nbformat_minor": 0,
  "metadata": {
    "colab": {
      "provenance": []
    },
    "kernelspec": {
      "name": "python3",
      "display_name": "Python 3"
    },
    "language_info": {
      "name": "python"
    }
  },
  "cells": [
    {
      "cell_type": "markdown",
      "source": [
        "# 1. Write four functions that directly mutate a list:\n",
        "\n",
        "#    1. repeat(lst, n): Repeat lst n times.\n",
        "#    2. add(lst, x): Adds x to the end of the lst.\n",
        "#    3. remove(lst, m, n): Removes all elements between indices m and n inclusive in lst.\n",
        "#    4. concat(lst, x): concatenates lst with x (another list).\n",
        "\n",
        "# Examples\n",
        "\n",
        "# lst = [1, 2, 3, 4]\n",
        "\n",
        "# repeat(lst, 3) ➞ [1, 2, 3, 4, 1, 2, 3, 4, 1, 2, 3, 4] \n",
        "\n",
        "# add(lst, 1) ➞ [1, 2, 3, 4, 1, 2, 3, 4, 1, 2, 3, 4, 1]\n",
        "\n",
        "# remove(lst, 1, 12) ➞ [1]\n",
        "\n",
        "# concat(lst, [3, 4]) ➞ [1, 3, 4]\n"
      ],
      "metadata": {
        "id": "SMX3WSe4dU4a"
      }
    },
    {
      "cell_type": "code",
      "execution_count": null,
      "metadata": {
        "id": "yjXInfobtWE7",
        "colab": {
          "base_uri": "https://localhost:8080/"
        },
        "outputId": "b935064f-5821-472c-849d-c3d632ed8e96"
      },
      "outputs": [
        {
          "output_type": "stream",
          "name": "stdout",
          "text": [
            "repeat(3) ➞ [1, 2, 3, 4, 1, 2, 3, 4, 1, 2, 3, 4]\n",
            "add(1) ➞ [1, 2, 3, 4, 1, 2, 3, 4, 1, 2, 3, 4, 1]\n",
            "remove(lst, 1, 12) ➞ [1]\n",
            "concat([3, 4]) ➞ [1, 3, 4]\n"
          ]
        }
      ],
      "source": [
        "lst=[1,2,3,4]\n",
        "def repeat(in_num):\n",
        "    global lst\n",
        "    lst=lst*in_num\n",
        "    return lst\n",
        "def add(in_num):\n",
        "    global lst\n",
        "    lst.append(in_num)\n",
        "    return lst\n",
        "def remove(start,end):\n",
        "    global lst\n",
        "    for ele in lst[start:end+1]:\n",
        "        lst.remove(ele)\n",
        "    return lst\n",
        "def concat(in_list):\n",
        "    global lst\n",
        "    lst=lst+in_list\n",
        "    return lst\n",
        "\n",
        "\n",
        "print(f'repeat(3) ➞ {repeat(3)}')\n",
        "print(f'add(1) ➞ {add(1)}')\n",
        "print(f'remove(lst, 1, 12) ➞ {remove(1,12)}')\n",
        "print(f'concat([3, 4]) ➞ {concat([3, 4])}')"
      ]
    },
    {
      "cell_type": "markdown",
      "source": [
        "# 2. The classic game of Mastermind is played on a tray on which the Mastermind conceals a code and the Guesser has 10 tries to guess it. The code is a sequence of 4 (or 6, sometimes more) pegs of different colors. Each guess is a corresponding sequence of 4 (or more) pegs of different colors. A guess is \"correct\" when the color of every peg in the guess exactly matches the corresponding peg in the Mastermind's code.\n",
        "\n",
        "# After each guess by the Guesser, the Mastermind will give a score comprising black & white pegs, not arranged in any order:\n",
        "\n",
        "#   - Black peg == guess peg matches the color of a code peg in the same position.\n",
        "#   - White peg == guess peg matches the color of a code peg in another position.\n",
        "\n",
        "# Create a function that takes two strings, code and guess as arguments, and returns the score in a dictionary.\n",
        "\n",
        "#   - The code and guess are strings of numeric digits\n",
        "#   - The color of the pegs are represented by numeric digits\n",
        "#   - no \"peg\" may be double-scored\n",
        "\n",
        "Examples\n",
        "\n",
        "# guess_score(\"1423\", \"5678\") ➞ {\"black\": 0, \"white\": 0}\n",
        "\n",
        "# guess_score(\"1423\", \"2222\") ➞ {\"black\": 1, \"white\": 0}\n",
        "\n",
        "# guess_score(\"1423\", \"1234\") ➞ {\"black\": 1, \"white\": 3}\n",
        "\n",
        "# guess_score(\"1423\", \"2211\") ➞ {\"black\": 0, \"white\": 2}\n"
      ],
      "metadata": {
        "id": "K6UwZ5y7mgWh"
      }
    },
    {
      "cell_type": "code",
      "source": [
        "def guess_Score(code,guess):\n",
        "    output={'black':0,'white':0}\n",
        "    for ele in range(len(code)):\n",
        "        if code[ele]==guess[ele]:\n",
        "          output['black']+=1\n",
        "        elif code[ele] in guess and ele!=guess.index(code[ele]):\n",
        "          output['white']+=1\n",
        "    print(f'guess_score{code,guess}->{output}')"
      ],
      "metadata": {
        "id": "TXwONCs1nJBJ"
      },
      "execution_count": null,
      "outputs": []
    },
    {
      "cell_type": "code",
      "source": [
        "guess_Score(\"1423\", \"5678\") \n",
        "guess_Score(\"1423\", \"2222\")\n",
        "guess_Score(\"1423\", \"1234\")\n",
        "guess_Score(\"1423\", \"2211\")"
      ],
      "metadata": {
        "colab": {
          "base_uri": "https://localhost:8080/"
        },
        "id": "78IRLhcDIUEb",
        "outputId": "62099cda-5445-4fee-d44e-8b1ed0ab01f2"
      },
      "execution_count": null,
      "outputs": [
        {
          "output_type": "stream",
          "name": "stdout",
          "text": [
            "guess_score('1423', '5678')->{'black': 0, 'white': 0}\n",
            "guess_score('1423', '2222')->{'black': 1, 'white': 0}\n",
            "guess_score('1423', '1234')->{'black': 1, 'white': 3}\n",
            "guess_score('1423', '2211')->{'black': 0, 'white': 2}\n"
          ]
        }
      ]
    },
    {
      "cell_type": "markdown",
      "source": [
        "# 3. Create a function that takes a list lst and a number N and returns a list of two integers from lst whose product equals N.\n",
        "\n",
        "# Examples\n",
        "\n",
        "# two_product([1, 2, -1, 4, 5], 20) ➞ [4, 5]\n",
        "\n",
        "# two_product([1, 2, 3, 4, 5], 10) ➞ [2, 5]\n",
        "\n",
        "# two_product([100, 12, 4, 1, 2], 15) ➞ None\n"
      ],
      "metadata": {
        "id": "rMr8hfmsKk5j"
      }
    },
    {
      "cell_type": "code",
      "source": [
        "def two_product(in_list,in_num):\n",
        "    output=None\n",
        "    for num_1 in in_list:\n",
        "        for num_2 in in_list:\n",
        "            if num_1*num_2==in_num:\n",
        "              output=sorted([num_1,num_2])\n",
        "              break\n",
        "    print(f'two_product({in_list})->{output}')\n",
        "two_product([1, 2, -1, 4, 5], 20)\n",
        "two_product([1, 2, 3, 4, 5], 10)\n",
        "two_product([100, 12, 4, 1, 2], 15)"
      ],
      "metadata": {
        "colab": {
          "base_uri": "https://localhost:8080/"
        },
        "id": "NmIwd3pTKw6P",
        "outputId": "9c6d7001-ebe2-41a1-94ed-aac557c6d726"
      },
      "execution_count": null,
      "outputs": [
        {
          "output_type": "stream",
          "name": "stdout",
          "text": [
            "two_product([1, 2, -1, 4, 5])->[4, 5]\n",
            "two_product([1, 2, 3, 4, 5])->[2, 5]\n",
            "two_product([100, 12, 4, 1, 2])->None\n"
          ]
        }
      ]
    },
    {
      "cell_type": "markdown",
      "source": [
        "# 4. In this challenge, sort a list containing a series of dates given as strings. Each date is given in the format DD-MM-YYYY_HH:MM:\n",
        "\n",
        "\"12-02-2012_13:44\"\n",
        "\n",
        "# The priority of criteria used for sorting will be:\n",
        "\n",
        "  - Year\n",
        "  - Month\n",
        "  - Day\n",
        "  - Hours\n",
        "  - Minutes\n",
        "\n",
        "# Given a list lst and a string mode, implement a function that returns:\n",
        "\n",
        "#   - if mode is equal to \"ASC\", the list lst sorted in ascending order.\n",
        "#   - if mode is equal to \"DSC\", the list lst sorted in descending order.\n",
        "\n",
        "# Examples\n",
        "\n",
        "# sort_dates([\"10-02-2018_12:30\", \"10-02-2016_12:30\", \"10-02-2018_12:15\"], \"ASC\") ➞ [\"10-02-2016_12:30\", \"10-02-2018_12:15\", \"10-02-2018_12:30\"]\n",
        "\n",
        "# sort_dates([\"10-02-2018_12:30\", \"10-02-2016_12:30\", \"10-02-2018_12:15\"], \"DSC\") ➞ [\"10-02-2018_12:30\", \"10-02-2018_12:15\", \"10-02-2016_12:30\"]\n",
        "\n",
        "# sort_dates([\"09-02-2000_10:03\", \"10-02-2000_18:29\", \"01-01-1999_00:55\"], \"ASC\") ➞ [\"01-01-1999_00:55\", \"09-02-2000_10:03\", \"10-02-2000_18:29\"]\n"
      ],
      "metadata": {
        "id": "1o4Kn2PxPfFV"
      }
    },
    {
      "cell_type": "code",
      "source": [
        "from datetime import datetime\n",
        "def sort_dates(in_list,sort_by):\n",
        "    in_list_clone = in_list.copy()\n",
        "    in_list_unix = []\n",
        "    for ele in in_list:\n",
        "        in_list_unix.append(datetime.strptime(ele, \"%d-%m-%Y_%H:%M\").timestamp())\n",
        "    in_list_unix = sorted(in_list_unix) if sort_by == 'ASC' else sorted(in_list_unix, reverse=True)\n",
        "    output = []\n",
        "    for ele in in_list_unix:\n",
        "        output.append(datetime.fromtimestamp(ele).strftime(\"%d-%m-%Y_%H:%M\"))\n",
        "    print(f'sort_dates{in_list,sort_by}➞ {output}')\n",
        "\n",
        "sort_dates([\"10-02-2018_12:30\", \"10-02-2016_12:30\", \"10-02-2018_12:15\"], \"ASC\")\n",
        "sort_dates([\"10-02-2018_12:30\", \"10-02-2016_12:30\", \"10-02-2018_12:15\"], \"DSC\")\n",
        "sort_dates([\"09-02-2000_10:03\", \"10-02-2000_18:29\", \"01-01-1999_00:55\"], \"ASC\")\n"
      ],
      "metadata": {
        "id": "nmDx8rgtP-Da",
        "colab": {
          "base_uri": "https://localhost:8080/"
        },
        "outputId": "93b52997-fa9b-4212-db5c-65d81cfa0d9b"
      },
      "execution_count": 15,
      "outputs": [
        {
          "output_type": "stream",
          "name": "stdout",
          "text": [
            "sort_dates(['10-02-2018_12:30', '10-02-2016_12:30', '10-02-2018_12:15'], 'ASC')➞ ['10-02-2016_12:30', '10-02-2018_12:15', '10-02-2018_12:30']\n",
            "sort_dates(['10-02-2018_12:30', '10-02-2016_12:30', '10-02-2018_12:15'], 'DSC')➞ ['10-02-2018_12:30', '10-02-2018_12:15', '10-02-2016_12:30']\n",
            "sort_dates(['09-02-2000_10:03', '10-02-2000_18:29', '01-01-1999_00:55'], 'ASC')➞ ['01-01-1999_00:55', '09-02-2000_10:03', '10-02-2000_18:29']\n"
          ]
        }
      ]
    },
    {
      "cell_type": "markdown",
      "source": [
        "# 5. Write a function that selects all words that have all the same vowels (in any order and/or number) as the first word, including the first word.\n",
        "\n",
        "# Examples\n",
        "\n",
        "# same_vowel_group([\"toe\", \"ocelot\", \"maniac\"]) ➞ [\"toe\", \"ocelot\"]\n",
        "\n",
        "# same_vowel_group([\"many\", \"carriage\", \"emit\", \"apricot\", \"animal\"]) ➞ [\"many\",\"carriage\", \"emit\", \"apricot\", \"animal\"]\n",
        "\n",
        "# same_vowel_group([\"hoops\", \"chuff\", \"bot\", \"bottom\"]) ➞ [\"hoops\", \"bot\", \"bottom\"]\n",
        "\n"
      ],
      "metadata": {
        "id": "uD-1angDbfoi"
      }
    },
    {
      "cell_type": "code",
      "source": [
        "def same_vowel_group(in_list):\n",
        "  vowels=['a','e','i','o','u']\n",
        "  first_ele=sorted(set([x for x in in_list[0] if x in vowels]))\n",
        "  output=[]\n",
        "  for ele in range(0,len(in_list)):\n",
        "      vowels_in_word=[x for x in in_list[ele] if x in first_ele]\n",
        "      if sorted(first_ele)==sorted(set(vowels_in_word)):\n",
        "        output.append(in_list[ele])\n",
        "  print(f'same_vowel_group({in_list})->{output}')"
      ],
      "metadata": {
        "id": "Jj0b_k16b-fG"
      },
      "execution_count": 16,
      "outputs": []
    },
    {
      "cell_type": "code",
      "source": [
        "same_vowel_group([\"toe\", \"ocelot\", \"maniac\"])\n",
        "same_vowel_group([\"many\", \"carriage\", \"emit\", \"apricot\", \"animal\"])\n",
        "same_vowel_group([\"hoops\", \"chuff\", \"bot\", \"bottom\"]) "
      ],
      "metadata": {
        "colab": {
          "base_uri": "https://localhost:8080/"
        },
        "id": "P7Q4couZih8o",
        "outputId": "e474ea99-bb97-4bae-a5dd-260e064563db"
      },
      "execution_count": 19,
      "outputs": [
        {
          "output_type": "stream",
          "name": "stdout",
          "text": [
            "same_vowel_group(['toe', 'ocelot', 'maniac'])->['toe', 'ocelot']\n",
            "same_vowel_group(['many', 'carriage', 'emit', 'apricot', 'animal'])->['many', 'carriage', 'apricot', 'animal']\n",
            "same_vowel_group(['hoops', 'chuff', 'bot', 'bottom'])->['hoops', 'bot', 'bottom']\n"
          ]
        }
      ]
    },
    {
      "cell_type": "markdown",
      "source": [
        "# 6. Create a function that takes a list of more than three numbers and returns the Least Common Multiple (LCM).\n",
        "\n",
        "# Examples\n",
        "\n",
        "# lcm_of_list([1, 2, 3, 4, 5, 6, 7, 8, 9, 10]) ➞ 2520\n",
        "\n",
        "# lcm_of_list([13, 6, 17, 18, 19, 20, 37]) ➞ 27965340\n",
        "\n",
        "# lcm_of_list([44, 64, 12, 17, 65]) ➞ 2333760\n"
      ],
      "metadata": {
        "id": "Lb5VyQ9ujEEU"
      }
    },
    {
      "cell_type": "code",
      "source": [
        "import math\n",
        "def lcm_of_list(in_list):\n",
        "  output=in_list[0]\n",
        "  for ele in range(1,len(in_list)):\n",
        "    output=(output*in_list[ele])//math.gcd(output,in_list[ele])\n",
        "  print(f'lcm_of_list({in_list})->{output}')\n",
        "lcm_of_list([1, 2, 3, 4, 5, 6, 7, 8, 9, 10])\n",
        "lcm_of_list([13, 6, 17, 18, 19, 20, 37]) \n",
        "lcm_of_list([44, 64, 12, 17, 65])"
      ],
      "metadata": {
        "colab": {
          "base_uri": "https://localhost:8080/"
        },
        "id": "2vNGwpeGjNJg",
        "outputId": "59e09827-b778-4b88-ad35-54786fa24b40"
      },
      "execution_count": 21,
      "outputs": [
        {
          "output_type": "stream",
          "name": "stdout",
          "text": [
            "lcm_of_list([1, 2, 3, 4, 5, 6, 7, 8, 9, 10])->2520\n",
            "lcm_of_list([13, 6, 17, 18, 19, 20, 37])->27965340\n",
            "lcm_of_list([44, 64, 12, 17, 65])->2333760\n"
          ]
        }
      ]
    }
  ]
}