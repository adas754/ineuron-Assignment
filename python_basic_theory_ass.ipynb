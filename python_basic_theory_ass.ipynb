{
  "nbformat": 4,
  "nbformat_minor": 0,
  "metadata": {
    "colab": {
      "name": "python basic theory ass.ipynb",
      "provenance": [],
      "collapsed_sections": []
    },
    "kernelspec": {
      "name": "python3",
      "display_name": "Python 3"
    },
    "language_info": {
      "name": "python"
    }
  },
  "cells": [
    {
      "cell_type": "markdown",
      "source": [
        "1. What exactly is []?"
      ],
      "metadata": {
        "id": "zdYgNMGxaHjd"
      }
    },
    {
      "cell_type": "code",
      "source": [
        "l=[]\n",
        "print(type(l))"
      ],
      "metadata": {
        "colab": {
          "base_uri": "https://localhost:8080/"
        },
        "id": "f8iVFwInaNJl",
        "outputId": "3446172b-94a5-448e-864c-4355bc2370c8"
      },
      "execution_count": 2,
      "outputs": [
        {
          "output_type": "stream",
          "name": "stdout",
          "text": [
            "<class 'list'>\n"
          ]
        }
      ]
    },
    {
      "cell_type": "markdown",
      "source": [
        "list contain no element"
      ],
      "metadata": {
        "id": "yqbFbHn4aZel"
      }
    },
    {
      "cell_type": "markdown",
      "source": [
        "2. In a list of values stored in a variable called spam, how would you assign the value 'hello' as the\n",
        "third value? (Assume [2, 4, 6, 8, 10] are in spam.)"
      ],
      "metadata": {
        "id": "mTRu8HCWaeDm"
      }
    },
    {
      "cell_type": "code",
      "source": [
        "spam=[2,4,6,8,10]"
      ],
      "metadata": {
        "id": "7JZCMyBQa6mr"
      },
      "execution_count": 4,
      "outputs": []
    },
    {
      "cell_type": "code",
      "source": [
        "print(spam)"
      ],
      "metadata": {
        "colab": {
          "base_uri": "https://localhost:8080/"
        },
        "id": "tD96s6hZbKlQ",
        "outputId": "aec3e99a-c7fb-487b-d3ce-6bcde9f42cb7"
      },
      "execution_count": 5,
      "outputs": [
        {
          "output_type": "stream",
          "name": "stdout",
          "text": [
            "[2, 4, 6, 8, 10]\n"
          ]
        }
      ]
    },
    {
      "cell_type": "code",
      "source": [
        "spam[2]=\"hello\""
      ],
      "metadata": {
        "id": "VkFvPkb2bRP-"
      },
      "execution_count": 6,
      "outputs": []
    },
    {
      "cell_type": "code",
      "source": [
        "print(spam)"
      ],
      "metadata": {
        "colab": {
          "base_uri": "https://localhost:8080/"
        },
        "id": "yGVSOK4_bYEG",
        "outputId": "5f8e5db5-f795-49af-9305-5d5e8d78d52b"
      },
      "execution_count": 7,
      "outputs": [
        {
          "output_type": "stream",
          "name": "stdout",
          "text": [
            "[2, 4, 'hello', 8, 10]\n"
          ]
        }
      ]
    },
    {
      "cell_type": "markdown",
      "source": [
        "3.Let's pretend the spam includes the list ['a','b','c','d'] for the next three queries.\n",
        " What is the value of spam[int(int('3' * 2) / 11)]?"
      ],
      "metadata": {
        "id": "X9cUOqC-beN0"
      }
    },
    {
      "cell_type": "code",
      "source": [
        "spam=[\"a\",\"b\",\"c\",\"d\"]"
      ],
      "metadata": {
        "id": "9zL1QwNQcUZo"
      },
      "execution_count": 8,
      "outputs": []
    },
    {
      "cell_type": "code",
      "source": [
        "spam[int(int('3' * 2) / 11)]"
      ],
      "metadata": {
        "colab": {
          "base_uri": "https://localhost:8080/",
          "height": 36
        },
        "id": "xRu-8LHLbuvp",
        "outputId": "d0b3106d-ebdc-41d3-d4d6-974ca7266348"
      },
      "execution_count": 11,
      "outputs": [
        {
          "output_type": "execute_result",
          "data": {
            "text/plain": [
              "'d'"
            ],
            "application/vnd.google.colaboratory.intrinsic+json": {
              "type": "string"
            }
          },
          "metadata": {},
          "execution_count": 11
        }
      ]
    },
    {
      "cell_type": "markdown",
      "source": [
        "4. What is the value of spam[-1]?"
      ],
      "metadata": {
        "id": "4i_4tdBsc9Nc"
      }
    },
    {
      "cell_type": "code",
      "source": [
        "spam[-1]"
      ],
      "metadata": {
        "colab": {
          "base_uri": "https://localhost:8080/",
          "height": 36
        },
        "id": "oZLD32AQdFEg",
        "outputId": "42142fe7-54f2-45ff-cfb8-2a4f4c872a06"
      },
      "execution_count": 12,
      "outputs": [
        {
          "output_type": "execute_result",
          "data": {
            "text/plain": [
              "'d'"
            ],
            "application/vnd.google.colaboratory.intrinsic+json": {
              "type": "string"
            }
          },
          "metadata": {},
          "execution_count": 12
        }
      ]
    },
    {
      "cell_type": "markdown",
      "source": [
        "5. What is the value of spam[:2]?"
      ],
      "metadata": {
        "id": "HH81H72qdH-6"
      }
    },
    {
      "cell_type": "code",
      "source": [
        "spam[:2]"
      ],
      "metadata": {
        "colab": {
          "base_uri": "https://localhost:8080/"
        },
        "id": "VU2iNhGTdcA6",
        "outputId": "54ba1ec5-e273-4f9c-ad39-7e6d8ab0d2ff"
      },
      "execution_count": 13,
      "outputs": [
        {
          "output_type": "execute_result",
          "data": {
            "text/plain": [
              "['a', 'b']"
            ]
          },
          "metadata": {},
          "execution_count": 13
        }
      ]
    },
    {
      "cell_type": "markdown",
      "source": [
        "6.Let's pretend bacon has the list [3.14, 'cat', 11, 'cat',' True'] for the next three questions.\n",
        " What is the value of bacon.index('cat')?"
      ],
      "metadata": {
        "id": "b_oyFkxodiaT"
      }
    },
    {
      "cell_type": "code",
      "source": [
        "bacon=[3.14, 'cat', 11, 'cat','True']"
      ],
      "metadata": {
        "id": "9ZVUvm8DjN2V"
      },
      "execution_count": 14,
      "outputs": []
    },
    {
      "cell_type": "code",
      "source": [
        "bacon[3]"
      ],
      "metadata": {
        "colab": {
          "base_uri": "https://localhost:8080/",
          "height": 36
        },
        "id": "36pJ4gpbmRN6",
        "outputId": "52a394d4-0d8b-4457-cb9a-e9765238b751"
      },
      "execution_count": 17,
      "outputs": [
        {
          "output_type": "execute_result",
          "data": {
            "text/plain": [
              "'cat'"
            ],
            "application/vnd.google.colaboratory.intrinsic+json": {
              "type": "string"
            }
          },
          "metadata": {},
          "execution_count": 17
        }
      ]
    },
    {
      "cell_type": "code",
      "source": [
        "bacon[1]"
      ],
      "metadata": {
        "colab": {
          "base_uri": "https://localhost:8080/",
          "height": 36
        },
        "id": "8edTG7CNnJfs",
        "outputId": "02e06651-783a-4602-a0e4-4e73a0f25790"
      },
      "execution_count": 18,
      "outputs": [
        {
          "output_type": "execute_result",
          "data": {
            "text/plain": [
              "'cat'"
            ],
            "application/vnd.google.colaboratory.intrinsic+json": {
              "type": "string"
            }
          },
          "metadata": {},
          "execution_count": 18
        }
      ]
    },
    {
      "cell_type": "markdown",
      "source": [
        "7. How does bacon.append(99) change the look of the list value in bacon?"
      ],
      "metadata": {
        "id": "Ki3A73vLnqON"
      }
    },
    {
      "cell_type": "code",
      "source": [
        "bacon.append(99)"
      ],
      "metadata": {
        "id": "MVbzLGCgnsme"
      },
      "execution_count": 19,
      "outputs": []
    },
    {
      "cell_type": "code",
      "source": [
        "bacon"
      ],
      "metadata": {
        "colab": {
          "base_uri": "https://localhost:8080/"
        },
        "id": "HMyWd-tnnw72",
        "outputId": "cec0cf34-9fa5-4c6e-8b89-ac3bdf119698"
      },
      "execution_count": 20,
      "outputs": [
        {
          "output_type": "execute_result",
          "data": {
            "text/plain": [
              "[3.14, 'cat', 11, 'cat', 'True', 99]"
            ]
          },
          "metadata": {},
          "execution_count": 20
        }
      ]
    },
    {
      "cell_type": "markdown",
      "source": [
        "8. How does bacon.remove('cat') change the look of the list in bacon?"
      ],
      "metadata": {
        "id": "vA9ivtkQn03d"
      }
    },
    {
      "cell_type": "code",
      "source": [
        "bacon.remove('cat')"
      ],
      "metadata": {
        "id": "QZ6bmuV2n-3A"
      },
      "execution_count": 21,
      "outputs": []
    },
    {
      "cell_type": "code",
      "source": [
        "bacon"
      ],
      "metadata": {
        "colab": {
          "base_uri": "https://localhost:8080/"
        },
        "id": "nHy7IjBhqXAy",
        "outputId": "b6fd0f93-9d06-480a-9ac5-a3da864450c7"
      },
      "execution_count": 22,
      "outputs": [
        {
          "output_type": "execute_result",
          "data": {
            "text/plain": [
              "[3.14, 11, 'cat', 'True', 99]"
            ]
          },
          "metadata": {},
          "execution_count": 22
        }
      ]
    },
    {
      "cell_type": "markdown",
      "source": [
        "9.What are the list concatenation and list replication operators?"
      ],
      "metadata": {
        "id": "l47cTToqsdpO"
      }
    },
    {
      "cell_type": "code",
      "source": [
        "l1=[1,2,4,6] #concatenation\n",
        "l2=[9,8,7,5]\n",
        "l1+l2"
      ],
      "metadata": {
        "colab": {
          "base_uri": "https://localhost:8080/"
        },
        "id": "TbKmAqs0sio3",
        "outputId": "8f7a52d6-c62e-4278-9a5c-77f3479dba4d"
      },
      "execution_count": 47,
      "outputs": [
        {
          "output_type": "execute_result",
          "data": {
            "text/plain": [
              "[1, 2, 4, 6, 9, 8, 7, 5]"
            ]
          },
          "metadata": {},
          "execution_count": 47
        }
      ]
    },
    {
      "cell_type": "code",
      "source": [
        "l1*2 #replication"
      ],
      "metadata": {
        "colab": {
          "base_uri": "https://localhost:8080/"
        },
        "id": "X8v1HmH1s07f",
        "outputId": "07c454a8-5ae1-4e3f-d444-bdf528c55758"
      },
      "execution_count": 27,
      "outputs": [
        {
          "output_type": "execute_result",
          "data": {
            "text/plain": [
              "[1, 2, 4, 6, 1, 2, 4, 6]"
            ]
          },
          "metadata": {},
          "execution_count": 27
        }
      ]
    },
    {
      "cell_type": "markdown",
      "source": [
        "10. What is difference between the list methods append() and insert()?"
      ],
      "metadata": {
        "id": "3rqNSLxLt4gD"
      }
    },
    {
      "cell_type": "code",
      "source": [
        "l1=[1,7,8,9]"
      ],
      "metadata": {
        "id": "npaPBax1uavc"
      },
      "execution_count": 32,
      "outputs": []
    },
    {
      "cell_type": "code",
      "source": [
        "l1.append(12)"
      ],
      "metadata": {
        "id": "F6f3IABaudlq"
      },
      "execution_count": 33,
      "outputs": []
    },
    {
      "cell_type": "code",
      "source": [
        "l1"
      ],
      "metadata": {
        "colab": {
          "base_uri": "https://localhost:8080/"
        },
        "id": "VZaejpTnug5i",
        "outputId": "607374a9-e15d-4ff3-998b-ed7f327c9e0e"
      },
      "execution_count": 34,
      "outputs": [
        {
          "output_type": "execute_result",
          "data": {
            "text/plain": [
              "[1, 7, 8, 9, 12]"
            ]
          },
          "metadata": {},
          "execution_count": 34
        }
      ]
    },
    {
      "cell_type": "code",
      "source": [
        "l1.insert(2,6) #index wise add"
      ],
      "metadata": {
        "id": "z_vCMLbLuigF"
      },
      "execution_count": 37,
      "outputs": []
    },
    {
      "cell_type": "code",
      "source": [
        "l1"
      ],
      "metadata": {
        "colab": {
          "base_uri": "https://localhost:8080/"
        },
        "id": "fBPgaE_xunwi",
        "outputId": "3150956e-e4a0-40cd-895c-27fc7b5a98d4"
      },
      "execution_count": 48,
      "outputs": [
        {
          "output_type": "execute_result",
          "data": {
            "text/plain": [
              "[1, 2, 4, 6]"
            ]
          },
          "metadata": {},
          "execution_count": 48
        }
      ]
    },
    {
      "cell_type": "markdown",
      "source": [
        "11. What are the two methods for removing items from a list?"
      ],
      "metadata": {
        "id": "5snnHqOcuuCs"
      }
    },
    {
      "cell_type": "markdown",
      "source": [
        "pop and remove"
      ],
      "metadata": {
        "id": "McpaOLVnxG7X"
      }
    },
    {
      "cell_type": "code",
      "source": [
        "l1=[1,2,5,8,9]"
      ],
      "metadata": {
        "id": "omLeMPi4wyhQ"
      },
      "execution_count": 38,
      "outputs": []
    },
    {
      "cell_type": "code",
      "source": [
        "l1.remove(9)"
      ],
      "metadata": {
        "id": "FQXUaql4w7ke"
      },
      "execution_count": 39,
      "outputs": []
    },
    {
      "cell_type": "code",
      "source": [
        "l1"
      ],
      "metadata": {
        "colab": {
          "base_uri": "https://localhost:8080/"
        },
        "id": "ymM3yTXow-o_",
        "outputId": "d20f9ab6-361a-4045-e955-357509b4cfee"
      },
      "execution_count": 40,
      "outputs": [
        {
          "output_type": "execute_result",
          "data": {
            "text/plain": [
              "[1, 2, 5, 8]"
            ]
          },
          "metadata": {},
          "execution_count": 40
        }
      ]
    },
    {
      "cell_type": "code",
      "source": [
        "l1.pop()"
      ],
      "metadata": {
        "colab": {
          "base_uri": "https://localhost:8080/"
        },
        "id": "0b_132jvxAh6",
        "outputId": "5233150c-8901-45f5-db82-19b326a603da"
      },
      "execution_count": 41,
      "outputs": [
        {
          "output_type": "execute_result",
          "data": {
            "text/plain": [
              "8"
            ]
          },
          "metadata": {},
          "execution_count": 41
        }
      ]
    },
    {
      "cell_type": "code",
      "source": [
        "l1"
      ],
      "metadata": {
        "colab": {
          "base_uri": "https://localhost:8080/"
        },
        "id": "Kt5S4ZLCxEP_",
        "outputId": "e3be6707-49bb-4fd0-da24-e5a63fe0897a"
      },
      "execution_count": 42,
      "outputs": [
        {
          "output_type": "execute_result",
          "data": {
            "text/plain": [
              "[1, 2, 5]"
            ]
          },
          "metadata": {},
          "execution_count": 42
        }
      ]
    },
    {
      "cell_type": "code",
      "source": [
        "del(l1)#l1 permanently delete the list"
      ],
      "metadata": {
        "id": "4QF5N-nvxlSP"
      },
      "execution_count": 49,
      "outputs": []
    },
    {
      "cell_type": "code",
      "source": [
        "l1"
      ],
      "metadata": {
        "colab": {
          "base_uri": "https://localhost:8080/",
          "height": 171
        },
        "id": "vkP53CKrxpnT",
        "outputId": "56db6022-fad2-4cb3-9257-096aa0f10da5"
      },
      "execution_count": 50,
      "outputs": [
        {
          "output_type": "error",
          "ename": "NameError",
          "evalue": "ignored",
          "traceback": [
            "\u001b[0;31m---------------------------------------------------------------------------\u001b[0m",
            "\u001b[0;31mNameError\u001b[0m                                 Traceback (most recent call last)",
            "\u001b[0;32m<ipython-input-50-6cf485bc2797>\u001b[0m in \u001b[0;36m<module>\u001b[0;34m()\u001b[0m\n\u001b[0;32m----> 1\u001b[0;31m \u001b[0ml1\u001b[0m\u001b[0;34m\u001b[0m\u001b[0;34m\u001b[0m\u001b[0m\n\u001b[0m",
            "\u001b[0;31mNameError\u001b[0m: name 'l1' is not defined"
          ]
        }
      ]
    },
    {
      "cell_type": "markdown",
      "source": [
        "12. Describe how list values and string values are identical."
      ],
      "metadata": {
        "id": "-b9-CnR_x8T6"
      }
    },
    {
      "cell_type": "code",
      "source": [
        "s=\"munai\""
      ],
      "metadata": {
        "id": "Mo8eRKfkyDaB"
      },
      "execution_count": 51,
      "outputs": []
    },
    {
      "cell_type": "code",
      "source": [
        "len(s)"
      ],
      "metadata": {
        "colab": {
          "base_uri": "https://localhost:8080/"
        },
        "id": "1FabvE4NyrK7",
        "outputId": "fd9dcf8a-3b93-44a5-9836-8eeaa6787810"
      },
      "execution_count": 53,
      "outputs": [
        {
          "output_type": "execute_result",
          "data": {
            "text/plain": [
              "5"
            ]
          },
          "metadata": {},
          "execution_count": 53
        }
      ]
    },
    {
      "cell_type": "code",
      "source": [
        "s[1:3]"
      ],
      "metadata": {
        "colab": {
          "base_uri": "https://localhost:8080/",
          "height": 36
        },
        "id": "pF2u4-uAzS4E",
        "outputId": "911f8f17-edf7-4f26-d42a-037a3c68b15d"
      },
      "execution_count": 56,
      "outputs": [
        {
          "output_type": "execute_result",
          "data": {
            "text/plain": [
              "'un'"
            ],
            "application/vnd.google.colaboratory.intrinsic+json": {
              "type": "string"
            }
          },
          "metadata": {},
          "execution_count": 56
        }
      ]
    },
    {
      "cell_type": "code",
      "source": [
        "l=[1,4,8,9]"
      ],
      "metadata": {
        "id": "laNaBiOHyzYC"
      },
      "execution_count": 54,
      "outputs": []
    },
    {
      "cell_type": "code",
      "source": [
        "len(l)"
      ],
      "metadata": {
        "colab": {
          "base_uri": "https://localhost:8080/"
        },
        "id": "5qpjTtdIy9hq",
        "outputId": "31bfa150-f088-4a18-a468-17e526285089"
      },
      "execution_count": 55,
      "outputs": [
        {
          "output_type": "execute_result",
          "data": {
            "text/plain": [
              "4"
            ]
          },
          "metadata": {},
          "execution_count": 55
        }
      ]
    },
    {
      "cell_type": "code",
      "source": [
        "l[1:3]"
      ],
      "metadata": {
        "colab": {
          "base_uri": "https://localhost:8080/"
        },
        "id": "hvEWui_AzaS0",
        "outputId": "2eb7d806-c444-461d-ffcd-343ed60f5e02"
      },
      "execution_count": 57,
      "outputs": [
        {
          "output_type": "execute_result",
          "data": {
            "text/plain": [
              "[4, 8]"
            ]
          },
          "metadata": {},
          "execution_count": 57
        }
      ]
    },
    {
      "cell_type": "markdown",
      "source": [
        "indexing and slicing both are possible in list as well as string"
      ],
      "metadata": {
        "id": "HBUWHtaM0E16"
      }
    },
    {
      "cell_type": "code",
      "source": [
        "s=iter(s)"
      ],
      "metadata": {
        "id": "d4CrlRW_0NZd"
      },
      "execution_count": 59,
      "outputs": []
    },
    {
      "cell_type": "code",
      "source": [
        "s"
      ],
      "metadata": {
        "colab": {
          "base_uri": "https://localhost:8080/"
        },
        "id": "KcRX6qE40mpG",
        "outputId": "bbba8cd2-ce04-4674-c0a4-4d7cb0c42f74"
      },
      "execution_count": 60,
      "outputs": [
        {
          "output_type": "execute_result",
          "data": {
            "text/plain": [
              "<str_iterator at 0x7fe7f9b38b10>"
            ]
          },
          "metadata": {},
          "execution_count": 60
        }
      ]
    },
    {
      "cell_type": "code",
      "source": [
        "l=iter(l)"
      ],
      "metadata": {
        "id": "02nhAlK10oXH"
      },
      "execution_count": 61,
      "outputs": []
    },
    {
      "cell_type": "code",
      "source": [
        "l"
      ],
      "metadata": {
        "colab": {
          "base_uri": "https://localhost:8080/"
        },
        "id": "1lvEUac70tCI",
        "outputId": "41b93fb9-f8ad-4525-a8a2-e1ac7d538e43"
      },
      "execution_count": 62,
      "outputs": [
        {
          "output_type": "execute_result",
          "data": {
            "text/plain": [
              "<list_iterator at 0x7fe7f9b8d290>"
            ]
          },
          "metadata": {},
          "execution_count": 62
        }
      ]
    },
    {
      "cell_type": "markdown",
      "source": [
        "string and list both are iterator using iter function"
      ],
      "metadata": {
        "id": "TyU_WFOG0sX2"
      }
    },
    {
      "cell_type": "markdown",
      "source": [
        "13. What is the difference between tuples and lists?"
      ],
      "metadata": {
        "id": "Muf5QY__1la5"
      }
    },
    {
      "cell_type": "code",
      "source": [
        "l=[1,4,8,9]\n",
        "l[1]=5"
      ],
      "metadata": {
        "id": "i0yITeZS117g"
      },
      "execution_count": 72,
      "outputs": []
    },
    {
      "cell_type": "code",
      "source": [
        "l #we can easily edit list value i.e are mutable"
      ],
      "metadata": {
        "colab": {
          "base_uri": "https://localhost:8080/"
        },
        "id": "FFpbMsmO2BfD",
        "outputId": "2ef00b7d-23ca-496e-eeab-34a33d88beaa"
      },
      "execution_count": 74,
      "outputs": [
        {
          "output_type": "execute_result",
          "data": {
            "text/plain": [
              "[1, 5, 8, 9]"
            ]
          },
          "metadata": {},
          "execution_count": 74
        }
      ]
    },
    {
      "cell_type": "code",
      "source": [
        "t=(1,6,7,9)"
      ],
      "metadata": {
        "id": "I7GzWI9T2KuK"
      },
      "execution_count": 75,
      "outputs": []
    },
    {
      "cell_type": "code",
      "source": [
        "t[1]=5 #we can't edit tuple value i.e. tuple are immutable"
      ],
      "metadata": {
        "colab": {
          "base_uri": "https://localhost:8080/",
          "height": 171
        },
        "id": "MWZK4w793PKT",
        "outputId": "9c6ff98a-7c37-4eb5-ce2b-a7e96b4fa487"
      },
      "execution_count": 77,
      "outputs": [
        {
          "output_type": "error",
          "ename": "TypeError",
          "evalue": "ignored",
          "traceback": [
            "\u001b[0;31m---------------------------------------------------------------------------\u001b[0m",
            "\u001b[0;31mTypeError\u001b[0m                                 Traceback (most recent call last)",
            "\u001b[0;32m<ipython-input-77-2d5626f5f92e>\u001b[0m in \u001b[0;36m<module>\u001b[0;34m()\u001b[0m\n\u001b[0;32m----> 1\u001b[0;31m \u001b[0mt\u001b[0m\u001b[0;34m[\u001b[0m\u001b[0;36m1\u001b[0m\u001b[0;34m]\u001b[0m\u001b[0;34m=\u001b[0m\u001b[0;36m5\u001b[0m \u001b[0;31m#we can't edit tuple value i.e. tuple are imutable\u001b[0m\u001b[0;34m\u001b[0m\u001b[0;34m\u001b[0m\u001b[0m\n\u001b[0m",
            "\u001b[0;31mTypeError\u001b[0m: 'tuple' object does not support item assignment"
          ]
        }
      ]
    },
    {
      "cell_type": "markdown",
      "source": [
        "14. How do you type a tuple value that only contains the integer 42?"
      ],
      "metadata": {
        "id": "m5WyJQzU4Q6R"
      }
    },
    {
      "cell_type": "code",
      "source": [
        "t=(42,)\n",
        "print(type(t))"
      ],
      "metadata": {
        "colab": {
          "base_uri": "https://localhost:8080/"
        },
        "id": "0CfO0JAb4YlH",
        "outputId": "a7835c23-1ce9-4cb8-fd03-f10855ee40b9"
      },
      "execution_count": 78,
      "outputs": [
        {
          "output_type": "stream",
          "name": "stdout",
          "text": [
            "<class 'tuple'>\n"
          ]
        }
      ]
    },
    {
      "cell_type": "code",
      "source": [
        "t1=(42)\n",
        "print(type(t1))"
      ],
      "metadata": {
        "colab": {
          "base_uri": "https://localhost:8080/"
        },
        "id": "RnL7qR6h47lA",
        "outputId": "56c40cb5-eafd-44ba-8111-b3ca85edec30"
      },
      "execution_count": 79,
      "outputs": [
        {
          "output_type": "stream",
          "name": "stdout",
          "text": [
            "<class 'int'>\n"
          ]
        }
      ]
    },
    {
      "cell_type": "markdown",
      "source": [
        "15. How do you get a list value's tuple form? How do you get a tuple value's list form?"
      ],
      "metadata": {
        "id": "GhV7zdg35HI_"
      }
    },
    {
      "cell_type": "code",
      "source": [
        "t=(1,2,4)"
      ],
      "metadata": {
        "id": "Sh4u_nLj5cef"
      },
      "execution_count": 81,
      "outputs": []
    },
    {
      "cell_type": "code",
      "source": [
        "t1=list(t)"
      ],
      "metadata": {
        "id": "_CtlZMGv6OaE"
      },
      "execution_count": 82,
      "outputs": []
    },
    {
      "cell_type": "code",
      "source": [
        "t1 #getting list value in tuple's form"
      ],
      "metadata": {
        "colab": {
          "base_uri": "https://localhost:8080/"
        },
        "id": "CQyi3V626UkI",
        "outputId": "5ce2cf37-6ac9-45ee-974e-c00dc5e45991"
      },
      "execution_count": 93,
      "outputs": [
        {
          "output_type": "execute_result",
          "data": {
            "text/plain": [
              "[1, 2, 4]"
            ]
          },
          "metadata": {},
          "execution_count": 93
        }
      ]
    },
    {
      "cell_type": "code",
      "source": [
        "l=[\"m\",\"p\",\"q\"]"
      ],
      "metadata": {
        "id": "el-j2ANG6W27"
      },
      "execution_count": 87,
      "outputs": []
    },
    {
      "cell_type": "code",
      "source": [
        "l1=tuple(l)"
      ],
      "metadata": {
        "id": "pWyqrxQe7oBT"
      },
      "execution_count": 88,
      "outputs": []
    },
    {
      "cell_type": "code",
      "source": [
        "print(l1)"
      ],
      "metadata": {
        "colab": {
          "base_uri": "https://localhost:8080/"
        },
        "id": "Oly9VVf17u20",
        "outputId": "2c8651ac-db3b-47a6-f92c-06a2bde485cf"
      },
      "execution_count": 89,
      "outputs": [
        {
          "output_type": "stream",
          "name": "stdout",
          "text": [
            "('m', 'p', 'q')\n"
          ]
        }
      ]
    },
    {
      "cell_type": "code",
      "source": [
        "l=[3,8,9]"
      ],
      "metadata": {
        "id": "aziWcc9S7y-O"
      },
      "execution_count": 90,
      "outputs": []
    },
    {
      "cell_type": "code",
      "source": [
        "l1=tuple(l)"
      ],
      "metadata": {
        "id": "6uU_aH7871bc"
      },
      "execution_count": 91,
      "outputs": []
    },
    {
      "cell_type": "code",
      "source": [
        "l1 #geting tuple in list form"
      ],
      "metadata": {
        "colab": {
          "base_uri": "https://localhost:8080/"
        },
        "id": "N0micM6U74k3",
        "outputId": "d2c79f66-d108-441c-8193-56a524950acb"
      },
      "execution_count": 94,
      "outputs": [
        {
          "output_type": "execute_result",
          "data": {
            "text/plain": [
              "(3, 8, 9)"
            ]
          },
          "metadata": {},
          "execution_count": 94
        }
      ]
    },
    {
      "cell_type": "markdown",
      "source": [
        "16. Variables that 'contain' list values are not necessarily lists themselves. Instead, what do they\n",
        "contain?"
      ],
      "metadata": {
        "id": "XlRyOn468P6O"
      }
    },
    {
      "cell_type": "code",
      "source": [
        "my_str = \"Hello from AskPython\"\n",
        " \n",
        "target = \"AskPython\"\n",
        " \n",
        "if (my_str.__contains__(target)):\n",
        "    print(\"String contains target!\")\n",
        "else:\n",
        "    print(\"String does not contain target\")"
      ],
      "metadata": {
        "colab": {
          "base_uri": "https://localhost:8080/"
        },
        "id": "U6Ra-8Iy8hCu",
        "outputId": "4d9efa86-63d7-4197-e29c-50759ae83cb4"
      },
      "execution_count": 95,
      "outputs": [
        {
          "output_type": "stream",
          "name": "stdout",
          "text": [
            "String contains target!\n"
          ]
        }
      ]
    },
    {
      "cell_type": "markdown",
      "source": [
        "17. How do you distinguish between copy.copy() and copy.deepcopy()?"
      ],
      "metadata": {
        "id": "lXGJTM759tqh"
      }
    },
    {
      "cell_type": "code",
      "source": [
        "l2=[6,8,9]"
      ],
      "metadata": {
        "id": "DHXOowbA-EiJ"
      },
      "execution_count": 103,
      "outputs": []
    },
    {
      "cell_type": "code",
      "source": [
        "l3=l2.copy()"
      ],
      "metadata": {
        "id": "Np9-lxO6_RHC"
      },
      "execution_count": 104,
      "outputs": []
    },
    {
      "cell_type": "code",
      "source": [
        "l2[1]=100\n"
      ],
      "metadata": {
        "id": "cJUo2Gue_pd0"
      },
      "execution_count": 105,
      "outputs": []
    },
    {
      "cell_type": "code",
      "source": [
        "l2"
      ],
      "metadata": {
        "colab": {
          "base_uri": "https://localhost:8080/"
        },
        "id": "sdQlg6vm_wB8",
        "outputId": "4a961be1-7eca-4a5d-be2a-8200578b4dcb"
      },
      "execution_count": 106,
      "outputs": [
        {
          "output_type": "execute_result",
          "data": {
            "text/plain": [
              "[6, 100, 9]"
            ]
          },
          "metadata": {},
          "execution_count": 106
        }
      ]
    },
    {
      "cell_type": "code",
      "source": [
        "l1"
      ],
      "metadata": {
        "colab": {
          "base_uri": "https://localhost:8080/"
        },
        "id": "Na7mY4YV_7BQ",
        "outputId": "7f9d9e72-fb3a-4f5d-e119-cfdc5442e8e6"
      },
      "execution_count": 107,
      "outputs": [
        {
          "output_type": "execute_result",
          "data": {
            "text/plain": [
              "[6, 8, 9]"
            ]
          },
          "metadata": {},
          "execution_count": 107
        }
      ]
    },
    {
      "cell_type": "code",
      "source": [
        "l5=[[1,4,7,8],[1,9,8,7]]"
      ],
      "metadata": {
        "id": "jHQ-s7L8_841"
      },
      "execution_count": 129,
      "outputs": []
    },
    {
      "cell_type": "code",
      "source": [
        "l6=l5.copy()"
      ],
      "metadata": {
        "id": "fFa4ybIeAIi4"
      },
      "execution_count": 130,
      "outputs": []
    },
    {
      "cell_type": "code",
      "source": [
        "l6[1][0]=2"
      ],
      "metadata": {
        "id": "TBRdbQPhAN7M"
      },
      "execution_count": 131,
      "outputs": []
    },
    {
      "cell_type": "code",
      "source": [
        "l6"
      ],
      "metadata": {
        "colab": {
          "base_uri": "https://localhost:8080/"
        },
        "id": "LvbmhFCVAVQ8",
        "outputId": "97602358-a7d3-4253-d805-da6ff076873a"
      },
      "execution_count": 132,
      "outputs": [
        {
          "output_type": "execute_result",
          "data": {
            "text/plain": [
              "[[1, 4, 7, 8], [2, 9, 8, 7]]"
            ]
          },
          "metadata": {},
          "execution_count": 132
        }
      ]
    },
    {
      "cell_type": "code",
      "source": [
        "l5"
      ],
      "metadata": {
        "colab": {
          "base_uri": "https://localhost:8080/"
        },
        "id": "T4Uc2D17AY_f",
        "outputId": "c4c41fd6-5d85-42bc-d094-d3d4faed24de"
      },
      "execution_count": 133,
      "outputs": [
        {
          "output_type": "execute_result",
          "data": {
            "text/plain": [
              "[[1, 4, 7, 8], [2, 9, 8, 7]]"
            ]
          },
          "metadata": {},
          "execution_count": 133
        }
      ]
    },
    {
      "cell_type": "code",
      "source": [
        "import copy"
      ],
      "metadata": {
        "id": "0iOywP2lAbyl"
      },
      "execution_count": 113,
      "outputs": []
    },
    {
      "cell_type": "code",
      "source": [
        "l1=[2,8,9]"
      ],
      "metadata": {
        "id": "kZYOLMbIAkDt"
      },
      "execution_count": 134,
      "outputs": []
    },
    {
      "cell_type": "code",
      "source": [
        "l2=copy.deepcopy(l1)"
      ],
      "metadata": {
        "id": "hrY0tfncAnf3"
      },
      "execution_count": 135,
      "outputs": []
    },
    {
      "cell_type": "code",
      "source": [
        "l2[1]=5"
      ],
      "metadata": {
        "id": "c3j8qpjOAvO2"
      },
      "execution_count": 136,
      "outputs": []
    },
    {
      "cell_type": "code",
      "source": [
        "l2"
      ],
      "metadata": {
        "colab": {
          "base_uri": "https://localhost:8080/"
        },
        "id": "ehXMjzdGA2oO",
        "outputId": "2c2457ba-d41d-44f5-fba0-90801bfc0756"
      },
      "execution_count": 137,
      "outputs": [
        {
          "output_type": "execute_result",
          "data": {
            "text/plain": [
              "[2, 5, 9]"
            ]
          },
          "metadata": {},
          "execution_count": 137
        }
      ]
    },
    {
      "cell_type": "code",
      "source": [
        "l1"
      ],
      "metadata": {
        "colab": {
          "base_uri": "https://localhost:8080/"
        },
        "id": "aAHVXrawA42V",
        "outputId": "55146701-0318-4a3e-c6e5-be6071caab90"
      },
      "execution_count": 138,
      "outputs": [
        {
          "output_type": "execute_result",
          "data": {
            "text/plain": [
              "[2, 8, 9]"
            ]
          },
          "metadata": {},
          "execution_count": 138
        }
      ]
    },
    {
      "cell_type": "markdown",
      "source": [
        "in normal loop deep copy and shallow copy are same "
      ],
      "metadata": {
        "id": "nErh7WleA9XN"
      }
    },
    {
      "cell_type": "code",
      "source": [
        "l5=[[1,3,6],[5,8,9]]"
      ],
      "metadata": {
        "id": "uLXI8yITA7DN"
      },
      "execution_count": 139,
      "outputs": []
    },
    {
      "cell_type": "code",
      "source": [
        "l6=copy.deepcopy(l5)"
      ],
      "metadata": {
        "id": "ZpB7DaOgBMFB"
      },
      "execution_count": 140,
      "outputs": []
    },
    {
      "cell_type": "code",
      "source": [
        "l6[1][0]=3"
      ],
      "metadata": {
        "id": "7uw_9g1mBX-V"
      },
      "execution_count": 141,
      "outputs": []
    },
    {
      "cell_type": "code",
      "source": [
        "l6"
      ],
      "metadata": {
        "colab": {
          "base_uri": "https://localhost:8080/"
        },
        "id": "CCvMyGkcBcjJ",
        "outputId": "8f085274-6947-4a05-dbd6-e610b44f02b8"
      },
      "execution_count": 142,
      "outputs": [
        {
          "output_type": "execute_result",
          "data": {
            "text/plain": [
              "[[1, 3, 6], [3, 8, 9]]"
            ]
          },
          "metadata": {},
          "execution_count": 142
        }
      ]
    },
    {
      "cell_type": "code",
      "source": [
        "l5"
      ],
      "metadata": {
        "colab": {
          "base_uri": "https://localhost:8080/"
        },
        "id": "XECsMlzJBeX_",
        "outputId": "5388093d-cd82-4621-ada4-9ecbcf9c346f"
      },
      "execution_count": 143,
      "outputs": [
        {
          "output_type": "execute_result",
          "data": {
            "text/plain": [
              "[[1, 3, 6], [5, 8, 9]]"
            ]
          },
          "metadata": {},
          "execution_count": 143
        }
      ]
    },
    {
      "cell_type": "markdown",
      "source": [
        "in nested list shallow copy are deep copy is not equal to deep copy"
      ],
      "metadata": {
        "id": "F2UZQk_ABofS"
      }
    }
  ]
}