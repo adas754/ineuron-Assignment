{
  "nbformat": 4,
  "nbformat_minor": 0,
  "metadata": {
    "colab": {
      "provenance": []
    },
    "kernelspec": {
      "name": "python3",
      "display_name": "Python 3"
    },
    "language_info": {
      "name": "python"
    }
  },
  "cells": [
    {
      "cell_type": "code",
      "execution_count": 4,
      "metadata": {
        "colab": {
          "base_uri": "https://localhost:8080/"
        },
        "id": "YMAQqeEbH41D",
        "outputId": "769cfc3b-c6e9-4cd1-9d31-61015ed6a0c8"
      },
      "outputs": [
        {
          "output_type": "stream",
          "name": "stdout",
          "text": [
            "output -> [6, 7, 8, 9, 1]\n",
            "output -> [6, 3, 23, 17, 10]\n",
            "output -> [10, 20, 42, 6]\n",
            "No list has been selected\n"
          ]
        }
      ],
      "source": [
        "def next_in_line(in_list,in_num):\n",
        "  if len(in_list)>1:\n",
        "    in_list.append(in_num)\n",
        "    in_list.remove(in_list[0])\n",
        "    print(f'output -> {in_list}')\n",
        "  else:\n",
        "    print('No list has been selected')\n",
        "\n",
        "next_in_line([5, 6, 7, 8, 9], 1) \n",
        "next_in_line([7, 6, 3, 23, 17], 10)\n",
        "next_in_line([1, 10, 20, 42 ], 6)\n",
        "next_in_line([], 6)"
      ]
    },
    {
      "cell_type": "code",
      "source": [
        "def get_budgets(in_dict):\n",
        "    sum=0\n",
        "    for ele in in_dict:\n",
        "      sum+=ele['budget']\n",
        "    print(f'output->{sum}')\n",
        "get_budgets([\n",
        "{ \"name\": \"John\", \"age\": 21, \"budget\": 23000 },\n",
        "{ \"name\": \"Steve\", \"age\": 32, \"budget\": 40000 },\n",
        "{ \"name\": \"Martin\", \"age\": 16, \"budget\": 2700 }\n",
        "])\n",
        "\n",
        "get_budgets([\n",
        "{ \"name\": \"John\", \"age\": 21, \"budget\": 29000 },\n",
        "{ \"name\": \"Steve\", \"age\": 32, \"budget\": 32000 },\n",
        "{ \"name\": \"Martin\", \"age\": 16, \"budget\": 1600 }\n",
        "])"
      ],
      "metadata": {
        "colab": {
          "base_uri": "https://localhost:8080/"
        },
        "id": "cvpxJVxUYTdv",
        "outputId": "61ee8670-9dfb-4d81-a79f-b7f3a3582902"
      },
      "execution_count": 6,
      "outputs": [
        {
          "output_type": "stream",
          "name": "stdout",
          "text": [
            "output->65700\n",
            "output->62600\n"
          ]
        }
      ]
    },
    {
      "cell_type": "code",
      "source": [
        "def alphabet_soup(in_string):\n",
        "  out_string=''.join(sorted(in_string))\n",
        "  print(f'{in_string}->{out_string}')\n",
        "alphabet_soup(\"hello\")\n",
        "alphabet_soup(\"edabit\")\n",
        "alphabet_soup(\"hacker\")\n",
        "alphabet_soup(\"geek\")\n",
        "alphabet_soup(\"javascript\")"
      ],
      "metadata": {
        "colab": {
          "base_uri": "https://localhost:8080/"
        },
        "id": "06g8iz87apJV",
        "outputId": "42409d66-2c87-4920-9ccf-e2cf1d8867dd"
      },
      "execution_count": 7,
      "outputs": [
        {
          "output_type": "stream",
          "name": "stdout",
          "text": [
            "hello->ehllo\n",
            "edabit->abdeit\n",
            "hacker->acehkr\n",
            "geek->eegk\n",
            "javascript->aacijprstv\n"
          ]
        }
      ]
    },
    {
      "cell_type": "code",
      "source": [
        "def compound_interest(principle,years,roi,cp):\n",
        "    ci=principle*(1+(roi/cp))**(cp*years)\n",
        "    print(f'output->{ci:.2f}')\n",
        "compound_interest(100, 1, 0.05, 1)\n",
        "compound_interest(3500, 15, 0.1, 4)\n",
        "compound_interest(100000, 20, 0.15, 365)\n"
      ],
      "metadata": {
        "colab": {
          "base_uri": "https://localhost:8080/"
        },
        "id": "PXES5IiNcTDR",
        "outputId": "750fa135-2726-4fcc-e6df-c972bb0f0ee3"
      },
      "execution_count": 9,
      "outputs": [
        {
          "output_type": "stream",
          "name": "stdout",
          "text": [
            "output->105.00\n",
            "output->15399.26\n",
            "output->2007316.26\n"
          ]
        }
      ]
    },
    {
      "cell_type": "code",
      "source": [
        "def return_only_integer(in_list):\n",
        "    out_list = []\n",
        "    for ele in in_list:\n",
        "        if type(ele) == int:\n",
        "            out_list.append(ele)\n",
        "    print(f'{in_list} ➞ {out_list}')\n",
        "    \n",
        "return_only_integer([9, 2, \"space\", \"car\", \"lion\", 16])\n",
        "return_only_integer([\"hello\", 81, \"basketball\", 123, \"fox\"])\n",
        "return_only_integer([10, \"121\", 56, 20, \"car\", 3, \"lion\"]) \n",
        "return_only_integer([\"String\", True, 3.3, 1])"
      ],
      "metadata": {
        "colab": {
          "base_uri": "https://localhost:8080/"
        },
        "id": "fYfupOEQgHqt",
        "outputId": "2c77fa6e-6a6f-4364-d73d-af3bb6b7b11f"
      },
      "execution_count": 11,
      "outputs": [
        {
          "output_type": "stream",
          "name": "stdout",
          "text": [
            "[9, 2, 'space', 'car', 'lion', 16] ➞ [9, 2, 16]\n",
            "['hello', 81, 'basketball', 123, 'fox'] ➞ [81, 123]\n",
            "[10, '121', 56, 20, 'car', 3, 'lion'] ➞ [10, 56, 20, 3]\n",
            "['String', True, 3.3, 1] ➞ [1]\n"
          ]
        }
      ]
    }
  ]
}