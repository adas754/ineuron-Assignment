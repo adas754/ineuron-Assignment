{
  "nbformat": 4,
  "nbformat_minor": 0,
  "metadata": {
    "colab": {
      "provenance": []
    },
    "kernelspec": {
      "name": "python3",
      "display_name": "Python 3"
    },
    "language_info": {
      "name": "python"
    }
  },
  "cells": [
    {
      "cell_type": "markdown",
      "source": [
        "# 1. Write a function that takes a positive integer num and calculates how many dots exist in a pentagonal shape around the center dot on the Nth iteration.\n",
        "\n",
        "In the image below you can see the first iteration is only a single dot. On the second, there are 6 dots. On the third, there are 16 dots, and on the fourth there are 31 dots.\n",
        "\n",
        "\n",
        "\n",
        "\n",
        "\n",
        "\n",
        "\n",
        "\n",
        "\n",
        "Return the number of dots that exist in the whole pentagon on the Nth iteration.\n",
        "\n",
        "Examples\n",
        "\n",
        "pentagonal(1) ➞ 1\n",
        "\n",
        "pentagonal(2) ➞ 6\n",
        "\n",
        "pentagonal(3) ➞ 16\n",
        "\n",
        "pentagonal(8) ➞ 141\n",
        "\n"
      ],
      "metadata": {
        "id": "mWJz1LhVhoO6"
      }
    },
    {
      "cell_type": "code",
      "source": [
        "def pentagonal(num):\n",
        "    return sum(5*i - 5 for i in range(1, num + 1)) + 1\n"
      ],
      "metadata": {
        "id": "eYYEH2fOj2dP"
      },
      "execution_count": null,
      "outputs": []
    },
    {
      "cell_type": "code",
      "source": [
        "pentagonal(1)"
      ],
      "metadata": {
        "colab": {
          "base_uri": "https://localhost:8080/"
        },
        "id": "S3eXzNlVkD0W",
        "outputId": "f1640e4a-aae0-4add-d6f3-cf2f215296bb"
      },
      "execution_count": null,
      "outputs": [
        {
          "output_type": "execute_result",
          "data": {
            "text/plain": [
              "1"
            ]
          },
          "metadata": {},
          "execution_count": 18
        }
      ]
    },
    {
      "cell_type": "code",
      "source": [
        "pentagonal(2)"
      ],
      "metadata": {
        "colab": {
          "base_uri": "https://localhost:8080/"
        },
        "id": "bl13LyTkkHQV",
        "outputId": "dd047a88-da51-4bbc-bca1-25aeeb168011"
      },
      "execution_count": null,
      "outputs": [
        {
          "output_type": "execute_result",
          "data": {
            "text/plain": [
              "6"
            ]
          },
          "metadata": {},
          "execution_count": 19
        }
      ]
    },
    {
      "cell_type": "code",
      "source": [
        "pentagonal(3) "
      ],
      "metadata": {
        "colab": {
          "base_uri": "https://localhost:8080/"
        },
        "id": "fGyOkh5TkMn2",
        "outputId": "160d1c92-bad6-471e-d20a-f7a45f53b9db"
      },
      "execution_count": null,
      "outputs": [
        {
          "output_type": "execute_result",
          "data": {
            "text/plain": [
              "16"
            ]
          },
          "metadata": {},
          "execution_count": 20
        }
      ]
    },
    {
      "cell_type": "code",
      "source": [
        "pentagonal(8) "
      ],
      "metadata": {
        "colab": {
          "base_uri": "https://localhost:8080/"
        },
        "id": "HCGXBaMwkQee",
        "outputId": "38908033-0ec5-4d8c-b312-d7ece90b5907"
      },
      "execution_count": null,
      "outputs": [
        {
          "output_type": "execute_result",
          "data": {
            "text/plain": [
              "141"
            ]
          },
          "metadata": {},
          "execution_count": 23
        }
      ]
    },
    {
      "cell_type": "code",
      "source": [
        "def pentagonals(num):\n",
        "    total = 1 #initialize total with 1 as the first iteration has one dot\n",
        "    for i in range(1, num):\n",
        "        total += (5*i)\n",
        "    return total\n"
      ],
      "metadata": {
        "id": "EwdLGexXkgK3"
      },
      "execution_count": null,
      "outputs": []
    },
    {
      "cell_type": "code",
      "source": [
        "pentagonals(1) "
      ],
      "metadata": {
        "colab": {
          "base_uri": "https://localhost:8080/"
        },
        "id": "TwYqKn1xkh1y",
        "outputId": "3457ecb3-fe0d-422f-b40f-ede54895e6a0"
      },
      "execution_count": null,
      "outputs": [
        {
          "output_type": "execute_result",
          "data": {
            "text/plain": [
              "1"
            ]
          },
          "metadata": {},
          "execution_count": 35
        }
      ]
    },
    {
      "cell_type": "markdown",
      "source": [
        "# 2.  Make a function that encrypts a given input with these steps:\n",
        "\n",
        "Input: \"apple\"\n",
        "\n",
        "Step 1: Reverse the input: \"elppa\"\n",
        "\n",
        "Step 2: Replace all vowels using the following chart:\n",
        "\n",
        "a => 0\n",
        "e => 1\n",
        "i => 2\n",
        "o => 2\n",
        "u => 3\n",
        "\n",
        "# \"1lpp0\"\n",
        "\n",
        "Step 3: Add \"aca\" to the end of the word: \"1lpp0aca\"\n",
        "\n",
        "Output: \"1lpp0aca\"\n",
        "\n",
        "Examples\n",
        "\n",
        "encrypt(\"banana\") ➞ \"0n0n0baca\"\n",
        "\n",
        "encrypt(\"karaca\") ➞ \"0c0r0kaca\"\n",
        "\n",
        "encrypt(\"burak\") ➞ \"k0r3baca\"\n",
        "\n",
        "encrypt(\"alpaca\") ➞ \"0c0pl0aca\"\n"
      ],
      "metadata": {
        "id": "vqJSQvZSloAN"
      }
    },
    {
      "cell_type": "code",
      "source": [
        "def encrypt(word):\n",
        "    vowels = {'a':'0', 'e':'1', 'i':'2', 'o':'2', 'u':'3'}\n",
        "    reversed_word = word[::-1]\n",
        "    encrypted_word = \"\"\n",
        "    for letter in reversed_word:\n",
        "        if letter in vowels:\n",
        "            encrypted_word += vowels[letter]\n",
        "        else:\n",
        "            encrypted_word += letter\n",
        "    return encrypted_word + \"aca\"\n"
      ],
      "metadata": {
        "id": "J8S4tczpl-7A"
      },
      "execution_count": 1,
      "outputs": []
    },
    {
      "cell_type": "code",
      "source": [
        "encrypt(\"alpaca\")"
      ],
      "metadata": {
        "id": "Tzsh0zVOmPld",
        "outputId": "f5dbe33a-f17d-46b4-b5c9-e6b3a800ec70",
        "colab": {
          "base_uri": "https://localhost:8080/",
          "height": 35
        }
      },
      "execution_count": 8,
      "outputs": [
        {
          "output_type": "execute_result",
          "data": {
            "text/plain": [
              "'ocoploaca'"
            ],
            "application/vnd.google.colaboratory.intrinsic+json": {
              "type": "string"
            }
          },
          "metadata": {},
          "execution_count": 8
        }
      ]
    },
    {
      "cell_type": "code",
      "source": [
        "encrypt(\"burak\") "
      ],
      "metadata": {
        "colab": {
          "base_uri": "https://localhost:8080/",
          "height": 35
        },
        "id": "gKCM9kpep0XF",
        "outputId": "ab087017-662f-4825-9d44-93af14d1b740"
      },
      "execution_count": 3,
      "outputs": [
        {
          "output_type": "execute_result",
          "data": {
            "text/plain": [
              "'k0r3baca'"
            ],
            "application/vnd.google.colaboratory.intrinsic+json": {
              "type": "string"
            }
          },
          "metadata": {},
          "execution_count": 3
        }
      ]
    },
    {
      "cell_type": "code",
      "source": [
        "encrypt(\"karaca\")"
      ],
      "metadata": {
        "colab": {
          "base_uri": "https://localhost:8080/",
          "height": 35
        },
        "id": "fmFRhf1sp5_y",
        "outputId": "19d6cc11-5a48-4072-a5d3-956916ce7283"
      },
      "execution_count": 4,
      "outputs": [
        {
          "output_type": "execute_result",
          "data": {
            "text/plain": [
              "'0c0r0kaca'"
            ],
            "application/vnd.google.colaboratory.intrinsic+json": {
              "type": "string"
            }
          },
          "metadata": {},
          "execution_count": 4
        }
      ]
    },
    {
      "cell_type": "code",
      "source": [
        "encrypt(\"banana\")"
      ],
      "metadata": {
        "colab": {
          "base_uri": "https://localhost:8080/",
          "height": 35
        },
        "id": "MCR2ASRpp-uW",
        "outputId": "84b254aa-18a6-4275-cfe9-cd422f7c28bd"
      },
      "execution_count": 5,
      "outputs": [
        {
          "output_type": "execute_result",
          "data": {
            "text/plain": [
              "'0n0n0baca'"
            ],
            "application/vnd.google.colaboratory.intrinsic+json": {
              "type": "string"
            }
          },
          "metadata": {},
          "execution_count": 5
        }
      ]
    },
    {
      "cell_type": "markdown",
      "source": [
        "# 3. Given the month and year as numbers, return whether that month contains a Friday 13th.(i.e You can check Python's datetime module)\n",
        "\n",
        "Examples\n",
        "\n",
        "has_friday_13(3, 2020) ➞ True\n",
        "\n",
        "has_friday_13(10, 2017) ➞ True\n",
        "\n",
        "has_friday_13(1, 1985) ➞ False\n"
      ],
      "metadata": {
        "id": "JGAhZ8TLrpLx"
      }
    },
    {
      "cell_type": "code",
      "source": [
        "import datetime\n",
        "def has_friday_13(month,year):\n",
        "  output=False\n",
        "  if datetime.datetime(year,month,13).strftime('%A')=='Friday':\n",
        "    output=True\n",
        "  return output\n",
        "print(has_friday_13(3, 2020))  # ➞ True\n",
        "print(has_friday_13(10, 2017))  # ➞ True\n",
        "print(has_friday_13(1, 1985))  # ➞ False"
      ],
      "metadata": {
        "colab": {
          "base_uri": "https://localhost:8080/"
        },
        "id": "nm5NjpLhAxTR",
        "outputId": "041b7429-e6df-4e73-dc9f-9e7596df0b8f"
      },
      "execution_count": 48,
      "outputs": [
        {
          "output_type": "stream",
          "name": "stdout",
          "text": [
            "True\n",
            "True\n",
            "False\n"
          ]
        }
      ]
    },
    {
      "cell_type": "markdown",
      "source": [
        "# 4. Write a regular expression that will help us count how many bad cookies are produced every day. You must use RegEx negative lookbehind.\n",
        "\n",
        "Example\n",
        "\n",
        "lst = [\"bad cookie\", \"good cookie\", \"bad cookie\", \"good cookie\", \"good cookie\"]\n",
        "pattern = \"yourregularexpressionhere\"\n",
        "\n",
        "len(re.findall(pattern, \", \".join(lst))) ➞ 2\n"
      ],
      "metadata": {
        "id": "kwsr4XhpCYud"
      }
    },
    {
      "cell_type": "code",
      "source": [
        "import re\n",
        "def count_bad_cookies(lst):\n",
        "  pattern=r'(?<!good)bad cookie'\n",
        "  return len(re.findall(pattern,\",\".join(lst)))\n",
        "lst = [\"bad cookie\", \"good cookie\", \"bad cookie\", \"good cookie\", \"good cookie\"]\n",
        "print(count_bad_cookies(lst))"
      ],
      "metadata": {
        "colab": {
          "base_uri": "https://localhost:8080/"
        },
        "id": "-fuN6_JNGifC",
        "outputId": "87268eed-c379-43bd-9e21-1e32ea8bbc62"
      },
      "execution_count": 53,
      "outputs": [
        {
          "output_type": "stream",
          "name": "stdout",
          "text": [
            "2\n"
          ]
        }
      ]
    },
    {
      "cell_type": "markdown",
      "source": [
        "\n",
        "# 5. Given a list of words in the singular form, return a set of those words in the plural form if they appear more than once in the list.\n",
        "\n",
        "Examples\n",
        "\n",
        "pluralize([\"cow\", \"pig\", \"cow\", \"cow\"]) ➞ { \"cows\", \"pig\" }\n",
        "\n",
        "pluralize([\"table\", \"table\", \"table\"]) ➞ { \"tables\" }\n",
        "\n",
        "pluralize([\"chair\", \"pencil\", \"arm\"]) ➞ { \"chair\", \"pencil\", \"arm\" }\n",
        "\n"
      ],
      "metadata": {
        "id": "MptZvIT3HRVB"
      }
    },
    {
      "cell_type": "code",
      "source": [
        "def pluralize(in_list):\n",
        "  out_set=set()\n",
        "  for ele in set(in_list):\n",
        "    if in_list.count(ele)>1:\n",
        "      out_set.add(ele+'s')\n",
        "    else:\n",
        "      out_set.add(ele)\n",
        "  print(f'pluralize({in_list})->{out_set}')\n",
        "pluralize([\"cow\", \"pig\", \"cow\", \"cow\"])\n",
        "pluralize([\"table\", \"table\", \"table\"])\n",
        "pluralize([\"chair\", \"pencil\", \"arm\"]) "
      ],
      "metadata": {
        "colab": {
          "base_uri": "https://localhost:8080/"
        },
        "id": "-2tlYANqNYaG",
        "outputId": "6c7de452-4b63-41a8-e75e-e2037f5d55f3"
      },
      "execution_count": 65,
      "outputs": [
        {
          "output_type": "stream",
          "name": "stdout",
          "text": [
            "pluralize(['cow', 'pig', 'cow', 'cow'])->{'cows', 'pig'}\n",
            "pluralize(['table', 'table', 'table'])->{'tables'}\n",
            "pluralize(['chair', 'pencil', 'arm'])->{'arm', 'pencil', 'chair'}\n"
          ]
        }
      ]
    }
  ]
}