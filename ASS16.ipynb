{
  "nbformat": 4,
  "nbformat_minor": 0,
  "metadata": {
    "colab": {
      "provenance": []
    },
    "kernelspec": {
      "name": "python3",
      "display_name": "Python 3"
    },
    "language_info": {
      "name": "python"
    }
  },
  "cells": [
    {
      "cell_type": "code",
      "execution_count": 4,
      "metadata": {
        "colab": {
          "base_uri": "https://localhost:8080/"
        },
        "id": "72N7sGDGlrNa",
        "outputId": "6e9d05c8-aee5-490f-b24a-2d5e54f226f4"
      },
      "outputs": [
        {
          "output_type": "stream",
          "name": "stdout",
          "text": [
            "Enter a string : outstanding\n",
            "outstanding->ou...ou...outstanding?\n",
            "Enter a string : enthusiastic\n",
            "enthusiastic->en...en...enthusiastic?\n",
            "Enter a string : incredible\n",
            "incredible->in...in...incredible?\n"
          ]
        }
      ],
      "source": [
        "def stutterword():\n",
        "  in_string=input(\"Enter a string : \")\n",
        "  out_string=in_string.replace(in_string[0:2],((in_string[0:2]+'...')*2)+in_string[0:2])+'?'\n",
        "  print(f'{in_string}->{out_string}')\n",
        "for x in range(3):\n",
        "  stutterword()"
      ]
    },
    {
      "cell_type": "code",
      "source": [
        "import math\n",
        "def radianToDegree():\n",
        "  in_num=int(input(\"Enter the angle in Radians : \"))\n",
        "  out_num=(180/math.pi)*in_num\n",
        "  print(f'{in_num} radian(s)->{out_num : .1f} Degrees')\n",
        "for x in range(3):\n",
        "  radianToDegree()"
      ],
      "metadata": {
        "colab": {
          "base_uri": "https://localhost:8080/"
        },
        "id": "isY-2cF2yvKt",
        "outputId": "0c4259f1-ec35-4f56-ded2-5fe8b3d94de6"
      },
      "execution_count": 5,
      "outputs": [
        {
          "output_type": "stream",
          "name": "stdout",
          "text": [
            "Enter the angle in Radians : 1\n",
            "1 radian(s)-> 57.3 Degrees\n",
            "Enter the angle in Radians : 20\n",
            "20 radian(s)-> 1145.9 Degrees\n",
            "Enter the angle in Radians : 50\n",
            "50 radian(s)-> 2864.8 Degrees\n"
          ]
        }
      ]
    },
    {
      "cell_type": "code",
      "source": [
        "def checkcurzon():\n",
        "  in_num=int(input(\"Enter a number : \"))\n",
        "  if (pow(2,in_num)+1)%((2*in_num)+1)==0:\n",
        "    print(f'{in_num} is a curzon number')\n",
        "  else:\n",
        "    print(f'{in_num} is not')\n",
        "\n",
        "for x in range(4):\n",
        "    checkcurzon()"
      ],
      "metadata": {
        "colab": {
          "base_uri": "https://localhost:8080/"
        },
        "id": "XMZLOekN0ddz",
        "outputId": "ef21654b-6fc2-420f-9938-6ad26b917578"
      },
      "execution_count": 6,
      "outputs": [
        {
          "output_type": "stream",
          "name": "stdout",
          "text": [
            "Enter a number : 5\n",
            "5 is a curzon number\n",
            "Enter a number : 10\n",
            "10 is not\n",
            "Enter a number : 14\n",
            "14 is a curzon number\n",
            "Enter a number : 12\n",
            "12 is not\n"
          ]
        }
      ]
    },
    {
      "cell_type": "code",
      "source": [
        "import math\n",
        "def areaofHexagon():\n",
        "  in_num=int(input(\"Enter the side length of Hexagon :\"))\n",
        "  out_num=((3*math.sqrt(3))/2)*(pow(in_num,2))\n",
        "  print(f'Area of Hexagon of Side length {in_num}->{out_num :.1f}')\n",
        "    \n",
        "for x in range(3):\n",
        "    areaofHexagon()"
      ],
      "metadata": {
        "colab": {
          "base_uri": "https://localhost:8080/"
        },
        "id": "CmRtk7jtENfk",
        "outputId": "e62d7a82-e549-4b18-a298-aceef957f98f"
      },
      "execution_count": 8,
      "outputs": [
        {
          "output_type": "stream",
          "name": "stdout",
          "text": [
            "Enter the side length of Hexagon :1\n",
            "Area of Hexagon of Side length 1->2.6\n",
            "Enter the side length of Hexagon :2\n",
            "Area of Hexagon of Side length 2->10.4\n",
            "Enter the side length of Hexagon :3\n",
            "Area of Hexagon of Side length 3->23.4\n"
          ]
        }
      ]
    },
    {
      "cell_type": "code",
      "source": [
        "def getBinary():\n",
        "  in_num=int(input(\"Enter a number :\"))\n",
        "  out_num=bin(in_num).replace('0b','')\n",
        "  print(f'Binary of {in_num}->{out_num}')\n",
        "for x in range(3):\n",
        "  getBinary()"
      ],
      "metadata": {
        "colab": {
          "base_uri": "https://localhost:8080/"
        },
        "id": "SgWNttbuK_SK",
        "outputId": "1d387dae-fc93-421e-c0fa-25ca49c5dfcf"
      },
      "execution_count": 9,
      "outputs": [
        {
          "output_type": "stream",
          "name": "stdout",
          "text": [
            "Enter a number :1\n",
            "Binary of 1->1\n",
            "Enter a number :5\n",
            "Binary of 5->101\n",
            "Enter a number :10\n",
            "Binary of 10->1010\n"
          ]
        }
      ]
    }
  ]
}