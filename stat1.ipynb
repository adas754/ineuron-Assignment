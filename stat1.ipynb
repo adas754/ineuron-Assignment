{
  "nbformat": 4,
  "nbformat_minor": 0,
  "metadata": {
    "colab": {
      "provenance": []
    },
    "kernelspec": {
      "name": "python3",
      "display_name": "Python 3"
    },
    "language_info": {
      "name": "python"
    }
  },
  "cells": [
    {
      "cell_type": "markdown",
      "source": [
        "# 1. Scenario: A company wants to analyze the sales performance of its products in different regions. They have collected the following data:\n",
        "#   Region A: [10, 15, 12, 8, 14]\n",
        "#   Region B: [18, 20, 16, 22, 25]\n",
        "#   Calculate the mean sales for each region.\n"
      ],
      "metadata": {
        "id": "VJh3AFcCBRr7"
      }
    },
    {
      "cell_type": "code",
      "execution_count": null,
      "metadata": {
        "colab": {
          "base_uri": "https://localhost:8080/"
        },
        "id": "TqhOYftRBMS5",
        "outputId": "c5b37a2f-d97c-4b2f-cbe9-ce8d3708c89e"
      },
      "outputs": [
        {
          "output_type": "stream",
          "name": "stdout",
          "text": [
            "11.8\n",
            "20.2\n"
          ]
        }
      ],
      "source": [
        "region_a_sales = [10, 15, 12, 8, 14]\n",
        "region_b_sales = [18, 20, 16, 22, 25]\n",
        "mean_region_a=sum(region_a_sales)/len(region_a_sales)\n",
        "mean_region_b=sum(region_b_sales)/len(region_b_sales)\n",
        "print(mean_region_a)\n",
        "print(mean_region_b)"
      ]
    },
    {
      "cell_type": "markdown",
      "source": [
        "# 2. Scenario: A survey is conducted to measure customer satisfaction on a scale of 1 to 5. The data collected is as follows:\n",
        "#   [4, 5, 2, 3, 5, 4, 3, 2, 4, 5]\n",
        "#   Calculate the mode of the survey responses.\n"
      ],
      "metadata": {
        "id": "WnUn6H_DCd1K"
      }
    },
    {
      "cell_type": "code",
      "source": [
        "survey_responses = [4, 5, 2, 3, 5, 4, 3, 2, 4, 5]\n",
        "responses_count={}\n",
        "for response in survey_responses:\n",
        "  if response in responses_count:\n",
        "    responses_count[response]+=1\n",
        "  else:\n",
        "    responses_count[response]=1\n",
        "max_frequency=max(responses_count.values())\n",
        "modes=[response for response,frequency in responses_count.items() if frequency==max_frequency]\n",
        "print(modes)\n"
      ],
      "metadata": {
        "colab": {
          "base_uri": "https://localhost:8080/"
        },
        "id": "YCw9tglWCQkc",
        "outputId": "f13fca7f-3676-43ad-ed54-646d156db771"
      },
      "execution_count": null,
      "outputs": [
        {
          "output_type": "stream",
          "name": "stdout",
          "text": [
            "[4, 5]\n"
          ]
        }
      ]
    },
    {
      "cell_type": "markdown",
      "source": [
        "\n",
        "# 3. Scenario: A company wants to compare the salaries of two departments. The salary data for Department A and Department B are as follows:\n",
        "#   Department A: [5000, 6000, 5500, 7000]\n",
        "#   Department B: [4500, 5500, 5800, 6000, 5200]\n",
        "#   Calculate the median salary for each department.\n"
      ],
      "metadata": {
        "id": "HDwtoFQkJVjG"
      }
    },
    {
      "cell_type": "code",
      "source": [
        "department_a_salaries=[5000, 6000, 5500, 7000]\n",
        "department_b_salaries=[4500, 5500, 5800, 6000, 5200]\n",
        "sorted_a_salaries=sorted(department_a_salaries)\n",
        "num_a_salaries=len(sorted_a_salaries)\n",
        "mid_a_index=num_a_salaries//2\n",
        "if num_a_salaries % 2==0:\n",
        "  median_a=(sorted_a_salaries[mid_a_index]+sorted_a_salaries[mid_a_index - 1]) / 2\n",
        "else:\n",
        "  median_a=sorted_a_salaries[mid_a_index]\n",
        "\n",
        "sorted_b_salaries=sorted(department_b_salaries)\n",
        "num_b_salaries=len(sorted_b_salaries)\n",
        "mid_b_index=num_b_salaries//2\n",
        "if num_b_salaries %2==0:\n",
        "  median_a=(sorted_b_salaries[mid_b_index]+sorted_b_salaries[mid_b_index-1]) /2\n",
        "else:\n",
        "  median_b=sorted_b_salaries[mid_b_index]\n",
        "print(median_a)\n",
        "print(median_b)"
      ],
      "metadata": {
        "colab": {
          "base_uri": "https://localhost:8080/"
        },
        "id": "-6qlvW8fMw3L",
        "outputId": "0bef6423-7bc4-4ace-a651-793cd301a4e0"
      },
      "execution_count": null,
      "outputs": [
        {
          "output_type": "stream",
          "name": "stdout",
          "text": [
            "5750.0\n",
            "5500\n"
          ]
        }
      ]
    },
    {
      "cell_type": "markdown",
      "source": [
        "# 4. Scenario: A data analyst wants to determine the variability in the daily stock prices of a company. The data collected is as follows:\n",
        "#   [25.5, 24.8, 26.1, 25.3, 24.9]\n",
        "#   Calculate the range of the stock prices.\n"
      ],
      "metadata": {
        "id": "cuAhgQKqWADC"
      }
    },
    {
      "cell_type": "code",
      "source": [
        "stock_prices = [25.5, 24.8, 26.1, 25.3, 24.9]\n",
        "min_prices=min(stock_prices)\n",
        "max_prices=max(stock_prices)\n",
        "price_range=max_prices-min_prices\n",
        "print(price_range)"
      ],
      "metadata": {
        "colab": {
          "base_uri": "https://localhost:8080/"
        },
        "id": "OHK0dtPeWLlI",
        "outputId": "dbcaf2d5-b85d-489f-fa3e-3d667edfe301"
      },
      "execution_count": null,
      "outputs": [
        {
          "output_type": "stream",
          "name": "stdout",
          "text": [
            "1.3000000000000007\n"
          ]
        }
      ]
    },
    {
      "cell_type": "markdown",
      "source": [
        "## 5. Scenario: A study is conducted to compare the performance of two different teaching methods. The test scores of the students in each group are as follows:\n",
        "#   Group A: [85, 90, 92, 88, 91]\n",
        "#   Group B: [82, 88, 90, 86, 87]\n",
        "#   Perform a t-test to determine if there is a significant difference in the mean scores between the two groups.\n"
      ],
      "metadata": {
        "id": "t6lx5S4DXKA8"
      }
    },
    {
      "cell_type": "code",
      "source": [
        "import scipy.stats as stats\n",
        "group_a_scores=[85, 90, 92, 88, 91]\n",
        "group_b_scores=[82, 88, 90, 86, 87]\n",
        "t_statistic,p_value=stats.ttest_ind(group_a_scores,group_b_scores)\n",
        "print(t_statistic)\n",
        "print(p_value)"
      ],
      "metadata": {
        "colab": {
          "base_uri": "https://localhost:8080/"
        },
        "id": "zIZRiGG6XhZz",
        "outputId": "ba6db5f8-2094-41c4-c1e5-d2c67adbd9dc"
      },
      "execution_count": null,
      "outputs": [
        {
          "output_type": "stream",
          "name": "stdout",
          "text": [
            "1.4312528946642733\n",
            "0.19023970239078333\n"
          ]
        }
      ]
    },
    {
      "cell_type": "markdown",
      "source": [
        "# 6. Scenario: A company wants to analyze the relationship between advertising expenditure and sales. The data collected is as follows:\n",
        "#   Advertising Expenditure (in thousands): [10, 15, 12, 8, 14]\n",
        "#   Sales (in thousands): [25, 30, 28, 20, 26]\n",
        "###   Calculate the correlation coefficient between advertising expenditure and sales.\n"
      ],
      "metadata": {
        "id": "C7vx2q3oaAPd"
      }
    },
    {
      "cell_type": "code",
      "source": [
        "import numpy as np\n",
        "advertising_expenditure = [10, 15, 12, 8, 14]\n",
        "sales = [25, 30, 28, 20, 26]\n",
        "corelation_coefficient=np.corrcoef(advertising_expenditure,sales)[0,1]\n",
        "print('corelation coefficient',corelation_coefficient)\n"
      ],
      "metadata": {
        "colab": {
          "base_uri": "https://localhost:8080/"
        },
        "id": "QHqtvLDPXz5t",
        "outputId": "f0bc9eaf-2eb5-44c1-a8d3-58b39ac8bc4f"
      },
      "execution_count": null,
      "outputs": [
        {
          "output_type": "stream",
          "name": "stdout",
          "text": [
            "corelation coefficient 0.8757511375750132\n"
          ]
        }
      ]
    },
    {
      "cell_type": "markdown",
      "source": [
        "# 7. Scenario: A survey is conducted to measure the heights of a group of people. The data collected is as follows:\n",
        "#   [160, 170, 165, 155, 175, 180, 170]\n",
        "#   Calculate the standard deviation of the heights.\n"
      ],
      "metadata": {
        "id": "hyJJOkvubuy_"
      }
    },
    {
      "cell_type": "code",
      "source": [
        "import numpy as np\n",
        "heights = [160, 170, 165, 155, 175, 180, 170]\n",
        "std_deviation=np.std(heights)\n",
        "print(std_deviation)"
      ],
      "metadata": {
        "colab": {
          "base_uri": "https://localhost:8080/"
        },
        "id": "qWkZBSeUbzWQ",
        "outputId": "0ee8722b-e98e-489a-f2bc-f57aa7b24ede"
      },
      "execution_count": null,
      "outputs": [
        {
          "output_type": "stream",
          "name": "stdout",
          "text": [
            "7.953949089757174\n"
          ]
        }
      ]
    },
    {
      "cell_type": "markdown",
      "source": [
        "# 8. Scenario: A company wants to analyze the relationship between employee tenure and job satisfaction. The data collected is as follows:\n",
        "#   Employee Tenure (in years): [2, 3, 5, 4, 6, 2, 4]\n",
        "#   Job Satisfaction (on a scale of 1 to 10): [7, 8, 6, 9, 5, 7, 6]\n",
        "#   Perform a linear regression analysis to predict job satisfaction based on employee tenure.\n"
      ],
      "metadata": {
        "id": "yh3KJiWUdLlT"
      }
    },
    {
      "cell_type": "code",
      "source": [
        "import numpy as np\n",
        "from scipy import stats\n",
        "employee_tenure = [2, 3, 5, 4, 6, 2, 4]\n",
        "job_satisfaction = [7, 8, 6, 9, 5, 7, 6]\n",
        "slope, intercept, r_value, p_value, std_err=stats.linregress(employee_tenure,job_satisfaction)\n",
        "print(\"Slope:\", slope)\n",
        "print(\"Intercept:\", intercept)\n",
        "print(\"R-squared value:\", r_value**2)\n",
        "print(\"P-value:\", p_value)\n"
      ],
      "metadata": {
        "colab": {
          "base_uri": "https://localhost:8080/"
        },
        "id": "yrax3ayacta_",
        "outputId": "e94e5eae-32e4-4016-a6b3-43831c3cd43c"
      },
      "execution_count": null,
      "outputs": [
        {
          "output_type": "stream",
          "name": "stdout",
          "text": [
            "Slope: -0.4680851063829787\n",
            "Intercept: 8.595744680851062\n",
            "R-squared value: 0.27099664053751393\n",
            "P-value: 0.23095550952297988\n"
          ]
        }
      ]
    },
    {
      "cell_type": "markdown",
      "source": [
        "# 9. Scenario: A study is conducted to compare the effectiveness of two different medications. The recovery times of the patients in each group are as follows:\n",
        "#   Medication A: [10, 12, 14, 11, 13]\n",
        "#   Medication B: [15, 17, 16, 14, 18]\n",
        "#   Perform an analysis of variance (ANOVA) to determine if there is a significant difference in the mean recovery times between the two medications.\n"
      ],
      "metadata": {
        "id": "1lWNvHqSe3at"
      }
    },
    {
      "cell_type": "code",
      "source": [
        "import scipy.stats as stats\n",
        "medication_a_times=[10, 12, 14, 11, 13]\n",
        "medication_b_times=[15, 17, 16, 14, 18]\n",
        "f_statistic,p_value=stats.f_oneway(medication_a_times,medication_b_times)\n",
        "print(f_statistic)\n",
        "print(p_value)\n"
      ],
      "metadata": {
        "colab": {
          "base_uri": "https://localhost:8080/"
        },
        "id": "CSj-nqJ_fQCP",
        "outputId": "fad5ca41-e408-4ef3-c1d6-64e4cfa1d4a4"
      },
      "execution_count": null,
      "outputs": [
        {
          "output_type": "stream",
          "name": "stdout",
          "text": [
            "16.0\n",
            "0.003949772803445326\n"
          ]
        }
      ]
    },
    {
      "cell_type": "markdown",
      "source": [
        "# 10. Scenario: A company wants to analyze customer feedback ratings on a scale of 1 to 10. The data collected is\n",
        "\n",
        "# as follows:\n",
        "#    [8, 9, 7, 6, 8, 10, 9, 8, 7, 8]\n",
        "#    Calculate the 75th percentile of the feedback ratings.\n"
      ],
      "metadata": {
        "id": "3YXJfOpBhmDe"
      }
    },
    {
      "cell_type": "code",
      "source": [
        "\n",
        "import numpy as np\n",
        "feedback_ratings = [8, 9, 7, 6, 8, 10, 9, 8, 7, 8]\n",
        "percentile_75=np.percentile(feedback_ratings,75)\n",
        "print(percentile_75)"
      ],
      "metadata": {
        "colab": {
          "base_uri": "https://localhost:8080/"
        },
        "id": "1p1NAPazg97U",
        "outputId": "9da3ba4b-efbb-4e7e-ae85-965cceae6720"
      },
      "execution_count": null,
      "outputs": [
        {
          "output_type": "stream",
          "name": "stdout",
          "text": [
            "8.75\n"
          ]
        }
      ]
    },
    {
      "cell_type": "markdown",
      "source": [
        "# 11. Scenario: A quality control department wants to test the weight consistency of a product. The weights of a sample of products are as follows:\n",
        "#    [10.2, 9.8, 10.0, 10.5, 10.3, 10.1]\n",
        "#    Perform a hypothesis test to determine if the mean weight differs significantly from 10 grams.\n"
      ],
      "metadata": {
        "id": "e62SpdrE-EQz"
      }
    },
    {
      "cell_type": "code",
      "source": [
        "import scipy.stats as stats\n",
        "\n",
        "# Sample weights\n",
        "sample_weights = [10.2, 9.8, 10.0, 10.5, 10.3, 10.1]\n",
        "\n",
        "# Null hypothesis: The mean weight is equal to 10 grams\n",
        "# Alternative hypothesis: The mean weight is not equal to 10 grams\n",
        "\n",
        "# Perform one-sample t-test\n",
        "t_statistic, p_value = stats.ttest_1samp(sample_weights, 10)\n",
        "\n",
        "# Set significance level (alpha)\n",
        "alpha = 0.05\n",
        "\n",
        "# Compare p-value to the significance level\n",
        "if p_value < alpha:\n",
        "    print(\"Reject the null hypothesis.\")\n",
        "    print(\"The mean weight differs significantly from 10 grams.\")\n",
        "else:\n",
        "    print(\"Fail to reject the null hypothesis.\")\n",
        "    print(\"The mean weight does not differ significantly from 10 grams.\")\n",
        "\n",
        "print(\"p-value:\", p_value)\n"
      ],
      "metadata": {
        "id": "qFepLs98jgGf",
        "colab": {
          "base_uri": "https://localhost:8080/"
        },
        "outputId": "788432b7-c404-4458-9fa6-18c55891876e"
      },
      "execution_count": 1,
      "outputs": [
        {
          "output_type": "stream",
          "name": "stdout",
          "text": [
            "Fail to reject the null hypothesis.\n",
            "The mean weight does not differ significantly from 10 grams.\n",
            "p-value: 0.19077595151110102\n"
          ]
        }
      ]
    },
    {
      "cell_type": "markdown",
      "source": [
        "\n",
        "# 12. Scenario: A company wants to analyze the click-through rates of two different website designs. The number of clicks for each design is as follows:\n",
        "#    Design A: [100, 120, 110, 90, 95]\n",
        "#    Design B: [80, 85, 90, 95, 100]\n",
        "#    Perform a chi-square test to determine if there is a significant difference in the click-through rates between the two designs.\n"
      ],
      "metadata": {
        "id": "H_0FC9RD_fos"
      }
    },
    {
      "cell_type": "code",
      "source": [
        "import numpy as np\n",
        "import scipy.stats as stats\n",
        "\n",
        "# Click-through rates for Design A and Design B\n",
        "design_A = [100, 120, 110, 90, 95]\n",
        "design_B = [80, 85, 90, 95, 100]\n",
        "\n",
        "# Combine the click-through rates into a contingency table\n",
        "observed_frequencies = np.array([design_A, design_B])\n",
        "\n",
        "# Calculate the expected frequencies\n",
        "expected_frequencies = np.mean(observed_frequencies, axis=0)\n",
        "\n",
        "# Flatten the observed and expected frequencies into 1D arrays\n",
        "observed_flat = observed_frequencies.flatten()\n",
        "expected_flat = np.tile(expected_frequencies, 2)\n",
        "\n",
        "# Perform chi-square test\n",
        "chi2_statistic, p_value = stats.chisquare(observed_flat, expected_flat)\n",
        "\n",
        "# Set significance level (alpha)\n",
        "alpha = 0.05\n",
        "\n",
        "# Compare p-value to the significance level\n",
        "if p_value < alpha:\n",
        "    print(\"Reject the null hypothesis.\")\n",
        "    print(\"There is a significant difference in click-through rates between the two designs.\")\n",
        "else:\n",
        "    print(\"Fail to reject the null hypothesis.\")\n",
        "    print(\"There is no significant difference in click-through rates between the two designs.\")\n",
        "\n",
        "print(\"p-value:\", p_value)\n"
      ],
      "metadata": {
        "colab": {
          "base_uri": "https://localhost:8080/"
        },
        "id": "FTtd14MH_IhS",
        "outputId": "b2790b04-726c-4661-804c-88f07b8d7d49"
      },
      "execution_count": 3,
      "outputs": [
        {
          "output_type": "stream",
          "name": "stdout",
          "text": [
            "Fail to reject the null hypothesis.\n",
            "There is no significant difference in click-through rates between the two designs.\n",
            "p-value: 0.31445561975094966\n"
          ]
        }
      ]
    },
    {
      "cell_type": "markdown",
      "source": [
        "## 13. Scenario: A survey is conducted to measure customer satisfaction with a product on a scale of 1 to 10. The data collected is as follows:\n",
        "#    [7, 9, 6, 8, 10, 7, 8, 9, 7, 8]\n",
        "#    Calculate the 95% confidence interval for the population mean satisfaction score.\n"
      ],
      "metadata": {
        "id": "IDjHKxAlAqSa"
      }
    },
    {
      "cell_type": "code",
      "source": [
        "import numpy as np\n",
        "import scipy.stats as stats\n",
        "\n",
        "# Data: Customer satisfaction scores\n",
        "data = [7, 9, 6, 8, 10, 7, 8, 9, 7, 8]\n",
        "\n",
        "# Calculate sample statistics\n",
        "sample_mean = np.mean(data)\n",
        "sample_std = np.std(data, ddof=1)  # ddof=1 for sample standard deviation\n",
        "sample_size = len(data)\n",
        "\n",
        "# Set confidence level and degrees of freedom\n",
        "confidence_level = 0.95\n",
        "degrees_of_freedom = sample_size - 1\n",
        "\n",
        "# Calculate the standard error of the mean\n",
        "standard_error = sample_std / np.sqrt(sample_size)\n",
        "\n",
        "# Calculate the margin of error\n",
        "margin_of_error = stats.t.ppf((1 + confidence_level) / 2, degrees_of_freedom) * standard_error\n",
        "\n",
        "# Calculate the confidence interval\n",
        "confidence_interval = (sample_mean - margin_of_error, sample_mean + margin_of_error)\n",
        "\n",
        "print(\"Sample Mean:\", sample_mean)\n",
        "print(\"Sample Standard Deviation:\", sample_std)\n",
        "print(\"Sample Size:\", sample_size)\n",
        "print(\"Confidence Interval ({}%):\".format(confidence_level * 100))\n",
        "print(confidence_interval)\n"
      ],
      "metadata": {
        "colab": {
          "base_uri": "https://localhost:8080/"
        },
        "id": "mbz38yiX_TeE",
        "outputId": "10d38d27-c3c7-40e1-da40-aaa978372a93"
      },
      "execution_count": 4,
      "outputs": [
        {
          "output_type": "stream",
          "name": "stdout",
          "text": [
            "Sample Mean: 7.9\n",
            "Sample Standard Deviation: 1.1972189997378646\n",
            "Sample Size: 10\n",
            "Confidence Interval (95.0%):\n",
            "(7.043561120599888, 8.756438879400113)\n"
          ]
        }
      ]
    },
    {
      "cell_type": "markdown",
      "source": [
        "\n",
        "# 14. Scenario: A company wants to analyze the effect of temperature on product performance. The data collected is as follows:\n",
        "#    Temperature (in degrees Celsius): [20, 22, 23, 19, 21]\n",
        "#    Performance (on a scale of 1 to 10): [8, 7, 9, 6, 8]\n",
        "#    Perform a simple linear regression to predict performance based on temperature.\n"
      ],
      "metadata": {
        "id": "p55yOASiB5l7"
      }
    },
    {
      "cell_type": "code",
      "source": [
        "import numpy as np\n",
        "import scipy.stats as stats\n",
        "\n",
        "# Temperature (in degrees Celsius)\n",
        "temperature = [20, 22, 23, 19, 21]\n",
        "\n",
        "# Performance (on a scale of 1 to 10)\n",
        "performance = [8, 7, 9, 6, 8]\n",
        "\n",
        "# Perform simple linear regression\n",
        "slope, intercept, r_value, p_value, std_err = stats.linregress(temperature, performance)\n",
        "\n",
        "# Print regression line equation\n",
        "print(\"Regression Line Equation: y = {:.2f}x + {:.2f}\".format(slope, intercept))\n",
        "\n",
        "# Predict performance for a given temperature\n",
        "given_temperature = 25\n",
        "predicted_performance = slope * given_temperature + intercept\n",
        "print(\"Predicted Performance at {} degrees Celsius: {:.2f}\".format(given_temperature, predicted_performance))\n"
      ],
      "metadata": {
        "colab": {
          "base_uri": "https://localhost:8080/"
        },
        "id": "NDG6kNdYB9Qj",
        "outputId": "e745b64f-0130-447e-bea2-81abcae324fc"
      },
      "execution_count": 5,
      "outputs": [
        {
          "output_type": "stream",
          "name": "stdout",
          "text": [
            "Regression Line Equation: y = 0.50x + -2.90\n",
            "Predicted Performance at 25 degrees Celsius: 9.60\n"
          ]
        }
      ]
    },
    {
      "cell_type": "markdown",
      "source": [
        "# 15. Scenario: A study is conducted to compare the preferences of two groups of participants. The preferences are measured on a Likert scale from 1 to 5. The data collected is as follows:\n",
        "#    Group A: [4, 3, 5, 2, 4]\n",
        "#    Group B: [3, 2, 4, 3, 3]\n",
        "#    Perform a Mann-Whitney U test to determine if there is a significant difference in the median preferences between the two groups.\n",
        "\n",
        "\n"
      ],
      "metadata": {
        "id": "89lnlmOuDQn5"
      }
    },
    {
      "cell_type": "code",
      "source": [
        "import numpy as np\n",
        "import scipy.stats as stats\n",
        "\n",
        "# Preferences for Group A and Group B\n",
        "group_A = [4, 3, 5, 2, 4]\n",
        "group_B = [3, 2, 4, 3, 3]\n",
        "\n",
        "# Perform Mann-Whitney U test\n",
        "statistic, p_value = stats.mannwhitneyu(group_A, group_B, alternative='two-sided')\n",
        "\n",
        "# Set significance level (alpha)\n",
        "alpha = 0.05\n",
        "\n",
        "# Compare p-value to the significance level\n",
        "if p_value < alpha:\n",
        "    print(\"Reject the null hypothesis.\")\n",
        "    print(\"There is a significant difference in median preferences between the two groups.\")\n",
        "else:\n",
        "    print(\"Fail to reject the null hypothesis.\")\n",
        "    print(\"There is no significant difference in median preferences between the two groups.\")\n",
        "\n",
        "print(\"p-value:\", p_value)\n"
      ],
      "metadata": {
        "colab": {
          "base_uri": "https://localhost:8080/"
        },
        "id": "Ps7TDq1kDVxB",
        "outputId": "fa6acf82-bf54-4101-f126-9ca5077ebdf2"
      },
      "execution_count": 6,
      "outputs": [
        {
          "output_type": "stream",
          "name": "stdout",
          "text": [
            "Fail to reject the null hypothesis.\n",
            "There is no significant difference in median preferences between the two groups.\n",
            "p-value: 0.380836480306712\n"
          ]
        }
      ]
    },
    {
      "cell_type": "markdown",
      "source": [
        "# 16. Scenario: A company wants to analyze the distribution of customer ages. The data collected is as follows:\n",
        "#    [25, 30, 35, 40, 45, 50, 55, 60, 65, 70]\n",
        "#    Calculate the interquartile range (IQR) of the ages.\n",
        "\n"
      ],
      "metadata": {
        "id": "qS4Rknc7E8R1"
      }
    },
    {
      "cell_type": "code",
      "source": [
        "import numpy as np\n",
        "\n",
        "# Customer ages\n",
        "ages = [25, 30, 35, 40, 45, 50, 55, 60, 65, 70]\n",
        "\n",
        "# Calculate the first quartile (Q1)\n",
        "q1 = np.percentile(ages, 25)\n",
        "\n",
        "# Calculate the third quartile (Q3)\n",
        "q3 = np.percentile(ages, 75)\n",
        "\n",
        "# Calculate the interquartile range (IQR)\n",
        "iqr = q3 - q1\n",
        "\n",
        "print(\"First Quartile (Q1):\", q1)\n",
        "print(\"Third Quartile (Q3):\", q3)\n",
        "print(\"Interquartile Range (IQR):\", iqr)\n"
      ],
      "metadata": {
        "colab": {
          "base_uri": "https://localhost:8080/"
        },
        "id": "vgcPictAFPhX",
        "outputId": "1742e1f7-79f2-4011-eebc-c0a727e8dc89"
      },
      "execution_count": 7,
      "outputs": [
        {
          "output_type": "stream",
          "name": "stdout",
          "text": [
            "First Quartile (Q1): 36.25\n",
            "Third Quartile (Q3): 58.75\n",
            "Interquartile Range (IQR): 22.5\n"
          ]
        }
      ]
    },
    {
      "cell_type": "markdown",
      "source": [
        "# 17. Scenario: A study is conducted to compare the performance of three different machine learning algorithms. The accuracy scores for each algorithm are as follows:\n",
        "#    Algorithm A: [0.85, 0.80, 0.82, 0.87, 0.83]\n",
        "#    Algorithm B: [0.78, 0.82, 0.84, 0.80, 0.79]\n",
        "#    Algorithm C: [0.90, 0.88, 0.89, 0.86, 0.87]\n",
        "#    Perform a Kruskal-Wallis test to determine if there is a significant difference in the median accuracy scores between the algorithms.\n"
      ],
      "metadata": {
        "id": "uaY8lbHlFSn8"
      }
    },
    {
      "cell_type": "code",
      "source": [
        "import numpy as np\n",
        "import scipy.stats as stats\n",
        "\n",
        "# Accuracy scores for Algorithm A, Algorithm B, and Algorithm C\n",
        "algorithm_A = [0.85, 0.80, 0.82, 0.87, 0.83]\n",
        "algorithm_B = [0.78, 0.82, 0.84, 0.80, 0.79]\n",
        "algorithm_C = [0.90, 0.88, 0.89, 0.86, 0.87]\n",
        "\n",
        "# Perform Kruskal-Wallis test\n",
        "statistic, p_value = stats.kruskal(algorithm_A, algorithm_B, algorithm_C)\n",
        "\n",
        "# Set significance level (alpha)\n",
        "alpha = 0.05\n",
        "\n",
        "# Compare p-value to the significance level\n",
        "if p_value < alpha:\n",
        "    print(\"Reject the null hypothesis.\")\n",
        "    print(\"There is a significant difference in median accuracy scores between the algorithms.\")\n",
        "else:\n",
        "    print(\"Fail to reject the null hypothesis.\")\n",
        "    print(\"There is no significant difference in median accuracy scores between the algorithms.\")\n",
        "\n",
        "print(\"p-value:\", p_value)\n"
      ],
      "metadata": {
        "colab": {
          "base_uri": "https://localhost:8080/"
        },
        "id": "do6q2xAqFxZo",
        "outputId": "78f20bce-45dc-43c5-b516-eaea01ee4f98"
      },
      "execution_count": 8,
      "outputs": [
        {
          "output_type": "stream",
          "name": "stdout",
          "text": [
            "Reject the null hypothesis.\n",
            "There is a significant difference in median accuracy scores between the algorithms.\n",
            "p-value: 0.007840333026249539\n"
          ]
        }
      ]
    },
    {
      "cell_type": "markdown",
      "source": [
        "# 18. Scenario: A company wants to analyze the effect of price on sales. The data collected is as follows:\n",
        "#    Price (in dollars): [10, 15, 12, 8, 14]\n",
        "#    Sales: [100, 80, 90, 110, 95]\n",
        "#    Perform a simple linear regression to predict\n",
        "\n",
        "# sales based on price.\n"
      ],
      "metadata": {
        "id": "-mR8EplDGftZ"
      }
    },
    {
      "cell_type": "code",
      "source": [
        "import numpy as np\n",
        "import scipy.stats as stats\n",
        "\n",
        "# Price (in dollars)\n",
        "price = [10, 15, 12, 8, 14]\n",
        "\n",
        "# Sales\n",
        "sales = [100, 80, 90, 110, 95]\n",
        "\n",
        "# Perform simple linear regression\n",
        "slope, intercept, r_value, p_value, std_err = stats.linregress(price, sales)\n",
        "\n",
        "# Print regression line equation\n",
        "print(\"Regression Line Equation: y = {:.2f}x + {:.2f}\".format(slope, intercept))\n",
        "\n",
        "# Predict sales for a given price\n",
        "given_price = 13\n",
        "predicted_sales = slope * given_price + intercept\n",
        "print(\"Predicted Sales at ${} price: {:.2f}\".format(given_price, predicted_sales))\n"
      ],
      "metadata": {
        "colab": {
          "base_uri": "https://localhost:8080/"
        },
        "id": "fWYfnSSHGVwW",
        "outputId": "182f4479-ccc6-4b6f-d546-4321c9d65b66"
      },
      "execution_count": 10,
      "outputs": [
        {
          "output_type": "stream",
          "name": "stdout",
          "text": [
            "Regression Line Equation: y = -3.51x + 136.37\n",
            "Predicted Sales at $13 price: 90.79\n"
          ]
        }
      ]
    },
    {
      "cell_type": "markdown",
      "source": [
        "# 19. Scenario: A survey is conducted to measure the satisfaction levels of customers with a new product. The data collected is as follows:\n",
        "#    [7, 8, 9, 6, 8, 7, 9, 7, 8, 7]\n",
        "#    Calculate the standard error of the mean satisfaction score.\n"
      ],
      "metadata": {
        "id": "1YgoClMRHI8l"
      }
    },
    {
      "cell_type": "code",
      "source": [
        "import numpy as np\n",
        "\n",
        "# Satisfaction scores\n",
        "scores = [7, 8, 9, 6, 8, 7, 9, 7, 8, 7]\n",
        "\n",
        "# Calculate the standard deviation of the scores\n",
        "sample_std = np.std(scores, ddof=1)  # ddof=1 for sample standard deviation\n",
        "\n",
        "# Calculate the standard error of the mean\n",
        "sample_size = len(scores)\n",
        "standard_error = sample_std / np.sqrt(sample_size)\n",
        "\n",
        "print(\"Sample Standard Deviation:\", sample_std)\n",
        "print(\"Sample Size:\", sample_size)\n",
        "print(\"Standard Error of the Mean:\", standard_error)\n"
      ],
      "metadata": {
        "colab": {
          "base_uri": "https://localhost:8080/"
        },
        "id": "iRFIM4C5GaFW",
        "outputId": "c1ab7b96-ca5b-46b6-e1b1-cdcf2ced1742"
      },
      "execution_count": 11,
      "outputs": [
        {
          "output_type": "stream",
          "name": "stdout",
          "text": [
            "Sample Standard Deviation: 0.9660917830792959\n",
            "Sample Size: 10\n",
            "Standard Error of the Mean: 0.30550504633038933\n"
          ]
        }
      ]
    },
    {
      "cell_type": "markdown",
      "source": [
        "# 20. Scenario: A company wants to analyze the relationship between advertising expenditure and sales. The data collected is as follows:\n",
        "#    Advertising Expenditure (in thousands): [10, 15, 12, 8, 14]\n",
        "#    Sales (in thousands): [25, 30, 28, 20, 26]\n",
        "#    Perform a multiple regression analysis to predict sales based on advertising expenditure.\n",
        "\n"
      ],
      "metadata": {
        "id": "HJKaBsHBHmG6"
      }
    },
    {
      "cell_type": "code",
      "source": [
        "import numpy as np\n",
        "import statsmodels.api as sm\n",
        "\n",
        "# Advertising Expenditure (in thousands)\n",
        "advertising_expenditure = [10, 15, 12, 8, 14]\n",
        "\n",
        "# Sales (in thousands)\n",
        "sales = [25, 30, 28, 20, 26]\n",
        "\n",
        "# Add a constant term to the predictor variable\n",
        "expenditure_with_constant = sm.add_constant(advertising_expenditure)\n",
        "\n",
        "# Perform multiple regression analysis\n",
        "model = sm.OLS(sales, expenditure_with_constant)\n",
        "results = model.fit()\n",
        "\n",
        "# Print regression results\n",
        "print(results.summary())\n"
      ],
      "metadata": {
        "colab": {
          "base_uri": "https://localhost:8080/"
        },
        "id": "rhxLztO0HprU",
        "outputId": "e7572254-b727-43e9-dcc9-70415165f49e"
      },
      "execution_count": 12,
      "outputs": [
        {
          "output_type": "stream",
          "name": "stdout",
          "text": [
            "                            OLS Regression Results                            \n",
            "==============================================================================\n",
            "Dep. Variable:                      y   R-squared:                       0.767\n",
            "Model:                            OLS   Adj. R-squared:                  0.689\n",
            "Method:                 Least Squares   F-statistic:                     9.872\n",
            "Date:                Tue, 18 Jul 2023   Prob (F-statistic):             0.0516\n",
            "Time:                        17:49:54   Log-Likelihood:                -9.5288\n",
            "No. Observations:                   5   AIC:                             23.06\n",
            "Df Residuals:                       3   BIC:                             22.28\n",
            "Df Model:                           1                                         \n",
            "Covariance Type:            nonrobust                                         \n",
            "==============================================================================\n",
            "                 coef    std err          t      P>|t|      [0.025      0.975]\n",
            "------------------------------------------------------------------------------\n",
            "const         12.2012      4.429      2.755      0.070      -1.893      26.296\n",
            "x1             1.1524      0.367      3.142      0.052      -0.015       2.320\n",
            "==============================================================================\n",
            "Omnibus:                          nan   Durbin-Watson:                   1.136\n",
            "Prob(Omnibus):                    nan   Jarque-Bera (JB):                0.546\n",
            "Skew:                          -0.267   Prob(JB):                        0.761\n",
            "Kurtosis:                       1.471   Cond. No.                         57.3\n",
            "==============================================================================\n",
            "\n",
            "Notes:\n",
            "[1] Standard Errors assume that the covariance matrix of the errors is correctly specified.\n"
          ]
        },
        {
          "output_type": "stream",
          "name": "stderr",
          "text": [
            "/usr/local/lib/python3.10/dist-packages/statsmodels/stats/stattools.py:74: ValueWarning: omni_normtest is not valid with less than 8 observations; 5 samples were given.\n",
            "  warn(\"omni_normtest is not valid with less than 8 observations; %i \"\n"
          ]
        }
      ]
    }
  ]
}