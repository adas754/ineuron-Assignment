{
  "nbformat": 4,
  "nbformat_minor": 0,
  "metadata": {
    "colab": {
      "name": "sql5.ipynb",
      "provenance": []
    },
    "kernelspec": {
      "name": "python3",
      "display_name": "Python 3"
    },
    "language_info": {
      "name": "python"
    }
  },
  "cells": [
    {
      "cell_type": "markdown",
      "source": [
        "Q-1. Write an SQL query to print details of workers excluding first names, “Vipul” and “Satish” from Worker table.\n"
      ],
      "metadata": {
        "id": "8p58_PtKUqpZ"
      }
    },
    {
      "cell_type": "markdown",
      "source": [
        "SELECT FIRST_NAME FROM WORKER WHERE FIRST_NAME NOT IN('Vipul','Satish');"
      ],
      "metadata": {
        "id": "kK964HENUr7N"
      }
    },
    {
      "cell_type": "markdown",
      "source": [
        "Q-2. Write an SQL query to print details of the Workers whose FIRST_NAME ends with ‘h’ and contains six alphabets."
      ],
      "metadata": {
        "id": "W1Bg-Q_pVnEB"
      }
    },
    {
      "cell_type": "markdown",
      "source": [
        "SELECT*FROM WORKER WHERE FIRST_NAME LIKE '______h';"
      ],
      "metadata": {
        "id": "3ozf-oNpV5vD"
      }
    },
    {
      "cell_type": "markdown",
      "source": [
        "Q-3. Write a query to validate Email of Employee."
      ],
      "metadata": {
        "id": "78htjQDVWarg"
      }
    },
    {
      "cell_type": "markdown",
      "source": [
        "SELECT*FROM WORKER WHERE EMAIL LIKE \"_%@_%._%\""
      ],
      "metadata": {
        "id": "o5XdPQDTWf8w"
      }
    }
  ]
}