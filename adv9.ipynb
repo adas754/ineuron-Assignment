{
  "nbformat": 4,
  "nbformat_minor": 0,
  "metadata": {
    "colab": {
      "provenance": []
    },
    "kernelspec": {
      "name": "python3",
      "display_name": "Python 3"
    },
    "language_info": {
      "name": "python"
    }
  },
  "cells": [
    {
      "cell_type": "markdown",
      "source": [
        "# 1. YouTube offers different playback speed options for users. This allows users to increase or decrease the speed of the video content. Given the actual duration and playback speed of the video, calculate the playback duration of the video.\n",
        "\n",
        "Examples\n",
        "\n",
        "playback_duration(\"00:30:00\", 2) ➞ \"00:15:00\"\n",
        "\n",
        "playback_duration(\"01:20:00\", 1.5) ➞ \"00:53:20\"\n",
        "\n",
        "playback_duration(\"51:20:09\", 0.5) ➞ \"102:40:18\"\n"
      ],
      "metadata": {
        "id": "vVLRskmkrqlx"
      }
    },
    {
      "cell_type": "code",
      "execution_count": null,
      "metadata": {
        "colab": {
          "base_uri": "https://localhost:8080/",
          "height": 35
        },
        "id": "CkDhYjwhrgL8",
        "outputId": "2d99a1d5-2d09-477c-b2c6-dde088a10cb8"
      },
      "outputs": [
        {
          "output_type": "execute_result",
          "data": {
            "text/plain": [
              "'00:15:00'"
            ],
            "application/vnd.google.colaboratory.intrinsic+json": {
              "type": "string"
            }
          },
          "metadata": {},
          "execution_count": 2
        }
      ],
      "source": [
        "def playback_duration(duration, speed):\n",
        "    hour, minute, second = map(int, duration.split(':'))\n",
        "    total_seconds = hour * 3600 + minute * 60 + second\n",
        "    total_seconds = int(total_seconds / speed)\n",
        "    new_hour = total_seconds // 3600\n",
        "    new_minute = (total_seconds % 3600) // 60\n",
        "    new_second = total_seconds % 60\n",
        "    return f\"{new_hour:02}:{new_minute:02}:{new_second:02}\"\n",
        "playback_duration(\"00:30:00\", 2) \n",
        "\n"
      ]
    },
    {
      "cell_type": "code",
      "source": [
        "playback_duration(\"01:20:00\", 1.5)\n",
        "\n"
      ],
      "metadata": {
        "colab": {
          "base_uri": "https://localhost:8080/",
          "height": 35
        },
        "id": "3Fn_ENXisM4h",
        "outputId": "bb11adae-2274-47a6-89b2-2f423e73cfef"
      },
      "execution_count": null,
      "outputs": [
        {
          "output_type": "execute_result",
          "data": {
            "text/plain": [
              "'00:53:20'"
            ],
            "application/vnd.google.colaboratory.intrinsic+json": {
              "type": "string"
            }
          },
          "metadata": {},
          "execution_count": 3
        }
      ]
    },
    {
      "cell_type": "code",
      "source": [
        "\n",
        "\n",
        "playback_duration(\"51:20:09\", 0.5)"
      ],
      "metadata": {
        "colab": {
          "base_uri": "https://localhost:8080/",
          "height": 35
        },
        "id": "X4lTXlmYsTBg",
        "outputId": "3a65e6d3-9d06-415c-a52a-5b2e0d999f14"
      },
      "execution_count": null,
      "outputs": [
        {
          "output_type": "execute_result",
          "data": {
            "text/plain": [
              "'102:40:18'"
            ],
            "application/vnd.google.colaboratory.intrinsic+json": {
              "type": "string"
            }
          },
          "metadata": {},
          "execution_count": 4
        }
      ]
    },
    {
      "cell_type": "markdown",
      "source": [
        "2. We needs your help to construct a building which will be a pile of n cubes. The cube at the bottom will have a volume of n^3, the cube above will have volume of (n-1)^3 and so on until the top which will have a volume of 1^3.\n",
        "\n",
        "Given the total volume m of the building, can you find the number of cubes n required for the building?\n",
        "\n",
        "In other words, you have to return an integer n such that:\n",
        "\n",
        "n^3 + (n-1)^3 + ... + 1^3 == m\n",
        "\n",
        "Return None if there is no such number.\n",
        "\n",
        "Examples\n",
        "\n",
        "pile_of_cubes(1071225) ➞ 45\n",
        "\n",
        "pile_of_cubes(4183059834009) ➞ 2022\n",
        "\n",
        "pile_of_cubes(16) ➞ None\n"
      ],
      "metadata": {
        "id": "WWin6pN4xQuJ"
      }
    },
    {
      "cell_type": "code",
      "source": [
        "def pile_of_cubes(in_volume):\n",
        "  out_volume=0\n",
        "  output=0\n",
        "  for cube in range(1,in_volume):\n",
        "    out_volume+=pow(cube,3)\n",
        "    if in_volume<=out_volume:\n",
        "      output=cube if in_volume==out_volume else None\n",
        "      break\n",
        "  print(f'pile_of_cubes({in_volume}->{output}')"
      ],
      "metadata": {
        "id": "BkxHh0WsxYbs"
      },
      "execution_count": 1,
      "outputs": []
    },
    {
      "cell_type": "code",
      "source": [
        "pile_of_cubes(1071225)"
      ],
      "metadata": {
        "colab": {
          "base_uri": "https://localhost:8080/"
        },
        "id": "cWn2e9VdZLr8",
        "outputId": "cc35f6de-dd0c-4ad6-c5ed-d0931611321c"
      },
      "execution_count": 2,
      "outputs": [
        {
          "output_type": "stream",
          "name": "stdout",
          "text": [
            "pile_of_cubes(1071225->45\n"
          ]
        }
      ]
    },
    {
      "cell_type": "code",
      "source": [
        "pile_of_cubes(4183059834009)"
      ],
      "metadata": {
        "colab": {
          "base_uri": "https://localhost:8080/"
        },
        "id": "tv9-ReAAZOQ3",
        "outputId": "feb3b997-b6d2-44c8-9c53-9a07e41d73d2"
      },
      "execution_count": 3,
      "outputs": [
        {
          "output_type": "stream",
          "name": "stdout",
          "text": [
            "pile_of_cubes(4183059834009->2022\n"
          ]
        }
      ]
    },
    {
      "cell_type": "code",
      "source": [
        "pile_of_cubes(16)"
      ],
      "metadata": {
        "colab": {
          "base_uri": "https://localhost:8080/"
        },
        "id": "cb4fNSasZRtv",
        "outputId": "39fa9573-aff1-4322-c690-bc8ca5c28e35"
      },
      "execution_count": 4,
      "outputs": [
        {
          "output_type": "stream",
          "name": "stdout",
          "text": [
            "pile_of_cubes(16->None\n"
          ]
        }
      ]
    },
    {
      "cell_type": "markdown",
      "source": [
        "# 3. A fulcrum of a list is an integer such that all elements to the left of it and all elements to the right of it sum to the same value. Write a function that finds the fulcrum of a list.\n",
        "\n",
        "To illustrate:\n",
        "\n",
        "find_fulcrum([3, 1, 5, 2, 4, 6, -1]) ➞ 2\n",
        "// Since [3, 1, 5] and [4, 6, -1] both sum to 9\n",
        "\n",
        "Examples\n",
        "\n",
        "find_fulcrum([1, 2, 4, 9, 10, -10, -9, 3]) ➞ 4\n",
        "\n",
        "find_fulcrum([9, 1, 9]) ➞ 1\n",
        "\n",
        "find_fulcrum([7, -1, 0, -1, 1, 1, 2, 3]) ➞ 0\n",
        "\n",
        "find_fulcrum([8, 8, 8, 8]) ➞ -1\n",
        "\n"
      ],
      "metadata": {
        "id": "B3ia0a6QbB6k"
      }
    },
    {
      "cell_type": "code",
      "source": [
        "def find_fulcrum(in_list):\n",
        "  output=-1\n",
        "  for ele in in_list:\n",
        "    index_of_ele=in_list.index(ele)\n",
        "    if sum(in_list[:index_of_ele])==sum(in_list[index_of_ele+1:]):\n",
        "      output=ele\n",
        "      break\n",
        "  print(f'find_fulcrum({in_list}->{output}')"
      ],
      "metadata": {
        "id": "5BghY_XThudO"
      },
      "execution_count": 6,
      "outputs": []
    },
    {
      "cell_type": "code",
      "source": [
        "find_fulcrum([1, 2, 4, 9, 10, -10, -9, 3])"
      ],
      "metadata": {
        "colab": {
          "base_uri": "https://localhost:8080/"
        },
        "id": "ummUNcdOlbwF",
        "outputId": "e7acb5ff-6959-4345-ff2c-c10df3078341"
      },
      "execution_count": 7,
      "outputs": [
        {
          "output_type": "stream",
          "name": "stdout",
          "text": [
            "find_fulcrum([1, 2, 4, 9, 10, -10, -9, 3]->4\n"
          ]
        }
      ]
    },
    {
      "cell_type": "code",
      "source": [
        "find_fulcrum([9, 1, 9])"
      ],
      "metadata": {
        "colab": {
          "base_uri": "https://localhost:8080/"
        },
        "id": "xkyLIm41ldmV",
        "outputId": "0b01d0e7-4dd0-4837-ec7e-98ce81ca59d4"
      },
      "execution_count": 8,
      "outputs": [
        {
          "output_type": "stream",
          "name": "stdout",
          "text": [
            "find_fulcrum([9, 1, 9]->1\n"
          ]
        }
      ]
    },
    {
      "cell_type": "code",
      "source": [
        "find_fulcrum([7, -1, 0, -1, 1, 1, 2, 3]) "
      ],
      "metadata": {
        "colab": {
          "base_uri": "https://localhost:8080/"
        },
        "id": "3UixX9pdljEE",
        "outputId": "62798ecf-377a-4f24-e77f-a4942dce10ef"
      },
      "execution_count": 9,
      "outputs": [
        {
          "output_type": "stream",
          "name": "stdout",
          "text": [
            "find_fulcrum([7, -1, 0, -1, 1, 1, 2, 3]->0\n"
          ]
        }
      ]
    },
    {
      "cell_type": "code",
      "source": [
        "find_fulcrum([8, 8, 8, 8]) "
      ],
      "metadata": {
        "colab": {
          "base_uri": "https://localhost:8080/"
        },
        "id": "bgtZt-UllmNL",
        "outputId": "54e80d49-bd83-40f5-b91c-332b200719a7"
      },
      "execution_count": 10,
      "outputs": [
        {
          "output_type": "stream",
          "name": "stdout",
          "text": [
            "find_fulcrum([8, 8, 8, 8]->-1\n"
          ]
        }
      ]
    },
    {
      "cell_type": "markdown",
      "source": [
        "# 4. Given a list of integers representing the color of each sock, determine how many pairs of socks with matching colors there are. For example, there are 7 socks with colors [1, 2, 1, 2, 1, 3, 2]. There is one pair of color 1 and one of color 2. There are three odd socks left, one of each color. The number of pairs is 2.\n",
        "\n",
        "Create a function that returns an integer representing the number of matching pairs of socks that are available.\n",
        "\n",
        "Examples\n",
        "\n",
        "sock_merchant([10, 20, 20, 10, 10, 30, 50, 10, 20]) ➞ 3\n",
        "\n",
        "sock_merchant([50, 20, 30, 90, 30, 20, 50, 20, 90]) ➞ 4\n",
        "\n",
        "sock_merchant([]) ➞ 0\n",
        "\n"
      ],
      "metadata": {
        "id": "DUF0kdkzmz7U"
      }
    },
    {
      "cell_type": "code",
      "source": [
        "def sock_marchant(in_list):\n",
        "  paired_socks={}\n",
        "  output=0\n",
        "  for ele in in_list:\n",
        "    if ele in paired_socks:\n",
        "      paired_socks[ele]+=1\n",
        "    else:\n",
        "      paired_socks[ele]=1\n",
        "  for pair in paired_socks.values():\n",
        "    output+=pair//2\n",
        "  print(f'sock_merchant({in_list})->{output}')"
      ],
      "metadata": {
        "id": "DuzCnGw0oAPW"
      },
      "execution_count": 11,
      "outputs": []
    },
    {
      "cell_type": "code",
      "source": [
        "sock_marchant([10, 20, 20, 10, 10, 30, 50, 10, 20]) "
      ],
      "metadata": {
        "colab": {
          "base_uri": "https://localhost:8080/"
        },
        "id": "mrQQ6pMbvPDA",
        "outputId": "45ceebab-4e5d-4c22-b3d7-aab90e315baf"
      },
      "execution_count": 13,
      "outputs": [
        {
          "output_type": "stream",
          "name": "stdout",
          "text": [
            "sock_merchant([10, 20, 20, 10, 10, 30, 50, 10, 20])->3\n"
          ]
        }
      ]
    },
    {
      "cell_type": "code",
      "source": [
        "sock_marchant([50, 20, 30, 90, 30, 20, 50, 20, 90])"
      ],
      "metadata": {
        "colab": {
          "base_uri": "https://localhost:8080/"
        },
        "id": "aCNoP14OvWda",
        "outputId": "504dfeb8-e89a-4dfb-efbf-eb0bcab7ac34"
      },
      "execution_count": 15,
      "outputs": [
        {
          "output_type": "stream",
          "name": "stdout",
          "text": [
            "sock_merchant([50, 20, 30, 90, 30, 20, 50, 20, 90])->4\n"
          ]
        }
      ]
    },
    {
      "cell_type": "code",
      "source": [
        "sock_marchant([])"
      ],
      "metadata": {
        "colab": {
          "base_uri": "https://localhost:8080/"
        },
        "id": "ctVfGPjKvcMA",
        "outputId": "4bd8b748-dad2-4dda-a39d-2dc63b4443e2"
      },
      "execution_count": 17,
      "outputs": [
        {
          "output_type": "stream",
          "name": "stdout",
          "text": [
            "sock_merchant([])->0\n"
          ]
        }
      ]
    },
    {
      "cell_type": "markdown",
      "source": [
        "# 5. Create a function that takes a string containing integers as well as other characters and return the sum of the negative integers only.\n",
        "\n",
        "Examples\n",
        "\n",
        "negative_sum(\"-12 13%14&-11\") ➞ -23\n",
        "# -12 + -11 = -23\n",
        "\n",
        "negative_sum(\"22 13%14&-11-22 13 12\") ➞ -33\n",
        "# -11 + -22 = -33\n"
      ],
      "metadata": {
        "id": "lFPAog99vks5"
      }
    },
    {
      "cell_type": "code",
      "source": [
        "import re\n",
        "def negative_sum(in_string):\n",
        "    pattern = '-\\d+'\n",
        "    output = sum([int(ele) for ele in re.findall(pattern,in_string)])\n",
        "    print(f'negative_sum(\"{in_string}\") ➞ {output}')\n",
        "    \n",
        "negative_sum(\"-12 13%14&-11\")\n",
        "negative_sum(\"22 13%14&-11-22 13 12\")"
      ],
      "metadata": {
        "colab": {
          "base_uri": "https://localhost:8080/"
        },
        "id": "EPeyU5VlxCRC",
        "outputId": "a9800b68-c7ff-466b-add6-0168a05918bd"
      },
      "execution_count": 20,
      "outputs": [
        {
          "output_type": "stream",
          "name": "stdout",
          "text": [
            "negative_sum(\"-12 13%14&-11\") ➞ -23\n",
            "negative_sum(\"22 13%14&-11-22 13 12\") ➞ -33\n"
          ]
        }
      ]
    }
  ]
}