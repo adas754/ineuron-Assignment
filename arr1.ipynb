{
  "nbformat": 4,
  "nbformat_minor": 0,
  "metadata": {
    "colab": {
      "provenance": []
    },
    "kernelspec": {
      "name": "python3",
      "display_name": "Python 3"
    },
    "language_info": {
      "name": "python"
    }
  },
  "cells": [
    {
      "cell_type": "markdown",
      "source": [
        "# Assignment 1 Questions - Arrays | DSA\n",
        "\n",
        "<aside>\n",
        "💡 **Q1.** Given an array of integers nums and an integer target, return indices of the two numbers such that they add up to target.\n",
        "\n",
        "You may assume that each input would have exactly one solution, and you may not use the same element twice.\n",
        "\n",
        "You can return the answer in any order.\n",
        "\n",
        "**Example:**\n",
        "Input: nums = [2,7,11,15], target = 9\n",
        "Output0 [0,1]\n",
        "\n",
        "**Explanation:** Because nums[0] + nums[1] == 9, we return [0, 1][\n",
        "\n",
        "</aside>\n",
        "\n",
        "<aside>\n",
        "💡 **Q2.** Given an integer array nums and an integer val, remove all occurrences of val in nums in-place. The order of the elements may be changed. Then return the number of elements in nums which are not equal to val.\n",
        "\n",
        "Consider the number of elements in nums which are not equal to val be k, to get accepted, you need to do the following things:\n",
        "\n",
        "- Change the array nums such that the first k elements of nums contain the elements which are not equal to val. The remaining elements of nums are not important as well as the size of nums.\n",
        "- Return k.\n",
        "\n",
        "**Example :**\n",
        "Input: nums = [3,2,2,3], val = 3\n",
        "Output: 2, nums = [2,2,_*,_*]\n",
        "\n",
        "**Explanation:** Your function should return k = 2, with the first two elements of nums being 2. It does not matter what you leave beyond the returned k (hence they are underscores)[\n",
        "\n",
        "</aside>\n",
        "\n",
        "<aside>\n",
        "💡 **Q3.** Given a sorted array of distinct integers and a target value, return the index if the target is found. If not, return the index where it would be if it were inserted in order.\n",
        "\n",
        "You must write an algorithm with O(log n) runtime complexity.\n",
        "\n",
        "**Example 1:**\n",
        "Input: nums = [1,3,5,6], target = 5\n",
        "\n",
        "Output: 2\n",
        "\n",
        "</aside>\n",
        "\n",
        "<aside>\n",
        "💡 **Q4.** You are given a large integer represented as an integer array digits, where each digits[i] is the ith digit of the integer. The digits are ordered from most significant to least significant in left-to-right order. The large integer does not contain any leading 0's.\n",
        "\n",
        "Increment the large integer by one and return the resulting array of digits.\n",
        "\n",
        "**Example 1:**\n",
        "Input: digits = [1,2,3]\n",
        "Output: [1,2,4]\n",
        "\n",
        "**Explanation:** The array represents the integer 123.\n",
        "\n",
        "Incrementing by one gives 123 + 1 = 124.\n",
        "Thus, the result should be [1,2,4].\n",
        "\n",
        "</aside>\n",
        "\n",
        "<aside>\n",
        "💡 **Q5.** You are given two integer arrays nums1 and nums2, sorted in non-decreasing order, and two integers m and n, representing the number of elements in nums1 and nums2 respectively.\n",
        "\n",
        "Merge nums1 and nums2 into a single array sorted in non-decreasing order.\n",
        "\n",
        "The final sorted array should not be returned by the function, but instead be stored inside the array nums1. To accommodate this, nums1 has a length of m + n, where the first m elements denote the elements that should be merged, and the last n elements are set to 0 and should be ignored. nums2 has a length of n.\n",
        "\n",
        "**Example 1:**\n",
        "Input: nums1 = [1,2,3,0,0,0], m = 3, nums2 = [2,5,6], n = 3\n",
        "Output: [1,2,2,3,5,6]\n",
        "\n",
        "**Explanation:** The arrays we are merging are [1,2,3] and [2,5,6].\n",
        "The result of the merge is [1,2,2,3,5,6] with the underlined elements coming from nums1.\n",
        "\n",
        "</aside>\n",
        "\n",
        "<aside>\n",
        "💡 **Q6.** Given an integer array nums, return true if any value appears at least twice in the array, and return false if every element is distinct.\n",
        "\n",
        "**Example 1:**\n",
        "Input: nums = [1,2,3,1]\n",
        "\n",
        "Output: true\n",
        "\n",
        "</aside>\n",
        "\n",
        "<aside>\n",
        "💡 **Q7.** Given an integer array nums, move all 0's to the end of it while maintaining the relative order of the nonzero elements.\n",
        "\n",
        "Note that you must do this in-place without making a copy of the array.\n",
        "\n",
        "**Example 1:**\n",
        "Input: nums = [0,1,0,3,12]\n",
        "Output: [1,3,12,0,0]\n",
        "\n",
        "</aside>\n",
        "\n",
        "<aside>\n",
        "💡 **Q8.** You have a set of integers s, which originally contains all the numbers from 1 to n. Unfortunately, due to some error, one of the numbers in s got duplicated to another number in the set, which results in repetition of one number and loss of another number.\n",
        "\n",
        "You are given an integer array nums representing the data status of this set after the error.\n",
        "\n",
        "Find the number that occurs twice and the number that is missing and return them in the form of an array.\n",
        "\n",
        "**Example 1:**\n",
        "Input: nums = [1,2,2,4]\n",
        "Output: [2,3]\n",
        "\n",
        "</aside>"
      ],
      "metadata": {
        "id": "Xw6TV6SwQ9ST"
      }
    },
    {
      "cell_type": "code",
      "execution_count": 1,
      "metadata": {
        "colab": {
          "base_uri": "https://localhost:8080/"
        },
        "id": "8qru182jKFux",
        "outputId": "62b1e984-5f51-4a99-81ef-f910277d23a6"
      },
      "outputs": [
        {
          "output_type": "stream",
          "name": "stdout",
          "text": [
            "[0, 1]\n"
          ]
        }
      ],
      "source": [
        "def twoSum(nums, target):\n",
        "    # Create a list of tuples (number, index)\n",
        "    nums_with_indices = [(num, index) for index, num in enumerate(nums)]\n",
        "    \n",
        "    # Sort the list in non-decreasing order\n",
        "    nums_with_indices.sort()\n",
        "    \n",
        "    left = 0\n",
        "    right = len(nums) - 1\n",
        "    \n",
        "    while left < right:\n",
        "        sum = nums_with_indices[left][0] + nums_with_indices[right][0]\n",
        "        \n",
        "        if sum == target:\n",
        "            return [nums_with_indices[left][1], nums_with_indices[right][1]]\n",
        "        elif sum < target:\n",
        "            left += 1\n",
        "        else:\n",
        "            right -= 1\n",
        "    \n",
        "    # No solution found\n",
        "    return []\n",
        "\n",
        "# Example usage\n",
        "nums = [2, 7, 11, 15]\n",
        "target = 9\n",
        "result = twoSum(nums, target)\n",
        "print(result)  # Output: [0, 1]\n"
      ]
    },
    {
      "cell_type": "code",
      "source": [
        "def removeElement(nums, val):\n",
        "    slow = 0\n",
        "\n",
        "    for fast in range(len(nums)):\n",
        "        if nums[fast] != val:\n",
        "            nums[slow] = nums[fast]\n",
        "            slow += 1\n",
        "\n",
        "    return slow\n",
        "\n",
        "# Example usage\n",
        "nums = [3, 2, 2, 3]\n",
        "val = 3\n",
        "count = removeElement(nums, val)\n",
        "print(count)  # Output: 2\n",
        "print(nums)  # Output: [2, 2, _, _]\n"
      ],
      "metadata": {
        "colab": {
          "base_uri": "https://localhost:8080/"
        },
        "id": "j6FSUrteKhWi",
        "outputId": "7e35dd6d-36a5-4fc3-a23c-7b0697871867"
      },
      "execution_count": 2,
      "outputs": [
        {
          "output_type": "stream",
          "name": "stdout",
          "text": [
            "2\n",
            "[2, 2, 2, 3]\n"
          ]
        }
      ]
    },
    {
      "cell_type": "code",
      "source": [
        "def searchInsert(nums, target):\n",
        "    left = 0\n",
        "    right = len(nums) - 1\n",
        "    \n",
        "    while left <= right:\n",
        "        mid = (left + right) // 2\n",
        "        \n",
        "        if nums[mid] == target:\n",
        "            return mid\n",
        "        elif nums[mid] < target:\n",
        "            left = mid + 1\n",
        "        else:\n",
        "            right = mid - 1\n",
        "    \n",
        "    return left\n",
        "\n",
        "# Example usage\n",
        "nums = [1, 3, 5, 6]\n",
        "target = 5\n",
        "index = searchInsert(nums, target)\n",
        "print(index)  # Output: 2\n"
      ],
      "metadata": {
        "colab": {
          "base_uri": "https://localhost:8080/"
        },
        "id": "7Exo-sWvLO_K",
        "outputId": "ad5a4080-dbc1-4861-b5cc-08c824d06cd3"
      },
      "execution_count": 3,
      "outputs": [
        {
          "output_type": "stream",
          "name": "stdout",
          "text": [
            "2\n"
          ]
        }
      ]
    },
    {
      "cell_type": "code",
      "source": [
        "def plusOne(digits):\n",
        "    n = len(digits)\n",
        "    \n",
        "    for i in range(n - 1, -1, -1):\n",
        "        if digits[i] == 9:\n",
        "            digits[i] = 0\n",
        "        else:\n",
        "            digits[i] += 1\n",
        "            return digits\n",
        "    \n",
        "    # If the iteration reaches here, it means all digits were 9\n",
        "    digits.insert(0, 1)\n",
        "    \n",
        "    return digits\n",
        "\n",
        "# Example usage\n",
        "digits = [1, 2, 3]\n",
        "result = plusOne(digits)\n",
        "print(result)  # Output: [1, 2, 4]\n"
      ],
      "metadata": {
        "colab": {
          "base_uri": "https://localhost:8080/"
        },
        "id": "0TLg9ubKNtLC",
        "outputId": "5b13c491-abca-4b01-e941-28f68f174ea4"
      },
      "execution_count": 4,
      "outputs": [
        {
          "output_type": "stream",
          "name": "stdout",
          "text": [
            "[1, 2, 4]\n"
          ]
        }
      ]
    },
    {
      "cell_type": "code",
      "source": [
        "def merge(nums1, m, nums2, n):\n",
        "    p1 = m - 1\n",
        "    p2 = n - 1\n",
        "    p = m + n - 1\n",
        "    \n",
        "    while p1 >= 0 and p2 >= 0:\n",
        "        if nums1[p1] > nums2[p2]:\n",
        "            nums1[p] = nums1[p1]\n",
        "            p1 -= 1\n",
        "        else:\n",
        "            nums1[p] = nums2[p2]\n",
        "            p2 -= 1\n",
        "        p -= 1\n",
        "    \n",
        "    if p2 >= 0:\n",
        "        nums1[:p2 + 1] = nums2[:p2 + 1]\n",
        "    \n",
        "    return nums1\n",
        "\n",
        "# Example usage\n",
        "nums1 = [1, 2, 3, 0, 0, 0]\n",
        "m = 3\n",
        "nums2 = [2, 5, 6]\n",
        "n = 3\n",
        "\n",
        "result = merge(nums1, m, nums2, n)\n",
        "print(result)  # Output: [1, 2, 2, 3, 5, 6]\n"
      ],
      "metadata": {
        "colab": {
          "base_uri": "https://localhost:8080/"
        },
        "id": "iASat5eJNtye",
        "outputId": "cf520b58-11a2-44c2-d2ec-dd86cb641d44"
      },
      "execution_count": 5,
      "outputs": [
        {
          "output_type": "stream",
          "name": "stdout",
          "text": [
            "[1, 2, 2, 3, 5, 6]\n"
          ]
        }
      ]
    },
    {
      "cell_type": "code",
      "source": [
        "def containsDuplicate(nums):\n",
        "    seen = set()\n",
        "    \n",
        "    for num in nums:\n",
        "        if num in seen:\n",
        "            return True\n",
        "        seen.add(num)\n",
        "    \n",
        "    return False\n",
        "\n",
        "# Example usage\n",
        "nums = [1, 2, 3, 1]\n",
        "result = containsDuplicate(nums)\n",
        "print(result)  # Output: True\n"
      ],
      "metadata": {
        "colab": {
          "base_uri": "https://localhost:8080/"
        },
        "id": "K82FqtgfOd4a",
        "outputId": "0ce66576-2b50-4d02-e87f-4a8361c81872"
      },
      "execution_count": 6,
      "outputs": [
        {
          "output_type": "stream",
          "name": "stdout",
          "text": [
            "True\n"
          ]
        }
      ]
    },
    {
      "cell_type": "code",
      "source": [
        "def moveZeroes(nums):\n",
        "    left = 0\n",
        "    right = 0\n",
        "    \n",
        "    while right < len(nums):\n",
        "        if nums[right] != 0:\n",
        "            nums[left], nums[right] = nums[right], nums[left]\n",
        "            left += 1\n",
        "        right += 1\n",
        "    \n",
        "    while left < len(nums):\n",
        "        nums[left] = 0\n",
        "        left += 1\n",
        "\n",
        "# Example usage\n",
        "nums = [0, 1, 0, 3, 12]\n",
        "moveZeroes(nums)\n",
        "print(nums)  # Output: [1, 3, 12, 0, 0]\n"
      ],
      "metadata": {
        "colab": {
          "base_uri": "https://localhost:8080/"
        },
        "id": "KJ_Sq8WTO5Ds",
        "outputId": "89f3e6f7-d5a3-4dff-a53e-11570b224d2a"
      },
      "execution_count": 7,
      "outputs": [
        {
          "output_type": "stream",
          "name": "stdout",
          "text": [
            "[1, 3, 12, 0, 0]\n"
          ]
        }
      ]
    },
    {
      "cell_type": "code",
      "source": [
        "def findErrorNums(nums):\n",
        "    n = len(nums)\n",
        "    xor_result = 0\n",
        "\n",
        "    for num in nums:\n",
        "        xor_result ^= num\n",
        "\n",
        "    for i in range(1, n + 1):\n",
        "        xor_result ^= i\n",
        "\n",
        "    rightmost_set_bit = xor_result & -xor_result\n",
        "\n",
        "    num1 = 0\n",
        "    num2 = 0\n",
        "\n",
        "    for num in nums + list(range(1, n + 1)):\n",
        "        if num & rightmost_set_bit:\n",
        "            num1 ^= num\n",
        "        else:\n",
        "            num2 ^= num\n",
        "\n",
        "    for num in nums:\n",
        "        if num == num1:\n",
        "            return [num1, num2]\n",
        "        if num == num2:\n",
        "            return [num2, num1]\n",
        "\n",
        "# Example usage\n",
        "nums = [1, 2, 2, 4]\n",
        "result = findErrorNums(nums)\n",
        "print(result)  # Output: [2, 3]\n"
      ],
      "metadata": {
        "colab": {
          "base_uri": "https://localhost:8080/"
        },
        "id": "Y_AlQrOYP5Zn",
        "outputId": "9bdab509-22a0-4991-f799-1566f9dfb636"
      },
      "execution_count": 8,
      "outputs": [
        {
          "output_type": "stream",
          "name": "stdout",
          "text": [
            "[2, 3]\n"
          ]
        }
      ]
    }
  ]
}