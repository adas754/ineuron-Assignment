{
  "nbformat": 4,
  "nbformat_minor": 0,
  "metadata": {
    "colab": {
      "provenance": []
    },
    "kernelspec": {
      "name": "python3",
      "display_name": "Python 3"
    },
    "language_info": {
      "name": "python"
    }
  },
  "cells": [
    {
      "cell_type": "markdown",
      "source": [
        "#1 Write a Python Program to Add Two Matrices?"
      ],
      "metadata": {
        "id": "9wOW7qiS40qQ"
      }
    },
    {
      "cell_type": "code",
      "execution_count": null,
      "metadata": {
        "colab": {
          "base_uri": "https://localhost:8080/"
        },
        "id": "OmhcIvZu4w2x",
        "outputId": "31b01c01-d80c-4787-f30c-cdc835d605b2"
      },
      "outputs": [
        {
          "output_type": "stream",
          "name": "stdout",
          "text": [
            "[[10, 10, 10], [10, 10, 10], [10, 10, 10]]\n"
          ]
        }
      ],
      "source": [
        "def add_matrices(mat1,mat2):\n",
        "  rows=len(mat1)\n",
        "  cols=len(mat1[0])\n",
        "  result = [[0 for j in range(cols)] for i in range(rows)]\n",
        "  for i in range(rows):\n",
        "    for j in range(cols):\n",
        "      result[i][j]=mat1[i][j]+mat2[i][j]\n",
        "  return result\n",
        "mat1 = [[1, 2, 3], [4, 5, 6], [7, 8, 9]]\n",
        "mat2 = [[9, 8, 7], [6, 5, 4], [3, 2, 1]]\n",
        "\n",
        "result = add_matrices(mat1, mat2)\n",
        "\n",
        "print(result)\n",
        "\n",
        "\n",
        "\n",
        "\n",
        "\n"
      ]
    },
    {
      "cell_type": "markdown",
      "source": [
        "# 2. Write a Python Program to Multiply Two Matrices?"
      ],
      "metadata": {
        "id": "byKAc6f38_jw"
      }
    },
    {
      "cell_type": "code",
      "source": [
        "def multiply_matrices(a, b):\n",
        "    # Get the dimensions of the matrices\n",
        "    rows_a, cols_a = len(a), len(a[0])\n",
        "    rows_b, cols_b = len(b), len(b[0])\n",
        " \n",
        "    # Initialize the result matrix with zeros\n",
        "    result = [[0 for row in range(cols_b)] for col in range(rows_a)]\n",
        " \n",
        "    # Iterate through rows of matrix a\n",
        "    for i in range(rows_a):\n",
        "        # Iterate through columns of matrix b\n",
        "        for j in range(cols_b):\n",
        "            # Iterate through rows of matrix b\n",
        "            for k in range(rows_b):\n",
        "                result[i][j] += a[i][k] * b[k][j]\n",
        " \n",
        "    return result\n",
        " \n",
        "# Test the function\n",
        "a = [[1, 2], [3, 4]]\n",
        "b = [[5, 6], [7, 8]]\n",
        "print(multiply_matrices(a, b))"
      ],
      "metadata": {
        "colab": {
          "base_uri": "https://localhost:8080/"
        },
        "id": "FPb0jg7I97do",
        "outputId": "858cfd3f-3718-4a17-a74b-95a3defe8470"
      },
      "execution_count": null,
      "outputs": [
        {
          "output_type": "stream",
          "name": "stdout",
          "text": [
            "[[19, 22], [43, 50]]\n"
          ]
        }
      ]
    },
    {
      "cell_type": "markdown",
      "source": [
        "# 3. Write a Python Program to Transpose a Matrix?"
      ],
      "metadata": {
        "id": "dcja_K6Vs7bw"
      }
    },
    {
      "cell_type": "code",
      "source": [
        "def transpose(matrix):\n",
        "  rows=len(matrix)\n",
        "  cols=len(matrix[0])\n",
        "  transposed=[[0 for row in range(rows)]for col in range(cols)]\n",
        "  for row in range(rows):\n",
        "    for col in range(cols):\n",
        "      transposed[col][row]= matrix[row][col]\n",
        "  return transposed\n",
        "original_matrix = [[1, 2, 3], [4, 5, 6], [7, 8, 9]]\n",
        "transposed_matrix = transpose(original_matrix)\n",
        "print(transposed_matrix)"
      ],
      "metadata": {
        "id": "fWk5fetmOk8j",
        "colab": {
          "base_uri": "https://localhost:8080/"
        },
        "outputId": "1a66e798-c7f6-4bc9-86da-0f8bfb3ed676"
      },
      "execution_count": null,
      "outputs": [
        {
          "output_type": "stream",
          "name": "stdout",
          "text": [
            "[[1, 4, 7], [2, 5, 8], [3, 6, 9]]\n"
          ]
        }
      ]
    },
    {
      "cell_type": "markdown",
      "source": [
        "# 4. Write a Python Program to Sort Words in Alphabetic Order?"
      ],
      "metadata": {
        "id": "QxoLonRtunHb"
      }
    },
    {
      "cell_type": "code",
      "source": [
        "def sorted_words(words):\n",
        "  for i in range(len(words)):\n",
        "    for j in range(i+1,len(words)):\n",
        "      if words[i]>words[j]:\n",
        "        words[i],words[j]=words[j],words[i]\n",
        "  return words\n",
        "words=['m','a','z']\n",
        "sw=sorted_words(words)\n",
        "print(sw)"
      ],
      "metadata": {
        "id": "Cfw5HQCjup9l",
        "colab": {
          "base_uri": "https://localhost:8080/"
        },
        "outputId": "69a05944-2795-4541-a697-e9f301872cf1"
      },
      "execution_count": null,
      "outputs": [
        {
          "output_type": "stream",
          "name": "stdout",
          "text": [
            "['a', 'm', 'z']\n"
          ]
        }
      ]
    },
    {
      "cell_type": "markdown",
      "source": [
        "# Write a Python Program to Remove Punctuation From a String?"
      ],
      "metadata": {
        "id": "fzZTCxNgY_VV"
      }
    },
    {
      "cell_type": "code",
      "source": [
        "def remove_punctuation(input_string):\n",
        "  punct=\"!\\\"#$%&'()*+,-./:;<=>?@[\\]^_`{|}~\"\n",
        "  no_punct=''\n",
        "  for char in input_string:\n",
        "    if char not in punct:\n",
        "      no_punct+=char\n",
        "  return no_punct\n",
        "string='how!wonderfull@'\n",
        "remove_punctuation(string)\n"
      ],
      "metadata": {
        "colab": {
          "base_uri": "https://localhost:8080/",
          "height": 35
        },
        "id": "B9Et2tCbZbfW",
        "outputId": "4ed5057c-1a19-4a1c-ee20-d89b3826bb08"
      },
      "execution_count": 6,
      "outputs": [
        {
          "output_type": "execute_result",
          "data": {
            "text/plain": [
              "'howwonderfull'"
            ],
            "application/vnd.google.colaboratory.intrinsic+json": {
              "type": "string"
            }
          },
          "metadata": {},
          "execution_count": 6
        }
      ]
    }
  ]
}