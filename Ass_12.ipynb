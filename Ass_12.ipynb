{
  "nbformat": 4,
  "nbformat_minor": 0,
  "metadata": {
    "colab": {
      "provenance": []
    },
    "kernelspec": {
      "name": "python3",
      "display_name": "Python 3"
    },
    "language_info": {
      "name": "python"
    }
  },
  "cells": [
    {
      "cell_type": "markdown",
      "source": [
        "\n",
        "# Write a Python program to Extract Unique values dictionary values?\n",
        "\n",
        "# Write a Python program to find the sum of all items in a dictionary?\n",
        "\n",
        "## Write a Python program to Merging two Dictionaries?\n",
        "\n",
        "# Write a Python program to convert key-values list to flat dictionary?\n",
        "\n",
        "# Write a Python program to insertion at the beginning in OrderedDict?\n",
        "\n",
        "# Write a Python program to check order of character in string using OrderedDict()?\n",
        "\n",
        "# Write a Python program to sort Python Dictionaries by Key or Value?\n"
      ],
      "metadata": {
        "id": "etsXNs25vX-P"
      }
    },
    {
      "cell_type": "code",
      "execution_count": null,
      "metadata": {
        "colab": {
          "base_uri": "https://localhost:8080/"
        },
        "id": "qDDwOpyPlPlP",
        "outputId": "008f8b1f-929f-487d-9ede-89ff840a8fc0"
      },
      "outputs": [
        {
          "output_type": "stream",
          "name": "stdout",
          "text": [
            "[1, 2, 3]\n"
          ]
        }
      ],
      "source": [
        "def get_unique_value(d):\n",
        "  unique_values=list(set(d.values()))\n",
        "  return unique_values\n",
        "my_dict={'a':1,'b':2,'c':3,'a':1,'b':2}\n",
        "unique_values=get_unique_value(my_dict)\n",
        "print(unique_values)"
      ]
    },
    {
      "cell_type": "code",
      "source": [
        "def sum_dict_values(d):\n",
        "  return sum(d.values()),\n",
        "my_dict={'a':1,'b':2,'c':3,'d':4}\n",
        "total_sum=sum_dict_values(my_dict)\n",
        "print(total_sum)"
      ],
      "metadata": {
        "colab": {
          "base_uri": "https://localhost:8080/"
        },
        "id": "aLB5xsqssBFJ",
        "outputId": "2baa4b37-1d58-4b1b-f022-18683349df2b"
      },
      "execution_count": null,
      "outputs": [
        {
          "output_type": "stream",
          "name": "stdout",
          "text": [
            "(10,)\n"
          ]
        }
      ]
    },
    {
      "cell_type": "code",
      "source": [
        "def merged_dicts(d1,d2):\n",
        "  merged_dict=d1.copy()\n",
        "  merged_dict.update(d2)\n",
        "  return merged_dict\n",
        "dict1={'a':1,'b':2,'c':3}\n",
        "dict2={'d':3,'e':5,'f':7}\n",
        "merged_dict=merged_dicts(dict1,dict2)\n",
        "print(merged_dict)\n"
      ],
      "metadata": {
        "colab": {
          "base_uri": "https://localhost:8080/"
        },
        "id": "QJYGWi1yvQM4",
        "outputId": "da9a98ea-2c7b-4bfc-c7c9-c2e508fffe2a"
      },
      "execution_count": null,
      "outputs": [
        {
          "output_type": "stream",
          "name": "stdout",
          "text": [
            "{'a': 1, 'b': 2, 'c': 3, 'd': 3, 'e': 5, 'f': 7}\n"
          ]
        }
      ]
    },
    {
      "cell_type": "code",
      "source": [
        "def to_flat_dict(kv_list):\n",
        "  flat_dict={}\n",
        "  for k,v in kv_list:\n",
        "    flat_dict[k]=v\n",
        "  return flat_dict\n",
        "kv_list=[('a',1),('b',2),('c',3),('d',4)]\n",
        "flat_dict= to_flat_dict(kv_list)\n",
        "print(flat_dict)"
      ],
      "metadata": {
        "colab": {
          "base_uri": "https://localhost:8080/"
        },
        "id": "k9RnQ6-dR8eu",
        "outputId": "819f90eb-4ba7-45ab-da6f-61d06ce5b809"
      },
      "execution_count": 9,
      "outputs": [
        {
          "output_type": "stream",
          "name": "stdout",
          "text": [
            "{'a': 1, 'b': 2, 'c': 3, 'd': 4}\n"
          ]
        }
      ]
    },
    {
      "cell_type": "code",
      "source": [
        "from collections import OrderedDict\n",
        "def insert_at_beginning(ordered_dict,key,value):\n",
        "  ordered_dict.update({key:value})\n",
        "  ordered_dict.move_to_end(key,last=False)\n",
        "od=OrderedDict([('a','i'),('m','w'),('g','c')])\n",
        "print('original orderedDict :',od)\n",
        "insert_at_beginning(od,'t','s')\n",
        "print('orderedDict after inserting beginning :',od)"
      ],
      "metadata": {
        "colab": {
          "base_uri": "https://localhost:8080/"
        },
        "id": "Tw7J69b1a13e",
        "outputId": "ed1b675f-2190-4435-d45b-6a85b5e6af3c"
      },
      "execution_count": 15,
      "outputs": [
        {
          "output_type": "stream",
          "name": "stdout",
          "text": [
            "original orderedDict : OrderedDict([('a', 'i'), ('m', 'w'), ('g', 'c')])\n",
            "orderedDict after inserting beginning : OrderedDict([('t', 's'), ('a', 'i'), ('m', 'w'), ('g', 'c')])\n"
          ]
        }
      ]
    },
    {
      "cell_type": "code",
      "source": [
        "from collections import OrderedDict\n",
        "def sort_dict_by_key(initial_dict):\n",
        "  sorted_dict=dict(sorted(initial_dict.items()))\n",
        "  ordered_dict=OrderedDict(sorted_dict)\n",
        "  return ordered_dict\n",
        "initial_dict={'a':45,'b':90,'c':79}\n",
        "print(initial_dict)\n",
        "final_dict=sort_dict_by_key(initial_dict)\n",
        "print(final_dict)"
      ],
      "metadata": {
        "colab": {
          "base_uri": "https://localhost:8080/"
        },
        "id": "ftp-GVlxlXoX",
        "outputId": "48b38906-45c4-406a-cd91-62602f355a59"
      },
      "execution_count": 17,
      "outputs": [
        {
          "output_type": "stream",
          "name": "stdout",
          "text": [
            "{'a': 45, 'b': 90, 'c': 79}\n",
            "OrderedDict([('a', 45), ('b', 90), ('c', 79)])\n"
          ]
        }
      ]
    },
    {
      "cell_type": "code",
      "source": [
        "from collections import OrderedDict\n",
        "def sort_dict(d,sort_by='key'):\n",
        "  if sort_by=='key':\n",
        "    return OrderedDict(sorted(d.items()))\n",
        "  elif sort_by=='value':\n",
        "    return OrderedDict(sorted(d.items(),key=lambda x:x[1]))\n",
        "  else:\n",
        "    raise ValueError('invalid sort')\n",
        "d={'a':100,'b':10,'c':59,'d':800}\n",
        "sorted_dict=sort_dict(d,'key')\n",
        "print(sorted_dict)\n",
        "sorted_dict=sort_dict(d,'value')\n",
        "print(sorted_dict)"
      ],
      "metadata": {
        "colab": {
          "base_uri": "https://localhost:8080/"
        },
        "id": "RVYSJIffpMoX",
        "outputId": "85b4aff8-9822-4fa5-ff43-02c1d934d47e"
      },
      "execution_count": 19,
      "outputs": [
        {
          "output_type": "stream",
          "name": "stdout",
          "text": [
            "OrderedDict([('a', 100), ('b', 10), ('c', 59), ('d', 800)])\n",
            "OrderedDict([('b', 10), ('c', 59), ('a', 100), ('d', 800)])\n"
          ]
        }
      ]
    }
  ]
}