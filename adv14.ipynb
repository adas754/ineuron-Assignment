{
  "nbformat": 4,
  "nbformat_minor": 0,
  "metadata": {
    "colab": {
      "provenance": []
    },
    "kernelspec": {
      "name": "python3",
      "display_name": "Python 3"
    },
    "language_info": {
      "name": "python"
    }
  },
  "cells": [
    {
      "cell_type": "markdown",
      "source": [
        "# 1. Given a list of numbers, create a function that removes 25% from every number in the list except the smallest number, and adds the total amount removed to the smallest number.\n",
        "\n",
        "Examples\n",
        "\n",
        "show_the_love([4, 1, 4]) ➞ [3, 3, 3]\n",
        "\n",
        "show_the_love([16, 10, 8]) ➞ [12, 7.5, 14.5]\n",
        "\n",
        "show_the_love([2, 100]) ➞ [27, 75]\n"
      ],
      "metadata": {
        "id": "Vh73Q2bGDERj"
      }
    },
    {
      "cell_type": "code",
      "execution_count": 1,
      "metadata": {
        "colab": {
          "base_uri": "https://localhost:8080/"
        },
        "id": "6V7Iu03R9F34",
        "outputId": "b075c082-26c8-423a-8aaa-c27bf0f7b2bc"
      },
      "outputs": [
        {
          "output_type": "execute_result",
          "data": {
            "text/plain": [
              "[27.0, 75.0]"
            ]
          },
          "metadata": {},
          "execution_count": 1
        }
      ],
      "source": [
        "def show_the_love(numbers):\n",
        "  min_num=min(numbers)\n",
        "  total_removed=0\n",
        "  for i in range(len(numbers)):\n",
        "    if numbers[i]!=min_num:\n",
        "      removed=numbers[i]*0.25\n",
        "      total_removed+=removed\n",
        "      numbers[i]-=removed\n",
        "  numbers[numbers.index(min_num)]+=total_removed\n",
        "  return numbers\n",
        "\n",
        "show_the_love([2, 100]) "
      ]
    },
    {
      "cell_type": "code",
      "source": [
        "show_the_love([4, 1, 4]) \n",
        "\n"
      ],
      "metadata": {
        "colab": {
          "base_uri": "https://localhost:8080/"
        },
        "id": "7nP5ki2lE3Ih",
        "outputId": "9b029e01-7d49-4f26-cdb8-82d14520ee3f"
      },
      "execution_count": null,
      "outputs": [
        {
          "output_type": "execute_result",
          "data": {
            "text/plain": [
              "[3.0, 3.0, 3.0]"
            ]
          },
          "metadata": {},
          "execution_count": 3
        }
      ]
    },
    {
      "cell_type": "code",
      "source": [
        "show_the_love([16, 10, 8])"
      ],
      "metadata": {
        "colab": {
          "base_uri": "https://localhost:8080/"
        },
        "id": "3nQRHXtfE_pc",
        "outputId": "32bb1cf1-b742-4a4f-954a-e4ab0b99da50"
      },
      "execution_count": null,
      "outputs": [
        {
          "output_type": "execute_result",
          "data": {
            "text/plain": [
              "[12.0, 7.5, 14.5]"
            ]
          },
          "metadata": {},
          "execution_count": 4
        }
      ]
    },
    {
      "cell_type": "markdown",
      "source": [
        "# 2. Create a function that takes in two words as input and returns a list of three\n",
        "elements, in the following order:\n",
        "1.Shared letters between two words.\n",
        "2.Letters unique to word 1.\n",
        "3.Letters unique to word 2.\n",
        "Each element should have unique letters, and have each letter be\n",
        "alphabetically sorted.\n",
        "Examples\n",
        "letters(&quot;sharp&quot;, &quot;soap&quot;) ➞ [&quot;aps&quot;, &quot;hr&quot;, &quot;o&quot;]\n",
        "letters(&quot;board&quot;, &quot;bored&quot;) ➞ [&quot;bdor&quot;, &quot;a&quot;, &quot;e&quot;]\n",
        "letters(&quot;happiness&quot;, &quot;envelope&quot;) ➞ [&quot;enp&quot;, &quot;ahis&quot;, &quot;lov&quot;]\n",
        "letters(&quot;kerfuffle&quot;, &quot;fluffy&quot;) ➞ [&quot;flu&quot;, &quot;ekr&quot;, &quot;y&quot;]\n",
        "# Even with multiple matching letters (e.g. 3 f&#39;s), there should\n",
        "# only exist a single &quot;f&quot; in your first element.\n",
        "letters(&quot;match&quot;, &quot;ham&quot;) ➞ [&quot;ahm&quot;, &quot;ct&quot;, &quot;&quot;]\n",
        "# &quot;ham&quot; does not contain any letters that are not found already\n",
        "# in &quot;match&quot;."
      ],
      "metadata": {
        "id": "1J9y5qXdWMOn"
      }
    },
    {
      "cell_type": "code",
      "source": [
        "def letters(word1,word2):\n",
        "  shared=''.join(sorted(set(word1)&set(word2)))\n",
        "  unique1=''.join(sorted(set(word1)-set(word2)))\n",
        "  unique2=''.join(sorted(set(word2)-set(word1)))\n",
        "  return[shared,unique1,unique2]"
      ],
      "metadata": {
        "id": "j-sjv4fLboA5"
      },
      "execution_count": 13,
      "outputs": []
    },
    {
      "cell_type": "code",
      "source": [
        "\n",
        "letters(\"match\", \"ham\") \n"
      ],
      "metadata": {
        "colab": {
          "base_uri": "https://localhost:8080/"
        },
        "id": "KLUquuG_XqdV",
        "outputId": "3d95b5f6-ff91-4103-81a3-538b7a8dec8b"
      },
      "execution_count": 11,
      "outputs": [
        {
          "output_type": "execute_result",
          "data": {
            "text/plain": [
              "['ahm', 'ct', '']"
            ]
          },
          "metadata": {},
          "execution_count": 11
        }
      ]
    },
    {
      "cell_type": "code",
      "source": [
        "letters(\"happiness\", \"envelope\")"
      ],
      "metadata": {
        "colab": {
          "base_uri": "https://localhost:8080/"
        },
        "id": "WV2zgaTVYd71",
        "outputId": "36cd9a23-4209-43a2-ff3d-156f0e3ee575"
      },
      "execution_count": 12,
      "outputs": [
        {
          "output_type": "execute_result",
          "data": {
            "text/plain": [
              "['enp', 'ahis', 'lov']"
            ]
          },
          "metadata": {},
          "execution_count": 12
        }
      ]
    },
    {
      "cell_type": "code",
      "source": [
        "letters(\"kerfuffle\", \"fluffy\")"
      ],
      "metadata": {
        "colab": {
          "base_uri": "https://localhost:8080/"
        },
        "id": "2bIrWl_cYVJQ",
        "outputId": "12799168-5d26-4942-a619-c9ce64947524"
      },
      "execution_count": 4,
      "outputs": [
        {
          "output_type": "execute_result",
          "data": {
            "text/plain": [
              "['flu', 'ekr', 'y']"
            ]
          },
          "metadata": {},
          "execution_count": 4
        }
      ]
    },
    {
      "cell_type": "code",
      "source": [
        "letters(\"sharp\", \"soap\")"
      ],
      "metadata": {
        "colab": {
          "base_uri": "https://localhost:8080/"
        },
        "id": "mtziHWRPZDs9",
        "outputId": "f974ffd4-56b2-44d4-f415-30278f5513c2"
      },
      "execution_count": 6,
      "outputs": [
        {
          "output_type": "execute_result",
          "data": {
            "text/plain": [
              "['aps', 'hr', 'o']"
            ]
          },
          "metadata": {},
          "execution_count": 6
        }
      ]
    },
    {
      "cell_type": "code",
      "source": [
        "letters(\"board\", \"bored\") "
      ],
      "metadata": {
        "colab": {
          "base_uri": "https://localhost:8080/"
        },
        "id": "Jh5cVVLrZ7Ps",
        "outputId": "8d2e6145-371f-4f65-81d5-f4e5bb4c8020"
      },
      "execution_count": 8,
      "outputs": [
        {
          "output_type": "execute_result",
          "data": {
            "text/plain": [
              "['bdor', 'a', 'e']"
            ]
          },
          "metadata": {},
          "execution_count": 8
        }
      ]
    },
    {
      "cell_type": "markdown",
      "source": [
        "\n",
        "# 3. Write a function that pairs the first number in an array with the last, the second number with the second to last, etc.\n",
        "\n",
        "Examples\n",
        "\n",
        "pairs([1, 2, 3, 4, 5, 6, 7]) ➞ [[1, 7], [2, 6], [3, 5], [4, 4]]\n",
        "\n",
        "pairs([1, 2, 3, 4, 5, 6]) ➞ [[1, 6], [2, 5], [3, 4]]\n",
        "\n",
        "pairs([5, 9, 8, 1, 2]) ➞ [[5, 2], [9, 1], [8, 8]]\n",
        "\n",
        "pairs([]) ➞ []\n"
      ],
      "metadata": {
        "id": "D2_iQ7lTdQ71"
      }
    },
    {
      "cell_type": "code",
      "source": [
        "def pairs(numbers):\n",
        "  if len(numbers)==0:\n",
        "    return []\n",
        "  pairs=[]\n",
        "  for i in range(len(numbers)//2):\n",
        "    pairs.append([numbers[i],numbers[-(i+1)]])\n",
        "  if len(numbers)%2==1:\n",
        "    pairs.append([numbers[len(numbers)//2],numbers[len(numbers)//2]])\n",
        "  return pairs"
      ],
      "metadata": {
        "id": "t-cchuUqiMuq"
      },
      "execution_count": 21,
      "outputs": []
    },
    {
      "cell_type": "code",
      "source": [
        "pairs([1, 2, 3, 4, 5, 6, 7])"
      ],
      "metadata": {
        "colab": {
          "base_uri": "https://localhost:8080/"
        },
        "id": "G2PmjF9hjbfB",
        "outputId": "31fca5d7-9f38-4494-fe87-5e6a2373defb"
      },
      "execution_count": 20,
      "outputs": [
        {
          "output_type": "execute_result",
          "data": {
            "text/plain": [
              "[[1, 7], [2, 6], [3, 5], [4, 4]]"
            ]
          },
          "metadata": {},
          "execution_count": 20
        }
      ]
    },
    {
      "cell_type": "code",
      "source": [
        "pairs([1, 2, 3, 4, 5, 6]) "
      ],
      "metadata": {
        "colab": {
          "base_uri": "https://localhost:8080/"
        },
        "id": "e1stQjnsfAQ7",
        "outputId": "b5726059-7c54-4bd8-a3be-f11a40816161"
      },
      "execution_count": 16,
      "outputs": [
        {
          "output_type": "execute_result",
          "data": {
            "text/plain": [
              "[[1, 6], [2, 5], [3, 4]]"
            ]
          },
          "metadata": {},
          "execution_count": 16
        }
      ]
    },
    {
      "cell_type": "code",
      "source": [
        "pairs([5, 9, 8, 1, 2])"
      ],
      "metadata": {
        "colab": {
          "base_uri": "https://localhost:8080/"
        },
        "id": "40YYTwg_fGF7",
        "outputId": "2beaa48b-b780-45ce-8a54-36309fb314e8"
      },
      "execution_count": 17,
      "outputs": [
        {
          "output_type": "execute_result",
          "data": {
            "text/plain": [
              "[[5, 2], [9, 1], [8, 8]]"
            ]
          },
          "metadata": {},
          "execution_count": 17
        }
      ]
    },
    {
      "cell_type": "code",
      "source": [
        "pairs([]) "
      ],
      "metadata": {
        "colab": {
          "base_uri": "https://localhost:8080/"
        },
        "id": "xRguV3KLfLNO",
        "outputId": "4e326415-1e03-4ca0-ac5e-7f98452ef6bf"
      },
      "execution_count": 18,
      "outputs": [
        {
          "output_type": "execute_result",
          "data": {
            "text/plain": [
              "[]"
            ]
          },
          "metadata": {},
          "execution_count": 18
        }
      ]
    },
    {
      "cell_type": "markdown",
      "source": [
        "# 4. Write a function that adds two numbers. The catch, however, is that the numbers will be strings.\n",
        "\n",
        "Examples\n",
        "\n",
        "add_str_nums(\"4\", \"5\") ➞ \"9\"\n",
        "\n",
        "add_str_nums(\"abcdefg\", \"3\") ➞ \"-1\"\n",
        "\n",
        "add_str_nums(\"1\", \"\") ➞ \"1\"\n",
        "\n",
        "add_str_nums(\"1874682736267235927359283579235789257\", \"32652983572985729\") ➞ \"1874682736267235927391936562808774986\"\n"
      ],
      "metadata": {
        "id": "XBlCBf9yjnBN"
      }
    },
    {
      "cell_type": "code",
      "source": [
        "def add_str_nums(in_one,in_two):\n",
        "  in_one= in_one if len(in_one)>0 else '0'\n",
        "  in_two=in_two if len(in_two)>0 else '0'\n",
        "  if in_one.isdigit()==False or in_two.isdigit()==False:\n",
        "    output=-1\n",
        "  else:\n",
        "    output=int(in_one)+int(in_two)\n",
        "  print(f'add_str_nums{in_one,in_two}->{str(output)}')"
      ],
      "metadata": {
        "id": "AiUMEbyTj2JA"
      },
      "execution_count": 27,
      "outputs": []
    },
    {
      "cell_type": "code",
      "source": [
        "add_str_nums(\"4\", \"5\") "
      ],
      "metadata": {
        "colab": {
          "base_uri": "https://localhost:8080/"
        },
        "id": "nOF-ZkOnotF5",
        "outputId": "5e111b62-29a5-4555-9263-8b8cb48b239c"
      },
      "execution_count": 28,
      "outputs": [
        {
          "output_type": "stream",
          "name": "stdout",
          "text": [
            "add_str_nums('4', '5')->9\n"
          ]
        }
      ]
    },
    {
      "cell_type": "code",
      "source": [
        "add_str_nums(\"abcdefg\", \"3\") "
      ],
      "metadata": {
        "colab": {
          "base_uri": "https://localhost:8080/"
        },
        "id": "2FYNGqgmox2t",
        "outputId": "ec61591c-accc-406d-a4c8-3befab4a78bd"
      },
      "execution_count": 29,
      "outputs": [
        {
          "output_type": "stream",
          "name": "stdout",
          "text": [
            "add_str_nums('abcdefg', '3')->-1\n"
          ]
        }
      ]
    },
    {
      "cell_type": "code",
      "source": [
        "add_str_nums(\"1\", \"\") "
      ],
      "metadata": {
        "colab": {
          "base_uri": "https://localhost:8080/"
        },
        "id": "illP6r-to1DP",
        "outputId": "858f2eea-4e57-4941-d0f2-1580fb2068a7"
      },
      "execution_count": 30,
      "outputs": [
        {
          "output_type": "stream",
          "name": "stdout",
          "text": [
            "add_str_nums('1', '0')->1\n"
          ]
        }
      ]
    },
    {
      "cell_type": "code",
      "source": [
        "add_str_nums(\"1874682736267235927359283579235789257\", \"32652983572985729\") "
      ],
      "metadata": {
        "colab": {
          "base_uri": "https://localhost:8080/"
        },
        "id": "iBjbAqDbo6nl",
        "outputId": "22d8122c-8cb1-4891-c62f-9d4da92f43f6"
      },
      "execution_count": 31,
      "outputs": [
        {
          "output_type": "stream",
          "name": "stdout",
          "text": [
            "add_str_nums('1874682736267235927359283579235789257', '32652983572985729')->1874682736267235927391936562808774986\n"
          ]
        }
      ]
    },
    {
      "cell_type": "markdown",
      "source": [
        "# 5. lPaeesh le pemu mnxit ehess rtnisg! Oh, sorry, that was supposed to say: Please help me unmix these strings!\n",
        "\n",
        "Somehow my strings have all become mixed up; every pair of characters has been swapped. Help me undo this so I can understand my strings again.\n",
        "\n",
        "Examples\n",
        "\n",
        "unmix(\"123456\") ➞ \"214365\"\n",
        "\n",
        "unmix(\"hTsii  s aimex dpus rtni.g\") ➞ \"This is a mixed up string.\"\n",
        "\n",
        "unmix(\"badce\") ➞ \"abcde\"\n",
        "\n"
      ],
      "metadata": {
        "id": "_Byh8zHysebr"
      }
    },
    {
      "cell_type": "code",
      "source": [
        "def unmix(in_string):\n",
        "  output=''\n",
        "  for ele in range(0,len(in_string)-1,2):\n",
        "    output+=in_string[ele+1]+in_string[ele]\n",
        "    if len(in_string)%2!=0 and ele==len(in_string)//2:\n",
        "      output+=in_string[-1]\n",
        "  print(f'umix({in_string})->{output}')\n",
        "\n",
        "unmix(\"123456\")\n",
        "unmix(\"hTsii  s aimex dpus rtni.g\")\n",
        "unmix(\"badce\")"
      ],
      "metadata": {
        "colab": {
          "base_uri": "https://localhost:8080/"
        },
        "id": "1WTubALPtgsY",
        "outputId": "db365313-4930-4969-866e-0f6e211b6fe8"
      },
      "execution_count": 38,
      "outputs": [
        {
          "output_type": "stream",
          "name": "stdout",
          "text": [
            "umix(123456)->214365\n",
            "umix(hTsii  s aimex dpus rtni.g)->This is a mixed up string.\n",
            "umix(badce)->abcde\n"
          ]
        }
      ]
    }
  ]
}