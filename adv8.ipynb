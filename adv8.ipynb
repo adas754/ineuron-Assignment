{
  "nbformat": 4,
  "nbformat_minor": 0,
  "metadata": {
    "colab": {
      "provenance": []
    },
    "kernelspec": {
      "name": "python3",
      "display_name": "Python 3"
    },
    "language_info": {
      "name": "python"
    }
  },
  "cells": [
    {
      "cell_type": "markdown",
      "source": [
        "# 1. Given a sentence as txt, return True if any two adjacent words have this property: One word ends with a vowel, while the word immediately after begins with a vowel (a e i o u).\n",
        "\n",
        "Examples\n",
        "\n",
        "vowel_links(\"a very large appliance\") ➞ True\n",
        "\n",
        "vowel_links(\"go to edabit\") ➞ True\n",
        "\n",
        "vowel_links(\"an open fire\") ➞ False\n",
        "\n",
        "vowel_links(\"a sudden applause\") ➞ False\n",
        "\n"
      ],
      "metadata": {
        "id": "N6fdtcqHwRUs"
      }
    },
    {
      "cell_type": "code",
      "execution_count": null,
      "metadata": {
        "colab": {
          "base_uri": "https://localhost:8080/"
        },
        "id": "Kn7MxVemwK21",
        "outputId": "12469cfe-4b5b-4709-a627-91f49667b3d3"
      },
      "outputs": [
        {
          "output_type": "execute_result",
          "data": {
            "text/plain": [
              "True"
            ]
          },
          "metadata": {},
          "execution_count": 8
        }
      ],
      "source": [
        "def vowel_links(txt):\n",
        "    vowels = \"aeiouAEIOU\"\n",
        "    words = txt.split()\n",
        "    for i in range(len(words)-1):\n",
        "        if words[i][-1] in vowels and words[i+1][0] in vowels:\n",
        "            return True\n",
        "    return False\n",
        "vowel_links(\"a very large appliance\") "
      ]
    },
    {
      "cell_type": "code",
      "source": [
        "vowel_links(\"go to edabit\") "
      ],
      "metadata": {
        "colab": {
          "base_uri": "https://localhost:8080/"
        },
        "id": "UUceru-UxWos",
        "outputId": "b6b78dda-efd0-4f12-e5cc-a983ddbf53ac"
      },
      "execution_count": null,
      "outputs": [
        {
          "output_type": "execute_result",
          "data": {
            "text/plain": [
              "True"
            ]
          },
          "metadata": {},
          "execution_count": 7
        }
      ]
    },
    {
      "cell_type": "code",
      "source": [
        "vowel_links(\"an open fire\")"
      ],
      "metadata": {
        "colab": {
          "base_uri": "https://localhost:8080/"
        },
        "id": "OvLhGJB5xbRA",
        "outputId": "d4f2a4a4-2f8d-47c2-876a-b37ca617e350"
      },
      "execution_count": null,
      "outputs": [
        {
          "output_type": "execute_result",
          "data": {
            "text/plain": [
              "False"
            ]
          },
          "metadata": {},
          "execution_count": 4
        }
      ]
    },
    {
      "cell_type": "code",
      "source": [
        "vowel_links(\"a sudden applause\") "
      ],
      "metadata": {
        "colab": {
          "base_uri": "https://localhost:8080/"
        },
        "id": "YE4E8UJYxd78",
        "outputId": "096e2738-67e7-4fb1-8911-8bcbdbb04b7b"
      },
      "execution_count": null,
      "outputs": [
        {
          "output_type": "execute_result",
          "data": {
            "text/plain": [
              "False"
            ]
          },
          "metadata": {},
          "execution_count": 5
        }
      ]
    },
    {
      "cell_type": "markdown",
      "source": [
        "# 2. You are given three inputs: a string, one letter, and a second letter.\n",
        "\n",
        "Write a function that returns True if every instance of the first letter occurs before every instance of the second letter.\n",
        "\n",
        "Examples\n",
        "\n",
        "first_before_second(\"a rabbit jumps joyfully\", \"a\", \"j\") ➞ True\n",
        "# Every instance of \"a\" occurs before every instance of \"j\".\n",
        "\n",
        "first_before_second(\"knaves knew about waterfalls\", \"k\", \"w\") ➞  True\n",
        "\n",
        "first_before_second(\"happy birthday\", \"a\", \"y\") ➞ False\n",
        "# The \"a\" in \"birthday\" occurs after the \"y\" in \"happy\".\n",
        "\n",
        "first_before_second(\"precarious kangaroos\", \"k\", \"a\") ➞ False\n",
        "\n"
      ],
      "metadata": {
        "id": "8vcPwpNL2E3W"
      }
    },
    {
      "cell_type": "code",
      "source": [
        "def first_before_second_index(in_string,in_first,in_second):\n",
        "    last_occur_first = in_string.rindex(in_first)\n",
        "    first_occur_second = in_string.index(in_second)\n",
        "    output = True if last_occur_first < first_occur_second else False\n",
        "    print(f'first_before_second_index({in_string}, {in_first}, {in_second}) ➞ {output}')"
      ],
      "metadata": {
        "id": "R3o9guIz7iDS"
      },
      "execution_count": null,
      "outputs": []
    },
    {
      "cell_type": "code",
      "source": [
        "\n",
        "first_before_second_index(\"a rabbit jumps joyfully\", \"a\", \"j\")\n",
        "first_before_second_index(\"knaves knew about waterfalls\", \"k\", \"w\")\n",
        "first_before_second_index(\"happy birthday\", \"a\", \"y\")\n",
        "first_before_second_index(\"precarious kangaroos\", \"k\", \"a\")"
      ],
      "metadata": {
        "colab": {
          "base_uri": "https://localhost:8080/"
        },
        "id": "Gi-Ufpig7rvk",
        "outputId": "55855b92-3b48-453c-ac56-af4a7a8d2bfd"
      },
      "execution_count": null,
      "outputs": [
        {
          "output_type": "stream",
          "name": "stdout",
          "text": [
            "first_before_second_index(a rabbit jumps joyfully, a, j) ➞ True\n",
            "first_before_second_index(knaves knew about waterfalls, k, w) ➞ True\n",
            "first_before_second_index(happy birthday, a, y) ➞ False\n",
            "first_before_second_index(precarious kangaroos, k, a) ➞ False\n"
          ]
        }
      ]
    },
    {
      "cell_type": "markdown",
      "source": [
        "\n",
        "# 3. Create a function that returns the characters from a list or string r on odd or even positions, depending on the specifier s. The specifier will be \"odd\" for items on odd positions (1, 3, 5, ...) and \"even\" for items on even positions (2, 4, 6, ...).\n",
        "\n",
        "Examples\n",
        "\n",
        "char_at_pos([2, 4, 6, 8, 10], \"even\") ➞ [4, 8]\n",
        "# 4 & 8 occupy the 2nd & 4th positions\n",
        "\n",
        "char_at_pos(\"EDABIT\", \"odd\") ➞ \"EAI\"\n",
        "# \"E\", \"A\" and \"I\" occupy the 1st, 3rd and 5th positions\n",
        "\n",
        "char_at_pos([\"A\", \"R\", \"B\", \"I\", \"T\", \"R\", \"A\", \"R\", \"I\", \"L\", \"Y\"], \"odd\") ➞ [\"A\", \"B\", \"T\", \"A\", \"I\", \"Y\"]\n"
      ],
      "metadata": {
        "id": "9XumDeHq8RUI"
      }
    },
    {
      "cell_type": "code",
      "source": [
        "def char_at_pos(in_list,mode):\n",
        "  out_list=[]\n",
        "  for ele in range(len(in_list)):\n",
        "    if mode=='even' and (ele+1)%2==0:\n",
        "      out_list.append(in_list[ele])\n",
        "    elif mode=='odd' and(ele+1)%2!=0:\n",
        "      out_list.append(in_list[ele])\n",
        "  print(f'char_at_pos{in_list,mode}->{out_list}')\n",
        "\n",
        "char_at_pos([2, 4, 6, 8, 10], \"even\")\n",
        "char_at_pos(\"EDABIT\", \"odd\")\n",
        "char_at_pos([\"A\", \"R\", \"B\", \"I\", \"T\", \"R\", \"A\", \"R\", \"I\", \"L\", \"Y\"], \"odd\")"
      ],
      "metadata": {
        "colab": {
          "base_uri": "https://localhost:8080/"
        },
        "id": "BVagbXum8WZY",
        "outputId": "07215370-f9a9-4167-ab3f-31585bd4a622"
      },
      "execution_count": null,
      "outputs": [
        {
          "output_type": "stream",
          "name": "stdout",
          "text": [
            "char_at_pos([2, 4, 6, 8, 10], 'even')->[4, 8]\n",
            "char_at_pos('EDABIT', 'odd')->['E', 'A', 'I']\n",
            "char_at_pos(['A', 'R', 'B', 'I', 'T', 'R', 'A', 'R', 'I', 'L', 'Y'], 'odd')->['A', 'B', 'T', 'A', 'I', 'Y']\n"
          ]
        }
      ]
    },
    {
      "cell_type": "markdown",
      "source": [
        "# 4. Write a function that returns the greatest common divisor of all list elements. If the greatest common divisor is 1, return 1.\n",
        "\n",
        "Examples\n",
        "\n",
        "GCD([10, 20, 40]) ➞ 10\n",
        "\n",
        "GCD([1, 2, 3, 100]) ➞ 1\n",
        "\n",
        "GCD([1024, 192, 2048, 512]) ➞ 64\n"
      ],
      "metadata": {
        "id": "HYh6HeKm_zVb"
      }
    },
    {
      "cell_type": "code",
      "source": [
        "def GCD(numbers):\n",
        "    def _gcd(a, b):\n",
        "        while b:\n",
        "            a, b = b, a % b\n",
        "        return a\n",
        "\n",
        "    gcd = numbers[0]\n",
        "    for i in range(1, len(numbers)):\n",
        "        gcd = _gcd(gcd, numbers[i])\n",
        "    return 1 if gcd == 1 else gcd\n"
      ],
      "metadata": {
        "id": "lQ5nOi9S_7nf"
      },
      "execution_count": null,
      "outputs": []
    },
    {
      "cell_type": "code",
      "source": [
        "GCD([10, 20, 40])\n",
        "GCD([1, 2, 3, 100]) \n",
        "\n",
        "GCD([1024, 192, 2048, 512])"
      ],
      "metadata": {
        "colab": {
          "base_uri": "https://localhost:8080/"
        },
        "id": "2s6_OJeNe63A",
        "outputId": "cf351c62-b415-47eb-a0f9-82422687dd5f"
      },
      "execution_count": null,
      "outputs": [
        {
          "output_type": "execute_result",
          "data": {
            "text/plain": [
              "64"
            ]
          },
          "metadata": {},
          "execution_count": 2
        }
      ]
    },
    {
      "cell_type": "code",
      "source": [
        "GCD([1, 2, 3, 100]) "
      ],
      "metadata": {
        "colab": {
          "base_uri": "https://localhost:8080/"
        },
        "id": "lNckuR9-fIly",
        "outputId": "62f63391-7dbd-4204-9d2e-b509c6cc2be1"
      },
      "execution_count": null,
      "outputs": [
        {
          "output_type": "execute_result",
          "data": {
            "text/plain": [
              "1"
            ]
          },
          "metadata": {},
          "execution_count": 4
        }
      ]
    },
    {
      "cell_type": "code",
      "source": [
        "GCD([10, 20, 40])\n"
      ],
      "metadata": {
        "colab": {
          "base_uri": "https://localhost:8080/"
        },
        "id": "5iIwb-7sfCI8",
        "outputId": "0ca186cc-7279-40e6-b970-af91bc5f8e13"
      },
      "execution_count": null,
      "outputs": [
        {
          "output_type": "execute_result",
          "data": {
            "text/plain": [
              "10"
            ]
          },
          "metadata": {},
          "execution_count": 3
        }
      ]
    },
    {
      "cell_type": "markdown",
      "source": [
        "5. A number/string is a palindrome if the digits/characters are the same when read both forward and backward. Examples include \"racecar\" and 12321. Given a positive number n, check if n or the binary representation of n is palindromic. Return the following:\n",
        "\n",
        "- \"Decimal only.\" if only n is a palindrome.\n",
        "- \"Binary only.\" if only the binary representation of n is a palindrome.\n",
        "- \"Decimal and binary.\" if both are palindromes.\n",
        "- \"Neither!\" if neither are palindromes.\n",
        "\n",
        "Examples\n",
        "\n",
        "palindrome_type(1306031) ➞ \"Decimal only.\"\n",
        "# decimal = 1306031\n",
        "# binary  = \"100111110110110101111\"\n",
        "\n",
        "palindrome_type(427787) ➞ \"Binary only.\"\n",
        "# decimal = 427787\n",
        "# binary  = \"1101000011100001011\"\n",
        "\n",
        "palindrome_type(313) ➞ \"Decimal and binary.\"\n",
        "# decimal = 313\n",
        "# binary  = 100111001\n",
        "\n",
        "palindrome_type(934) ➞ \"Neither!\"\n",
        "# decimal = 934\n",
        "# binary  = \"1110100110\"\n"
      ],
      "metadata": {
        "id": "IptBYdR7htEV"
      }
    },
    {
      "cell_type": "code",
      "source": [
        "def palindrome_type(n):\n",
        "    decimal = str(n)\n",
        "    binary = bin(n)[2:]\n",
        "    if decimal == decimal[::-1] and binary == binary[::-1]:\n",
        "        return \"Decimal and binary.\"\n",
        "    elif decimal == decimal[::-1]:\n",
        "        return \"Decimal only.\"\n",
        "    elif binary == binary[::-1]:\n",
        "        return \"Binary only.\"\n",
        "    else:\n",
        "        return \"Neither!\"\n",
        "palindrome_type(1306031)\n"
      ],
      "metadata": {
        "colab": {
          "base_uri": "https://localhost:8080/",
          "height": 35
        },
        "id": "YP-YhQVfkQvI",
        "outputId": "d20c99be-9129-457f-ed62-d0fb1378137e"
      },
      "execution_count": 2,
      "outputs": [
        {
          "output_type": "execute_result",
          "data": {
            "text/plain": [
              "'Decimal only.'"
            ],
            "application/vnd.google.colaboratory.intrinsic+json": {
              "type": "string"
            }
          },
          "metadata": {},
          "execution_count": 2
        }
      ]
    },
    {
      "cell_type": "code",
      "source": [
        "palindrome_type(427787)"
      ],
      "metadata": {
        "colab": {
          "base_uri": "https://localhost:8080/",
          "height": 35
        },
        "id": "DupJI-KukdKV",
        "outputId": "d8355e85-e570-4493-b3ce-12a9f421c24a"
      },
      "execution_count": 3,
      "outputs": [
        {
          "output_type": "execute_result",
          "data": {
            "text/plain": [
              "'Binary only.'"
            ],
            "application/vnd.google.colaboratory.intrinsic+json": {
              "type": "string"
            }
          },
          "metadata": {},
          "execution_count": 3
        }
      ]
    },
    {
      "cell_type": "code",
      "source": [
        "palindrome_type(313) "
      ],
      "metadata": {
        "colab": {
          "base_uri": "https://localhost:8080/",
          "height": 35
        },
        "id": "ZlWP8m2okj2-",
        "outputId": "7d5cb4c5-b4fb-484b-cede-2f004df05a26"
      },
      "execution_count": 4,
      "outputs": [
        {
          "output_type": "execute_result",
          "data": {
            "text/plain": [
              "'Decimal and binary.'"
            ],
            "application/vnd.google.colaboratory.intrinsic+json": {
              "type": "string"
            }
          },
          "metadata": {},
          "execution_count": 4
        }
      ]
    },
    {
      "cell_type": "code",
      "source": [
        "palindrome_type(934)"
      ],
      "metadata": {
        "colab": {
          "base_uri": "https://localhost:8080/",
          "height": 35
        },
        "id": "eYeRtWJIkwH-",
        "outputId": "9ae70b28-224c-4547-d259-f80b3d9bd135"
      },
      "execution_count": 5,
      "outputs": [
        {
          "output_type": "execute_result",
          "data": {
            "text/plain": [
              "'Neither!'"
            ],
            "application/vnd.google.colaboratory.intrinsic+json": {
              "type": "string"
            }
          },
          "metadata": {},
          "execution_count": 5
        }
      ]
    }
  ]
}