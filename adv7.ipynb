{
  "nbformat": 4,
  "nbformat_minor": 0,
  "metadata": {
    "colab": {
      "provenance": []
    },
    "kernelspec": {
      "name": "python3",
      "display_name": "Python 3"
    },
    "language_info": {
      "name": "python"
    }
  },
  "cells": [
    {
      "cell_type": "markdown",
      "source": [
        "# 1. Write a function that counts how many concentric layers a rug.\n",
        "\n",
        "Examples\n",
        "\n",
        "\n",
        "# count_layers([\n",
        "  \"AAAA\",\n",
        "  \"ABBA\",\n",
        "  \"AAAA\"\n",
        "]) ➞ 2\n",
        "\n",
        "\n",
        "# count_layers([\n",
        "  \"AAAAAAAAA\",\n",
        "  \"ABBBBBBBA\",\n",
        "  \"ABBAAABBA\",\n",
        "  \"ABBBBBBBA\",\n",
        "  \"AAAAAAAAA\"\n",
        "]) ➞ 3\n",
        "\n",
        "\n",
        "# count_layers([\n",
        "  \"AAAAAAAAAAA\",\n",
        "  \"AABBBBBBBAA\",\n",
        "  \"AABCCCCCBAA\",\n",
        "  \"AABCAAACBAA\",\n",
        "  \"AABCADACBAA\",\n",
        "  \"AABCAAACBAA\",\n",
        "  \"AABCCCCCBAA\",\n",
        "  \"AABBBBBBBAA\",\n",
        "  \"AAAAAAAAAAA\"\n",
        "]) ➞ 5\n",
        "\n",
        "\n"
      ],
      "metadata": {
        "id": "LjOP4e_MSF7s"
      }
    },
    {
      "cell_type": "code",
      "execution_count": 3,
      "metadata": {
        "id": "5EDFMq5sR9B8"
      },
      "outputs": [],
      "source": [
        "def count_layers(in_list):\n",
        "  out_list=[]\n",
        "  for ele in in_list:\n",
        "    if ele not in out_list:\n",
        "      out_list.append(ele)\n",
        "  print(f'count_layers({in_list})->{len(out_list)}')"
      ]
    },
    {
      "cell_type": "code",
      "source": [
        "count_layers([\n",
        "  \"AAAA\",\n",
        "  \"ABBA\",\n",
        "  \"AAAA\"\n",
        "])\n",
        "count_layers([\n",
        "\"AAAAAAAAA\", \"ABBBBBBBA\", \"ABBAAABBA\", \"ABBBBBBBA\", \"AAAAAAAAA\" ])\n",
        "\n",
        "count_layers([\n",
        "\"AAAAAAAAAAA\", \"AABBBBBBBAA\", \"AABCCCCCBAA\", \"AABCAAACBAA\", \"AABCADACBAA\", \"AABCAAACBAA\", \"AABCCCCCBAA\", \"AABBBBBBBAA\", \"AAAAAAAAAAA\" ])"
      ],
      "metadata": {
        "colab": {
          "base_uri": "https://localhost:8080/"
        },
        "id": "kNuoEEDRalHI",
        "outputId": "bde676e4-d35a-4db6-8e7f-6e59aa4d4bff"
      },
      "execution_count": 5,
      "outputs": [
        {
          "output_type": "stream",
          "name": "stdout",
          "text": [
            "count_layers(['AAAA', 'ABBA', 'AAAA'])->2\n",
            "count_layers(['AAAAAAAAA', 'ABBBBBBBA', 'ABBAAABBA', 'ABBBBBBBA', 'AAAAAAAAA'])->3\n",
            "count_layers(['AAAAAAAAAAA', 'AABBBBBBBAA', 'AABCCCCCBAA', 'AABCAAACBAA', 'AABCADACBAA', 'AABCAAACBAA', 'AABCCCCCBAA', 'AABBBBBBBAA', 'AAAAAAAAAAA'])->5\n"
          ]
        }
      ]
    },
    {
      "cell_type": "markdown",
      "source": [
        "# 2. There are many different styles of music and many albums exhibit multiple styles. Create a function that takes a list of musical styles from albums and returns how many styles are unique.\n",
        "\n",
        "Examples\n",
        "\n",
        "unique_styles([\n",
        "  \"Dub,Dancehall\",\n",
        "  \"Industrial,Heavy Metal\",\n",
        "  \"Techno,Dubstep\",\n",
        "  \"Synth-pop,Euro-Disco\",\n",
        "  \"Industrial,Techno,Minimal\"\n",
        "]) ➞ 9\n",
        "\n",
        "unique_styles([\n",
        "  \"Soul\",\n",
        "  \"House,Folk\",\n",
        "  \"Trance,Downtempo,Big Beat,House\",\n",
        "  \"Deep House\",\n",
        "  \"Soul\"\n",
        "]) ➞ 7\n",
        "\n"
      ],
      "metadata": {
        "id": "V_0keehJbuH4"
      }
    },
    {
      "cell_type": "code",
      "source": [
        "def unique_styles(albums):\n",
        "  styles=set()\n",
        "  for album in albums:\n",
        "    styles.update(album.split(','))\n",
        "  return len(styles)\n",
        "unique_styles([ \"Dub,Dancehall\", \"Industrial,Heavy Metal\", \"Techno,Dubstep\", \"Synth-pop,Euro-Disco\", \"Industrial,Techno,Minimal\" ])"
      ],
      "metadata": {
        "colab": {
          "base_uri": "https://localhost:8080/"
        },
        "id": "rkiyiLNRdvhb",
        "outputId": "4017ff9a-d732-49fb-e2da-4d3d685a2d18"
      },
      "execution_count": 11,
      "outputs": [
        {
          "output_type": "execute_result",
          "data": {
            "text/plain": [
              "9"
            ]
          },
          "metadata": {},
          "execution_count": 11
        }
      ]
    },
    {
      "cell_type": "markdown",
      "source": [
        "# 3. Create a function that finds a target number in a list of prime numbers. Implement a binary search algorithm in your function. The target number will be from 2 through 97. If the target is prime then return \"yes\" else return \"no\".\n",
        "\n",
        "Examples\n",
        "\n",
        "primes = [2, 3, 5, 7, 11, 13, 17, 19, 23, 29, 31, 37, 41, 43, 47, 53, 59, 61, 67, 71, 73, 79, 83, 89, 97]\n",
        "\n",
        "\n",
        "is_prime(primes, 3) ➞ \"yes\"\n",
        "\n",
        "is_prime(primes, 4) ➞ \"no\"\n",
        "\n",
        "is_prime(primes, 67) ➞ \"yes\"\n",
        "\n",
        "is_prime(primes, 36) ➞ \"no\"\n",
        "\n"
      ],
      "metadata": {
        "id": "tuItmZkOenwZ"
      }
    },
    {
      "cell_type": "code",
      "source": [
        "def is_prime(primes,target):\n",
        "  left,right=0,len(primes)-1\n",
        "  while left<=right:\n",
        "    mid=(left+right)//2\n",
        "    if primes[mid]==target:\n",
        "      return \"yes\"\n",
        "    elif primes[mid]<target:\n",
        "      left=mid+1\n",
        "    else:\n",
        "      right=mid-1\n",
        "  return \"No\"\n",
        "\n",
        "primes = [2, 3, 5, 7, 11, 13, 17, 19, 23, 29, 31, 37, 41, 43, 47, 53, 59, 61, 67, 71, 73, 79, 83, 89, 97]\n",
        "\n",
        "print(is_prime(primes, 3))\n",
        "print(is_prime(primes, 4))\n",
        "print(is_prime(primes, 67))\n",
        "print(is_prime(primes, 36))\n"
      ],
      "metadata": {
        "colab": {
          "base_uri": "https://localhost:8080/"
        },
        "id": "M2dsgB5_i158",
        "outputId": "64ff827e-f5db-4572-f974-ee8a8330f56a"
      },
      "execution_count": 21,
      "outputs": [
        {
          "output_type": "stream",
          "name": "stdout",
          "text": [
            "yes\n",
            "No\n",
            "yes\n",
            "No\n"
          ]
        }
      ]
    },
    {
      "cell_type": "markdown",
      "source": [
        "# 4. Create a function that takes in n, a, b and returns the number of positive values raised to the nth power that lie in the range [a, b], inclusive.\n",
        "\n",
        "Examples\n",
        "\n",
        "power_ranger(2, 49, 65) ➞ 2\n",
        "# 2 squares (n^2) lie between 49 and 65, 49 (7^2) and 64 (8^2)\n",
        "\n",
        "power_ranger(3, 1, 27) ➞ 3\n",
        "# 3 cubes (n^3) lie between 1 and 27, 1 (1^3), 8 (2^3) and 27 (3^3)\n",
        "\n",
        "power_ranger(10, 1, 5) ➞ 1\n",
        "# 1 value raised to the 10th power lies between 1 and 5, 1 (1^10)\n",
        "\n",
        "power_ranger(5, 31, 33) ➞ 1\n",
        "\n",
        "power_ranger(4, 250, 1300) ➞ 3\n"
      ],
      "metadata": {
        "id": "hoH8NlGAliBM"
      }
    },
    {
      "cell_type": "code",
      "source": [
        "def power_ranger(n,a,b):\n",
        "  count=0\n",
        "  for i in range(int(a**(1/n)),int(b**(1/n))+1):\n",
        "    if i**n>=a and i**n<=b:\n",
        "      count+=1\n",
        "  return count\n",
        "power_ranger(5, 31, 33)"
      ],
      "metadata": {
        "colab": {
          "base_uri": "https://localhost:8080/"
        },
        "id": "U7gEMaiZn2LC",
        "outputId": "4ec48cdb-0994-4cfb-e166-871ef9b62fbf"
      },
      "execution_count": 33,
      "outputs": [
        {
          "output_type": "execute_result",
          "data": {
            "text/plain": [
              "1"
            ]
          },
          "metadata": {},
          "execution_count": 33
        }
      ]
    },
    {
      "cell_type": "markdown",
      "source": [
        "# 5. Given a number, return the difference between the maximum and minimum numbers that can be formed when the digits are rearranged.\n",
        "\n",
        "Examples\n",
        "\n",
        "rearranged_difference(972882) ➞ 760833\n",
        "# 988722 - 227889 = 760833\n",
        "\n",
        "rearranged_difference(3320707) ➞ 7709823\n",
        "# 7733200 - 23377 = 7709823\n",
        "\n",
        "rearranged_difference(90010) ➞ 90981\n",
        "# 91000 - 19 = 90981\n"
      ],
      "metadata": {
        "id": "u_TWYrevqLSA"
      }
    },
    {
      "cell_type": "code",
      "source": [
        "def rearranged_difference(num):\n",
        "  num=str(num)\n",
        "  max_num=0\n",
        "  for d in sorted(num,reverse=True):\n",
        "    max_num=max_num*10+int(d)\n",
        "    min_num=0\n",
        "  for d in sorted(num):\n",
        "    min_num=min_num*10+int(d)\n",
        "  return max_num-min_num\n",
        "rearranged_difference(972882) "
      ],
      "metadata": {
        "colab": {
          "base_uri": "https://localhost:8080/"
        },
        "id": "iXA9QguPtSMC",
        "outputId": "3c2041f5-f92c-4349-f158-d091a9e57b75"
      },
      "execution_count": 40,
      "outputs": [
        {
          "output_type": "execute_result",
          "data": {
            "text/plain": [
              "760833"
            ]
          },
          "metadata": {},
          "execution_count": 40
        }
      ]
    }
  ]
}