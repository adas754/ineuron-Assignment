{
  "nbformat": 4,
  "nbformat_minor": 0,
  "metadata": {
    "colab": {
      "name": "Programming_Assingment6.ipynb",
      "provenance": []
    },
    "kernelspec": {
      "name": "python3",
      "display_name": "Python 3"
    },
    "language_info": {
      "name": "python"
    }
  },
  "cells": [
    {
      "cell_type": "markdown",
      "source": [
        "Write a Python Program to Display Fibonacci Sequence Using Recursion?\n"
      ],
      "metadata": {
        "id": "gF8OZyhN6EwE"
      }
    },
    {
      "cell_type": "code",
      "execution_count": null,
      "metadata": {
        "colab": {
          "base_uri": "https://localhost:8080/"
        },
        "id": "U1c6yf1c56mG",
        "outputId": "959da623-6c8c-4cec-e34c-9aebdd47d1f4"
      },
      "outputs": [
        {
          "output_type": "stream",
          "name": "stdout",
          "text": [
            "Fibonacci sequence\n",
            "0\n",
            "1\n",
            "1\n",
            "2\n",
            "3\n",
            "5\n",
            "8\n",
            "13\n",
            "21\n",
            "34\n"
          ]
        }
      ],
      "source": [
        "def recur_fibo(n):\n",
        "  if n<=1:\n",
        "     return n\n",
        "  else:\n",
        "       return (recur_fibo(n-1)+recur_fibo(n-2))\n",
        "nterms=10\n",
        "if nterms<=0:\n",
        "   print('please Enter positive number')\n",
        "else:\n",
        "    print('Fibonacci sequence')\n",
        "    for i in range(nterms):\n",
        "        print(recur_fibo(i))"
      ]
    },
    {
      "cell_type": "markdown",
      "source": [
        "Write a Python Program to Find Factorial of Number Using Recursion?\n"
      ],
      "metadata": {
        "id": "eRrAyJVJ_Ybq"
      }
    },
    {
      "cell_type": "code",
      "source": [
        "def factorial(n): \n",
        "    if (n==1 or n==0):   \n",
        "        return 1      \n",
        "    else:    \n",
        "        return (n * factorial(n - 1)) \n",
        "num = int(input(\"Enter a number\"))\n",
        "print(\"number : \",num)\n",
        "print(\"Factorial : \",factorial(num))"
      ],
      "metadata": {
        "colab": {
          "base_uri": "https://localhost:8080/"
        },
        "id": "ynuMNcgyAjw8",
        "outputId": "5b606526-d6e5-4b92-d79a-c24f13025ece"
      },
      "execution_count": null,
      "outputs": [
        {
          "output_type": "stream",
          "name": "stdout",
          "text": [
            "Enter a number5\n",
            "number :  5\n",
            "Factorial :  120\n"
          ]
        }
      ]
    },
    {
      "cell_type": "markdown",
      "source": [
        "Write a Python Program to calculate your Body Mass Index?\n"
      ],
      "metadata": {
        "id": "-8SvJXcfCeoz"
      }
    },
    {
      "cell_type": "code",
      "source": [
        "weight=float(input(\"Enter the weight of person in KG : \"))\n",
        "height=float(input(\"Enter the height of person in meter : \"))\n",
        "bmi=weight/(height*height)\n",
        "print(\"BMI of person is : \",bmi)"
      ],
      "metadata": {
        "id": "opuK21AhC16r",
        "colab": {
          "base_uri": "https://localhost:8080/"
        },
        "outputId": "a8c2e76b-854c-4ac4-f0a6-fc1f7872db36"
      },
      "execution_count": 2,
      "outputs": [
        {
          "output_type": "stream",
          "name": "stdout",
          "text": [
            "Enter the weight of person in KG : 60\n",
            "Enter the height of person in meter : 1.6\n",
            "BMI of person is :  23.437499999999996\n"
          ]
        }
      ]
    },
    {
      "cell_type": "markdown",
      "source": [
        "Write a Python Program to calculate the natural logarithm of any number?\n"
      ],
      "metadata": {
        "id": "9MVIktFwhRA-"
      }
    },
    {
      "cell_type": "code",
      "source": [
        "import math\n",
        "n = float(input(\"Enter any number: \"))\n",
        "print(math.log(n))"
      ],
      "metadata": {
        "colab": {
          "base_uri": "https://localhost:8080/"
        },
        "id": "vy6riFGikMtl",
        "outputId": "20b41136-135a-4c9f-b4fb-d2de4f312b89"
      },
      "execution_count": 3,
      "outputs": [
        {
          "output_type": "stream",
          "name": "stdout",
          "text": [
            "Enter any number: 123\n",
            "4.812184355372417\n"
          ]
        }
      ]
    },
    {
      "cell_type": "markdown",
      "source": [
        "Write a Python Program for cube sum of first n natural numbers?\n"
      ],
      "metadata": {
        "id": "HGlkixE4kyQc"
      }
    },
    {
      "cell_type": "code",
      "source": [
        "def cube_sum(n):\n",
        "    result = 0\n",
        "    for i in range(1,n+1):\n",
        "        result = result+(i*i*i)\n",
        "    return result\n",
        "\n",
        "\n",
        "print(cube_sum(5))\n"
      ],
      "metadata": {
        "colab": {
          "base_uri": "https://localhost:8080/"
        },
        "id": "O08Pp-V4k21b",
        "outputId": "35c53b07-553f-4f46-e269-ac4b6d2d9dd0"
      },
      "execution_count": 4,
      "outputs": [
        {
          "output_type": "stream",
          "name": "stdout",
          "text": [
            "225\n"
          ]
        }
      ]
    }
  ]
}