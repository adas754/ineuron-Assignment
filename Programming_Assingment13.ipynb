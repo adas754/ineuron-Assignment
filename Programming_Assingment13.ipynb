{
  "nbformat": 4,
  "nbformat_minor": 0,
  "metadata": {
    "colab": {
      "name": "Programming_Assingment13.ipynb",
      "provenance": []
    },
    "kernelspec": {
      "name": "python3",
      "display_name": "Python 3"
    },
    "language_info": {
      "name": "python"
    }
  },
  "cells": [
    {
      "cell_type": "markdown",
      "source": [
        "Question 1:\n",
        "\n",
        "\n",
        "\n",
        "\n",
        "Write a program that calculates and prints the value according to the given formula:\n",
        "\n",
        "\n",
        "\n",
        "\n",
        "Q = Square root of [(2 * C * D)/H]\n",
        "\n",
        "\n",
        "\n",
        "\n",
        "Following are the fixed values of C and H:\n",
        "\n",
        "\n",
        "\n",
        "\n",
        "C is 50. H is 30.\n",
        "\n",
        "\n",
        "\n",
        "\n",
        "D is the variable whose values should be input to your program in a comma-separated sequence.\n",
        "\n",
        "\n",
        "\n",
        "\n",
        "Example\n",
        "\n",
        "\n",
        "\n",
        "\n",
        "Let us assume the following comma separated input sequence is given to the program:\n",
        "\n",
        "\n",
        "\n",
        "\n",
        "100,150,180\n",
        "\n",
        "\n",
        "\n",
        "\n",
        "The output of the program should be:\n",
        "\n",
        "\n",
        "\n",
        "18,22,24\n"
      ],
      "metadata": {
        "id": "LetfQ5XKgnrf"
      }
    },
    {
      "cell_type": "code",
      "execution_count": null,
      "metadata": {
        "colab": {
          "base_uri": "https://localhost:8080/"
        },
        "id": "949ZcjZZgllO",
        "outputId": "896851cd-53ff-4cd5-ba30-d69737f5c9a8"
      },
      "outputs": [
        {
          "output_type": "stream",
          "name": "stdout",
          "text": [
            "enter input:100,150,180\n",
            "output:18,22,24\n"
          ]
        }
      ],
      "source": [
        "from math import sqrt\n",
        "def calculateprogram():\n",
        "  in_num=eval(input('enter input:'))\n",
        "  ou_num=[]\n",
        "  C=50\n",
        "  H=30\n",
        "  for ele in in_num:\n",
        "    Q =str(int( sqrt ((2 * C * ele)/H)))\n",
        "    ou_num.append(Q)\n",
        "  print('output:{}'.format(','.join(ou_num)))\n",
        "\n",
        "calculateprogram()"
      ]
    },
    {
      "cell_type": "markdown",
      "source": [
        "Question 2:\n",
        "Write a program which takes 2 digits, X,Y as input and generates a 2-dimensional array. The element value in the i-th row and j-th column of the array should be i*j.\n",
        "\n",
        "\n",
        "\n",
        "\n",
        "Note: i=0,1.., X-1; j=0,1,¡Y-1.\n",
        "\n",
        "\n",
        "\n",
        "\n",
        "Example\n",
        "\n",
        "\n",
        "\n",
        "\n",
        "Suppose the following inputs are given to the program:\n",
        "\n",
        "\n",
        "\n",
        "\n",
        "3,5\n",
        "\n",
        "\n",
        "\n",
        "\n",
        "Then, the output of the program should be:\n",
        "\n",
        "\n",
        "\n",
        "\n",
        "[[0, 0, 0, 0, 0], [0, 1, 2, 3, 4], [0, 2, 4, 6, 8]] \n",
        "\n",
        "\n",
        "\n"
      ],
      "metadata": {
        "id": "hjwfZbINkFnV"
      }
    },
    {
      "cell_type": "code",
      "source": [
        "import array as arr\n",
        "def genaratearray():\n",
        "  in_x=int(input('enter no of rows'))\n",
        "  in_y=int(input('enter no of columns '))\n",
        "  out_array=[]\n",
        "  for ele in range(in_x):\n",
        "      out_array.insert(in_x,[])\n",
        "      for sub_ele in range(in_y):\n",
        "          out_array[ele].append(ele*sub_ele)\n",
        "  print(out_array)"
      ],
      "metadata": {
        "id": "yDev3Ow5kaSu"
      },
      "execution_count": 14,
      "outputs": []
    },
    {
      "cell_type": "code",
      "source": [
        "genaratearray()"
      ],
      "metadata": {
        "colab": {
          "base_uri": "https://localhost:8080/"
        },
        "id": "lHk8RcxToOuw",
        "outputId": "1f4a4d04-74c2-4bbb-e441-cf73c1f0a8c1"
      },
      "execution_count": 17,
      "outputs": [
        {
          "output_type": "stream",
          "name": "stdout",
          "text": [
            "enter no of rows3\n",
            "enter no of columns 5\n",
            "[[0, 0, 0, 0, 0], [0, 1, 2, 3, 4], [0, 2, 4, 6, 8]]\n"
          ]
        }
      ]
    },
    {
      "cell_type": "markdown",
      "source": [
        "Question 3:\n",
        "\n",
        "Write a program that accepts a comma separated sequence of words as input and prints the words in a comma-separated sequence after sorting them alphabetically.\n",
        "\n",
        "\n",
        "\n",
        "\n",
        "Suppose the following input is supplied to the program:\n",
        "\n",
        "\n",
        "\n",
        "\n",
        "without,hello,bag,world\n",
        "\n",
        "\n",
        "\n",
        "\n",
        "Then, the output should be:\n",
        "\n",
        "\n",
        "\n",
        "bag,hello,without,world\n"
      ],
      "metadata": {
        "id": "_CFXJ3yopgED"
      }
    },
    {
      "cell_type": "code",
      "source": [
        "def sortstring():\n",
        "  in_string=input('enter the input string')\n",
        "  out_string=','.join(sorted(in_string.split(',')))\n",
        "  print(f'output:{out_string}')\n"
      ],
      "metadata": {
        "id": "bJeIeR_tp8js"
      },
      "execution_count": 21,
      "outputs": []
    },
    {
      "cell_type": "code",
      "source": [
        "sortstring()"
      ],
      "metadata": {
        "colab": {
          "base_uri": "https://localhost:8080/"
        },
        "id": "lW2MGnj2sEnW",
        "outputId": "73dbe7f1-600e-45d8-f266-0923cc662104"
      },
      "execution_count": 22,
      "outputs": [
        {
          "output_type": "stream",
          "name": "stdout",
          "text": [
            "enter the input stringwithout,hello,bag,world\n",
            "output:bag,hello,without,world\n"
          ]
        }
      ]
    },
    {
      "cell_type": "markdown",
      "source": [
        "Question 4:\n",
        "\n",
        "Write a program that accepts a sequence of whitespace separated words as input and prints the words after removing all duplicate words and sorting them alphanumerically.\n",
        "\n",
        "\n",
        "\n",
        "\n",
        "Suppose the following input is supplied to the program:\n",
        "\n",
        "\n",
        "\n",
        "\n",
        "hello world and practice makes perfect and hello world again\n",
        "\n",
        "\n",
        "\n",
        "\n",
        "Then, the output should be:\n",
        "\n",
        "\n",
        "\n",
        "again and hello makes perfect practice world\n",
        "\n"
      ],
      "metadata": {
        "id": "LFXKPwYFsR3V"
      }
    },
    {
      "cell_type": "code",
      "source": [
        "def sortalphanumerically():\n",
        "    in_str=input('enter input string')\n",
        "    ou_str=' '.join(sorted(sorted(list(set(in_str.split(\" \"))))))\n",
        "    print(f'output:{ou_str}')"
      ],
      "metadata": {
        "id": "Uowq9nvzseE2"
      },
      "execution_count": 32,
      "outputs": []
    },
    {
      "cell_type": "code",
      "source": [
        "sortalphanumerically()"
      ],
      "metadata": {
        "colab": {
          "base_uri": "https://localhost:8080/"
        },
        "id": "hVZXNI9Yt7KC",
        "outputId": "9907721f-f114-43f4-969d-eaa16679ded4"
      },
      "execution_count": 33,
      "outputs": [
        {
          "output_type": "stream",
          "name": "stdout",
          "text": [
            "enter input stringhello world and practice makes perfect and hello world again\n",
            "output:again and hello makes perfect practice world\n"
          ]
        }
      ]
    },
    {
      "cell_type": "markdown",
      "source": [
        "Question 5:\n",
        "\n",
        "Write a program that accepts a sentence and calculate the number of letters and digits.\n",
        "\n",
        "\n",
        "\n",
        "\n",
        "Suppose the following input is supplied to the program:\n",
        "\n",
        "\n",
        "\n",
        "\n",
        "hello world! 123\n",
        "\n",
        "\n",
        "\n",
        "\n",
        "Then, the output should be:\n",
        "\n",
        "\n",
        "\n",
        "\n",
        "LETTERS 10\n",
        "\n",
        "\n",
        "\n",
        "DIGITS 3\n"
      ],
      "metadata": {
        "id": "d8GK_U6IvjFl"
      }
    },
    {
      "cell_type": "code",
      "source": [
        "def countletterdigit():\n",
        "    in_str=input('enter the string')\n",
        "    letterlist='ABCDEFGHIJKLMNOPQRSTUVWXYZabcdefghijklmnopqrstuvwxyz'\n",
        "    digitlist='0123456789'\n",
        "    letters=0\n",
        "    digits=0\n",
        "    for ele in in_str:\n",
        "      if ele in letterlist:\n",
        "         letters=letters+1\n",
        "      if ele in digitlist:\n",
        "         digits=digits+1\n",
        "    print(f'LETTERS {letters} \\nDIGITS {digits}')"
      ],
      "metadata": {
        "id": "KHjL5t7ovrwy"
      },
      "execution_count": 41,
      "outputs": []
    },
    {
      "cell_type": "code",
      "source": [
        "countletterdigit()"
      ],
      "metadata": {
        "colab": {
          "base_uri": "https://localhost:8080/"
        },
        "id": "WsXuI_FxyMFA",
        "outputId": "29231b21-d5b1-46c9-8793-b5eb408816f6"
      },
      "execution_count": 42,
      "outputs": [
        {
          "output_type": "stream",
          "name": "stdout",
          "text": [
            "enter the stringhello world! 123\n",
            "LETTERS 10 \n",
            "DIGITS 3\n"
          ]
        }
      ]
    },
    {
      "cell_type": "markdown",
      "source": [
        "Question 6:\n",
        "\n",
        "A website requires the users to input username and password to register. Write a program to check the validity of password input by users.\n",
        "\n",
        "\n",
        "\n",
        "\n",
        "Following are the criteria for checking the password:\n",
        "\n",
        "\n",
        "\n",
        "\n",
        "1. At least 1 letter between [a-z]\n",
        "\n",
        "\n",
        "\n",
        "\n",
        "2. At least 1 number between [0-9]\n",
        "\n",
        "\n",
        "\n",
        "\n",
        "1. At least 1 letter between [A-Z]\n",
        "\n",
        "\n",
        "\n",
        "\n",
        "3. At least 1 character from [$#@]\n",
        "\n",
        "\n",
        "\n",
        "\n",
        "4. Minimum length of transaction password: 6\n",
        "\n",
        "\n",
        "\n",
        "\n",
        "5. Maximum length of transaction password: 12\n",
        "\n",
        "\n",
        "\n",
        "\n",
        "Your program should accept a sequence of comma separated passwords and will check them according to the above criteria. Passwords that match the criteria are to be printed, each separated by a comma.\n",
        "\n",
        "\n",
        "\n",
        "\n",
        "Example\n",
        "\n",
        "\n",
        "\n",
        "\n",
        "If the following passwords are given as input to the program:\n",
        "\n",
        "\n",
        "\n",
        "\n",
        "ABd1234@1,a F1#,2w3E*,2We3345\n",
        "\n",
        "\n",
        "\n",
        "\n",
        "Then, the output of the program should be:\n",
        "\n",
        "\n",
        "\n",
        "ABd1234@1\n"
      ],
      "metadata": {
        "id": "SAodTJueyS6f"
      }
    },
    {
      "cell_type": "code",
      "source": [
        "def checkpassword():\n",
        "    in_str=input('Enter the string')\n",
        "    small_list='abcdefghijklmnopqrstuvwxyz'\n",
        "    cap_list='ABCDEFGHIJKLMNOPQRSTUVWXYZ'\n",
        "    num_list='0123456789'\n",
        "    spe_list='$#@'\n",
        "    for ele in in_str.split(\",\"):\n",
        "        if len(ele) <=12 and len(ele)>=6:\n",
        "          if any(i.isupper() for i in ele):\n",
        "             if any(i.islower()for i in ele):\n",
        "                if any(i for i in ele if i in spe_list):\n",
        "                   print(ele)\n"
      ],
      "metadata": {
        "id": "pSeJxIUtyvJD"
      },
      "execution_count": 44,
      "outputs": []
    },
    {
      "cell_type": "code",
      "source": [
        "checkpassword()"
      ],
      "metadata": {
        "colab": {
          "base_uri": "https://localhost:8080/"
        },
        "id": "ffCpzmfu1PfN",
        "outputId": "8a49c448-0b24-4e0d-973c-c9c1bb52241e"
      },
      "execution_count": 45,
      "outputs": [
        {
          "output_type": "stream",
          "name": "stdout",
          "text": [
            "Enter the stringABd1234@1,a F1#,2w3E*,2We3345\n",
            "ABd1234@1\n"
          ]
        }
      ]
    }
  ]
}