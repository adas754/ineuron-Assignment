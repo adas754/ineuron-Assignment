{
  "nbformat": 4,
  "nbformat_minor": 0,
  "metadata": {
    "colab": {
      "provenance": []
    },
    "kernelspec": {
      "name": "python3",
      "display_name": "Python 3"
    },
    "language_info": {
      "name": "python"
    }
  },
  "cells": [
    {
      "cell_type": "markdown",
      "source": [
        "# 1. Create a function that takes the width, height and character and returns a picture frame as a 2D list.\n",
        "\n",
        "Examples\n",
        "\n",
        "get_frame(4, 5, \"#\") ➞ [\n",
        "  [\"####\"],\n",
        "  [\"#  #\"],\n",
        "  [\"#  #\"],\n",
        "  [\"#  #\"],\n",
        "  [\"####\"]\n",
        "]\n",
        "# Frame is 4 characters wide and 5 characters tall.\n",
        "\n",
        "\n",
        "get_frame(10, 3, \"*\") ➞ [\n",
        "  [\"**********\"],\n",
        "  [\"*        *\"],\n",
        "  [\"**********\"]\n",
        "]\n",
        "# Frame is 10 characters and wide and 3 characters tall.\n",
        "\n",
        "\n",
        "get_frame(2, 5, \"0\") ➞ \"invalid\"\n",
        "# Frame's width is not more than 2.\n"
      ],
      "metadata": {
        "id": "IEitVJRMnEEM"
      }
    },
    {
      "cell_type": "code",
      "execution_count": 7,
      "metadata": {
        "id": "uTbfZZ_sm93H"
      },
      "outputs": [],
      "source": [
        "def get_frame(width,height,character):\n",
        "  if width<3:\n",
        "    return 'invalid'\n",
        "  frame=[]\n",
        "  frame.append(character*width)\n",
        "  for i in range(height-2):\n",
        "    frame.append(character+''*(width-2)+character)\n",
        "    frame.append(character*width)\n",
        "  return frame"
      ]
    },
    {
      "cell_type": "code",
      "source": [
        "get_frame(4, 5, \"#\") "
      ],
      "metadata": {
        "colab": {
          "base_uri": "https://localhost:8080/"
        },
        "id": "nwGG5gPWn7IF",
        "outputId": "7376d14c-050f-49d6-a2f8-4b482ffc4070"
      },
      "execution_count": 8,
      "outputs": [
        {
          "output_type": "execute_result",
          "data": {
            "text/plain": [
              "['####', '##', '####', '##', '####', '##', '####']"
            ]
          },
          "metadata": {},
          "execution_count": 8
        }
      ]
    },
    {
      "cell_type": "code",
      "source": [
        "get_frame(10, 3, \"*\") "
      ],
      "metadata": {
        "colab": {
          "base_uri": "https://localhost:8080/"
        },
        "id": "rpZOTffSoH7Z",
        "outputId": "d880da1b-1659-4ed6-c65e-336551b1ece6"
      },
      "execution_count": 9,
      "outputs": [
        {
          "output_type": "execute_result",
          "data": {
            "text/plain": [
              "['**********', '**', '**********']"
            ]
          },
          "metadata": {},
          "execution_count": 9
        }
      ]
    },
    {
      "cell_type": "code",
      "source": [
        "get_frame(2, 5, \"0\") "
      ],
      "metadata": {
        "colab": {
          "base_uri": "https://localhost:8080/",
          "height": 35
        },
        "id": "zTKB5-8QoXzi",
        "outputId": "834da576-c7f6-4fd0-870c-ff203cda917d"
      },
      "execution_count": 10,
      "outputs": [
        {
          "output_type": "execute_result",
          "data": {
            "text/plain": [
              "'invalid'"
            ],
            "application/vnd.google.colaboratory.intrinsic+json": {
              "type": "string"
            }
          },
          "metadata": {},
          "execution_count": 10
        }
      ]
    },
    {
      "cell_type": "markdown",
      "source": [
        "# 2. Write three functions:\n",
        "\n",
        "  1. boolean_and\n",
        "  2. boolean_or\n",
        "  3. boolean_xor\n",
        "These functions should evaluate a list of True and False values, starting from the leftmost element and evaluating pairwise.\n",
        "\n",
        "Examples\n",
        "\n",
        "boolean_and([True, True, False, True]) ➞ False\n",
        "# [True, True, False, True] => [True, False, True] => [False, True] => False\n",
        "\n",
        "boolean_or([True, True, False, False]) ➞ True\n",
        "# [True, True, False, True] => [True, False, False] => [True, False] => True\n",
        "\n",
        "boolean_xor([True, True, False, False]) ➞ False\n",
        "# [True, True, False, False] => [False, False, False] => [False, False] => False\n"
      ],
      "metadata": {
        "id": "ZKz8YUbYzsws"
      }
    },
    {
      "cell_type": "code",
      "source": [
        "def boolean_and(lst):\n",
        "  result=lst[0]\n",
        "  for i in range(1,len(lst)):\n",
        "    result=result and lst[i]\n",
        "  return result\n",
        "def boolean_or(lst):\n",
        "  result=lst[0]\n",
        "  for i in range(1,len(lst)):\n",
        "    result=result or lst[i]\n",
        "  return result\n",
        "def boolean_xor(lst):\n",
        "  result=lst[0]\n",
        "  for i in range(1,len(lst)):\n",
        "    result=result and not(lst[i]) or (not result and lst[i])\n",
        "  return result"
      ],
      "metadata": {
        "id": "NCvPMPnLz2RX"
      },
      "execution_count": 17,
      "outputs": []
    },
    {
      "cell_type": "code",
      "source": [
        "boolean_and([True, True, False, True]) "
      ],
      "metadata": {
        "colab": {
          "base_uri": "https://localhost:8080/"
        },
        "id": "Cum7_LU50MJP",
        "outputId": "46192551-be98-4d52-df0b-1eaaff5c95a8"
      },
      "execution_count": 18,
      "outputs": [
        {
          "output_type": "execute_result",
          "data": {
            "text/plain": [
              "False"
            ]
          },
          "metadata": {},
          "execution_count": 18
        }
      ]
    },
    {
      "cell_type": "code",
      "source": [
        "boolean_or([True, True, False, False]) "
      ],
      "metadata": {
        "colab": {
          "base_uri": "https://localhost:8080/"
        },
        "id": "lBAI0QHe0RWt",
        "outputId": "d3d41762-b53c-42ba-f33d-b7f4e8ebf4d1"
      },
      "execution_count": 19,
      "outputs": [
        {
          "output_type": "execute_result",
          "data": {
            "text/plain": [
              "True"
            ]
          },
          "metadata": {},
          "execution_count": 19
        }
      ]
    },
    {
      "cell_type": "code",
      "source": [
        "boolean_xor([True, True, False, False])"
      ],
      "metadata": {
        "colab": {
          "base_uri": "https://localhost:8080/"
        },
        "id": "7F9pPNPO0Vtt",
        "outputId": "a73a8a1d-3839-4cf7-f92a-050cb7d2d8f7"
      },
      "execution_count": 20,
      "outputs": [
        {
          "output_type": "execute_result",
          "data": {
            "text/plain": [
              "False"
            ]
          },
          "metadata": {},
          "execution_count": 20
        }
      ]
    },
    {
      "cell_type": "markdown",
      "source": [
        "# 3. Create a function that creates a box based on dimension n.\n",
        "\n",
        "Examples\n",
        "\n",
        "make_box(5) ➞ [\n",
        "  \"#####\",\n",
        "  \"#   #\",\n",
        "  \"#   #\",\n",
        "  \"#   #\",\n",
        "  \"#####\"\n",
        "]\n",
        "\n",
        "make_box(3) ➞ [\n",
        "  \"###\",\n",
        "  \"# #\",\n",
        "  \"###\"\n",
        "]\n",
        "\n",
        "make_box(2) ➞ [\n",
        "  \"##\",\n",
        "  \"##\"\n",
        "]\n",
        "\n",
        "make_box(1) ➞ [\n",
        "  \"#\"\n",
        "]\n",
        "\n"
      ],
      "metadata": {
        "id": "5djr4Oe23brb"
      }
    },
    {
      "cell_type": "code",
      "source": [
        "def make_box(n):\n",
        "  box=[]\n",
        "  for i in range(n):\n",
        "    if i==0 or i==n-1:\n",
        "      box.append('#'*n)\n",
        "    else:\n",
        "      box.append('#'+''*(n-2)+'#')\n",
        "  return box"
      ],
      "metadata": {
        "id": "ThvP1tqT3edy"
      },
      "execution_count": 26,
      "outputs": []
    },
    {
      "cell_type": "code",
      "source": [
        "make_box(5) "
      ],
      "metadata": {
        "colab": {
          "base_uri": "https://localhost:8080/"
        },
        "id": "4_yjKbiO3s-m",
        "outputId": "bbcf01ed-d5b8-4fc1-ad8b-415913d4cbe4"
      },
      "execution_count": 27,
      "outputs": [
        {
          "output_type": "execute_result",
          "data": {
            "text/plain": [
              "['#####', '##', '##', '##', '#####']"
            ]
          },
          "metadata": {},
          "execution_count": 27
        }
      ]
    },
    {
      "cell_type": "code",
      "source": [
        "make_box(3) "
      ],
      "metadata": {
        "colab": {
          "base_uri": "https://localhost:8080/"
        },
        "id": "iFNATc2X32US",
        "outputId": "c2249da3-c28c-439e-e420-75b9ec590b44"
      },
      "execution_count": 28,
      "outputs": [
        {
          "output_type": "execute_result",
          "data": {
            "text/plain": [
              "['###', '##', '###']"
            ]
          },
          "metadata": {},
          "execution_count": 28
        }
      ]
    },
    {
      "cell_type": "code",
      "source": [
        "make_box(2)"
      ],
      "metadata": {
        "colab": {
          "base_uri": "https://localhost:8080/"
        },
        "id": "PkYKBJXF365S",
        "outputId": "3e8780ea-e6b4-49b2-9d6b-d4c62ce5f182"
      },
      "execution_count": 29,
      "outputs": [
        {
          "output_type": "execute_result",
          "data": {
            "text/plain": [
              "['##', '##']"
            ]
          },
          "metadata": {},
          "execution_count": 29
        }
      ]
    },
    {
      "cell_type": "code",
      "source": [
        "make_box(1) "
      ],
      "metadata": {
        "colab": {
          "base_uri": "https://localhost:8080/"
        },
        "id": "DecJWQ733_cC",
        "outputId": "a6fe4986-80a7-4b85-bfb2-7a880a1244a5"
      },
      "execution_count": 30,
      "outputs": [
        {
          "output_type": "execute_result",
          "data": {
            "text/plain": [
              "['#']"
            ]
          },
          "metadata": {},
          "execution_count": 30
        }
      ]
    },
    {
      "cell_type": "markdown",
      "source": [
        "# 4. Given a common phrase, return False if any individual word in the phrase contains duplicate letters. Return True otherwise.\n",
        "\n",
        "Examples\n",
        "\n",
        "no_duplicate_letters(\"Fortune favours the bold.\") ➞ True\n",
        "\n",
        "no_duplicate_letters(\"You can lead a horse to water, but you can't make him drink.\") ➞ True\n",
        "\n",
        "no_duplicate_letters(\"Look before you leap.\") ➞ False\n",
        "# Duplicate letters in \"Look\" and \"before\".\n",
        "\n",
        "no_duplicate_letters(\"An apple a day keeps the doctor away.\") ➞ False\n",
        "# Duplicate letters in \"apple\", \"keeps\", \"doctor\", and \"away\".\n",
        "\n"
      ],
      "metadata": {
        "id": "5NF1yrJQ5lR9"
      }
    },
    {
      "cell_type": "code",
      "source": [
        "def no_duplicate_letters(phrase):\n",
        "  words=phrase.split()\n",
        "  for word in words:\n",
        "    if len(word)==len(set(word)):\n",
        "      continue\n",
        "    else:\n",
        "      return False\n",
        "  return True"
      ],
      "metadata": {
        "id": "KLtJSIaQ5zgP"
      },
      "execution_count": 37,
      "outputs": []
    },
    {
      "cell_type": "code",
      "source": [
        "no_duplicate_letters(\"Fortune favours the bold.\") "
      ],
      "metadata": {
        "colab": {
          "base_uri": "https://localhost:8080/"
        },
        "id": "sKer4t1C6C1f",
        "outputId": "9e642480-0f26-4a4b-f889-5b55df4c6dea"
      },
      "execution_count": 38,
      "outputs": [
        {
          "output_type": "execute_result",
          "data": {
            "text/plain": [
              "True"
            ]
          },
          "metadata": {},
          "execution_count": 38
        }
      ]
    },
    {
      "cell_type": "code",
      "source": [
        "no_duplicate_letters(\"You can lead a horse to water, but you can't make him drink.\")\n",
        "\n"
      ],
      "metadata": {
        "colab": {
          "base_uri": "https://localhost:8080/"
        },
        "id": "4aVnuXb26KI5",
        "outputId": "c3c66313-fa79-4522-d1c2-305c31943265"
      },
      "execution_count": 39,
      "outputs": [
        {
          "output_type": "execute_result",
          "data": {
            "text/plain": [
              "True"
            ]
          },
          "metadata": {},
          "execution_count": 39
        }
      ]
    },
    {
      "cell_type": "code",
      "source": [
        "no_duplicate_letters(\"Look before you leap.\")"
      ],
      "metadata": {
        "colab": {
          "base_uri": "https://localhost:8080/"
        },
        "id": "Ny-lV6hM6Q7Z",
        "outputId": "01f92bc3-688b-4a89-c772-7a732bb91314"
      },
      "execution_count": 40,
      "outputs": [
        {
          "output_type": "execute_result",
          "data": {
            "text/plain": [
              "False"
            ]
          },
          "metadata": {},
          "execution_count": 40
        }
      ]
    },
    {
      "cell_type": "code",
      "source": [
        "no_duplicate_letters(\"An apple a day keeps the doctor away.\")"
      ],
      "metadata": {
        "colab": {
          "base_uri": "https://localhost:8080/"
        },
        "id": "XADkBba36cgS",
        "outputId": "ab29dd04-b9ac-4631-a920-d316c611a901"
      },
      "execution_count": 41,
      "outputs": [
        {
          "output_type": "execute_result",
          "data": {
            "text/plain": [
              "False"
            ]
          },
          "metadata": {},
          "execution_count": 41
        }
      ]
    },
    {
      "cell_type": "markdown",
      "source": [
        "# 5. Write a regular expression that will match the states that voted yes to President Trump's impeachment. You must use RegEx positive lookahead.\n",
        "\n",
        "Example\n",
        "\n",
        "txt = \"Texas = no, California = yes, Florida = yes, Michigan = no\"\n",
        "pattern = \"yourregularexpressionhere\"\n",
        "\n",
        "re.findall(pattern, txt) ➞ [\"California\", \"Florida\"]\n"
      ],
      "metadata": {
        "id": "ABWrjpu267w5"
      }
    },
    {
      "cell_type": "code",
      "source": [
        "import re\n",
        "txt='Texas = no, California = yes, Florida = yes, Michigan = no'\n",
        "pattern=r'\\w+(?=\\s=\\syes*)'\n",
        "match=re.findall(pattern,txt)\n",
        "print(f're.findall{pattern,txt}->{match}')"
      ],
      "metadata": {
        "colab": {
          "base_uri": "https://localhost:8080/"
        },
        "id": "tjrmEXQF69gC",
        "outputId": "1f9472c7-2408-4176-ff8c-439b654f8936"
      },
      "execution_count": 44,
      "outputs": [
        {
          "output_type": "stream",
          "name": "stdout",
          "text": [
            "re.findall('\\\\w+(?=\\\\s=\\\\syes*)', 'Texas = no, California = yes, Florida = yes, Michigan = no')->['California', 'Florida']\n"
          ]
        }
      ]
    }
  ]
}