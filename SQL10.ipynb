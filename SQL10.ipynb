{
  "nbformat": 4,
  "nbformat_minor": 0,
  "metadata": {
    "colab": {
      "name": "SQL10.ipynb",
      "provenance": []
    },
    "kernelspec": {
      "name": "python3",
      "display_name": "Python 3"
    },
    "language_info": {
      "name": "python"
    }
  },
  "cells": [
    {
      "cell_type": "markdown",
      "source": [
        "Q-19. Write an SQL query to determine the 5th highest salary without using TOP or limit method.\n",
        "\n",
        "\n",
        "Q-20. Write an SQL query to fetch the list of employees with the same salary.\n",
        "\n"
      ],
      "metadata": {
        "id": "cudciYauOIOp"
      }
    },
    {
      "cell_type": "markdown",
      "source": [
        "20 SELECT * FROM employee ORDER BY salary ASC;"
      ],
      "metadata": {
        "id": "2_m6pYUYOLOT"
      }
    },
    {
      "cell_type": "markdown",
      "source": [
        "SELECT first_name, last_name, dept_name,current_salary FROM ( SELECT first_name, last_name,dept_name, current_salary, ROW_NUMBER() over( order by current_salary desc) as highest_salary FROM worker ) worker WHERE highest_salary <= 5"
      ],
      "metadata": {
        "id": "6WT08v38OVig"
      }
    }
  ]
}