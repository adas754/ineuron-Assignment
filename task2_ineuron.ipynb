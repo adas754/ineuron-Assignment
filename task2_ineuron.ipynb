{
  "nbformat": 4,
  "nbformat_minor": 0,
  "metadata": {
    "colab": {
      "name": "task2 ineuron.ipynb",
      "provenance": []
    },
    "kernelspec": {
      "name": "python3",
      "display_name": "Python 3"
    },
    "language_info": {
      "name": "python"
    }
  },
  "cells": [
    {
      "cell_type": "markdown",
      "source": [
        "Demonstrate use of abstract class, multiple inheritance and decorator in\n",
        "python using examples."
      ],
      "metadata": {
        "id": "4b16NgoszJEK"
      }
    },
    {
      "cell_type": "code",
      "execution_count": 12,
      "metadata": {
        "colab": {
          "base_uri": "https://localhost:8080/"
        },
        "id": "SPerdQefa1-8",
        "outputId": "8718e519-3fab-4ced-ae21-de7a35114147"
      },
      "outputs": [
        {
          "output_type": "stream",
          "name": "stdout",
          "text": [
            "49\n",
            "28\n"
          ]
        }
      ],
      "source": [
        "from abc import ABC,abstractmethod\n",
        "class shape(ABC):\n",
        "    @abstractmethod\n",
        "    def area(self):\n",
        "      pass\n",
        "    @abstractmethod\n",
        "    def perimeter(self):\n",
        "      pass\n",
        "class square(shape):\n",
        "    def __init__(self,side):\n",
        "        self.__side=side\n",
        "    def area(self):\n",
        "        return self.__side*self.__side\n",
        "    def perimeter(self):\n",
        "        return 4*self.__side\n",
        "square=square(7)\n",
        "print(square.area())\n",
        "print(square.perimeter())\n"
      ]
    },
    {
      "cell_type": "code",
      "source": [
        "class Father():\n",
        "  def skils(self):\n",
        "    print(\"math,english\")\n",
        "class Mother():\n",
        "  def skils(self):\n",
        "    print(\"music,cook\")\n",
        "class child(Father,Mother):\n",
        "  def skils(self):\n",
        "    Father.skils(self)\n",
        "    Mother.skils(self)\n",
        "    print(\"programmig\")\n",
        "a=child()\n",
        "a.skils()"
      ],
      "metadata": {
        "colab": {
          "base_uri": "https://localhost:8080/"
        },
        "id": "-8Y9C82ZeOsi",
        "outputId": "2ed544bb-a291-468e-834a-e91881dd2ab6"
      },
      "execution_count": 13,
      "outputs": [
        {
          "output_type": "stream",
          "name": "stdout",
          "text": [
            "math,english\n",
            "music,cook\n",
            "programmig\n"
          ]
        }
      ]
    },
    {
      "cell_type": "code",
      "source": [
        "import time\n",
        "def time_it(func):\n",
        "  def wrapper(*args,**kwargs):\n",
        "    start=time.time()\n",
        "    result=func(*args,**kwargs)\n",
        "    end=time.time()\n",
        "    print(func.__name__+\" took \"+ str((end-start)*1000)+\"mili sec\")\n",
        "    return result\n",
        "  return wrapper\n",
        "@time_it\n",
        "def cal_square(number):\n",
        "  result=[]\n",
        "  for num in number:\n",
        "      result.append(num*num)\n",
        "  return result\n",
        "@time_it\n",
        "def cal_cube(number):\n",
        "  result=[]\n",
        "  for num in number:\n",
        "      result.append(num*num*num)\n",
        "  return result\n",
        "array=range(1,10000)\n",
        "out_square=cal_square(array)\n",
        "out_cube=cal_cube(array)\n",
        "\n",
        "\n",
        "\n"
      ],
      "metadata": {
        "colab": {
          "base_uri": "https://localhost:8080/"
        },
        "id": "YZu-IFaahm8Y",
        "outputId": "b83880c9-55b2-454a-d2d1-cf7c130a94d4"
      },
      "execution_count": 19,
      "outputs": [
        {
          "output_type": "stream",
          "name": "stdout",
          "text": [
            "cal_square took 1.3377666473388672mili sec\n",
            "cal_cube took 1.5518665313720703mili sec\n"
          ]
        }
      ]
    }
  ]
}