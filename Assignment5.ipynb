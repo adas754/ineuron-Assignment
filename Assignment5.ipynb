{
  "nbformat": 4,
  "nbformat_minor": 0,
  "metadata": {
    "colab": {
      "provenance": []
    },
    "kernelspec": {
      "name": "python3",
      "display_name": "Python 3"
    },
    "language_info": {
      "name": "python"
    }
  },
  "cells": [
    {
      "cell_type": "markdown",
      "source": [
        "# 1. Create a function that takes a number n (integer greater than zero) as an argument, and returns 2 if n is odd and 8 if n is even.\n",
        "\n",
        "You can only use the following arithmetic operators: addition of numbers +, subtraction of numbers -, multiplication of number *, division of number /, and exponentiation **.\n",
        "\n",
        "You are not allowed to use any other methods in this challenge (i.e. no if statements, comparison operators, etc).\n",
        "\n",
        "Examples\n",
        "\n",
        "f(1) ➞ 2\n",
        "\n",
        "f(2) ➞ 8\n",
        "\n",
        "f(3) ➞ 2\n",
        "\n"
      ],
      "metadata": {
        "id": "Szxj-4pfvY88"
      }
    },
    {
      "cell_type": "code",
      "source": [
        "def f(in_num):\n",
        "    output = [8,2]\n",
        "    print(f'f({in_num})➞ {output[in_num&1]}')\n",
        "    \n",
        "f(1)\n",
        "f(2)\n",
        "f(3)"
      ],
      "metadata": {
        "colab": {
          "base_uri": "https://localhost:8080/"
        },
        "id": "pJQ0h-1Fzo6Q",
        "outputId": "ab24794f-3bfe-41b8-d874-494d790d970d"
      },
      "execution_count": null,
      "outputs": [
        {
          "output_type": "stream",
          "name": "stdout",
          "text": [
            "f(1)➞ 2\n",
            "f(2)➞ 8\n",
            "f(3)➞ 2\n"
          ]
        }
      ]
    },
    {
      "cell_type": "markdown",
      "source": [
        "# 2. Create a function that returns the majority vote in a list. A majority vote is an element that occurs > N/2 times in a list (where N is the length of the list).\n",
        "\n",
        "Examples\n",
        "\n",
        "majority_vote([\"A\", \"A\", \"B\"]) ➞ \"A\"\n",
        "\n",
        "majority_vote([\"A\", \"A\", \"A\", \"B\", \"C\", \"A\"]) ➞ \"A\"\n",
        "\n",
        "majority_vote([\"A\", \"B\", \"B\", \"A\", \"C\", \"C\"]) ➞ None\n"
      ],
      "metadata": {
        "id": "epWjGiBz1k5R"
      }
    },
    {
      "cell_type": "code",
      "source": [
        "def majority_vote(in_list):\n",
        "  out_list=None\n",
        "  for ele in set(in_list):\n",
        "    if in_list.count(ele)>(len(in_list)/2):\n",
        "      out_list=ele\n",
        "  print(f'majority_vote({in_list})->{out_list}')"
      ],
      "metadata": {
        "id": "8l3YbNboe4Uz"
      },
      "execution_count": 1,
      "outputs": []
    },
    {
      "cell_type": "code",
      "source": [
        "majority_vote([\"A\", \"A\", \"B\"]) \n",
        "\n",
        "majority_vote([\"A\", \"A\", \"A\", \"B\", \"C\", \"A\"]) \n",
        "\n",
        "majority_vote([\"A\", \"B\", \"B\", \"A\", \"C\", \"C\"]) "
      ],
      "metadata": {
        "colab": {
          "base_uri": "https://localhost:8080/"
        },
        "id": "Psl_dJSgfz-5",
        "outputId": "96019789-341a-40eb-b5a4-b85b0d978a0f"
      },
      "execution_count": 2,
      "outputs": [
        {
          "output_type": "stream",
          "name": "stdout",
          "text": [
            "majority_vote(['A', 'A', 'B'])->A\n",
            "majority_vote(['A', 'A', 'A', 'B', 'C', 'A'])->A\n",
            "majority_vote(['A', 'B', 'B', 'A', 'C', 'C'])->None\n"
          ]
        }
      ]
    },
    {
      "cell_type": "markdown",
      "source": [
        "# 3. Create a function that takes a string txt and censors any word from a given list lst. The text removed must be replaced by the given character char.\n",
        "\n",
        "Examples\n",
        "\n",
        "censor_string(\"Today is a Wednesday!\", [\"Today\", \"a\"], \"-\") ➞ \"----- is - Wednesday!\"\n",
        "\n",
        "censor_string(\"The cow jumped over the moon.\", [\"cow\", \"over\"], \"*\"), \"The *** jumped **** the moon.\")\n",
        "\n",
        "censor_string(\"Why did the chicken cross the road?\", [\"Did\", \"chicken\", \"road\"], \"*\") ➞ \"Why *** the ******* cross the ****?\"\n",
        "\n",
        "\n"
      ],
      "metadata": {
        "id": "yTBQgZNfgC8Z"
      }
    },
    {
      "cell_type": "code",
      "source": [
        "def censor_string(in_string_1, in_string_2, rep_char):\n",
        "    out_string = []\n",
        "    for ele in in_string_1.split():\n",
        "        if ele.title() in in_string_2 or ele.lower() in in_string_2 or ele.upper() in in_string_2:\n",
        "            out_string.append(rep_char*len(ele))\n",
        "        else:\n",
        "            out_string.append(ele)\n",
        "    print(f'censor_string({in_string_1}) ➞ {\" \".join(out_string)}')\n",
        "\n",
        "censor_string(\"Today is a Wednesday!\", [\"Today\", \"a\"], \"-\")\n",
        "censor_string(\"The cow jumped over the moon.\", [\"cow\", \"over\"], \"*\")\n",
        "censor_string(\"Why did the chicken cross the road ?\", [\"Did\", \"chicken\", \"road\"], \"*\")"
      ],
      "metadata": {
        "colab": {
          "base_uri": "https://localhost:8080/"
        },
        "id": "59z8IOJVl9oO",
        "outputId": "39e1e8f7-7830-4aae-a6d7-a1fff6575399"
      },
      "execution_count": 13,
      "outputs": [
        {
          "output_type": "stream",
          "name": "stdout",
          "text": [
            "censor_string(Today is a Wednesday!) ➞ ----- is - Wednesday!\n",
            "censor_string(The cow jumped over the moon.) ➞ The *** jumped **** the moon.\n",
            "censor_string(Why did the chicken cross the road ?) ➞ Why *** the ******* cross the **** ?\n"
          ]
        }
      ]
    },
    {
      "cell_type": "markdown",
      "source": [
        "# 4. In mathematics a Polydivisible Number (or magic number) is a number in a given number base with digits abcde... that has the following properties:\n",
        "\n",
        "-  Its first digit a is not 0.\n",
        "- The number formed by its first two digits ab is a multiple of 2.\n",
        "- The number formed by its first three digits abc is a multiple of 3.\n",
        "- The number formed by its first four digits abcd is a multiple of 4.\n",
        "\n",
        "Create a function which takes an integer n and returns True if the given number is a Polydivisible Number and False otherwise.\n",
        "\n",
        "Examples\n",
        "\n",
        "is_polydivisible(1232) ➞ True\n",
        "# 1     / 1 = 1\n",
        "# 12    / 2 = 6\n",
        "# 123   / 3 = 41\n",
        "# 1232  / 4 = 308\n",
        "\n",
        "is_polydivisible(123220 ) ➞ False\n",
        "# 1   / 1 = 1\n",
        "# 12   / 2 = 6\n",
        "# 123   / 3 = 41\n",
        "# 1232   / 4 = 308\n",
        "# 12322   / 5 = 2464.4         # Not a Whole Number\n",
        "# 123220   /6 = 220536.333...  # Not a Whole Number\n",
        "\n"
      ],
      "metadata": {
        "id": "xi6-XbymmTcd"
      }
    },
    {
      "cell_type": "code",
      "source": [
        "def is_polydivisible(in_num):\n",
        "  output=False\n",
        "  in_num_temp=str(in_num)\n",
        "  for ele in range(len(in_num_temp)):\n",
        "    if (int(in_num_temp[:ele+1])%(ele+1)==0):\n",
        "      output=True\n",
        "    else:\n",
        "      output=False\n",
        "      break\n",
        "  print(f'is_polydivisible({in_num})->{output}')\n"
      ],
      "metadata": {
        "id": "08bk0dETmpZD"
      },
      "execution_count": 15,
      "outputs": []
    },
    {
      "cell_type": "code",
      "source": [
        "is_polydivisible(1232) "
      ],
      "metadata": {
        "colab": {
          "base_uri": "https://localhost:8080/"
        },
        "id": "vDpmedwAoKPA",
        "outputId": "d8d1c734-3a35-48f9-97bc-8de061bf9f6e"
      },
      "execution_count": 16,
      "outputs": [
        {
          "output_type": "stream",
          "name": "stdout",
          "text": [
            "is_polydivisible(1232)->True\n"
          ]
        }
      ]
    },
    {
      "cell_type": "code",
      "source": [
        "is_polydivisible(123220 )"
      ],
      "metadata": {
        "colab": {
          "base_uri": "https://localhost:8080/"
        },
        "id": "XQ7-mpPupXNG",
        "outputId": "a81df665-7d38-425e-f635-159ec1908e5a"
      },
      "execution_count": 17,
      "outputs": [
        {
          "output_type": "stream",
          "name": "stdout",
          "text": [
            "is_polydivisible(123220)->False\n"
          ]
        }
      ]
    },
    {
      "cell_type": "markdown",
      "source": [
        "# 5. Create a function that takes a list of numbers and returns the sum of all prime numbers in the list.\n",
        "\n",
        "Examples\n",
        "\n",
        "sum_primes([1, 2, 3, 4, 5, 6, 7, 8, 9, 10]) ➞ 17\n",
        "\n",
        "sum_primes([2, 3, 4, 11, 20, 50, 71]) ➞ 87\n",
        "\n",
        "sum_primes([]) ➞ None\n"
      ],
      "metadata": {
        "id": "IwQyATM3paTf"
      }
    },
    {
      "cell_type": "code",
      "source": [
        "def is_prime(n):\n",
        "    \"\"\"Returns True if n is a prime number, False otherwise.\"\"\"\n",
        "    if n < 2:\n",
        "        return False\n",
        "    for i in range(2, int(n**0.5)+1):\n",
        "        if n % i == 0:\n",
        "            return False\n",
        "    return True\n",
        "\n",
        "def sum_primes(lst):\n",
        "    \"\"\"Returns the sum of all prime numbers in lst.\"\"\"\n",
        "    if not lst:\n",
        "      return None\n",
        "    return sum(filter(is_prime, lst))\n",
        "sum_primes([1, 2, 3, 4, 5, 6, 7, 8, 9, 10]) "
      ],
      "metadata": {
        "colab": {
          "base_uri": "https://localhost:8080/"
        },
        "id": "JBntIUGspkLp",
        "outputId": "567bb3d7-c2d0-4ba9-90ef-ea4a0db1a528"
      },
      "execution_count": 22,
      "outputs": [
        {
          "output_type": "execute_result",
          "data": {
            "text/plain": [
              "17"
            ]
          },
          "metadata": {},
          "execution_count": 22
        }
      ]
    },
    {
      "cell_type": "code",
      "source": [
        "sum_primes([2, 3, 4, 11, 20, 50, 71]) "
      ],
      "metadata": {
        "colab": {
          "base_uri": "https://localhost:8080/"
        },
        "id": "W5LtrxOjqAkf",
        "outputId": "63003ba6-dbd8-4060-ef64-0eb56f7c2e37"
      },
      "execution_count": 23,
      "outputs": [
        {
          "output_type": "execute_result",
          "data": {
            "text/plain": [
              "87"
            ]
          },
          "metadata": {},
          "execution_count": 23
        }
      ]
    },
    {
      "cell_type": "code",
      "source": [
        "sum_primes([]) "
      ],
      "metadata": {
        "id": "x3YH0H80qAY9"
      },
      "execution_count": 24,
      "outputs": []
    }
  ]
}