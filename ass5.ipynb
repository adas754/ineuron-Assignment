{
  "nbformat": 4,
  "nbformat_minor": 0,
  "metadata": {
    "colab": {
      "provenance": []
    },
    "kernelspec": {
      "name": "python3",
      "display_name": "Python 3"
    },
    "language_info": {
      "name": "python"
    }
  },
  "cells": [
    {
      "cell_type": "code",
      "source": [
        "def construct2DArray(original, m, n):\n",
        "    if len(original) != m * n:\n",
        "        return []\n",
        "\n",
        "    result = [[0] * n for _ in range(m)]\n",
        "\n",
        "    for i in range(m * n):\n",
        "        row = i // n\n",
        "        col = i % n\n",
        "        result[row][col] = original[i]\n",
        "\n",
        "    return result\n",
        "original = [1, 2, 3, 4]\n",
        "m = 2\n",
        "n = 2\n",
        "print(construct2DArray(original, m, n))\n"
      ],
      "metadata": {
        "colab": {
          "base_uri": "https://localhost:8080/"
        },
        "id": "rY2_CCfcUtbI",
        "outputId": "9e9aa245-4708-4324-8d91-f3e0cad185d2"
      },
      "execution_count": 2,
      "outputs": [
        {
          "output_type": "stream",
          "name": "stdout",
          "text": [
            "[[1, 2], [3, 4]]\n"
          ]
        }
      ]
    },
    {
      "cell_type": "code",
      "source": [
        "def complete_rows(n):\n",
        "    k = 1\n",
        "    while k * (k + 1) // 2 <= n:\n",
        "        k += 1\n",
        "    return k - 1\n",
        "n = 5\n",
        "result = complete_rows(n)\n",
        "print(result)  # Output: 2\n"
      ],
      "metadata": {
        "colab": {
          "base_uri": "https://localhost:8080/"
        },
        "id": "ROW3NbagUy8L",
        "outputId": "138c3ba1-4a71-4642-f8b5-258eed87208b"
      },
      "execution_count": 3,
      "outputs": [
        {
          "output_type": "stream",
          "name": "stdout",
          "text": [
            "2\n"
          ]
        }
      ]
    },
    {
      "cell_type": "code",
      "source": [
        "def sortedSquares(nums):\n",
        "    result = []  # Initialize the result array\n",
        "\n",
        "    # Square each element and append to the result array\n",
        "    for num in nums:\n",
        "        result.append(num ** 2)\n",
        "\n",
        "    result.sort()  # Sort the result array in non-decreasing order\n",
        "    return result\n",
        "nums = [-4, -1, 0, 3, 10]\n",
        "print(sortedSquares(nums))\n"
      ],
      "metadata": {
        "colab": {
          "base_uri": "https://localhost:8080/"
        },
        "id": "Kp64MFOwY7iz",
        "outputId": "263b2f92-b469-4b19-c8b7-6334d392eaf4"
      },
      "execution_count": 4,
      "outputs": [
        {
          "output_type": "stream",
          "name": "stdout",
          "text": [
            "[0, 1, 9, 16, 100]\n"
          ]
        }
      ]
    },
    {
      "cell_type": "code",
      "source": [
        "def findDisappearedNumbers(nums1, nums2):\n",
        "    set_nums1 = set(nums1)\n",
        "    set_nums2 = set(nums2)\n",
        "\n",
        "    distinct_nums1 = list(set_nums1 - set_nums2)\n",
        "    distinct_nums2 = list(set_nums2 - set_nums1)\n",
        "\n",
        "    return [distinct_nums1, distinct_nums2]\n"
      ],
      "metadata": {
        "id": "lL50XWKBY-vW"
      },
      "execution_count": 5,
      "outputs": []
    },
    {
      "cell_type": "code",
      "source": [
        "nums1 = [1, 2, 3]\n",
        "nums2 = [2, 4, 6]\n",
        "print(findDisappearedNumbers(nums1, nums2))\n"
      ],
      "metadata": {
        "colab": {
          "base_uri": "https://localhost:8080/"
        },
        "id": "8auGOQbWZn5z",
        "outputId": "eaa1fef9-d687-4524-fb73-06ec41a76ef9"
      },
      "execution_count": 6,
      "outputs": [
        {
          "output_type": "stream",
          "name": "stdout",
          "text": [
            "[[1, 3], [4, 6]]\n"
          ]
        }
      ]
    },
    {
      "cell_type": "code",
      "source": [
        "def findTheDistanceValue(arr1, arr2, d):\n",
        "    distance = 0  # Initialize the counter\n",
        "\n",
        "    # Iterate through each element in arr1\n",
        "    for num1 in arr1:\n",
        "        flag = True  # Assume the element satisfies the distance condition\n",
        "        # Iterate through each element in arr2\n",
        "        for num2 in arr2:\n",
        "            if abs(num1 - num2) <= d:\n",
        "                # If absolute difference is less than or equal to d, reset the flag and break the loop\n",
        "                flag = False\n",
        "                break\n",
        "\n",
        "        if flag:\n",
        "            # If the flag is still True, increment the counter\n",
        "            distance += 1\n",
        "\n",
        "    return distance\n",
        "arr1 = [4, 5, 8]\n",
        "arr2 = [10, 9, 1, 8]\n",
        "d = 2\n",
        "print(findTheDistanceValue(arr1, arr2, d))\n"
      ],
      "metadata": {
        "colab": {
          "base_uri": "https://localhost:8080/"
        },
        "id": "Z8ABaHeLdCVy",
        "outputId": "7d28fe73-8cd2-4bc2-b961-5ab05e683eb8"
      },
      "execution_count": 7,
      "outputs": [
        {
          "output_type": "stream",
          "name": "stdout",
          "text": [
            "2\n"
          ]
        }
      ]
    },
    {
      "cell_type": "code",
      "source": [
        "def findDuplicates(nums):\n",
        "    result = []  # Initialize the result list\n",
        "\n",
        "    for num in nums:\n",
        "        if nums[abs(num) - 1] < 0:\n",
        "            # If the element is already negative, it appears twice, so add it to the result\n",
        "            result.append(abs(num))\n",
        "        else:\n",
        "            # Mark the element as visited by negating it\n",
        "            nums[abs(num) - 1] = -nums[abs(num) - 1]\n",
        "\n",
        "    return result\n",
        "nums = [4, 3, 2, 7, 8, 2, 3, 1]\n",
        "print(findDuplicates(nums))\n",
        "\n"
      ],
      "metadata": {
        "colab": {
          "base_uri": "https://localhost:8080/"
        },
        "id": "-1oxn79BfEfM",
        "outputId": "3c1c37d1-062d-425a-d7ca-cce0f38bb28b"
      },
      "execution_count": 8,
      "outputs": [
        {
          "output_type": "stream",
          "name": "stdout",
          "text": [
            "[2, 3]\n"
          ]
        }
      ]
    },
    {
      "cell_type": "code",
      "source": [
        "def findMin(nums):\n",
        "    left = 0\n",
        "    right = len(nums) - 1\n",
        "\n",
        "    while left < right:\n",
        "        mid = (left + right) // 2\n",
        "\n",
        "        if nums[mid] > nums[right]:\n",
        "            left = mid + 1\n",
        "        else:\n",
        "            right = mid\n",
        "\n",
        "    return nums[left]\n",
        "nums = [3, 4, 5, 1, 2]\n",
        "print(findMin(nums))\n"
      ],
      "metadata": {
        "colab": {
          "base_uri": "https://localhost:8080/"
        },
        "id": "SHZ9zYxEgEO8",
        "outputId": "31eca4a3-a95c-4cb3-bdd2-1c4ee8e5e204"
      },
      "execution_count": 16,
      "outputs": [
        {
          "output_type": "stream",
          "name": "stdout",
          "text": [
            "1\n"
          ]
        }
      ]
    },
    {
      "cell_type": "code",
      "source": [
        "def findOriginalArray(changed):\n",
        "    count = {}\n",
        "    for num in changed:\n",
        "        count[num] = count.get(num, 0) + 1\n",
        "\n",
        "    original = []\n",
        "    for num in changed:\n",
        "        if count[num] == 0:\n",
        "            continue\n",
        "        if count.get(num * 2, 0) == 0:\n",
        "            return []\n",
        "        original.append(num)\n",
        "        count[num] -= 1\n",
        "        count[num * 2] -= 1\n",
        "\n",
        "    original.sort()\n",
        "    return original\n",
        "changed = [1, 3, 4, 2, 6, 8]\n",
        "original = findOriginalArray(changed)\n",
        "print(original)\n"
      ],
      "metadata": {
        "colab": {
          "base_uri": "https://localhost:8080/"
        },
        "id": "vNziGNWRit1V",
        "outputId": "049be260-338a-41e6-b5fd-be0aaffb0626"
      },
      "execution_count": 20,
      "outputs": [
        {
          "output_type": "stream",
          "name": "stdout",
          "text": [
            "[1, 3, 4]\n"
          ]
        }
      ]
    },
    {
      "cell_type": "code",
      "source": [],
      "metadata": {
        "id": "xKjYJ6vxi_Ia"
      },
      "execution_count": null,
      "outputs": []
    }
  ]
}