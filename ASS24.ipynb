{
  "nbformat": 4,
  "nbformat_minor": 0,
  "metadata": {
    "colab": {
      "provenance": []
    },
    "kernelspec": {
      "name": "python3",
      "display_name": "Python 3"
    },
    "language_info": {
      "name": "python"
    }
  },
  "cells": [
    {
      "cell_type": "code",
      "execution_count": null,
      "metadata": {
        "colab": {
          "base_uri": "https://localhost:8080/"
        },
        "id": "-tucK0Id5nhj",
        "outputId": "768f0335-e4c1-46a7-ca20-ca62c0e8fdc6"
      },
      "outputs": [
        {
          "output_type": "stream",
          "name": "stdout",
          "text": [
            "4->[1, 2, 3, 40]\n",
            "3->[1, 2, 3]\n",
            "25->[1, 2, 3, 40, 5, 6, 7, 80, 9, 10, 11, 120, 13, 14, 15, 160, 17, 18, 19, 200, 21, 22, 23, 240, 25]\n"
          ]
        }
      ],
      "source": [
        "def amplify(in_num):\n",
        "  out_list=[]\n",
        "  for ele in range(1,in_num+1):\n",
        "    if ele%4==0:\n",
        "      out_list.append(ele*10)\n",
        "    else:\n",
        "      out_list.append(ele)\n",
        "  print(f'{in_num}->{out_list}')\n",
        "amplify(4)\n",
        "amplify(3)\n",
        "amplify(25)\n"
      ]
    },
    {
      "cell_type": "code",
      "source": [
        "def unique(in_list):\n",
        "  out_num=''\n",
        "  for ele in set(in_list):\n",
        "    if in_list.count(ele)==1:\n",
        "      out_num=ele\n",
        "  print(f'{in_list}->{out_num}')\n",
        "unique([3, 3, 3, 7, 3, 3])\n",
        "unique([0, 0, 0.77, 0, 0])\n",
        "unique([0, 1, 1, 1, 1, 1, 1, 1])"
      ],
      "metadata": {
        "colab": {
          "base_uri": "https://localhost:8080/"
        },
        "id": "V5KHryQ07hOT",
        "outputId": "0e39bb6b-1c7c-4069-9c86-82581bbf00dd"
      },
      "execution_count": null,
      "outputs": [
        {
          "output_type": "stream",
          "name": "stdout",
          "text": [
            "[3, 3, 3, 7, 3, 3]->7\n",
            "[0, 0, 0.77, 0, 0]->0.77\n",
            "[0, 1, 1, 1, 1, 1, 1, 1]->0\n"
          ]
        }
      ]
    },
    {
      "cell_type": "code",
      "source": [
        "import math\n",
        "class Circle:\n",
        "  def __init__(self,radius):\n",
        "    self.radius=radius\n",
        "  def getArea(self):\n",
        "    print(f'Radius->{round(math.pi*self.radius*self.radius)}')\n",
        "  def getPerimeter(self):\n",
        "    print(f'Perimeter->{round(2*math.pi*self.radius)}')\n",
        "circy= Circle(11)\n",
        "circy.getArea()\n",
        "circy.getPerimeter()"
      ],
      "metadata": {
        "colab": {
          "base_uri": "https://localhost:8080/"
        },
        "id": "S-hBtxtm7hL9",
        "outputId": "48812d91-9686-4002-95a5-2c45f1af6245"
      },
      "execution_count": null,
      "outputs": [
        {
          "output_type": "stream",
          "name": "stdout",
          "text": [
            "Radius->380\n",
            "Perimeter->69\n"
          ]
        }
      ]
    },
    {
      "cell_type": "code",
      "source": [
        "def sort_by_length(in_list):\n",
        "  print(sorted(in_list,key=len))\n",
        "sort_by_length([\"Google\", \"Apple\", \"Microsoft\"])\n",
        "sort_by_length([\"Leonardo\", \"Michelangelo\", \"Raphael\", \"Donatello\"])\n",
        "sort_by_length([\"Turing\", \"Einstein\", \"Jung\"])\n"
      ],
      "metadata": {
        "id": "R8GcQyveA-V2",
        "colab": {
          "base_uri": "https://localhost:8080/"
        },
        "outputId": "d5e29d19-7a0f-4aae-84d4-996d4c75333a"
      },
      "execution_count": 5,
      "outputs": [
        {
          "output_type": "stream",
          "name": "stdout",
          "text": [
            "['Apple', 'Google', 'Microsoft']\n",
            "['Raphael', 'Leonardo', 'Donatello', 'Michelangelo']\n",
            "['Jung', 'Turing', 'Einstein']\n"
          ]
        }
      ]
    },
    {
      "cell_type": "code",
      "source": [
        "def is_triplet(a,b,c):\n",
        "  if ((a**2+b**2)==(c**2)):\n",
        "    print(f'{a,b,c}=>{True}')\n",
        "  else:\n",
        "    print(f'{a,b,c}=>{False}')\n",
        "is_triplet(3, 4, 5)\n",
        "is_triplet(3, 4, 5)\n",
        "is_triplet(1, 2, 3)\n",
        " "
      ],
      "metadata": {
        "colab": {
          "base_uri": "https://localhost:8080/"
        },
        "id": "h_RSCuFKN0Yw",
        "outputId": "1d5532ae-0a33-4c9a-85b9-20d155278355"
      },
      "execution_count": 7,
      "outputs": [
        {
          "output_type": "stream",
          "name": "stdout",
          "text": [
            "(3, 4, 5)=>True\n",
            "(3, 4, 5)=>True\n",
            "(1, 2, 3)=>False\n"
          ]
        }
      ]
    }
  ]
}