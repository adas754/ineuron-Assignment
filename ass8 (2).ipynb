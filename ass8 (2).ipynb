{
  "nbformat": 4,
  "nbformat_minor": 0,
  "metadata": {
    "colab": {
      "provenance": []
    },
    "kernelspec": {
      "name": "python3",
      "display_name": "Python 3"
    },
    "language_info": {
      "name": "python"
    }
  },
  "cells": [
    {
      "cell_type": "code",
      "execution_count": null,
      "metadata": {
        "colab": {
          "base_uri": "https://localhost:8080/"
        },
        "id": "PUdJ9xpHOlsE",
        "outputId": "8048d219-9af2-4cae-e04a-e0e159b6d433"
      },
      "outputs": [
        {
          "output_type": "stream",
          "name": "stdout",
          "text": [
            "Enter a string pintu #das\n",
            " pintu das\n"
          ]
        }
      ],
      "source": [
        "def remove_punc():\n",
        "  punctuations='''!()-[]{};:'\"\\,<>./?@#$%^&*_~'''\n",
        "  in_string=input(\"Enter a string \")\n",
        "  out_string=\" \"\n",
        "  for ele in in_string:\n",
        "    if ele not in punctuations:\n",
        "      out_string+=ele\n",
        "  print(out_string)\n",
        "remove_punc()"
      ]
    },
    {
      "cell_type": "code",
      "source": [
        "def sortString():\n",
        "    in_string = input(\"Enter a String: \").title()\n",
        "    sorted_list = sorted(in_string.split(' '))\n",
        "    print(' '.join(sorted_list))\n",
        "\n",
        "sortString()"
      ],
      "metadata": {
        "colab": {
          "base_uri": "https://localhost:8080/"
        },
        "id": "zfnqA9jEWlmH",
        "outputId": "ffbe6a6c-879a-4c6b-f5c3-e2b198cff0a3"
      },
      "execution_count": null,
      "outputs": [
        {
          "output_type": "stream",
          "name": "stdout",
          "text": [
            "Enter a String: munai das\n",
            "Das Munai\n"
          ]
        }
      ]
    },
    {
      "cell_type": "code",
      "source": [
        "def sort_words(word_list):\n",
        "  for i in range(len(word_list)):\n",
        "    for j in range(i+1,len(word_list)):\n",
        "      if word_list[i]>word_list[j]:\n",
        "        word_list[i],word_list[j]=word_list[j],word_list[i]\n",
        "  return word_list\n",
        "my_word_list = ['banana', 'apple', 'orange', 'grape', 'pineapple']\n",
        "sorted_words = sort_words(my_word_list)\n",
        "print(\"The sorted list of words is:\", sorted_words)"
      ],
      "metadata": {
        "colab": {
          "base_uri": "https://localhost:8080/"
        },
        "id": "Nbh7Q1mBZPNE",
        "outputId": "bc84d708-bc53-47e1-89cf-2477758a3b78"
      },
      "execution_count": null,
      "outputs": [
        {
          "output_type": "stream",
          "name": "stdout",
          "text": [
            "The sorted list of words is: ['apple', 'banana', 'grape', 'orange', 'pineapple']\n"
          ]
        }
      ]
    },
    {
      "cell_type": "code",
      "source": [
        "def matrix_addition(A, B):\n",
        "    \"\"\"\n",
        "    This function takes in two matrices A and B, and returns their sum C = A + B.\n",
        "    \"\"\"\n",
        "    # Check if the matrices have the same dimensions\n",
        "    if len(A) != len(B) or len(A[0]) != len(B[0]):\n",
        "        return None\n",
        "    \n",
        "    # Initialize a matrix to hold the sum\n",
        "    C = [[0 for j in range(len(A[0]))] for i in range(len(A))]\n",
        "    \n",
        "    # Iterate over each element in the matrices and add them together\n",
        "    for i in range(len(A)):\n",
        "        for j in range(len(A[0])):\n",
        "            C[i][j] = A[i][j] + B[i][j]\n",
        "    \n",
        "    return C\n",
        "# Define the matrices\n",
        "A = [[1, 2, 3], [4, 5, 6], [7, 8, 9]]\n",
        "B = [[9, 8, 7], [6, 5, 4], [3, 2, 1]]\n",
        "\n",
        "# Call the function to add the matrices\n",
        "C = matrix_addition(A, B)\n",
        "\n",
        "\n",
        "C"
      ],
      "metadata": {
        "colab": {
          "base_uri": "https://localhost:8080/"
        },
        "id": "LCb6dDaW1-TU",
        "outputId": "fc87229d-261b-4415-ca0f-a93dfe6b25af"
      },
      "execution_count": null,
      "outputs": [
        {
          "output_type": "execute_result",
          "data": {
            "text/plain": [
              "[[10, 10, 10], [10, 10, 10], [10, 10, 10]]"
            ]
          },
          "metadata": {},
          "execution_count": 3
        }
      ]
    },
    {
      "cell_type": "code",
      "source": [
        "def add(matrix1,matrix2):\n",
        "  rows=len(matrix1)\n",
        "  cols=len(matrix1[0])\n",
        "  result=[[0 for j in range(cols)] for i in range(rows)]\n",
        "  for i in range(rows):\n",
        "    for j in range(cols):\n",
        "      result[i][j]=matrix1[i][j]+matrix2[i][j]\n",
        "  return result\n",
        "matrix1=[[1,2,3],[4,5,6],[7,8,9]]\n",
        "matrix2=[[1,2,3],[4,5,6],[7,8,9]]\n",
        "result=add(matrix1,matrix2)\n",
        "print(result)"
      ],
      "metadata": {
        "colab": {
          "base_uri": "https://localhost:8080/"
        },
        "id": "sgdeUUmK674h",
        "outputId": "53586463-1368-4fd4-eb15-5a7369830246"
      },
      "execution_count": null,
      "outputs": [
        {
          "output_type": "stream",
          "name": "stdout",
          "text": [
            "[[2, 4, 6], [8, 10, 12], [14, 16, 18]]\n"
          ]
        }
      ]
    },
    {
      "cell_type": "code",
      "source": [
        "def transpose(matrix):\n",
        "  rows=len(matrix)\n",
        "  cols=len(matrix[0])\n",
        "  transpose=[[0 for row in range(rows)] for col in range(cols)]\n",
        "  for row in range(rows):\n",
        "    for col in range(cols):\n",
        "      transpose[row][col]=matrix[col][row]\n",
        "  return transpose\n",
        "original_matrix=[[1,2,3],[4,5,6],[7,8,9]]\n",
        "transpose_matrix=transpose(original_matrix)\n",
        "print(transpose_matrix)"
      ],
      "metadata": {
        "colab": {
          "base_uri": "https://localhost:8080/"
        },
        "id": "OFEloJ8I_lc0",
        "outputId": "a6cda5e1-365c-4ed0-daae-c5ccbd860448"
      },
      "execution_count": null,
      "outputs": [
        {
          "output_type": "stream",
          "name": "stdout",
          "text": [
            "[[1, 4, 7], [2, 5, 8], [3, 6, 9]]\n"
          ]
        }
      ]
    },
    {
      "cell_type": "markdown",
      "source": [
        "## Matrix Multiplication"
      ],
      "metadata": {
        "id": "1fC6Z1vLYIxW"
      }
    },
    {
      "cell_type": "code",
      "source": [
        "def multiply_matrices(a,b):\n",
        "  row_a,col_a=len(a),len(a[0])\n",
        "  row_b,col_b=len(b),len(b[0])\n",
        "  result=[[0 for row in range(col_b)] for col in range(row_a)]\n",
        "  for i in range(row_a):\n",
        "    for j in range(col_b):\n",
        "      for k in range(row_b):\n",
        "        result[i][j]+=a[i][k]*b[k][j]\n",
        "  return result\n",
        "a=[[1,2],[3,4]]\n",
        "b=[[5,6],[7,8]]\n",
        "multiply_matrices(a,b)"
      ],
      "metadata": {
        "colab": {
          "base_uri": "https://localhost:8080/"
        },
        "id": "WTJPjFe7V8pV",
        "outputId": "c9eef4fc-f6df-408d-dbb8-23d93251be98"
      },
      "execution_count": 6,
      "outputs": [
        {
          "output_type": "execute_result",
          "data": {
            "text/plain": [
              "[[19, 22], [43, 50]]"
            ]
          },
          "metadata": {},
          "execution_count": 6
        }
      ]
    }
  ]
}