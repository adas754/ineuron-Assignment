{
  "nbformat": 4,
  "nbformat_minor": 0,
  "metadata": {
    "colab": {
      "name": "Programming_Assingment20.ipynb",
      "provenance": []
    },
    "kernelspec": {
      "name": "python3",
      "display_name": "Python 3"
    },
    "language_info": {
      "name": "python"
    }
  },
  "cells": [
    {
      "cell_type": "markdown",
      "source": [
        "Question1\n",
        "\n",
        "Create a function that takes a list of strings and integers, and filters out the list so that it returns a list of integers only.\n",
        "\n",
        "Examples\n",
        "\n",
        "filter_list([1, 2, 3, \"a\", \"b\", 4]) ➞ [1, 2, 3, 4]\n",
        "\n",
        "filter_list([\"A\", 0, \"Edabit\", 1729, \"Python\", \"1729\"]) ➞ [0, 1729]\n",
        "\n",
        "filter_list([\"Nothing\", \"here\"]) ➞ []\n",
        "\n"
      ],
      "metadata": {
        "id": "IAl_DWaiQU_u"
      }
    },
    {
      "cell_type": "code",
      "execution_count": 7,
      "metadata": {
        "id": "dbQm5BdVQQ7j"
      },
      "outputs": [],
      "source": [
        "def filter_list(l):\n",
        "    f=[]\n",
        "    for i in l:\n",
        "        if type(i)==int:\n",
        "            f.append(i)\n",
        "    return f"
      ]
    },
    {
      "cell_type": "code",
      "source": [
        "filter_list([1, 2, 3, \"a\", \"b\", 4]),filter_list([\"A\", 0, \"Edabit\", 1729, \"Python\", \"1729\"]),filter_list([\"Nothing\", \"here\"])"
      ],
      "metadata": {
        "colab": {
          "base_uri": "https://localhost:8080/"
        },
        "id": "5cM2jNiNWWL1",
        "outputId": "b8375c15-a4b2-4db0-fa4c-ba8ec2ea8e80"
      },
      "execution_count": 9,
      "outputs": [
        {
          "output_type": "execute_result",
          "data": {
            "text/plain": [
              "([1, 2, 3, 4], [0, 1729], [])"
            ]
          },
          "metadata": {},
          "execution_count": 9
        }
      ]
    },
    {
      "cell_type": "markdown",
      "source": [
        "Question2\n",
        "Given a list of numbers, create a function which returns the list but with each element's index in the list added to itself. This means you add 0 to the number at index 0, add 1 to the number at index 1, etc...\n",
        "\n",
        "Examples\n",
        "\n",
        "add_indexes([0, 0, 0, 0, 0]) ➞ [0, 1, 2, 3, 4]\n",
        "\n",
        "\n",
        "add_indexes([1, 2, 3, 4, 5]) ➞ [1, 3, 5, 7, 9]\n",
        "\n",
        "\n",
        "add_indexes([5, 4, 3, 2, 1]) ➞ [5, 5, 5, 5, 5]\n",
        "\n",
        "\n"
      ],
      "metadata": {
        "id": "TCTdM_sDYfRj"
      }
    },
    {
      "cell_type": "code",
      "source": [
        "def add_indexes(l):\n",
        "    m=[]\n",
        "    for i in range(len(l)):\n",
        "        m.append(i+l[i])\n",
        "    return m"
      ],
      "metadata": {
        "id": "mvAa4MUZX931"
      },
      "execution_count": 21,
      "outputs": []
    },
    {
      "cell_type": "code",
      "source": [
        "add_indexes([0, 0, 0, 0, 0]),add_indexes([1, 2, 3, 4, 5]),add_indexes([5, 4, 3, 2, 1])\n",
        "\n"
      ],
      "metadata": {
        "colab": {
          "base_uri": "https://localhost:8080/"
        },
        "id": "5BRUqxcWriBj",
        "outputId": "1a03c5d6-9fcd-40b8-c2cd-33ab879daf31"
      },
      "execution_count": 22,
      "outputs": [
        {
          "output_type": "execute_result",
          "data": {
            "text/plain": [
              "([0, 1, 2, 3, 4], [1, 3, 5, 7, 9], [5, 5, 5, 5, 5])"
            ]
          },
          "metadata": {},
          "execution_count": 22
        }
      ]
    },
    {
      "cell_type": "markdown",
      "source": [
        "Question3\n",
        "\n",
        "Create a function that takes the height and radius of a cone as arguments and returns the volume of the cone rounded to the nearest hundredth. See the resources tab for the formula.\n",
        "\n",
        "\n",
        "Examples\n",
        "\n",
        "cone_volume(3, 2) ➞ 12.57\n",
        "\n",
        "\n",
        "cone_volume(15, 6) ➞ 565.49\n",
        "\n",
        "\n",
        "cone_volume(18, 0) ➞ 0\n",
        "\n",
        "\n"
      ],
      "metadata": {
        "id": "yc8RkR_wtJu1"
      }
    },
    {
      "cell_type": "code",
      "source": [
        "def cone_volume(h,r):\n",
        "    vol=(3.14*r*r*(h/3))\n",
        "    return vol"
      ],
      "metadata": {
        "id": "HkyAelIDt1MW"
      },
      "execution_count": 23,
      "outputs": []
    },
    {
      "cell_type": "code",
      "source": [
        "cone_volume(3, 2),cone_volume(15, 6),cone_volume(18, 0)"
      ],
      "metadata": {
        "colab": {
          "base_uri": "https://localhost:8080/"
        },
        "id": "9cyDIOAXvViy",
        "outputId": "62e80343-57be-42c7-8087-7aef4434b1d4"
      },
      "execution_count": 24,
      "outputs": [
        {
          "output_type": "execute_result",
          "data": {
            "text/plain": [
              "(12.56, 565.1999999999999, 0.0)"
            ]
          },
          "metadata": {},
          "execution_count": 24
        }
      ]
    },
    {
      "cell_type": "markdown",
      "source": [
        "Question4\n",
        "This Triangular Number Sequence is generated from a pattern of dots that form a triangle. The first 5 numbers of the sequence, or dots, are: \n",
        "1, 3, 6, 10, 15\n",
        "\n",
        "This means that the first triangle has just one dot, the second one has three dots, the third one has 6 dots and so on.\n",
        "\n",
        "Write a function that gives the number of dots with its corresponding triangle number of the sequence.\n",
        "\n",
        "Examples\n",
        "\n",
        "triangle(1) ➞ 1\n",
        "\n",
        "\n",
        "triangle(6) ➞ 21\n",
        "\n",
        "\n",
        "triangle(215) ➞ 23220\n",
        "\n",
        "\n"
      ],
      "metadata": {
        "id": "3u1MzubnvlNp"
      }
    },
    {
      "cell_type": "code",
      "source": [
        "def triangle(n):\n",
        "    t=n*(n+1)*0.5\n",
        "    return t"
      ],
      "metadata": {
        "id": "TWvFmaUQv4J7"
      },
      "execution_count": 25,
      "outputs": []
    },
    {
      "cell_type": "code",
      "source": [
        "triangle(1),triangle(6),triangle(215)"
      ],
      "metadata": {
        "colab": {
          "base_uri": "https://localhost:8080/"
        },
        "id": "RxBMMn_OyC8c",
        "outputId": "d756cefe-b32e-41d5-bb3b-718479221ce4"
      },
      "execution_count": 26,
      "outputs": [
        {
          "output_type": "execute_result",
          "data": {
            "text/plain": [
              "(1.0, 21.0, 23220.0)"
            ]
          },
          "metadata": {},
          "execution_count": 26
        }
      ]
    },
    {
      "cell_type": "markdown",
      "source": [
        "\n",
        "Question5\n",
        "\n",
        "Create a function that takes a list of numbers between 1 and 10 (excluding one number) and returns the missing number.\n",
        "Examples\n",
        "\n",
        "missing_num([1, 2, 3, 4, 6, 7, 8, 9, 10]) ➞ 5\n",
        "\n",
        "missing_num([7, 2, 3, 6, 5, 9, 1, 4, 8]) ➞ 10\n",
        "\n",
        "missing_num([10, 5, 1, 2, 4, 6, 8, 3, 9]) ➞ 7\n"
      ],
      "metadata": {
        "id": "fArGYJaPyMLn"
      }
    },
    {
      "cell_type": "code",
      "source": [
        "def missing_num(l):\n",
        "    for i in range(1,11):\n",
        "        if i not in l:\n",
        "           return(i)\n"
      ],
      "metadata": {
        "id": "OpavPGpBySdN"
      },
      "execution_count": 30,
      "outputs": []
    },
    {
      "cell_type": "code",
      "source": [
        "missing_num([1, 2, 3, 4, 6, 7, 8, 9, 10]),missing_num([7, 2, 3, 6, 5, 9, 1, 4, 8]),missing_num([10, 5, 1, 2, 4, 6, 8, 3, 9])"
      ],
      "metadata": {
        "colab": {
          "base_uri": "https://localhost:8080/"
        },
        "id": "uL7gi05rzT1Y",
        "outputId": "b8fbd147-3d75-4207-8667-00cdca6c40f6"
      },
      "execution_count": 31,
      "outputs": [
        {
          "output_type": "execute_result",
          "data": {
            "text/plain": [
              "(5, 10, 7)"
            ]
          },
          "metadata": {},
          "execution_count": 31
        }
      ]
    }
  ]
}