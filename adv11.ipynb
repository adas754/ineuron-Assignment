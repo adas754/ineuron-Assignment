{
  "nbformat": 4,
  "nbformat_minor": 0,
  "metadata": {
    "colab": {
      "provenance": []
    },
    "kernelspec": {
      "name": "python3",
      "display_name": "Python 3"
    },
    "language_info": {
      "name": "python"
    }
  },
  "cells": [
    {
      "cell_type": "markdown",
      "source": [
        "# 1. Create a function that takes a list and returns a new list containing only prime numbers.\n",
        "\n",
        "Examples\n",
        "\n",
        "filter_primes([7, 9, 3, 9, 10, 11, 27]) ➞ [7, 3, 11]\n",
        "\n",
        "filter_primes([10007, 1009, 1007, 27, 147, 77, 1001, 70]) ➞ [10007, 1009]\n",
        "\n",
        "filter_primes([1009, 10, 10, 10, 3, 33, 9, 4, 1, 61, 63, 69, 1087, 1091, 1093, 1097]) ➞ [1009, 3, 61, 1087, 1091, 1093, 1097]\n"
      ],
      "metadata": {
        "id": "G4KMbG8PlcYw"
      }
    },
    {
      "cell_type": "code",
      "execution_count": null,
      "metadata": {
        "id": "nDe2Oqs5lYik"
      },
      "outputs": [],
      "source": [
        "def filter_primes(lst):\n",
        "    def is_prime(num):\n",
        "        if num < 2:\n",
        "            return False\n",
        "        for i in range(2, int(num ** 0.5) + 1):\n",
        "            if num % i == 0:\n",
        "                return False\n",
        "        return True\n",
        "\n",
        "    return [num for num in lst if is_prime(num)]\n"
      ]
    },
    {
      "cell_type": "code",
      "source": [
        "filter_primes([7, 9, 3, 9, 10, 11, 27])"
      ],
      "metadata": {
        "colab": {
          "base_uri": "https://localhost:8080/"
        },
        "id": "WnX_HDAnmGv9",
        "outputId": "ea77a357-177f-4b98-c5a9-a4b6ee68a8c9"
      },
      "execution_count": null,
      "outputs": [
        {
          "output_type": "execute_result",
          "data": {
            "text/plain": [
              "[7, 3, 11]"
            ]
          },
          "metadata": {},
          "execution_count": 2
        }
      ]
    },
    {
      "cell_type": "code",
      "source": [
        "filter_primes([10007, 1009, 1007, 27, 147, 77, 1001, 70])"
      ],
      "metadata": {
        "colab": {
          "base_uri": "https://localhost:8080/"
        },
        "id": "KILYv-yRmN1Y",
        "outputId": "5e94cfb4-7738-4510-eef2-64b79a3309e5"
      },
      "execution_count": null,
      "outputs": [
        {
          "output_type": "execute_result",
          "data": {
            "text/plain": [
              "[10007, 1009]"
            ]
          },
          "metadata": {},
          "execution_count": 3
        }
      ]
    },
    {
      "cell_type": "code",
      "source": [
        "filter_primes([1009, 10, 10, 10, 3, 33, 9, 4, 1, 61, 63, 69, 1087, 1091, 1093, 1097])"
      ],
      "metadata": {
        "colab": {
          "base_uri": "https://localhost:8080/"
        },
        "id": "OOsLJgBTmVEM",
        "outputId": "614e0e25-1cf4-412e-bb9b-1b29190d6179"
      },
      "execution_count": null,
      "outputs": [
        {
          "output_type": "execute_result",
          "data": {
            "text/plain": [
              "[1009, 3, 61, 1087, 1091, 1093, 1097]"
            ]
          },
          "metadata": {},
          "execution_count": 4
        }
      ]
    },
    {
      "cell_type": "markdown",
      "source": [
        "# 2. Once a water balloon pops, is soaks the area around it. The ground gets drier the further away you travel from the balloon.\n",
        "\n",
        "The effect of a water balloon popping can be modeled using a list. Create a function that takes a list which takes the pre-pop state and returns the state after the balloon is popped. The pre-pop state will contain at most a single balloon, whose size is represented by the only non-zero element.\n",
        "\n",
        "Examples\n",
        "\n",
        "pop([0, 0, 0, 0, 4, 0, 0, 0, 0]) ➞ [0, 1, 2, 3, 4, 3, 2, 1, 0]\n",
        "\n",
        "pop([0, 0, 0, 3, 0, 0, 0]) ➞ [0, 1, 2, 3, 2, 1, 0]\n",
        "\n",
        "pop([0, 0, 2, 0, 0]) ➞ [0, 1, 2, 1, 0]\n",
        "\n",
        "pop([0]) ➞ [0]\n"
      ],
      "metadata": {
        "id": "JWhGqfuqmqsf"
      }
    },
    {
      "cell_type": "code",
      "source": [
        "def pop(lst):\n",
        "    center = lst.index(max(lst))\n",
        "    for i in range(len(lst)):\n",
        "        lst[i] = max(lst[center] - abs(center - i), 0)\n",
        "    return lst\n"
      ],
      "metadata": {
        "id": "7LRgB7s3otCp"
      },
      "execution_count": null,
      "outputs": []
    },
    {
      "cell_type": "code",
      "source": [
        "pop([0, 0, 0, 0, 4, 0, 0, 0, 0]) "
      ],
      "metadata": {
        "colab": {
          "base_uri": "https://localhost:8080/"
        },
        "id": "_0eJcvSypKt4",
        "outputId": "b34d0e6e-09a4-4570-b8e0-f61411087d56"
      },
      "execution_count": null,
      "outputs": [
        {
          "output_type": "execute_result",
          "data": {
            "text/plain": [
              "[0, 1, 2, 3, 4, 3, 2, 1, 0]"
            ]
          },
          "metadata": {},
          "execution_count": 8
        }
      ]
    },
    {
      "cell_type": "code",
      "source": [
        "pop([0, 0, 0, 3, 0, 0, 0])"
      ],
      "metadata": {
        "colab": {
          "base_uri": "https://localhost:8080/"
        },
        "id": "S-XDq4xupPJM",
        "outputId": "ba75a862-2690-460c-ebcc-4ec55a3b211d"
      },
      "execution_count": null,
      "outputs": [
        {
          "output_type": "execute_result",
          "data": {
            "text/plain": [
              "[0, 1, 2, 3, 2, 1, 0]"
            ]
          },
          "metadata": {},
          "execution_count": 9
        }
      ]
    },
    {
      "cell_type": "code",
      "source": [
        "pop([0, 0, 2, 0, 0]) "
      ],
      "metadata": {
        "colab": {
          "base_uri": "https://localhost:8080/"
        },
        "id": "jPen3q0spTK1",
        "outputId": "e2b3ba7e-79a7-44cf-8fdb-645415ef2f54"
      },
      "execution_count": null,
      "outputs": [
        {
          "output_type": "execute_result",
          "data": {
            "text/plain": [
              "[0, 1, 2, 1, 0]"
            ]
          },
          "metadata": {},
          "execution_count": 10
        }
      ]
    },
    {
      "cell_type": "code",
      "source": [
        "pop([0]) "
      ],
      "metadata": {
        "colab": {
          "base_uri": "https://localhost:8080/"
        },
        "id": "39EvQ6JrpWb4",
        "outputId": "6549b1b0-edfa-462e-a157-538020d401ac"
      },
      "execution_count": null,
      "outputs": [
        {
          "output_type": "execute_result",
          "data": {
            "text/plain": [
              "[0]"
            ]
          },
          "metadata": {},
          "execution_count": 11
        }
      ]
    },
    {
      "cell_type": "markdown",
      "source": [
        "\n",
        "# 3. \"Loves me, loves me not\" is a traditional game in which a person plucks off all the petals of a flower one by one, saying the phrase \"Loves me\" and \"Loves me not\" when determining whether the one that they love, loves them back.\n",
        "\n",
        "Given a number of petals, return a string which repeats the phrases \"Loves me\" and \"Loves me not\" for every alternating petal, and return the last phrase in all caps. Remember to put a comma and space between phrases.\n",
        "\n",
        "Examples\n",
        "\n",
        "loves_me(3) ➞ \"Loves me, Loves me not, LOVES ME\"\n",
        "\n",
        "loves_me(6) ➞ \"Loves me, Loves me not, Loves me, Loves me not, Loves me, LOVES ME NOT\"\n",
        "\n",
        "loves_me(1) ➞ \"LOVES ME\"\n",
        "\n"
      ],
      "metadata": {
        "id": "S_knNKNBpnlt"
      }
    },
    {
      "cell_type": "code",
      "source": [
        "def loves_me(in_num):\n",
        "    out_string = []\n",
        "    for ele in range(in_num):\n",
        "        if ele%2 ==0:\n",
        "            out_string.append('Loves me')\n",
        "        else:\n",
        "            out_string.append('Loves me not')\n",
        "    out_string[-1] = out_string[-1].upper()\n",
        "    print(f'loves_me({in_num}) ➞ {\", \".join(out_string)}')\n",
        "    \n",
        "loves_me(3)\n",
        "loves_me(6)\n",
        "loves_me(1)"
      ],
      "metadata": {
        "colab": {
          "base_uri": "https://localhost:8080/"
        },
        "id": "sreVkbYhpvem",
        "outputId": "71f1fc4b-dcef-4a7c-aa82-0f9deade82ce"
      },
      "execution_count": null,
      "outputs": [
        {
          "output_type": "stream",
          "name": "stdout",
          "text": [
            "loves_me(3) ➞ Loves me, Loves me not, LOVES ME\n",
            "loves_me(6) ➞ Loves me, Loves me not, Loves me, Loves me not, Loves me, LOVES ME NOT\n",
            "loves_me(1) ➞ LOVES ME\n"
          ]
        }
      ]
    },
    {
      "cell_type": "markdown",
      "source": [
        "# 4. Write a function that sorts each string in a list by the letter in alphabetic ascending order (a-z).\n",
        "\n",
        "Examples\n",
        "\n",
        "sort_by_letter([\"932c\", \"832u32\", \"2344b\"])\n",
        "➞ [\"2344b\", \"932c\", \"832u32\"]\n",
        "\n",
        "sort_by_letter([\"99a\", \"78b\", \"c2345\", \"11d\"])\n",
        "➞ [\"99a\", \"78b\", \"c2345\", \"11d\"]\n",
        "\n",
        "sort_by_letter([\"572z\", \"5y5\", \"304q2\"])\n",
        "➞ [\"304q2\", \"5y5\", \"572z\"]\n",
        "\n",
        "sort_by_letter([])\n",
        "➞ []\n"
      ],
      "metadata": {
        "id": "u-3DM4CEqJcM"
      }
    },
    {
      "cell_type": "code",
      "source": [
        "def sort_by_letter(in_list):\n",
        "  temp_list=[]\n",
        "  output=[]\n",
        "  for ele in in_list:\n",
        "    for char in ele:\n",
        "      if char.isalpha():\n",
        "        temp_list.append(char)\n",
        "  temp_list.sort()\n",
        "  for char in temp_list:\n",
        "    for ele in in_list:\n",
        "      if char in ele:\n",
        "        output.append(ele)\n",
        "  print(f'sort_by_letter({in_list})->{output}')\n"
      ],
      "metadata": {
        "id": "vjIIaxMi_MQv"
      },
      "execution_count": null,
      "outputs": []
    },
    {
      "cell_type": "code",
      "source": [
        "sort_by_letter([\"932c\", \"832u32\", \"2344b\"])"
      ],
      "metadata": {
        "colab": {
          "base_uri": "https://localhost:8080/"
        },
        "id": "klyhbZlF11iq",
        "outputId": "f20199b5-6020-40cd-b423-238adee8b9ce"
      },
      "execution_count": null,
      "outputs": [
        {
          "output_type": "stream",
          "name": "stdout",
          "text": [
            "sort_by_letter(['932c', '832u32', '2344b'])->['2344b', '932c', '832u32']\n"
          ]
        }
      ]
    },
    {
      "cell_type": "code",
      "source": [
        "sort_by_letter([\"99a\", \"78b\", \"c2345\", \"11d\"])"
      ],
      "metadata": {
        "colab": {
          "base_uri": "https://localhost:8080/"
        },
        "id": "7xbtaW7r-2Ne",
        "outputId": "5a0e8f09-9962-4d48-d31a-440e56c8cdc5"
      },
      "execution_count": null,
      "outputs": [
        {
          "output_type": "stream",
          "name": "stdout",
          "text": [
            "sort_by_letter(['99a', '78b', 'c2345', '11d'])->['99a', '78b', 'c2345', '11d']\n"
          ]
        }
      ]
    },
    {
      "cell_type": "code",
      "source": [
        "sort_by_letter([\"572z\", \"5y5\", \"304q2\"])"
      ],
      "metadata": {
        "colab": {
          "base_uri": "https://localhost:8080/"
        },
        "id": "8ehHR2wX--dm",
        "outputId": "c2477a90-4844-45d3-ba31-dd0a3a15710e"
      },
      "execution_count": null,
      "outputs": [
        {
          "output_type": "stream",
          "name": "stdout",
          "text": [
            "sort_by_letter(['572z', '5y5', '304q2'])->['304q2', '5y5', '572z']\n"
          ]
        }
      ]
    },
    {
      "cell_type": "code",
      "source": [
        "sort_by_letter([])"
      ],
      "metadata": {
        "colab": {
          "base_uri": "https://localhost:8080/"
        },
        "id": "cxW6Suyy_DbW",
        "outputId": "6c01db8b-ac8a-4443-ed07-9506d9fc7d00"
      },
      "execution_count": null,
      "outputs": [
        {
          "output_type": "stream",
          "name": "stdout",
          "text": [
            "sort_by_letter([])->[]\n"
          ]
        }
      ]
    },
    {
      "cell_type": "markdown",
      "source": [
        "# 5. There are three cups on a table, at positions A, B, and C. At the start, there is a ball hidden under the cup at position B.\n",
        "\n",
        "\n",
        "\n",
        "\n",
        "\n",
        "\n",
        "However, I perform several swaps on the cups, which is notated as two letters. For example, if I swap the cups at positions A and B, I could notate this as AB or BA.\n",
        "\n",
        "Create a function that returns the letter position that the ball is at, once I finish swapping the cups. The swaps will be given to you as a list.\n",
        "\n",
        "Example\n",
        "\n",
        "cup_swapping([\"AB\", \"CA\", \"AB\"]) ➞ \"C\"\n",
        "\n",
        "# Ball begins at position B.\n",
        "# Cups A and B swap, so the ball is at position A.\n",
        "# Cups C and A swap, so the ball is at position C.\n",
        "# Cups A and B swap, but the ball is at position C, so it doesn't move.\n",
        "\n",
        "\n"
      ],
      "metadata": {
        "id": "Qo6wTwbpBV5U"
      }
    },
    {
      "cell_type": "code",
      "source": [
        "def cup_swapping(swaps):\n",
        "  ball_position='B'\n",
        "  for swap in swaps:\n",
        "    if swap=='AB':\n",
        "      if ball_position=='A':\n",
        "        ball_position='B'\n",
        "      elif ball_position=='B':\n",
        "        ball_position='A'\n",
        "    elif swap=='BC':\n",
        "      if ball_position=='B':\n",
        "        ball_position='C'\n",
        "      elif ball_position=='C':\n",
        "        ball_position='B'\n",
        "    elif swap=='CA':\n",
        "      if ball_position=='C':\n",
        "        ball_position='A'\n",
        "      elif ball_position=='A':\n",
        "        ball_position='C'\n",
        "  return ball_position\n",
        "\n"
      ],
      "metadata": {
        "id": "wRAhBknMYQOi"
      },
      "execution_count": 32,
      "outputs": []
    },
    {
      "cell_type": "code",
      "source": [
        "cup_swapping([\"AB\", \"CA\", \"AB\"])"
      ],
      "metadata": {
        "id": "opk0etNQCG-v",
        "outputId": "7711a1a4-9e78-4483-fa39-c9f8f4d2e320",
        "colab": {
          "base_uri": "https://localhost:8080/",
          "height": 35
        }
      },
      "execution_count": 33,
      "outputs": [
        {
          "output_type": "execute_result",
          "data": {
            "text/plain": [
              "'C'"
            ],
            "application/vnd.google.colaboratory.intrinsic+json": {
              "type": "string"
            }
          },
          "metadata": {},
          "execution_count": 33
        }
      ]
    }
  ]
}