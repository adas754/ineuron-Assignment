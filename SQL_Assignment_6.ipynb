{
  "nbformat": 4,
  "nbformat_minor": 0,
  "metadata": {
    "colab": {
      "name": "SQL_Assignment 6.ipynb",
      "provenance": []
    },
    "kernelspec": {
      "name": "python3",
      "display_name": "Python 3"
    },
    "language_info": {
      "name": "python"
    }
  },
  "cells": [
    {
      "cell_type": "markdown",
      "source": [
        "Q-1. Write an SQL query to print details of the Workers who have joined in Feb’2014."
      ],
      "metadata": {
        "id": "v-SqAe364koY"
      }
    },
    {
      "cell_type": "markdown",
      "source": [
        "SELECT*FROM WORKER WHERE YEAR(DATE OF JOINING)=2014 AND MONTH(DATE OF JOINING)=2;"
      ],
      "metadata": {
        "id": "5wmczS674nk0"
      }
    },
    {
      "cell_type": "markdown",
      "source": [
        "Q-2. Write an SQL query to fetch duplicate records having matching data in some fields of a table."
      ],
      "metadata": {
        "id": "nOv7K_nm5tRr"
      }
    },
    {
      "cell_type": "markdown",
      "source": [
        "SELECT GENDER,DEPARTMENT,COUNT(*) FROM WORKER GROUP BY GENDER,DEPARTMENT HAVING COUNT(*)>1;"
      ],
      "metadata": {
        "id": "u2uKomWy6Zbk"
      }
    },
    {
      "cell_type": "markdown",
      "source": [
        "Q-3. How to remove duplicate rows from Employees table."
      ],
      "metadata": {
        "id": "UTGPZQhb7p9C"
      }
    },
    {
      "cell_type": "markdown",
      "source": [
        "DELETE c1 FROM worker c1\n",
        "INNER JOIN worker c2\n",
        "WHERE\n",
        "c1.salary > c2.salary AND\n",
        "c1.LAST_NAME = c2.LAST_NAME"
      ],
      "metadata": {
        "id": "39Yvs-Hs7Oja"
      }
    }
  ]
}