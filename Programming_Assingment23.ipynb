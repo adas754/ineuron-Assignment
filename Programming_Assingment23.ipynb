{
  "nbformat": 4,
  "nbformat_minor": 0,
  "metadata": {
    "colab": {
      "name": "Programming_Assingment23.ipynb",
      "provenance": [],
      "collapsed_sections": []
    },
    "kernelspec": {
      "name": "python3",
      "display_name": "Python 3"
    },
    "language_info": {
      "name": "python"
    }
  },
  "cells": [
    {
      "cell_type": "markdown",
      "source": [
        "Question 1\n",
        "Create a function that takes a number as an argument and returns True or False depending on whether the number is symmetrical or not. A number is symmetrical when it is the same as its reverse.\n",
        "\n",
        "Examples\n",
        "is_symmetrical(7227) ➞ True\n",
        "\n",
        "\n",
        "is_symmetrical(12567) ➞ False\n",
        "\n",
        "\n",
        "is_symmetrical(44444444) ➞ True\n",
        "\n",
        "\n",
        "is_symmetrical(9939) ➞ False\n",
        "\n",
        "\n",
        "is_symmetrical(1112111) ➞ True\n",
        "\n"
      ],
      "metadata": {
        "id": "aEJcD9vP0OaT"
      }
    },
    {
      "cell_type": "code",
      "execution_count": 1,
      "metadata": {
        "id": "hZZqeXvqz6d6"
      },
      "outputs": [],
      "source": [
        "def is_symmetrical(n):\n",
        "    rev = str(n)[::-1]\n",
        "  \n",
        "    if rev == str(n):\n",
        "        return True\n",
        "    return False\n",
        "\n",
        "        "
      ]
    },
    {
      "cell_type": "code",
      "source": [
        "is_symmetrical(7227) \n",
        "is_symmetrical(44444444) \n",
        "is_symmetrical(9939) \n",
        "is_symmetrical(1112111) "
      ],
      "metadata": {
        "colab": {
          "base_uri": "https://localhost:8080/"
        },
        "id": "A-USb5Zf09Ek",
        "outputId": "39100da9-9028-490b-bd3f-1020be7d62b3"
      },
      "execution_count": 7,
      "outputs": [
        {
          "output_type": "execute_result",
          "data": {
            "text/plain": [
              "True"
            ]
          },
          "metadata": {},
          "execution_count": 7
        }
      ]
    },
    {
      "cell_type": "code",
      "source": [
        "is_symmetrical(12567) "
      ],
      "metadata": {
        "colab": {
          "base_uri": "https://localhost:8080/"
        },
        "id": "mEEJPNOs1PVy",
        "outputId": "e5402a87-298b-4ac1-e921-eb67d01f3630"
      },
      "execution_count": 8,
      "outputs": [
        {
          "output_type": "execute_result",
          "data": {
            "text/plain": [
              "False"
            ]
          },
          "metadata": {},
          "execution_count": 8
        }
      ]
    },
    {
      "cell_type": "markdown",
      "source": [
        "Question 2\n",
        "Given a string of numbers separated by a comma and space, return the product of the numbers.\n",
        "\n",
        "Examples\n",
        "\n",
        "multiply_nums(\"2, 3\") ➞ 6\n",
        "\n",
        "\n",
        "multiply_nums(\"1, 2, 3, 4\") ➞ 24\n",
        "\n",
        "\n",
        "multiply_nums(\"54, 75, 453, 0\") ➞ 0\n",
        "\n",
        "\n",
        "multiply_nums(\"10, -2\") ➞ -20\n",
        "\n",
        "\n"
      ],
      "metadata": {
        "id": "J5B9Qwne1jWG"
      }
    },
    {
      "cell_type": "code",
      "source": [
        "def multiply_nums(s):\n",
        "  s=s.replace(' ',\"\")\n",
        "  s=s.split(',')\n",
        "  sum=1\n",
        "  for i in s:\n",
        "    sum=sum*int(i)\n",
        "  return sum"
      ],
      "metadata": {
        "id": "HN3yHT0g1yv0"
      },
      "execution_count": 11,
      "outputs": []
    },
    {
      "cell_type": "code",
      "source": [
        "multiply_nums(\"2, 3\") "
      ],
      "metadata": {
        "colab": {
          "base_uri": "https://localhost:8080/"
        },
        "id": "htpfVsja39Av",
        "outputId": "99db9be2-8d30-41dd-9da0-8ffe952984b7"
      },
      "execution_count": 12,
      "outputs": [
        {
          "output_type": "execute_result",
          "data": {
            "text/plain": [
              "6"
            ]
          },
          "metadata": {},
          "execution_count": 12
        }
      ]
    },
    {
      "cell_type": "code",
      "source": [
        "multiply_nums(\"1, 2, 3, 4\") "
      ],
      "metadata": {
        "colab": {
          "base_uri": "https://localhost:8080/"
        },
        "id": "3kO-vQ4A4Dmu",
        "outputId": "e2fa25e8-b71e-4296-ca93-20ff9b64bb17"
      },
      "execution_count": 13,
      "outputs": [
        {
          "output_type": "execute_result",
          "data": {
            "text/plain": [
              "24"
            ]
          },
          "metadata": {},
          "execution_count": 13
        }
      ]
    },
    {
      "cell_type": "code",
      "source": [
        "multiply_nums(\"54, 75, 453, 0\")"
      ],
      "metadata": {
        "colab": {
          "base_uri": "https://localhost:8080/"
        },
        "id": "cS0DB_nJ4ILP",
        "outputId": "da412414-a150-4ab9-848f-a054767d6fe0"
      },
      "execution_count": 14,
      "outputs": [
        {
          "output_type": "execute_result",
          "data": {
            "text/plain": [
              "0"
            ]
          },
          "metadata": {},
          "execution_count": 14
        }
      ]
    },
    {
      "cell_type": "code",
      "source": [
        "multiply_nums(\"10, -2\") "
      ],
      "metadata": {
        "colab": {
          "base_uri": "https://localhost:8080/"
        },
        "id": "czSnV5W_4MXW",
        "outputId": "573a211c-c062-41a1-ca8e-2a0304eb5390"
      },
      "execution_count": 15,
      "outputs": [
        {
          "output_type": "execute_result",
          "data": {
            "text/plain": [
              "-20"
            ]
          },
          "metadata": {},
          "execution_count": 15
        }
      ]
    },
    {
      "cell_type": "markdown",
      "source": [
        "Question 3\n",
        "\n",
        "Create a function that squares every digit of a number.\n",
        "\n",
        "Examples\n",
        "\n",
        "square_digits(9119) ➞ 811181\n",
        "\n",
        "\n",
        "square_digits(2483) ➞ 416649\n",
        "\n",
        "\n",
        "square_digits(3212) ➞ 9414\n",
        "\n",
        "\n",
        "Notes\n",
        "\n",
        "The function receives an integer and must return an integer.\n",
        "\n",
        "\n"
      ],
      "metadata": {
        "id": "RypCkMiv4PWf"
      }
    },
    {
      "cell_type": "code",
      "source": [
        "def square_digits(n):\n",
        "    square=''.join(str(int(i)**2) for i in str(n))\n",
        "    return int(square)"
      ],
      "metadata": {
        "id": "spyaOI874hsJ"
      },
      "execution_count": 19,
      "outputs": []
    },
    {
      "cell_type": "code",
      "source": [
        "square_digits(9119)"
      ],
      "metadata": {
        "colab": {
          "base_uri": "https://localhost:8080/"
        },
        "id": "jE9zQXzx8cTd",
        "outputId": "f8744855-c4cb-47b8-f2a4-1697d2c61bad"
      },
      "execution_count": 20,
      "outputs": [
        {
          "output_type": "execute_result",
          "data": {
            "text/plain": [
              "811181"
            ]
          },
          "metadata": {},
          "execution_count": 20
        }
      ]
    },
    {
      "cell_type": "code",
      "source": [
        "square_digits(2483)"
      ],
      "metadata": {
        "colab": {
          "base_uri": "https://localhost:8080/"
        },
        "id": "cQLaBCEN8t7T",
        "outputId": "5ecf063a-14ac-42f7-ed66-b74b0ed643ba"
      },
      "execution_count": 21,
      "outputs": [
        {
          "output_type": "execute_result",
          "data": {
            "text/plain": [
              "416649"
            ]
          },
          "metadata": {},
          "execution_count": 21
        }
      ]
    },
    {
      "cell_type": "code",
      "source": [
        "square_digits(3212)"
      ],
      "metadata": {
        "colab": {
          "base_uri": "https://localhost:8080/"
        },
        "id": "dwoUunuk9PL2",
        "outputId": "ea44495d-01fb-4fa0-d5d5-84aefa65bea0"
      },
      "execution_count": 22,
      "outputs": [
        {
          "output_type": "execute_result",
          "data": {
            "text/plain": [
              "9414"
            ]
          },
          "metadata": {},
          "execution_count": 22
        }
      ]
    },
    {
      "cell_type": "markdown",
      "source": [
        "Question 4\n",
        "Create a function that sorts a list and removes all duplicate items from it.\n",
        "\n",
        "Examples\n",
        "\n",
        "setify([1, 3, 3, 5, 5]) ➞ [1, 3, 5]\n",
        "\n",
        "\n",
        "setify([4, 4, 4, 4]) ➞ [4]\n",
        "\n",
        "\n",
        "setify([5, 7, 8, 9, 10, 15]) ➞ [5, 7, 8, 9, 10, 15]\n",
        "\n",
        "\n",
        "setify([3, 3, 3, 2, 1]) ➞ [1, 2, 3]\n",
        "\n",
        "\n"
      ],
      "metadata": {
        "id": "VI3CXpni9es4"
      }
    },
    {
      "cell_type": "code",
      "source": [
        "def setify(in_list):\n",
        "    out_list = sorted(set(in_list))\n",
        "    return(f'{in_list} ➞ {out_list}')"
      ],
      "metadata": {
        "id": "IhC3woQY-E_g"
      },
      "execution_count": 24,
      "outputs": []
    },
    {
      "cell_type": "code",
      "source": [
        "setify([1, 3, 3, 5, 5])"
      ],
      "metadata": {
        "colab": {
          "base_uri": "https://localhost:8080/",
          "height": 35
        },
        "id": "US0H5Yjk-bjZ",
        "outputId": "cb9165f0-5934-4b30-bfc6-ec5ffb1283bb"
      },
      "execution_count": 25,
      "outputs": [
        {
          "output_type": "execute_result",
          "data": {
            "application/vnd.google.colaboratory.intrinsic+json": {
              "type": "string"
            },
            "text/plain": [
              "'[1, 3, 3, 5, 5] ➞ [1, 3, 5]'"
            ]
          },
          "metadata": {},
          "execution_count": 25
        }
      ]
    },
    {
      "cell_type": "code",
      "source": [
        "setify([5, 7, 8, 9, 10, 15]) "
      ],
      "metadata": {
        "colab": {
          "base_uri": "https://localhost:8080/",
          "height": 35
        },
        "id": "xcNrDMVT-gBH",
        "outputId": "885ef42d-4dd8-45e9-a784-cfce7b0a2d4c"
      },
      "execution_count": 26,
      "outputs": [
        {
          "output_type": "execute_result",
          "data": {
            "application/vnd.google.colaboratory.intrinsic+json": {
              "type": "string"
            },
            "text/plain": [
              "'[5, 7, 8, 9, 10, 15] ➞ [5, 7, 8, 9, 10, 15]'"
            ]
          },
          "metadata": {},
          "execution_count": 26
        }
      ]
    },
    {
      "cell_type": "code",
      "source": [
        "setify([3, 3, 3, 2, 1]) "
      ],
      "metadata": {
        "colab": {
          "base_uri": "https://localhost:8080/",
          "height": 35
        },
        "id": "93ocWnal-orn",
        "outputId": "506fc120-78a0-4153-ce15-b4f1ca75b587"
      },
      "execution_count": 27,
      "outputs": [
        {
          "output_type": "execute_result",
          "data": {
            "application/vnd.google.colaboratory.intrinsic+json": {
              "type": "string"
            },
            "text/plain": [
              "'[3, 3, 3, 2, 1] ➞ [1, 2, 3]'"
            ]
          },
          "metadata": {},
          "execution_count": 27
        }
      ]
    },
    {
      "cell_type": "markdown",
      "source": [
        "Question 5\n",
        "\n",
        "Create a function that returns the mean of all digits.\n",
        "\n",
        "Examples\n",
        "\n",
        "mean(42) ➞ 3\n",
        "\n",
        "\n",
        "mean(12345) ➞ 3\n",
        "\n",
        "\n",
        "mean(666) ➞ 6\n",
        "\n",
        "Notes\n",
        "\n",
        "The mean of all digits is the sum of digits / how many digits there are (e.g. mean of digits in 512 is (5+1+2)/3(number of digits) = 8/3=2).\n",
        "The mean will always be an integer.\n",
        "\n"
      ],
      "metadata": {
        "id": "Ku8bwK25-s6B"
      }
    },
    {
      "cell_type": "code",
      "source": [
        "def mean(n):\n",
        "    sum = 0\n",
        "    lenth = len(str(n))\n",
        "    for i in str(n):\n",
        "        sum = sum+ int(i)\n",
        "    return int(sum/lenth)\n",
        "        "
      ],
      "metadata": {
        "id": "X26_8Wm0_KES"
      },
      "execution_count": 28,
      "outputs": []
    },
    {
      "cell_type": "code",
      "source": [
        "mean(42) "
      ],
      "metadata": {
        "colab": {
          "base_uri": "https://localhost:8080/"
        },
        "id": "LBbKRbEE_gRo",
        "outputId": "d2b1babd-d3e7-43ef-8e69-a80ccb655fb4"
      },
      "execution_count": 29,
      "outputs": [
        {
          "output_type": "execute_result",
          "data": {
            "text/plain": [
              "3"
            ]
          },
          "metadata": {},
          "execution_count": 29
        }
      ]
    },
    {
      "cell_type": "code",
      "source": [
        "mean(12345) "
      ],
      "metadata": {
        "colab": {
          "base_uri": "https://localhost:8080/"
        },
        "id": "a5RxAuXO_lXq",
        "outputId": "5ab5a087-4f12-4032-93c1-01b93f04e04b"
      },
      "execution_count": 30,
      "outputs": [
        {
          "output_type": "execute_result",
          "data": {
            "text/plain": [
              "3"
            ]
          },
          "metadata": {},
          "execution_count": 30
        }
      ]
    },
    {
      "cell_type": "code",
      "source": [
        "mean(666) "
      ],
      "metadata": {
        "colab": {
          "base_uri": "https://localhost:8080/"
        },
        "id": "wv97bMzr_zEY",
        "outputId": "39dc9ceb-19fe-46ee-df5b-9e49053e047d"
      },
      "execution_count": 31,
      "outputs": [
        {
          "output_type": "execute_result",
          "data": {
            "text/plain": [
              "6"
            ]
          },
          "metadata": {},
          "execution_count": 31
        }
      ]
    }
  ]
}