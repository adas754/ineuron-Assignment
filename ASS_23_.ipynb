{
  "nbformat": 4,
  "nbformat_minor": 0,
  "metadata": {
    "colab": {
      "provenance": []
    },
    "kernelspec": {
      "name": "python3",
      "display_name": "Python 3"
    },
    "language_info": {
      "name": "python"
    }
  },
  "cells": [
    {
      "cell_type": "code",
      "execution_count": 1,
      "metadata": {
        "colab": {
          "base_uri": "https://localhost:8080/"
        },
        "id": "a1dW_6mFDWPn",
        "outputId": "a25cb3de-c34f-4d22-a82a-d52df3755c10"
      },
      "outputs": [
        {
          "output_type": "stream",
          "name": "stdout",
          "text": [
            "7227->True\n",
            "12567->False\n",
            "44444444->True\n",
            "9939->False\n",
            "1112111->True\n"
          ]
        }
      ],
      "source": [
        "def is_symmetrical(in_num):\n",
        "    if str(in_num)==str(in_num)[::-1]:\n",
        "      print(f'{in_num}->{True}')\n",
        "    else:\n",
        "      print(f'{in_num}->{False}')\n",
        "is_symmetrical(7227)\n",
        "is_symmetrical(12567)\n",
        "is_symmetrical(44444444)\n",
        "is_symmetrical(9939)\n",
        "is_symmetrical(1112111)"
      ]
    },
    {
      "cell_type": "code",
      "source": [
        "def multiply_nums(in_string):\n",
        "  out_string=in_string.replace(' ','').split(',')\n",
        "  out_num=1\n",
        "  for ele in out_string:\n",
        "    out_num*=int(ele)\n",
        "  print(f'{in_string}->{out_num}')\n",
        "multiply_nums(\"2, 3\")\n",
        "multiply_nums(\"1, 2, 3, 4\")\n",
        "multiply_nums(\"54, 75, 453, 0\")\n",
        "multiply_nums(\"10, -2\")"
      ],
      "metadata": {
        "colab": {
          "base_uri": "https://localhost:8080/"
        },
        "id": "8ntSqsoFEP-N",
        "outputId": "83d144c4-2c12-4334-eb3a-77ca8d75ec54"
      },
      "execution_count": 2,
      "outputs": [
        {
          "output_type": "stream",
          "name": "stdout",
          "text": [
            "2, 3->6\n",
            "1, 2, 3, 4->24\n",
            "54, 75, 453, 0->0\n",
            "10, -2->-20\n"
          ]
        }
      ]
    },
    {
      "cell_type": "code",
      "source": [
        "def square_digits(in_num):\n",
        "    in_list=[str(int(ele)**2)for ele in str(in_num)]\n",
        "    out_list=''.join(in_list)\n",
        "    print(f'{in_num}->{int(out_list)}')\n",
        "square_digits(9119)\n",
        "square_digits(2483)\n",
        "square_digits(3212)"
      ],
      "metadata": {
        "colab": {
          "base_uri": "https://localhost:8080/"
        },
        "id": "ssqZyLFZGo6M",
        "outputId": "7aa91cc3-79f4-4f12-c4a7-71fbc230b21c"
      },
      "execution_count": 3,
      "outputs": [
        {
          "output_type": "stream",
          "name": "stdout",
          "text": [
            "9119->811181\n",
            "2483->416649\n",
            "3212->9414\n"
          ]
        }
      ]
    },
    {
      "cell_type": "code",
      "source": [
        "def setify(in_list):\n",
        "  out_list=sorted(set(in_list))\n",
        "  print(f'{in_list}->{out_list}')\n",
        "setify([1, 3, 3, 5, 5]) \n",
        "setify([4, 4, 4, 4])\n",
        "setify([5, 7, 8, 9, 10, 15])\n",
        "setify([3, 3, 3, 2, 1])"
      ],
      "metadata": {
        "colab": {
          "base_uri": "https://localhost:8080/"
        },
        "id": "t0tJbOxzIkhR",
        "outputId": "49199f79-fd07-41bd-cdb5-02e96765ba39"
      },
      "execution_count": 4,
      "outputs": [
        {
          "output_type": "stream",
          "name": "stdout",
          "text": [
            "[1, 3, 3, 5, 5]->[1, 3, 5]\n",
            "[4, 4, 4, 4]->[4]\n",
            "[5, 7, 8, 9, 10, 15]->[5, 7, 8, 9, 10, 15]\n",
            "[3, 3, 3, 2, 1]->[1, 2, 3]\n"
          ]
        }
      ]
    },
    {
      "cell_type": "code",
      "source": [
        "def mean(in_num):\n",
        "  in_list=[int(ele) for ele in str(in_num)]\n",
        "  out_num=sum(in_list)/len(str(in_num))\n",
        "  print(f'Mean of {in_num}->{out_num : .0f}')\n",
        "    \n",
        "mean(42)\n",
        "mean(12345)\n",
        "mean(666)"
      ],
      "metadata": {
        "colab": {
          "base_uri": "https://localhost:8080/"
        },
        "id": "xfjxHC62I5U0",
        "outputId": "40ceeb06-ec23-40bc-e1df-1ffa75cd02a3"
      },
      "execution_count": 6,
      "outputs": [
        {
          "output_type": "stream",
          "name": "stdout",
          "text": [
            "Mean of 42-> 3\n",
            "Mean of 12345-> 3\n",
            "Mean of 666-> 6\n"
          ]
        }
      ]
    }
  ]
}