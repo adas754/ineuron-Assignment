{
  "nbformat": 4,
  "nbformat_minor": 0,
  "metadata": {
    "colab": {
      "name": "Programming_Assingment16.ipynb",
      "provenance": []
    },
    "kernelspec": {
      "name": "python3",
      "display_name": "Python 3"
    },
    "language_info": {
      "name": "python"
    }
  },
  "cells": [
    {
      "cell_type": "markdown",
      "source": [
        "Question1. Write a function that stutters a word as if someone is struggling to read it. The first two letters are repeated twice with an ellipsis ... and space after each, and then the word is pronounced with a question mark ?.\n",
        "\n",
        "Examples\n",
        "\n",
        "stutter(\"incredible\") ➞ \"in... in... incredible?\"\n",
        "\n",
        "\n",
        "stutter(\"enthusiastic\") ➞ \"en... en... enthusiastic?\"\n",
        "\n",
        "\n",
        "stutter(\"outstanding\") ➞ \"ou... ou... outstanding?\"\n",
        "\n",
        "\n",
        "Hint :- Assume all input is in lower case and at least two characters long.\n",
        "\n"
      ],
      "metadata": {
        "id": "_Jkq2njuYjs2"
      }
    },
    {
      "cell_type": "code",
      "execution_count": 3,
      "metadata": {
        "id": "VaVcMAXDYQOk"
      },
      "outputs": [],
      "source": [
        "def stutter(word):\n",
        "  print('->',(2*(word[:2]+'...'))+word+'?')"
      ]
    },
    {
      "cell_type": "code",
      "source": [
        "stutter(\"incredible\"),stutter(\"enthusiastic\"),stutter(\"outstanding\")"
      ],
      "metadata": {
        "colab": {
          "base_uri": "https://localhost:8080/"
        },
        "id": "tQnfLoN7BD4m",
        "outputId": "2d0f49e7-63c4-4bde-e765-d4eb373d0bfb"
      },
      "execution_count": 5,
      "outputs": [
        {
          "output_type": "stream",
          "name": "stdout",
          "text": [
            "-> in...in...incredible?\n",
            "-> en...en...enthusiastic?\n",
            "-> ou...ou...outstanding?\n"
          ]
        },
        {
          "output_type": "execute_result",
          "data": {
            "text/plain": [
              "(None, None, None)"
            ]
          },
          "metadata": {},
          "execution_count": 5
        }
      ]
    },
    {
      "cell_type": "markdown",
      "source": [
        "Question 2.Create a function that takes an angle in radians and returns the corresponding angle in degrees rounded to one decimal place.\n",
        "\n",
        "Examples\n",
        "\n",
        "radians_to_degrees(1) ➞ 57.3\n",
        "\n",
        "\n",
        "radians_to_degrees(20) ➞ 1145.9\n",
        "\n",
        "\n",
        "radians_to_degrees(50) ➞ 2864.8\n",
        "\n",
        "\n"
      ],
      "metadata": {
        "id": "74mtXvMUB2an"
      }
    },
    {
      "cell_type": "code",
      "source": [
        "def radians_to_degrees(n):\n",
        "    return n*180/3.14"
      ],
      "metadata": {
        "id": "9Xaj3N62CCfV"
      },
      "execution_count": 6,
      "outputs": []
    },
    {
      "cell_type": "code",
      "source": [
        "radians_to_degrees(1),radians_to_degrees(20),radians_to_degrees(50) "
      ],
      "metadata": {
        "colab": {
          "base_uri": "https://localhost:8080/"
        },
        "id": "0MBI92piCm95",
        "outputId": "14dd6d7d-f5c7-4d15-f1be-fc82ec40c2ee"
      },
      "execution_count": 7,
      "outputs": [
        {
          "output_type": "execute_result",
          "data": {
            "text/plain": [
              "(57.324840764331206, 1146.4968152866243, 2866.2420382165606)"
            ]
          },
          "metadata": {},
          "execution_count": 7
        }
      ]
    },
    {
      "cell_type": "markdown",
      "source": [
        "Question 3. In this challenge, establish if a given integer num is a Curzon number. If 1 plus 2 elevated to num is exactly divisible by 1 plus 2 multiplied by num, then num is a Curzon number.\n",
        "\n",
        "Given a non-negative integer num, implement a function that returns True if num is a Curzon number, or False otherwise.\n",
        "\n",
        "Examples\n",
        "\n",
        "is_curzon(5) ➞ True\n",
        "# 2 ** 5 + 1 = 33\n",
        "# 2 * 5 + 1 = 11\n",
        "# 33 is a multiple of 11\n",
        "\n",
        "\n",
        "is_curzon(10) ➞ False\n",
        "\n",
        "# 2 ** 10 + 1 = 1025\n",
        "# 2 * 10 + 1 = 21\n",
        "# 1025 is not a multiple of 21\n",
        "\n",
        "\n",
        "is_curzon(14) ➞ True\n",
        "\n",
        "# 2 ** 14 + 1 = 16385\n",
        "# 2 * 14 + 1 = 29\n",
        "# 16385 is a multiple of 29\n",
        "\n",
        "\n"
      ],
      "metadata": {
        "id": "E-b-7gyQDF-V"
      }
    },
    {
      "cell_type": "code",
      "source": [
        "def is_curzon(n):\n",
        "  a=pow(2,n)+1\n",
        "  b=(2*n)+1\n",
        "  return a%b==0"
      ],
      "metadata": {
        "id": "sEaBqwIEDsZN"
      },
      "execution_count": 8,
      "outputs": []
    },
    {
      "cell_type": "code",
      "source": [
        "is_curzon(5)"
      ],
      "metadata": {
        "colab": {
          "base_uri": "https://localhost:8080/"
        },
        "id": "4edXeSpgFU3z",
        "outputId": "da907018-86f4-4415-8637-9ab9913d0285"
      },
      "execution_count": 9,
      "outputs": [
        {
          "output_type": "execute_result",
          "data": {
            "text/plain": [
              "True"
            ]
          },
          "metadata": {},
          "execution_count": 9
        }
      ]
    },
    {
      "cell_type": "code",
      "source": [
        "is_curzon(10)"
      ],
      "metadata": {
        "colab": {
          "base_uri": "https://localhost:8080/"
        },
        "id": "IKz3bJQWFg-y",
        "outputId": "4730ac98-4825-47c0-9710-11edd55dfe42"
      },
      "execution_count": 10,
      "outputs": [
        {
          "output_type": "execute_result",
          "data": {
            "text/plain": [
              "False"
            ]
          },
          "metadata": {},
          "execution_count": 10
        }
      ]
    },
    {
      "cell_type": "code",
      "source": [
        "is_curzon(14)"
      ],
      "metadata": {
        "colab": {
          "base_uri": "https://localhost:8080/"
        },
        "id": "ywtxa4_KFmeC",
        "outputId": "59e2e17a-ec2a-47e6-c23d-ebadeee316e5"
      },
      "execution_count": 11,
      "outputs": [
        {
          "output_type": "execute_result",
          "data": {
            "text/plain": [
              "True"
            ]
          },
          "metadata": {},
          "execution_count": 11
        }
      ]
    },
    {
      "cell_type": "markdown",
      "source": [
        "Question 4.\n",
        "Given the side length x find the area of a hexagon.\n",
        "\n",
        "Examples\n",
        "\n",
        "area_of_hexagon(1) ➞ 2.6\n",
        "\n",
        "\n",
        "area_of_hexagon(2) ➞ 10.4\n",
        "\n",
        "\n",
        "area_of_hexagon(3) ➞ 23.4\n",
        "\n",
        "\n",
        "\n"
      ],
      "metadata": {
        "id": "RjlCuSCYFqLs"
      }
    },
    {
      "cell_type": "code",
      "source": [
        "def area_of_hexagon(side_length):\n",
        "  area=(3*1.73*side_length*side_length)/2\n",
        "  print(area)"
      ],
      "metadata": {
        "id": "kSdob-vXFpia"
      },
      "execution_count": 13,
      "outputs": []
    },
    {
      "cell_type": "code",
      "source": [
        "area_of_hexagon(1),area_of_hexagon(2),area_of_hexagon(3)"
      ],
      "metadata": {
        "colab": {
          "base_uri": "https://localhost:8080/"
        },
        "id": "AKDRWqEOODKW",
        "outputId": "c0c9d30c-4dd2-468e-a233-90537bbccff8"
      },
      "execution_count": 14,
      "outputs": [
        {
          "output_type": "stream",
          "name": "stdout",
          "text": [
            "2.5949999999999998\n",
            "10.379999999999999\n",
            "23.354999999999997\n"
          ]
        },
        {
          "output_type": "execute_result",
          "data": {
            "text/plain": [
              "(None, None, None)"
            ]
          },
          "metadata": {},
          "execution_count": 14
        }
      ]
    },
    {
      "cell_type": "markdown",
      "source": [
        "Question 5. Create a function that returns a base-2 (binary) representation of a base-10 (decimal) string number. \n",
        "To convert is simple:\n",
        " ((2) means base-2 and\n",
        "  (10) means base-10) \n",
        "  010101001(2) = 1 + 8 + 32 + 128.\n",
        "Going from right to left, the value of the most right bit is 1, now from that every bit to the left will be x2 the value, value of an 8 bit binary numbers are (256, 128, 64, 32, 16, 8, 4, 2, 1).\n",
        "Examples\n",
        "binary(1) ➞ \"1\"\n",
        "# 1*1 = 1\n",
        "\n",
        "binary(5) ➞ \"101\"\n",
        "# 1*1 + 1*4 = 5\n",
        "\n",
        "binary(10) ➞ \"1010\"\n",
        "# 1*2 + 1*8 = 10\n",
        "\n"
      ],
      "metadata": {
        "id": "Oa1T6FxxOY7N"
      }
    },
    {
      "cell_type": "code",
      "source": [
        "def binary(n):\n",
        "  return bin(n).replace(\"0b\",\"\")"
      ],
      "metadata": {
        "id": "818xa5o5O1ak"
      },
      "execution_count": 15,
      "outputs": []
    },
    {
      "cell_type": "code",
      "source": [
        "binary(10)"
      ],
      "metadata": {
        "colab": {
          "base_uri": "https://localhost:8080/",
          "height": 36
        },
        "id": "TmjSZWnsPj6v",
        "outputId": "879b8574-fdce-49d7-e8a6-93c3949f3e5c"
      },
      "execution_count": 16,
      "outputs": [
        {
          "output_type": "execute_result",
          "data": {
            "application/vnd.google.colaboratory.intrinsic+json": {
              "type": "string"
            },
            "text/plain": [
              "'1010'"
            ]
          },
          "metadata": {},
          "execution_count": 16
        }
      ]
    },
    {
      "cell_type": "code",
      "source": [
        "binary(5)\n"
      ],
      "metadata": {
        "colab": {
          "base_uri": "https://localhost:8080/",
          "height": 36
        },
        "id": "4joH3wozPpvU",
        "outputId": "0b3b8874-4828-499f-a82f-dcd9d0144329"
      },
      "execution_count": 17,
      "outputs": [
        {
          "output_type": "execute_result",
          "data": {
            "application/vnd.google.colaboratory.intrinsic+json": {
              "type": "string"
            },
            "text/plain": [
              "'101'"
            ]
          },
          "metadata": {},
          "execution_count": 17
        }
      ]
    },
    {
      "cell_type": "code",
      "source": [
        "binary(1)"
      ],
      "metadata": {
        "id": "VDuMVnDkPvrW",
        "outputId": "f2d33e97-a3e8-4416-e960-c6e88c9df747",
        "colab": {
          "base_uri": "https://localhost:8080/",
          "height": 36
        }
      },
      "execution_count": 18,
      "outputs": [
        {
          "output_type": "execute_result",
          "data": {
            "application/vnd.google.colaboratory.intrinsic+json": {
              "type": "string"
            },
            "text/plain": [
              "'1'"
            ]
          },
          "metadata": {},
          "execution_count": 18
        }
      ]
    }
  ]
}