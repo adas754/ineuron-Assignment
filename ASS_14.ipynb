{
  "nbformat": 4,
  "nbformat_minor": 0,
  "metadata": {
    "colab": {
      "provenance": []
    },
    "kernelspec": {
      "name": "python3",
      "display_name": "Python 3"
    },
    "language_info": {
      "name": "python"
    }
  },
  "cells": [
    {
      "cell_type": "markdown",
      "source": [
        "# 1. Define a class with a generator which can iterate the numbers, which are divisible by 7, between a given range 0 and n. ?"
      ],
      "metadata": {
        "id": "VRO-20fTOLdr"
      }
    },
    {
      "cell_type": "code",
      "execution_count": 2,
      "metadata": {
        "colab": {
          "base_uri": "https://localhost:8080/"
        },
        "id": "B1bAwfdULkVX",
        "outputId": "be7a5614-a583-41e3-b625-bb3de39fafe5"
      },
      "outputs": [
        {
          "output_type": "stream",
          "name": "stdout",
          "text": [
            "0 7 14 21 28 35 42 49 56 63 70 77 84 91 98 105 112 119 126 133 140 147 154 161 168 175 182 189 196 203 210 217 224 231 238 245 252 259 266 273 280 287 294 301 308 315 322 329 336 343 350 "
          ]
        }
      ],
      "source": [
        "class divgenerator:\n",
        "  def __init__(self,in_num):\n",
        "    self.in_num=in_num\n",
        "  def get_number(self):\n",
        "    for ele in range(0,self.in_num+1):\n",
        "      if ele%7==0:\n",
        "        yield ele\n",
        "output=divgenerator(350)\n",
        "for ele in output.get_number():\n",
        "  print(ele,end=' ')\n"
      ]
    },
    {
      "cell_type": "markdown",
      "source": [
        "# 2.Write a program to compute the frequency of the words from the input. The output should output after sorting the key alphanumerically.\n",
        "# Suppose the following input is supplied to the program:\n",
        "# New to Python or choosing between Python 2 and Python 3? Read Python 2 or Python 3.\n",
        "# Then, the output should be:\n",
        "# 2:2 3.:1 3?:1 New:1 Python:5 Read:1 and:1 between:1 choosing:1 or:2 to:1"
      ],
      "metadata": {
        "id": "Vi2w5kmWSX9p"
      }
    },
    {
      "cell_type": "code",
      "source": [
        "def checkFrequency():\n",
        "  in_string=input(\"Enter a string :\")\n",
        "  frequency={}\n",
        "  for ele in in_string.split(\" \"):\n",
        "    if (frequency.get(ele)==None):\n",
        "      frequency[ele]=1\n",
        "    else:\n",
        "      frequency[ele]+=1\n",
        "  for ele in sorted(frequency):\n",
        "    print(f'{ele}:{frequency[ele]}',end=' ')\n",
        "checkFrequency()"
      ],
      "metadata": {
        "colab": {
          "base_uri": "https://localhost:8080/"
        },
        "id": "smcIOW7BQ2v0",
        "outputId": "69ac9afa-68c6-4c89-b338-0247f1de1c83"
      },
      "execution_count": 3,
      "outputs": [
        {
          "output_type": "stream",
          "name": "stdout",
          "text": [
            "Enter a string :New to Python or choosing between Python 2 and Python 3? Read Python 2 or Python 3.\n",
            "2:2 3.:1 3?:1 New:1 Python:5 Read:1 and:1 between:1 choosing:1 or:2 to:1 "
          ]
        }
      ]
    },
    {
      "cell_type": "markdown",
      "source": [
        "# 3.Define a class Person and its two child classes: Male and Female. All classes have a method \"getGender\" which can print \"Male\" for Male class and \"Female\" for Female class. ?"
      ],
      "metadata": {
        "id": "oUiRB2m3SsXK"
      }
    },
    {
      "cell_type": "code",
      "source": [
        "class Person():\n",
        "  def getGender():\n",
        "    pass\n",
        "class Male(Person):\n",
        "  def getGender():\n",
        "    print('Male')\n",
        "class Female(Person):\n",
        "    def getGender():\n",
        "      print('Female')\n",
        "Male.getGender()\n",
        "Female.getGender()"
      ],
      "metadata": {
        "colab": {
          "base_uri": "https://localhost:8080/"
        },
        "id": "jhUKlwHxSulA",
        "outputId": "fea08e5c-5459-44f2-f7bb-987299029ab8"
      },
      "execution_count": 5,
      "outputs": [
        {
          "output_type": "stream",
          "name": "stdout",
          "text": [
            "Male\n",
            "Female\n"
          ]
        }
      ]
    },
    {
      "cell_type": "markdown",
      "source": [
        "# 4.Please write a program to generate all sentences where subject is in [\"I\", \"You\"] and verb is in [\"Play\", \"Love\"] and the object is in [\"Hockey\",\"Football\"] ?"
      ],
      "metadata": {
        "id": "X4IzOHh4V6LR"
      }
    },
    {
      "cell_type": "code",
      "source": [
        "def generatesentences():\n",
        "  subject=[\"I\", \"You\"]\n",
        "  verb= [\"Play\", \"Love\"]\n",
        "  objects=[\"Hockey\",\"Football\"]\n",
        "  for s in subject:\n",
        "    for v in verb:\n",
        "      for o in objects:\n",
        "        print(f'{s} {v} {o}')\n",
        "generatesentences()"
      ],
      "metadata": {
        "colab": {
          "base_uri": "https://localhost:8080/"
        },
        "id": "3Erfsa6qV8uR",
        "outputId": "f029acef-b0b3-4d36-d811-d7cbe2e701c6"
      },
      "execution_count": 7,
      "outputs": [
        {
          "output_type": "stream",
          "name": "stdout",
          "text": [
            "I Play Hockey\n",
            "I Play Football\n",
            "I Love Hockey\n",
            "I Love Football\n",
            "You Play Hockey\n",
            "You Play Football\n",
            "You Love Hockey\n",
            "You Love Football\n"
          ]
        }
      ]
    },
    {
      "cell_type": "markdown",
      "source": [
        "# 5.Please write a program to compress and decompress the string \"hello world!hello world!hello world!hello world!\" ?"
      ],
      "metadata": {
        "id": "e3mOSaQuZDS_"
      }
    },
    {
      "cell_type": "code",
      "source": [
        "import gzip\n",
        "\n",
        "def compress_string(string):\n",
        "    encoded_string = string.encode('utf-8')\n",
        "    compressed_data = gzip.compress(encoded_string)\n",
        "    return compressed_data\n",
        "\n",
        "def decompress_string(compressed_data):\n",
        "    decoded_data = gzip.decompress(compressed_data)\n",
        "    decompressed_string = decoded_data.decode('utf-8')\n",
        "    return decompressed_string\n",
        "\n",
        "# Example usage\n",
        "original_string = 'hello world!hello world!hello world!hello world!'\n",
        "compressed_data = compress_string(original_string)\n",
        "decompressed_string = decompress_string(compressed_data)\n",
        "\n",
        "print('Original string:', original_string)\n",
        "print('Compressed data:', compressed_data)\n",
        "print('Decompressed string:', decompressed_string)\n"
      ],
      "metadata": {
        "colab": {
          "base_uri": "https://localhost:8080/"
        },
        "id": "DTWgkUF8XoRM",
        "outputId": "8f7e4229-41a0-46dc-ac4b-29b13bfdf247"
      },
      "execution_count": 8,
      "outputs": [
        {
          "output_type": "stream",
          "name": "stdout",
          "text": [
            "Original string: hello world!hello world!hello world!hello world!\n",
            "Compressed data: b'\\x1f\\x8b\\x08\\x00\\xaf\\x01Gd\\x02\\xff\\xcbH\\xcd\\xc9\\xc9W(\\xcf/\\xcaIQ\\xcc \\x82\\r\\x00\\xd3\\xe6\\xcf\\xae0\\x00\\x00\\x00'\n",
            "Decompressed string: hello world!hello world!hello world!hello world!\n"
          ]
        }
      ]
    },
    {
      "cell_type": "markdown",
      "source": [
        "# 6.Please write a binary search function which searches an item in a sorted list. The function should return the index of element to be searched in the list ?"
      ],
      "metadata": {
        "id": "7wvF2gTcaZ85"
      }
    },
    {
      "cell_type": "code",
      "source": [
        "sorted_list=[1,2,3,4,5,6,7,8,9]\n",
        "def binary_search(in_list,in_num):\n",
        "  low=0\n",
        "  high=len(in_list)-1\n",
        "  while low<=high:\n",
        "    mid=high+low//2\n",
        "    if in_list[mid]<in_num:\n",
        "      low=mid+1\n",
        "    elif in_list[mid]>in_num:\n",
        "      high=mid-1\n",
        "    else:\n",
        "      return mid\n",
        "  else:\n",
        "    return 'input element not in list'\n",
        "print(binary_search(sorted_list,8))\n",
        "print(binary_search(sorted_list,100))"
      ],
      "metadata": {
        "colab": {
          "base_uri": "https://localhost:8080/"
        },
        "id": "bUIa_S63ZPNI",
        "outputId": "41351ed0-76e5-4045-fce0-521a8df88162"
      },
      "execution_count": 2,
      "outputs": [
        {
          "output_type": "stream",
          "name": "stdout",
          "text": [
            "7\n",
            "input element not in list\n"
          ]
        }
      ]
    }
  ]
}