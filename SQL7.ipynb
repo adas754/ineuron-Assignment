{
  "nbformat": 4,
  "nbformat_minor": 0,
  "metadata": {
    "colab": {
      "name": "SQL7.ipynb",
      "provenance": []
    },
    "kernelspec": {
      "name": "python3",
      "display_name": "Python 3"
    },
    "language_info": {
      "name": "python"
    }
  },
  "cells": [
    {
      "cell_type": "markdown",
      "source": [
        "Q-13. Write an SQL query to show only odd rows from a table.\n"
      ],
      "metadata": {
        "id": "QzpYPGqSBT9p"
      }
    },
    {
      "cell_type": "markdown",
      "source": [
        "SELECT*FROM WORKER WHERE MOD (WORKER_ID,2)=1;"
      ],
      "metadata": {
        "id": "UGnsPRdABYSu"
      }
    },
    {
      "cell_type": "markdown",
      "source": [
        "Q-14. Write an SQL query to clone a new table from another table.\n"
      ],
      "metadata": {
        "id": "3b4yyo3QB2CP"
      }
    },
    {
      "cell_type": "markdown",
      "source": [
        "SELECT*INTO WORKERCLONE FROM WORKER;"
      ],
      "metadata": {
        "id": "sY2mo0JZB96X"
      }
    }
  ]
}