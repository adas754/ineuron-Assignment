{
  "nbformat": 4,
  "nbformat_minor": 0,
  "metadata": {
    "colab": {
      "name": "Programming_Assingment11.ipynb",
      "provenance": []
    },
    "kernelspec": {
      "name": "python3",
      "display_name": "Python 3"
    },
    "language_info": {
      "name": "python"
    }
  },
  "cells": [
    {
      "cell_type": "markdown",
      "source": [
        "Write a Python program to find words which are greater than given length k?\n"
      ],
      "metadata": {
        "id": "rmNeQd4pRwgO"
      }
    },
    {
      "cell_type": "code",
      "execution_count": 1,
      "metadata": {
        "id": "X9-PLEGhRcSY"
      },
      "outputs": [],
      "source": [
        "\n",
        "def greaterthan(sentense):\n",
        "    words = []\n",
        "    split = sentense.split(\" \")\n",
        "    print(split)\n",
        "    k = int(input(\"Enter length: \"))\n",
        "    for i in split:\n",
        "        if len(i)>k:\n",
        "            words.append(i)\n",
        "    return words\n",
        "    "
      ]
    },
    {
      "cell_type": "code",
      "source": [
        "greaterthan(\"hello world how are you\")"
      ],
      "metadata": {
        "colab": {
          "base_uri": "https://localhost:8080/"
        },
        "id": "Zh8Hc7psbTNm",
        "outputId": "88433c8f-0c2f-4033-8790-fd074b8ad4a9"
      },
      "execution_count": 2,
      "outputs": [
        {
          "name": "stdout",
          "output_type": "stream",
          "text": [
            "['hello', 'world', 'how', 'are', 'you']\n",
            "Enter length: 4\n"
          ]
        },
        {
          "output_type": "execute_result",
          "data": {
            "text/plain": [
              "['hello', 'world']"
            ]
          },
          "metadata": {},
          "execution_count": 2
        }
      ]
    },
    {
      "cell_type": "markdown",
      "source": [
        "2. Write a Python program for removing i-th character from a string?"
      ],
      "metadata": {
        "id": "ai9T7B11V9WG"
      }
    },
    {
      "cell_type": "code",
      "source": [
        "def removeCharacter():\n",
        "    in_string = input(\"Enter the String: \")\n",
        "    in_char_num = int(input(\"Enter the ith Character: \"))\n",
        "    out_string = ''\n",
        "    for ele in range(len(in_string)):\n",
        "        if ele != in_char_num:\n",
        "            out_string = out_string + in_string[ele]\n",
        "    print(out_string)\n",
        "    \n",
        "removeCharacter()"
      ],
      "metadata": {
        "colab": {
          "base_uri": "https://localhost:8080/"
        },
        "id": "V4P3R27Kbphq",
        "outputId": "e20a2989-80f9-4350-9261-5ccb583a0804"
      },
      "execution_count": 8,
      "outputs": [
        {
          "output_type": "stream",
          "name": "stdout",
          "text": [
            "Enter the String: munai\n",
            "Enter the ith Character: 2\n",
            "muai\n"
          ]
        }
      ]
    },
    {
      "cell_type": "markdown",
      "source": [
        "3. Write a Python program to split and join a string?"
      ],
      "metadata": {
        "id": "ljRKgfRRc-WV"
      }
    },
    {
      "cell_type": "code",
      "source": [
        "def splitJoinString():\n",
        "    in_string = input('Enter the string: ')\n",
        "    print(f\"Split String: {in_string.split(' ')}\")\n",
        "    print(f\"Join String: {' '.join(in_string.split(' '))}\")\n",
        "\n",
        "splitJoinString()"
      ],
      "metadata": {
        "colab": {
          "base_uri": "https://localhost:8080/"
        },
        "id": "2hceDqUtb7W0",
        "outputId": "2528d4d2-212a-44cf-a477-ef4bb0c66ef9"
      },
      "execution_count": 9,
      "outputs": [
        {
          "output_type": "stream",
          "name": "stdout",
          "text": [
            "Enter the string: i am munai\n",
            "Split String: ['i', 'am', 'munai']\n",
            "Join String: i am munai\n"
          ]
        }
      ]
    },
    {
      "cell_type": "markdown",
      "source": [
        "4. Write a Python to check if a given string is binary string or not?"
      ],
      "metadata": {
        "id": "6H819FBAnhE7"
      }
    },
    {
      "cell_type": "code",
      "source": [
        "def checkBinary():\n",
        "    in_string = input('Enter the string: ')\n",
        "    stun = 0\n",
        "    for ele in in_string:\n",
        "        if ele in ['0','1']:\n",
        "            stun = 1\n",
        "            continue\n",
        "        else:\n",
        "            stun = 0\n",
        "            break\n",
        "    statement = 'is a binary string' if stun == 1 else 'is not a binart string' \n",
        "    print(f'{in_string} {statement}')\n",
        "\n",
        "checkBinary()\n",
        "checkBinary()"
      ],
      "metadata": {
        "colab": {
          "base_uri": "https://localhost:8080/"
        },
        "id": "r6WQnNaVpez9",
        "outputId": "99cbff3b-d26a-4044-de6e-ee9aefb6cfe7"
      },
      "execution_count": 10,
      "outputs": [
        {
          "output_type": "stream",
          "name": "stdout",
          "text": [
            "Enter the string: i am munai\n",
            "i am munai is not a binart string\n",
            "Enter the string: 0111111\n",
            "0111111 is a binary string\n"
          ]
        }
      ]
    },
    {
      "cell_type": "markdown",
      "source": [
        "5. Write a Python program to find uncommon words from two Strings?"
      ],
      "metadata": {
        "id": "SlboesEStMbl"
      }
    },
    {
      "cell_type": "code",
      "source": [
        "def unCommonWords():\n",
        "    in_string_1 = set(input(\"Enter the String 1: \").split(' '))\n",
        "    in_string_2 = set(input(\"Enter the String 2: \").split(' '))\n",
        "    out_string = (in_string_1.union(in_string_2)).difference(in_string_1.intersection(in_string_2))\n",
        "    print(out_string)\n",
        "\n",
        "unCommonWords()"
      ],
      "metadata": {
        "colab": {
          "base_uri": "https://localhost:8080/"
        },
        "id": "n04vynp1tV9E",
        "outputId": "b5fe1d98-af47-4d0b-a485-d5d8d4eda7e4"
      },
      "execution_count": 11,
      "outputs": [
        {
          "output_type": "stream",
          "name": "stdout",
          "text": [
            "Enter the String 1: hi munai\n",
            "Enter the String 2: hi monu\n",
            "{'munai', 'monu'}\n"
          ]
        }
      ]
    },
    {
      "cell_type": "markdown",
      "source": [
        "6. Write a Python to find all duplicate characters in string?"
      ],
      "metadata": {
        "id": "MWNWO4ETwpgl"
      }
    },
    {
      "cell_type": "code",
      "source": [
        "def duplicateChars():\n",
        "    in_string = input('Enter the string: ')\n",
        "    non_duplicate_list = []\n",
        "    duplicate_list = []\n",
        "    for ele in in_string:\n",
        "        if ele not in non_duplicate_list:\n",
        "            non_duplicate_list.append(ele)\n",
        "        else:\n",
        "            duplicate_list.append(ele)\n",
        "    print(f'Duplicate characters are: {list(set(duplicate_list))}')\n",
        "        \n",
        "duplicateChars()"
      ],
      "metadata": {
        "colab": {
          "base_uri": "https://localhost:8080/"
        },
        "id": "hiPP4C6Qxbkc",
        "outputId": "13606530-5864-4d67-ee80-5a449945048d"
      },
      "execution_count": 12,
      "outputs": [
        {
          "output_type": "stream",
          "name": "stdout",
          "text": [
            "Enter the string: hi monu munai\n",
            "Duplicate characters are: ['u', 'm', ' ', 'i', 'n']\n"
          ]
        }
      ]
    },
    {
      "cell_type": "markdown",
      "source": [
        "7. Write a Python Program to check if a string contains any special character?"
      ],
      "metadata": {
        "id": "yPXYKBAcyU2k"
      }
    },
    {
      "cell_type": "code",
      "source": [
        "def checkSpecialChar():\n",
        "    spl_chars = '[@_!#$%^&*()<>?/\\|}{~:]'\n",
        "    in_num = input('Enter the string: ')\n",
        "    count = 0\n",
        "    char_list = []\n",
        "    for ele in in_num:\n",
        "        if ele in spl_chars:\n",
        "            char_list.append(ele)\n",
        "            count = count+1\n",
        "    print(f'There are {count} Speical Characters in {in_num} which are {char_list}')\n",
        "            \n",
        "        \n",
        "checkSpecialChar()\n"
      ],
      "metadata": {
        "colab": {
          "base_uri": "https://localhost:8080/"
        },
        "id": "b1kJmarUyckj",
        "outputId": "648567a3-038f-4bc1-9449-7f8e5e000842"
      },
      "execution_count": 14,
      "outputs": [
        {
          "output_type": "stream",
          "name": "stdout",
          "text": [
            "Enter the string: i@am#munai\n",
            "There are 2 Speical Characters in i@am#munai which are ['@', '#']\n"
          ]
        }
      ]
    }
  ]
}