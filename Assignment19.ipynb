{
  "nbformat": 4,
  "nbformat_minor": 0,
  "metadata": {
    "colab": {
      "provenance": []
    },
    "kernelspec": {
      "name": "python3",
      "display_name": "Python 3"
    },
    "language_info": {
      "name": "python"
    }
  },
  "cells": [
    {
      "cell_type": "markdown",
      "source": [
        "#1. Create a checker board generator, which takes as inputs n and 2 elements\n",
        "to generate an n x n checkerboard with those two elements as alternating\n",
        "squares.\n",
        "Examples\n",
        "\n",
        "checker_board(2, 7, 6) ➞ [\n",
        "[7, 6],\n",
        "[6, 7]\n",
        "]\n",
        "\n",
        "\n",
        "checker_board(3, &quot;A&quot;, &quot;B&quot;) \n",
        "➞ [\n",
        "[&quot;A&quot;, &quot;B&quot;, &quot;A&quot;],\n",
        "\n",
        "[&quot;B&quot;, &quot;A&quot;, &quot;B&quot;],\n",
        "\n",
        "[&quot;A&quot;, &quot;B&quot;, &quot;A&quot;]\n",
        "\n",
        "]\n",
        "\n",
        "checker_board(4, &quot;c&quot;, &quot;d&quot;) ➞ [\n",
        "\n",
        "[&quot;c&quot;, &quot;d&quot;, &quot;c&quot;, &quot;d&quot;],\n",
        "\n",
        "[&quot;d&quot;, &quot;c&quot;, &quot;d&quot;, &quot;c&quot;],\n",
        "\n",
        "[&quot;c&quot;, &quot;d&quot;, &quot;c&quot;, &quot;d&quot;],\n",
        "\n",
        "[&quot;d&quot;, &quot;c&quot;, &quot;d&quot;, &quot;c&quot;]\n",
        "]\n",
        "\n",
        "checker_board(4, &quot;c&quot;, &quot;c&quot;) ➞ &quot;invalid&quot;"
      ],
      "metadata": {
        "id": "4w7U9nud4NkK"
      }
    },
    {
      "cell_type": "code",
      "execution_count": 3,
      "metadata": {
        "id": "u6ym5KOs4IUO"
      },
      "outputs": [],
      "source": [
        "def checker_board(grid_size,in_one,in_two):\n",
        "  if in_one!=in_two:\n",
        "    input=[in_one,in_two]\n",
        "    output=[]\n",
        "    for ele_1 in range(grid_size):\n",
        "      output.append([])\n",
        "      for ele_2 in range(grid_size):\n",
        "        output[ele_1].append(input[(ele_1+ele_2)%2])\n",
        "  else:\n",
        "    output='invalid'\n",
        "  print(f'checker_board{grid_size,in_one,in_two}->{output}')"
      ]
    },
    {
      "cell_type": "code",
      "source": [
        "checker_board(2, 7, 6)"
      ],
      "metadata": {
        "colab": {
          "base_uri": "https://localhost:8080/"
        },
        "id": "bsP2arD6-sSu",
        "outputId": "6741411b-4fc6-4d49-e75d-195910658683"
      },
      "execution_count": 4,
      "outputs": [
        {
          "output_type": "stream",
          "name": "stdout",
          "text": [
            "checker_board(2, 7, 6)->[[7, 6], [6, 7]]\n"
          ]
        }
      ]
    },
    {
      "cell_type": "code",
      "source": [
        "checker_board(3, \"A\", \"B\")"
      ],
      "metadata": {
        "colab": {
          "base_uri": "https://localhost:8080/"
        },
        "id": "Q3PLMfia_Bcv",
        "outputId": "f2461063-8f37-4434-8653-0634643b1cab"
      },
      "execution_count": 5,
      "outputs": [
        {
          "output_type": "stream",
          "name": "stdout",
          "text": [
            "checker_board(3, 'A', 'B')->[['A', 'B', 'A'], ['B', 'A', 'B'], ['A', 'B', 'A']]\n"
          ]
        }
      ]
    },
    {
      "cell_type": "code",
      "source": [
        "checker_board(4, \"c\", \"d\") "
      ],
      "metadata": {
        "colab": {
          "base_uri": "https://localhost:8080/"
        },
        "id": "E29-l6Yx_F-O",
        "outputId": "2b04bc7a-1257-4cb2-d245-842050727af8"
      },
      "execution_count": 6,
      "outputs": [
        {
          "output_type": "stream",
          "name": "stdout",
          "text": [
            "checker_board(4, 'c', 'd')->[['c', 'd', 'c', 'd'], ['d', 'c', 'd', 'c'], ['c', 'd', 'c', 'd'], ['d', 'c', 'd', 'c']]\n"
          ]
        }
      ]
    },
    {
      "cell_type": "code",
      "source": [
        "checker_board(4, \"c\", \"c\")"
      ],
      "metadata": {
        "colab": {
          "base_uri": "https://localhost:8080/"
        },
        "id": "kMwk70Di_MSF",
        "outputId": "b37ca15b-4aee-4430-d9d7-97de5d0364d5"
      },
      "execution_count": 7,
      "outputs": [
        {
          "output_type": "stream",
          "name": "stdout",
          "text": [
            "checker_board(4, 'c', 'c')->invalid\n"
          ]
        }
      ]
    },
    {
      "cell_type": "markdown",
      "source": [
        "# 2. A string is an almost-palindrome if, by changing only one character, you can make it a palindrome. Create a function that returns True if a string is an almost-palindrome and False otherwise.\n",
        "\n",
        "Examples\n",
        "\n",
        "#almost_palindrome(\"abcdcbg\") ➞ True\n",
        "# Transformed to \"abcdcba\" by changing \"g\" to \"a\".\n",
        "\n",
        "#almost_palindrome(\"abccia\") ➞ True\n",
        "# Transformed to \"abccba\" by changing \"i\" to \"b\".\n",
        "\n",
        "#almost_palindrome(\"abcdaaa\") ➞ False\n",
        "# Can't be transformed to a palindrome in exactly 1 turn.\n",
        "\n",
        "#almost_palindrome(\"1234312\") ➞ False\n"
      ],
      "metadata": {
        "id": "zV1GUhIJ_Og9"
      }
    },
    {
      "cell_type": "code",
      "source": [
        "def almost_palindrome(in_string):\n",
        "  in_string_rev=in_string[::-1]\n",
        "  count=0\n",
        "  for ele in range(len(in_string)):\n",
        "    if in_string[ele]!=in_string_rev[ele]:\n",
        "      count+=1\n",
        "  output=True if count==2 else False\n",
        "  print(f'almost_palindrome({in_string})->{output}')\n",
        "almost_palindrome(\"abcdcbg\")\n",
        "almost_palindrome(\"abccia\") \n",
        "almost_palindrome(\"abcdaaa\") \n",
        "almost_palindrome(\"1234312\") "
      ],
      "metadata": {
        "colab": {
          "base_uri": "https://localhost:8080/"
        },
        "id": "Mk09zUaa_n0_",
        "outputId": "3003d3ce-58f0-4bfc-a057-970d46452385"
      },
      "execution_count": 10,
      "outputs": [
        {
          "output_type": "stream",
          "name": "stdout",
          "text": [
            "almost_palindrome(abcdcbg)->True\n",
            "almost_palindrome(abccia)->True\n",
            "almost_palindrome(abcdaaa)->False\n",
            "almost_palindrome(1234312)->False\n"
          ]
        }
      ]
    },
    {
      "cell_type": "markdown",
      "source": [
        "# 3. Create a function that finds how many prime numbers there are, up to the given integer.\n",
        "\n",
        "Examples\n",
        "\n",
        "# prime_numbers(10) ➞ 4\n",
        "# 2, 3, 5 and 7\n",
        "\n",
        "# prime_numbers(20) ➞ 8\n",
        "# 2, 3, 5, 7, 11, 13, 17 and 19\n",
        "\n",
        "# prime_numbers(30) ➞ 10\n",
        "# 2, 3, 5, 7, 11, 13, 17, 19, 23 and 29\n"
      ],
      "metadata": {
        "id": "xcjzSkkgC7ef"
      }
    },
    {
      "cell_type": "code",
      "source": [
        "def prime_numbers(n):\n",
        "  count=0\n",
        "  for i in range(2,n+1):\n",
        "      is_prime=True\n",
        "      for j in range(2,int(i**0.5)+1):\n",
        "          if i%j==0:\n",
        "             is_prime=False\n",
        "             break\n",
        "      if is_prime:\n",
        "        count+=1\n",
        "  return count\n",
        "prime_numbers(10)"
      ],
      "metadata": {
        "colab": {
          "base_uri": "https://localhost:8080/"
        },
        "id": "DbraYLUTDQP6",
        "outputId": "c7337907-35cf-4cb2-9a33-e0b6c84bd3f1"
      },
      "execution_count": 18,
      "outputs": [
        {
          "output_type": "execute_result",
          "data": {
            "text/plain": [
              "4"
            ]
          },
          "metadata": {},
          "execution_count": 18
        }
      ]
    },
    {
      "cell_type": "code",
      "source": [
        "prime_numbers(20)"
      ],
      "metadata": {
        "colab": {
          "base_uri": "https://localhost:8080/"
        },
        "id": "fwCMRsGyDiJk",
        "outputId": "97b7696a-6670-4237-93b7-34fd784fbd3d"
      },
      "execution_count": 19,
      "outputs": [
        {
          "output_type": "execute_result",
          "data": {
            "text/plain": [
              "8"
            ]
          },
          "metadata": {},
          "execution_count": 19
        }
      ]
    },
    {
      "cell_type": "code",
      "source": [
        "prime_numbers(30)"
      ],
      "metadata": {
        "colab": {
          "base_uri": "https://localhost:8080/"
        },
        "id": "eCSNtJ9JDuIG",
        "outputId": "18c0cd80-f850-44b1-9741-1e75f6d2d6a3"
      },
      "execution_count": 21,
      "outputs": [
        {
          "output_type": "execute_result",
          "data": {
            "text/plain": [
              "10"
            ]
          },
          "metadata": {},
          "execution_count": 21
        }
      ]
    },
    {
      "cell_type": "markdown",
      "source": [
        "# 4. If today was Monday, in two days, it would be Wednesday.\n",
        "\n",
        "# Create a function that takes in a list of days as input and the number of days to increment by. Return a list of days after n number of days has passed.\n",
        "\n",
        "# Examples\n",
        "\n",
        "# after_n_days([\"Thursday\", \"Monday\"], 4) ➞ [\"Monday\", \"Friday\"]\n",
        "\n",
        "# after_n_days([\"Sunday\", \"Sunday\", \"Sunday\"], 1) ➞ [\"Monday\", \"Monday\", \"Monday\"]\n",
        "\n",
        "# after_n_days([\"Monday\", \"Tuesday\", \"Friday\"], 1) ➞ [\"Tuesday\", \"Wednesday\", \"Saturday\"]\n",
        "\n"
      ],
      "metadata": {
        "id": "a_YIwQSaRyrZ"
      }
    },
    {
      "cell_type": "code",
      "source": [
        "def after_n_days(in_list,in_num):\n",
        "  week_dict={0:'Sunday',1:'Monday',2:'Tuesday',3:'Wednesday',4:'Thursday',5:'Friday',6:'Saturday'}\n",
        "  week_days_no=list(week_dict.keys())\n",
        "  week_days_name=list(week_dict.values())\n",
        "  output=[]\n",
        "  for ele in in_list:\n",
        "      output.append(week_dict[(week_days_name.index(ele)+in_num)%7])\n",
        "  print(f'after_n_days{in_list,in_num}->{output}')\n",
        "after_n_days([\"Thursday\", \"Monday\"], 4)\n",
        "after_n_days([\"Sunday\", \"Sunday\", \"Sunday\"], 1)\n",
        "after_n_days([\"Monday\", \"Tuesday\", \"Friday\"], 1)"
      ],
      "metadata": {
        "colab": {
          "base_uri": "https://localhost:8080/"
        },
        "id": "64LKBHp8SORZ",
        "outputId": "afd71d6b-d819-4e9a-b061-164895d45e80"
      },
      "execution_count": 34,
      "outputs": [
        {
          "output_type": "stream",
          "name": "stdout",
          "text": [
            "after_n_days(['Thursday', 'Monday'], 4)->['Monday', 'Friday']\n",
            "after_n_days(['Sunday', 'Sunday', 'Sunday'], 1)->['Monday', 'Monday', 'Monday']\n",
            "after_n_days(['Monday', 'Tuesday', 'Friday'], 1)->['Tuesday', 'Wednesday', 'Saturday']\n"
          ]
        }
      ]
    },
    {
      "cell_type": "markdown",
      "source": [
        "\n",
        "# 5. You are in the process of creating a chat application and want to add an anonymous name feature. This anonymous name feature will create an alias that consists of two capitalized words beginning with the same letter as the users first name.\n",
        "\n",
        "# Create a function that determines if the list of users is mapped to a list of anonymous names correctly.\n",
        "\n",
        "Examples\n",
        "\n",
        "# is_correct_aliases([\"Adrian M.\", \"Harriet S.\", \"Mandy T.\"], [\"Amazing Artichoke\", \"Hopeful Hedgehog\", \"Marvelous Mouse\"]) ➞ True\n",
        "\n",
        "# is_correct_aliases([\"Rachel F.\", \"Pam G.\", \"Fred Z.\", \"Nancy K.\"], [\"Reassuring Rat\", \"Peaceful Panda\", \"Fantastic Frog\", \"Notable Nickel\"]) ➞ True\n",
        "\n",
        "# is_correct_aliases([\"Beth T.\"], [\"Brandishing Mimosa\"]) ➞ False\n",
        "# Both words in \"Brandishing Mimosa\" should begin with a \"B\" - \"Brandishing Beaver\" would do the trick.\n",
        "\n",
        "\n",
        "\n",
        "\n",
        "\n",
        "\n"
      ],
      "metadata": {
        "id": "n3XcHeiakTTH"
      }
    },
    {
      "cell_type": "code",
      "source": [
        "from ast import In\n",
        "def is_correct_aliases(in_list_one,in_list_two):\n",
        "    output=False\n",
        "    if len(in_list_one)==len(in_list_two):\n",
        "        for ele in range(len(in_list_one)):\n",
        "            if in_list_one[ele].split(\" \")[0][0]==in_list_two[ele].split(\" \")[0][0]==in_list_two[ele].split(\" \")[1][0]:\n",
        "                 output=True\n",
        "            else:\n",
        "              output=False\n",
        "              break\n",
        "    print(f'is_correct_aliases{in_list_one,in_list_two}->{output}')"
      ],
      "metadata": {
        "id": "-Q6J-AANvfXw"
      },
      "execution_count": 38,
      "outputs": []
    },
    {
      "cell_type": "code",
      "source": [
        "is_correct_aliases([\"Beth T.\"],[\"Brandishing Mimosa\"])\n",
        "is_correct_aliases([\"Adrian M.\",\"Harriet S.\",\"Mandy T.\"], [\"Amazing Artichoke\", \"Hopeful Hedgehog\", \"Marvelous Mouse\"])\n",
        "is_correct_aliases([\"Rachel F.\",\"Pam G.\",\"Fred Z.\",\"Nancy K.\"], [\"Reassuring Rat\", \"Peaceful Panda\", \"Fantastic Frog\", \"Notable Nickel\"])"
      ],
      "metadata": {
        "colab": {
          "base_uri": "https://localhost:8080/"
        },
        "id": "0RPDTMwBx_bD",
        "outputId": "510ad922-2c65-463b-803e-45e3c68901d5"
      },
      "execution_count": 39,
      "outputs": [
        {
          "output_type": "stream",
          "name": "stdout",
          "text": [
            "is_correct_aliases(['Beth T.'], ['Brandishing Mimosa'])->False\n",
            "is_correct_aliases(['Adrian M.', 'Harriet S.', 'Mandy T.'], ['Amazing Artichoke', 'Hopeful Hedgehog', 'Marvelous Mouse'])->True\n",
            "is_correct_aliases(['Rachel F.', 'Pam G.', 'Fred Z.', 'Nancy K.'], ['Reassuring Rat', 'Peaceful Panda', 'Fantastic Frog', 'Notable Nickel'])->True\n"
          ]
        }
      ]
    }
  ]
}