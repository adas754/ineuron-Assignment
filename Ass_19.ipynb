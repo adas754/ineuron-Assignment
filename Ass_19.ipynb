{
  "nbformat": 4,
  "nbformat_minor": 0,
  "metadata": {
    "colab": {
      "provenance": []
    },
    "kernelspec": {
      "name": "python3",
      "display_name": "Python 3"
    },
    "language_info": {
      "name": "python"
    }
  },
  "cells": [
    {
      "cell_type": "code",
      "execution_count": 2,
      "metadata": {
        "colab": {
          "base_uri": "https://localhost:8080/"
        },
        "id": "hM__95gQ6zxn",
        "outputId": "eed12f7b-654d-4dc9-e286-a56f2e755a6c"
      },
      "outputs": [
        {
          "output_type": "stream",
          "name": "stdout",
          "text": [
            "->ssttrriinngg\n",
            "➞ HHeelllloo  WWoorrlldd!!\n",
            "➞ 11223344!!__\n"
          ]
        }
      ],
      "source": [
        "def double_char(in_string):\n",
        "  out_string=''\n",
        "  for ele in in_string:\n",
        "    out_string+=ele*2\n",
        "  return out_string\n",
        "print(f'->{double_char(\"string\")}')\n",
        "print(f'➞ {double_char(\"Hello World!\")}')\n",
        "print(f'➞ {double_char(\"1234!_\")}')"
      ]
    },
    {
      "cell_type": "code",
      "source": [
        "def reverse(in_bool):\n",
        "  if type(in_bool)==bool:\n",
        "    return not in_bool\n",
        "  else:\n",
        "    return 'Boolean Expected'\n",
        "print(f'reverse(True)->{reverse(True)}')\n",
        "print(f'reverse(False) ➞ {reverse(False)}')\n",
        "print(f'reverse(0) ➞ {reverse(0)}')\n",
        "print(f'reverse(None) ➞ {reverse(None)}')"
      ],
      "metadata": {
        "colab": {
          "base_uri": "https://localhost:8080/"
        },
        "id": "_Q26qqiJ9g1o",
        "outputId": "2487f4c2-737d-45ac-c310-1ec42e178548"
      },
      "execution_count": 4,
      "outputs": [
        {
          "output_type": "stream",
          "name": "stdout",
          "text": [
            "reverse(True)->False\n",
            "reverse(False) ➞ True\n",
            "reverse(0) ➞ Boolean Expected\n",
            "reverse(None) ➞ Boolean Expected\n"
          ]
        }
      ]
    },
    {
      "cell_type": "code",
      "source": [
        "def num_layers(in_num):\n",
        "  out_num=0.5\n",
        "  for ele in range(in_num):\n",
        "    out_num*=2\n",
        "  print(f'output->{out_num/1000}m')\n",
        "num_layers(1)\n",
        "num_layers(4)\n",
        "num_layers(21)"
      ],
      "metadata": {
        "colab": {
          "base_uri": "https://localhost:8080/"
        },
        "id": "bfkyhw9zAVcX",
        "outputId": "59b77207-81d7-40ce-9291-03bedf718efd"
      },
      "execution_count": 7,
      "outputs": [
        {
          "output_type": "stream",
          "name": "stdout",
          "text": [
            "output->0.001m\n",
            "output->0.008m\n",
            "output->1048.576m\n"
          ]
        }
      ]
    },
    {
      "cell_type": "code",
      "source": [
        "def index_of_caps(in_string):\n",
        "  out_string=[]\n",
        "  for ele in in_string:\n",
        "    if ele.isupper():\n",
        "      out_string.append(in_string.index(ele))\n",
        "  print(f'{in_string}->{out_string}')\n",
        "index_of_caps(\"eDaBiT\")\n",
        "index_of_caps(\"eQuINoX\")\n",
        "index_of_caps(\"determine\")\n",
        "index_of_caps(\"STRIKE\")\n",
        "index_of_caps(\"sUn\")"
      ],
      "metadata": {
        "colab": {
          "base_uri": "https://localhost:8080/"
        },
        "id": "8v_lmuOlCi-E",
        "outputId": "fe53a73a-7242-4716-ea1a-fda23482d029"
      },
      "execution_count": 8,
      "outputs": [
        {
          "output_type": "stream",
          "name": "stdout",
          "text": [
            "eDaBiT->[1, 3, 5]\n",
            "eQuINoX->[1, 3, 4, 6]\n",
            "determine->[]\n",
            "STRIKE->[0, 1, 2, 3, 4, 5]\n",
            "sUn->[1]\n"
          ]
        }
      ]
    },
    {
      "cell_type": "code",
      "source": [
        "def find_even_nums(in_num):\n",
        "  out_list=[i for i in range(1,in_num+1)if i%2==0]\n",
        "  print(f'output->{out_list}')\n",
        "find_even_nums(8)\n",
        "find_even_nums(4)\n",
        "find_even_nums(2)"
      ],
      "metadata": {
        "colab": {
          "base_uri": "https://localhost:8080/"
        },
        "id": "tyRY5eMaEbIU",
        "outputId": "993056a0-7c89-4ded-8b1b-432c7f3386a6"
      },
      "execution_count": 10,
      "outputs": [
        {
          "output_type": "stream",
          "name": "stdout",
          "text": [
            "output->[2, 4, 6, 8]\n",
            "output->[2, 4]\n",
            "output->[2]\n"
          ]
        }
      ]
    }
  ]
}