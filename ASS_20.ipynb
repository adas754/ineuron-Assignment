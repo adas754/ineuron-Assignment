{
  "nbformat": 4,
  "nbformat_minor": 0,
  "metadata": {
    "colab": {
      "provenance": []
    },
    "kernelspec": {
      "name": "python3",
      "display_name": "Python 3"
    },
    "language_info": {
      "name": "python"
    }
  },
  "cells": [
    {
      "cell_type": "markdown",
      "source": [
        "#Create a function that takes a list of strings and integers, and filters out the list so that it\n",
        "#returns a list of integers only.\n",
        "#Examples\n",
        "#filter_list([1, 2, 3, &quot;a&quot;, &quot;b&quot;, 4]) ➞ [1, 2, 3, 4]"
      ],
      "metadata": {
        "id": "OJ-RiV12YgL_"
      }
    },
    {
      "cell_type": "code",
      "source": [
        "def filter_list(in_list):\n",
        "  out_list=[]\n",
        "  for ele in in_list:\n",
        "    if type(ele)==int:\n",
        "      out_list.append(ele)\n",
        "  print(f'output -> {out_list}')\n",
        "filter_list([1, 2, 3, \"a\", \"b\", 4]) "
      ],
      "metadata": {
        "colab": {
          "base_uri": "https://localhost:8080/"
        },
        "id": "30gIOq8sYigI",
        "outputId": "4f0238dc-2ab7-4e0c-be39-2dbbf9c8fae9"
      },
      "execution_count": null,
      "outputs": [
        {
          "output_type": "stream",
          "name": "stdout",
          "text": [
            "output -> [1, 2, 3, 4]\n"
          ]
        }
      ]
    },
    {
      "cell_type": "markdown",
      "source": [
        "# 2.Given a list of numbers, create a function which returns the list but with each element's index in the list added to itself. This means you add 0 to the number at index 0, add 1 to the number at index 1, etc...\n",
        "\n",
        "# Examples:\n",
        "# add_indexes([0, 0, 0, 0, 0]) ➞ [0, 1, 2, 3, 4]\n",
        "# add_indexes([1, 2, 3, 4, 5]) ➞ [1, 3, 5, 7, 9]\n",
        "# add_indexes([5, 4, 3, 2, 1]) ➞ [5, 5, 5, 5, 5]"
      ],
      "metadata": {
        "id": "mzP-u9pXiG_k"
      }
    },
    {
      "cell_type": "code",
      "source": [
        "def add_indexes(in_list):\n",
        "  out_list=[]\n",
        "  for ele in range(len(in_list)):\n",
        "    out_list.append(ele+in_list[ele])\n",
        "  print(f'{in_list} -> {out_list}')\n",
        "add_indexes([0, 0, 0, 0, 0])"
      ],
      "metadata": {
        "colab": {
          "base_uri": "https://localhost:8080/"
        },
        "id": "pc7In1A-f93u",
        "outputId": "31ceb312-7f4e-4512-ef06-c9b66d76adea"
      },
      "execution_count": null,
      "outputs": [
        {
          "output_type": "stream",
          "name": "stdout",
          "text": [
            "[0, 0, 0, 0, 0] -> [0, 1, 2, 3, 4]\n"
          ]
        }
      ]
    },
    {
      "cell_type": "code",
      "source": [
        "add_indexes([1, 2, 3, 4, 5]) "
      ],
      "metadata": {
        "colab": {
          "base_uri": "https://localhost:8080/"
        },
        "id": "-7Z_8oNsichZ",
        "outputId": "18453a51-2e14-42f0-b72a-5ea3738999b6"
      },
      "execution_count": null,
      "outputs": [
        {
          "output_type": "stream",
          "name": "stdout",
          "text": [
            "[1, 2, 3, 4, 5] -> [1, 3, 5, 7, 9]\n"
          ]
        }
      ]
    },
    {
      "cell_type": "code",
      "source": [
        "add_indexes([5, 4, 3, 2, 1])"
      ],
      "metadata": {
        "colab": {
          "base_uri": "https://localhost:8080/"
        },
        "id": "8Pn861flig84",
        "outputId": "dca32762-886e-41b7-c7b8-7d71fe8f3bc3"
      },
      "execution_count": null,
      "outputs": [
        {
          "output_type": "stream",
          "name": "stdout",
          "text": [
            "[5, 4, 3, 2, 1] -> [5, 5, 5, 5, 5]\n"
          ]
        }
      ]
    },
    {
      "cell_type": "markdown",
      "source": [
        "# 3.Create a function that takes the height and radius of a cone as arguments and returns the volume of the cone rounded to the nearest hundredth. See the resources tab for the formula."
      ],
      "metadata": {
        "id": "eLIgK-mtnkQY"
      }
    },
    {
      "cell_type": "code",
      "source": [
        "import math\n",
        "def cube_volume(height,radius):\n",
        "  output=((math.pi)*(pow(radius,2)))*(height/3)\n",
        "  print(f'output -> {output:.2f}')\n",
        "cube_volume(3,2) \n",
        "cube_volume(15,6)    \n",
        "cube_volume(18,0)    "
      ],
      "metadata": {
        "colab": {
          "base_uri": "https://localhost:8080/"
        },
        "id": "bdhXxX49noaA",
        "outputId": "73a94d1e-fc5c-4740-b3e4-b67a5c677f81"
      },
      "execution_count": null,
      "outputs": [
        {
          "output_type": "stream",
          "name": "stdout",
          "text": [
            "output -> 12.57\n",
            "output -> 565.49\n",
            "output -> 0.00\n"
          ]
        }
      ]
    },
    {
      "cell_type": "markdown",
      "source": [
        "# 4.This Triangular Number Sequence is generated from a pattern of dots that form a triangle.\n",
        "# The first 5 numbers of the sequence, or dots, are: 1, 3, 6, 10, 15\n",
        "# This means that the first triangle has just one dot, the second one has three dots, the third one has 6 dots and so on. Write a function that gives the number of dots with its corresponding triangle number of the sequence.\n",
        "\n",
        "# Examples:\n",
        "# triangle(1) ➞ 1\n",
        "# triangle(6) ➞ 21\n",
        "# triangle(215) ➞ 23220"
      ],
      "metadata": {
        "id": "8z91_TYDB3jc"
      }
    },
    {
      "cell_type": "code",
      "source": [
        "def traingle(in_num):\n",
        "  print(f'output->{int((in_num)*((in_num+1)/2))}')\n",
        "traingle(1)\n",
        "traingle(6)\n",
        "traingle(215)"
      ],
      "metadata": {
        "id": "BZ2TejpGoW8M",
        "colab": {
          "base_uri": "https://localhost:8080/"
        },
        "outputId": "9ea526aa-2895-477e-cb6a-253e3ea7e92a"
      },
      "execution_count": 2,
      "outputs": [
        {
          "output_type": "stream",
          "name": "stdout",
          "text": [
            "output->1\n",
            "output->21\n",
            "output->23220\n"
          ]
        }
      ]
    },
    {
      "cell_type": "markdown",
      "source": [
        "# 5.Create a function that takes a list of numbers between 1 and 10 (excluding one number) and returns the missing number.\n",
        "\n",
        "# Examples:\n",
        "\n",
        "# missing_num([1, 2, 3, 4, 6, 7, 8, 9, 10]) ➞ 5\n",
        "# missing_num([7, 2, 3, 6, 5, 9, 1, 4, 8]) ➞ 10\n",
        "# missing_num([10, 5, 1, 2, 4, 6, 8, 3, 9]) ➞ 7"
      ],
      "metadata": {
        "id": "UCYIoeoTCIm1"
      }
    },
    {
      "cell_type": "code",
      "source": [
        "def missing_num(in_list):\n",
        "  for i in range(1,11):\n",
        "    if i not in in_list:\n",
        "      print(f'{in_list}->{i}')\n",
        "missing_num([1, 2, 3, 4, 6, 7, 8, 9, 10])\n",
        "missing_num([7, 2, 3, 6, 5, 9, 1, 4, 8])\n",
        "missing_num([10, 5, 1, 2, 4, 6, 8, 3, 9]) "
      ],
      "metadata": {
        "colab": {
          "base_uri": "https://localhost:8080/"
        },
        "id": "KdbQtNKdCFzg",
        "outputId": "5ff1952f-18c0-4ae5-d15c-4160dd8652ad"
      },
      "execution_count": 4,
      "outputs": [
        {
          "output_type": "stream",
          "name": "stdout",
          "text": [
            "[1, 2, 3, 4, 6, 7, 8, 9, 10]->5\n",
            "[7, 2, 3, 6, 5, 9, 1, 4, 8]->10\n",
            "[10, 5, 1, 2, 4, 6, 8, 3, 9]->7\n"
          ]
        }
      ]
    }
  ]
}