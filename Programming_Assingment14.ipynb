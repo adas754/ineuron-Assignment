{
  "nbformat": 4,
  "nbformat_minor": 0,
  "metadata": {
    "colab": {
      "name": "Programming_Assingment14.ipynb",
      "provenance": []
    },
    "kernelspec": {
      "name": "python3",
      "display_name": "Python 3"
    },
    "language_info": {
      "name": "python"
    }
  },
  "cells": [
    {
      "cell_type": "markdown",
      "source": [
        "Question 1:\n",
        "\n",
        "\n",
        "\n",
        "Define a class with a generator which can iterate the numbers, which are divisible by 7, between a given range 0 and n.\n",
        "\n"
      ],
      "metadata": {
        "id": "xCnkE0dqy-SQ"
      }
    },
    {
      "cell_type": "code",
      "source": [
        "class itrate:\n",
        "  def __init__(self,n):\n",
        "     self.n=n\n",
        "  def divisible(self):\n",
        "    for i in range(0,self.n):\n",
        "        if i%7==0 and i>0:\n",
        "           print(i)"
      ],
      "metadata": {
        "id": "MO-KzNZNzB_k"
      },
      "execution_count": 10,
      "outputs": []
    },
    {
      "cell_type": "code",
      "source": [
        "a = itrate(100)\n",
        "a.divisible()"
      ],
      "metadata": {
        "colab": {
          "base_uri": "https://localhost:8080/"
        },
        "id": "jx8aEmM61go4",
        "outputId": "4fc09d79-adbd-4597-e761-1593ed8ed0cc"
      },
      "execution_count": 11,
      "outputs": [
        {
          "output_type": "stream",
          "name": "stdout",
          "text": [
            "7\n",
            "14\n",
            "21\n",
            "28\n",
            "35\n",
            "42\n",
            "49\n",
            "56\n",
            "63\n",
            "70\n",
            "77\n",
            "84\n",
            "91\n",
            "98\n"
          ]
        }
      ]
    },
    {
      "cell_type": "markdown",
      "source": [
        "Question 2:\n",
        "Write a program to compute the frequency of the words from the input. The output should output after sorting the key alphanumerically. \n",
        "\n",
        "\n",
        "\n",
        "\n",
        "Suppose the following input is supplied to the program:\n",
        "\n",
        "\n",
        "\n",
        "\n",
        "New to Python or choosing between Python 2 and Python 3? Read Python 2 or Python 3.\n",
        "\n",
        "\n",
        "\n",
        "\n",
        "Then, the output should be:\n",
        "\n",
        "\n",
        "\n",
        "\n",
        "2:2\n",
        "\n",
        "\n",
        "\n",
        "\n",
        "3.:1\n",
        "\n",
        "\n",
        "\n",
        "\n",
        "3?:1\n",
        "\n",
        "\n",
        "\n",
        "\n",
        "New:1\n",
        "\n",
        "\n",
        "\n",
        "\n",
        "Python:5\n",
        "\n",
        "\n",
        "\n",
        "\n",
        "Read:1\n",
        "\n",
        "\n",
        "\n",
        "\n",
        "and:1\n",
        "\n",
        "\n",
        "\n",
        "\n",
        "between:1\n",
        "\n",
        "\n",
        "\n",
        "\n",
        "choosing:1\n",
        "\n",
        "\n",
        "\n",
        "\n",
        "or:2\n",
        "\n",
        "\n",
        "\n",
        "to:1\n",
        "\n",
        "\n"
      ],
      "metadata": {
        "id": "Rz_M8A6-3q2s"
      }
    },
    {
      "cell_type": "code",
      "source": [
        "input_string=str(input('enter the string ')).split()\n",
        "frequency_check=sorted(set(input_string))\n",
        "for i in frequency_check:\n",
        "    print('{}:{}'.format(i,input_string.count(i)))\n"
      ],
      "metadata": {
        "colab": {
          "base_uri": "https://localhost:8080/"
        },
        "id": "jZ0vX0jE3_Yw",
        "outputId": "5b8e381e-81af-4374-94db-fbc553267d10"
      },
      "execution_count": 12,
      "outputs": [
        {
          "output_type": "stream",
          "name": "stdout",
          "text": [
            "enter the string New to Python or choosing between Python 2 and Python 3? Read Python 2 or Python 3.\n",
            "2:2\n",
            "3.:1\n",
            "3?:1\n",
            "New:1\n",
            "Python:5\n",
            "Read:1\n",
            "and:1\n",
            "between:1\n",
            "choosing:1\n",
            "or:2\n",
            "to:1\n"
          ]
        }
      ]
    },
    {
      "cell_type": "markdown",
      "source": [
        "Question 3:\n",
        "\n",
        "\n",
        "\n",
        "\n",
        "\n",
        "\n",
        "\n",
        "\n",
        "\n",
        "Define a class Person and its two child classes: Male and Female. All classes have a method \"getGender\" which can print \"Male\" for Male class and \"Female\" for Female class.\n"
      ],
      "metadata": {
        "id": "HI9KkufHNIRm"
      }
    },
    {
      "cell_type": "code",
      "source": [
        "class person:\n",
        "    def getgender(self):\n",
        "      pass\n",
        "class male(person):\n",
        "  def getgender(self):\n",
        "     return \"male\"\n",
        "class female(person):\n",
        "  def getgender(self):\n",
        "      return \"female\"\n",
        "m=male()\n",
        "print(m.getgender())\n",
        "f=female()\n",
        "print(f.getgender())"
      ],
      "metadata": {
        "colab": {
          "base_uri": "https://localhost:8080/"
        },
        "id": "IJQOcFIYNn_H",
        "outputId": "b641e583-ebb7-49af-b10f-29092f06571c"
      },
      "execution_count": 14,
      "outputs": [
        {
          "output_type": "stream",
          "name": "stdout",
          "text": [
            "male\n",
            "female\n"
          ]
        }
      ]
    },
    {
      "cell_type": "markdown",
      "source": [
        "Question 4:\n",
        "\n",
        "Please write a program to generate all sentences where subject is in [\"I\", \"You\"] and verb is in [\"Play\", \"Love\"] and the object is in [\"Hockey\",\"Football\"].\n",
        "\n"
      ],
      "metadata": {
        "id": "XalqgjbCP2tE"
      }
    },
    {
      "cell_type": "code",
      "source": [
        "subject= [\"I\", \"You\"] \n",
        "verb=[\"Play\", \"Love\"]\n",
        "object=[\"Hockey\",\"Football\"]\n",
        "for i in subject:\n",
        "  for j in verb:\n",
        "    for k in object:\n",
        "      print('{} {} {}'.format(i,j,k)) \n"
      ],
      "metadata": {
        "colab": {
          "base_uri": "https://localhost:8080/"
        },
        "id": "XDS502PuQA7L",
        "outputId": "fb5bd32a-d286-414e-d73d-edfc0f428bbe"
      },
      "execution_count": 16,
      "outputs": [
        {
          "output_type": "stream",
          "name": "stdout",
          "text": [
            "I Play Hockey\n",
            "I Play Football\n",
            "I Love Hockey\n",
            "I Love Football\n",
            "You Play Hockey\n",
            "You Play Football\n",
            "You Love Hockey\n",
            "You Love Football\n"
          ]
        }
      ]
    },
    {
      "cell_type": "markdown",
      "source": [
        "Question 5:\n",
        "\n",
        "Please write a program to compress and decompress the string \"hello world!hello world!hello world!hello world!\".\n",
        "\n",
        "\n",
        "\n",
        "\n",
        "\n",
        "\n",
        "\n",
        "\n",
        "\n",
        "\n",
        "\n",
        "\n",
        "\n",
        "\n",
        "\n",
        "\n",
        "\n",
        "\n",
        "\n",
        "\n",
        "\n",
        "\n",
        "\n",
        "\n",
        "\n",
        "\n",
        "\n",
        "\n",
        "\n",
        "\n",
        "\n",
        "\n",
        "\n",
        "\n",
        "\n",
        "\n",
        "\n",
        "\n",
        "\n",
        "\n",
        "\n",
        "\n",
        "\n",
        "\n",
        "\n"
      ],
      "metadata": {
        "id": "1D0OUq4XRkIj"
      }
    },
    {
      "cell_type": "code",
      "source": [
        "import zlib\n",
        "string= \"hello world!hello world!hello world!hello world!\".encode()\n",
        "com=zlib.compress(string)\n",
        "print(com)\n",
        "print(zlib.decompress(com))"
      ],
      "metadata": {
        "colab": {
          "base_uri": "https://localhost:8080/"
        },
        "id": "36mpc6B2Qi5F",
        "outputId": "ce835729-a30d-4546-8ae2-ee606ddf22dd"
      },
      "execution_count": 2,
      "outputs": [
        {
          "output_type": "stream",
          "name": "stdout",
          "text": [
            "b'x\\x9c\\xcbH\\xcd\\xc9\\xc9W(\\xcf/\\xcaIQ\\xcc \\x82\\r\\x00\\xbd[\\x11\\xf5'\n",
            "b'hello world!hello world!hello world!hello world!'\n"
          ]
        }
      ]
    },
    {
      "cell_type": "markdown",
      "source": [
        "\n",
        "Question 6:\n",
        "Please write a binary search function which searches an item in a sorted list. The function should return the index of element to be searched in the list.\n"
      ],
      "metadata": {
        "id": "qYy41XsdWbMn"
      }
    },
    {
      "cell_type": "code",
      "source": [
        "def binary_search(l,n):\n",
        "    low = 0\n",
        "    high = len(l)-1\n",
        "    while low<=high:\n",
        "        mid = (low+high)//2\n",
        "        \n",
        "        if l[mid]<n:\n",
        "            low = mid+1\n",
        "        elif l[mid]>n:\n",
        "            high = mid-1\n",
        "        else:\n",
        "            return mid\n",
        "    return \"element not in list\""
      ],
      "metadata": {
        "id": "xN_dWWEucKM8"
      },
      "execution_count": 24,
      "outputs": []
    },
    {
      "cell_type": "code",
      "source": [
        "l=[78,890,786]\n",
        "l.sort()\n",
        "print(l)\n"
      ],
      "metadata": {
        "colab": {
          "base_uri": "https://localhost:8080/"
        },
        "id": "0rciRdErZg_k",
        "outputId": "f4d316cc-ff28-4280-fe07-98d692da72ed"
      },
      "execution_count": 25,
      "outputs": [
        {
          "output_type": "stream",
          "name": "stdout",
          "text": [
            "[78, 786, 890]\n"
          ]
        }
      ]
    },
    {
      "cell_type": "code",
      "source": [
        "binary_search(l,2)"
      ],
      "metadata": {
        "colab": {
          "base_uri": "https://localhost:8080/",
          "height": 36
        },
        "id": "YRthLqg0biz9",
        "outputId": "a8a2c351-aaba-4035-8919-b58dc8e8c2b4"
      },
      "execution_count": 26,
      "outputs": [
        {
          "output_type": "execute_result",
          "data": {
            "application/vnd.google.colaboratory.intrinsic+json": {
              "type": "string"
            },
            "text/plain": [
              "'element not in list'"
            ]
          },
          "metadata": {},
          "execution_count": 26
        }
      ]
    }
  ]
}