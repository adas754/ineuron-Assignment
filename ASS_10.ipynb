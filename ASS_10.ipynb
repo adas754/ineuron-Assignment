{
  "nbformat": 4,
  "nbformat_minor": 0,
  "metadata": {
    "colab": {
      "provenance": []
    },
    "kernelspec": {
      "name": "python3",
      "display_name": "Python 3"
    },
    "language_info": {
      "name": "python"
    }
  },
  "cells": [
    {
      "cell_type": "markdown",
      "source": [
        "# Write a Python Program to find sum of elements in a list\n"
      ],
      "metadata": {
        "id": "L5otAsFX87Fq"
      }
    },
    {
      "cell_type": "code",
      "source": [
        "def sum_list(lst):\n",
        "  sum=0\n",
        "  for num in lst:\n",
        "    sum+=num\n",
        "  return sum\n",
        "num_entries=int(input(\"Enter the enries : \"))\n",
        "my_list=[]\n",
        "for i in range(num_entries):\n",
        "  elem=int(input(\"Enter element :\"))\n",
        "  my_list.append(elem)\n",
        "sum=sum_list(my_list)\n",
        "print(sum)"
      ],
      "metadata": {
        "id": "8JMLT7Nzjgtk",
        "colab": {
          "base_uri": "https://localhost:8080/"
        },
        "outputId": "6a93274b-d7f1-457a-b555-7515bcf7f574"
      },
      "execution_count": 4,
      "outputs": [
        {
          "output_type": "stream",
          "name": "stdout",
          "text": [
            "Enter the enries : 3\n",
            "Enter element :9\n",
            "Enter element :0\n",
            "Enter element :7\n",
            "16\n"
          ]
        }
      ]
    },
    {
      "cell_type": "markdown",
      "source": [
        "# Write a Python Program to multiply all numbers in the list "
      ],
      "metadata": {
        "id": "nLhp2c89E3z6"
      }
    },
    {
      "cell_type": "code",
      "source": [
        "def muloflist():\n",
        "  in_ele=int(input(\"Enter the number of element :\"))\n",
        "  in_list=[]\n",
        "  mul=1\n",
        "  for itr in range(in_ele):\n",
        "    in_list.append(int(input(\"Enter a element :\")))\n",
        "  for ele in in_list:\n",
        "    mul=mul*ele\n",
        "  print(mul)\n",
        "muloflist()"
      ],
      "metadata": {
        "colab": {
          "base_uri": "https://localhost:8080/"
        },
        "id": "6QgC8y09C258",
        "outputId": "62a43818-13ab-4c15-9d2c-c0366da5a4a6"
      },
      "execution_count": 6,
      "outputs": [
        {
          "output_type": "stream",
          "name": "stdout",
          "text": [
            "Enter the number of element :2\n",
            "Enter a element :9\n",
            "Enter a element :8\n",
            "72\n"
          ]
        }
      ]
    },
    {
      "cell_type": "markdown",
      "source": [
        "# Write a Python Program to find smallest number in the list "
      ],
      "metadata": {
        "id": "QIjWkv_bpK8o"
      }
    },
    {
      "cell_type": "code",
      "source": [
        "def smallEleInList():\n",
        "    in_ele = int(input('Enter the No of elements in a list: '))\n",
        "    in_list = []\n",
        "    for ele in range(in_ele):\n",
        "        in_list.append(int(input('Enter a Element: ')))\n",
        "    print(f'The Smallest Element in {in_list} is {sorted(in_list)[0]}')\n",
        "smallEleInList()"
      ],
      "metadata": {
        "colab": {
          "base_uri": "https://localhost:8080/"
        },
        "id": "3LgENL3BHVAy",
        "outputId": "8fc9412a-6d9e-4a12-9c80-671613a10f03"
      },
      "execution_count": 9,
      "outputs": [
        {
          "output_type": "stream",
          "name": "stdout",
          "text": [
            "Enter the No of elements in a list: 3\n",
            "Enter a Element: 6\n",
            "Enter a Element: 7\n",
            "Enter a Element: 0\n",
            "The Smallest Element in [6, 7, 0] is 0\n"
          ]
        }
      ]
    },
    {
      "cell_type": "markdown",
      "source": [
        "# Write a Python Program to find largest number in the list"
      ],
      "metadata": {
        "id": "mZpkGNowpcop"
      }
    },
    {
      "cell_type": "code",
      "source": [
        "def find_largest(lst):\n",
        "  largest=lst[0]\n",
        "  for num in lst:\n",
        "    if num>largest:\n",
        "      largest=num\n",
        "    return largest\n",
        "n=int(input(\"Enter number of element :\"))\n",
        "my_list=[]\n",
        "for i in range(n):\n",
        "  element=int(input(\"Enter element :\"))\n",
        "  my_list.append(element)\n",
        "largest_element=find_largest(my_list)\n",
        "print(largest_element)"
      ],
      "metadata": {
        "colab": {
          "base_uri": "https://localhost:8080/"
        },
        "id": "AEMOPFpsTkBc",
        "outputId": "7358d4f9-21c7-4521-b67d-00fddd5a93f9"
      },
      "execution_count": 17,
      "outputs": [
        {
          "output_type": "stream",
          "name": "stdout",
          "text": [
            "Enter number of element :3\n",
            "Enter element :45\n",
            "Enter element :9\n",
            "Enter element :7\n",
            "45\n"
          ]
        }
      ]
    },
    {
      "cell_type": "markdown",
      "source": [
        "# Write a Python Program to find second largest number in the list"
      ],
      "metadata": {
        "id": "yV_Y2EkIpu4V"
      }
    },
    {
      "cell_type": "code",
      "source": [
        "def find_second_largest(lst):\n",
        "  sorted_list=sorted(lst,reverse=True)\n",
        "  return sorted_list[1]\n",
        "n=int(input(\"Enter the no of element :\"))\n",
        "my_list=[]\n",
        "for i in range(n):\n",
        "  element=int(input(\"Enter element :\"))\n",
        "  my_list.append(element)\n",
        "second_largest_element=find_second_largest(my_list)\n",
        "print(second_largest_element)"
      ],
      "metadata": {
        "colab": {
          "base_uri": "https://localhost:8080/"
        },
        "id": "QxKVFWIYebn7",
        "outputId": "107af568-864c-415c-c03d-0a7fbbbdf695"
      },
      "execution_count": 20,
      "outputs": [
        {
          "output_type": "stream",
          "name": "stdout",
          "text": [
            "Enter the no of element :3\n",
            "Enter element :56\n",
            "Enter element :90\n",
            "Enter element :43\n",
            "56\n"
          ]
        }
      ]
    },
    {
      "cell_type": "markdown",
      "source": [
        "# Write a Python Program to find N largest elements in the list"
      ],
      "metadata": {
        "id": "AT6oUtUyp9rR"
      }
    },
    {
      "cell_type": "code",
      "source": [
        "def find_n_largest_elements(lst,n):\n",
        "  return sorted(lst,reverse=True)[:n]\n",
        "n=int(input(\"Enter the no of element \"))\n",
        "lst=[]\n",
        "for i in range(n):\n",
        "  elem=int(input(\"Enter elements :\"))\n",
        "  lst.append(elem)\n",
        "N=int(input(\"Enter the value of N\"))\n",
        "largest_element=find_n_largest_elements(lst,N)\n",
        "print(f\"The {N} largest_element in {lst} are {largest_element}\")"
      ],
      "metadata": {
        "colab": {
          "base_uri": "https://localhost:8080/"
        },
        "id": "m3B1zoU6nrTN",
        "outputId": "a45f86af-cd86-4868-cf7d-6a2093bd803f"
      },
      "execution_count": 23,
      "outputs": [
        {
          "output_type": "stream",
          "name": "stdout",
          "text": [
            "Enter the no of element 3\n",
            "Enter elements :67\n",
            "Enter elements :55\n",
            "Enter elements :34\n",
            "Enter the value of N2\n",
            "The 2 largest_element in [67, 55, 34] are [67, 55]\n"
          ]
        }
      ]
    },
    {
      "cell_type": "markdown",
      "source": [
        "# .Write a Python Program to find even numbers in the list "
      ],
      "metadata": {
        "id": "NTq_QxlE0je4"
      }
    },
    {
      "cell_type": "code",
      "source": [
        "def even_no():\n",
        "  in_ele=int(input(\"Enter no of ele :\"))\n",
        "  in_list=[]\n",
        "  even_list=[]\n",
        "  for ele in range(in_ele):\n",
        "    in_list.append(int(input(\"Enter element\")))\n",
        "  for ele in in_list:\n",
        "    if ele%2==0:\n",
        "      even_list.append(ele)\n",
        "  print(f'The even elements in {in_list} are {even_list}')\n",
        "even_no()"
      ],
      "metadata": {
        "colab": {
          "base_uri": "https://localhost:8080/"
        },
        "id": "iyd9n0vHtMKP",
        "outputId": "5f691406-d9dc-4948-dc78-04d45331984e"
      },
      "execution_count": 26,
      "outputs": [
        {
          "output_type": "stream",
          "name": "stdout",
          "text": [
            "Enter no of ele :3\n",
            "Enter element78\n",
            "Enter element23\n",
            "Enter element560\n",
            "The even elements in [78, 23, 560] are [78, 560]\n"
          ]
        }
      ]
    },
    {
      "cell_type": "markdown",
      "source": [
        "##Write a Python Program to find odd numbers in the list "
      ],
      "metadata": {
        "id": "xUczm82p1T-a"
      }
    },
    {
      "cell_type": "code",
      "source": [
        "def odd_no():\n",
        "  in_ele=int(input(\"Enter no of elements :\"))\n",
        "  in_list=[]\n",
        "  odd_list=[]\n",
        "  for ele in range(in_ele):\n",
        "    in_list.append(int(input(\"Enter elements \")))\n",
        "  for ele in in_list:\n",
        "    if ele%2!=0:\n",
        "      odd_list.append(ele)\n",
        "  print(f'THe odd elements in {in_list} are {odd_list}')\n",
        "odd_no()"
      ],
      "metadata": {
        "colab": {
          "base_uri": "https://localhost:8080/"
        },
        "id": "8lfvlcOvzliL",
        "outputId": "19717aaf-60d6-45de-c23a-2a04ca339243"
      },
      "execution_count": 30,
      "outputs": [
        {
          "output_type": "stream",
          "name": "stdout",
          "text": [
            "Enter no of elements :3\n",
            "Enter elements 57\n",
            "Enter elements 88\n",
            "Enter elements 34\n",
            "THe odd elements in [57, 88, 34] are [57]\n"
          ]
        }
      ]
    },
    {
      "cell_type": "markdown",
      "source": [
        "# Write a Python Program to remove empty list from list "
      ],
      "metadata": {
        "id": "nDR-QMNG8f3_"
      }
    },
    {
      "cell_type": "code",
      "source": [
        "def remove_empty_lists(lst):\n",
        "  return [x for x in lst if x!=[]]\n",
        "my_list=[[1,2,3],[],[4,5],[],[],[6]]\n",
        "new_list=remove_empty_lists(my_list)\n",
        "print(new_list)"
      ],
      "metadata": {
        "id": "w7G8D_N07WKL",
        "outputId": "fb340a97-1d78-49f6-86da-bcc19d511b36",
        "colab": {
          "base_uri": "https://localhost:8080/"
        }
      },
      "execution_count": 37,
      "outputs": [
        {
          "output_type": "stream",
          "name": "stdout",
          "text": [
            "[[1, 2, 3], [4, 5], [6]]\n"
          ]
        }
      ]
    },
    {
      "cell_type": "markdown",
      "source": [
        "# Write a Python Program to Cloning or Copying a list "
      ],
      "metadata": {
        "id": "UBss3O9QCXMu"
      }
    },
    {
      "cell_type": "code",
      "source": [
        "def clone_list(original_list):\n",
        "  return original_list.copy()\n",
        "original_list=[1,2,3,4]\n",
        "cloned_list=clone_list(original_list)\n",
        "print(original_list)\n",
        "print(cloned_list)"
      ],
      "metadata": {
        "id": "8COarugEBo4N",
        "outputId": "bb5ccb6a-60df-4d2b-ca55-18f6df137798",
        "colab": {
          "base_uri": "https://localhost:8080/"
        }
      },
      "execution_count": 45,
      "outputs": [
        {
          "output_type": "stream",
          "name": "stdout",
          "text": [
            "[1, 2, 3, 4]\n",
            "[1, 2, 3, 4]\n"
          ]
        }
      ]
    },
    {
      "cell_type": "markdown",
      "source": [
        "# Write a Python Program to count occurences of an element in a list "
      ],
      "metadata": {
        "id": "KRcCL5t_F6pR"
      }
    },
    {
      "cell_type": "code",
      "source": [
        "def checkoccurance():\n",
        "  in_list=eval(input(\"Enter the element of list :\"))\n",
        "  in_num=eval(input(\"Enter the element to find \"))\n",
        "  count=0\n",
        "  if in_num in in_list:\n",
        "    for ele in in_list:\n",
        "      if ele==in_num:\n",
        "        count=count+1\n",
        "  print(f'There are {count} occurance of {in_num} in {in_list}')\n",
        "checkoccurance()"
      ],
      "metadata": {
        "id": "XX-zWnQLEuU_",
        "outputId": "a402148c-f4d7-48fc-fa9c-781bcb4c4f3e",
        "colab": {
          "base_uri": "https://localhost:8080/"
        }
      },
      "execution_count": 46,
      "outputs": [
        {
          "output_type": "stream",
          "name": "stdout",
          "text": [
            "Enter the element of list :1,2,3,4,5,7,8,8,9,8\n",
            "Enter the element to find 8\n",
            "There are 3 occurance of 8 in (1, 2, 3, 4, 5, 7, 8, 8, 9, 8)\n"
          ]
        }
      ]
    }
  ]
}