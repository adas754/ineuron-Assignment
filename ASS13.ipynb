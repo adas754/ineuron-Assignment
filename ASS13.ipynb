{
  "nbformat": 4,
  "nbformat_minor": 0,
  "metadata": {
    "colab": {
      "provenance": []
    },
    "kernelspec": {
      "name": "python3",
      "display_name": "Python 3"
    },
    "language_info": {
      "name": "python"
    }
  },
  "cells": [
    {
      "cell_type": "markdown",
      "source": [
        "# Question 1:\n",
        "\n",
        "\n",
        "\n",
        "\n",
        "Write a program that calculates and prints the value according to the given formula:\n",
        "\n",
        "\n",
        "\n",
        "\n",
        "Q = Square root of [(2 * C * D)/H]\n",
        "\n",
        "\n",
        "\n",
        "\n",
        "Following are the fixed values of C and H:\n",
        "\n",
        "\n",
        "\n",
        "\n",
        "C is 50. H is 30.\n",
        "\n",
        "\n",
        "\n",
        "\n",
        "D is the variable whose values should be input to your program in a comma-separated sequence.\n",
        "\n",
        "\n",
        "\n",
        "\n",
        "Example\n",
        "\n",
        "\n",
        "\n",
        "\n",
        "Let us assume the following comma separated input sequence is given to the program:\n",
        "\n",
        "\n",
        "\n",
        "\n",
        "100,150,180\n",
        "\n",
        "\n",
        "\n",
        "\n",
        "The output of the program should be:\n",
        "\n",
        "\n",
        "\n",
        "18,22,24\n"
      ],
      "metadata": {
        "id": "cM6jNcLNyvBm"
      }
    },
    {
      "cell_type": "code",
      "execution_count": 4,
      "metadata": {
        "colab": {
          "base_uri": "https://localhost:8080/"
        },
        "id": "1NKutuFwxc5g",
        "outputId": "1c645464-6877-4efc-962b-4588e5043438"
      },
      "outputs": [
        {
          "output_type": "stream",
          "name": "stdout",
          "text": [
            "Enter the input :100,150,180\n",
            "output :18,22,24\n"
          ]
        }
      ],
      "source": [
        "from math import sqrt\n",
        "def calculateprogram():\n",
        "  in_num=eval(input(\"Enter the input :\"))\n",
        "  out_num=[]\n",
        "  c=50\n",
        "  h=30\n",
        "  for ele in in_num:\n",
        "    q=str(int(sqrt((2*c*ele)/h)))\n",
        "    out_num.append(q)\n",
        "  print('output :{}'.format(','.join(out_num)))\n",
        "calculateprogram()"
      ]
    },
    {
      "cell_type": "markdown",
      "source": [
        "# Question 2:\n",
        "Write a program which takes 2 digits, X,Y as input and generates a 2-dimensional array. The element value in the i-th row and j-th column of the array should be i*j.\n",
        "\n",
        "\n",
        "\n",
        "\n",
        "Note: i=0,1.., X-1; j=0,1,¡Y-1.\n",
        "\n",
        "\n",
        "\n",
        "\n",
        "Example\n",
        "\n",
        "\n",
        "\n",
        "\n",
        "Suppose the following inputs are given to the program:\n",
        "\n",
        "\n",
        "\n",
        "\n",
        "3,5\n",
        "\n",
        "\n",
        "\n",
        "\n",
        "Then, the output of the program should be:\n",
        "\n",
        "\n",
        "\n",
        "\n",
        "[[0, 0, 0, 0, 0], [0, 1, 2, 3, 4], [0, 2, 4, 6, 8]]\n",
        "\n",
        "\n",
        "\n"
      ],
      "metadata": {
        "id": "j-RsEvfj28lw"
      }
    },
    {
      "cell_type": "code",
      "source": [
        "import array as arr\n",
        "def generatearray():\n",
        "  in_x=int(input(\"Enter the no of rows :\"))\n",
        "  in_y=int(input(\"Enter the no of cols :\"))\n",
        "  out_array=[]\n",
        "  for ele in range(in_x):\n",
        "    out_array.insert(in_x,[])\n",
        "    for sub_ele in range(in_y):\n",
        "      out_array[ele].append(ele*sub_ele)\n",
        "  print(out_array)\n",
        "generatearray()"
      ],
      "metadata": {
        "colab": {
          "base_uri": "https://localhost:8080/"
        },
        "id": "oglQq_d52XX1",
        "outputId": "3e351dfa-38ff-4e51-fb08-7e3875b829f1"
      },
      "execution_count": 6,
      "outputs": [
        {
          "output_type": "stream",
          "name": "stdout",
          "text": [
            "Enter the no of rows :3\n",
            "Enter the no of cols :5\n",
            "[[0, 0, 0, 0, 0], [0, 1, 2, 3, 4], [0, 2, 4, 6, 8]]\n"
          ]
        }
      ]
    },
    {
      "cell_type": "markdown",
      "source": [
        "# 3.Write a program that accepts a comma separated sequence of words as input and prints the words in a comma-separated sequence after sorting them alphabetically ?\n",
        "#Suppose the following input is supplied to the program: without,hello,bag,world\n",
        "#Then, the output should be: bag,hello,without,world"
      ],
      "metadata": {
        "id": "ID8-JfZU69uY"
      }
    },
    {
      "cell_type": "code",
      "source": [
        "def sortstring():\n",
        "  in_string=input(\"Enter the string :\")\n",
        "  out_string=','.join(sorted(in_string.split(',')))\n",
        "  print(f'output:{out_string}')\n",
        "sortstring()"
      ],
      "metadata": {
        "colab": {
          "base_uri": "https://localhost:8080/"
        },
        "id": "xUaa_dLb7A5O",
        "outputId": "ba44fbb2-cb9d-417e-c1e2-98c6fc6a4b86"
      },
      "execution_count": 7,
      "outputs": [
        {
          "output_type": "stream",
          "name": "stdout",
          "text": [
            "Enter the string :without,hello,bag,world\n",
            "output:bag,hello,without,world\n"
          ]
        }
      ]
    },
    {
      "cell_type": "markdown",
      "source": [
        "# 4.Write a program that accepts a sequence of whitespace separated words as input and prints the words after removing all duplicate words and sorting them alphanumerically.\n",
        "# Suppose the following input is supplied to the program: hello world and practice makes perfect and hello world again\n",
        "# Then, the output should be: again and hello makes perfect practice world\n",
        "\n"
      ],
      "metadata": {
        "id": "h8Ylj-ow96uR"
      }
    },
    {
      "cell_type": "code",
      "source": [
        "def sortalphanumerically():\n",
        "  in_string=input(\"Enter a string :\")\n",
        "  out_string=' '.join(sorted(sorted(list(set(in_string.split(\" \"))))))\n",
        "  print(f'output :{out_string}')\n",
        "sortalphanumerically()"
      ],
      "metadata": {
        "colab": {
          "base_uri": "https://localhost:8080/"
        },
        "id": "haU6ktjr-C-D",
        "outputId": "7b4b1e7c-1318-457b-fba9-815e28dd1412"
      },
      "execution_count": 8,
      "outputs": [
        {
          "output_type": "stream",
          "name": "stdout",
          "text": [
            "Enter a string :hello world and practice makes perfect and hello world again\n",
            "output :again and hello makes perfect practice world\n"
          ]
        }
      ]
    },
    {
      "cell_type": "markdown",
      "source": [
        "# 5.Write a program that accepts a sentence and calculate the number of letters and digits.\n",
        "# Suppose the following input is supplied to the program: hello world! 123\n",
        "# Then, the output should be:\n",
        "# LETTERS 10\n",
        "# DIGITS 3"
      ],
      "metadata": {
        "id": "JJGZjCWv_GJb"
      }
    },
    {
      "cell_type": "code",
      "source": [
        "def countLetterAndDigits():\n",
        "  in_string=input(\"Enter a string :\")\n",
        "  letter_list='ABCDEFGHIJKLMNOPQRSTUVWXYZabcdefghijklmnopqrstuvwxyz'\n",
        "  digits_list='0123456789'\n",
        "  letters=0\n",
        "  digits=0\n",
        "  for ele in in_string:\n",
        "    if ele in letter_list:\n",
        "      letters+=1\n",
        "    if ele in digits_list:\n",
        "      digits+=1\n",
        "  print(f'LETTERS {letters} \\nDIGITS {digits}')\n",
        "countLetterAndDigits()"
      ],
      "metadata": {
        "colab": {
          "base_uri": "https://localhost:8080/"
        },
        "id": "hDZaClBb_UrF",
        "outputId": "dc80e300-55bb-4eae-df2c-ee409b4b26e0"
      },
      "execution_count": 10,
      "outputs": [
        {
          "output_type": "stream",
          "name": "stdout",
          "text": [
            "Enter a string :hello world! 123\n",
            "LETTERS 10 \n",
            "DIGITS 3\n"
          ]
        }
      ]
    },
    {
      "cell_type": "markdown",
      "source": [
        "# 6.A website requires the users to input username and password to register. Write a program to check the validity of password input by users.\n",
        "# Following are the criteria for checking the password:\n",
        "\n",
        "# At least 1 letter between [a-z]\n",
        "# At least 1 number between [0-9]\n",
        "# At least 1 letter between [A-Z]\n",
        "# At least 1 character from [$#@]\n",
        "# Minimum length of transaction password: 6\n",
        "# Maximum length of transaction password: 12\n",
        "# Your program should accept a sequence of comma separated passwords and will check them according to the above criteria. Passwords that match the criteria are to be printed, each separated by a comma.\n",
        "\n",
        "# Example:\n",
        "## If the following passwords are given as input to the program: ABd1234@1,a F1#,2w3E*,2We3345\n",
        "# Then, the output of the program should be:ABd1234@1"
      ],
      "metadata": {
        "id": "AL29EVdZDpDB"
      }
    },
    {
      "cell_type": "code",
      "source": [
        "def checkpassword():\n",
        "  in_string=input(\"Enter a string :\")\n",
        "  small_list=\"abcdefghijklmnopqrstuvwxyz\"\n",
        "  cap_list=\"abcdefghijklmnopqrstuvwxyz\"\n",
        "  num_list='0123456789'\n",
        "  special_list = \"$#@\"\n",
        "  for ele in in_string.split(','):\n",
        "    if len(ele)<=12 and len(ele)>6:\n",
        "      if any(i.isupper() for i in ele):\n",
        "        if any(i.islower() for i in ele):\n",
        "          if any(i for i in ele if i in special_list):\n",
        "            print(ele)\n",
        "checkpassword()\n",
        "\n",
        "\n"
      ],
      "metadata": {
        "colab": {
          "base_uri": "https://localhost:8080/"
        },
        "id": "nJK7n7BbD6tQ",
        "outputId": "319f4afe-61b4-45d2-9c8a-055aa34a0fad"
      },
      "execution_count": 11,
      "outputs": [
        {
          "output_type": "stream",
          "name": "stdout",
          "text": [
            "Enter a string :ABd1234@1,a F1#,2w3E*,2We3345\n",
            "ABd1234@1\n"
          ]
        }
      ]
    }
  ]
}