{
  "nbformat": 4,
  "nbformat_minor": 0,
  "metadata": {
    "colab": {
      "provenance": []
    },
    "kernelspec": {
      "name": "python3",
      "display_name": "Python 3"
    },
    "language_info": {
      "name": "python"
    }
  },
  "cells": [
    {
      "cell_type": "markdown",
      "source": [
        "# 1. For this challenge, forget how to add two numbers together. The best explanation on what to do for this function is this meme:\n",
        "\n",
        "\n",
        "\n",
        "\n",
        "Examples\n",
        "\n",
        "meme_sum(26, 39) ➞ 515\n",
        "# 2+3 = 5, 6+9 = 15\n",
        "# 26 + 39 = 515\n",
        "\n",
        "meme_sum(122, 81) ➞ 1103\n",
        "# 1+0 = 1, 2+8 = 10, 2+1 = 3\n",
        "# 122 + 81 = 1103\n",
        "\n",
        "meme_sum(1222, 30277) ➞ 31499\n"
      ],
      "metadata": {
        "id": "l458R7ZKeCTG"
      }
    },
    {
      "cell_type": "code",
      "source": [
        "def meme_sum(a,b):\n",
        "  a,b=str(a),str(b)\n",
        "  output=''\n",
        "  while len(a)!=len(b):\n",
        "    if len(a)<len(b):\n",
        "      a='0'+a\n",
        "    else:\n",
        "      b='0'+b\n",
        "  for ele in range(len(a)):\n",
        "    output+=str(int(a[ele])+int(b[ele]))\n",
        "  print(f'meme_sum{a,b}->{output}')\n",
        "meme_sum(26, 39)\n",
        "meme_sum(122, 81)\n",
        "meme_sum(1222, 30277) "
      ],
      "metadata": {
        "colab": {
          "base_uri": "https://localhost:8080/"
        },
        "id": "YO314ht8k0k5",
        "outputId": "5bb0ca91-31b2-4227-e76b-d3d7ca4de555"
      },
      "execution_count": 14,
      "outputs": [
        {
          "output_type": "stream",
          "name": "stdout",
          "text": [
            "meme_sum('26', '39')->515\n",
            "meme_sum('122', '081')->1103\n",
            "meme_sum('01222', '30277')->31499\n"
          ]
        }
      ]
    },
    {
      "cell_type": "markdown",
      "source": [
        "\n",
        "# 2. Given an integer, create a function that returns the next prime. If the number is prime, return the number itself.\n",
        "\n",
        "Examples\n",
        "\n",
        "next_prime(12) ➞ 13\n",
        "\n",
        "next_prime(24) ➞ 29\n",
        "\n",
        "next_prime(11) ➞ 11\n",
        "# 11 is a prime, so we return the number itself.\n"
      ],
      "metadata": {
        "id": "W_BmsW7imEf7"
      }
    },
    {
      "cell_type": "code",
      "source": [
        "def next_prime(n):\n",
        "  def is_prime(num):\n",
        "    if num<=1:\n",
        "      return False\n",
        "    for i in range(2,int(num**0.5)+1):\n",
        "      if num%i==0:\n",
        "        return False\n",
        "    return True\n",
        "  if is_prime(n):\n",
        "    return n\n",
        "  n+=1\n",
        "  while not is_prime(n):\n",
        "    n+=1\n",
        "  return n\n"
      ],
      "metadata": {
        "id": "7kmc_SjKtSVm"
      },
      "execution_count": 42,
      "outputs": []
    },
    {
      "cell_type": "code",
      "source": [
        "\n",
        "next_prime(11)"
      ],
      "metadata": {
        "colab": {
          "base_uri": "https://localhost:8080/"
        },
        "id": "QIiOrTCxvzm4",
        "outputId": "c2070d2f-26b0-4df0-e93d-1b530f3d6fdc"
      },
      "execution_count": 41,
      "outputs": [
        {
          "output_type": "execute_result",
          "data": {
            "text/plain": [
              "11"
            ]
          },
          "metadata": {},
          "execution_count": 41
        }
      ]
    },
    {
      "cell_type": "code",
      "source": [
        "next_prime(12) "
      ],
      "metadata": {
        "colab": {
          "base_uri": "https://localhost:8080/"
        },
        "id": "Rt1645eon6XS",
        "outputId": "9f9e8c45-d2cf-45c2-a12f-7fba6a10baf7"
      },
      "execution_count": 39,
      "outputs": [
        {
          "output_type": "execute_result",
          "data": {
            "text/plain": [
              "13"
            ]
          },
          "metadata": {},
          "execution_count": 39
        }
      ]
    },
    {
      "cell_type": "code",
      "source": [
        "\n",
        "\n",
        "next_prime(24)"
      ],
      "metadata": {
        "colab": {
          "base_uri": "https://localhost:8080/"
        },
        "id": "BAGD60uwn9_S",
        "outputId": "9c8a21c6-9b33-44c3-f307-74ff68aa1166"
      },
      "execution_count": 40,
      "outputs": [
        {
          "output_type": "execute_result",
          "data": {
            "text/plain": [
              "29"
            ]
          },
          "metadata": {},
          "execution_count": 40
        }
      ]
    },
    {
      "cell_type": "markdown",
      "source": [
        "# 3. If a person traveled up a hill for 18mins at 20mph and then traveled back down the same path at 60mph then their average speed traveled was 30mph.\n",
        "\n",
        "Write a function that returns the average speed traveled given an uphill time, uphill rate and a downhill rate. Uphill time is given in minutes. Return the rate as an integer (mph). No rounding is necessary.\n",
        "\n",
        "Examples\n",
        "\n",
        "ave_spd(18, 20, 60) ➞ 30\n",
        "\n",
        "ave_spd(30, 10, 30) ➞ 15\n",
        "\n",
        "ave_spd(30, 8, 24) ➞ 12\n"
      ],
      "metadata": {
        "id": "2OKTt6f0v6_B"
      }
    },
    {
      "cell_type": "code",
      "source": [
        "def ave_spd(up_time,up_speed,down_speed):\n",
        "  distance=up_speed*(up_time/60)\n",
        "  down_time=distance/down_speed\n",
        "  output=(2*distance)/((up_time/60)+down_time)\n",
        "  print(f'ave_speed{up_time,up_speed,down_speed}->{int(output)}')\n",
        "ave_spd(18, 20, 60)\n",
        "ave_spd(30, 10, 30)\n",
        "ave_spd(30, 8, 24)"
      ],
      "metadata": {
        "colab": {
          "base_uri": "https://localhost:8080/"
        },
        "id": "yNs9XcSd2LX3",
        "outputId": "ee79fcf8-1e8c-43fa-8119-d32eac945ff8"
      },
      "execution_count": 58,
      "outputs": [
        {
          "output_type": "stream",
          "name": "stdout",
          "text": [
            "ave_speed(18, 20, 60)->30\n",
            "ave_speed(30, 10, 30)->15\n",
            "ave_speed(30, 8, 24)->12\n"
          ]
        }
      ]
    },
    {
      "cell_type": "markdown",
      "source": [
        "# 4. The Kempner Function, applied to a composite number, permits to find the smallest integer greater than zero whose factorial is exactly divided by the number.\n",
        "\n",
        "kempner(6) ➞ 3\n",
        "\n",
        "1! = 1 % 6 > 0\n",
        "2! = 2 % 6 > 0\n",
        "3! = 6 % 6 === 0\n",
        "\n",
        "kempner(10) ➞ 5\n",
        "\n",
        "1! = 1 % 10 > 0\n",
        "2! = 2 % 10 > 0\n",
        "3! = 6 % 10 > 0\n",
        "4! = 24 % 10 > 0\n",
        "5! = 120 % 10 === 0\n",
        "\n",
        "A Kempner Function applied to a prime will always return the prime itself.\n",
        "\n",
        "kempner(2) ➞ 2\n",
        "kempner(5) ➞ 5\n",
        "\n",
        "Given an integer n, implement a Kempner Function.\n",
        "\n",
        "Examples\n",
        "\n",
        "kempner(6) ➞ 3\n",
        "\n",
        "kempner(10) ➞ 5\n",
        "\n",
        "kempner(2) ➞ 2\n"
      ],
      "metadata": {
        "id": "QwJ2SQXM52pE"
      }
    },
    {
      "cell_type": "code",
      "source": [
        "def kempner(in_num):\n",
        "  def factorial(in_num):\n",
        "    if in_num==1:\n",
        "      return 1\n",
        "    else:\n",
        "      return in_num*factorial(in_num-1)\n",
        "  for ele in range(1,in_num+1):\n",
        "    if factorial(ele)%in_num==0:\n",
        "      output=ele\n",
        "      break\n",
        "  print(f'kempner({in_num})->{output}')\n",
        "kempner(6)\n",
        "\n",
        "kempner(10)\n",
        "\n",
        "kempner(2) "
      ],
      "metadata": {
        "colab": {
          "base_uri": "https://localhost:8080/"
        },
        "id": "i9MqC6lF6NmX",
        "outputId": "8e46c9b2-fdf2-4f34-f842-5c5c5f661f75"
      },
      "execution_count": 63,
      "outputs": [
        {
          "output_type": "stream",
          "name": "stdout",
          "text": [
            "kempner(6)->3\n",
            "kempner(10)->5\n",
            "kempner(2)->2\n"
          ]
        }
      ]
    },
    {
      "cell_type": "markdown",
      "source": [
        "# 5. You work in a factory, and your job is to take items from a conveyor belt and pack them into boxes. Each box can hold a maximum of 10 kgs. Given a list containing the weight (in kg) of each item, how many boxes would you need to pack all of the items?\n",
        "\n",
        "Example\n",
        "\n",
        "boxes([2, 1, 2, 5, 4, 3, 6, 1, 1, 9, 3, 2]) ➞ 5\n",
        "\n",
        "# Box 1 = [2, 1, 2, 5] (10kg)\n",
        "# Box 2 = [4, 3] (7kg)\n",
        "# Box 3 = [6, 1, 1] (8kg)\n",
        "# Box 4 = [9] (9kg)\n",
        "# Box 5 = [3, 2] (5kg)\n"
      ],
      "metadata": {
        "id": "s4yz-GaT-D4M"
      }
    },
    {
      "cell_type": "code",
      "source": [
        "def boxes_needed(weights):\n",
        "  boxes=0\n",
        "  box_weight=0\n",
        "  for weight in weights:\n",
        "    if box_weight+weight<=10:\n",
        "      box_weight+=weight\n",
        "    else:\n",
        "      boxes+=1\n",
        "      box_weight=weight\n",
        "  if box_weight>0:\n",
        "    boxes+=1\n",
        "  return boxes\n",
        "boxes_needed([2, 1, 2, 5, 4, 3, 6, 1, 1, 9, 3, 2]) "
      ],
      "metadata": {
        "colab": {
          "base_uri": "https://localhost:8080/"
        },
        "id": "VHUwlv2E-SyM",
        "outputId": "d968be43-3915-4cf2-bf98-03582d1e0a9c"
      },
      "execution_count": 72,
      "outputs": [
        {
          "output_type": "execute_result",
          "data": {
            "text/plain": [
              "5"
            ]
          },
          "metadata": {},
          "execution_count": 72
        }
      ]
    }
  ]
}