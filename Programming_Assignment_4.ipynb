{
  "nbformat": 4,
  "nbformat_minor": 0,
  "metadata": {
    "colab": {
      "name": "Programming Assignment_4.ipynb",
      "provenance": []
    },
    "kernelspec": {
      "name": "python3",
      "display_name": "Python 3"
    },
    "language_info": {
      "name": "python"
    }
  },
  "cells": [
    {
      "cell_type": "markdown",
      "metadata": {
        "id": "FdvftAnf7GcQ"
      },
      "source": [
        "1. \n",
        "Write a Python Program to Find the Factorial of a Number?"
      ]
    },
    {
      "cell_type": "code",
      "metadata": {
        "colab": {
          "base_uri": "https://localhost:8080/"
        },
        "id": "l6ixAZQr7AEz",
        "outputId": "13a22672-0d55-4d41-c86a-01016e7c5355"
      },
      "source": [
        "\n",
        "num = int(input(\"Enter a number: \"))\n",
        "fact = 1\n",
        "if num < 0:\n",
        "   print(\" factorial does not exist for negative numbers\")\n",
        "elif num == 0:\n",
        "   print(\"The factorial of 0 is 1\")\n",
        "else:\n",
        "   for i in range(1,num + 1):\n",
        "       fact = fact*i\n",
        "   print(\"The factorial of\",num,\"is\",fact)"
      ],
      "execution_count": 1,
      "outputs": [
        {
          "output_type": "stream",
          "name": "stdout",
          "text": [
            "Enter a number: 4\n",
            "The factorial of 4 is 24\n"
          ]
        }
      ]
    },
    {
      "cell_type": "markdown",
      "metadata": {
        "id": "DYfSoqwO7zxv"
      },
      "source": [
        "2.\n",
        " Write a Python Program to Display the multiplication Table?"
      ]
    },
    {
      "cell_type": "code",
      "metadata": {
        "colab": {
          "base_uri": "https://localhost:8080/"
        },
        "id": "_adkSg9u78ym",
        "outputId": "9056cc92-4503-4a11-97b2-ac432dedfb56"
      },
      "source": [
        "num = int(input(\"Display multiplication table of? \"))\n",
        "\n",
        "for i in range(1, 11):\n",
        "   print(num, 'x', i, '=', num*i)"
      ],
      "execution_count": 2,
      "outputs": [
        {
          "output_type": "stream",
          "name": "stdout",
          "text": [
            "Display multiplication table of? 10\n",
            "10 x 1 = 10\n",
            "10 x 2 = 20\n",
            "10 x 3 = 30\n",
            "10 x 4 = 40\n",
            "10 x 5 = 50\n",
            "10 x 6 = 60\n",
            "10 x 7 = 70\n",
            "10 x 8 = 80\n",
            "10 x 9 = 90\n",
            "10 x 10 = 100\n"
          ]
        }
      ]
    },
    {
      "cell_type": "markdown",
      "metadata": {
        "id": "xd0ximll8fw3"
      },
      "source": [
        "3.\n",
        " Write a Python Program to Print the Fibonacci sequence?"
      ]
    },
    {
      "cell_type": "code",
      "metadata": {
        "colab": {
          "base_uri": "https://localhost:8080/"
        },
        "id": "KxHVRd2k9AM1",
        "outputId": "b7902210-1c76-4041-8112-a17907d76d83"
      },
      "source": [
        "num = int(input(\"Enter the Range Number: \"))\n",
        "First_val = 0\n",
        "Second_val = 1\n",
        "for n in range(0, num):\n",
        "           if(n <= 1):\n",
        "                      next = n\n",
        "           else:\n",
        "                      next = First_val + Second_val\n",
        "                      First_val = Second_val\n",
        "                      Second_val = next\n",
        "           print(next)"
      ],
      "execution_count": 5,
      "outputs": [
        {
          "output_type": "stream",
          "name": "stdout",
          "text": [
            "Enter the Range Number: 8\n",
            "0\n",
            "1\n",
            "1\n",
            "2\n",
            "3\n",
            "5\n",
            "8\n",
            "13\n"
          ]
        }
      ]
    },
    {
      "cell_type": "markdown",
      "metadata": {
        "id": "pdznnKO58_lf"
      },
      "source": [
        "4. \n",
        "Write a Python Program to Check Armstrong Number?"
      ]
    },
    {
      "cell_type": "code",
      "metadata": {
        "colab": {
          "base_uri": "https://localhost:8080/"
        },
        "id": "tvWk6kES9wHv",
        "outputId": "28b909fd-25af-4c6e-f21e-7af83838319b"
      },
      "source": [
        "\n",
        "num = int(input(\"Enter a number: \"))\n",
        "sum = 0\n",
        "temp = num\n",
        "while temp > 0:\n",
        "   digit = temp % 10\n",
        "   sum += digit ** 3\n",
        "   temp //= 10\n",
        "if num == sum:\n",
        "   print(num,\"is an Armstrong number\")\n",
        "else:\n",
        "   print(num,\"is not an Armstrong number\")\n"
      ],
      "execution_count": 7,
      "outputs": [
        {
          "output_type": "stream",
          "name": "stdout",
          "text": [
            "Enter a number: 407\n",
            "407 is an Armstrong number\n"
          ]
        }
      ]
    },
    {
      "cell_type": "markdown",
      "metadata": {
        "id": "lgpz6dha-iCR"
      },
      "source": [
        "5. \n",
        " Write a Python Program to Find Armstrong Number in an Interval?"
      ]
    },
    {
      "cell_type": "code",
      "metadata": {
        "colab": {
          "base_uri": "https://localhost:8080/"
        },
        "id": "CS_aTwf8-p39",
        "outputId": "406d3e86-e7a4-491e-c32a-872234ed79ab"
      },
      "source": [
        "l= int(input(\"Enter lower range: \"))  \n",
        "u= int(input(\"Enter upper range: \"))  \n",
        "  \n",
        "for num in range(l,u + 1):  \n",
        "   sum = 0  \n",
        "   temp = num  \n",
        "   while temp > 0:  \n",
        "       digit = temp % 10  \n",
        "       sum += digit ** 3  \n",
        "       temp //= 10  \n",
        "       if num == sum:  \n",
        "            print(num)  "
      ],
      "execution_count": 9,
      "outputs": [
        {
          "output_type": "stream",
          "name": "stdout",
          "text": [
            "Enter lower range: 100\n",
            "Enter upper range: 500\n",
            "125\n",
            "153\n",
            "216\n",
            "370\n",
            "371\n",
            "407\n"
          ]
        }
      ]
    },
    {
      "cell_type": "markdown",
      "metadata": {
        "id": "L8e7u0SF-zin"
      },
      "source": [
        "6. \n",
        "Write a Python Program to Find the Sum of Natural Numbers?"
      ]
    },
    {
      "cell_type": "code",
      "metadata": {
        "colab": {
          "base_uri": "https://localhost:8080/"
        },
        "id": "8J_konWG_QNe",
        "outputId": "26de51ef-2c0e-4211-e7d4-be9c3998ad11"
      },
      "source": [
        "num = int(input(\"Enter the Number: \"))\n",
        "sum = 0\n",
        "for value in range(1, num + 1):\n",
        "    sum = sum + value\n",
        "print(sum)\n",
        " "
      ],
      "execution_count": 8,
      "outputs": [
        {
          "output_type": "stream",
          "name": "stdout",
          "text": [
            "Enter the Number: 10\n",
            "55\n"
          ]
        }
      ]
    }
  ]
}