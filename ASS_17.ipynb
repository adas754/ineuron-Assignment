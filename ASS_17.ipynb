{
  "nbformat": 4,
  "nbformat_minor": 0,
  "metadata": {
    "colab": {
      "provenance": []
    },
    "kernelspec": {
      "name": "python3",
      "display_name": "Python 3"
    },
    "language_info": {
      "name": "python"
    }
  },
  "cells": [
    {
      "cell_type": "code",
      "execution_count": 1,
      "metadata": {
        "colab": {
          "base_uri": "https://localhost:8080/"
        },
        "id": "7EPOXOVdPVAC",
        "outputId": "529e76d3-0515-4ebb-e58e-23d40db325ef"
      },
      "outputs": [
        {
          "output_type": "stream",
          "name": "stdout",
          "text": [
            "(1, 10, 20)=>0\n",
            "(1, 10, 2)=>30\n",
            "(1, 10, 3)=>18\n"
          ]
        }
      ],
      "source": [
        "def even_divisible(a,b,c):\n",
        "  divlist=[]\n",
        "  for num in range(a,b+1):\n",
        "    if num%c==0:\n",
        "      divlist.append(num)\n",
        "  print(f'{a,b,c}=>{sum(divlist)}')\n",
        "even_divisible(1,10,20)\n",
        "even_divisible(1,10,2)\n",
        "even_divisible(1,10,3)"
      ]
    },
    {
      "cell_type": "code",
      "source": [
        "def checkEquality():\n",
        "  in_string=input(\"Enter the inequality :\")\n",
        "  out_bool=eval(in_string)\n",
        "  print(f'{in_string}=>{out_bool}')\n",
        "for x in range(3):\n",
        "  checkEquality()"
      ],
      "metadata": {
        "colab": {
          "base_uri": "https://localhost:8080/"
        },
        "id": "HeriRYftTPdY",
        "outputId": "c1407f7f-3f46-4a15-a84f-ff9c6e7dd891"
      },
      "execution_count": 2,
      "outputs": [
        {
          "output_type": "stream",
          "name": "stdout",
          "text": [
            "Enter the inequality :3 < 7 < 11\n",
            "3 < 7 < 11=>True\n",
            "Enter the inequality :13 > 44 > 33 > 1\n",
            "13 > 44 > 33 > 1=>False\n",
            "Enter the inequality :1 < 2 < 6 < 9 > 3\n",
            "1 < 2 < 6 < 9 > 3=>True\n"
          ]
        }
      ]
    },
    {
      "cell_type": "code",
      "source": [
        "def replacevowels():\n",
        "  vowels=['a','e','i','o','u','A','E','I','O','U']\n",
        "  in_string=input(\"string\")\n",
        "  in_string_copy=in_string\n",
        "  in_char=input(\"Replacement character :\")\n",
        "  for ele in in_string:\n",
        "    if ele in vowels:\n",
        "      in_string=in_string.replace(ele,in_char)\n",
        "  print(f'{in_string_copy}{in_char}=>{in_string}')\n",
        "for x in range(3):\n",
        "  replacevowels()\n"
      ],
      "metadata": {
        "colab": {
          "base_uri": "https://localhost:8080/"
        },
        "id": "BALrsRbeV0VH",
        "outputId": "8b6902cd-83f3-450b-8769-2ef535984ff4"
      },
      "execution_count": 3,
      "outputs": [
        {
          "output_type": "stream",
          "name": "stdout",
          "text": [
            "stringthe aardvark\n",
            "Replacement character :#\n",
            "the aardvark#=>th# ##rdv#rk\n",
            "stringminnie mouse\n",
            "Replacement character :?\n",
            "minnie mouse?=>m?nn?? m??s?\n",
            "string shakespeare\n",
            "Replacement character :*\n",
            " shakespeare*=> sh*k*sp**r*\n"
          ]
        }
      ]
    },
    {
      "cell_type": "code",
      "source": [
        "def factorial(n):\n",
        "  if n==0:\n",
        "    return 1\n",
        "  return n*factorial(n-1)\n",
        "print(f'factorial(5)->{factorial(5)}')\n",
        "print(f'factorial(3)->{factorial(3)}')\n",
        "print(f'factorial(1)->{factorial(1)}')\n",
        "print(f'factorial(0)->{factorial(0)}')"
      ],
      "metadata": {
        "colab": {
          "base_uri": "https://localhost:8080/"
        },
        "id": "KugJa4erZa6s",
        "outputId": "aa92fc94-e087-469e-89a5-0ab75b887707"
      },
      "execution_count": 4,
      "outputs": [
        {
          "output_type": "stream",
          "name": "stdout",
          "text": [
            "factorial(5)->120\n",
            "factorial(3)->6\n",
            "factorial(1)->1\n",
            "factorial(0)->1\n"
          ]
        }
      ]
    },
    {
      "cell_type": "code",
      "source": [
        "def genHamDistance():\n",
        "  in_string_1=input(\"Enter the String 1 :\")\n",
        "  in_string_2=input(\"Enter the string 2 :\")\n",
        "  if len(in_string_1)==len(in_string_2):\n",
        "     count=0\n",
        "     for i in range(len(in_string_1)):\n",
        "       if in_string_1[i]!=in_string_2[i]:\n",
        "         count=count+1\n",
        "     print(f'Haming Distance b/w {in_string_1} and {in_string_2} -> {count}')\n",
        "  else:\n",
        "    print('both string must be of same length')\n",
        "for x in range(3):\n",
        "  genHamDistance()\n"
      ],
      "metadata": {
        "colab": {
          "base_uri": "https://localhost:8080/"
        },
        "id": "W2qnif7hkr-u",
        "outputId": "b0a58e1e-306c-49da-926e-fa682f07e904"
      },
      "execution_count": 10,
      "outputs": [
        {
          "output_type": "stream",
          "name": "stdout",
          "text": [
            "Enter the String 1 :abcde\n",
            "Enter the string 2 :bcdef\n",
            "Haming Distance b/w abcde and bcdef -> 5\n",
            "Enter the String 1 :abcde\n",
            "Enter the string 2 :abcde\n",
            "Haming Distance b/w abcde and abcde -> 0\n",
            "Enter the String 1 :strong\n",
            "Enter the string 2 :strung\n",
            "Haming Distance b/w strong and strung -> 1\n"
          ]
        }
      ]
    }
  ]
}