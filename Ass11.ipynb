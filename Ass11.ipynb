{
  "nbformat": 4,
  "nbformat_minor": 0,
  "metadata": {
    "colab": {
      "provenance": []
    },
    "kernelspec": {
      "name": "python3",
      "display_name": "Python 3"
    },
    "language_info": {
      "name": "python"
    }
  },
  "cells": [
    {
      "cell_type": "markdown",
      "source": [
        "# Write a Python program to find \n",
        "#words which are \n",
        "#greater than given length k"
      ],
      "metadata": {
        "id": "i_Gnuoo4Rhva"
      }
    },
    {
      "cell_type": "code",
      "source": [
        "\n",
        "def find_long_words(string,k):\n",
        "  words=string.split()\n",
        "  long_words=[]\n",
        "  for word in words:\n",
        "    if len(word)>k:\n",
        "      long_words.append(word)\n",
        "  return long_words\n",
        "string=input(\"Enter a string :\")\n",
        "k=int(input(\"Enter length of string : \"))\n",
        "long_words=find_long_words(string,k)\n",
        "print(long_words)"
      ],
      "metadata": {
        "colab": {
          "base_uri": "https://localhost:8080/"
        },
        "id": "SHrLwGtFOspq",
        "outputId": "8c8b0c5d-56cf-4a42-9ca5-593d374b4c12"
      },
      "execution_count": 6,
      "outputs": [
        {
          "output_type": "stream",
          "name": "stdout",
          "text": [
            "Enter a string :i love python and ai\n",
            "Enter length of string : 3\n",
            "['love', 'python']\n"
          ]
        }
      ]
    },
    {
      "cell_type": "markdown",
      "source": [
        "# Write a Python program for removing i-th character from a string"
      ],
      "metadata": {
        "id": "oz5OSYjJfRgO"
      }
    },
    {
      "cell_type": "code",
      "source": [
        "def removeCharacter():\n",
        "  in_string=input(\"Enter a string :\")\n",
        "  in_char_num=int(input(\"Enter the ith character :\"))\n",
        "  out_string=\" \"\n",
        "  for ele in range(len(in_string)):\n",
        "    if ele!=in_char_num:\n",
        "      out_string=out_string+in_string[ele]\n",
        "  print(out_string)\n",
        "removeCharacter()"
      ],
      "metadata": {
        "colab": {
          "base_uri": "https://localhost:8080/"
        },
        "id": "GyJKAz26dagx",
        "outputId": "756f1f9f-682a-47b9-b481-95b28fcfecab"
      },
      "execution_count": 8,
      "outputs": [
        {
          "output_type": "stream",
          "name": "stdout",
          "text": [
            "Enter a string :ghechuu\n",
            "Enter the ith character :6\n",
            " ghechu\n"
          ]
        }
      ]
    },
    {
      "cell_type": "markdown",
      "source": [
        "# Write a Python program to split and join a string "
      ],
      "metadata": {
        "id": "hFRBH50LjMGQ"
      }
    },
    {
      "cell_type": "code",
      "source": [
        "def splitJoinString():\n",
        "    in_string = input('Enter the string: ')\n",
        "    print(f\"Split String: {in_string.split(' ')}\")\n",
        "    print(f\"Join String: {' '.join(in_string.split(' '))}\")\n",
        "\n",
        "splitJoinString()"
      ],
      "metadata": {
        "colab": {
          "base_uri": "https://localhost:8080/"
        },
        "id": "cDmQTI9Li_P2",
        "outputId": "70a849cc-ca3b-4ff1-d0fb-e6a25ffc4d11"
      },
      "execution_count": 9,
      "outputs": [
        {
          "output_type": "stream",
          "name": "stdout",
          "text": [
            "Enter the string: munai loves python\n",
            "Split String: ['munai', 'loves', 'python']\n",
            "Join String: munai loves python\n"
          ]
        }
      ]
    },
    {
      "cell_type": "markdown",
      "source": [
        "# Write a Python to check if a given string is binary string or not "
      ],
      "metadata": {
        "id": "Ez3RYftowqky"
      }
    },
    {
      "cell_type": "code",
      "source": [
        "def checkBinary():\n",
        "  in_string=input(\"Enter a string :\")\n",
        "  stun=0\n",
        "  for ele in in_string:\n",
        "    if ele in ['1','0']:\n",
        "      stun=1\n",
        "      continue\n",
        "    else:\n",
        "      stun=0\n",
        "      break\n",
        "  statement='is a binary string ' if stun==1 else 'is not binary string'\n",
        "  print(f'{in_string}{statement}')\n",
        "checkBinary()"
      ],
      "metadata": {
        "colab": {
          "base_uri": "https://localhost:8080/"
        },
        "id": "PXXTnSQIxB5O",
        "outputId": "27bc4dbc-b0a2-4629-991b-28ec03739282"
      },
      "execution_count": 17,
      "outputs": [
        {
          "output_type": "stream",
          "name": "stdout",
          "text": [
            "Enter a string :11110\n",
            "11110is a binary string \n"
          ]
        }
      ]
    },
    {
      "cell_type": "markdown",
      "source": [
        "# Write a Python program to find uncommon words from two Strings "
      ],
      "metadata": {
        "id": "o7qgrcZ1HTZp"
      }
    },
    {
      "cell_type": "code",
      "source": [
        "def uncommonwords():\n",
        "  in_string_1=set(input(\"Enter the string 1 \").split(' '))\n",
        "  in_string_2=set(input(\"Enter the string 2 \").split(' '))\n",
        "  out_string=(in_string_1.union(in_string_2)).difference(in_string_1.intersection(in_string_2))\n",
        "  print(out_string)\n",
        "uncommonwords()"
      ],
      "metadata": {
        "colab": {
          "base_uri": "https://localhost:8080/"
        },
        "id": "riiUaieD5gkq",
        "outputId": "59d0507e-c27c-4e96-b4f7-1977db103d43"
      },
      "execution_count": 20,
      "outputs": [
        {
          "output_type": "stream",
          "name": "stdout",
          "text": [
            "Enter the string 1 munai das\n",
            "Enter the string 2 monu das\n",
            "{'munai', 'monu'}\n"
          ]
        }
      ]
    },
    {
      "cell_type": "markdown",
      "source": [
        "# Write a Python to find all duplicate characters in string "
      ],
      "metadata": {
        "id": "7sTrQUakMrYR"
      }
    },
    {
      "cell_type": "code",
      "source": [
        "def duplicatechars():\n",
        "  in_string=input(\"Enter a string :\")\n",
        "  non_duplicate_list=[]\n",
        "  duplicate_list=[]\n",
        "  for ele in in_string:\n",
        "    if ele not in non_duplicate_list:\n",
        "      non_duplicate_list.append(ele)\n",
        "    else:\n",
        "      duplicate_list.append(ele)\n",
        "  print(f'duplicate characters are :{list(set(duplicate_list))}')\n",
        "duplicatechars()"
      ],
      "metadata": {
        "colab": {
          "base_uri": "https://localhost:8080/"
        },
        "id": "cejtRJ2nKuDj",
        "outputId": "bf15a2c2-7139-4a93-9545-a2f894ffbac4"
      },
      "execution_count": 23,
      "outputs": [
        {
          "output_type": "stream",
          "name": "stdout",
          "text": [
            "Enter a string :data science\n",
            "duplicate characters are :['c', 'e', 'a']\n"
          ]
        }
      ]
    },
    {
      "cell_type": "markdown",
      "source": [
        "# Write a Python Program to check if a string contains any special character"
      ],
      "metadata": {
        "id": "DkMGlnlfRhNY"
      }
    },
    {
      "cell_type": "code",
      "source": [
        "def checkspecialchar():\n",
        "  spl_char= '[@_!#$%^&*()<>?/\\|}{~:]'\n",
        "  in_num=input(\"Enter a string :\")\n",
        "  count=0\n",
        "  count_list=[]\n",
        "  for ele in in_num:\n",
        "    if ele in spl_char:\n",
        "      count_list.append(ele)\n",
        "      count=count+1\n",
        "  print(f'There are {count} special character {in_num} which are {count_list}')"
      ],
      "metadata": {
        "id": "zITeB7E1PQY5"
      },
      "execution_count": 24,
      "outputs": []
    },
    {
      "cell_type": "code",
      "source": [
        "checkspecialchar()"
      ],
      "metadata": {
        "colab": {
          "base_uri": "https://localhost:8080/"
        },
        "id": "2cz4wZBFUcJz",
        "outputId": "2a178057-a933-45c0-9c62-6bd24a4daf64"
      },
      "execution_count": 25,
      "outputs": [
        {
          "output_type": "stream",
          "name": "stdout",
          "text": [
            "Enter a string :i love #python\n",
            "There are 1 special character i love #python which are ['#']\n"
          ]
        }
      ]
    }
  ]
}