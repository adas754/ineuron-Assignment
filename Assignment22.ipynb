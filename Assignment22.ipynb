{
  "nbformat": 4,
  "nbformat_minor": 0,
  "metadata": {
    "colab": {
      "provenance": []
    },
    "kernelspec": {
      "name": "python3",
      "display_name": "Python 3"
    },
    "language_info": {
      "name": "python"
    }
  },
  "cells": [
    {
      "cell_type": "markdown",
      "source": [
        "# 1. Create a class Smoothie and do the following:\n",
        "\n",
        "    - Create an instance attribute called ingredients.\n",
        "    - Create a get_cost method which calculates the total cost of the ingredients used to make the smoothie.\n",
        "    - Create a get_price method which returns the number from get_cost plus the number from get_cost multiplied by 1.5. Round to two decimal places.\n",
        "    - Create a get_name method which gets the ingredients and puts them in alphabetical order into a nice descriptive sentence. If there are multiple ingredients, add the word \"Fusion\" to the end but otherwise, add \"Smoothie\". Remember to change \"-berries\" to \"-berry\". See the examples below.\n",
        "\n",
        "Ingredient\t   Price\n",
        "Strawberries   $1.50\n",
        "Banana\t       $0.50\n",
        "Mango\t       $2.50\n",
        "Blueberries\t   $1.00\n",
        "Raspberries\t   $1.00\n",
        "Apple\t       $1.75\n",
        "Pineapple\t   $3.50\n",
        "\n",
        "Examples\n",
        "\n",
        "s1 = Smoothie([\"Banana\"])\n",
        "\n",
        "s1.ingredients ➞ [\"Banana\"]\n",
        "\n",
        "s1.get_cost() ➞ \"$0.50\"\n",
        "\n",
        "s1.get_price() ➞ \"$1.25\"\n",
        "\n",
        "s1.get_name() ➞ \"Banana Smoothie\"\n",
        "\n",
        "s2 = Smoothie([\"Raspberries\", \"Strawberries\", \"Blueberries\"])\n",
        "\n",
        "s2.ingredients ➞ [\"Raspberries\", \"Strawberries\", \"Blueberries\"]\n",
        "\n",
        "s2.get_cost() ➞ \"$3.50\"\n",
        "\n",
        "s2.get_price() ➞ \"$8.75\"\n",
        "\n",
        "s2.get_name() ➞ \"Blueberry Raspberry Strawberry Fusion\"\n",
        "\n",
        "\n"
      ],
      "metadata": {
        "id": "zvpq0Vx6Gt7-"
      }
    },
    {
      "cell_type": "code",
      "execution_count": 2,
      "metadata": {
        "id": "8eqlQZgGGXks",
        "colab": {
          "base_uri": "https://localhost:8080/"
        },
        "outputId": "79be7fe4-8bac-4695-f00c-55136e14ed31"
      },
      "outputs": [
        {
          "output_type": "stream",
          "name": "stdout",
          "text": [
            "s1.ingredients ➞ ['Banana']\n",
            "s1.get_cost() ➞ \"$0.5\"\n",
            "s1.get_price() ➞ \"$1.25\"\n",
            "s1.get_name() ➞ \"Bananasmoothie\"\n",
            "s2.ingredients ➞ ['Raspberries', 'Strawberries', 'Blueberries']\n",
            "s2.get_cost() ➞ \"$3.5\"\n",
            "s2.get_price() ➞ \"$8.75\"\n",
            "s2.get_name() ➞ \"BlueberryRaspberryStrawberry Fusion\"\n"
          ]
        }
      ],
      "source": [
        "import re\n",
        "class smoothie:\n",
        "  ingredients_price={\n",
        "      'Strawberries':1.50,\n",
        "      'Banana':0.50,\n",
        "      'Mango'\t:2.50,\n",
        "      'Blueberries':1.00,\n",
        "      'Raspberries':1.00,\n",
        "      'Apple':1.75,\n",
        "      'Pineapple':3.50\n",
        "  }\n",
        "  def __init__(self,ingredients):\n",
        "    self.ingredients=ingredients\n",
        "    self.cost=0\n",
        "  def get_cost(self):\n",
        "    for ele in self.ingredients:\n",
        "      if ele in smoothie.ingredients_price:\n",
        "        self.cost+=round(smoothie.ingredients_price.get(ele,0),2)\n",
        "    return '$'+str(self.cost)\n",
        "  def get_price(self):\n",
        "    self.price=round((self.cost*1.5)+(self.cost),2)\n",
        "    return '$'+str(self.price)\n",
        "  def get_name(self):\n",
        "    self.name=re.sub('berries','berry',''.join(sorted(self.ingredients)))\n",
        "    self.name=self.name+'smoothie' if len(self.ingredients) ==1 else self.name+' Fusion'\n",
        "    return self.name\n",
        "\n",
        "s1 = smoothie([\"Banana\"])\n",
        "print(f's1.ingredients ➞ {s1.ingredients}')\n",
        "print(f's1.get_cost() ➞ \"{s1.get_cost()}\"')\n",
        "print(f's1.get_price() ➞ \"{s1.get_price()}\"')\n",
        "print(f's1.get_name() ➞ \"{s1.get_name()}\"')\n",
        "\n",
        "s2 = smoothie([\"Raspberries\", \"Strawberries\", \"Blueberries\"])\n",
        "print(f's2.ingredients ➞ {s2.ingredients}')\n",
        "print(f's2.get_cost() ➞ \"{s2.get_cost()}\"')\n",
        "print(f's2.get_price() ➞ \"{s2.get_price()}\"')\n",
        "print(f's2.get_name() ➞ \"{s2.get_name()}\"')\n",
        "\n"
      ]
    },
    {
      "cell_type": "markdown",
      "source": [
        "2. Your task is to write a program which allows teachers to create a multiple choice test in a class called Testpaper and to be also able to assign a minimum pass mark. The testpaper's subject should also be included. The attributes are in the following order:\n",
        "\n",
        "  1. subject\n",
        "  2. markscheme\n",
        "  3. pass_mark\n",
        "\n",
        "As well as that, we need to create student objects to take the test itself! Create another class called Student and do the following:\n",
        "\n",
        "  - Create an attribute called tests_taken and set the default as 'No tests taken'.\n",
        "  - Make a method called take_test(), which takes in the testpaper object they are completing and the student's answers. Compare what they wrote to the mark scheme, and append to the/create a dictionary assigned to tests_taken in the way as shown in the point below.\n",
        "  - Each key in the dictionary should be the testpaper subject and each value should be a string in the format seen in the examples below (whether or not the student has failed, and their percentage in brackets).\n",
        "\n",
        "Examples\n",
        "\n",
        "paper1 = Testpaper(\"Maths\", [\"1A\", \"2C\", \"3D\", \"4A\", \"5A\"], \"60%\")\n",
        "paper2 = Testpaper(\"Chemistry\", [\"1C\", \"2C\", \"3D\", \"4A\"], \"75%\")\n",
        "paper3 = Testpaper(\"Computing\", [\"1D\", \"2C\", \"3C\", \"4B\", \"5D\", \"6C\", \"7A\"], \"75%\")\n",
        "\n",
        "student1 = Student()\n",
        "student2 = Student()\n",
        "\n",
        "student1.tests_taken ➞ \"No tests taken\"\n",
        "student1.take_test(paper1, [\"1A\", \"2D\", \"3D\", \"4A\", \"5A\"])\n",
        "student1.tests_taken ➞ {\"Maths\" : \"Passed! (80%)\"}\n",
        "\n",
        "student2.take_test(paper2, [\"1C\", \"2D\", \"3A\", \"4C\"])\n",
        "student2.take_test(paper3, [\"1A\", \"2C\", \"3A\", \"4C\", \"5D\", \"6C\", \"7B\"])\n",
        "student2.tests_taken ➞ {\"Chemistry\" : \"Failed! (25%)\", \"Computing\" : \"Failed! (43%)\"}\n",
        "\n"
      ],
      "metadata": {
        "id": "KHxV45mbiU_x"
      }
    },
    {
      "cell_type": "code",
      "source": [
        "class Testpaper:\n",
        "    def __init__(self, subject, markscheme, pass_mark):\n",
        "        self.subject = subject\n",
        "        self.markscheme = markscheme\n",
        "        self.pass_mark = pass_mark\n",
        "\n",
        "class Student:\n",
        "    def __init__(self):\n",
        "        self.tests_taken = \"No tests taken\"\n",
        "        \n",
        "    def take_test(self, testpaper, answers):\n",
        "        score = 0\n",
        "        total = len(testpaper.markscheme)\n",
        "        for i, ans in enumerate(answers):\n",
        "            if ans == testpaper.markscheme[i]:\n",
        "                score += 1\n",
        "        percentage = int(score / total * 100)\n",
        "        if percentage >= int(testpaper.pass_mark[:-1]):\n",
        "            result = \"Passed!\"\n",
        "        else:\n",
        "            result = \"Failed!\"\n",
        "        test_result = f\"{result} ({percentage}%)\"\n",
        "        if self.tests_taken == \"No tests taken\":\n",
        "            self.tests_taken = {testpaper.subject: test_result}\n",
        "        else:\n",
        "            self.tests_taken[testpaper.subject] = test_result\n",
        "paper1 = Testpaper(\"Maths\", [\"1A\", \"2C\", \"3D\", \"4A\", \"5A\"], \"60%\")\n",
        "paper2 = Testpaper(\"Chemistry\", [\"1C\", \"2C\", \"3D\", \"4A\"], \"75%\")\n",
        "paper3 = Testpaper(\"Computing\", [\"1D\", \"2C\", \"3C\", \"4B\", \"5D\", \"6C\", \"7A\"], \"75%\")\n",
        "\n",
        "student1 = Student()\n",
        "student2 = Student()\n",
        "\n",
        "print(student1.tests_taken) # No tests taken\n",
        "\n",
        "student1.take_test(paper1, [\"1A\", \"2D\", \"3D\", \"4A\", \"5A\"])\n",
        "print(student1.tests_taken) # {'Maths': 'Passed! (80%)'}\n",
        "\n",
        "student2.take_test(paper2, [\"1C\", \"2D\", \"3A\", \"4C\"])\n",
        "student2.take_test(paper3, [\"1A\", \"2C\", \"3A\", \"4C\", \"5D\", \"6C\", \"7B\"])\n",
        "print(student2.tests_taken) # {'Chemistry': 'Failed! (25%)', 'Computing': 'Failed! (43%)'}\n"
      ],
      "metadata": {
        "colab": {
          "base_uri": "https://localhost:8080/"
        },
        "id": "HyBub3-mrxLo",
        "outputId": "1f22911f-a64f-4d2f-be36-9f2ddf548a2b"
      },
      "execution_count": 6,
      "outputs": [
        {
          "output_type": "stream",
          "name": "stdout",
          "text": [
            "No tests taken\n",
            "{'Maths': 'Passed! (80%)'}\n",
            "{'Chemistry': 'Failed! (25%)', 'Computing': 'Failed! (42%)'}\n"
          ]
        }
      ]
    },
    {
      "cell_type": "markdown",
      "source": [
        "# 3. Due to unforseen circumstances in Suburbia, the trains will be delayed by a further 10 minutes.\n",
        "\n",
        "Create a function that will help to plan out and manage these delays! Create a function called manage_delays that does the following:\n",
        "\n",
        "   - Parameters will be the train object, a destination and number of minutes the delay is.\n",
        "   - Increment to the train object's expected_time by the delay, if the destination given is in the train object's destinations.\n",
        "\n",
        "Examples\n",
        "\n",
        "trains = [\n",
        "  Train([\"Townsville\", \"Suburbia\", \"Urbantska\"], \"13:04\"),\n",
        "  Train([\"Farmsdale\", \"Suburbia\", \"Lakeside Valley\"], \"13:20\"),\n",
        "  Train([\"Suburbia\", \"Townsville\", \"Lakeside Valley\"], \"13:22\")\n",
        "]\n",
        "\n",
        "for t in trains:\n",
        "    manage_delays(t, \"Lakeside Valley\", 60)\n",
        "\n",
        "trains[0].expected_time ➞ \"13:04\"\n",
        "\n",
        "trains[1].expected_time ➞ \"14:20\"\n",
        "\n",
        "trains[2].expected_time ➞ \"14:22\"\n"
      ],
      "metadata": {
        "id": "gwUj8FpgsAJO"
      }
    },
    {
      "cell_type": "code",
      "source": [
        "class Train:\n",
        "    def __init__(self, destinations, scheduled_time):\n",
        "        self.destinations = destinations\n",
        "        self.expected_time = scheduled_time\n",
        "\n",
        "def manage_delays(train, destination, delay_minutes):\n",
        "    if destination in train.destinations:\n",
        "        hours, minutes = map(int, train.expected_time.split(':'))\n",
        "        total_delay_minutes = minutes + delay_minutes\n",
        "        additional_hours = total_delay_minutes // 60\n",
        "        updated_hours = hours + additional_hours\n",
        "        updated_minutes = total_delay_minutes % 60\n",
        "        updated_time = f\"{updated_hours:02d}:{updated_minutes:02d}\"\n",
        "        train.expected_time = updated_time\n",
        "trains = [\n",
        "  Train([\"Townsville\", \"Suburbia\", \"Urbantska\"], \"13:04\"),\n",
        "  Train([\"Farmsdale\", \"Suburbia\", \"Lakeside Valley\"], \"13:20\"),\n",
        "  Train([\"Suburbia\", \"Townsville\", \"Lakeside Valley\"], \"13:22\")\n",
        "]\n",
        "\n",
        "for t in trains:\n",
        "    manage_delays(t, \"Lakeside Valley\", 60)\n",
        "        \n",
        "print(f'trains[0].expected_time ➞ \"{trains[0].expected_time}\"')    \n",
        "print(f'trains[1].expected_time ➞ \"{trains[1].expected_time}\"')    \n",
        "print(f'trains[2].expected_time ➞ \"{trains[2].expected_time}\"')"
      ],
      "metadata": {
        "colab": {
          "base_uri": "https://localhost:8080/"
        },
        "id": "ezOIxgGxw_Xi",
        "outputId": "980fef53-6b9f-40f2-f891-ddd063735bc7"
      },
      "execution_count": 20,
      "outputs": [
        {
          "output_type": "stream",
          "name": "stdout",
          "text": [
            "trains[0].expected_time ➞ \"13:04\"\n",
            "trains[1].expected_time ➞ \"14:20\"\n",
            "trains[2].expected_time ➞ \"14:22\"\n"
          ]
        }
      ]
    },
    {
      "cell_type": "markdown",
      "source": [
        "# 4. Ted works as a computer programmer at Minecraft Inc. His boss has just given him an important assignment to update the code for the minecart tracks by the end of April. However, he has recently had to self-isolate due to Corvid-19 and has left the code for the tracks BACK AT WORK!! He has the shorthand for the tracks he's supposed to look at, and where the carts are suppost to end up, but not the actual code.\n",
        "\n",
        "He knows that:\n",
        "\n",
        "  1. \"-->\" = \"Speed-Up Track\" ⁠— If a minecart interacts with this track, it's velocity increases by 2.67 BPS unless it's at its maximum speed of 8 BPS.\n",
        "  2. \"<-->\" = \"Powered Track\" ⁠— If a minecart interacts with this track, it's velocity remains the same.\n",
        "  3. \"<--\" = \"Slow-Down Track\" ⁠— If a minecart interacts with this track, it's velocity decreases by 2.67 BPS unless it's velocity equals 0, at which point it stops.\n",
        "  4. \"---\" = \"Unpowered Track\" ⁠— If a minecart interacts with this track, it's velocity decreases by 1 BPS unless it's velocity equals 0, at which point it stops.\n",
        "\n",
        " Help Ted by writing a class for the tracks that interact with the provided Minecart class as shown above. And then write a function that will take a list of the shorthand tracks and:\n",
        "\n",
        "   - If the Minecart reaches the last peice of Track, return True.\n",
        "   - Else return the index of the Track where the Minecart stops.\n",
        "\n",
        "Examples\n",
        "\n",
        "mine_run([\"-->\", \"-->\", \"-->\", \"<--\", \"<--\", \"<--\"]) ➞ True\n",
        "\n",
        "mine_run([\"-->\", \"<--\", \"-->\", \"-->\", \"<-->\", \"---\"]) ➞ 1\n"
      ],
      "metadata": {
        "id": "f6jlhOdqxObM"
      }
    },
    {
      "cell_type": "code",
      "source": [
        "class Track:\n",
        "    def __init__(self, shorthand):\n",
        "        self.shorthand = shorthand\n",
        "\n",
        "    def interact(self, cart_velocity):\n",
        "        if self.shorthand == \"-->\":\n",
        "            return min(cart_velocity + 2.67, 8)\n",
        "        elif self.shorthand == \"<-->\":\n",
        "            return cart_velocity\n",
        "        elif self.shorthand == \"<--\":\n",
        "            return max(cart_velocity - 2.67, 0)\n",
        "        elif self.shorthand == \"---\":\n",
        "            return max(cart_velocity - 1, 0)\n",
        "\n",
        "def mine_run(track_shorthands):\n",
        "    cart_velocity = 0\n",
        "    for i, shorthand in enumerate(track_shorthands):\n",
        "        track = Track(shorthand)\n",
        "        cart_velocity = track.interact(cart_velocity)\n",
        "        if cart_velocity == 0 and i != len(track_shorthands) - 1:\n",
        "            return i\n",
        "    return True\n",
        "\n",
        "\n",
        "mine_run([\"-->\", \"-->\", \"-->\", \"<--\", \"<--\", \"<--\"]) \n",
        "\n"
      ],
      "metadata": {
        "colab": {
          "base_uri": "https://localhost:8080/"
        },
        "id": "aYL6Ubq3xV9B",
        "outputId": "5345fe55-4d25-4c29-a2c8-e70327f99d8d"
      },
      "execution_count": 22,
      "outputs": [
        {
          "output_type": "execute_result",
          "data": {
            "text/plain": [
              "True"
            ]
          },
          "metadata": {},
          "execution_count": 22
        }
      ]
    },
    {
      "cell_type": "markdown",
      "source": [
        "5. Make a Rectangle class with four parameters, an x, a y (representing the top-left corner of the rectangle), a width and a height exclusively in that order.\n",
        "\n",
        "Lastly, make a function intersecting that takes two Rectangle objects and returns True if those objects are intersecting (colliding), else return False.\n",
        "\n",
        "Examples\n",
        "\n",
        "a = Rectangle(10, 20, 100, 20)\n",
        "b = Rectangle(10, 40, 15, 20)\n",
        "c = Rectangle(50, 50, 20, 30)\n",
        "\n",
        "intersecting(a, b) ➞ True\n",
        "\n",
        "intersecting(a, c) ➞ False\n",
        "\n",
        "intersecting(b, c) ➞ True\n",
        "\n"
      ],
      "metadata": {
        "id": "ntlTqlsUxrW5"
      }
    },
    {
      "cell_type": "code",
      "source": [
        "def intersecting(rectangle1, rectangle2):\n",
        "    output = False\n",
        "    if (rectangle2.y-rectangle1.y == rectangle1.height) or (rectangle2.y-rectangle1.y + rectangle1.height == rectangle2.height):\n",
        "        output = True\n",
        "    print(f'intersecting{rectangle1.__dict__.values(),rectangle2.__dict__.values()} ➞ {output}')\n",
        "\n",
        "class Rectangle:\n",
        "    def __init__(self, x, y, width, height):\n",
        "        self.x = x\n",
        "        self.y = y\n",
        "        self.width = width\n",
        "        self.height = height\n",
        "\n",
        "a = Rectangle(10, 20, 100, 20)\n",
        "b = Rectangle(10, 40, 15, 20)\n",
        "c = Rectangle(50, 50, 20, 30)\n",
        "intersecting(a, b)\n",
        "intersecting(a, c)\n",
        "intersecting(b, c)\n",
        "\n",
        "\n"
      ],
      "metadata": {
        "colab": {
          "base_uri": "https://localhost:8080/"
        },
        "id": "-zbhrMfkyho6",
        "outputId": "fe455966-45e3-4b8b-bd4d-b7e74e6aab73"
      },
      "execution_count": 28,
      "outputs": [
        {
          "output_type": "stream",
          "name": "stdout",
          "text": [
            "intersecting(dict_values([10, 20, 100, 20]), dict_values([10, 40, 15, 20])) ➞ True\n",
            "intersecting(dict_values([10, 20, 100, 20]), dict_values([50, 50, 20, 30])) ➞ False\n",
            "intersecting(dict_values([10, 40, 15, 20]), dict_values([50, 50, 20, 30])) ➞ True\n"
          ]
        }
      ]
    }
  ]
}