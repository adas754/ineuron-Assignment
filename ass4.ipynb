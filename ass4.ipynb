{
  "nbformat": 4,
  "nbformat_minor": 0,
  "metadata": {
    "colab": {
      "provenance": []
    },
    "kernelspec": {
      "name": "python3",
      "display_name": "Python 3"
    },
    "language_info": {
      "name": "python"
    }
  },
  "cells": [
    {
      "cell_type": "markdown",
      "source": [
        "# 1. In mathematics, the Fibonacci numbers, commonly denoted Fn, form a sequence, called the Fibonacci sequence, such that each number is the sum of the two preceding ones, starting from 0 and 1:\n",
        "\n",
        "\n",
        "\n",
        "\n",
        "\n",
        "\n",
        "\n",
        "\n",
        "\n",
        "\n",
        "The beginning of the sequence is this:\n",
        "\n",
        "0, 1, 1, 2, 3, 5, 8, 13, 21, 34, 55, 89, 144, ...\n",
        "\n",
        "The function fastFib(num) returns the fibonacci number Fn, of the given num as an argument.\n",
        "\n",
        "Examples\n",
        "\n",
        "fib_fast(5) ➞ 5\n",
        "\n",
        "fib_fast(10) ➞ 55\n",
        "\n",
        "fib_fast(20) ➞ 6765\n",
        "\n",
        "fib_fast(50) ➞ 12586269025\n"
      ],
      "metadata": {
        "id": "On1EZGcf8ZXY"
      }
    },
    {
      "cell_type": "code",
      "execution_count": 9,
      "metadata": {
        "id": "_rNt6TB28ISM"
      },
      "outputs": [],
      "source": [
        "def fib_fast(num):\n",
        "    if num == 0:\n",
        "        return 0\n",
        "    elif num == 1:\n",
        "        return 1\n",
        "    else:\n",
        "        prev = 0\n",
        "        curr = 1\n",
        "        for i in range(2, num + 1):\n",
        "            temp = prev + curr\n",
        "            prev = curr \n",
        "            curr = temp\n",
        "        return curr\n",
        "   \n",
        "   \n"
      ]
    },
    {
      "cell_type": "code",
      "source": [
        "fib_fasts(50) \n",
        "\n"
      ],
      "metadata": {
        "colab": {
          "base_uri": "https://localhost:8080/"
        },
        "id": "AgiZHIAV9QX1",
        "outputId": "39304d40-c0be-4bb7-d4f3-35ae08845201"
      },
      "execution_count": 20,
      "outputs": [
        {
          "output_type": "execute_result",
          "data": {
            "text/plain": [
              "12586269025"
            ]
          },
          "metadata": {},
          "execution_count": 20
        }
      ]
    },
    {
      "cell_type": "markdown",
      "source": [
        "# 2. Create a function that takes a strings characters as ASCII and returns each characters hexadecimal value as a string.\n",
        "\n",
        "Examples\n",
        "\n",
        "convert_to_hex(\"hello world\") ➞ \"68 65 6c 6c 6f 20 77 6f 72 6c 64\"\n",
        "\n",
        "convert_to_hex(\"Big Boi\") ➞ \"42 69 67 20 42 6f 69\"\n",
        "\n",
        "convert_to_hex(\"Marty Poppinson\") ➞ \"4d 61 72 74 79 20 50 6f 70 70 69 6e 73 6f 6e\"\n",
        "\n",
        "\n",
        "\n"
      ],
      "metadata": {
        "id": "7f4KyLt0BQjd"
      }
    },
    {
      "cell_type": "code",
      "source": [
        "def convert_to_hex(in_string):\n",
        "  out_string=[]\n",
        "  for ele in in_string:\n",
        "    out_string.append(hex(ord(ele))[2:])\n",
        "  print(f'convert_to_hex({in_string}) ➞ {\" \".join(out_string)}')\n",
        "convert_to_hex(\"hello world\")\n",
        "convert_to_hex(\"Big Boi\")\n",
        "convert_to_hex(\"Marty Poppinson\")"
      ],
      "metadata": {
        "colab": {
          "base_uri": "https://localhost:8080/"
        },
        "id": "WxLgaVbTE07V",
        "outputId": "f99798cb-e1e8-4f21-fe99-02fd1147cca2"
      },
      "execution_count": 27,
      "outputs": [
        {
          "output_type": "stream",
          "name": "stdout",
          "text": [
            "convert_to_hex(hello world) ➞ 68 65 6c 6c 6f 20 77 6f 72 6c 64\n",
            "convert_to_hex(Big Boi) ➞ 42 69 67 20 42 6f 69\n",
            "convert_to_hex(Marty Poppinson) ➞ 4d 61 72 74 79 20 50 6f 70 70 69 6e 73 6f 6e\n"
          ]
        }
      ]
    },
    {
      "cell_type": "markdown",
      "source": [
        "# 3. Someone has attempted to censor my strings by replacing every vowel with a *, l*k* th*s. Luckily, I've been able to find the vowels that were removed.\n",
        "\n",
        "Given a censored string and a string of the censored vowels, return the original uncensored string.\n",
        "\n",
        "Example\n",
        "\n",
        "uncensor(\"Wh*r* d*d my v*w*ls g*?\", \"eeioeo\") ➞ \"Where did my vowels go?\"\n",
        "\n",
        "uncensor(\"abcd\", \"\") ➞ \"abcd\"\n",
        "\n",
        "uncensor(\"*PP*RC*S*\", \"UEAE\") ➞ \"UPPERCASE\"\n"
      ],
      "metadata": {
        "id": "OpGyNjISF9x2"
      }
    },
    {
      "cell_type": "code",
      "source": [
        "def uncensor(in_string,in_vowels):\n",
        "  window=0\n",
        "  out_string=''\n",
        "  for ele in in_string:\n",
        "    if ele=='*':\n",
        "      out_string+=in_vowels[window]\n",
        "      window+=1\n",
        "    else:\n",
        "      out_string+=ele\n",
        "  print(f'uncensor{in_string,in_vowels}->{out_string}')\n",
        "uncensor(\"Wh*r* d*d my v*w*ls g*?\", \"eeioeo\")\n",
        "uncensor(\"abcd\", \"\")\n",
        "uncensor(\"*PP*RC*S*\", \"UEAE\") "
      ],
      "metadata": {
        "colab": {
          "base_uri": "https://localhost:8080/"
        },
        "id": "DPrNUIIXMIeT",
        "outputId": "98a43837-e880-4903-aa5a-bb5865cc0ffe"
      },
      "execution_count": 44,
      "outputs": [
        {
          "output_type": "stream",
          "name": "stdout",
          "text": [
            "uncensor('Wh*r* d*d my v*w*ls g*?', 'eeioeo')->Where did my vowels go?\n",
            "uncensor('abcd', '')->abcd\n",
            "uncensor('*PP*RC*S*', 'UEAE')->UPPERCASE\n"
          ]
        }
      ]
    },
    {
      "cell_type": "markdown",
      "source": [
        "# 4. Write a function that takes an IP address and returns the domain name using PTR DNS records.\n",
        "\n",
        "Example\n",
        "\n",
        "get_domain(\"8.8.8.8\") ➞ \"dns.google\"\n",
        "\n",
        "get_domain(\"8.8.4.4\") ➞ \"dns.google\"\n",
        "\n"
      ],
      "metadata": {
        "id": "MwgxbWpYNe7m"
      }
    },
    {
      "cell_type": "code",
      "source": [
        "import socket\n",
        "def get_domain(in_ip):\n",
        "    print(f'get_domain({in_ip}) ➞ {socket.gethostbyaddr(in_ip)} ➞ {socket.gethostbyaddr(in_ip)[0]}')\n",
        "    \n",
        "get_domain(\"8.8.8.8\")\n",
        "get_domain(\"8.8.4.4\")"
      ],
      "metadata": {
        "colab": {
          "base_uri": "https://localhost:8080/"
        },
        "id": "oNnafs87Nghl",
        "outputId": "bd1499b6-6cd9-4b64-f45f-877b15bbe96e"
      },
      "execution_count": 45,
      "outputs": [
        {
          "output_type": "stream",
          "name": "stdout",
          "text": [
            "get_domain(8.8.8.8) ➞ ('dns.google', [], ['8.8.8.8']) ➞ dns.google\n",
            "get_domain(8.8.4.4) ➞ ('dns.google', [], ['8.8.4.4']) ➞ dns.google\n"
          ]
        }
      ]
    },
    {
      "cell_type": "markdown",
      "source": [
        "# 5. Create a function that takes an integer n and returns the factorial of factorials. See below examples for a better understanding:\n",
        "\n",
        "Examples\n",
        "\n",
        "fact_of_fact(4) ➞ 288\n",
        "# 4! * 3! * 2! * 1! = 288\n",
        "\n",
        "fact_of_fact(5) ➞ 34560\n",
        "\n",
        "fact_of_fact(6) ➞ 24883200\n"
      ],
      "metadata": {
        "id": "_0RkELZ7NpB3"
      }
    },
    {
      "cell_type": "code",
      "source": [
        "def fact_of_fact(n):\n",
        "  result=1\n",
        "  for i in range(2,n+1):\n",
        "    fact=1\n",
        "    for j in range(2,i+1):\n",
        "      fact*=j\n",
        "    result*=fact\n",
        "  return result\n",
        "\n",
        "fact_of_fact(6)"
      ],
      "metadata": {
        "colab": {
          "base_uri": "https://localhost:8080/"
        },
        "id": "ux1j48ahPGc7",
        "outputId": "8034ee52-818b-434a-b9f0-7f8aa82d1338"
      },
      "execution_count": 52,
      "outputs": [
        {
          "output_type": "execute_result",
          "data": {
            "text/plain": [
              "24883200"
            ]
          },
          "metadata": {},
          "execution_count": 52
        }
      ]
    }
  ]
}