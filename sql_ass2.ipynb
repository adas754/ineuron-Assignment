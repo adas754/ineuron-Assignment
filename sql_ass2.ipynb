{
  "nbformat": 4,
  "nbformat_minor": 0,
  "metadata": {
    "colab": {
      "name": "sql ass2.ipynb",
      "provenance": []
    },
    "kernelspec": {
      "name": "python3",
      "display_name": "Python 3"
    },
    "language_info": {
      "name": "python"
    }
  },
  "cells": [
    {
      "cell_type": "markdown",
      "source": [
        "Q-1. Write an SQL query to print the first three characters of  FIRST_NAME from Worker table.\n",
        "\n",
        " Q-2. Write an SQL query to find the position of the alphabet (‘a’) in the first name column ‘Amitabh’ from Worker table.\n",
        "\n",
        "Q-3. Write an SQL query to print the name of employees having the highest salary in each department.\n",
        "\n",
        " \n"
      ],
      "metadata": {
        "id": "DRsJZIZfhpBq"
      }
    },
    {
      "cell_type": "markdown",
      "source": [
        "SELECT SUBSTRING(FIRST_NAME,1,3) FROM worker56;\n",
        "\n",
        "\n",
        "SELECT POSITION('a' IN FIRST_NAME) FROM worker56 WHERE FIRST_NAME = 'amitabh';\n",
        "\n",
        "SELECT first_name, last_name, salary, department FROM Worker56 w WHERE salary = (SELECT MAX(salary) FROM Worker56 WHERE department = w.department);\n"
      ],
      "metadata": {
        "id": "fBzPxDODhjg8"
      }
    }
  ]
}