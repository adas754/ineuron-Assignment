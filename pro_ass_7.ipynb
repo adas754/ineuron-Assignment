{
  "nbformat": 4,
  "nbformat_minor": 0,
  "metadata": {
    "colab": {
      "name": "pro ass 7.ipynb",
      "provenance": []
    },
    "kernelspec": {
      "name": "python3",
      "display_name": "Python 3"
    },
    "language_info": {
      "name": "python"
    }
  },
  "cells": [
    {
      "cell_type": "markdown",
      "source": [
        "Write a Python Program to find sum of array?"
      ],
      "metadata": {
        "id": "CzEvEVNoVt5i"
      }
    },
    {
      "cell_type": "code",
      "execution_count": 9,
      "metadata": {
        "id": "1doXhZrVReGk"
      },
      "outputs": [],
      "source": [
        "def sum_array(*args):\n",
        "  s=0\n",
        "  for i in args:\n",
        "    s=s+i\n",
        "  return s"
      ]
    },
    {
      "cell_type": "code",
      "source": [
        "a = sum_array(1,2,3,4,5,6)\n",
        "a    "
      ],
      "metadata": {
        "colab": {
          "base_uri": "https://localhost:8080/"
        },
        "id": "8ULOqrvpT9eb",
        "outputId": "4f15eef1-8e95-4a22-ee55-d2f876ba3891"
      },
      "execution_count": 10,
      "outputs": [
        {
          "output_type": "execute_result",
          "data": {
            "text/plain": [
              "21"
            ]
          },
          "metadata": {},
          "execution_count": 10
        }
      ]
    },
    {
      "cell_type": "markdown",
      "source": [
        "Write a Python Program to find largest element in an array?\n"
      ],
      "metadata": {
        "id": "DmzcJ_ssVqBa"
      }
    },
    {
      "cell_type": "code",
      "source": [
        "def largestelement():\n",
        "    in_arr=eval(input(\"Enter an array\"))\n",
        "    print(f\"The largest element in {in_arr} is {sorted(in_arr,reverse=True)[0]}\")\n",
        "largestelement()"
      ],
      "metadata": {
        "colab": {
          "base_uri": "https://localhost:8080/"
        },
        "id": "x1dOWzVRWNNm",
        "outputId": "6c2a2021-127e-4c2d-b476-28f66dae0c23"
      },
      "execution_count": 23,
      "outputs": [
        {
          "output_type": "stream",
          "name": "stdout",
          "text": [
            "Enter an array[56,78,89]\n",
            "The largest element in [56, 78, 89] is 89\n"
          ]
        }
      ]
    },
    {
      "cell_type": "markdown",
      "source": [
        "Write a Python Program for array rotation?\n",
        "\n"
      ],
      "metadata": {
        "id": "ptFAWP7-cPHq"
      }
    },
    {
      "cell_type": "code",
      "source": [
        "def rotation_array():\n",
        "    in_arr=eval(input(\"Enter a array\"))\n",
        "    print(f\"The rotation of array {in_arr} is {in_arr[::-1]} \")"
      ],
      "metadata": {
        "id": "6dxQx4j6cglK"
      },
      "execution_count": 24,
      "outputs": []
    },
    {
      "cell_type": "code",
      "source": [
        "rotation_array()"
      ],
      "metadata": {
        "colab": {
          "base_uri": "https://localhost:8080/"
        },
        "id": "BokgvFGbejuT",
        "outputId": "39f67c0b-df2a-4d96-83c5-8624f2cb1985"
      },
      "execution_count": 25,
      "outputs": [
        {
          "output_type": "stream",
          "name": "stdout",
          "text": [
            "Enter a array[67,89,90]\n",
            "The rotation of array [67, 89, 90] is [90, 89, 67] \n"
          ]
        }
      ]
    },
    {
      "cell_type": "markdown",
      "source": [
        "Write a Python Program to Split the array and add the first part to the end?\n"
      ],
      "metadata": {
        "id": "egpBVReEeuSH"
      }
    },
    {
      "cell_type": "code",
      "source": [
        "def sumofsplits():\n",
        "    in_arr=eval(input(\"enter an array\"))\n",
        "    print(f\"sum of 1st and last element {in_arr} is {in_arr[0]+in_arr[-1]} \")\n",
        "sumofsplits()"
      ],
      "metadata": {
        "colab": {
          "base_uri": "https://localhost:8080/"
        },
        "id": "EdePsK8DgKyH",
        "outputId": "b8388be8-d773-4291-e4e2-cd3e8176e060"
      },
      "execution_count": 26,
      "outputs": [
        {
          "output_type": "stream",
          "name": "stdout",
          "text": [
            "enter an array[10,20,30,40]\n",
            "sum of 1st and last element [10, 20, 30, 40] is 50 \n"
          ]
        }
      ]
    },
    {
      "cell_type": "markdown",
      "source": [
        "Write a Python Program to check if given array is Monotonic?"
      ],
      "metadata": {
        "id": "QFenUbkOiHNZ"
      }
    },
    {
      "cell_type": "code",
      "source": [
        "def checkmontotonic():\n",
        "    in_arr=eval(input(\"Enter any array\"))\n",
        "    if(all(in_arr[i]<=in_arr[i+1] for i in range(len(in_arr)-1)) or all(in_arr[i]>=in_arr[i+1] for i in range (len(in_arr)-1))):\n",
        "       print(f'arr{in_arr} is monotonic')\n",
        "    else:\n",
        "       print(f'array {in_arr} is not monotonic')"
      ],
      "metadata": {
        "id": "-ld0ZIoliRdi"
      },
      "execution_count": 28,
      "outputs": []
    },
    {
      "cell_type": "code",
      "source": [
        "checkmontotonic()"
      ],
      "metadata": {
        "colab": {
          "base_uri": "https://localhost:8080/"
        },
        "id": "-1PrponCmIxe",
        "outputId": "3abe2b8d-cfdf-4ab3-ec10-3f366b10062a"
      },
      "execution_count": 29,
      "outputs": [
        {
          "output_type": "stream",
          "name": "stdout",
          "text": [
            "Enter any array[1,2,3,4,5]\n",
            "arr[1, 2, 3, 4, 5] is monotonic\n"
          ]
        }
      ]
    },
    {
      "cell_type": "code",
      "source": [
        "checkmontotonic()"
      ],
      "metadata": {
        "colab": {
          "base_uri": "https://localhost:8080/"
        },
        "id": "e-0TfxJ0mcvm",
        "outputId": "ef9a629a-b943-4c8a-c703-5e69f280f134"
      },
      "execution_count": 30,
      "outputs": [
        {
          "output_type": "stream",
          "name": "stdout",
          "text": [
            "Enter any array[5,8,9,3]\n",
            "array [5, 8, 9, 3] is not monotonic\n"
          ]
        }
      ]
    }
  ]
}