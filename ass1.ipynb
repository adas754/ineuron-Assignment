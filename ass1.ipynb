{
  "nbformat": 4,
  "nbformat_minor": 0,
  "metadata": {
    "colab": {
      "name": "ass1.ipynb",
      "provenance": []
    },
    "kernelspec": {
      "name": "python3",
      "display_name": "Python 3"
    },
    "language_info": {
      "name": "python"
    }
  },
  "cells": [
    {
      "cell_type": "markdown",
      "metadata": {
        "id": "TG8UqnglNC5l"
      },
      "source": [
        "1. In the below elements which of them are values or an expression? eg:- values can be\n",
        "integer or string and expressions will be mathematical operators.\n",
        "*\n",
        "\n",
        "hello\n",
        "\n",
        "-87.8\n",
        "\n",
        "-\n",
        "\n",
        "/\n",
        "\n",
        "+\n",
        "\n",
        "6"
      ]
    },
    {
      "cell_type": "markdown",
      "metadata": {
        "id": "unZJU4BOOWsE"
      },
      "source": [
        "*=expressions\n",
        "\n",
        "hello=  values \n",
        "\n",
        "-87.8=Float\n",
        "\n",
        "-=expressions\n",
        "\n",
        "/=expressions\n",
        "\n",
        "+=expressions\n",
        "\n",
        "6=values\n"
      ]
    },
    {
      "cell_type": "code",
      "metadata": {
        "id": "bzbzGYJaNZL7"
      },
      "source": [
        "a='hello'"
      ],
      "execution_count": 3,
      "outputs": []
    },
    {
      "cell_type": "code",
      "metadata": {
        "colab": {
          "base_uri": "https://localhost:8080/"
        },
        "id": "zR_rCptuOF5T",
        "outputId": "b8ea98f3-2841-4a1d-900c-8d13f841b553"
      },
      "source": [
        "type(a)"
      ],
      "execution_count": 4,
      "outputs": [
        {
          "output_type": "execute_result",
          "data": {
            "text/plain": [
              "str"
            ]
          },
          "metadata": {},
          "execution_count": 4
        }
      ]
    },
    {
      "cell_type": "code",
      "metadata": {
        "colab": {
          "base_uri": "https://localhost:8080/"
        },
        "id": "tbU75ocnPWqk",
        "outputId": "add7f58d-6274-4397-cb05-65802b653138"
      },
      "source": [
        "b=-87.8\n",
        "type(b)"
      ],
      "execution_count": 5,
      "outputs": [
        {
          "output_type": "execute_result",
          "data": {
            "text/plain": [
              "float"
            ]
          },
          "metadata": {},
          "execution_count": 5
        }
      ]
    },
    {
      "cell_type": "code",
      "metadata": {
        "colab": {
          "base_uri": "https://localhost:8080/"
        },
        "id": "Ho-8puZGPd8E",
        "outputId": "00a106ab-58fe-4826-bffb-4d67796a4355"
      },
      "source": [
        "c=6\n",
        "type(c)"
      ],
      "execution_count": 6,
      "outputs": [
        {
          "output_type": "execute_result",
          "data": {
            "text/plain": [
              "int"
            ]
          },
          "metadata": {},
          "execution_count": 6
        }
      ]
    },
    {
      "cell_type": "markdown",
      "metadata": {
        "id": "ZoCjwaLZNYNj"
      },
      "source": [
        "**2. What is the difference between string and variable?**"
      ]
    },
    {
      "cell_type": "markdown",
      "metadata": {
        "id": "twCCmys7Qafk"
      },
      "source": [
        "A Variable is a store of information, and a String is a type of information we would store in a Variable. A String is usually words, enclosed with \"\"\n"
      ]
    },
    {
      "cell_type": "code",
      "metadata": {
        "colab": {
          "base_uri": "https://localhost:8080/"
        },
        "id": "d27KUAuCbFdP",
        "outputId": "64b343ba-4c6d-4519-a90f-08f30876288a"
      },
      "source": [
        "x='m'\n",
        "type(x)"
      ],
      "execution_count": 22,
      "outputs": [
        {
          "output_type": "execute_result",
          "data": {
            "text/plain": [
              "str"
            ]
          },
          "metadata": {},
          "execution_count": 22
        }
      ]
    },
    {
      "cell_type": "markdown",
      "metadata": {
        "id": "uxU_ZgHpbKfk"
      },
      "source": [
        "In this Example x is variable and m is string"
      ]
    },
    {
      "cell_type": "markdown",
      "metadata": {
        "id": "Jl4EH0IdWAOM"
      },
      "source": [
        "3. Describe three different data types."
      ]
    },
    {
      "cell_type": "markdown",
      "metadata": {
        "id": "NWGFK5RMW3PG"
      },
      "source": [
        "Three data types are: string, integer, floating point."
      ]
    },
    {
      "cell_type": "code",
      "metadata": {
        "colab": {
          "base_uri": "https://localhost:8080/"
        },
        "id": "c6YfcElkQ3Uq",
        "outputId": "13afa2db-1a3f-4f9c-bbb5-0eca1b15447a"
      },
      "source": [
        "x='m'\n",
        "type(x)"
      ],
      "execution_count": 19,
      "outputs": [
        {
          "output_type": "execute_result",
          "data": {
            "text/plain": [
              "str"
            ]
          },
          "metadata": {},
          "execution_count": 19
        }
      ]
    },
    {
      "cell_type": "code",
      "metadata": {
        "colab": {
          "base_uri": "https://localhost:8080/"
        },
        "id": "9UNlq4zTXIOl",
        "outputId": "a11eecdd-9d2d-41f1-de04-a37269406fb9"
      },
      "source": [
        "y=8\n",
        "type(y)"
      ],
      "execution_count": 20,
      "outputs": [
        {
          "output_type": "execute_result",
          "data": {
            "text/plain": [
              "int"
            ]
          },
          "metadata": {},
          "execution_count": 20
        }
      ]
    },
    {
      "cell_type": "code",
      "metadata": {
        "colab": {
          "base_uri": "https://localhost:8080/"
        },
        "id": "pKDuwr1xXMWr",
        "outputId": "267a8333-6748-4a1a-f20f-653b7bad15bf"
      },
      "source": [
        "z=678.9\n",
        "type(z)"
      ],
      "execution_count": 21,
      "outputs": [
        {
          "output_type": "execute_result",
          "data": {
            "text/plain": [
              "float"
            ]
          },
          "metadata": {},
          "execution_count": 21
        }
      ]
    },
    {
      "cell_type": "markdown",
      "metadata": {
        "id": "ax8WcpvEXSlk"
      },
      "source": [
        "4.what is an expression made up of? What do all expressions do?"
      ]
    },
    {
      "cell_type": "markdown",
      "metadata": {
        "id": "j-GYD_MhdRkX"
      },
      "source": [
        "An expression is a combination of operators, constants and variables.\n",
        "Expression can perfrom some mathematical operation like addition,subtraction etc\n"
      ]
    },
    {
      "cell_type": "markdown",
      "metadata": {
        "id": "LbGcsr-WXpLE"
      },
      "source": [
        "5. This assignment statements, like spam = 10. What is the difference between an\n",
        "expression and a statement?"
      ]
    },
    {
      "cell_type": "markdown",
      "metadata": {
        "id": "LXZ7xckYYwEt"
      },
      "source": [
        "This assignment statements, like spam = 10\n",
        "\n",
        " only the prompt is returned. There is no value.\n",
        "\n",
        "\n",
        "Expressions always returns a value.\n",
        "\n",
        "A statement never returns a value\n",
        "\n",
        "Examples Of Python Expressions: “Hello” + “World”, 4 + 5 etc.\n",
        "\n",
        "Examples Of Python Statements: Assignment statements, conditional branching, loops, classes, import, def, try, except, pass, del etc\n"
      ]
    },
    {
      "cell_type": "markdown",
      "metadata": {
        "id": "DWI2G4M2Q4ES"
      },
      "source": [
        "\n",
        "6. After running the following code, what does the variable bacon contain?\n",
        "\n",
        "bacon = 22\n",
        "\n",
        "bacon + 1"
      ]
    },
    {
      "cell_type": "code",
      "metadata": {
        "colab": {
          "base_uri": "https://localhost:8080/"
        },
        "id": "wH_VVU1GQ1Nt",
        "outputId": "95531f39-24de-4d5b-a531-4d7b9901b437"
      },
      "source": [
        "bacon = 22\n",
        "bacon + 1"
      ],
      "execution_count": 8,
      "outputs": [
        {
          "output_type": "execute_result",
          "data": {
            "text/plain": [
              "23"
            ]
          },
          "metadata": {},
          "execution_count": 8
        }
      ]
    },
    {
      "cell_type": "markdown",
      "metadata": {
        "id": "6Dw-p26TRTSU"
      },
      "source": [
        "7. What should the values of the following two terms be ?\n",
        "\n",
        "\n",
        "'spam' +'spamspam'\n",
        "\n",
        "'spam' * 3\n"
      ]
    },
    {
      "cell_type": "code",
      "metadata": {
        "colab": {
          "base_uri": "https://localhost:8080/",
          "height": 35
        },
        "id": "xhaKemj3R-Kz",
        "outputId": "8be5a7f9-b84f-4fb6-eae7-60a281591dab"
      },
      "source": [
        "'spam' +'spamspam'"
      ],
      "execution_count": 9,
      "outputs": [
        {
          "output_type": "execute_result",
          "data": {
            "application/vnd.google.colaboratory.intrinsic+json": {
              "type": "string"
            },
            "text/plain": [
              "'spamspamspam'"
            ]
          },
          "metadata": {},
          "execution_count": 9
        }
      ]
    },
    {
      "cell_type": "code",
      "metadata": {
        "colab": {
          "base_uri": "https://localhost:8080/",
          "height": 35
        },
        "id": "0GGUwVXaSDr7",
        "outputId": "14f9051c-9777-43b2-e60e-5d40fa3f942b"
      },
      "source": [
        "'spam' * 3"
      ],
      "execution_count": 10,
      "outputs": [
        {
          "output_type": "execute_result",
          "data": {
            "application/vnd.google.colaboratory.intrinsic+json": {
              "type": "string"
            },
            "text/plain": [
              "'spamspamspam'"
            ]
          },
          "metadata": {},
          "execution_count": 10
        }
      ]
    },
    {
      "cell_type": "markdown",
      "metadata": {
        "id": "4WB60-sKVImM"
      },
      "source": [
        "8. Why is eggs a valid variable name while 100 is invalid?"
      ]
    },
    {
      "cell_type": "markdown",
      "metadata": {
        "id": "41V0D_OFV0hN"
      },
      "source": [
        "Because variable names cannot begin with a number."
      ]
    },
    {
      "cell_type": "markdown",
      "metadata": {
        "id": "DVUWdaXJUGI8"
      },
      "source": [
        "9. What three functions can be used to get the integer, floating-point number, or string\n",
        "version of a value?"
      ]
    },
    {
      "cell_type": "code",
      "metadata": {
        "colab": {
          "base_uri": "https://localhost:8080/"
        },
        "id": "8fPRPXj8UJab",
        "outputId": "68598380-c576-45b6-fe46-13444ef2a5ba"
      },
      "source": [
        "a=int(input()) #integer"
      ],
      "execution_count": 14,
      "outputs": [
        {
          "name": "stdout",
          "output_type": "stream",
          "text": [
            "7\n"
          ]
        }
      ]
    },
    {
      "cell_type": "code",
      "metadata": {
        "colab": {
          "base_uri": "https://localhost:8080/"
        },
        "id": "BRCOEd_YURF7",
        "outputId": "fc150767-0b80-4f03-d8ea-07bfba575920"
      },
      "source": [
        "b=float(input()) #floating-point-number"
      ],
      "execution_count": 15,
      "outputs": [
        {
          "name": "stdout",
          "output_type": "stream",
          "text": [
            "89.6\n"
          ]
        }
      ]
    },
    {
      "cell_type": "code",
      "metadata": {
        "colab": {
          "base_uri": "https://localhost:8080/"
        },
        "id": "03VJNdF_Uapb",
        "outputId": "1892725e-14dd-4e51-fbcf-0268e3db6913"
      },
      "source": [
        "c=input() #string"
      ],
      "execution_count": 16,
      "outputs": [
        {
          "name": "stdout",
          "output_type": "stream",
          "text": [
            "m\n"
          ]
        }
      ]
    },
    {
      "cell_type": "code",
      "metadata": {
        "colab": {
          "base_uri": "https://localhost:8080/"
        },
        "id": "GaGRh2dzWPms",
        "outputId": "a34d2079-dbe0-4b81-c077-24b7bd5da14f"
      },
      "source": [
        "d=str(input()) #string"
      ],
      "execution_count": 18,
      "outputs": [
        {
          "name": "stdout",
          "output_type": "stream",
          "text": [
            "m\n"
          ]
        }
      ]
    },
    {
      "cell_type": "markdown",
      "metadata": {
        "id": "Zc2WxF92SM6N"
      },
      "source": [
        "10. Why does this expression cause an error? How can you fix it?\n",
        "'I have eaten'  + 99 +  'burritos.'"
      ]
    },
    {
      "cell_type": "code",
      "metadata": {
        "colab": {
          "base_uri": "https://localhost:8080/",
          "height": 165
        },
        "id": "ZP03B9_6S-7T",
        "outputId": "f551d797-7a68-4a07-fe12-f4f7b7c538d7"
      },
      "source": [
        "'I have eaten' + 99 + 'burritos.'"
      ],
      "execution_count": 11,
      "outputs": [
        {
          "output_type": "error",
          "ename": "TypeError",
          "evalue": "ignored",
          "traceback": [
            "\u001b[0;31m---------------------------------------------------------------------------\u001b[0m",
            "\u001b[0;31mTypeError\u001b[0m                                 Traceback (most recent call last)",
            "\u001b[0;32m<ipython-input-11-f5781a105d59>\u001b[0m in \u001b[0;36m<module>\u001b[0;34m()\u001b[0m\n\u001b[0;32m----> 1\u001b[0;31m \u001b[0;34m'I have eaten'\u001b[0m \u001b[0;34m+\u001b[0m \u001b[0;36m99\u001b[0m \u001b[0;34m+\u001b[0m \u001b[0;34m'burritos.'\u001b[0m\u001b[0;34m\u001b[0m\u001b[0;34m\u001b[0m\u001b[0m\n\u001b[0m",
            "\u001b[0;31mTypeError\u001b[0m: can only concatenate str (not \"int\") to str"
          ]
        }
      ]
    },
    {
      "cell_type": "markdown",
      "metadata": {
        "id": "fXmyCVuVTfEF"
      },
      "source": [
        "It can concatenate only string  or only only integer.string and integer can't concatenate together."
      ]
    },
    {
      "cell_type": "code",
      "metadata": {
        "colab": {
          "base_uri": "https://localhost:8080/",
          "height": 35
        },
        "id": "IGi6TdeITNTb",
        "outputId": "dfea38e0-91e7-423e-e439-5f97e2f61812"
      },
      "source": [
        "'I have eaten' + '99' + 'burritos.'"
      ],
      "execution_count": 12,
      "outputs": [
        {
          "output_type": "execute_result",
          "data": {
            "application/vnd.google.colaboratory.intrinsic+json": {
              "type": "string"
            },
            "text/plain": [
              "'I have eaten99burritos.'"
            ]
          },
          "metadata": {},
          "execution_count": 12
        }
      ]
    }
  ]
}