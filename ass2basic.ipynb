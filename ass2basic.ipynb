{
  "nbformat": 4,
  "nbformat_minor": 0,
  "metadata": {
    "colab": {
      "name": "ass2basic.ipynb",
      "provenance": []
    },
    "kernelspec": {
      "name": "python3",
      "display_name": "Python 3"
    },
    "language_info": {
      "name": "python"
    }
  },
  "cells": [
    {
      "cell_type": "markdown",
      "metadata": {
        "id": "Kp5Accn5-GAK"
      },
      "source": [
        "1. \n",
        "\n",
        "Write a Python program to convert kilometers to miles?"
      ]
    },
    {
      "cell_type": "code",
      "metadata": {
        "colab": {
          "base_uri": "https://localhost:8080/"
        },
        "id": "SVweNDDa9bc7",
        "outputId": "59b05932-19e5-46fe-8175-27d856ffd051"
      },
      "source": [
        "km = eval(input(\"Enter the value in kilometers: \"))\n",
        "\n",
        "# 1 Kilometre = 0.621371 Mile\n",
        "ratio = 0.621371\n",
        "\n",
        "# Converting km to mi.\n",
        "mi = km * ratio\n",
        "\n",
        "print(\"The entered value in Miles: \", mi)"
      ],
      "execution_count": 3,
      "outputs": [
        {
          "output_type": "stream",
          "name": "stdout",
          "text": [
            "Enter the value in kilometers: 56.9\n",
            "The entered value in Miles:  35.3560099\n"
          ]
        }
      ]
    },
    {
      "cell_type": "markdown",
      "metadata": {
        "id": "ess-FS3S-O4i"
      },
      "source": [
        "2\n",
        "\n",
        "Write a Python program to convert Celsius to Fahrenheit?"
      ]
    },
    {
      "cell_type": "code",
      "metadata": {
        "colab": {
          "base_uri": "https://localhost:8080/"
        },
        "id": "Iot-YOFk-mvp",
        "outputId": "2b7436b1-54d0-4978-b03e-cc16400fd0e5"
      },
      "source": [
        "\n",
        "celsius = eval(input(\"Enter value in celcius\"))\n",
        "\n",
        "\n",
        "fahrenheit = (celsius * 1.8) + 32\n",
        "print('%0.1f degree Celsius is equal to %0.1f degree Fahrenheit' %(celsius,fahrenheit))"
      ],
      "execution_count": 5,
      "outputs": [
        {
          "output_type": "stream",
          "name": "stdout",
          "text": [
            "Enter value in celcius788.8\n",
            "788.8 degree Celsius is equal to 1451.8 degree Fahrenheit\n"
          ]
        }
      ]
    },
    {
      "cell_type": "markdown",
      "metadata": {
        "id": "ztPva6rg_Yhy"
      },
      "source": [
        "3\n",
        "\n",
        "Write a Python program to display calendar?"
      ]
    },
    {
      "cell_type": "code",
      "metadata": {
        "colab": {
          "base_uri": "https://localhost:8080/"
        },
        "id": "mNGVpKBl_prD",
        "outputId": "fc264c32-f3d5-444b-b5d0-f5eb18921543"
      },
      "source": [
        "import calendar\n",
        "yy = int(input(\"Enter year: \"))\n",
        "mm = int(input(\"Enter month: \"))\n",
        "print(calendar.month(yy, mm))"
      ],
      "execution_count": 6,
      "outputs": [
        {
          "output_type": "stream",
          "name": "stdout",
          "text": [
            "Enter year: 2014\n",
            "Enter month: 5\n",
            "      May 2014\n",
            "Mo Tu We Th Fr Sa Su\n",
            "          1  2  3  4\n",
            " 5  6  7  8  9 10 11\n",
            "12 13 14 15 16 17 18\n",
            "19 20 21 22 23 24 25\n",
            "26 27 28 29 30 31\n",
            "\n"
          ]
        }
      ]
    },
    {
      "cell_type": "markdown",
      "metadata": {
        "id": "VzZpoL9wAQHD"
      },
      "source": [
        "4. \n",
        "\n",
        "\n",
        "Write a Python program to solve quadratic equation?"
      ]
    },
    {
      "cell_type": "code",
      "metadata": {
        "colab": {
          "base_uri": "https://localhost:8080/"
        },
        "id": "QEr_048bAY3A",
        "outputId": "47a8fd30-f17b-45e8-ac26-a61b552ca0a4"
      },
      "source": [
        "\n",
        "import cmath\n",
        "\n",
        "a = int(input(\"enter value of a\"))\n",
        "b = int(input(\"enter value of b\"))\n",
        "c = int(input(\"enter value of c\"))\n",
        "\n",
        "d = (b**2) - (4*a*c)\n",
        "\n",
        "s1 = (-b-cmath.sqrt(d))/(2*a)\n",
        "s2 = (-b+cmath.sqrt(d))/(2*a)\n",
        "6\n",
        "print('The solution are {0} and {1}'.format(s1,s2))"
      ],
      "execution_count": 9,
      "outputs": [
        {
          "output_type": "stream",
          "name": "stdout",
          "text": [
            "enter value of a1\n",
            "enter value of b6\n",
            "enter value of c5\n",
            "The solution are (-5+0j) and (-1+0j)\n"
          ]
        }
      ]
    },
    {
      "cell_type": "markdown",
      "metadata": {
        "id": "uSty7iHTBgSJ"
      },
      "source": [
        "5. \n",
        "\n",
        "\n",
        "Write a Python program to swap two variables without temp variable?"
      ]
    },
    {
      "cell_type": "code",
      "metadata": {
        "colab": {
          "base_uri": "https://localhost:8080/"
        },
        "id": "r4d6bjyBBnLQ",
        "outputId": "24f82687-e480-4e2d-b290-3c322ee89f14"
      },
      "source": [
        "a=int(input(\"Enter 1st Number=\"))\n",
        "b=int(input(\"Enter 2nd Number=\"))\n",
        "print(\"before swapping:\")\n",
        "print(\"a=\",a,\"b=\",b)\n",
        "a=a+b\n",
        "b=a-b\n",
        "a=a-b\n",
        "print(\"after swapping:\")\n",
        "print(\"a=\",a,\"b=\",b)"
      ],
      "execution_count": 10,
      "outputs": [
        {
          "output_type": "stream",
          "name": "stdout",
          "text": [
            "Enter 1st Number=9\n",
            "Enter 2nd Number=8\n",
            "before swapping:\n",
            "a= 9 b= 8\n",
            "after swapping:\n",
            "a= 8 b= 9\n"
          ]
        }
      ]
    }
  ]
}