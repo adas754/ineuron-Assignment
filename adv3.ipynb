{
  "nbformat": 4,
  "nbformat_minor": 0,
  "metadata": {
    "colab": {
      "provenance": []
    },
    "kernelspec": {
      "name": "python3",
      "display_name": "Python 3"
    },
    "language_info": {
      "name": "python"
    }
  },
  "cells": [
    {
      "cell_type": "markdown",
      "source": [
        "# 1. Create a function to perform basic arithmetic operations that includes addition, subtraction, multiplication and division on a string number (e.g. \"12 + 24\" or \"23 - 21\" or \"12 // 12\" or \"12 * 21\").\n",
        "\n",
        "Here, we have 1 followed by a space, operator followed by another space and 2. For the challenge, we are going to have only two numbers between 1 valid operator. The return value should be a number.\n",
        "\n",
        "eval() is not allowed. In case of division, whenever the second number equals \"0\" return -1.\n",
        "\n",
        "For example:\n",
        "\n",
        "\"15 // 0\"  ➞ -1\n",
        "\n",
        "Examples\n",
        "\n",
        "arithmetic_operation(\"12 + 12\") ➞ 24 // 12 + 12 = 24\n",
        "\n",
        "arithmetic_operation(\"12 - 12\") ➞ 24 // 12 - 12 = 0\n",
        "\n",
        "arithmetic_operation(\"12 * 12\") ➞ 144 // 12 * 12 = 144\n",
        "\n",
        "arithmetic_operation(\"12 // 0\") ➞ -1 // 12 / 0 = -1\n",
        "\n"
      ],
      "metadata": {
        "id": "Co750aP7SHjP"
      }
    },
    {
      "cell_type": "code",
      "source": [
        "def arithmetic_operation(expression):\n",
        "  number=expression.split()\n",
        "  if len(number)!=3:\n",
        "    return 0\n",
        "  num1,operator,num2=number\n",
        "  num1=int(num1)\n",
        "  num2=int(num2)\n",
        "  if operator=='+':\n",
        "    return num1+num2\n",
        "  elif operator=='-':\n",
        "    return num1-num2\n",
        "  elif operator=='*':\n",
        "    return num1*num2\n",
        "  elif operator=='//':\n",
        "    if num2==0:\n",
        "      return -1\n",
        "    return num1//num2\n",
        "  else:\n",
        "    return 0\n",
        "\n",
        "arithmetic_operation(\"12 + 12\")\n",
        "\n",
        "\n",
        "\n"
      ],
      "metadata": {
        "colab": {
          "base_uri": "https://localhost:8080/"
        },
        "id": "6tGOdM75UqQV",
        "outputId": "6640fa9c-e427-4fc9-c6cc-0326fa51e224"
      },
      "execution_count": null,
      "outputs": [
        {
          "output_type": "execute_result",
          "data": {
            "text/plain": [
              "24"
            ]
          },
          "metadata": {},
          "execution_count": 22
        }
      ]
    },
    {
      "cell_type": "code",
      "source": [
        "arithmetic_operation(\"12 - 12\")\n",
        "\n"
      ],
      "metadata": {
        "colab": {
          "base_uri": "https://localhost:8080/"
        },
        "id": "GW3-vqWRUAgn",
        "outputId": "05887380-4577-4347-e799-4aa705e086e9"
      },
      "execution_count": null,
      "outputs": [
        {
          "output_type": "execute_result",
          "data": {
            "text/plain": [
              "0"
            ]
          },
          "metadata": {},
          "execution_count": 23
        }
      ]
    },
    {
      "cell_type": "code",
      "source": [
        "\n",
        "\n",
        "arithmetic_operation(\"12 * 12\")\n",
        "\n"
      ],
      "metadata": {
        "colab": {
          "base_uri": "https://localhost:8080/"
        },
        "id": "KPVARJ9yUI27",
        "outputId": "b08a3cd0-ea87-46b1-8ba4-fa98af88a329"
      },
      "execution_count": null,
      "outputs": [
        {
          "output_type": "execute_result",
          "data": {
            "text/plain": [
              "144"
            ]
          },
          "metadata": {},
          "execution_count": 24
        }
      ]
    },
    {
      "cell_type": "code",
      "source": [
        "arithmetic_operation(\"12 // 0\")"
      ],
      "metadata": {
        "colab": {
          "base_uri": "https://localhost:8080/"
        },
        "id": "ngxRGzv-ULvI",
        "outputId": "36f40c9d-9b72-40e4-c879-db5985ad87fa"
      },
      "execution_count": null,
      "outputs": [
        {
          "output_type": "execute_result",
          "data": {
            "text/plain": [
              "-1"
            ]
          },
          "metadata": {},
          "execution_count": 25
        }
      ]
    },
    {
      "cell_type": "markdown",
      "source": [
        "# 2. Write a function that takes the coordinates of three points in the form of a 2d array and returns the perimeter of the triangle. The given points are the vertices of a triangle on a two-dimensional plane.\n",
        "\n",
        "Examples\n",
        "\n",
        "perimeter( [ [15, 7], [5, 22], [11, 1] ] ) ➞ 47.08\n",
        "\n",
        "perimeter( [ [0, 0], [0, 1], [1, 0] ] ) ➞ 3.42\n",
        "\n",
        "perimeter( [ [-10, -10], [10, 10 ], [-10, 10] ] ) ➞ 68.28\n",
        "\n"
      ],
      "metadata": {
        "id": "M1Cgt4S7dgn2"
      }
    },
    {
      "cell_type": "code",
      "source": [
        "import math\n",
        "\n",
        "def perimeter(vertices):\n",
        "    def distance(p1, p2):\n",
        "        return math.sqrt((p2[0] - p1[0])**2 + (p2[1] - p1[1])**2)\n",
        "    \n",
        "    a = distance(vertices[0], vertices[1])\n",
        "    b = distance(vertices[1], vertices[2])\n",
        "    c = distance(vertices[2], vertices[0])\n",
        "    \n",
        "    return a + b + c\n"
      ],
      "metadata": {
        "id": "cSKiJhO3domO"
      },
      "execution_count": null,
      "outputs": []
    },
    {
      "cell_type": "code",
      "source": [
        "perimeter( [ [15, 7], [5, 22], [11, 1] ] ) "
      ],
      "metadata": {
        "colab": {
          "base_uri": "https://localhost:8080/"
        },
        "id": "eAU4CJAzeE1b",
        "outputId": "ec959f95-5ab2-478e-c076-c85bc8da3496"
      },
      "execution_count": null,
      "outputs": [
        {
          "output_type": "execute_result",
          "data": {
            "text/plain": [
              "47.07918859608948"
            ]
          },
          "metadata": {},
          "execution_count": 33
        }
      ]
    },
    {
      "cell_type": "code",
      "source": [
        "perimeter( [ [0, 0], [0, 1], [1, 0] ] )"
      ],
      "metadata": {
        "colab": {
          "base_uri": "https://localhost:8080/"
        },
        "id": "LCz37RUWeJpg",
        "outputId": "593fa2bd-080f-4a90-8b6c-cbc695bb8067"
      },
      "execution_count": null,
      "outputs": [
        {
          "output_type": "execute_result",
          "data": {
            "text/plain": [
              "3.414213562373095"
            ]
          },
          "metadata": {},
          "execution_count": 32
        }
      ]
    },
    {
      "cell_type": "code",
      "source": [
        "perimeter( [ [-10, -10], [10, 10 ], [-10, 10] ] )"
      ],
      "metadata": {
        "colab": {
          "base_uri": "https://localhost:8080/"
        },
        "id": "BBJ7Rkn5eNQ5",
        "outputId": "f1e858f6-7d98-40ab-dc03-cfa98fc3e816"
      },
      "execution_count": null,
      "outputs": [
        {
          "output_type": "execute_result",
          "data": {
            "text/plain": [
              "68.2842712474619"
            ]
          },
          "metadata": {},
          "execution_count": 31
        }
      ]
    },
    {
      "cell_type": "code",
      "source": [
        "def perimeter(vertices):\n",
        "    def distance(p1, p2):\n",
        "        return ((p2[0] - p1[0])**2 + (p2[1] - p1[1])**2)**0.5\n",
        "    \n",
        "    a = distance(vertices[0], vertices[1])\n",
        "    b = distance(vertices[1], vertices[2])\n",
        "    c = distance(vertices[2], vertices[0])\n",
        "    \n",
        "    return a + b + c\n"
      ],
      "metadata": {
        "id": "li1QntKgfYzf"
      },
      "execution_count": null,
      "outputs": []
    },
    {
      "cell_type": "code",
      "source": [
        "def perimeter(vartices):\n",
        "  def distance(p1,p2):\n",
        "    return((p2[0]-p1[0])**2+(p2[1]-p1[1])**2)**0.5\n",
        "  a=distance(vartices[0],vartices[1])\n",
        "  b=distance(vartices[1],vartices[2])\n",
        "  c=distance(vartices[2],vartices[0])\n",
        "  return a+b+c\n",
        "perimeter( [ [15, 7], [5, 22], [11, 1] ] )           "
      ],
      "metadata": {
        "colab": {
          "base_uri": "https://localhost:8080/"
        },
        "id": "C9cfBHNItIEI",
        "outputId": "fa39155f-961f-4936-d666-a2b0dcc7b352"
      },
      "execution_count": null,
      "outputs": [
        {
          "output_type": "execute_result",
          "data": {
            "text/plain": [
              "47.07918859608948"
            ]
          },
          "metadata": {},
          "execution_count": 35
        }
      ]
    },
    {
      "cell_type": "code",
      "source": [
        "perimeter( [ [0, 0], [0, 1], [1, 0] ] )"
      ],
      "metadata": {
        "colab": {
          "base_uri": "https://localhost:8080/"
        },
        "id": "VahASPZhwufV",
        "outputId": "63be4598-be67-4cce-f0f5-4ebf9a0c266a"
      },
      "execution_count": null,
      "outputs": [
        {
          "output_type": "execute_result",
          "data": {
            "text/plain": [
              "3.414213562373095"
            ]
          },
          "metadata": {},
          "execution_count": 36
        }
      ]
    },
    {
      "cell_type": "code",
      "source": [
        "perimeter( [ [-10, -10], [10, 10 ], [-10, 10] ] )"
      ],
      "metadata": {
        "colab": {
          "base_uri": "https://localhost:8080/"
        },
        "id": "R_LQh5QEwyV8",
        "outputId": "0aec8081-3e4f-4045-8978-7d302fed5118"
      },
      "execution_count": null,
      "outputs": [
        {
          "output_type": "execute_result",
          "data": {
            "text/plain": [
              "68.2842712474619"
            ]
          },
          "metadata": {},
          "execution_count": 37
        }
      ]
    },
    {
      "cell_type": "markdown",
      "source": [
        "# 3. A city skyline can be represented as a 2-D list with 1s representing buildings. In the example below, the height of the tallest building is 4 (second-most right column).\n",
        "\n",
        "[[0, 0, 0, 0, 0, 0],\n",
        "[0, 0, 0, 0, 1, 0],\n",
        "[0, 0, 1, 0, 1, 0],\n",
        "[0, 1, 1, 1, 1, 0],\n",
        "[1, 1, 1, 1, 1, 1]]\n",
        "\n",
        "Create a function that takes a skyline (2-D list of 0's and 1's) and returns the height of the tallest skyscraper.\n",
        "\n",
        "Examples\n",
        "\n",
        "tallest_skyscraper([\n",
        "  [0, 0, 0, 0],\n",
        "  [0, 1, 0, 0],\n",
        "  [0, 1, 1, 0],\n",
        "  [1, 1, 1, 1]\n",
        "]) ➞ 3\n",
        "\n",
        "tallest_skyscraper([\n",
        "  [0, 1, 0, 0],\n",
        "  [0, 1, 0, 0],\n",
        "  [0, 1, 1, 0],\n",
        "  [1, 1, 1, 1]\n",
        "]) ➞ 4\n",
        "\n",
        "tallest_skyscraper([\n",
        "  [0, 0, 0, 0],\n",
        "  [0, 0, 0, 0],\n",
        "  [1, 1, 1, 0],\n",
        "  [1, 1, 1, 1]\n",
        "]) ➞ 2\n"
      ],
      "metadata": {
        "id": "U_5llentw9G1"
      }
    },
    {
      "cell_type": "code",
      "source": [
        "def tallest_skyscraper(in_list):\n",
        "  out_list=[]\n",
        "  for num in range(len(in_list)):\n",
        "    count=0\n",
        "    for ele in range(len(in_list[num])):\n",
        "      count+=in_list[ele][num]\n",
        "      out_list.append(count)\n",
        "  print(f'tallest_skyscraper({in_list})->{max(out_list)}')\n",
        "tallest_skyscraper([ [0, 0, 0, 0], [0, 1, 0, 0], [0, 1, 1, 0], [1, 1, 1, 1] ])\n",
        "\n",
        "tallest_skyscraper([ [0, 1, 0, 0], [0, 1, 0, 0], [0, 1, 1, 0], [1, 1, 1, 1] ])\n",
        "\n",
        "tallest_skyscraper([ [0, 0, 0, 0], [0, 0, 0, 0], [1, 1, 1, 0], [1, 1, 1, 1] ])\n"
      ],
      "metadata": {
        "colab": {
          "base_uri": "https://localhost:8080/"
        },
        "id": "5eO99toU3tS5",
        "outputId": "d5e05df6-e10a-48c4-85ff-2b8e317a88b9"
      },
      "execution_count": null,
      "outputs": [
        {
          "output_type": "stream",
          "name": "stdout",
          "text": [
            "tallest_skyscraper([[0, 0, 0, 0], [0, 1, 0, 0], [0, 1, 1, 0], [1, 1, 1, 1]])->3\n",
            "tallest_skyscraper([[0, 1, 0, 0], [0, 1, 0, 0], [0, 1, 1, 0], [1, 1, 1, 1]])->4\n",
            "tallest_skyscraper([[0, 0, 0, 0], [0, 0, 0, 0], [1, 1, 1, 0], [1, 1, 1, 1]])->2\n"
          ]
        }
      ]
    },
    {
      "cell_type": "markdown",
      "source": [
        "# 4. A financial institution provides professional services to banks and claims charges from the customers based on the number of man-days provided. Internally, it has set a scheme to motivate and reward staff to meet and exceed targeted billable utilization and revenues by paying a bonus for each day claimed from customers in excess of a threshold target.\n",
        "\n",
        "# This quarterly scheme is calculated with a threshold target of 32 days per quarter, and the incentive payment for each billable day in excess of such threshold target is shown as follows:\n",
        "\n",
        " Days\t                             Bonus\n",
        "\n",
        "0 to 32 days\t                   Zero\n",
        "\n",
        " 33 to 40 days\t         SGD$325 per billable day\n",
        "\n",
        " 41 to 48 days\t         SGD$550 per billable day\n",
        " \n",
        " Greater than 48 days       SGD$600 per billable day \n",
        "\n",
        "# Please note that incentive payment is calculated progressively. As an example, if an employee reached total billable days of 45 in a quarter, his/her incentive payment is computed as follows:\n",
        "\n",
        "# 32*0 + 8*325 + 5*550 = 5350\n",
        "\n",
        "# Write a function to read the billable days of an employee and return the bonus he/she has obtained in that quarter.\n",
        "\n",
        "# Examples\n",
        "\n",
        "bonus(15) ➞ 0\n",
        "\n",
        "bonus(37) ➞ 1625\n",
        "\n",
        "bonus(50) ➞ 8200\n"
      ],
      "metadata": {
        "id": "J9tHgor97Rnt"
      }
    },
    {
      "cell_type": "markdown",
      "source": [
        "Days Bonus\n",
        "\n",
        "0 to 32 days Zero\n",
        "\n",
        "33 to 40 days SGD$325 per billable day\n",
        "\n",
        "41 to 48 days SGD$550 per billable day\n",
        "\n",
        "Greater than 48 days SGD$600 per billable day"
      ],
      "metadata": {
        "id": "mkYHUfgzn_aI"
      }
    },
    {
      "cell_type": "code",
      "source": [
        "def days(bonus):\n",
        "  if days<=32:\n",
        "    return 0\n",
        "  elif days<=40:\n",
        "    return (days-32)*325\n",
        "  elif days<=48:\n",
        "    return (days-32)*325*(days-40)*550\n",
        "  else:\n",
        "    return (40-32)*325+(48-40)*550*(days-48)*600"
      ],
      "metadata": {
        "id": "SO10kkz9oNWN"
      },
      "execution_count": 5,
      "outputs": []
    },
    {
      "cell_type": "code",
      "source": [
        "bonus(15) "
      ],
      "metadata": {
        "colab": {
          "base_uri": "https://localhost:8080/"
        },
        "id": "iVsBiWfypgGS",
        "outputId": "d91ce837-bd38-4262-c0ad-ac22c79f7c15"
      },
      "execution_count": 6,
      "outputs": [
        {
          "output_type": "execute_result",
          "data": {
            "text/plain": [
              "0"
            ]
          },
          "metadata": {},
          "execution_count": 6
        }
      ]
    },
    {
      "cell_type": "code",
      "source": [
        "bonus(37)"
      ],
      "metadata": {
        "colab": {
          "base_uri": "https://localhost:8080/"
        },
        "id": "d_oTjoiSpj8j",
        "outputId": "1c34582a-e3cd-4b2e-9bd4-5da46ae5f954"
      },
      "execution_count": 7,
      "outputs": [
        {
          "output_type": "execute_result",
          "data": {
            "text/plain": [
              "1625"
            ]
          },
          "metadata": {},
          "execution_count": 7
        }
      ]
    },
    {
      "cell_type": "code",
      "source": [
        "bonus(50)"
      ],
      "metadata": {
        "colab": {
          "base_uri": "https://localhost:8080/"
        },
        "id": "aJAmskSjppTi",
        "outputId": "d66ab9d2-d477-4e14-bff1-f156bdfc538b"
      },
      "execution_count": 8,
      "outputs": [
        {
          "output_type": "execute_result",
          "data": {
            "text/plain": [
              "8200"
            ]
          },
          "metadata": {},
          "execution_count": 8
        }
      ]
    },
    {
      "cell_type": "markdown",
      "source": [
        "# 5. A number is said to be Disarium if the sum of its digits raised to their respective positions is the number itself.\n",
        "\n",
        "Create a function that determines whether a number is a Disarium or not.\n",
        "\n",
        "Examples\n",
        "\n",
        "is_disarium(75) ➞ False\n",
        "# 7^1 + 5^2 = 7 + 25 = 32\n",
        "\n",
        "is_disarium(135) ➞ True\n",
        "# 1^1 + 3^2 + 5^3 = 1 + 9 + 125 = 135\n",
        "\n",
        "is_disarium(544) ➞ False\n",
        "\n",
        "is_disarium(518) ➞ True\n",
        "\n",
        "is_disarium(466) ➞ False\n",
        "\n",
        "is_disarium(8) ➞ True\n"
      ],
      "metadata": {
        "id": "34-39aUIqA0S"
      }
    },
    {
      "cell_type": "code",
      "source": [
        "def is_disarium(in_num):\n",
        "  sum=0\n",
        "  output=False\n",
        "  for ele in range(len(str(in_num))):\n",
        "    sum+=int(str(in_num)[ele])**(ele+1)\n",
        "    if in_num==sum:\n",
        "      output=True\n",
        "  print(f'is_disarium({in_num})->{output}')\n",
        "\n",
        "is_disarium(544)\n",
        "is_disarium(518)\n",
        "\n",
        "is_disarium(466)\n",
        "\n",
        "is_disarium(8)"
      ],
      "metadata": {
        "colab": {
          "base_uri": "https://localhost:8080/"
        },
        "id": "lbMDrZORqKcS",
        "outputId": "d18a7c2d-81db-4c62-9bda-d7cf0e4dc1d8"
      },
      "execution_count": 16,
      "outputs": [
        {
          "output_type": "stream",
          "name": "stdout",
          "text": [
            "is_disarium(544)->False\n",
            "is_disarium(518)->True\n",
            "is_disarium(466)->False\n",
            "is_disarium(8)->True\n"
          ]
        }
      ]
    },
    {
      "cell_type": "code",
      "source": [],
      "metadata": {
        "id": "8XvCV0GT4CGx"
      },
      "execution_count": null,
      "outputs": []
    }
  ]
}