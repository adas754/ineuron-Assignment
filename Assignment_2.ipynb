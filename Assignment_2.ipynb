{
  "nbformat": 4,
  "nbformat_minor": 0,
  "metadata": {
    "colab": {
      "name": "Assignment_2.ipynb",
      "provenance": []
    },
    "kernelspec": {
      "name": "python3",
      "display_name": "Python 3"
    },
    "language_info": {
      "name": "python"
    }
  },
  "cells": [
    {
      "cell_type": "markdown",
      "source": [
        "1.What are the two values of the Boolean data type? How do you write them?\n"
      ],
      "metadata": {
        "id": "cDaFa7LQ9llS"
      }
    },
    {
      "cell_type": "markdown",
      "source": [
        "Two Types Boolean Data type ,True and False"
      ],
      "metadata": {
        "id": "DkpwR2Qa94x4"
      }
    },
    {
      "cell_type": "code",
      "execution_count": 1,
      "metadata": {
        "colab": {
          "base_uri": "https://localhost:8080/"
        },
        "id": "ucQf03bA8pi-",
        "outputId": "043d0b65-fa08-4c14-ebc5-88313cbe53e1"
      },
      "outputs": [
        {
          "output_type": "execute_result",
          "data": {
            "text/plain": [
              "bool"
            ]
          },
          "metadata": {},
          "execution_count": 1
        }
      ],
      "source": [
        "a = True\n",
        "type(a)\n",
        " \n",
        "b = False\n",
        "type(b)"
      ]
    },
    {
      "cell_type": "markdown",
      "source": [
        "2. What are the three different types of Boolean operators?\n"
      ],
      "metadata": {
        "id": "rfvR-oc4-Kqe"
      }
    },
    {
      "cell_type": "markdown",
      "source": [
        "The three basic boolean operators are: AND, OR, and NOT."
      ],
      "metadata": {
        "id": "BkYFOJp--oau"
      }
    },
    {
      "cell_type": "markdown",
      "source": [
        "3. Make a list of each Boolean operator's truth tables (i.e. every possible combination of Boolean values for the operator and what it evaluate ).\n"
      ],
      "metadata": {
        "id": "YYrCF5E8-3RH"
      }
    },
    {
      "cell_type": "markdown",
      "source": [
        "![logical.png](data:image/png;base64,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)\n",
        "\n"
      ],
      "metadata": {
        "id": "bCoSEMiO-7ZO"
      }
    },
    {
      "cell_type": "markdown",
      "source": [
        "4. What are the values of the following expressions?\n",
        "(5 > 4) and (3 == 5)\n",
        "\n",
        "not (5 > 4)\n",
        "\n",
        "(5 > 4) or (3 == 5)\n",
        "\n",
        "not ((5 > 4) or (3 == 5))\n",
        "\n",
        "(True and True) and (True == False)\n",
        "\n",
        "(not False) or (not True)\n",
        "\n"
      ],
      "metadata": {
        "id": "5uz3jePVBStp"
      }
    },
    {
      "cell_type": "code",
      "source": [
        "(5 > 4) and (3 == 5)"
      ],
      "metadata": {
        "colab": {
          "base_uri": "https://localhost:8080/"
        },
        "id": "lYKNAiXGDJXG",
        "outputId": "e062cbd4-e047-4374-8e70-8ada907c3911"
      },
      "execution_count": 2,
      "outputs": [
        {
          "output_type": "execute_result",
          "data": {
            "text/plain": [
              "False"
            ]
          },
          "metadata": {},
          "execution_count": 2
        }
      ]
    },
    {
      "cell_type": "code",
      "source": [
        "not (5 > 4)\n"
      ],
      "metadata": {
        "colab": {
          "base_uri": "https://localhost:8080/"
        },
        "id": "jEMH1oOoDVIe",
        "outputId": "e4a96162-47c3-4e58-ea4e-6bb602f47b15"
      },
      "execution_count": 3,
      "outputs": [
        {
          "output_type": "execute_result",
          "data": {
            "text/plain": [
              "False"
            ]
          },
          "metadata": {},
          "execution_count": 3
        }
      ]
    },
    {
      "cell_type": "code",
      "source": [
        "(5 > 4) or (3 == 5)\n"
      ],
      "metadata": {
        "colab": {
          "base_uri": "https://localhost:8080/"
        },
        "id": "oF7qkeFXDhMF",
        "outputId": "a5b71b03-50f2-4677-e2b1-88c88b2ddb5f"
      },
      "execution_count": 4,
      "outputs": [
        {
          "output_type": "execute_result",
          "data": {
            "text/plain": [
              "True"
            ]
          },
          "metadata": {},
          "execution_count": 4
        }
      ]
    },
    {
      "cell_type": "code",
      "source": [
        "not ((5 > 4) or (3 == 5))\n"
      ],
      "metadata": {
        "colab": {
          "base_uri": "https://localhost:8080/"
        },
        "id": "1vrPdKfbDmeX",
        "outputId": "888bb24e-e9b7-4915-eb77-39f569aed0bf"
      },
      "execution_count": 5,
      "outputs": [
        {
          "output_type": "execute_result",
          "data": {
            "text/plain": [
              "False"
            ]
          },
          "metadata": {},
          "execution_count": 5
        }
      ]
    },
    {
      "cell_type": "code",
      "source": [
        "(True and True) and (True == False)\n"
      ],
      "metadata": {
        "colab": {
          "base_uri": "https://localhost:8080/"
        },
        "id": "oK6xfX46DyPV",
        "outputId": "b192a7f6-e028-44ff-e73d-49a806df30f7"
      },
      "execution_count": 6,
      "outputs": [
        {
          "output_type": "execute_result",
          "data": {
            "text/plain": [
              "False"
            ]
          },
          "metadata": {},
          "execution_count": 6
        }
      ]
    },
    {
      "cell_type": "code",
      "source": [
        "(not False) or (not True)\n"
      ],
      "metadata": {
        "colab": {
          "base_uri": "https://localhost:8080/"
        },
        "id": "Apdm0uPkD1dP",
        "outputId": "17b89e34-c6e4-432b-8874-3057cf7e6bff"
      },
      "execution_count": 7,
      "outputs": [
        {
          "output_type": "execute_result",
          "data": {
            "text/plain": [
              "True"
            ]
          },
          "metadata": {},
          "execution_count": 7
        }
      ]
    },
    {
      "cell_type": "markdown",
      "source": [
        "5. What are the six comparison operators?\n"
      ],
      "metadata": {
        "id": "g2W9BNUwEEKm"
      }
    },
    {
      "cell_type": "markdown",
      "source": [
        "1 Less than (<) \n",
        "\n",
        "2.Greater than (>)\n",
        "\n",
        "3.Less than or equal to (<=) \n",
        "\n",
        "4.Greater than or equal to (>=)\n",
        "\n",
        "5.Equal to (===) \n",
        "\n",
        "6.Not equal to (!==)\n"
      ],
      "metadata": {
        "id": "9vtwjXy8EW_e"
      }
    },
    {
      "cell_type": "markdown",
      "source": [
        "6. How do you tell the difference between the equal to and assignment operators?Describe a condition and when you would use one.\n"
      ],
      "metadata": {
        "id": "Zw5k6kyAFVi1"
      }
    },
    {
      "cell_type": "markdown",
      "source": [
        "The “=” is an assignment operator is used to assign the value on the right to the variable on the left.\n",
        "\n",
        "The ‘==’ operator checks whether the two given operands are equal or not. If so, it returns true. Otherwise it returns false.\n",
        "\n"
      ],
      "metadata": {
        "id": "-C30Lgv_FaKX"
      }
    },
    {
      "cell_type": "code",
      "source": [
        "a = 10 #assignment operator\n",
        "print(a)"
      ],
      "metadata": {
        "colab": {
          "base_uri": "https://localhost:8080/"
        },
        "id": "NZ051G9qGFU9",
        "outputId": "b74c4125-f6cf-44f6-ce98-4cd01d2d340e"
      },
      "execution_count": 11,
      "outputs": [
        {
          "output_type": "stream",
          "name": "stdout",
          "text": [
            "10\n"
          ]
        }
      ]
    },
    {
      "cell_type": "code",
      "source": [
        "5==5 #equal to operator"
      ],
      "metadata": {
        "colab": {
          "base_uri": "https://localhost:8080/"
        },
        "id": "YaBjgGFOGVyx",
        "outputId": "a49d7f8a-307a-4d16-e84b-21d7189bba8d"
      },
      "execution_count": 10,
      "outputs": [
        {
          "output_type": "execute_result",
          "data": {
            "text/plain": [
              "True"
            ]
          },
          "metadata": {},
          "execution_count": 10
        }
      ]
    },
    {
      "cell_type": "markdown",
      "source": [
        "7. Identify the three blocks in this code:\n",
        "\n",
        "spam = 0\n",
        "\n",
        "if spam == 10:\n",
        "\n",
        "print('eggs')\n",
        "\n",
        "if spam > 5:\n",
        "\n",
        "print('bacon')\n",
        "\n",
        "else:\n",
        "\n",
        "print('ham')\n",
        "\n",
        "print('spam')\n",
        "\n",
        "print('spam')\n",
        "\n"
      ],
      "metadata": {
        "id": "MR8TZ-qJGjXj"
      }
    },
    {
      "cell_type": "code",
      "source": [
        "spam = 0\n",
        "if spam == 10:\n",
        "   print('eggs')\n",
        "if spam > 5:\n",
        "    print('bacon')\n",
        "else:\n",
        "  print('ham')\n",
        "  print('spam')\n",
        "  print('spam')\n"
      ],
      "metadata": {
        "colab": {
          "base_uri": "https://localhost:8080/"
        },
        "id": "h-ksX9NIGuz7",
        "outputId": "e4ba418b-a94e-463e-cdac-50e2f6a46942"
      },
      "execution_count": 15,
      "outputs": [
        {
          "output_type": "stream",
          "name": "stdout",
          "text": [
            "ham\n",
            "spam\n",
            "spam\n"
          ]
        }
      ]
    },
    {
      "cell_type": "markdown",
      "source": [
        "8. Write code that prints Hello if 1 is stored in spam, prints Howdy if 2 is stored in spam, and prints Greetings! if anything else is stored in spam.\n"
      ],
      "metadata": {
        "id": "nuYYsAvDHoRi"
      }
    },
    {
      "cell_type": "code",
      "source": [
        "spam = int(input(\"Enter spam no : \"))\n",
        "if spam == 1:\n",
        "   print('Hello')\n",
        "elif spam == 2:\n",
        "    print('Howdy')\n",
        "else:\n",
        "  print('Greetings!')\n",
        "  \n"
      ],
      "metadata": {
        "colab": {
          "base_uri": "https://localhost:8080/"
        },
        "id": "2vvP7cpAHvcD",
        "outputId": "40e2e5fd-3869-46e0-90ee-25cbcb5f9d31"
      },
      "execution_count": 24,
      "outputs": [
        {
          "output_type": "stream",
          "name": "stdout",
          "text": [
            "Enter spam no : 1\n",
            "Hello\n"
          ]
        }
      ]
    },
    {
      "cell_type": "markdown",
      "source": [
        "9.If your programme is stuck in an endless loop, what keys you’ll press?\n"
      ],
      "metadata": {
        "id": "sU_4adNcJHyt"
      }
    },
    {
      "cell_type": "markdown",
      "source": [
        "Ctrl + C"
      ],
      "metadata": {
        "id": "flJB9jThJMEE"
      }
    },
    {
      "cell_type": "markdown",
      "source": [
        "10. How can you tell the difference between break and continue?\n"
      ],
      "metadata": {
        "id": "HR-5Jf1tJcRe"
      }
    },
    {
      "cell_type": "markdown",
      "source": [
        "\t\n",
        "break:: It eliminates the execution of remaining iteration of loop\n",
        "\n",
        "continue::It will terminate only the current iteration of loop."
      ],
      "metadata": {
        "id": "WKedGD71JpB0"
      }
    },
    {
      "cell_type": "markdown",
      "source": [
        "11. In a for loop, what is the difference between range(10), range(0, 10), and range(0, 10, 1)?\n"
      ],
      "metadata": {
        "id": "bYK3xON_KWFG"
      }
    },
    {
      "cell_type": "code",
      "source": [
        " range(10)"
      ],
      "metadata": {
        "colab": {
          "base_uri": "https://localhost:8080/"
        },
        "id": "bCceICplJCkE",
        "outputId": "0c6e62bb-2cab-43d4-e346-046a35c7fbea"
      },
      "execution_count": 25,
      "outputs": [
        {
          "output_type": "execute_result",
          "data": {
            "text/plain": [
              "range(0, 10)"
            ]
          },
          "metadata": {},
          "execution_count": 25
        }
      ]
    },
    {
      "cell_type": "code",
      "source": [
        "range(0, 10)"
      ],
      "metadata": {
        "colab": {
          "base_uri": "https://localhost:8080/"
        },
        "id": "NSq9TjcGKb-p",
        "outputId": "562ebe43-6960-45f5-deae-fb276bdd0b80"
      },
      "execution_count": 26,
      "outputs": [
        {
          "output_type": "execute_result",
          "data": {
            "text/plain": [
              "range(0, 10)"
            ]
          },
          "metadata": {},
          "execution_count": 26
        }
      ]
    },
    {
      "cell_type": "code",
      "source": [
        "range(0, 10, 1)"
      ],
      "metadata": {
        "colab": {
          "base_uri": "https://localhost:8080/"
        },
        "id": "XAR7oTKNKgCG",
        "outputId": "600cc2e0-4171-4aa5-a34b-28b2c5d1cbf6"
      },
      "execution_count": 27,
      "outputs": [
        {
          "output_type": "execute_result",
          "data": {
            "text/plain": [
              "range(0, 10)"
            ]
          },
          "metadata": {},
          "execution_count": 27
        }
      ]
    },
    {
      "cell_type": "code",
      "source": [
        "for i in range(10):\n",
        "    print(i, end=\" \")\n",
        "print()"
      ],
      "metadata": {
        "colab": {
          "base_uri": "https://localhost:8080/"
        },
        "id": "NoVc-uS3MTz2",
        "outputId": "ff9d8b54-8c7c-4e7f-fe23-49ea94fe0575"
      },
      "execution_count": 28,
      "outputs": [
        {
          "output_type": "stream",
          "name": "stdout",
          "text": [
            "0 1 2 3 4 5 6 7 8 9 \n"
          ]
        }
      ]
    },
    {
      "cell_type": "code",
      "source": [
        "for i in range(0,10):\n",
        "    print(i, end=\" \")\n",
        "print()"
      ],
      "metadata": {
        "colab": {
          "base_uri": "https://localhost:8080/"
        },
        "id": "HTMDYlZFMXWE",
        "outputId": "294e66d7-b85e-4661-d5c9-d59a68c3f40e"
      },
      "execution_count": 29,
      "outputs": [
        {
          "output_type": "stream",
          "name": "stdout",
          "text": [
            "0 1 2 3 4 5 6 7 8 9 \n"
          ]
        }
      ]
    },
    {
      "cell_type": "code",
      "source": [
        "for i in range(0,10,1):\n",
        "    print(i, end=\" \")\n",
        "print()"
      ],
      "metadata": {
        "colab": {
          "base_uri": "https://localhost:8080/"
        },
        "id": "I1D0u0jyMfVe",
        "outputId": "abf63607-6a8b-4ed5-e0cd-1e35a02723a5"
      },
      "execution_count": 30,
      "outputs": [
        {
          "output_type": "stream",
          "name": "stdout",
          "text": [
            "0 1 2 3 4 5 6 7 8 9 \n"
          ]
        }
      ]
    },
    {
      "cell_type": "markdown",
      "source": [
        "12. Write a short program that prints the numbers 1 to 10 using a for loop. Then write an equivalent program that prints the numbers 1 to 10 using a while loop.\n"
      ],
      "metadata": {
        "id": "q-v2NlhUMG_p"
      }
    },
    {
      "cell_type": "code",
      "source": [
        "for i in range(1,11):\n",
        "    print(i, end=\" \")\n",
        "print()"
      ],
      "metadata": {
        "colab": {
          "base_uri": "https://localhost:8080/"
        },
        "id": "X2nfuGiKM9Sd",
        "outputId": "fe3cb85c-2cd1-4469-e061-b1182b971f46"
      },
      "execution_count": 31,
      "outputs": [
        {
          "output_type": "stream",
          "name": "stdout",
          "text": [
            "1 2 3 4 5 6 7 8 9 10 \n"
          ]
        }
      ]
    },
    {
      "cell_type": "code",
      "source": [
        "i = 1\n",
        "while(i<=10):\n",
        "    print(i)\n",
        "    i += 1\n"
      ],
      "metadata": {
        "colab": {
          "base_uri": "https://localhost:8080/"
        },
        "id": "mG2sIeEtNEPQ",
        "outputId": "46dafebc-f047-4d62-a88b-5ce1149046ef"
      },
      "execution_count": 32,
      "outputs": [
        {
          "output_type": "stream",
          "name": "stdout",
          "text": [
            "1\n",
            "2\n",
            "3\n",
            "4\n",
            "5\n",
            "6\n",
            "7\n",
            "8\n",
            "9\n",
            "10\n"
          ]
        }
      ]
    },
    {
      "cell_type": "markdown",
      "source": [
        "13. If you had a function named bacon() inside a module named spam, how would you call it after importing spam?\n"
      ],
      "metadata": {
        "id": "3hC89TA8NWMI"
      }
    },
    {
      "cell_type": "code",
      "source": [
        "def spam(bacon):\n",
        "  spam = int(input(\"Enter spam no : \"))\n",
        "  if spam == 1:\n",
        "   print('Hello')\n",
        "  elif spam == 2:\n",
        "    print('Howdy')\n",
        "  else:\n",
        "   print('Greetings!')\n",
        "  return"
      ],
      "metadata": {
        "id": "hOOa88p-Opux"
      },
      "execution_count": 48,
      "outputs": []
    },
    {
      "cell_type": "code",
      "source": [
        "spam()"
      ],
      "metadata": {
        "colab": {
          "base_uri": "https://localhost:8080/",
          "height": 165
        },
        "id": "VgcwbLXbO-ka",
        "outputId": "c7d19212-0f34-4ebe-a314-f6ea9db9fe4f"
      },
      "execution_count": 50,
      "outputs": [
        {
          "output_type": "error",
          "ename": "TypeError",
          "evalue": "ignored",
          "traceback": [
            "\u001b[0;31m---------------------------------------------------------------------------\u001b[0m",
            "\u001b[0;31mTypeError\u001b[0m                                 Traceback (most recent call last)",
            "\u001b[0;32m<ipython-input-50-d5ed96e4f643>\u001b[0m in \u001b[0;36m<module>\u001b[0;34m()\u001b[0m\n\u001b[0;32m----> 1\u001b[0;31m \u001b[0mspam\u001b[0m\u001b[0;34m(\u001b[0m\u001b[0;34m)\u001b[0m\u001b[0;34m\u001b[0m\u001b[0;34m\u001b[0m\u001b[0m\n\u001b[0m",
            "\u001b[0;31mTypeError\u001b[0m: spam() missing 1 required positional argument: 'bacon'"
          ]
        }
      ]
    },
    {
      "cell_type": "code",
      "source": [
        "def spam():\n",
        "  spam = int(input(\"Enter spam no : \"))\n",
        "  if spam == 1:\n",
        "   print('Hello')\n",
        "  elif spam == 2:\n",
        "    print('Howdy')\n",
        "  else:\n",
        "   print('Greetings!')\n",
        "  return"
      ],
      "metadata": {
        "id": "-6dVDnGmP-yC"
      },
      "execution_count": 51,
      "outputs": []
    },
    {
      "cell_type": "code",
      "source": [
        "spam()"
      ],
      "metadata": {
        "colab": {
          "base_uri": "https://localhost:8080/"
        },
        "id": "mbbLiNvbQEfS",
        "outputId": "42fbf819-f551-44df-8bcb-6af11e5b1326"
      },
      "execution_count": 52,
      "outputs": [
        {
          "output_type": "stream",
          "name": "stdout",
          "text": [
            "Enter spam no : 5\n",
            "Greetings!\n"
          ]
        }
      ]
    }
  ]
}