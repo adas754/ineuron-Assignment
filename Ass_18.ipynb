{
  "nbformat": 4,
  "nbformat_minor": 0,
  "metadata": {
    "colab": {
      "provenance": []
    },
    "kernelspec": {
      "name": "python3",
      "display_name": "Python 3"
    },
    "language_info": {
      "name": "python"
    }
  },
  "cells": [
    {
      "cell_type": "code",
      "execution_count": 3,
      "metadata": {
        "colab": {
          "base_uri": "https://localhost:8080/"
        },
        "id": "x6Lx_l-JrdGp",
        "outputId": "8701ce50-d3b8-4a1a-e840-871961f94019"
      },
      "outputs": [
        {
          "output_type": "stream",
          "name": "stdout",
          "text": [
            "➞ [1, 2]\n",
            "➞ [1, 0, 15]\n",
            "➞ [1, 2, 123]\n"
          ]
        }
      ],
      "source": [
        "def filter_list(list):\n",
        "  out_string=[]\n",
        "  for ele in list:\n",
        "    if type(ele)==int and ele>=0:\n",
        "      out_string.append(ele)\n",
        "  return out_string\n",
        "print(f'➞ {filter_list([1, 2, \"a\", \"b\"])}')\n",
        "print(f'➞ {filter_list([1, \"a\", \"b\", 0, 15])}')\n",
        "print(f'➞ {filter_list([1, 2, \"aasf\", \"1\", \"123\", 123])}')\n"
      ]
    },
    {
      "cell_type": "code",
      "source": [
        "def reverse(in_string):\n",
        "  print(f'{in_string}->{in_string[::-1].swapcase()}')\n",
        "reverse('Hello World')\n",
        "reverse(\"ReVeRsE\")\n",
        "reverse(\"Radar\")"
      ],
      "metadata": {
        "colab": {
          "base_uri": "https://localhost:8080/"
        },
        "id": "eK1RlwSeu1ZW",
        "outputId": "968568a7-aca3-45c7-c33a-f124340b010d"
      },
      "execution_count": 5,
      "outputs": [
        {
          "output_type": "stream",
          "name": "stdout",
          "text": [
            "Hello World->DLROw OLLEh\n",
            "ReVeRsE->eSrEvEr\n",
            "Radar->RADAr\n"
          ]
        }
      ]
    },
    {
      "cell_type": "code",
      "source": [
        "first, *middle, last = [1,2,3,4,5,6]\n",
        "print(f'first ➞ {first}')\n",
        "print(f'middle ➞ {middle}')\n",
        "print(f'last ➞ {last}')"
      ],
      "metadata": {
        "colab": {
          "base_uri": "https://localhost:8080/"
        },
        "id": "mCDaq_JavewV",
        "outputId": "35b295ca-725c-408e-b184-8a2f3c4a7f68"
      },
      "execution_count": 6,
      "outputs": [
        {
          "output_type": "stream",
          "name": "stdout",
          "text": [
            "first ➞ 1\n",
            "middle ➞ [2, 3, 4, 5]\n",
            "last ➞ 6\n"
          ]
        }
      ]
    },
    {
      "cell_type": "code",
      "source": [
        "def factorial(n):\n",
        "  if n==0:\n",
        "    return 1\n",
        "  return n*factorial(n-1)\n",
        "print(f'factorial(5)->{factorial(5)}')\n",
        "print(f'factorial(3) ➞ {factorial(3)}')\n",
        "print(f'factorial(1) ➞ {factorial(1)}')\n",
        "print(f'factorial(0) ➞ {factorial(0)}')"
      ],
      "metadata": {
        "colab": {
          "base_uri": "https://localhost:8080/"
        },
        "id": "UYCe6Dkax_pS",
        "outputId": "e120f5a3-6744-49f5-d2ea-d217f7cec2e3"
      },
      "execution_count": 8,
      "outputs": [
        {
          "output_type": "stream",
          "name": "stdout",
          "text": [
            "factorial(5)->120\n",
            "factorial(3) ➞ 6\n",
            "factorial(1) ➞ 1\n",
            "factorial(0) ➞ 1\n"
          ]
        }
      ]
    },
    {
      "cell_type": "code",
      "source": [
        "def move_to_end(list,num):\n",
        "  first_end=[]\n",
        "  second_end=[]\n",
        "  for ele in list:\n",
        "    if ele==num:\n",
        "      second_end.append(ele)\n",
        "    else:\n",
        "      first_end.append(ele)\n",
        "  first_end.extend(second_end)\n",
        "  return first_end\n",
        "print(f'move_to_end([1,3,2,4,4,1],1)->{move_to_end([1,3,2,4,4,1],1)}')\n",
        "print(f'move_to_end([7, 8, 9, 1, 2, 3, 4], 9) ➞ {move_to_end([7, 8, 9, 1, 2, 3, 4], 9)}')\n",
        "print(f'move_to_end([\"a\", \"a\", \"a\", \"b\"], \"a\") ➞ {move_to_end([\"a\", \"a\", \"a\", \"b\"], \"a\")}')"
      ],
      "metadata": {
        "colab": {
          "base_uri": "https://localhost:8080/"
        },
        "id": "BI51AMim049D",
        "outputId": "37a730ae-c537-4cb8-d3b2-a608dc59e87a"
      },
      "execution_count": 9,
      "outputs": [
        {
          "output_type": "stream",
          "name": "stdout",
          "text": [
            "move_to_end([1,3,2,4,4,1],1)->[3, 2, 4, 4, 1, 1]\n",
            "move_to_end([7, 8, 9, 1, 2, 3, 4], 9) ➞ [7, 8, 1, 2, 3, 4, 9]\n",
            "move_to_end([\"a\", \"a\", \"a\", \"b\"], \"a\") ➞ ['b', 'a', 'a', 'a']\n"
          ]
        }
      ]
    }
  ]
}