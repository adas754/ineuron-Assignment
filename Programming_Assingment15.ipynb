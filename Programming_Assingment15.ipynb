{
  "nbformat": 4,
  "nbformat_minor": 0,
  "metadata": {
    "colab": {
      "name": "Programming_Assingment15.ipynb",
      "provenance": []
    },
    "kernelspec": {
      "name": "python3",
      "display_name": "Python 3"
    },
    "language_info": {
      "name": "python"
    }
  },
  "cells": [
    {
      "cell_type": "markdown",
      "source": [
        "Question 1:\n",
        "\n",
        "Please write a program using generator to print the numbers which can be divisible by 5 and 7 between 0 and n in comma separated form while n is input by console.\n",
        "\n",
        "Example:\n",
        "\n",
        "If the following n is given as input to the program:\n",
        "\n",
        "100\n",
        "\n",
        "Then, the output of the program should be:\n"
      ],
      "metadata": {
        "id": "By1bQuzJklGW"
      }
    },
    {
      "cell_type": "code",
      "source": [
        "def generator(n):\n",
        "    for i in range(n+1):\n",
        "        if i%5==0 and i%7==0:\n",
        "            yield i\n",
        "for j in generator(100):\n",
        "    print(j,end=\",\")"
      ],
      "metadata": {
        "colab": {
          "base_uri": "https://localhost:8080/"
        },
        "id": "vLJ8N9zxk1L8",
        "outputId": "5e742d90-cb14-4618-c658-858ef1bfeba8"
      },
      "execution_count": 3,
      "outputs": [
        {
          "output_type": "stream",
          "name": "stdout",
          "text": [
            "0,35,70,"
          ]
        }
      ]
    },
    {
      "cell_type": "markdown",
      "source": [
        "Question 2:\n",
        "\n",
        "Please write a program using generator to print the even numbers between 0 and n in comma separated form while n is input by console.\n",
        "\n",
        "Example:\n",
        "\n",
        "If the following n is given as input to the program:\n",
        "\n",
        "10\n",
        "\n",
        "Then, the output of the program should be:\n",
        "\n",
        "0,2,4,6,8,10\n"
      ],
      "metadata": {
        "id": "W-y0SbRykVCT"
      }
    },
    {
      "cell_type": "code",
      "source": [
        "def generator(n):\n",
        "    for i in range(n+1):\n",
        "        if i%2==0:\n",
        "            yield i\n",
        "for j in generator(10):\n",
        "    print(j,end=\",\")"
      ],
      "metadata": {
        "colab": {
          "base_uri": "https://localhost:8080/"
        },
        "id": "CavgXgzfkfSf",
        "outputId": "a5d2af4e-0c28-4d6c-8570-a0a0f9e8f5aa"
      },
      "execution_count": 2,
      "outputs": [
        {
          "output_type": "stream",
          "name": "stdout",
          "text": [
            "0,2,4,6,8,10,"
          ]
        }
      ]
    },
    {
      "cell_type": "markdown",
      "source": [
        "Question 3:\n",
        "\n",
        "The Fibonacci Sequence is computed based on the following formula:\n",
        "f(n)=0 if n=0\n",
        "f(n)=1 if n=1\n",
        "f(n)=f(n-1)+f(n-2) if n>1\n",
        "\n",
        "Please write a program using list comprehension to print the Fibonacci Sequence in comma separated form with a given n input by console.\n",
        "\n",
        "Example:\n",
        "\n",
        "If the following n is given as input to the program:\n",
        "\n",
        "7\n",
        "\n",
        "Then, the output of the program should be:\n",
        "\n",
        "0,1,1,2,3,5,8,13\n"
      ],
      "metadata": {
        "id": "JZPO7qtSjzst"
      }
    },
    {
      "cell_type": "code",
      "execution_count": 1,
      "metadata": {
        "id": "A4Oa_BRxWAXb",
        "colab": {
          "base_uri": "https://localhost:8080/"
        },
        "outputId": "17450a96-258b-49e9-a195-8aeeab705999"
      },
      "outputs": [
        {
          "output_type": "stream",
          "name": "stdout",
          "text": [
            "Enter length n: 7\n",
            "0,1,1,2,3,5,8\n"
          ]
        }
      ],
      "source": [
        "def fib(n):\n",
        "    if n==0:\n",
        "        return 0\n",
        "    elif n==1:\n",
        "        return 1\n",
        "    else:\n",
        "        return fib(n-1) + fib(n-2)\n",
        "    \n",
        "n = int(input(\"Enter length n: \"))\n",
        "sequence = [str(fib(i)) for i in range(n)]\n",
        "print(\",\".join(sequence))"
      ]
    },
    {
      "cell_type": "markdown",
      "source": [
        "Question 4:\n",
        "\n",
        "Assuming that we have some email addresses in the \"username@companyname.com\" format, please write program to print the user name of a given email address. \n",
        "Both user names and company names are composed of letters only.\n",
        "\n",
        "Example:\n",
        "\n",
        "If the following email address is given as input to the program:\n",
        "\n",
        "john@google.com\n",
        "\n",
        "Then, the output of the program should be:\n",
        "\n",
        "john\n",
        "\n"
      ],
      "metadata": {
        "id": "GyXdwnTqlBEm"
      }
    },
    {
      "cell_type": "code",
      "source": [
        "def username(email):\n",
        "  print(email.split('@')[0])"
      ],
      "metadata": {
        "id": "QGPOIFy7i_HN"
      },
      "execution_count": 10,
      "outputs": []
    },
    {
      "cell_type": "code",
      "source": [
        "username('john@google.com')"
      ],
      "metadata": {
        "colab": {
          "base_uri": "https://localhost:8080/"
        },
        "id": "PFwbw_IAl8SN",
        "outputId": "e5ec7a2b-db40-4bf2-c27c-4c2b14efba03"
      },
      "execution_count": 11,
      "outputs": [
        {
          "output_type": "stream",
          "name": "stdout",
          "text": [
            "john\n"
          ]
        }
      ]
    },
    {
      "cell_type": "markdown",
      "source": [
        "Question 5:\n",
        "Define a class named Shape and its subclass Square. The Square class has an init function which takes a length as argument. Both classes have a area function which can print the area of the shape where Shape's area is 0 by default.\n"
      ],
      "metadata": {
        "id": "bHQidXTbmTD6"
      }
    },
    {
      "cell_type": "code",
      "source": [
        "class shape:\n",
        "  def __init__(self):\n",
        "    pass\n",
        "  def area(self):\n",
        "    return 0\n",
        "class square(shape):\n",
        "    def __init__(self,length=0):\n",
        "      shape.__init__(self)\n",
        "      self.length=length\n",
        "    def area(self):\n",
        "      return self.length*self.length"
      ],
      "metadata": {
        "id": "yhv_iGQboEFD"
      },
      "execution_count": 12,
      "outputs": []
    },
    {
      "cell_type": "code",
      "source": [
        "a=square(10)\n",
        "a.area()"
      ],
      "metadata": {
        "colab": {
          "base_uri": "https://localhost:8080/"
        },
        "id": "RV8gUqTTtceP",
        "outputId": "65b712c7-d92e-4776-f33a-15fb6c9d3001"
      },
      "execution_count": 13,
      "outputs": [
        {
          "output_type": "execute_result",
          "data": {
            "text/plain": [
              "100"
            ]
          },
          "metadata": {},
          "execution_count": 13
        }
      ]
    },
    {
      "cell_type": "code",
      "source": [
        "square().area()"
      ],
      "metadata": {
        "colab": {
          "base_uri": "https://localhost:8080/"
        },
        "id": "TWByHvMGtrId",
        "outputId": "fffdea80-bfd1-4109-9186-d28b551a9b5b"
      },
      "execution_count": 15,
      "outputs": [
        {
          "output_type": "execute_result",
          "data": {
            "text/plain": [
              "0"
            ]
          },
          "metadata": {},
          "execution_count": 15
        }
      ]
    }
  ]
}