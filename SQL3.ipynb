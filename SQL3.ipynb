{
  "nbformat": 4,
  "nbformat_minor": 0,
  "metadata": {
    "colab": {
      "name": "SQL3.ipynb",
      "provenance": []
    },
    "kernelspec": {
      "name": "python3",
      "display_name": "Python 3"
    },
    "language_info": {
      "name": "python"
    }
  },
  "cells": [
    {
      "cell_type": "markdown",
      "source": [
        "Q-1. Write an SQL query to print the FIRST_NAME from Worker table after removing white spaces from the right side.\n"
      ],
      "metadata": {
        "id": "V9YFOHy_A9JD"
      }
    },
    {
      "cell_type": "markdown",
      "source": [
        "SELECT RTRIM(FIRST_NAME) FROM WORKER;"
      ],
      "metadata": {
        "id": "mSlsgRl5A_Wh"
      }
    },
    {
      "cell_type": "markdown",
      "source": [
        "Q-2. Write an SQL query that fetches the unique values of DEPARTMENT from Worker table and prints its length.\n"
      ],
      "metadata": {
        "id": "9JBC-vV5BS1p"
      }
    },
    {
      "cell_type": "markdown",
      "source": [
        "SELECT DISTINCT LEN(DEPARTMENT) FROM WORKER;"
      ],
      "metadata": {
        "id": "MuQx5-uhBZeq"
      }
    },
    {
      "cell_type": "markdown",
      "source": [
        "Q-3. Write an SQL query to fetch nth max salaries from a table.\n"
      ],
      "metadata": {
        "id": "d6rhvdiSB1wb"
      }
    },
    {
      "cell_type": "markdown",
      "source": [
        "SELECT SALARY FROM WORKER ORDER BY SALARY DESC LIMIT 5,1;"
      ],
      "metadata": {
        "id": "BacfzOrODEg1"
      }
    },
    {
      "cell_type": "code",
      "execution_count": null,
      "metadata": {
        "id": "9lRRpNwsA8S-"
      },
      "outputs": [],
      "source": [
        ""
      ]
    }
  ]
}