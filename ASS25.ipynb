{
  "nbformat": 4,
  "nbformat_minor": 0,
  "metadata": {
    "colab": {
      "provenance": []
    },
    "kernelspec": {
      "name": "python3",
      "display_name": "Python 3"
    },
    "language_info": {
      "name": "python"
    }
  },
  "cells": [
    {
      "cell_type": "code",
      "execution_count": null,
      "metadata": {
        "colab": {
          "base_uri": "https://localhost:8080/"
        },
        "id": "WltMAxDeQKp3",
        "outputId": "ed800a57-ebb8-4ca5-85f5-180dc3fba068"
      },
      "outputs": [
        {
          "output_type": "stream",
          "name": "stdout",
          "text": [
            "(3, 4, 3)->0\n",
            "(1, 1, 1)->3\n",
            "(3, 4, 1)->0\n"
          ]
        }
      ],
      "source": [
        "def equal(a,b,c):\n",
        "  if a==b==c:\n",
        "    print(f'{a,b,c}->{3}')\n",
        "  elif a==b or b==c:\n",
        "    print(f'{a,b,c}->{2}')\n",
        "  else:\n",
        "    print(f'{a,b,c}->{0}')\n",
        "equal(3, 4, 3)\n",
        "equal(1, 1, 1)\n",
        "equal(3, 4, 1)\n"
      ]
    },
    {
      "cell_type": "code",
      "source": [
        "def dict_to_list(in_dict):\n",
        "    out_list = []\n",
        "    for keys,values in in_dict.items():\n",
        "        out_list.append((keys,values))\n",
        "    print(f'{in_dict} ➞ {out_list}')\n",
        "                   \n",
        "dict_to_list({\"D\": 1,\"B\": 2,\"C\": 3})\n",
        "dict_to_list({\"likes\": 2,\"dislikes\": 3,\"followers\": 10})"
      ],
      "metadata": {
        "colab": {
          "base_uri": "https://localhost:8080/"
        },
        "id": "eApuecgrYRRh",
        "outputId": "dcf0e748-820b-4126-b5aa-c6ad64e11ccc"
      },
      "execution_count": null,
      "outputs": [
        {
          "output_type": "stream",
          "name": "stdout",
          "text": [
            "{'D': 1, 'B': 2, 'C': 3} ➞ [('D', 1), ('B', 2), ('C', 3)]\n",
            "{'likes': 2, 'dislikes': 3, 'followers': 10} ➞ [('likes', 2), ('dislikes', 3), ('followers', 10)]\n"
          ]
        }
      ]
    },
    {
      "cell_type": "code",
      "source": [
        "def mapping(in_list):\n",
        "  out_dict={}\n",
        "  for ele in in_list:\n",
        "    out_dict[ele]=ele.upper()\n",
        "  print(f'{in_list}->{out_dict}')"
      ],
      "metadata": {
        "id": "VpvCMcHWZiRm"
      },
      "execution_count": null,
      "outputs": []
    },
    {
      "cell_type": "code",
      "source": [
        "mapping([\"p\", \"s\"])\n",
        "mapping([\"a\", \"b\", \"c\"])\n",
        "mapping([\"a\", \"v\", \"y\", \"z\"])"
      ],
      "metadata": {
        "colab": {
          "base_uri": "https://localhost:8080/"
        },
        "id": "_sDj06J8ZiOx",
        "outputId": "b6a725ae-448c-4e70-ca5e-b5a028b12a9c"
      },
      "execution_count": null,
      "outputs": [
        {
          "output_type": "stream",
          "name": "stdout",
          "text": [
            "['p', 's']->{'p': 'P', 's': 'S'}\n",
            "['a', 'b', 'c']->{'a': 'A', 'b': 'B', 'c': 'C'}\n",
            "['a', 'v', 'y', 'z']->{'a': 'A', 'v': 'V', 'y': 'Y', 'z': 'Z'}\n"
          ]
        }
      ]
    },
    {
      "cell_type": "code",
      "source": [
        "def vow_replace(in_string,vow_char):\n",
        "  vowels=['a','e','i','o','u']\n",
        "  out_string=''\n",
        "  for ele in in_string:\n",
        "    if ele in vowels:\n",
        "      out_string+=vow_char\n",
        "    else:\n",
        "      out_string+=ele\n",
        "  print(f'{in_string}->{out_string}')\n",
        "vow_replace(\"apples and bananas\", \"u\")\n",
        "vow_replace(\"cheese casserole\", \"o\")\n",
        "vow_replace(\"stuffed jalapeno poppers\", \"e\")"
      ],
      "metadata": {
        "colab": {
          "base_uri": "https://localhost:8080/"
        },
        "id": "akoyXX6naRL7",
        "outputId": "3518776a-3a5c-41f6-e99b-b49124d5cfed"
      },
      "execution_count": null,
      "outputs": [
        {
          "output_type": "stream",
          "name": "stdout",
          "text": [
            "apples and bananas->upplus und bununus\n",
            "cheese casserole->chooso cossorolo\n",
            "stuffed jalapeno poppers->steffed jelepene peppers\n"
          ]
        }
      ]
    },
    {
      "cell_type": "code",
      "source": [
        "def ascii_capitalize(in_string):\n",
        "    out_string = ''\n",
        "    for ele in in_string.lower():\n",
        "        if (ord(ele)%2 == 0):\n",
        "            out_string += ele.upper()\n",
        "        else:\n",
        "            out_string += ele\n",
        "    print(f'{in_string} ➞ {out_string}')\n",
        "ascii_capitalize(\"to be or not to be!\")\n",
        "ascii_capitalize(\"THE LITTLE MERMAID\")\n",
        "ascii_capitalize(\"Oh what a beautiful morning.\")"
      ],
      "metadata": {
        "id": "Tqi2PNdzdJBC",
        "colab": {
          "base_uri": "https://localhost:8080/"
        },
        "outputId": "f38ab889-5c65-4bba-906a-d31403200f94"
      },
      "execution_count": 12,
      "outputs": [
        {
          "output_type": "stream",
          "name": "stdout",
          "text": [
            "to be or not to be! ➞ To Be oR NoT To Be!\n",
            "THE LITTLE MERMAID ➞ THe LiTTLe meRmaiD\n",
            "Oh what a beautiful morning. ➞ oH wHaT a BeauTiFuL moRNiNg.\n"
          ]
        }
      ]
    }
  ]
}