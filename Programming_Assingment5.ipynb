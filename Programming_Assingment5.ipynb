{
  "nbformat": 4,
  "nbformat_minor": 0,
  "metadata": {
    "colab": {
      "name": "Programming_Assingment5.ipynb",
      "provenance": []
    },
    "kernelspec": {
      "name": "python3",
      "display_name": "Python 3"
    },
    "language_info": {
      "name": "python"
    }
  },
  "cells": [
    {
      "cell_type": "code",
      "execution_count": null,
      "metadata": {
        "id": "8toR6LWeGWQe"
      },
      "outputs": [],
      "source": [
        "def lcm(n1,n2):\n",
        "    if n1>n2:\n",
        "        max = n1\n",
        "    else:\n",
        "        max = n2\n",
        "    while True:\n",
        "        if max%n1==0 and max%n2==0:\n",
        "            print(\"LCM of {} and {} is {}\".format(n1, n2, max))\n",
        "            break\n",
        "        max = max+1\n",
        "        "
      ]
    },
    {
      "cell_type": "code",
      "source": [
        "lcm(5,6)"
      ],
      "metadata": {
        "colab": {
          "base_uri": "https://localhost:8080/"
        },
        "id": "Ns6IZ427Hpi7",
        "outputId": "04d8ecdd-c0ec-47de-86fa-bf3745bb6723"
      },
      "execution_count": null,
      "outputs": [
        {
          "output_type": "stream",
          "name": "stdout",
          "text": [
            "LCM of 5 and 6 is 30\n"
          ]
        }
      ]
    },
    {
      "cell_type": "code",
      "source": [
        "def hcf(x, y):\n",
        "    if x > y:\n",
        "        smaller = y\n",
        "    else:\n",
        "        smaller = x\n",
        "    for i in range(1, smaller+1):\n",
        "        if((x % i == 0) and (y % i == 0)):\n",
        "            hcf = i \n",
        "    return hcf\n",
        "\n",
        "num1 = int(input('enter 1st number'))\n",
        "num2 = int(input('enter 2nd number'))\n",
        "\n",
        "print(\"The H.C.F. is\", hcf(num1, num2))\n"
      ],
      "metadata": {
        "id": "3HGUBRYFIsml",
        "colab": {
          "base_uri": "https://localhost:8080/"
        },
        "outputId": "6f132798-14e6-4784-e4d6-7e00577a08f1"
      },
      "execution_count": 14,
      "outputs": [
        {
          "output_type": "stream",
          "name": "stdout",
          "text": [
            "enter 1st number6\n",
            "enter 2nd number8\n",
            "The H.C.F. is 2\n"
          ]
        }
      ]
    },
    {
      "cell_type": "code",
      "source": [
        "num = int(input(\"Enter Decimal Number: \"))\n",
        "print(\"Decimal to Binary: \",bin(num))\n",
        "print(\"Decimal to Octal: \",oct(num))\n",
        "print(\"Decimal to Hexadecimal: \",hex(num))"
      ],
      "metadata": {
        "colab": {
          "base_uri": "https://localhost:8080/"
        },
        "id": "VW37B4U3KVqd",
        "outputId": "3d98da4f-072e-4197-a9ff-0863a42a1728"
      },
      "execution_count": 16,
      "outputs": [
        {
          "output_type": "stream",
          "name": "stdout",
          "text": [
            "Enter Decimal Number: 2\n",
            "Decimal to Binary:  0b10\n",
            "Decimal to Octal:  0o2\n",
            "Decimal to Hexadecimal:  0x2\n"
          ]
        }
      ]
    },
    {
      "cell_type": "code",
      "source": [
        "def ascii_value(character):\n",
        "    return ord(character)\n",
        "\n",
        "ascii_value(\"b\")"
      ],
      "metadata": {
        "colab": {
          "base_uri": "https://localhost:8080/"
        },
        "id": "jwpg1yJrN0qs",
        "outputId": "6c159a50-f789-46a7-8263-27eb69d49868"
      },
      "execution_count": 19,
      "outputs": [
        {
          "output_type": "execute_result",
          "data": {
            "text/plain": [
              "98"
            ]
          },
          "metadata": {},
          "execution_count": 19
        }
      ]
    },
    {
      "cell_type": "code",
      "source": [
        "\n",
        "def add(x, y):\n",
        "    return x + y\n",
        "\n",
        "def subtract(x, y):\n",
        "    return x - y\n",
        "\n",
        "\n",
        "def multiply(x, y):\n",
        "    return x * y\n",
        "\n",
        "def divide(x, y):\n",
        "    return x / y\n",
        "\n",
        "\n",
        "print(\"Select operation.\")\n",
        "print(\"1.Add\")\n",
        "print(\"2.Subtract\")\n",
        "print(\"3.Multiply\")\n",
        "print(\"4.Divide\")\n",
        "\n",
        "while True:\n",
        "    \n",
        "    choice = input(\"Enter choice(1/2/3/4): \")\n",
        "    if choice in ('1', '2', '3', '4'):\n",
        "        num1 = float(input(\"Enter first number: \"))\n",
        "        num2 = float(input(\"Enter second number: \"))\n",
        "        if choice == '1':\n",
        "            print(num1, \"+\", num2, \"=\", add(num1, num2))\n",
        "        elif choice == '2':\n",
        "            print(num1, \"-\", num2, \"=\", subtract(num1, num2))\n",
        "        elif choice == '3':\n",
        "            print(num1, \"*\", num2, \"=\", multiply(num1, num2))\n",
        "        elif choice == '4':\n",
        "            print(num1, \"/\", num2, \"=\", divide(num1, num2))\n",
        "        next_calculation = input(\"Let's do next calculation? (yes/no): \")\n",
        "        if next_calculation == \"no\":\n",
        "          break\n",
        "    else:\n",
        "        print(\"Invalid Input\")"
      ],
      "metadata": {
        "colab": {
          "base_uri": "https://localhost:8080/"
        },
        "id": "oUz_DtTKO141",
        "outputId": "f294bac3-ea51-41ef-f8d3-8b5c26dae384"
      },
      "execution_count": 22,
      "outputs": [
        {
          "name": "stdout",
          "output_type": "stream",
          "text": [
            "Select operation.\n",
            "1.Add\n",
            "2.Subtract\n",
            "3.Multiply\n",
            "4.Divide\n",
            "Enter choice(1/2/3/4): 1\n",
            "Enter first number: 6\n",
            "Enter second number: 9\n",
            "6.0 + 9.0 = 15.0\n",
            "Let's do next calculation? (yes/no): yes\n",
            "Enter choice(1/2/3/4): 2\n",
            "Enter first number: 6\n",
            "Enter second number: 5\n",
            "6.0 - 5.0 = 1.0\n",
            "Let's do next calculation? (yes/no): yes\n",
            "Enter choice(1/2/3/4): 3\n",
            "Enter first number: 6\n",
            "Enter second number: 8\n",
            "6.0 * 8.0 = 48.0\n",
            "Let's do next calculation? (yes/no): yes\n",
            "Enter choice(1/2/3/4): 4\n",
            "Enter first number: 45\n",
            "Enter second number: 5\n",
            "45.0 / 5.0 = 9.0\n",
            "Let's do next calculation? (yes/no): no\n"
          ]
        }
      ]
    }
  ]
}