{
  "nbformat": 4,
  "nbformat_minor": 0,
  "metadata": {
    "colab": {
      "provenance": []
    },
    "kernelspec": {
      "name": "python3",
      "display_name": "Python 3"
    },
    "language_info": {
      "name": "python"
    }
  },
  "cells": [
    {
      "cell_type": "markdown",
      "source": [
        "# Write a Python program to check if the given number is a Disarium Number?\n"
      ],
      "metadata": {
        "id": "tGnI9gjPXeS9"
      }
    },
    {
      "cell_type": "code",
      "execution_count": null,
      "metadata": {
        "id": "oPE5pl2gXX5m"
      },
      "outputs": [],
      "source": [
        "def checkDisariumNumber():\n",
        "  in_num=input(\"Enter a number :\")\n",
        "  sum=0\n",
        "  for item in range(len(in_num)):\n",
        "    sum=sum+int(in_num[item])**(item+1)\n",
        "  if sum==int(in_num):\n",
        "    print(f'{in_num} is a Disarium Number')\n",
        "  else:\n",
        "    print(f'{in_num} is not a Disarium Number')"
      ]
    },
    {
      "cell_type": "code",
      "source": [
        "checkDisariumNumber()"
      ],
      "metadata": {
        "colab": {
          "base_uri": "https://localhost:8080/"
        },
        "id": "lIZcps5Rfgn8",
        "outputId": "f6c43f9f-2e8b-4af3-db41-bbd5ae9c88f9"
      },
      "execution_count": null,
      "outputs": [
        {
          "output_type": "stream",
          "name": "stdout",
          "text": [
            "Enter a number :100\n",
            "100 is not a Disarium Number\n"
          ]
        }
      ]
    },
    {
      "cell_type": "markdown",
      "source": [
        "# Write a Python program to print all disarium numbers between 1 to 100?\n"
      ],
      "metadata": {
        "id": "WEzVGHkkgFty"
      }
    },
    {
      "cell_type": "code",
      "source": [
        "def printDisariumnumbers(start=0,end=100):\n",
        "  output_num=[]\n",
        "  for number in range(start,end+1):\n",
        "    sum=0\n",
        "    for item in range(len(str(number))):\n",
        "      sum=sum+int(str(number)[item])**(item+1)\n",
        "    if sum==number:\n",
        "      output_num.append(number)\n",
        "  return output_num\n",
        "printDisariumnumbers(1,100)"
      ],
      "metadata": {
        "colab": {
          "base_uri": "https://localhost:8080/"
        },
        "id": "p6pcNGkigK9N",
        "outputId": "4027a442-23f6-43bc-f651-1405300c6d23"
      },
      "execution_count": null,
      "outputs": [
        {
          "output_type": "execute_result",
          "data": {
            "text/plain": [
              "[1, 2, 3, 4, 5, 6, 7, 8, 9, 89]"
            ]
          },
          "metadata": {},
          "execution_count": 7
        }
      ]
    },
    {
      "cell_type": "markdown",
      "source": [
        "# Write a Python program to check if the given number is Happy Number?\n"
      ],
      "metadata": {
        "id": "NkZ5ILJKn0on"
      }
    },
    {
      "cell_type": "code",
      "source": [
        "def is_happy_number(num):\n",
        "  seen_numbers=set()\n",
        "  while True:\n",
        "    num=sum(int(i)**2 for i in str(num))\n",
        "    if num==1:\n",
        "      return True\n",
        "    elif num in seen_numbers:\n",
        "      return False\n",
        "    seen_numbers.add(num)"
      ],
      "metadata": {
        "id": "d23kCmRN0CiB"
      },
      "execution_count": null,
      "outputs": []
    },
    {
      "cell_type": "code",
      "source": [
        "is_happy_number(19)"
      ],
      "metadata": {
        "colab": {
          "base_uri": "https://localhost:8080/"
        },
        "id": "N3-Gen93_qci",
        "outputId": "ffb86248-5823-45ba-888b-722313d6355c"
      },
      "execution_count": null,
      "outputs": [
        {
          "output_type": "execute_result",
          "data": {
            "text/plain": [
              "True"
            ]
          },
          "metadata": {},
          "execution_count": 21
        }
      ]
    },
    {
      "cell_type": "markdown",
      "source": [
        "# Write a Python program to print all happy numbers between 1 and 100?\n"
      ],
      "metadata": {
        "id": "_qP8-Uiq_2Aq"
      }
    },
    {
      "cell_type": "code",
      "source": [
        "def is_happy_number(num):\n",
        "  past=set()\n",
        "  while num!=1:\n",
        "    num=sum(int(i)**2 for i in str(num))\n",
        "    if num in past:\n",
        "      return False\n",
        "    past.add(num)\n",
        "  return True\n",
        "for i in range(1,101):\n",
        "  if is_happy_number(i):\n",
        "    print(i,end=' ')\n"
      ],
      "metadata": {
        "colab": {
          "base_uri": "https://localhost:8080/"
        },
        "id": "q0X2laNO_9Pj",
        "outputId": "10095088-735f-43d5-d01a-cea97d1fe9e7"
      },
      "execution_count": 28,
      "outputs": [
        {
          "output_type": "stream",
          "name": "stdout",
          "text": [
            "1 7 10 13 19 23 28 31 32 44 49 68 70 79 82 86 91 94 97 100 "
          ]
        }
      ]
    },
    {
      "cell_type": "markdown",
      "source": [
        "# Write a Python program to determine whether the given number is a Harshad Number?\n"
      ],
      "metadata": {
        "id": "ffV5_wO9jxki"
      }
    },
    {
      "cell_type": "code",
      "source": [
        "def checkHarshad():\n",
        "  in_num=input(\"Enter a number\")\n",
        "  sum=0\n",
        "  for item in range(len(in_num)):\n",
        "    sum=sum+int(in_num[item])\n",
        "  if int(in_num)%sum==0:\n",
        "    print(f'{in_num} is a harshad number')\n",
        "  else:\n",
        "    print(f'{in_num} is not a harshad number')"
      ],
      "metadata": {
        "id": "10llr41Pj3uJ"
      },
      "execution_count": 31,
      "outputs": []
    },
    {
      "cell_type": "code",
      "source": [
        "checkHarshad()"
      ],
      "metadata": {
        "colab": {
          "base_uri": "https://localhost:8080/"
        },
        "id": "JkKXBoWkpmk0",
        "outputId": "a65a01db-e235-4d45-b291-b9ee694c63d2"
      },
      "execution_count": 35,
      "outputs": [
        {
          "output_type": "stream",
          "name": "stdout",
          "text": [
            "Enter a number13\n",
            "13 is not a harshad number\n"
          ]
        }
      ]
    },
    {
      "cell_type": "markdown",
      "source": [
        "# Write a Python program to print all pronic numbers between 1 and 100?"
      ],
      "metadata": {
        "id": "aeTEJBH_qFud"
      }
    },
    {
      "cell_type": "code",
      "source": [
        "def printpronic(start=0,end=100):\n",
        "  outputList=[]\n",
        "  for ele in range(start,end+1):\n",
        "    outputList.append((ele)*(ele+1))\n",
        "  print(outputList)"
      ],
      "metadata": {
        "id": "4kSTBM0hqLWU"
      },
      "execution_count": 36,
      "outputs": []
    },
    {
      "cell_type": "code",
      "source": [
        "printpronic()"
      ],
      "metadata": {
        "colab": {
          "base_uri": "https://localhost:8080/"
        },
        "id": "R6Rw7LB1rc98",
        "outputId": "10f47a70-da0e-4647-9053-a270e35c3f18"
      },
      "execution_count": 37,
      "outputs": [
        {
          "output_type": "stream",
          "name": "stdout",
          "text": [
            "[0, 2, 6, 12, 20, 30, 42, 56, 72, 90, 110, 132, 156, 182, 210, 240, 272, 306, 342, 380, 420, 462, 506, 552, 600, 650, 702, 756, 812, 870, 930, 992, 1056, 1122, 1190, 1260, 1332, 1406, 1482, 1560, 1640, 1722, 1806, 1892, 1980, 2070, 2162, 2256, 2352, 2450, 2550, 2652, 2756, 2862, 2970, 3080, 3192, 3306, 3422, 3540, 3660, 3782, 3906, 4032, 4160, 4290, 4422, 4556, 4692, 4830, 4970, 5112, 5256, 5402, 5550, 5700, 5852, 6006, 6162, 6320, 6480, 6642, 6806, 6972, 7140, 7310, 7482, 7656, 7832, 8010, 8190, 8372, 8556, 8742, 8930, 9120, 9312, 9506, 9702, 9900, 10100]\n"
          ]
        }
      ]
    }
  ]
}