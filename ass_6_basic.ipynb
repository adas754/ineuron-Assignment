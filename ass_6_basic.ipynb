{
  "nbformat": 4,
  "nbformat_minor": 0,
  "metadata": {
    "colab": {
      "name": "ass 6 basic.ipynb",
      "provenance": []
    },
    "kernelspec": {
      "name": "python3",
      "display_name": "Python 3"
    },
    "language_info": {
      "name": "python"
    }
  },
  "cells": [
    {
      "cell_type": "markdown",
      "source": [
        "1. What are escape characters, and how do you use them?\n"
      ],
      "metadata": {
        "id": "os3Ht__iVgFe"
      }
    },
    {
      "cell_type": "code",
      "execution_count": 9,
      "metadata": {
        "colab": {
          "base_uri": "https://localhost:8080/"
        },
        "id": "z8wv1rYEUTKw",
        "outputId": "4e548a8e-5fea-4ac0-edc1-d536ff0e787f"
      },
      "outputs": [
        {
          "output_type": "stream",
          "name": "stdout",
          "text": [
            "multiple string\n",
            "can be\n",
            "created\n"
          ]
        }
      ],
      "source": [
        "print(\"multiple string\\ncan be\\ncreated\") #new line"
      ]
    },
    {
      "cell_type": "code",
      "source": [
        "print(\"multiple string\\tcan be\\tcreated\") #tab or space"
      ],
      "metadata": {
        "colab": {
          "base_uri": "https://localhost:8080/"
        },
        "id": "kyWTM9oeXj1b",
        "outputId": "ce121859-8da0-4909-fe8a-3d15e84b865e"
      },
      "execution_count": 10,
      "outputs": [
        {
          "output_type": "stream",
          "name": "stdout",
          "text": [
            "multiple string\tcan be\tcreated\n"
          ]
        }
      ]
    },
    {
      "cell_type": "markdown",
      "source": [
        "2. What do the escape characters n and t stand for?"
      ],
      "metadata": {
        "id": "hZAS4QumX2Vy"
      }
    },
    {
      "cell_type": "code",
      "source": [
        "print(\"my\\nname\\nis\\nmunai\")# n creating new line"
      ],
      "metadata": {
        "colab": {
          "base_uri": "https://localhost:8080/"
        },
        "id": "Qq-OWr0gYZ8h",
        "outputId": "bbca5863-7e9b-4692-b02a-fd2ed1bd331a"
      },
      "execution_count": 14,
      "outputs": [
        {
          "output_type": "stream",
          "name": "stdout",
          "text": [
            "my\n",
            "name\n",
            "is\n",
            "munai\n"
          ]
        }
      ]
    },
    {
      "cell_type": "code",
      "source": [
        "print(\"my\\tname\\tis\\tmunai\") # t creats space in line"
      ],
      "metadata": {
        "colab": {
          "base_uri": "https://localhost:8080/"
        },
        "id": "7DOSGppaYhJK",
        "outputId": "9dcbd580-377c-488f-fb21-f70d34caa2da"
      },
      "execution_count": 15,
      "outputs": [
        {
          "output_type": "stream",
          "name": "stdout",
          "text": [
            "my\tname\tis\tmunai\n"
          ]
        }
      ]
    },
    {
      "cell_type": "markdown",
      "source": [
        "3. What is the way to include backslash characters in a string?\n"
      ],
      "metadata": {
        "id": "Jkjn9kYkY9wr"
      }
    },
    {
      "cell_type": "markdown",
      "source": [
        "\\t \n",
        "\n",
        "\\n"
      ],
      "metadata": {
        "id": "98o_DineaR31"
      }
    },
    {
      "cell_type": "markdown",
      "source": [
        "4. The string \"Howl's Moving Castle\" is a correct value. Why isn't the single quote character in the word Howl's not escaped a problem?\n"
      ],
      "metadata": {
        "id": "SqWl946VaXOW"
      }
    },
    {
      "cell_type": "markdown",
      "source": [
        "it creates problem because it's uses \"\""
      ],
      "metadata": {
        "id": "2sd95Cd1bdcA"
      }
    },
    {
      "cell_type": "code",
      "source": [
        "'Howl\\'s Moving Castle'"
      ],
      "metadata": {
        "colab": {
          "base_uri": "https://localhost:8080/",
          "height": 36
        },
        "id": "YTVJ8qcGaeFJ",
        "outputId": "13fb6fe3-153f-4557-ea72-6b77de8f7862"
      },
      "execution_count": 21,
      "outputs": [
        {
          "output_type": "execute_result",
          "data": {
            "text/plain": [
              "\"Howl's Moving Castle\""
            ],
            "application/vnd.google.colaboratory.intrinsic+json": {
              "type": "string"
            }
          },
          "metadata": {},
          "execution_count": 21
        }
      ]
    },
    {
      "cell_type": "markdown",
      "source": [
        "5. How do you write a string of newlines if you don't want to use the n character?\n"
      ],
      "metadata": {
        "id": "zwIvgX3Fbnrp"
      }
    },
    {
      "cell_type": "code",
      "source": [
        "print('munai\\neats\\nfood')"
      ],
      "metadata": {
        "colab": {
          "base_uri": "https://localhost:8080/"
        },
        "id": "01N30gOpbrvY",
        "outputId": "dea0c4b9-0be4-4c67-d2f0-bb910548a586"
      },
      "execution_count": 23,
      "outputs": [
        {
          "output_type": "stream",
          "name": "stdout",
          "text": [
            "munai\n",
            "eats\n",
            "food\n"
          ]
        }
      ]
    },
    {
      "cell_type": "markdown",
      "source": [
        "6. What are the values of the given expressions?\n",
        "\n",
        "'Hello, world!'[1]\n",
        "\n",
        "'Hello, world!'[0:5]\n",
        "\n",
        "'Hello, world!'[:5]\n",
        "\n",
        "'Hello, world!'[3:]\n",
        "\n"
      ],
      "metadata": {
        "id": "6HFS1-eocFvh"
      }
    },
    {
      "cell_type": "code",
      "source": [
        "'Hello, world!'[1]"
      ],
      "metadata": {
        "colab": {
          "base_uri": "https://localhost:8080/",
          "height": 36
        },
        "id": "0YNY2l3ScOAx",
        "outputId": "e9e1c20e-b566-4e25-e9de-9a5dbe49288d"
      },
      "execution_count": 24,
      "outputs": [
        {
          "output_type": "execute_result",
          "data": {
            "text/plain": [
              "'e'"
            ],
            "application/vnd.google.colaboratory.intrinsic+json": {
              "type": "string"
            }
          },
          "metadata": {},
          "execution_count": 24
        }
      ]
    },
    {
      "cell_type": "code",
      "source": [
        "'Hello, world!'[0:5]"
      ],
      "metadata": {
        "colab": {
          "base_uri": "https://localhost:8080/",
          "height": 36
        },
        "id": "po0qpDX-cdMb",
        "outputId": "059d61d6-c29c-491e-af71-fc69754358b5"
      },
      "execution_count": 25,
      "outputs": [
        {
          "output_type": "execute_result",
          "data": {
            "text/plain": [
              "'Hello'"
            ],
            "application/vnd.google.colaboratory.intrinsic+json": {
              "type": "string"
            }
          },
          "metadata": {},
          "execution_count": 25
        }
      ]
    },
    {
      "cell_type": "code",
      "source": [
        "'Hello, world!'[:5]"
      ],
      "metadata": {
        "colab": {
          "base_uri": "https://localhost:8080/",
          "height": 36
        },
        "id": "LyZiZ34Qcjoq",
        "outputId": "ad30a4e2-4dbf-43f0-9bcf-f3cdfbd5c352"
      },
      "execution_count": 26,
      "outputs": [
        {
          "output_type": "execute_result",
          "data": {
            "text/plain": [
              "'Hello'"
            ],
            "application/vnd.google.colaboratory.intrinsic+json": {
              "type": "string"
            }
          },
          "metadata": {},
          "execution_count": 26
        }
      ]
    },
    {
      "cell_type": "code",
      "source": [
        "'Hello, world!'[3:]"
      ],
      "metadata": {
        "colab": {
          "base_uri": "https://localhost:8080/",
          "height": 36
        },
        "id": "bBRiP95mcnWi",
        "outputId": "ff5f9453-5571-45df-9b30-3c4eb4569f15"
      },
      "execution_count": 27,
      "outputs": [
        {
          "output_type": "execute_result",
          "data": {
            "text/plain": [
              "'lo, world!'"
            ],
            "application/vnd.google.colaboratory.intrinsic+json": {
              "type": "string"
            }
          },
          "metadata": {},
          "execution_count": 27
        }
      ]
    },
    {
      "cell_type": "markdown",
      "source": [
        "7. What are the values of the following expressions?\n",
        "\n",
        "'Hello'.upper()\n",
        "\n",
        "'Hello'.upper().isupper()\n",
        "\n",
        "'Hello'.upper().lower()\n",
        "\n"
      ],
      "metadata": {
        "id": "K6lp2KZBcyME"
      }
    },
    {
      "cell_type": "code",
      "source": [
        "'Hello'.upper()"
      ],
      "metadata": {
        "colab": {
          "base_uri": "https://localhost:8080/",
          "height": 36
        },
        "id": "mzSHAQ1ScxYV",
        "outputId": "9ca0f0b3-4f55-4588-8560-4b4584b21fbf"
      },
      "execution_count": 28,
      "outputs": [
        {
          "output_type": "execute_result",
          "data": {
            "text/plain": [
              "'HELLO'"
            ],
            "application/vnd.google.colaboratory.intrinsic+json": {
              "type": "string"
            }
          },
          "metadata": {},
          "execution_count": 28
        }
      ]
    },
    {
      "cell_type": "code",
      "source": [
        "'Hello'.upper().isupper()"
      ],
      "metadata": {
        "colab": {
          "base_uri": "https://localhost:8080/"
        },
        "id": "Yhzdwbcac4wb",
        "outputId": "d9a298f5-ad6a-430e-9fe8-fe9a16bb47c0"
      },
      "execution_count": 29,
      "outputs": [
        {
          "output_type": "execute_result",
          "data": {
            "text/plain": [
              "True"
            ]
          },
          "metadata": {},
          "execution_count": 29
        }
      ]
    },
    {
      "cell_type": "code",
      "source": [
        "'Hello'.upper().lower()"
      ],
      "metadata": {
        "colab": {
          "base_uri": "https://localhost:8080/",
          "height": 36
        },
        "id": "YwIYQf2Sc7hS",
        "outputId": "9a68c18b-e89d-424c-b347-0fea2afd2df6"
      },
      "execution_count": 30,
      "outputs": [
        {
          "output_type": "execute_result",
          "data": {
            "text/plain": [
              "'hello'"
            ],
            "application/vnd.google.colaboratory.intrinsic+json": {
              "type": "string"
            }
          },
          "metadata": {},
          "execution_count": 30
        }
      ]
    },
    {
      "cell_type": "markdown",
      "source": [
        "8. What are the values of the following expressions?\n",
        "\n",
        "'Remember, remember, the fifth of July.'.split()\n",
        "\n",
        "'-'.join('There can only one.'.split())\n",
        "\n",
        "\n"
      ],
      "metadata": {
        "id": "wJs-P02DdGvT"
      }
    },
    {
      "cell_type": "code",
      "source": [
        "'Remember, remember, the fifth of July.'.split()"
      ],
      "metadata": {
        "colab": {
          "base_uri": "https://localhost:8080/"
        },
        "id": "9WecNknVdOFN",
        "outputId": "6fc2fd05-e993-4460-dc8b-27d4d975eb5c"
      },
      "execution_count": 31,
      "outputs": [
        {
          "output_type": "execute_result",
          "data": {
            "text/plain": [
              "['Remember,', 'remember,', 'the', 'fifth', 'of', 'July.']"
            ]
          },
          "metadata": {},
          "execution_count": 31
        }
      ]
    },
    {
      "cell_type": "code",
      "source": [
        "'-'.join('There can only one.'.split())"
      ],
      "metadata": {
        "colab": {
          "base_uri": "https://localhost:8080/",
          "height": 36
        },
        "id": "AeLeImxLdZ2c",
        "outputId": "29fbb4a6-d048-4c30-ced5-c74cbff1ba2f"
      },
      "execution_count": 32,
      "outputs": [
        {
          "output_type": "execute_result",
          "data": {
            "text/plain": [
              "'There-can-only-one.'"
            ],
            "application/vnd.google.colaboratory.intrinsic+json": {
              "type": "string"
            }
          },
          "metadata": {},
          "execution_count": 32
        }
      ]
    },
    {
      "cell_type": "markdown",
      "source": [
        "9. What are the methods for right-justifying, left-justifying, and centering a string?\n"
      ],
      "metadata": {
        "id": "Cz5jRspddknv"
      }
    },
    {
      "cell_type": "code",
      "source": [
        "lstr = \"I love panda\"\n",
        "print (lstr.ljust(40, '-')) #left"
      ],
      "metadata": {
        "colab": {
          "base_uri": "https://localhost:8080/"
        },
        "id": "_iPiHvCudzq1",
        "outputId": "19ec89e4-3e88-4f6e-d56e-ed1c8e5e5080"
      },
      "execution_count": 43,
      "outputs": [
        {
          "output_type": "stream",
          "name": "stdout",
          "text": [
            "I love panda----------------------------\n"
          ]
        }
      ]
    },
    {
      "cell_type": "code",
      "source": [
        "print (lstr.rjust(40, '-')) #right"
      ],
      "metadata": {
        "colab": {
          "base_uri": "https://localhost:8080/"
        },
        "id": "1iQPwOJRexWe",
        "outputId": "c4438788-d02c-4cc5-dbbc-c54c49f62946"
      },
      "execution_count": 42,
      "outputs": [
        {
          "output_type": "stream",
          "name": "stdout",
          "text": [
            "----------------------------I love panda\n"
          ]
        }
      ]
    },
    {
      "cell_type": "code",
      "source": [
        "print (lstr.center(40, '-')) #center"
      ],
      "metadata": {
        "colab": {
          "base_uri": "https://localhost:8080/"
        },
        "id": "D9LNirFfe7zm",
        "outputId": "1a414094-78a3-4c2d-e0ab-3e70a1a638db"
      },
      "execution_count": 41,
      "outputs": [
        {
          "output_type": "stream",
          "name": "stdout",
          "text": [
            "--------------I love panda--------------\n"
          ]
        }
      ]
    },
    {
      "cell_type": "markdown",
      "source": [
        "10. What is the best way to remove whitespace characters from the start or end?\n"
      ],
      "metadata": {
        "id": "AUgMWTBffS2v"
      }
    },
    {
      "cell_type": "code",
      "source": [
        "'hello world!    '.rstrip()\n"
      ],
      "metadata": {
        "colab": {
          "base_uri": "https://localhost:8080/",
          "height": 36
        },
        "id": "kUQj0BQAfT9H",
        "outputId": "c5ad48ed-5eb5-4fb1-ce1f-50f65661a567"
      },
      "execution_count": 56,
      "outputs": [
        {
          "output_type": "execute_result",
          "data": {
            "text/plain": [
              "'hello world!'"
            ],
            "application/vnd.google.colaboratory.intrinsic+json": {
              "type": "string"
            }
          },
          "metadata": {},
          "execution_count": 56
        }
      ]
    },
    {
      "cell_type": "code",
      "source": [
        "'              hello world!'.lstrip()"
      ],
      "metadata": {
        "colab": {
          "base_uri": "https://localhost:8080/",
          "height": 36
        },
        "id": "BS48lJcVg8v3",
        "outputId": "7d95e412-47a7-4f2d-be77-38bac61cca62"
      },
      "execution_count": 58,
      "outputs": [
        {
          "output_type": "execute_result",
          "data": {
            "text/plain": [
              "'hello world!'"
            ],
            "application/vnd.google.colaboratory.intrinsic+json": {
              "type": "string"
            }
          },
          "metadata": {},
          "execution_count": 58
        }
      ]
    }
  ]
}