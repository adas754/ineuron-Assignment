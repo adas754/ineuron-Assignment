{
  "nbformat": 4,
  "nbformat_minor": 0,
  "metadata": {
    "colab": {
      "provenance": []
    },
    "kernelspec": {
      "name": "python3",
      "display_name": "Python 3"
    },
    "language_info": {
      "name": "python"
    }
  },
  "cells": [
    {
      "cell_type": "markdown",
      "source": [
        "# Question 1:\n",
        "# Please write a program using generator to print the numbers which can be divisible by 5 and\n",
        "# 7 between 0 and n in comma separated form while n is input by console.\n",
        "# Example:\n",
        "# If the following n is given as input to the program:\n",
        "# 100\n",
        "# Then, the output of the program should be:\n",
        "# 0,35,70"
      ],
      "metadata": {
        "id": "hqyTKfjcfPqb"
      }
    },
    {
      "cell_type": "code",
      "execution_count": 1,
      "metadata": {
        "colab": {
          "base_uri": "https://localhost:8080/"
        },
        "id": "EiBBUOeael0N",
        "outputId": "b40b2763-2203-487e-8a01-d138a9918eeb"
      },
      "outputs": [
        {
          "output_type": "stream",
          "name": "stdout",
          "text": [
            "0 35 70 "
          ]
        }
      ],
      "source": [
        "def showdivisible(in_num):\n",
        "  for ele in range(0,in_num):\n",
        "    if(ele%5==0) and (ele%7==0):\n",
        "      yield ele\n",
        "for ele in showdivisible(100):\n",
        "  print(ele,end= ' ')"
      ]
    },
    {
      "cell_type": "markdown",
      "source": [
        "# 2.Please write a program using generator to print the even numbers between 0 and n in comma separated form while n is input by console ?\n",
        "# Example:\n",
        "# If the following n is given as input to the program: 10\n",
        "## Then, the output of the program should be: 0,2,4,6,8,10"
      ],
      "metadata": {
        "id": "ob9KwtcGgm_k"
      }
    },
    {
      "cell_type": "code",
      "source": [
        "def genEvenNumbers(in_num):\n",
        "  for ele in range(in_num+1):\n",
        "    if ele%2==0:\n",
        "      yield ele\n",
        "for ele in genEvenNumbers(10):\n",
        "  print(ele,end=' ')\n"
      ],
      "metadata": {
        "colab": {
          "base_uri": "https://localhost:8080/"
        },
        "id": "HGIcTfTSg3L2",
        "outputId": "abaab530-644b-457e-da65-8910f864cdd7"
      },
      "execution_count": 2,
      "outputs": [
        {
          "output_type": "stream",
          "name": "stdout",
          "text": [
            "0 2 4 6 8 10 "
          ]
        }
      ]
    },
    {
      "cell_type": "markdown",
      "source": [
        "# Question 3:\n",
        "# The Fibonacci Sequence is computed based on the following formula:\n",
        "# f(n)=0 if n=0\n",
        "# f(n)=1 if n=1\n",
        "# f(n)=f(n-1)+f(n-2) if n&gt;1\n",
        "# Please write a program using list comprehension to print the Fibonacci Sequence in comma\n",
        "# separated form with a given n input by console.\n",
        "# Example:\n",
        "# If the following n is given as input to the program:\n",
        "# 7\n",
        "\n",
        "# Then, the output of the program should be:\n",
        "# 0,1,1,2,3,5,8,13"
      ],
      "metadata": {
        "id": "xOOSnQajhuqU"
      }
    },
    {
      "cell_type": "code",
      "source": [
        "def genFibonaci(in_num):\n",
        "  if in_num==0:\n",
        "    return 0\n",
        "  elif in_num==1:\n",
        "    return 1\n",
        "  else:\n",
        "    return genFibonaci(in_num-1)+genFibonaci(in_num-2)\n",
        "print([genFibonaci(x) for x in range(8)])"
      ],
      "metadata": {
        "colab": {
          "base_uri": "https://localhost:8080/"
        },
        "id": "O1G4OcbqiAld",
        "outputId": "e3469e1b-c932-4a3f-c062-a43d0e2af856"
      },
      "execution_count": 6,
      "outputs": [
        {
          "output_type": "stream",
          "name": "stdout",
          "text": [
            "[0, 1, 1, 2, 3, 5, 8, 13]\n"
          ]
        }
      ]
    },
    {
      "cell_type": "markdown",
      "source": [
        "# 4.Assuming that we have some email addresses in the \"username@companyname.com\" format, please write program to print the user name of a given email address. Both user names and company names are composed of letters only ?\n",
        "# Example:\n",
        "# If the following email address is given as input to the program: john@google.com\n",
        "# Then, the output of the program should be: john\n",
        "\n"
      ],
      "metadata": {
        "id": "QHGI_xnzjUGA"
      }
    },
    {
      "cell_type": "code",
      "source": [
        "def getusernames():\n",
        "  in_string=input(\"Enter string :\")\n",
        "  out_string=in_string.split('@')\n",
        "  print(f'username of {in_string} is {out_string[0]}')\n",
        "getusernames()"
      ],
      "metadata": {
        "colab": {
          "base_uri": "https://localhost:8080/"
        },
        "id": "a0KnyFAAjfYY",
        "outputId": "c40f294b-0d53-41b7-c9c8-f58e15f55ebd"
      },
      "execution_count": 8,
      "outputs": [
        {
          "output_type": "stream",
          "name": "stdout",
          "text": [
            "Enter string : john@google.com\n",
            "username of  john@google.com is  john\n"
          ]
        }
      ]
    },
    {
      "cell_type": "markdown",
      "source": [
        "# 5.Define a class named Shape and its subclass Square. The Square class has an init function which takes a length as argument. Both classes have a area function which can print the area of the shape where Shape's area is 0 by default."
      ],
      "metadata": {
        "id": "DwFNS5Qekk0I"
      }
    },
    {
      "cell_type": "code",
      "source": [
        "class Shape:\n",
        "  def area(self):\n",
        "    return 0\n",
        "class square(Shape):\n",
        "  def __init__(self,length):\n",
        "    self.length=length\n",
        "  def area(self):\n",
        "    return self.length*self.length\n",
        "squares=square(50)\n",
        "print(squares.area())"
      ],
      "metadata": {
        "colab": {
          "base_uri": "https://localhost:8080/"
        },
        "id": "_ou1gfYmksSr",
        "outputId": "980d6bb3-06cf-4800-deb6-7b5fd940ec8a"
      },
      "execution_count": 11,
      "outputs": [
        {
          "output_type": "stream",
          "name": "stdout",
          "text": [
            "2500\n"
          ]
        }
      ]
    }
  ]
}