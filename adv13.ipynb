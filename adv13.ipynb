{
  "nbformat": 4,
  "nbformat_minor": 0,
  "metadata": {
    "colab": {
      "provenance": []
    },
    "kernelspec": {
      "name": "python3",
      "display_name": "Python 3"
    },
    "language_info": {
      "name": "python"
    }
  },
  "cells": [
    {
      "cell_type": "markdown",
      "source": [
        "# 1. Create a function that takes a list and string. The function should remove the letters in the string from the list, and return the list.\n",
        "\n",
        "Examples\n",
        "\n",
        "remove_letters([\"s\", \"t\", \"r\", \"i\", \"n\", \"g\", \"w\"], \"string\") ➞ [\"w\"]\n",
        "\n",
        "remove_letters([\"b\", \"b\", \"l\", \"l\", \"g\", \"n\", \"o\", \"a\", \"w\"], \"balloon\") ➞ [\"b\", \"g\", \"w\"]\n",
        "\n",
        "remove_letters([\"d\", \"b\", \"t\", \"e\", \"a\", \"i\"], \"edabit\") ➞ []\n",
        "\n"
      ],
      "metadata": {
        "id": "P6-HYi6PI1zD"
      }
    },
    {
      "cell_type": "code",
      "execution_count": 1,
      "metadata": {
        "colab": {
          "base_uri": "https://localhost:8080/"
        },
        "id": "8LPhJr2MIctz",
        "outputId": "e1a24fde-4a34-4c24-8c63-8cf5cb0a75df"
      },
      "outputs": [
        {
          "output_type": "execute_result",
          "data": {
            "text/plain": [
              "['w']"
            ]
          },
          "metadata": {},
          "execution_count": 1
        }
      ],
      "source": [
        "def remove_letters(lst, string):\n",
        "    for char in string:\n",
        "        if char in lst:\n",
        "            lst.remove(char)\n",
        "    return lst\n",
        "remove_letters([\"s\", \"t\", \"r\", \"i\", \"n\", \"g\", \"w\"], \"string\") "
      ]
    },
    {
      "cell_type": "code",
      "source": [
        "remove_letters([\"b\", \"b\", \"l\", \"l\", \"g\", \"n\", \"o\", \"a\", \"w\"], \"balloon\")"
      ],
      "metadata": {
        "colab": {
          "base_uri": "https://localhost:8080/"
        },
        "id": "0wdHP8LaJL6_",
        "outputId": "8dae33ba-5e13-4ae6-ea4a-6daed2e9565b"
      },
      "execution_count": 2,
      "outputs": [
        {
          "output_type": "execute_result",
          "data": {
            "text/plain": [
              "['b', 'g', 'w']"
            ]
          },
          "metadata": {},
          "execution_count": 2
        }
      ]
    },
    {
      "cell_type": "code",
      "source": [
        "remove_letters([\"d\", \"b\", \"t\", \"e\", \"a\", \"i\"], \"edabit\")"
      ],
      "metadata": {
        "colab": {
          "base_uri": "https://localhost:8080/"
        },
        "id": "20aI6ICvJPXh",
        "outputId": "527421d7-efd5-41f3-d14c-0080596ae8f0"
      },
      "execution_count": 3,
      "outputs": [
        {
          "output_type": "execute_result",
          "data": {
            "text/plain": [
              "[]"
            ]
          },
          "metadata": {},
          "execution_count": 3
        }
      ]
    },
    {
      "cell_type": "code",
      "source": [
        "def remove_letters(in_list,in_string):\n",
        "  in_list_copy=in_list.copy()\n",
        "  for ele in in_string:\n",
        "    if ele in in_list:\n",
        "      in_list.remove(ele)\n",
        "  print(f'remove_letters{in_list_copy,in_string}->{in_list}')\n",
        "remove_letters([\"s\", \"t\", \"r\", \"i\", \"n\", \"g\", \"w\"], \"string\")\n",
        "remove_letters([\"b\", \"b\", \"l\", \"l\", \"g\", \"n\", \"o\", \"a\", \"w\"], \"balloon\")\n",
        "remove_letters([\"d\", \"b\", \"t\", \"e\", \"a\", \"i\"], \"edabit\")"
      ],
      "metadata": {
        "colab": {
          "base_uri": "https://localhost:8080/"
        },
        "id": "CXbVAKq3LuGQ",
        "outputId": "34ddd993-6aa4-4c8c-eaa7-066b3d7b0190"
      },
      "execution_count": 4,
      "outputs": [
        {
          "output_type": "stream",
          "name": "stdout",
          "text": [
            "remove_letters(['s', 't', 'r', 'i', 'n', 'g', 'w'], 'string')->['w']\n",
            "remove_letters(['b', 'b', 'l', 'l', 'g', 'n', 'o', 'a', 'w'], 'balloon')->['b', 'g', 'w']\n",
            "remove_letters(['d', 'b', 't', 'e', 'a', 'i'], 'edabit')->[]\n"
          ]
        }
      ]
    },
    {
      "cell_type": "markdown",
      "source": [
        "# 2. A block sequence in three dimensions. We can write a formula for this one:\n",
        "\n",
        "\n",
        "\n",
        "\n",
        "\n",
        "\n",
        "\n",
        "\n",
        "\n",
        "\n",
        "Create a function that takes a number (step) as an argument and returns the amount of blocks in that step.\n",
        "\n",
        "Examples\n",
        "\n",
        "blocks(1) ➞ 5\n",
        "\n",
        "blocks(5) ➞ 39\n",
        "\n",
        "blocks(2) ➞ 12\n"
      ],
      "metadata": {
        "id": "V7L-WVcTNAWG"
      }
    },
    {
      "cell_type": "code",
      "source": [
        "def blocks(in_num):\n",
        "  depth=in_num*3+((in_num)-1)*1\n",
        "  height=[x for x in range (2,in_num+2)]\n",
        "  print(f'blocks({in_num})->{depth+sum(height)}')\n",
        "blocks(1)\n",
        "\n",
        "blocks(5)\n",
        "\n",
        "blocks(2) "
      ],
      "metadata": {
        "colab": {
          "base_uri": "https://localhost:8080/"
        },
        "id": "YAhwXGFdTbrZ",
        "outputId": "a76fd9ad-0676-4a43-ad34-9f59bb123603"
      },
      "execution_count": 5,
      "outputs": [
        {
          "output_type": "stream",
          "name": "stdout",
          "text": [
            "blocks(1)->5\n",
            "blocks(5)->39\n",
            "blocks(2)->12\n"
          ]
        }
      ]
    },
    {
      "cell_type": "markdown",
      "source": [
        "\n",
        "# 3. Create a function that subtracts one positive integer from another, without using any arithmetic operators such as -, %, /, +, etc.\n",
        "\n",
        "Examples\n",
        "\n",
        "my_sub(5, 9) ➞ 4\n",
        "\n",
        "my_sub(10, 30) ➞ 20\n",
        "\n",
        "my_sub(0, 0) ➞ 0\n",
        "\n"
      ],
      "metadata": {
        "id": "ZKv3Rf3qUQ2V"
      }
    },
    {
      "cell_type": "code",
      "source": [
        "from operator import sub\n",
        "def my_sub(in_one,in_two):\n",
        "  output=sub(in_one,in_two)if in_one>=in_two else sub(in_two,in_one)\n",
        "  print(f'my_sub{in_one,in_two}->{output}')\n",
        "my_sub(5, 9)\n",
        "\n",
        "my_sub(10, 30)\n",
        "\n",
        "my_sub(0, 0)"
      ],
      "metadata": {
        "colab": {
          "base_uri": "https://localhost:8080/"
        },
        "id": "8kN-kvSqDMK-",
        "outputId": "bb1b15ed-1ff5-4dd9-f21d-cd3433f3c98a"
      },
      "execution_count": 7,
      "outputs": [
        {
          "output_type": "stream",
          "name": "stdout",
          "text": [
            "my_sub(5, 9)->4\n",
            "my_sub(10, 30)->20\n",
            "my_sub(0, 0)->0\n"
          ]
        }
      ]
    },
    {
      "cell_type": "markdown",
      "source": [
        "# 4. Create a function that takes a string containing money in dollars and pounds sterling (seperated by comma) and returns the sum of dollar bills only, as an integer.\n",
        "\n",
        "For the input string:\n",
        "\n",
        "   - Each amount is prefixed by the currency symbol: $ for dollars and £ for pounds.\n",
        "   - Thousands are represented by the suffix k.\n",
        "\n",
        "i.e. $4k = $4,000 and £40k = £40,000\n",
        "\n",
        "Examples\n",
        "\n",
        "add_bill(\"d20,p40,p60,d50\") ➞ 20 + 50 = 70\n",
        "\n",
        "add_bill(\"p30,d20,p60,d150,p360\") ➞ 20  + 150 = 170\n",
        "\n",
        "add_bill(\"p30,d2k,p60,d200,p360\") ➞ 2 * 1000 + 200 = 2200\n"
      ],
      "metadata": {
        "id": "24QCzX4LF5pM"
      }
    },
    {
      "cell_type": "code",
      "source": [
        "def add_bill(in_string):\n",
        "  out_num=0\n",
        "  for ele in in_string.split(','):\n",
        "    if 'd' in ele:\n",
        "      if 'k' in ele:\n",
        "        out_num+=int(ele.replace('d','').replace('k',''))*1000\n",
        "      else:\n",
        "        out_num+=int(ele.replace('d',''))\n",
        "  print(f'add_bill({in_string})->{out_num}')\n",
        "add_bill(\"d20,p40,p60,d50\") \n",
        "\n",
        "add_bill(\"p30,d20,p60,d150,p360\") \n",
        "\n",
        "add_bill(\"p30,d2k,p60,d200,p360\") "
      ],
      "metadata": {
        "colab": {
          "base_uri": "https://localhost:8080/"
        },
        "id": "2UHa3zaUF46E",
        "outputId": "aad766a3-4348-4c04-b7fb-af36f1fbe868"
      },
      "execution_count": 8,
      "outputs": [
        {
          "output_type": "stream",
          "name": "stdout",
          "text": [
            "add_bill(d20,p40,p60,d50)->70\n",
            "add_bill(p30,d20,p60,d150,p360)->170\n",
            "add_bill(p30,d2k,p60,d200,p360)->2200\n"
          ]
        }
      ]
    },
    {
      "cell_type": "markdown",
      "source": [
        "# 5. Create a function that flips a horizontal list into a vertical list, and a vertical list into a horizontal list.\n",
        "\n",
        "In other words, take an 1 x n list (1 row + n columns) and flip it into a n x 1 list (n rows and 1 column), and vice versa.\n",
        "\n",
        "Examples\n",
        "\n",
        "flip_list([1, 2, 3, 4]) ➞ [[1], [2], [3], [4]]\n",
        "# Take a horizontal list and flip it vertical.\n",
        "\n",
        "flip_list([[5], [6], [9]]) ➞ [5, 6, 9]\n",
        "# Take a vertical list and flip it horizontal.\n",
        "\n",
        "flip_list([]) ➞ []\n",
        "\n"
      ],
      "metadata": {
        "id": "BeTnH7USNmsR"
      }
    },
    {
      "cell_type": "code",
      "source": [
        "def flip_list(lst):\n",
        "  if len(lst)==0:\n",
        "    return []\n",
        "  if isinstance(lst[0],list):\n",
        "    return [x[0]for x in lst]\n",
        "  else:\n",
        "    return [[x] for x in lst]"
      ],
      "metadata": {
        "id": "XcSmbcXLNvkI"
      },
      "execution_count": 12,
      "outputs": []
    },
    {
      "cell_type": "code",
      "source": [
        "flip_list([1, 2, 3, 4])"
      ],
      "metadata": {
        "colab": {
          "base_uri": "https://localhost:8080/"
        },
        "id": "3mgf5KwhRvoF",
        "outputId": "35249351-2ee1-48e2-fc1d-6c9d9e759ebe"
      },
      "execution_count": 15,
      "outputs": [
        {
          "output_type": "execute_result",
          "data": {
            "text/plain": [
              "[[1], [2], [3], [4]]"
            ]
          },
          "metadata": {},
          "execution_count": 15
        }
      ]
    },
    {
      "cell_type": "code",
      "source": [
        "flip_list([[5], [6], [9]]) "
      ],
      "metadata": {
        "colab": {
          "base_uri": "https://localhost:8080/"
        },
        "id": "xbMdviqOOzg6",
        "outputId": "57156776-b97e-4487-8173-56e3f6c2cfb7"
      },
      "execution_count": 13,
      "outputs": [
        {
          "output_type": "execute_result",
          "data": {
            "text/plain": [
              "[5, 6, 9]"
            ]
          },
          "metadata": {},
          "execution_count": 13
        }
      ]
    },
    {
      "cell_type": "code",
      "source": [
        "flip_list([]) "
      ],
      "metadata": {
        "colab": {
          "base_uri": "https://localhost:8080/"
        },
        "id": "_5NQQEO3O3J3",
        "outputId": "f3a4ac32-16fd-46b0-db6b-7b3c134fc07e"
      },
      "execution_count": 14,
      "outputs": [
        {
          "output_type": "execute_result",
          "data": {
            "text/plain": [
              "[]"
            ]
          },
          "metadata": {},
          "execution_count": 14
        }
      ]
    }
  ]
}