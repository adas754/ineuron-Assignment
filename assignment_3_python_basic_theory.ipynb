{
  "nbformat": 4,
  "nbformat_minor": 0,
  "metadata": {
    "colab": {
      "name": "assignment 3 python basic theory.ipynb",
      "provenance": []
    },
    "kernelspec": {
      "name": "python3",
      "display_name": "Python 3"
    },
    "language_info": {
      "name": "python"
    }
  },
  "cells": [
    {
      "cell_type": "markdown",
      "source": [
        "1. Why are functions advantageous to have in your programs?"
      ],
      "metadata": {
        "id": "pCfxGdS-FN79"
      }
    },
    {
      "cell_type": "markdown",
      "source": [
        "The main advantage of python is code reusibility"
      ],
      "metadata": {
        "id": "CYPrmCGUFQBr"
      }
    },
    {
      "cell_type": "markdown",
      "source": [
        "2. When does the code in a function run: when its specified or when its called?"
      ],
      "metadata": {
        "id": "RY8qHd31F3Iz"
      }
    },
    {
      "cell_type": "markdown",
      "source": [
        "when the function is called"
      ],
      "metadata": {
        "id": "WbG3tLe3GR96"
      }
    },
    {
      "cell_type": "code",
      "execution_count": null,
      "metadata": {
        "id": "Wehp9HxjFLDn"
      },
      "outputs": [],
      "source": [
        "3. What statement creates a function?"
      ]
    },
    {
      "cell_type": "markdown",
      "source": [
        "def statement create a function"
      ],
      "metadata": {
        "id": "ylK-TsupHHkT"
      }
    },
    {
      "cell_type": "markdown",
      "source": [
        "4. What is the difference between a function and a function call?"
      ],
      "metadata": {
        "id": "fqmMIk0vHMss"
      }
    },
    {
      "cell_type": "markdown",
      "source": [
        "A function consist of def statement.function call evaluate function return value."
      ],
      "metadata": {
        "id": "9IsakI50HRD0"
      }
    },
    {
      "cell_type": "markdown",
      "source": [
        "5. How many global scopes are there in a Python program? How many local scopes?"
      ],
      "metadata": {
        "id": "XgAp1SuALbO5"
      }
    },
    {
      "cell_type": "markdown",
      "source": [
        "there is one global scope and local scope is created whenever function is called "
      ],
      "metadata": {
        "id": "F_XU7AgMLrfL"
      }
    },
    {
      "cell_type": "markdown",
      "source": [
        "6. What happens to variables in a local scope when the function call returns?"
      ],
      "metadata": {
        "id": "iGmxe5PDMU5I"
      }
    },
    {
      "cell_type": "markdown",
      "source": [
        "local scope are destroyed,all variable in it are forgotten"
      ],
      "metadata": {
        "id": "anYMuKFUMjDh"
      }
    },
    {
      "cell_type": "markdown",
      "source": [
        "7. What is the concept of a return value? Is it possible to have a return value in an expression?"
      ],
      "metadata": {
        "id": "-rm5cajWO0d2"
      }
    },
    {
      "cell_type": "markdown",
      "source": [
        "a return value that a value a function call evaluate to like any value,a return value can be used as a part of expression."
      ],
      "metadata": {
        "id": "GcprkcnQQCjU"
      }
    },
    {
      "cell_type": "markdown",
      "source": [
        "8. If a function does not have a return statement, what is the return value of a call to that function?"
      ],
      "metadata": {
        "id": "xTqgHnscQjyZ"
      }
    },
    {
      "cell_type": "markdown",
      "source": [
        "in this case return value is none"
      ],
      "metadata": {
        "id": "oNXH1sTxQrkC"
      }
    },
    {
      "cell_type": "markdown",
      "source": [
        "9. How do you make a function variable refer to the global variable?"
      ],
      "metadata": {
        "id": "Dl6HJs2iQz9B"
      }
    },
    {
      "cell_type": "markdown",
      "source": [
        "we can use global keyword to declare which variable are global"
      ],
      "metadata": {
        "id": "0KvjW_tRSPz0"
      }
    },
    {
      "cell_type": "markdown",
      "source": [
        "10. What is the data type of None?"
      ],
      "metadata": {
        "id": "7-CWH_VuSngk"
      }
    },
    {
      "cell_type": "markdown",
      "source": [
        "NoneType"
      ],
      "metadata": {
        "id": "VXGsU-RqSrgt"
      }
    },
    {
      "cell_type": "markdown",
      "source": [
        "11. What does the sentence import areallyourpetsnamederic do?"
      ],
      "metadata": {
        "id": "CNKpDELdS0RP"
      }
    },
    {
      "cell_type": "markdown",
      "source": [
        "import statetement imports a module named areallyourpetsnamederic\n"
      ],
      "metadata": {
        "id": "PkdcLa80S_T3"
      }
    },
    {
      "cell_type": "markdown",
      "source": [
        "12. If you had a bacon() feature in a spam module, what would you call it after importing spam?"
      ],
      "metadata": {
        "id": "0aQvPzNJTgeg"
      }
    },
    {
      "cell_type": "markdown",
      "source": [
        "spam.bcon()"
      ],
      "metadata": {
        "id": "B_69xAALToGn"
      }
    },
    {
      "cell_type": "markdown",
      "source": [
        "13. What can you do to save a programme from crashing if it encounters an error?"
      ],
      "metadata": {
        "id": "H_27bVYMTxEg"
      }
    },
    {
      "cell_type": "markdown",
      "source": [
        "try clause and except block to handle the error"
      ],
      "metadata": {
        "id": "NtIm8HmoT54H"
      }
    },
    {
      "cell_type": "markdown",
      "source": [
        "14. What is the purpose of the try clause? What is the purpose of the except clause?"
      ],
      "metadata": {
        "id": "4y3yYf4GULv4"
      }
    },
    {
      "cell_type": "markdown",
      "source": [
        "the except block try to handel the error.try block lets us test a block of code for error\n"
      ],
      "metadata": {
        "id": "0OvXIEfqUTKY"
      }
    }
  ]
}