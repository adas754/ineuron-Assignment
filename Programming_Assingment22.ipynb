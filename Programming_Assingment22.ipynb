{
  "nbformat": 4,
  "nbformat_minor": 0,
  "metadata": {
    "colab": {
      "name": "Programming_Assingment22.ipynb",
      "provenance": []
    },
    "kernelspec": {
      "name": "python3",
      "display_name": "Python 3"
    },
    "language_info": {
      "name": "python"
    }
  },
  "cells": [
    {
      "cell_type": "markdown",
      "source": [
        "Question1\n",
        "\n",
        "Create a function that takes three parameters where:\n",
        "x is the start of the range (inclusive).\n",
        "y is the end of the range (inclusive).\n",
        "n is the divisor to be checked against.\n",
        "Return an ordered list with numbers in the range that are divisible by the third parameter n. Return an empty list if there are no numbers that are divisible by n.\n",
        "\n",
        "Examples\n",
        "\n",
        "list_operation(1, 10, 3) ➞ [3, 6, 9]\n",
        "\n",
        "\n",
        "list_operation(7, 9, 2) ➞ [8]\n",
        "\n",
        "\n",
        "list_operation(15, 20, 7) ➞ []\n",
        "\n",
        "\n"
      ],
      "metadata": {
        "id": "C2LwrD8U2Loi"
      }
    },
    {
      "cell_type": "code",
      "execution_count": 1,
      "metadata": {
        "id": "CqbxcuZE2IHp"
      },
      "outputs": [],
      "source": [
        "def list_operation(start,end,divisor):\n",
        "    out_list=[]\n",
        "    for ele in range(start,end+1):\n",
        "        if ele%divisor==0:\n",
        "           out_list.append(ele)\n",
        "    return(f'Output: ➞ {out_list}')\n"
      ]
    },
    {
      "cell_type": "code",
      "source": [
        "list_operation(1, 10, 3) "
      ],
      "metadata": {
        "colab": {
          "base_uri": "https://localhost:8080/",
          "height": 35
        },
        "id": "0S4DnxOd7l2i",
        "outputId": "ad679656-71a4-48e1-aa0f-b4af8e33bbbc"
      },
      "execution_count": 2,
      "outputs": [
        {
          "output_type": "execute_result",
          "data": {
            "application/vnd.google.colaboratory.intrinsic+json": {
              "type": "string"
            },
            "text/plain": [
              "'Output: ➞ [3, 6, 9]'"
            ]
          },
          "metadata": {},
          "execution_count": 2
        }
      ]
    },
    {
      "cell_type": "code",
      "source": [
        "list_operation(7, 9, 2)"
      ],
      "metadata": {
        "colab": {
          "base_uri": "https://localhost:8080/",
          "height": 35
        },
        "id": "L-DEObie70Lp",
        "outputId": "7817b1e8-230b-42c0-aca0-b1f1e9b7eae9"
      },
      "execution_count": 3,
      "outputs": [
        {
          "output_type": "execute_result",
          "data": {
            "application/vnd.google.colaboratory.intrinsic+json": {
              "type": "string"
            },
            "text/plain": [
              "'Output: ➞ [8]'"
            ]
          },
          "metadata": {},
          "execution_count": 3
        }
      ]
    },
    {
      "cell_type": "code",
      "source": [
        "list_operation(15, 20, 7)"
      ],
      "metadata": {
        "colab": {
          "base_uri": "https://localhost:8080/",
          "height": 35
        },
        "id": "U7-aApJo8ESx",
        "outputId": "20eb9ff5-ae25-4b94-f0fa-ecea5310fdef"
      },
      "execution_count": 4,
      "outputs": [
        {
          "output_type": "execute_result",
          "data": {
            "application/vnd.google.colaboratory.intrinsic+json": {
              "type": "string"
            },
            "text/plain": [
              "'Output: ➞ []'"
            ]
          },
          "metadata": {},
          "execution_count": 4
        }
      ]
    },
    {
      "cell_type": "markdown",
      "source": [
        "Question2\n",
        "\n",
        "Create a function that takes in two lists and returns True if the second list follows the first list by one element, and False otherwise. In other words, determine if the second list is the first list shifted to the right by 1.\n",
        "\n",
        "Examples\n",
        "\n",
        "simon_says([1, 2], [5, 1]) ➞ True\n",
        "\n",
        "\n",
        "simon_says([1, 2], [5, 5]) ➞ False\n",
        "\n",
        "\n",
        "simon_says([1, 2, 3, 4, 5], [0, 1, 2, 3, 4]) ➞ True\n",
        "\n",
        "\n",
        "simon_says([1, 2, 3, 4, 5], [5, 5, 1, 2, 3]) ➞ False\n",
        "\n",
        "Notes\n",
        "\n",
        "Both input lists will be of the same length, and will have a minimum length of 2.\n",
        "The values of the 0-indexed element in the second list and the n-1th indexed element in the first list do not matter.\n"
      ],
      "metadata": {
        "id": "XpmDcsEU8UCB"
      }
    },
    {
      "cell_type": "code",
      "source": [
        "def simon_says(l1,l2):\n",
        "    return l1[0:len(l1)-1]==l2[1:len(l2)]\n"
      ],
      "metadata": {
        "id": "595LD82y89q0"
      },
      "execution_count": 5,
      "outputs": []
    },
    {
      "cell_type": "code",
      "source": [
        "simon_says([1, 2], [5, 1]) "
      ],
      "metadata": {
        "colab": {
          "base_uri": "https://localhost:8080/"
        },
        "id": "vP_FarZNB2rh",
        "outputId": "98d1150a-e8be-40f8-c622-8945bfd43664"
      },
      "execution_count": 6,
      "outputs": [
        {
          "output_type": "execute_result",
          "data": {
            "text/plain": [
              "True"
            ]
          },
          "metadata": {},
          "execution_count": 6
        }
      ]
    },
    {
      "cell_type": "code",
      "source": [
        "simon_says([1, 2], [5, 5])"
      ],
      "metadata": {
        "colab": {
          "base_uri": "https://localhost:8080/"
        },
        "id": "PdRvBrbEB_zY",
        "outputId": "4921851a-7434-4969-f4fe-11caafa53ff2"
      },
      "execution_count": 7,
      "outputs": [
        {
          "output_type": "execute_result",
          "data": {
            "text/plain": [
              "False"
            ]
          },
          "metadata": {},
          "execution_count": 7
        }
      ]
    },
    {
      "cell_type": "code",
      "source": [
        "simon_says([1, 2, 3, 4, 5], [0, 1, 2, 3, 4]) "
      ],
      "metadata": {
        "colab": {
          "base_uri": "https://localhost:8080/"
        },
        "id": "L9aLu3a6CE8K",
        "outputId": "ed906300-f0d3-4c15-be42-56c30af0d1e5"
      },
      "execution_count": 10,
      "outputs": [
        {
          "output_type": "execute_result",
          "data": {
            "text/plain": [
              "True"
            ]
          },
          "metadata": {},
          "execution_count": 10
        }
      ]
    },
    {
      "cell_type": "code",
      "source": [
        "simon_says([1, 2, 3, 4, 5], [5, 5, 1, 2, 3]) "
      ],
      "metadata": {
        "colab": {
          "base_uri": "https://localhost:8080/"
        },
        "id": "nUzw3tGSCJua",
        "outputId": "c4d81f8b-44ee-4d3a-9882-516ce96595bb"
      },
      "execution_count": 14,
      "outputs": [
        {
          "output_type": "execute_result",
          "data": {
            "text/plain": [
              "False"
            ]
          },
          "metadata": {},
          "execution_count": 14
        }
      ]
    },
    {
      "cell_type": "markdown",
      "source": [
        "Question3\n",
        "\n",
        "A group of friends have decided to start a secret society. The name will be the first letter of each of their names, sorted in alphabetical order.\n",
        "Create a function that takes in a list of names and returns the name of the secret society.\n",
        "\n",
        "Examples\n",
        "\n",
        "society_name([\"Adam\", \"Sarah\", \"Malcolm\"]) ➞ \"AMS\"\n",
        "\n",
        "\n",
        "society_name([\"Harry\", \"Newt\", \"Luna\", \"Cho\"]) ➞ \"CHLN\"\n",
        "\n",
        "\n",
        "society_name([\"Phoebe\", \"Chandler\", \"Rachel\", \"Ross\", \"Monica\", \"Joey\"])\n",
        "\n",
        "\n"
      ],
      "metadata": {
        "id": "uDNCpL7kEu7F"
      }
    },
    {
      "cell_type": "code",
      "source": [
        "def society_name(l):\n",
        "    l1 = []\n",
        "    for i in l:\n",
        "        l1.append(i[0])\n",
        "    l1 = sorted(l1)\n",
        "    return ''.join(l1)\n",
        "        "
      ],
      "metadata": {
        "id": "c-T0dHofIbsK"
      },
      "execution_count": 23,
      "outputs": []
    },
    {
      "cell_type": "code",
      "source": [
        "society_name([\"Adam\", \"Sarah\", \"Malcolm\"]) \n",
        "\n"
      ],
      "metadata": {
        "colab": {
          "base_uri": "https://localhost:8080/",
          "height": 35
        },
        "id": "YPZSZRhAHb-h",
        "outputId": "a9c50fea-6b77-45ba-d834-183927d468ee"
      },
      "execution_count": 24,
      "outputs": [
        {
          "output_type": "execute_result",
          "data": {
            "application/vnd.google.colaboratory.intrinsic+json": {
              "type": "string"
            },
            "text/plain": [
              "'AMS'"
            ]
          },
          "metadata": {},
          "execution_count": 24
        }
      ]
    },
    {
      "cell_type": "code",
      "source": [
        "society_name([\"Harry\", \"Newt\", \"Luna\", \"Cho\"])\n"
      ],
      "metadata": {
        "colab": {
          "base_uri": "https://localhost:8080/",
          "height": 35
        },
        "id": "HNyuZI0DI5Co",
        "outputId": "e1308fb6-91e7-45d6-be47-a785ff597cec"
      },
      "execution_count": 19,
      "outputs": [
        {
          "output_type": "execute_result",
          "data": {
            "application/vnd.google.colaboratory.intrinsic+json": {
              "type": "string"
            },
            "text/plain": [
              "'CHLN'"
            ]
          },
          "metadata": {},
          "execution_count": 19
        }
      ]
    },
    {
      "cell_type": "code",
      "source": [
        "society_name([\"Phoebe\", \"Chandler\", \"Rachel\", \"Ross\", \"Monica\", \"Joey\"])"
      ],
      "metadata": {
        "colab": {
          "base_uri": "https://localhost:8080/",
          "height": 35
        },
        "id": "yX0L5lvlI8Hx",
        "outputId": "e4b5afe5-62c3-4970-d6b7-d1e22166941c"
      },
      "execution_count": 20,
      "outputs": [
        {
          "output_type": "execute_result",
          "data": {
            "application/vnd.google.colaboratory.intrinsic+json": {
              "type": "string"
            },
            "text/plain": [
              "'CJMPRR'"
            ]
          },
          "metadata": {},
          "execution_count": 20
        }
      ]
    },
    {
      "cell_type": "markdown",
      "source": [
        "Question4\n",
        "\n",
        "An isogram is a word that has no duplicate letters. Create a function that takes a string and\n",
        "returns either True or False depending on whether or not it's an \"isogram\".\n",
        "\n",
        "Examples\n",
        "\n",
        "is_isogram(\"Algorism\") ➞ True\n",
        "\n",
        "is_isogram(\"PasSword\") ➞ False\n",
        "\n",
        "# Not case sensitive.\n",
        "is_isogram(\"Consecutive\") ➞ False\n",
        "\n",
        "Notes\n",
        "\n",
        " Ignore letter case (should not be case sensitive).\n",
        "\n",
        " All test cases contain valid one word strings.\n"
      ],
      "metadata": {
        "id": "Imb5eho7JmrL"
      }
    },
    {
      "cell_type": "code",
      "source": [
        "def is_isogram(string):\n",
        "    for i in range(len(string)):\n",
        "        if string.lower().count(string[i])>1:\n",
        "           return False\n",
        "    else:\n",
        "        return True"
      ],
      "metadata": {
        "id": "LGtMInIaJ3_c"
      },
      "execution_count": 25,
      "outputs": []
    },
    {
      "cell_type": "code",
      "source": [
        "is_isogram(\"Algorism\") "
      ],
      "metadata": {
        "colab": {
          "base_uri": "https://localhost:8080/"
        },
        "id": "vkz_xbOlLgXO",
        "outputId": "770674fd-b36d-4c83-e991-f3725517c15c"
      },
      "execution_count": 26,
      "outputs": [
        {
          "output_type": "execute_result",
          "data": {
            "text/plain": [
              "True"
            ]
          },
          "metadata": {},
          "execution_count": 26
        }
      ]
    },
    {
      "cell_type": "code",
      "source": [
        "is_isogram(\"PasSword\") "
      ],
      "metadata": {
        "colab": {
          "base_uri": "https://localhost:8080/"
        },
        "id": "d4puL38SLyS1",
        "outputId": "b976765e-3eb5-4392-e69d-9be11e5f1b6b"
      },
      "execution_count": 27,
      "outputs": [
        {
          "output_type": "execute_result",
          "data": {
            "text/plain": [
              "False"
            ]
          },
          "metadata": {},
          "execution_count": 27
        }
      ]
    },
    {
      "cell_type": "markdown",
      "source": [
        "Question5\n",
        "\n",
        "Create a function that takes a string and returns True or False, depending on whether the characters are in order or not.\n",
        "\n",
        "Examples\n",
        "\n",
        "is_in_order(\"abc\") ➞ True\n",
        "\n",
        "\n",
        "is_in_order(\"edabit\") ➞ False\n",
        "\n",
        "\n",
        "is_in_order(\"123\") ➞ True\n",
        "\n",
        "\n",
        "is_in_order(\"xyzz\") ➞ True\n",
        "\n",
        "Notes\n",
        "\n",
        "You don't have to handle empty strings.\n",
        "\n",
        "\n"
      ],
      "metadata": {
        "id": "AtEtcyeqMAxO"
      }
    },
    {
      "cell_type": "code",
      "source": [
        "def is_in_order(string):\n",
        "    string1=sorted(string)\n",
        "    string1=''.join(string1)\n",
        "    if string1==string:\n",
        "       return True\n",
        "    else:\n",
        "        return False"
      ],
      "metadata": {
        "id": "iwHY6Uv-M3jR"
      },
      "execution_count": 28,
      "outputs": []
    },
    {
      "cell_type": "code",
      "source": [
        "is_in_order(\"abc\")"
      ],
      "metadata": {
        "colab": {
          "base_uri": "https://localhost:8080/"
        },
        "id": "cxhdecvEPaZd",
        "outputId": "605a348f-8c2f-4e58-a68a-f7dd8c2f0a4a"
      },
      "execution_count": 29,
      "outputs": [
        {
          "output_type": "execute_result",
          "data": {
            "text/plain": [
              "True"
            ]
          },
          "metadata": {},
          "execution_count": 29
        }
      ]
    },
    {
      "cell_type": "code",
      "source": [
        "is_in_order(\"123\")"
      ],
      "metadata": {
        "colab": {
          "base_uri": "https://localhost:8080/"
        },
        "id": "rBiWtFTWPf50",
        "outputId": "cdcd08ab-d4cc-48ee-acce-e32a3754a686"
      },
      "execution_count": 30,
      "outputs": [
        {
          "output_type": "execute_result",
          "data": {
            "text/plain": [
              "True"
            ]
          },
          "metadata": {},
          "execution_count": 30
        }
      ]
    },
    {
      "cell_type": "code",
      "source": [
        "is_in_order(\"edabit\")"
      ],
      "metadata": {
        "colab": {
          "base_uri": "https://localhost:8080/"
        },
        "id": "cS9DULJqPm_-",
        "outputId": "95b8e484-5799-4d9c-d3e4-040b89bf967d"
      },
      "execution_count": 31,
      "outputs": [
        {
          "output_type": "execute_result",
          "data": {
            "text/plain": [
              "False"
            ]
          },
          "metadata": {},
          "execution_count": 31
        }
      ]
    },
    {
      "cell_type": "code",
      "source": [
        "is_in_order(\"xyzz\")"
      ],
      "metadata": {
        "colab": {
          "base_uri": "https://localhost:8080/"
        },
        "id": "TCKKGl3dPvIr",
        "outputId": "77bb7319-076f-4431-f197-7ad425923f70"
      },
      "execution_count": 32,
      "outputs": [
        {
          "output_type": "execute_result",
          "data": {
            "text/plain": [
              "True"
            ]
          },
          "metadata": {},
          "execution_count": 32
        }
      ]
    }
  ]
}