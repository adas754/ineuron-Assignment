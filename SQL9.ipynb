{
  "nbformat": 4,
  "nbformat_minor": 0,
  "metadata": {
    "colab": {
      "name": "SQL9.ipynb",
      "provenance": []
    },
    "kernelspec": {
      "name": "python3",
      "display_name": "Python 3"
    },
    "language_info": {
      "name": "python"
    }
  },
  "cells": [
    {
      "cell_type": "markdown",
      "source": [
        "Q-17.  Write an SQL query to show the top n (say 10) records of a table.\n",
        "\n",
        "Q-18. Write an SQL query to determine the nth (say n=5) highest salary from a table.\n",
        "\n"
      ],
      "metadata": {
        "id": "xwOy0ahdI2iE"
      }
    },
    {
      "cell_type": "markdown",
      "source": [
        "SELECT * FROM WORKER LIMIT 10;"
      ],
      "metadata": {
        "id": "QNuMzYOuI436"
      }
    },
    {
      "cell_type": "markdown",
      "source": [
        "SELECT DISTINCT (SALARY) FROM WORKER ORDER BY DESC LIMIT 1 OFFSET 5;"
      ],
      "metadata": {
        "id": "uODiRlKvJyWL"
      }
    }
  ]
}