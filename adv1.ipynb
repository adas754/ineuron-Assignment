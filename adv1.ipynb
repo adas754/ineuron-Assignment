{
  "nbformat": 4,
  "nbformat_minor": 0,
  "metadata": {
    "colab": {
      "provenance": []
    },
    "kernelspec": {
      "name": "python3",
      "display_name": "Python 3"
    },
    "language_info": {
      "name": "python"
    }
  },
  "cells": [
    {
      "cell_type": "markdown",
      "source": [
        "# 1. Write a function that takes a list of lists and returns the value of all of the symbols in it, where each symbol adds or takes something from the total score. Symbol values:\n",
        "\n",
        "\n",
        "\n",
        "# = 5\n",
        "O = 3\n",
        "X = 1\n",
        "! = -1\n",
        "!! = -3\n",
        "!!! = -5\n",
        "\n",
        "\n",
        "\n",
        "A list of lists containing 2 #s, a O, and a !!! would equal (0 + 5 + 5 + 3 - 5) 8.\n",
        "\n",
        "\n",
        "\n",
        "If the final score is negative, return 0 (e.g. 3 #s, 3 !!s, 2 !!!s and a X would be (0 + 5 + 5 + 5 - 3 - 3 - 3 - 5 - 5 + 1) -3, so return 0.\n",
        "\n",
        "\n",
        "\n",
        "Examples\n",
        "\n",
        "check_score([\n",
        "  [\"#\", \"!\"],\n",
        "  [\"!!\", \"X\"]\n",
        "]) ➞ 2\n",
        "\n",
        "check_score([\n",
        "  [\"!!!\", \"O\", \"!\"],\n",
        "  [\"X\", \"#\", \"!!!\"],\n",
        "  [\"!!\", \"X\", \"O\"]\n",
        "]) ➞ 0\n"
      ],
      "metadata": {
        "id": "5tek4vl-aqIX"
      }
    },
    {
      "cell_type": "code",
      "execution_count": null,
      "metadata": {
        "colab": {
          "base_uri": "https://localhost:8080/"
        },
        "id": "ZYruojv1Z98r",
        "outputId": "c8c96535-89a8-4d12-e1bc-db4ca8b2b039"
      },
      "outputs": [
        {
          "output_type": "execute_result",
          "data": {
            "text/plain": [
              "2"
            ]
          },
          "metadata": {},
          "execution_count": 24
        }
      ],
      "source": [
        "def check_score(lst):\n",
        "    score = 0\n",
        "    symbol_values = {\"#\": 5, \"O\": 3, \"X\": 1, \"!\": -1, \"!!\": -3, \"!!!\": -5}\n",
        "    for sub_lst in lst:\n",
        "        for symbol in sub_lst:\n",
        "            score += symbol_values.get(symbol, 0)\n",
        "    return max(score, 0)\n",
        "check_score([\n",
        "  [\"#\", \"!\"],\n",
        "  [\"!!\", \"X\"]\n",
        "]) \n"
      ]
    },
    {
      "cell_type": "code",
      "source": [
        "\n",
        "def check_score(lst):\n",
        "  score=0\n",
        "  symbol_values={\"#\": 5, \"O\": 3, \"X\": 1, \"!\": -1, \"!!\": -3, \"!!!\": -5}\n",
        "  for sub_list in lst:\n",
        "    for symbol in sub_list:\n",
        "      score+=symbol_values.get(symbol,0)\n",
        "  return max(score,0)\n",
        "check_score([\n",
        "  [\"#\", \"!\"],\n",
        "  [\"!!\", \"X\"]\n",
        "]) "
      ],
      "metadata": {
        "colab": {
          "base_uri": "https://localhost:8080/"
        },
        "id": "d9qpIdu_4yhE",
        "outputId": "918d7c7c-ebfc-4e31-fe73-3e07c4019dcc"
      },
      "execution_count": null,
      "outputs": [
        {
          "output_type": "execute_result",
          "data": {
            "text/plain": [
              "2"
            ]
          },
          "metadata": {},
          "execution_count": 28
        }
      ]
    },
    {
      "cell_type": "code",
      "source": [
        "def check_score(lst):\n",
        "  score=0\n",
        "  symbol_values={\"#\" : 5,\n",
        "\"O\" : 3,\n",
        "\"X\" : 1,\n",
        "\"!\" : -1,\n",
        "\"!!\" : -3,\n",
        "\"!!!\" :-5,\n",
        "}\n",
        "  for sub_lst in lst:\n",
        "    for symbol in sub_lst:\n",
        "      score+=symbol_values.get(symbol,0)\n",
        "  return max(score,0)\n",
        "\n",
        "check_score([\n",
        "  [\"!!!\", \"O\", \"!\"],\n",
        "  [\"X\", \"#\", \"!!!\"],\n",
        "  [\"!!\", \"X\", \"O\"]\n",
        "])"
      ],
      "metadata": {
        "colab": {
          "base_uri": "https://localhost:8080/"
        },
        "id": "0ZwIVlYUvqfo",
        "outputId": "8ea2e931-d024-4fc7-bc38-aad286dcfe3b"
      },
      "execution_count": null,
      "outputs": [
        {
          "output_type": "execute_result",
          "data": {
            "text/plain": [
              "0"
            ]
          },
          "metadata": {},
          "execution_count": 26
        }
      ]
    },
    {
      "cell_type": "code",
      "source": [
        "check_score([\n",
        "  [\"#\", \"!\"],\n",
        "  [\"!!\", \"X\"]\n",
        "]) "
      ],
      "metadata": {
        "colab": {
          "base_uri": "https://localhost:8080/"
        },
        "id": "i0_iUW33xBza",
        "outputId": "b1527cb9-366e-43ee-825c-345c3657f009"
      },
      "execution_count": null,
      "outputs": [
        {
          "output_type": "execute_result",
          "data": {
            "text/plain": [
              "2"
            ]
          },
          "metadata": {},
          "execution_count": 27
        }
      ]
    },
    {
      "cell_type": "code",
      "source": [
        "5 + (-1) + (-3) + 1"
      ],
      "metadata": {
        "colab": {
          "base_uri": "https://localhost:8080/"
        },
        "id": "613GnABTdGx4",
        "outputId": "23bcbe5f-697f-43ad-9915-ead881fa96a2"
      },
      "execution_count": null,
      "outputs": [
        {
          "output_type": "execute_result",
          "data": {
            "text/plain": [
              "2"
            ]
          },
          "metadata": {},
          "execution_count": 6
        }
      ]
    },
    {
      "cell_type": "code",
      "source": [
        "(-5) + 3 + (-1) + 1 + 5 + (-5) + (-3) + 1 + 3"
      ],
      "metadata": {
        "colab": {
          "base_uri": "https://localhost:8080/"
        },
        "id": "s_TFWx5UdRkh",
        "outputId": "1b2ebec4-e199-427c-fb9b-e00ee17bdc23"
      },
      "execution_count": null,
      "outputs": [
        {
          "output_type": "execute_result",
          "data": {
            "text/plain": [
              "-1"
            ]
          },
          "metadata": {},
          "execution_count": 7
        }
      ]
    },
    {
      "cell_type": "code",
      "source": [
        "check_score([\n",
        "  [\"!!!\", \"O\", \"!\"],\n",
        "  [\"X\", \"#\", \"!!!\"],\n",
        "  [\"!!\", \"X\", \"O\"]\n",
        "])\n"
      ],
      "metadata": {
        "colab": {
          "base_uri": "https://localhost:8080/"
        },
        "id": "eAaZARLFaNtS",
        "outputId": "003a3372-5f5f-483f-d131-3f98416fb8a7"
      },
      "execution_count": null,
      "outputs": [
        {
          "output_type": "execute_result",
          "data": {
            "text/plain": [
              "0"
            ]
          },
          "metadata": {},
          "execution_count": 19
        }
      ]
    },
    {
      "cell_type": "markdown",
      "source": [
        "# 2. Create a function that takes a variable number of arguments, each argument representing the number of items in a group, and returns the number of permutations (combinations) of items that you could get by taking one item from each group.\n",
        "\n",
        "\n",
        "Examples\n",
        "\n",
        "\n",
        "combinations(2, 3) ➞ 6\n",
        "\n",
        "\n",
        "combinations(3, 7, 4) ➞ 84\n",
        "\n",
        "\n",
        "combinations(2, 3, 4, 5) ➞ 120\n",
        "\n",
        "\n",
        "\n",
        "\n"
      ],
      "metadata": {
        "id": "Me8fNl2M5-HW"
      }
    },
    {
      "cell_type": "code",
      "source": [
        "def combination(*args):\n",
        "  result=1\n",
        "  for arg in args:\n",
        "    result*=arg\n",
        "  return result\n",
        "combination(2, 3) "
      ],
      "metadata": {
        "colab": {
          "base_uri": "https://localhost:8080/"
        },
        "id": "JjCAfeaUpQeZ",
        "outputId": "02a6cb92-7a4e-4665-fdad-1879d7801f57"
      },
      "execution_count": null,
      "outputs": [
        {
          "output_type": "execute_result",
          "data": {
            "text/plain": [
              "6"
            ]
          },
          "metadata": {},
          "execution_count": 31
        }
      ]
    },
    {
      "cell_type": "code",
      "source": [
        "combination(3, 7, 4)"
      ],
      "metadata": {
        "colab": {
          "base_uri": "https://localhost:8080/"
        },
        "id": "XIwRSIDd7KCz",
        "outputId": "0f0b4f69-3d92-4b75-c3eb-8c26717e4e4b"
      },
      "execution_count": null,
      "outputs": [
        {
          "output_type": "execute_result",
          "data": {
            "text/plain": [
              "84"
            ]
          },
          "metadata": {},
          "execution_count": 32
        }
      ]
    },
    {
      "cell_type": "code",
      "source": [
        "combination(2, 3, 4, 5)"
      ],
      "metadata": {
        "colab": {
          "base_uri": "https://localhost:8080/"
        },
        "id": "VdqQW5qd7NzM",
        "outputId": "7770a60d-b2ba-461c-beb9-3d690d5a3025"
      },
      "execution_count": null,
      "outputs": [
        {
          "output_type": "execute_result",
          "data": {
            "text/plain": [
              "120"
            ]
          },
          "metadata": {},
          "execution_count": 36
        }
      ]
    },
    {
      "cell_type": "code",
      "source": [
        "def combinations(*args):\n",
        "  result=1\n",
        "  for arg in args:\n",
        "    result*=arg\n",
        "  return result"
      ],
      "metadata": {
        "id": "9ZPvVUwc7SJz"
      },
      "execution_count": null,
      "outputs": []
    },
    {
      "cell_type": "code",
      "source": [
        "combinations(2, 3, 4, 5)"
      ],
      "metadata": {
        "colab": {
          "base_uri": "https://localhost:8080/"
        },
        "id": "WipiQnrM7uYF",
        "outputId": "df256878-ff80-4c20-c4de-390ae0d8ce02"
      },
      "execution_count": null,
      "outputs": [
        {
          "output_type": "execute_result",
          "data": {
            "text/plain": [
              "120"
            ]
          },
          "metadata": {},
          "execution_count": 37
        }
      ]
    },
    {
      "cell_type": "code",
      "source": [
        "def combination(*args):\n",
        "  result=1\n",
        "  for arg in args:\n",
        "    result*=arg\n",
        "  return result\n",
        "combination(2, 3, 4, 5)"
      ],
      "metadata": {
        "colab": {
          "base_uri": "https://localhost:8080/"
        },
        "id": "nOUIgR8u70pi",
        "outputId": "c8f1e290-5359-498b-c935-18ffc85bc100"
      },
      "execution_count": null,
      "outputs": [
        {
          "output_type": "execute_result",
          "data": {
            "text/plain": [
              "120"
            ]
          },
          "metadata": {},
          "execution_count": 38
        }
      ]
    },
    {
      "cell_type": "markdown",
      "source": [
        "3. Create a function that takes a string as an argument and returns the Morse code equivalent.\n",
        "\n",
        "\n",
        "Examples\n",
        "\n",
        "\n",
        "encode_morse(\"EDABBIT CHALLENGE\") ➞ \". -.. .- -... -... .. -   -.-. .... .- .-.. .-.. . -. --. .\"\n",
        "\n",
        "\n",
        "encode_morse(\"HELP ME !\") ➞ \".... . .-.. .--.   -- .   -.-.--\"\n",
        "\n",
        "\n",
        "This dictionary can be used for coding:\n",
        "\n",
        "\n",
        "char_to_dots = {\n",
        "  'A': '.-', 'B': '-...', 'C': '-.-.', 'D': '-..', 'E': '.', 'F': '..-.',\n",
        "\n",
        "  'G': '--.', 'H': '....', 'I': '..', 'J': '.---', 'K': '-.-', 'L': '.-..',\n",
        "\n",
        "  'M': '--', 'N': '-.', 'O': '---', 'P': '.--.', 'Q': '--.-', 'R': '.-.',\n",
        "\n",
        "  'S': '...', 'T': '-', 'U': '..-', 'V': '...-', 'W': '.--', 'X': '-..-',\n",
        "\n",
        "  'Y': '-.--', 'Z': '--..', ' ': ' ', '0': '-----',\n",
        "\n",
        "  '1': '.----', '2': '..---', '3': '...--', '4': '....-', '5': '.....',\n",
        "\n",
        "  '6': '-....', '7': '--...', '8': '---..', '9': '----.',\n",
        "\n",
        "  '&': '.-...', \"'\": '.----.', '@': '.--.-.', ')': '-.--.-', '(': '-.--.',\n",
        "\n",
        "  ':': '---...', ',': '--..--', '=': '-...-', '!': '-.-.--', '.': '.-.-.-',\n",
        "\n",
        "  '-': '-....-', '+': '.-.-.', '\"': '.-..-.', '?': '..--..', '/': '-..-.'\n",
        "  \n",
        "}\n"
      ],
      "metadata": {
        "id": "CUbrTiQE8mlh"
      }
    },
    {
      "cell_type": "code",
      "source": [
        "def encode_morse(string):\n",
        "  char_to_dots = { 'A': '.-', 'B': '-...', 'C': '-.-.', 'D': '-..', 'E': '.', 'F': '..-.',\n",
        "\n",
        "'G': '--.', 'H': '....', 'I': '..', 'J': '.---', 'K': '-.-', 'L': '.-..',\n",
        "\n",
        "'M': '--', 'N': '-.', 'O': '---', 'P': '.--.', 'Q': '--.-', 'R': '.-.',\n",
        "\n",
        "'S': '...', 'T': '-', 'U': '..-', 'V': '...-', 'W': '.--', 'X': '-..-',\n",
        "\n",
        "'Y': '-.--', 'Z': '--..', ' ': ' ', '0': '-----',\n",
        "\n",
        "'1': '.----', '2': '..---', '3': '...--', '4': '....-', '5': '.....',\n",
        "\n",
        "'6': '-....', '7': '--...', '8': '---..', '9': '----.',\n",
        "\n",
        "'&': '.-...', \"'\": '.----.', '@': '.--.-.', ')': '-.--.-', '(': '-.--.',\n",
        "\n",
        "':': '---...', ',': '--..--', '=': '-...-', '!': '-.-.--', '.': '.-.-.-',\n",
        "\n",
        "'-': '-....-', '+': '.-.-.', '\"': '.-..-.', '?': '..--..', '/': '-..-.'\n",
        "  }\n",
        "  return \"\".join([char_to_dots[c.upper()]for c in string])\n",
        "\n"
      ],
      "metadata": {
        "id": "jh97g7zs97kD"
      },
      "execution_count": null,
      "outputs": []
    },
    {
      "cell_type": "code",
      "source": [
        "def encode_morse(string):\n",
        "    char_to_dots = {\n",
        "      'A': '.-', 'B': '-...', 'C': '-.-.', 'D': '-..', 'E': '.', 'F': '..-.',\n",
        "      'G': '--.', 'H': '....', 'I': '..', 'J': '.---', 'K': '-.-', 'L': '.-..',\n",
        "      'M': '--', 'N': '-.', 'O': '---', 'P': '.--.', 'Q': '--.-', 'R': '.-.',\n",
        "      'S': '...', 'T': '-', 'U': '..-', 'V': '...-', 'W': '.--', 'X': '-..-',\n",
        "      'Y': '-.--', 'Z': '--..', ' ': ' ', '0': '-----',\n",
        "      '1': '.----', '2': '..---', '3': '...--', '4': '....-', '5': '.....',\n",
        "      '6': '-....', '7': '--...', '8': '---..', '9': '----.',\n",
        "      '&': '.-...', \"'\": '.----.', '@': '.--.-.', ')': '-.--.-', '(': '-.--.',\n",
        "      ':': '---...', ',': '--..--', '=': '-...-', '!': '-.-.--', '.': '.-.-.-',\n",
        "      '-': '-....-', '+': '.-.-.', '\"': '.-..-.', '?': '..--..', '/': '-..-.'\n",
        "    }\n",
        "    return \" \".join([char_to_dots[c.upper()] for c in string])\n"
      ],
      "metadata": {
        "id": "tO_rY76Z8gUJ"
      },
      "execution_count": null,
      "outputs": []
    },
    {
      "cell_type": "code",
      "source": [
        "def encode_morse(string):\n",
        "  char_to_dots = {\n",
        "      'A': '.-', 'B': '-...', 'C': '-.-.', 'D': '-..', 'E': '.', 'F': '..-.',\n",
        "      'G': '--.', 'H': '....', 'I': '..', 'J': '.---', 'K': '-.-', 'L': '.-..',\n",
        "      'M': '--', 'N': '-.', 'O': '---', 'P': '.--.', 'Q': '--.-', 'R': '.-.',\n",
        "      'S': '...', 'T': '-', 'U': '..-', 'V': '...-', 'W': '.--', 'X': '-..-',\n",
        "      'Y': '-.--', 'Z': '--..', ' ': ' ', '0': '-----',\n",
        "      '1': '.----', '2': '..---', '3': '...--', '4': '....-', '5': '.....',\n",
        "      '6': '-....', '7': '--...', '8': '---..', '9': '----.',\n",
        "      '&': '.-...', \"'\": '.----.', '@': '.--.-.', ')': '-.--.-', '(': '-.--.',\n",
        "      ':': '---...', ',': '--..--', '=': '-...-', '!': '-.-.--', '.': '.-.-.-',\n",
        "      '-': '-....-', '+': '.-.-.', '\"': '.-..-.', '?': '..--..', '/': '-..-.'\n",
        "    }\n",
        "  return \"\".join([char_to_dots[c.upper()]for c in string])\n"
      ],
      "metadata": {
        "id": "6X65RmFa_rwR"
      },
      "execution_count": null,
      "outputs": []
    },
    {
      "cell_type": "code",
      "source": [
        "encode_morse(\"HELP ME !\")"
      ],
      "metadata": {
        "colab": {
          "base_uri": "https://localhost:8080/",
          "height": 35
        },
        "id": "9BtMESfi-gt-",
        "outputId": "add05a46-bf99-46ba-9cc0-d9d1f5c2a402"
      },
      "execution_count": null,
      "outputs": [
        {
          "output_type": "execute_result",
          "data": {
            "text/plain": [
              "'......-...--. --. -.-.--'"
            ],
            "application/vnd.google.colaboratory.intrinsic+json": {
              "type": "string"
            }
          },
          "metadata": {},
          "execution_count": 54
        }
      ]
    },
    {
      "cell_type": "code",
      "source": [
        "encode_morse(\"EDABBIT CHALLENGE\")"
      ],
      "metadata": {
        "colab": {
          "base_uri": "https://localhost:8080/",
          "height": 35
        },
        "id": "EUPUyG1z91a5",
        "outputId": "31240607-bf50-442d-b973-9da5f7358a43"
      },
      "execution_count": null,
      "outputs": [
        {
          "output_type": "execute_result",
          "data": {
            "text/plain": [
              "'.-...--...-.....- -.-......-.-...-...-.--..'"
            ],
            "application/vnd.google.colaboratory.intrinsic+json": {
              "type": "string"
            }
          },
          "metadata": {},
          "execution_count": 55
        }
      ]
    },
    {
      "cell_type": "markdown",
      "source": [
        "# 4.  Write a function that takes a number and returns True if it's a prime; False otherwise. The number can be 2^64-1 (2 to the power of 63, not XOR). With the standard technique it would be O(2^64-1), which is much too large for the 10 second time limit.\n",
        "\n",
        "\n",
        "Examples\n",
        "\n",
        "\n",
        "prime(7) ➞ True\n",
        "\n",
        "\n",
        "\n",
        "prime(56963) ➞ True\n",
        "\n",
        "\n",
        "\n",
        "prime(5151512515524) ➞ False\n"
      ],
      "metadata": {
        "id": "dc9HFTg_Bbvw"
      }
    },
    {
      "cell_type": "code",
      "source": [
        "def prime(n):\n",
        "    if n <= 1:\n",
        "        return False\n",
        "    elif n <= 3:\n",
        "        return True\n",
        "    elif n % 2 == 0 or n % 3 == 0:\n",
        "        return False\n",
        "    i = 5\n",
        "    while i * i <= n:\n",
        "        if n % i == 0 or n % (i + 2) == 0:\n",
        "            return False\n",
        "        i += 6\n",
        "    return True\n",
        "prime(7) "
      ],
      "metadata": {
        "colab": {
          "base_uri": "https://localhost:8080/"
        },
        "id": "_WZ2F67SBqZy",
        "outputId": "3ef042aa-ede5-426d-c7a7-96b7cfa1da63"
      },
      "execution_count": null,
      "outputs": [
        {
          "output_type": "execute_result",
          "data": {
            "text/plain": [
              "True"
            ]
          },
          "metadata": {},
          "execution_count": 60
        }
      ]
    },
    {
      "cell_type": "code",
      "source": [
        "prime(56963)"
      ],
      "metadata": {
        "colab": {
          "base_uri": "https://localhost:8080/"
        },
        "id": "8nELRjqmCP-x",
        "outputId": "372d3d03-1fd5-4908-a544-b2097c22f80d"
      },
      "execution_count": null,
      "outputs": [
        {
          "output_type": "execute_result",
          "data": {
            "text/plain": [
              "True"
            ]
          },
          "metadata": {},
          "execution_count": 58
        }
      ]
    },
    {
      "cell_type": "code",
      "source": [
        "prime(5151512515524)"
      ],
      "metadata": {
        "colab": {
          "base_uri": "https://localhost:8080/"
        },
        "id": "fgpuP2oVCbRJ",
        "outputId": "16957ec2-fe15-49f0-d5d3-4fcf90c68d36"
      },
      "execution_count": null,
      "outputs": [
        {
          "output_type": "execute_result",
          "data": {
            "text/plain": [
              "False"
            ]
          },
          "metadata": {},
          "execution_count": 59
        }
      ]
    },
    {
      "cell_type": "markdown",
      "source": [
        "# 5.  Create a function that converts a word to a bitstring and then to a boolean list based on the following criteria:\n",
        "\n",
        "    1. Locate the position of the letter in the English alphabet (from 1 to 26).\n",
        "    2. Odd positions will be represented as 1 and 0 otherwise.\n",
        "    3. Convert the represented positions to boolean values, 1 for True and 0 for False.\n",
        "    4. Store the conversions into an array.\n",
        "\n",
        " Examples\n",
        "\n",
        "to_boolean_list(\"deep\") ➞ [False, True, True, False]\n",
        "# deep converts to 0110\n",
        "# d is the 4th alphabet - 0\n",
        "# e is the 5th alphabet - 1\n",
        "# e is the 5th alphabet - 1\n",
        "# p is the 16th alphabet - 0\n",
        "\n",
        "to_boolean_list(\"loves\") ➞ [False, True, False, True, True]\n",
        "\n",
        "to_boolean_list(\"tesh\") ➞ [False, True, True, False]\n"
      ],
      "metadata": {
        "id": "13lG5W_nuaks"
      }
    },
    {
      "cell_type": "code",
      "source": [
        "def to_boolean_list(word):\n",
        "    alphabet = 'abcdefghijklmnopqrstuvwxyz'\n",
        "    bitstring = ''\n",
        "    for letter in word:\n",
        "        position = alphabet.index(letter) + 1\n",
        "        if position % 2 == 0:\n",
        "            bitstring += '0'\n",
        "        else:\n",
        "            bitstring += '1'\n",
        "    boolean_list = [True if char == '1' else False for char in bitstring]\n",
        "    return boolean_list\n"
      ],
      "metadata": {
        "id": "toS3o7m8u9Pt"
      },
      "execution_count": 1,
      "outputs": []
    },
    {
      "cell_type": "code",
      "source": [
        "to_boolean_list(\"tesh\") \n",
        "\n"
      ],
      "metadata": {
        "colab": {
          "base_uri": "https://localhost:8080/"
        },
        "id": "hq32IQjlvsKN",
        "outputId": "669c42da-d3c8-474c-ecae-57e102ee5b8d"
      },
      "execution_count": 2,
      "outputs": [
        {
          "output_type": "execute_result",
          "data": {
            "text/plain": [
              "[False, True, True, False]"
            ]
          },
          "metadata": {},
          "execution_count": 2
        }
      ]
    },
    {
      "cell_type": "code",
      "source": [
        "to_boolean_lists(\"loves\") "
      ],
      "metadata": {
        "colab": {
          "base_uri": "https://localhost:8080/"
        },
        "id": "ThMvEL80v0ve",
        "outputId": "dc272686-4f71-437c-8ed6-08912f3f31cd"
      },
      "execution_count": 8,
      "outputs": [
        {
          "output_type": "execute_result",
          "data": {
            "text/plain": [
              "[False, True, False, True, True]"
            ]
          },
          "metadata": {},
          "execution_count": 8
        }
      ]
    },
    {
      "cell_type": "code",
      "source": [
        "def to_boolean_lists(word):\n",
        "  alphabet='abcdefghijklmnopqrstuvwxyz'\n",
        "  bistring=''\n",
        "  for letter in word:\n",
        "    position=alphabet.index(letter)+1\n",
        "    if position%2==0:\n",
        "      bistring+='0'\n",
        "    else:\n",
        "      bistring+='1'\n",
        "  boolean_list=[True if char=='1' else False for char in bistring]\n",
        "  return boolean_list\n"
      ],
      "metadata": {
        "id": "h06gCDJVxd5j"
      },
      "execution_count": 7,
      "outputs": []
    },
    {
      "cell_type": "code",
      "source": [
        "def to_boolean_list(word):\n",
        "  alphabet='abcdefghijklmnopqrstuvwxyz'\n",
        "  bistring=''\n",
        "  for letter in word:\n",
        "    position=alphabet.index(letter)+1\n",
        "    if position%2==0:\n",
        "      bistring+='0'\n",
        "    else:\n",
        "      bistring+='1'\n",
        "  boolean_list=[True if char=='1' else False for char in bistring]\n",
        "  return boolean_list\n",
        "to_boolean_list(\"tesh\") "
      ],
      "metadata": {
        "colab": {
          "base_uri": "https://localhost:8080/"
        },
        "id": "NXG4RrHB1lUO",
        "outputId": "4b5cb379-e707-4c7d-dde5-48e609ebd937"
      },
      "execution_count": 10,
      "outputs": [
        {
          "output_type": "execute_result",
          "data": {
            "text/plain": [
              "[False, True, True, False]"
            ]
          },
          "metadata": {},
          "execution_count": 10
        }
      ]
    }
  ]
}