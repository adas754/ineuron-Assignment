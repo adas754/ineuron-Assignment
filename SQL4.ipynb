{
  "nbformat": 4,
  "nbformat_minor": 0,
  "metadata": {
    "colab": {
      "name": "SQL4.ipynb",
      "provenance": []
    },
    "kernelspec": {
      "name": "python3",
      "display_name": "Python 3"
    },
    "language_info": {
      "name": "python"
    }
  },
  "cells": [
    {
      "cell_type": "markdown",
      "source": [
        "Q-1. Write an SQL query to print the FIRST_NAME from Worker table after replacing ‘a’ with ‘A’."
      ],
      "metadata": {
        "id": "QN_jg9wPJc6g"
      }
    },
    {
      "cell_type": "markdown",
      "source": [
        "SELECT REPLACE(FIRST_NAME,'a','A')FROM WORKER;"
      ],
      "metadata": {
        "id": "huTWe9OJJ8UF"
      }
    },
    {
      "cell_type": "markdown",
      "source": [
        "Q-2. Write an SQL query to print all Worker details from the Worker table order by FIRST_NAME Ascending and DEPARTMENT Descending.\n"
      ],
      "metadata": {
        "id": "8dKADGFBKphm"
      }
    },
    {
      "cell_type": "markdown",
      "source": [
        "SELECT FIRST_NAME,DEPARTMENT FROM WORKER ORDER BY FIRST_NAME ASC,DEPARTMENT DESC;"
      ],
      "metadata": {
        "id": "B8aZC_yBKu91"
      }
    },
    {
      "cell_type": "markdown",
      "source": [
        "Q-3. Write an SQL query to fetch the names of workers who earn the highest salary.\n"
      ],
      "metadata": {
        "id": "KcIOmxlgLMwf"
      }
    },
    {
      "cell_type": "code",
      "execution_count": null,
      "metadata": {
        "id": "Frxpff60JZkB"
      },
      "outputs": [],
      "source": [
        "SELECT FIRST_NAME,SALARY FROM WORKER WHERE SALARY=(SELECT MAX (SALARY) FROM WORKER);"
      ]
    }
  ]
}