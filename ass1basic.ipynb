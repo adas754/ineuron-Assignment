{
  "nbformat": 4,
  "nbformat_minor": 0,
  "metadata": {
    "colab": {
      "name": "ass1basic.ipynb",
      "provenance": []
    },
    "kernelspec": {
      "name": "python3",
      "display_name": "Python 3"
    },
    "language_info": {
      "name": "python"
    }
  },
  "cells": [
    {
      "cell_type": "markdown",
      "metadata": {
        "id": "w1l0Pxp8kBke"
      },
      "source": [
        "1. Write a Python program to print \"Hello Python\"?"
      ]
    },
    {
      "cell_type": "code",
      "metadata": {
        "colab": {
          "base_uri": "https://localhost:8080/"
        },
        "id": "SThwGqbDj9B0",
        "outputId": "95b1e831-099f-42ab-a5b6-969db84dc3a6"
      },
      "source": [
        "a=input()#user input"
      ],
      "execution_count": 3,
      "outputs": [
        {
          "name": "stdout",
          "output_type": "stream",
          "text": [
            "Hello Python\n"
          ]
        }
      ]
    },
    {
      "cell_type": "code",
      "metadata": {
        "colab": {
          "base_uri": "https://localhost:8080/"
        },
        "id": "k6BiAjSJkY-u",
        "outputId": "499826f9-580e-4e95-d182-c21cd3dd4350"
      },
      "source": [
        "print(\"Hello Python\")"
      ],
      "execution_count": 2,
      "outputs": [
        {
          "output_type": "stream",
          "name": "stdout",
          "text": [
            "Hello Python\n"
          ]
        }
      ]
    },
    {
      "cell_type": "markdown",
      "metadata": {
        "id": "OYvZcx4qkyjt"
      },
      "source": [
        "2. Write a Python program to do arithmetical operations addition and division.?"
      ]
    },
    {
      "cell_type": "code",
      "metadata": {
        "colab": {
          "base_uri": "https://localhost:8080/"
        },
        "id": "z4xzKV66k44A",
        "outputId": "5dfcc3ed-24c9-432f-8092-af74c998d0db"
      },
      "source": [
        "6+9 #addition\n"
      ],
      "execution_count": 4,
      "outputs": [
        {
          "output_type": "execute_result",
          "data": {
            "text/plain": [
              "15"
            ]
          },
          "metadata": {},
          "execution_count": 4
        }
      ]
    },
    {
      "cell_type": "code",
      "metadata": {
        "colab": {
          "base_uri": "https://localhost:8080/"
        },
        "id": "tax50j5FlAP2",
        "outputId": "c5d3b096-c26a-4b8e-d9f1-cd67899332f3"
      },
      "source": [
        "7/4\n"
      ],
      "execution_count": 5,
      "outputs": [
        {
          "output_type": "execute_result",
          "data": {
            "text/plain": [
              "1.75"
            ]
          },
          "metadata": {},
          "execution_count": 5
        }
      ]
    },
    {
      "cell_type": "code",
      "metadata": {
        "colab": {
          "base_uri": "https://localhost:8080/"
        },
        "id": "Ii78DlqslEDF",
        "outputId": "5722b0cb-4320-4ae9-c0f6-c1a8887b1d52"
      },
      "source": [
        "7//4\n"
      ],
      "execution_count": 6,
      "outputs": [
        {
          "output_type": "execute_result",
          "data": {
            "text/plain": [
              "1"
            ]
          },
          "metadata": {},
          "execution_count": 6
        }
      ]
    },
    {
      "cell_type": "code",
      "metadata": {
        "colab": {
          "base_uri": "https://localhost:8080/"
        },
        "id": "AHFHK9q0lGrE",
        "outputId": "cac9030a-7424-49dd-fb3a-234b0b85dadc"
      },
      "source": [
        "7%4"
      ],
      "execution_count": 7,
      "outputs": [
        {
          "output_type": "execute_result",
          "data": {
            "text/plain": [
              "3"
            ]
          },
          "metadata": {},
          "execution_count": 7
        }
      ]
    },
    {
      "cell_type": "code",
      "metadata": {
        "colab": {
          "base_uri": "https://localhost:8080/"
        },
        "id": "nFg30r6XlLzM",
        "outputId": "b7582b61-beda-44bc-f5cf-151dee3c14ee"
      },
      "source": [
        "a=int(input(\"Enter number:\"))\n",
        "b=int(input(\"Enter number:\"))\n",
        "c=a+b\n",
        "print(\"addition of two number\",c)"
      ],
      "execution_count": 11,
      "outputs": [
        {
          "output_type": "stream",
          "name": "stdout",
          "text": [
            "Enter number:78\n",
            "Enter number:90\n",
            "addition of two number 168\n"
          ]
        }
      ]
    },
    {
      "cell_type": "code",
      "metadata": {
        "colab": {
          "base_uri": "https://localhost:8080/"
        },
        "id": "1kAZvSsTlhw1",
        "outputId": "c691fdf9-2930-4014-d999-6ff83fb43e27"
      },
      "source": [
        "x=int(input(\"Enter number:\"))\n",
        "y=int(input(\"Enter number:\"))\n",
        "z=x/y\n",
        "print(\"Division of two number\",z)"
      ],
      "execution_count": 10,
      "outputs": [
        {
          "output_type": "stream",
          "name": "stdout",
          "text": [
            "Enter number:9\n",
            "Enter number:3\n",
            "Division of two number 3.0\n"
          ]
        }
      ]
    },
    {
      "cell_type": "markdown",
      "metadata": {
        "id": "Ij1NjrcIl-3W"
      },
      "source": [
        "3. Write a Python program to find the area of a triangle?"
      ]
    },
    {
      "cell_type": "code",
      "metadata": {
        "colab": {
          "base_uri": "https://localhost:8080/"
        },
        "id": "XlsDKy9CmDL1",
        "outputId": "0a52be7c-43a6-44a4-bdbc-f93751ef48cc"
      },
      "source": [
        "a = eval(input('Enter first side: '))\n",
        "b = eval(input('Enter second side: '))\n",
        "c = eval(input('Enter third side: '))\n",
        "s = (a + b + c) / 2\n",
        "area = (s*(s-a)*(s-b)*(s-c)) ** 0.5\n",
        "print('The area of the triangle is',area)"
      ],
      "execution_count": 15,
      "outputs": [
        {
          "output_type": "stream",
          "name": "stdout",
          "text": [
            "Enter first side: 8\n",
            "Enter second side: 7.8\n",
            "Enter third side: 9\n",
            "The area of the triangle is 29.21161412863042\n"
          ]
        }
      ]
    },
    {
      "cell_type": "markdown",
      "metadata": {
        "id": "O_0ExaQMnOau"
      },
      "source": [
        "4. Write a Python program to swap two variables?"
      ]
    },
    {
      "cell_type": "code",
      "metadata": {
        "colab": {
          "base_uri": "https://localhost:8080/"
        },
        "id": "c4WlYBD9nSRH",
        "outputId": "ba064a3e-c44a-43a1-c56d-152306582845"
      },
      "source": [
        "x = input('Enter value of x: ')\n",
        "y = input('Enter value of y: ')\n",
        "\n",
        "\n",
        "z = x\n",
        "x = y\n",
        "y = z\n",
        "\n",
        "print('The value of x after swapping: {}'.format(x))\n",
        "print('The value of y after swapping: {}'.format(y))"
      ],
      "execution_count": 16,
      "outputs": [
        {
          "output_type": "stream",
          "name": "stdout",
          "text": [
            "Enter value of x: 9\n",
            "Enter value of y: 6\n",
            "The value of x after swapping: 6\n",
            "The value of y after swapping: 9\n"
          ]
        }
      ]
    },
    {
      "cell_type": "code",
      "metadata": {
        "colab": {
          "base_uri": "https://localhost:8080/"
        },
        "id": "UMZdVPxVnnA1",
        "outputId": "f2b90fa9-6287-4917-c980-4020e79b381f"
      },
      "source": [
        "a=int(input(\"Enter 1st Number=\"))\n",
        "b=int(input(\"Enter 2nd Number=\"))\n",
        "print(\"before swapping:\")\n",
        "print(\"a=\",a,\"b=\",b)\n",
        "a=a+b\n",
        "b=a-b\n",
        "a=a-b\n",
        "print(\"after swapping:\")\n",
        "print(\"a=\",a,\"b=\",b)\n"
      ],
      "execution_count": 22,
      "outputs": [
        {
          "output_type": "stream",
          "name": "stdout",
          "text": [
            "Enter 1st Number=6\n",
            "Enter 2nd Number=9\n",
            "before swapping:\n",
            "a= 6 b= 9\n",
            "after swapping:\n",
            "a= 9 b= 6\n"
          ]
        }
      ]
    },
    {
      "cell_type": "markdown",
      "metadata": {
        "id": "4KQGm-wbvYOP"
      },
      "source": [
        "5. Write a Python program to generate a random number?"
      ]
    },
    {
      "cell_type": "code",
      "metadata": {
        "colab": {
          "base_uri": "https://localhost:8080/"
        },
        "id": "hblIOSBPvdAX",
        "outputId": "120eb0c6-ae4c-48f1-d00d-709e29479082"
      },
      "source": [
        "import random\n",
        "print(random.randint(0,9))\n"
      ],
      "execution_count": 49,
      "outputs": [
        {
          "output_type": "stream",
          "name": "stdout",
          "text": [
            "1\n"
          ]
        }
      ]
    },
    {
      "cell_type": "code",
      "metadata": {
        "colab": {
          "base_uri": "https://localhost:8080/"
        },
        "id": "q8aSZJt9xSXG",
        "outputId": "35bb9978-73f0-48eb-ff9c-c6948bb4e1f5"
      },
      "source": [
        "import random\n",
        "\n",
        "for i in range(10):\n",
        "    print(random.randrange(10))"
      ],
      "execution_count": 50,
      "outputs": [
        {
          "output_type": "stream",
          "name": "stdout",
          "text": [
            "3\n",
            "5\n",
            "7\n",
            "5\n",
            "7\n",
            "9\n",
            "2\n",
            "3\n",
            "2\n",
            "7\n"
          ]
        }
      ]
    }
  ]
}