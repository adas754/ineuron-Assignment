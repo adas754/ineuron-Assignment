{
  "nbformat": 4,
  "nbformat_minor": 0,
  "metadata": {
    "colab": {
      "provenance": []
    },
    "kernelspec": {
      "name": "python3",
      "display_name": "Python 3"
    },
    "language_info": {
      "name": "python"
    }
  },
  "cells": [
    {
      "cell_type": "code",
      "source": [
        "def is_monotonic(arr):\n",
        "  increasing=decresing=True\n",
        "  for i in range(1,len(arr)):\n",
        "    if arr[i]<arr[i-1]:\n",
        "      increasing=False\n",
        "    if arr[i]>arr[i-1]:\n",
        "      decresing=False\n",
        "  return increasing or decresing\n",
        "arr=[1,2,3,4,5]\n",
        "print(is_monotonic(arr))\n",
        "arr = [1, 3, 2, 4, 5]\n",
        "print(is_monotonic(arr))"
      ],
      "metadata": {
        "colab": {
          "base_uri": "https://localhost:8080/"
        },
        "id": "M93-Ogz9xh9O",
        "outputId": "86a8501d-df47-4623-df14-8d0fabe49bb5"
      },
      "execution_count": 5,
      "outputs": [
        {
          "output_type": "stream",
          "name": "stdout",
          "text": [
            "True\n",
            "False\n"
          ]
        }
      ]
    },
    {
      "cell_type": "code",
      "source": [
        "def sum_first_last(arr):\n",
        "  return arr[0]+arr[-1]\n",
        "arr=[10,13,14,9,18]\n",
        "print(f\"The sum of the first and last element of array {arr} is {sum_first_last(arr)}\")"
      ],
      "metadata": {
        "colab": {
          "base_uri": "https://localhost:8080/"
        },
        "id": "ecwOSr2t3K9k",
        "outputId": "bdeccd10-cfe6-4d50-ba0c-447fc17c8967"
      },
      "execution_count": 7,
      "outputs": [
        {
          "output_type": "stream",
          "name": "stdout",
          "text": [
            "The sum of the first and last element of array [10, 13, 14, 9, 18] is 28\n"
          ]
        }
      ]
    },
    {
      "cell_type": "code",
      "source": [
        "def reverseOfArray():\n",
        "  in_arr=eval(input(\"Enter the array :\"))\n",
        "  print(f\"The reverse of array {in_arr} is {in_arr[::-1]}\")\n",
        "reverseOfArray()"
      ],
      "metadata": {
        "colab": {
          "base_uri": "https://localhost:8080/"
        },
        "id": "fldjIDQmAlI1",
        "outputId": "104d45dd-c06e-4605-ba93-8e0163eed401"
      },
      "execution_count": 11,
      "outputs": [
        {
          "output_type": "stream",
          "name": "stdout",
          "text": [
            "Enter the array :6,8,9,0\n",
            "The reverse of array (6, 8, 9, 0) is (0, 9, 8, 6)\n"
          ]
        }
      ]
    },
    {
      "cell_type": "code",
      "source": [
        "def largestElement():\n",
        "  in_arr=eval(input(\"Enter the array \"))\n",
        "  print(f\"The largest element in {in_arr} is {sorted(in_arr,reverse=True)[0]}\")\n",
        "largestElement()"
      ],
      "metadata": {
        "colab": {
          "base_uri": "https://localhost:8080/"
        },
        "id": "Nt8wxtXFDLqL",
        "outputId": "b1d14be2-ca4e-4866-9a0e-ac2cac1adab4"
      },
      "execution_count": 14,
      "outputs": [
        {
          "output_type": "stream",
          "name": "stdout",
          "text": [
            "Enter the array 6,7,8,9\n",
            "The largest element in (6, 7, 8, 9) is 9\n"
          ]
        }
      ]
    },
    {
      "cell_type": "code",
      "source": [
        "def array_sum(arr):\n",
        "  sum=0\n",
        "  for i in arr:\n",
        "    sum=sum+i\n",
        "  return sum\n",
        "my_arr=[1,2,3,4,5]\n",
        "print(\"The sum of array is \" ,array_sum(my_arr))"
      ],
      "metadata": {
        "colab": {
          "base_uri": "https://localhost:8080/"
        },
        "id": "O6cokPYlHUJy",
        "outputId": "75900cc9-de46-45ea-ee3d-513ec34a0a39"
      },
      "execution_count": 17,
      "outputs": [
        {
          "output_type": "stream",
          "name": "stdout",
          "text": [
            "The sum of array is  15\n"
          ]
        }
      ]
    }
  ]
}