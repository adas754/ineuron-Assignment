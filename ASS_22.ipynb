{
  "nbformat": 4,
  "nbformat_minor": 0,
  "metadata": {
    "colab": {
      "provenance": []
    },
    "kernelspec": {
      "name": "python3",
      "display_name": "Python 3"
    },
    "language_info": {
      "name": "python"
    }
  },
  "cells": [
    {
      "cell_type": "code",
      "execution_count": 2,
      "metadata": {
        "colab": {
          "base_uri": "https://localhost:8080/"
        },
        "id": "pNGzaFh0jMSV",
        "outputId": "86a05142-a1a0-4543-a93d-24a88c49d92d"
      },
      "outputs": [
        {
          "output_type": "stream",
          "name": "stdout",
          "text": [
            "output : ->[3, 6, 9]\n",
            "output : ->[8]\n",
            "output : ->[]\n"
          ]
        }
      ],
      "source": [
        "def list_operation(start,end,divisor):\n",
        "    out_list=[]\n",
        "    for ele in range(start,end+1):\n",
        "      if ele%divisor==0:\n",
        "        out_list.append(ele)\n",
        "    print(f'output : ->{out_list}')\n",
        "list_operation(1,10,3)\n",
        "list_operation(7, 9, 2)\n",
        "list_operation(15, 20, 7)"
      ]
    },
    {
      "cell_type": "code",
      "source": [
        "def simon_says(in_list_1,in_list_2):\n",
        "    if len(in_list_1)==len(in_list_1) and len(in_list_1)>=2 and len(in_list_1)>=2:\n",
        "      if (in_list_1[:-1]==in_list_2[1:]):\n",
        "        print(f'{in_list_1,in_list_2}->{True}')\n",
        "      else:\n",
        "        print(f'{in_list_1,in_list_2}->{False}')\n",
        "simon_says([1, 2], [5, 1])\n",
        "simon_says([1, 2], [5, 5])\n",
        "simon_says([1, 2, 3, 4, 5], [0, 1, 2, 3, 4])\n",
        "simon_says([1, 2, 3, 4, 5], [5, 5, 1, 2, 3])"
      ],
      "metadata": {
        "colab": {
          "base_uri": "https://localhost:8080/"
        },
        "id": "x89X4U86oHRd",
        "outputId": "69ab99a2-6550-452c-9295-ecad60ce0a28"
      },
      "execution_count": 4,
      "outputs": [
        {
          "output_type": "stream",
          "name": "stdout",
          "text": [
            "([1, 2], [5, 1])->True\n",
            "([1, 2], [5, 5])->False\n",
            "([1, 2, 3, 4, 5], [0, 1, 2, 3, 4])->True\n",
            "([1, 2, 3, 4, 5], [5, 5, 1, 2, 3])->False\n"
          ]
        }
      ]
    },
    {
      "cell_type": "code",
      "source": [
        "def society_name(in_list):\n",
        "    out_string = []\n",
        "    for ele in in_list:\n",
        "        out_string.append(ele[0])\n",
        "    output = ''.join(sorted(out_string))\n",
        "    print(f'{in_list} ➞ {output}')\n",
        "society_name([\"Adam\", \"Sarah\", \"Malcolm\"])\n",
        "society_name([\"Harry\", \"Newt\", \"Luna\", \"Cho\"])\n",
        "society_name([\"Phoebe\", \"Chandler\", \"Rachel\", \"Ross\", \"Monica\", \"Joey\"])"
      ],
      "metadata": {
        "colab": {
          "base_uri": "https://localhost:8080/"
        },
        "id": "GHhtCL0b58mc",
        "outputId": "570666be-ab5b-491f-9595-f07ab3c544b5"
      },
      "execution_count": 8,
      "outputs": [
        {
          "output_type": "stream",
          "name": "stdout",
          "text": [
            "['Adam', 'Sarah', 'Malcolm'] ➞ AMS\n",
            "['Harry', 'Newt', 'Luna', 'Cho'] ➞ CHLN\n",
            "['Phoebe', 'Chandler', 'Rachel', 'Ross', 'Monica', 'Joey'] ➞ CJMPRR\n"
          ]
        }
      ]
    },
    {
      "cell_type": "code",
      "source": [
        "def is_isanogram(in_string):\n",
        "  lower_in_string=in_string.lower()\n",
        "  if len(lower_in_string)==len(set(lower_in_string)):\n",
        "    print(f'{in_string}->{True}')\n",
        "  else:\n",
        "    print(f'{in_string}->{False}')\n",
        "   \n",
        "is_isanogram(\"Algorism\")\n",
        "is_isanogram(\"PasSword\")\n",
        "is_isanogram(\"Consecutive\")\n"
      ],
      "metadata": {
        "colab": {
          "base_uri": "https://localhost:8080/"
        },
        "id": "OJcq4N-o8Ycq",
        "outputId": "eaa0f2ed-c2e1-4bea-e8e9-fc98f441afd0"
      },
      "execution_count": 9,
      "outputs": [
        {
          "output_type": "stream",
          "name": "stdout",
          "text": [
            "Algorism->True\n",
            "PasSword->False\n",
            "Consecutive->False\n"
          ]
        }
      ]
    },
    {
      "cell_type": "code",
      "source": [
        "def is_in_order(in_string):\n",
        "    in_string_sorted=''.join(sorted(in_string))\n",
        "    if in_string==in_string_sorted:\n",
        "      print(f'{in_string}->{True}')\n",
        "    else:\n",
        "      print(f'{in_string}->{False}')\n",
        "\n",
        "is_in_order(\"abc\")\n",
        "is_in_order(\"edabit\")\n",
        "is_in_order(\"123\")\n",
        "is_in_order(\"xyzz\")"
      ],
      "metadata": {
        "colab": {
          "base_uri": "https://localhost:8080/"
        },
        "id": "reA8PZUg94B8",
        "outputId": "d5e762bf-5307-46d2-98fe-63ffb8cee701"
      },
      "execution_count": 11,
      "outputs": [
        {
          "output_type": "stream",
          "name": "stdout",
          "text": [
            "abc->True\n",
            "edabit->False\n",
            "123->True\n",
            "xyzz->True\n"
          ]
        }
      ]
    }
  ]
}