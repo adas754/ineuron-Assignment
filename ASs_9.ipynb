{
  "nbformat": 4,
  "nbformat_minor": 0,
  "metadata": {
    "colab": {
      "provenance": []
    },
    "kernelspec": {
      "name": "python3",
      "display_name": "Python 3"
    },
    "language_info": {
      "name": "python"
    }
  },
  "cells": [
    {
      "cell_type": "markdown",
      "source": [
        "# Write a Python Program to check if the given number is a Disarium Number "
      ],
      "metadata": {
        "id": "vcw93XpIlF9c"
      }
    },
    {
      "cell_type": "code",
      "source": [
        "def checkDisariumNumber():\n",
        "  in_num=input(\"Enter a number :\")\n",
        "  sum=0\n",
        "  for item in range(len(in_num)):\n",
        "    sum=sum+int(in_num[item])**(item+1)\n",
        "  if sum==int(in_num):\n",
        "    print(f'{in_num} is a Disarium number')\n",
        "  else:\n",
        "    print(f\"{in_num} is not Disarium number\")\n",
        "checkDisariumNumber()\n",
        "checkDisariumNumber()"
      ],
      "metadata": {
        "colab": {
          "base_uri": "https://localhost:8080/"
        },
        "id": "tmA7_CzPjwlA",
        "outputId": "6c792dfa-ebb3-439b-fe9a-d068b95bec66"
      },
      "execution_count": null,
      "outputs": [
        {
          "output_type": "stream",
          "name": "stdout",
          "text": [
            "Enter a number :89\n",
            "89 is a Disarium number\n",
            "Enter a number :100\n",
            "100 is not Disarium number\n"
          ]
        }
      ]
    },
    {
      "cell_type": "markdown",
      "source": [
        "# Write a Python Program to print all Disarium numbers between 1 to 100 "
      ],
      "metadata": {
        "id": "eK2CqMn7rq4p"
      }
    },
    {
      "cell_type": "code",
      "source": [
        "def printDisariumNumbers(start=0,end=100):\n",
        "  output_num=[]\n",
        "  for number in range(start,end+1):\n",
        "    sum=0\n",
        "    for item in range(len(str(number))):\n",
        "      sum=sum+int(str(number)[item])**(item+1)\n",
        "    if sum==number:\n",
        "      output_num.append(number)\n",
        "  return output_num\n",
        "printDisariumNumbers(1,1000)"
      ],
      "metadata": {
        "colab": {
          "base_uri": "https://localhost:8080/"
        },
        "id": "sY6HOI9fqYqp",
        "outputId": "24a2b6a7-653e-4212-9fd8-306bd1bccb2c"
      },
      "execution_count": null,
      "outputs": [
        {
          "output_type": "execute_result",
          "data": {
            "text/plain": [
              "[1, 2, 3, 4, 5, 6, 7, 8, 9, 89, 135, 175, 518, 598]"
            ]
          },
          "metadata": {},
          "execution_count": 13
        }
      ]
    },
    {
      "cell_type": "markdown",
      "source": [
        "# Write a Python program to check if the given number is Happy Number"
      ],
      "metadata": {
        "id": "otZ66FgdOQFt"
      }
    },
    {
      "cell_type": "code",
      "source": [
        "\n",
        "def is_happy_number(number):\n",
        "  seen_numbers=set()\n",
        "  while True:\n",
        "    digit_sum=sum(int(digit)**2 for digit in str(number))\n",
        "    if digit_sum==1:\n",
        "      return True\n",
        "    elif digit_sum in seen_numbers:\n",
        "      return False\n",
        "    else:\n",
        "      seen_numbers.add(digit_sum)\n",
        "      number=digit_sum\n",
        "number=int(input())\n",
        "if is_happy_number(number):\n",
        "  print(f'{number} is happy number')\n",
        "else:\n",
        "  print(f\"{number} is not happy number\")"
      ],
      "metadata": {
        "colab": {
          "base_uri": "https://localhost:8080/"
        },
        "id": "MdYbazfKJaUv",
        "outputId": "788f2014-0403-42a7-f8c5-d6fb50b09841"
      },
      "execution_count": 28,
      "outputs": [
        {
          "output_type": "stream",
          "name": "stdout",
          "text": [
            "19\n",
            "19 is happy number\n"
          ]
        }
      ]
    },
    {
      "cell_type": "markdown",
      "source": [
        "# Write a Python program to print all happy numbers between 1 and 100"
      ],
      "metadata": {
        "id": "d3GbJ7vbRB3c"
      }
    },
    {
      "cell_type": "code",
      "source": [
        "def is_happy_number(num):\n",
        "  past=set()\n",
        "  while num!=1:\n",
        "    num=sum(int(i)**2 for i in str(num))\n",
        "    if num in past:\n",
        "      return False\n",
        "    past.add(num)\n",
        "  return True\n",
        "for i in range(1,100):\n",
        "  if is_happy_number(i):\n",
        "    print(i,end=\" \")"
      ],
      "metadata": {
        "colab": {
          "base_uri": "https://localhost:8080/"
        },
        "id": "03lSdfexOcpD",
        "outputId": "60d2d2d7-a05b-4656-922b-fec3c53e171b"
      },
      "execution_count": 30,
      "outputs": [
        {
          "output_type": "stream",
          "name": "stdout",
          "text": [
            "1 7 10 13 19 23 28 31 32 44 49 68 70 79 82 86 91 94 97 "
          ]
        }
      ]
    },
    {
      "cell_type": "markdown",
      "source": [
        "# Write a Python program to \n",
        "# determine whether the given number is a Harshad Number"
      ],
      "metadata": {
        "id": "pi4GedG8Xg_A"
      }
    },
    {
      "cell_type": "code",
      "source": [
        "def check_h():\n",
        "  in_num=input(\"Enter a number :\")\n",
        "  sum=0\n",
        "  for item in range(len(in_num)):\n",
        "    sum=sum+int(in_num[item])\n",
        "  if int(in_num)%sum==0:\n",
        "    print(f'{in_num} is a Harshad Number')\n",
        "  else:\n",
        "    print(f\"{in_num} is not Harshad number\")\n",
        "check_h()"
      ],
      "metadata": {
        "colab": {
          "base_uri": "https://localhost:8080/"
        },
        "id": "UHBKhwcgWj04",
        "outputId": "0724c398-4d63-4b55-e201-9638a4423d45"
      },
      "execution_count": 37,
      "outputs": [
        {
          "output_type": "stream",
          "name": "stdout",
          "text": [
            "Enter a number :18\n",
            "18 is a Harshad Number\n"
          ]
        }
      ]
    },
    {
      "cell_type": "markdown",
      "source": [
        "# Write a Python program to print all pronic numbers between 1 and 100"
      ],
      "metadata": {
        "id": "8abP526MYwsY"
      }
    },
    {
      "cell_type": "code",
      "source": [
        "def printpronic(start=0,end=100):\n",
        "  outputList=[]\n",
        "  for ele in range(start,end+1):\n",
        "    outputList.append((ele)*(ele+1))\n",
        "  print(outputList)\n",
        "printpronic()\n"
      ],
      "metadata": {
        "colab": {
          "base_uri": "https://localhost:8080/"
        },
        "id": "e2jOsepSYyyT",
        "outputId": "b09141ff-f9db-454e-81b6-9e89a6b75bb7"
      },
      "execution_count": 42,
      "outputs": [
        {
          "output_type": "stream",
          "name": "stdout",
          "text": [
            "[0, 2, 6, 12, 20, 30, 42, 56, 72, 90, 110, 132, 156, 182, 210, 240, 272, 306, 342, 380, 420, 462, 506, 552, 600, 650, 702, 756, 812, 870, 930, 992, 1056, 1122, 1190, 1260, 1332, 1406, 1482, 1560, 1640, 1722, 1806, 1892, 1980, 2070, 2162, 2256, 2352, 2450, 2550, 2652, 2756, 2862, 2970, 3080, 3192, 3306, 3422, 3540, 3660, 3782, 3906, 4032, 4160, 4290, 4422, 4556, 4692, 4830, 4970, 5112, 5256, 5402, 5550, 5700, 5852, 6006, 6162, 6320, 6480, 6642, 6806, 6972, 7140, 7310, 7482, 7656, 7832, 8010, 8190, 8372, 8556, 8742, 8930, 9120, 9312, 9506, 9702, 9900, 10100]\n"
          ]
        }
      ]
    }
  ]
}