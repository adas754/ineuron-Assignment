{
  "nbformat": 4,
  "nbformat_minor": 0,
  "metadata": {
    "colab": {
      "provenance": []
    },
    "kernelspec": {
      "name": "python3",
      "display_name": "Python 3"
    },
    "language_info": {
      "name": "python"
    }
  },
  "cells": [
    {
      "cell_type": "markdown",
      "source": [
        "1. Rondo Form is a type of musical structure, in which there is a recurring theme/refrain, notated as A. Here are the rules for valid rondo forms:\n",
        "\n",
        "   - Rondo forms always start and end with an A section.\n",
        "   - In between the A sections, there should be contrasting sections notated as B, then C, then D, etc... No letter should be skipped.\n",
        "   - There shouldn't be any repeats in the sequence (such as ABBACCA).\n",
        "\n",
        "Create a function which validates whether a given string is a valid Rondo Form.\n",
        "\n",
        "Examples\n",
        "\n",
        "valid_rondo(\"ABACADAEAFAGAHAIAJA\") ➞ True\n",
        "\n",
        "valid_rondo(\"ABA\") ➞ True\n",
        "\n",
        "valid_rondo(\"ABBACCA\") ➞ False\n",
        "\n",
        "valid_rondo(\"ACAC\") ➞ False\n",
        "\n",
        "valid_rondo(\"A\") ➞ False\n"
      ],
      "metadata": {
        "id": "YyK9c-t6WDqN"
      }
    },
    {
      "cell_type": "code",
      "source": [
        "def valid_rondo(in_string):\n",
        "  in_string_x=in_string.replace('A','')\n",
        "  in_string_x=list(in_string_x)\n",
        "  output=False\n",
        "  if len(in_string_x)==1:\n",
        "    output=True\n",
        "  else:\n",
        "    for ele in range(len(in_string_x)-1):\n",
        "      if ord(in_string_x[ele]) < ord(in_string_x[ele+1]):\n",
        "          output=True\n",
        "      else:\n",
        "        output=False\n",
        "        break\n",
        "  print(f'valid_rondo({in_string})->{output}')"
      ],
      "metadata": {
        "id": "qssLKKi7jLVv"
      },
      "execution_count": 7,
      "outputs": []
    },
    {
      "cell_type": "code",
      "source": [
        "   \n",
        "valid_rondo(\"ABACADAEAFAGAHAIAJA\")\n",
        "valid_rondo(\"ABA\")\n",
        "valid_rondo(\"ABBACCA\")\n",
        "valid_rondo(\"ACAC\")\n",
        "valid_rondo(\"A\")"
      ],
      "metadata": {
        "colab": {
          "base_uri": "https://localhost:8080/"
        },
        "id": "148HUTbKnDfP",
        "outputId": "1d12af74-0535-4632-d8be-7d0b6862a95e"
      },
      "execution_count": 9,
      "outputs": [
        {
          "output_type": "stream",
          "name": "stdout",
          "text": [
            "valid_rondo(ABACADAEAFAGAHAIAJA)->True\n",
            "valid_rondo(ABA)->True\n",
            "valid_rondo(ABBACCA)->False\n",
            "valid_rondo(ACAC)->False\n",
            "valid_rondo(A)->False\n"
          ]
        }
      ]
    },
    {
      "cell_type": "markdown",
      "source": [
        "2. Create a function that returns the whole of the first sentence which contains a specific word. Include the full stop at the end of the sentence.\n",
        "\n",
        "Examples\n",
        "\n",
        "txt = \"I have a cat. I have a mat. Things are going swell.\"\n",
        "\n",
        "sentence_searcher(txt, \"have\") ➞ \"I have a cat.\"\n",
        "\n",
        "sentence_searcher(txt, \"MAT\") ➞ \"I have a mat.\"\n",
        "\n",
        "sentence_searcher(txt, \"things\") ➞ \"Things are going swell.\"\n",
        "\n",
        "sentence_searcher(txt, \"flat\") ➞ \"\"\n"
      ],
      "metadata": {
        "id": "2TLVmmLvnUgf"
      }
    },
    {
      "cell_type": "code",
      "source": [
        "def sentence_searcher(txt,word):\n",
        "  sentences=txt.split('.')\n",
        "  for sentence in sentences:\n",
        "    if word.lower() in sentence.lower():\n",
        "      return sentence+'.'\n",
        "  return ''\n",
        "\n",
        "txt = \"I have a cat. I have a mat. Things are going swell.\"\n",
        "sentence_searcher(txt, \"have\")"
      ],
      "metadata": {
        "colab": {
          "base_uri": "https://localhost:8080/",
          "height": 35
        },
        "id": "FyiWXxn2r09c",
        "outputId": "79b3b162-c7b2-445a-9bfb-146d2443543f"
      },
      "execution_count": 15,
      "outputs": [
        {
          "output_type": "execute_result",
          "data": {
            "text/plain": [
              "'I have a cat.'"
            ],
            "application/vnd.google.colaboratory.intrinsic+json": {
              "type": "string"
            }
          },
          "metadata": {},
          "execution_count": 15
        }
      ]
    },
    {
      "cell_type": "code",
      "source": [
        "sentence_searcher(txt, \"MAT\") "
      ],
      "metadata": {
        "colab": {
          "base_uri": "https://localhost:8080/",
          "height": 35
        },
        "id": "yOpxmdjVr_B9",
        "outputId": "761889fa-2d54-46f0-9ae6-31d81adbf8fc"
      },
      "execution_count": 16,
      "outputs": [
        {
          "output_type": "execute_result",
          "data": {
            "text/plain": [
              "' I have a mat.'"
            ],
            "application/vnd.google.colaboratory.intrinsic+json": {
              "type": "string"
            }
          },
          "metadata": {},
          "execution_count": 16
        }
      ]
    },
    {
      "cell_type": "code",
      "source": [
        "sentence_searcher(txt, \"things\")"
      ],
      "metadata": {
        "colab": {
          "base_uri": "https://localhost:8080/",
          "height": 35
        },
        "id": "-G0WqYrfsCnq",
        "outputId": "fbd02836-8a62-4c62-dcf1-d15ddfa32bbc"
      },
      "execution_count": 17,
      "outputs": [
        {
          "output_type": "execute_result",
          "data": {
            "text/plain": [
              "' Things are going swell.'"
            ],
            "application/vnd.google.colaboratory.intrinsic+json": {
              "type": "string"
            }
          },
          "metadata": {},
          "execution_count": 17
        }
      ]
    },
    {
      "cell_type": "code",
      "source": [
        "sentence_searcher(txt, \"flat\") "
      ],
      "metadata": {
        "colab": {
          "base_uri": "https://localhost:8080/",
          "height": 35
        },
        "id": "Eoaw3OVOsHlL",
        "outputId": "dc4a1b84-8766-4fde-f4f3-b409f4481e23"
      },
      "execution_count": 18,
      "outputs": [
        {
          "output_type": "execute_result",
          "data": {
            "text/plain": [
              "''"
            ],
            "application/vnd.google.colaboratory.intrinsic+json": {
              "type": "string"
            }
          },
          "metadata": {},
          "execution_count": 18
        }
      ]
    },
    {
      "cell_type": "markdown",
      "source": [
        "3. Given a number, find the \"round \"of each digit of the number. An integer is called \"round\" if all its digits except the leftmost (most significant) are equal to zero.\n",
        "\n",
        "    - Round numbers: 4000, 1, 9, 800, 90\n",
        "    - Not round numbers: 110, 707, 222, 1001\n",
        "\n",
        "Create a function that takes a number and returns the \"round\" of each digit (except if the digit is zero) as a string. Check out the following examples for more clarification.\n",
        "\n",
        "Examples\n",
        "\n",
        "sum_round(101) ➞ \"1 100\"\n",
        "\n",
        "sum_round(1234) ➞ \"4 30 200 1000\"\n",
        "\n",
        "sum_round(54210) ➞ \"10 200 4000 50000\"\n"
      ],
      "metadata": {
        "id": "rqNVci5Uu0xX"
      }
    },
    {
      "cell_type": "code",
      "source": [
        "def sum_round(in_num):\n",
        "  output=[]\n",
        "  in_num=str(in_num)\n",
        "  for ele in range(len(in_num)):\n",
        "    if in_num[ele]!='0':\n",
        "      output.append(in_num[ele]+len(in_num[ele+1:])*'0')\n",
        "  print(f'sum_round({in_num})->{\" \".join(output[::-1])}')\n",
        "  #print(f'sum_round({in_num}) ➞ {\" \".join(output[::-1])}')\n",
        "sum_round(101) \n",
        "\n",
        "sum_round(1234) \n",
        "\n",
        "sum_round(54210)"
      ],
      "metadata": {
        "colab": {
          "base_uri": "https://localhost:8080/"
        },
        "id": "MAxHOrNIvJ4w",
        "outputId": "0ef48057-7c64-4eee-9978-ef9c4af5c345"
      },
      "execution_count": 21,
      "outputs": [
        {
          "output_type": "stream",
          "name": "stdout",
          "text": [
            "sum_round(101)->1 100\n",
            "sum_round(1234)->4 30 200 1000\n",
            "sum_round(54210)->10 200 4000 50000\n"
          ]
        }
      ]
    },
    {
      "cell_type": "markdown",
      "source": [
        "# 4. Your task, is to create N x N multiplication table, of size n provided in parameter.\n",
        "\n",
        "For example, when n is 5, the multiplication table is:\n",
        "\n",
        "   - 1, 2, 3, 4, 5\n",
        "   - 2, 4, 6, 8, 10\n",
        "   - 3, 6, 9, 12, 15\n",
        "   - 4, 8, 12, 16, 20\n",
        "   - 5, 10, 15, 20, 25\n",
        "\n",
        "This example will result in:\n",
        "\n",
        "[[1, 2, 3, 4, 5], [2, 4, 6, 8, 10], [3, 6, 9, 12, 15], [4, 8, 12, 16, 20], [5, 10, 15, 20, 25]]\n",
        "\n",
        "Examples\n",
        "\n",
        "multiplication_table(1) ➞ [[1]]\n",
        "\n",
        "multiplication_table(3) ➞ [[1, 2, 3], [2, 4, 6], [3, 6, 9]]\n"
      ],
      "metadata": {
        "id": "4dqpSBI60muH"
      }
    },
    {
      "cell_type": "code",
      "source": [
        "def multiplication_table(in_num):\n",
        "    out_list =[]\n",
        "    for a in range(1,in_num+1):\n",
        "        temp_list = []\n",
        "        for b in range(1,in_num+1):\n",
        "            temp_list.append(a*b)\n",
        "        out_list.append(temp_list)\n",
        "    print(f'multiplication_table({in_num}) ➞ {out_list}')\n"
      ],
      "metadata": {
        "id": "j4kqCAJi0oNY"
      },
      "execution_count": 24,
      "outputs": []
    },
    {
      "cell_type": "code",
      "source": [
        "multiplication_table(1) \n",
        "\n",
        "multiplication_table(3) "
      ],
      "metadata": {
        "colab": {
          "base_uri": "https://localhost:8080/"
        },
        "id": "KIdknOlJ3V0t",
        "outputId": "9eb98f4a-f3a2-4285-dfc4-997e3cbdda61"
      },
      "execution_count": 25,
      "outputs": [
        {
          "output_type": "stream",
          "name": "stdout",
          "text": [
            "multiplication_table(1) ➞ [[1]]\n",
            "multiplication_table(3) ➞ [[1, 2, 3], [2, 4, 6], [3, 6, 9]]\n"
          ]
        }
      ]
    },
    {
      "cell_type": "markdown",
      "source": [
        "# 5. Create a function that returns True if two lines rhyme and False otherwise. For the purposes of this exercise, two lines rhyme if the last word from each sentence contains the same vowels.\n",
        "\n",
        "Examples\n",
        "\n",
        "does_rhyme(\"Sam I am!\", \"Green eggs and ham.\") ➞ True\n",
        "\n",
        "does_rhyme(\"Sam I am!\", \"Green eggs and HAM.\") ➞ True\n",
        "# Capitalization and punctuation should not matter.\n",
        "\n",
        "does_rhyme(\"You are off to the races\", \"a splendid day.\") ➞ False\n",
        "\n",
        "does_rhyme(\"and frequently do?\", \"you gotta move.\") ➞ False\n"
      ],
      "metadata": {
        "id": "AM1AB-CL3rd4"
      }
    },
    {
      "cell_type": "code",
      "source": [
        "def does_rhyme(in_one,in_two):\n",
        "    vowels = 'aeiou'\n",
        "    output= False\n",
        "    in_one_rhyme = [x.lower() for x in in_one.split(\" \")[-1] if x.lower() in vowels]\n",
        "    in_two_rhyme = [x.lower() for x in in_two.split(\" \")[-1] if x.lower() in vowels]\n",
        "    if in_one_rhyme == in_two_rhyme:\n",
        "        output = True\n",
        "    print(f'does_rhyme{in_one,in_two} ➞ {output}')\n",
        "    \n",
        "does_rhyme(\"Sam I am!\", \"Green eggs and ham.\")\n",
        "does_rhyme(\"Sam I am!\", \"Green eggs and HAM.\")\n",
        "does_rhyme(\"You are off to the races\", \"a splendid day.\")\n",
        "does_rhyme(\"and frequently do?\", \"you gotta move.\")"
      ],
      "metadata": {
        "colab": {
          "base_uri": "https://localhost:8080/"
        },
        "id": "WTFaDTco4S2P",
        "outputId": "f9c14080-06b9-42ae-e57c-701a20ea5c46"
      },
      "execution_count": 30,
      "outputs": [
        {
          "output_type": "stream",
          "name": "stdout",
          "text": [
            "does_rhyme('Sam I am!', 'Green eggs and ham.') ➞ True\n",
            "does_rhyme('Sam I am!', 'Green eggs and HAM.') ➞ True\n",
            "does_rhyme('You are off to the races', 'a splendid day.') ➞ False\n",
            "does_rhyme('and frequently do?', 'you gotta move.') ➞ False\n"
          ]
        }
      ]
    }
  ]
}