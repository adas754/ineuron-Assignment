{
  "nbformat": 4,
  "nbformat_minor": 0,
  "metadata": {
    "colab": {
      "name": "SQL8.ipynb",
      "provenance": []
    },
    "kernelspec": {
      "name": "python3",
      "display_name": "Python 3"
    },
    "language_info": {
      "name": "python"
    }
  },
  "cells": [
    {
      "cell_type": "markdown",
      "source": [
        "Q-15. Write an SQL query to fetch intersecting records of two tables.\n",
        "\n",
        "Q-16. Write an SQL query to show records from one table that another table does not have.\n"
      ],
      "metadata": {
        "id": "DKcSVw0XFBgW"
      }
    },
    {
      "cell_type": "markdown",
      "source": [
        "SELECT * FROM WORKER INTERSECT SELECT * FROM WORKERCLONE"
      ],
      "metadata": {
        "id": "ANcaj8SqFVHF"
      }
    },
    {
      "cell_type": "markdown",
      "source": [
        "SELECT * FROM table_1 EXCEPT SELECT * FROM table_2;"
      ],
      "metadata": {
        "id": "7oiCN8bfFuCu"
      }
    },
    {
      "cell_type": "code",
      "execution_count": null,
      "metadata": {
        "id": "xy2NpAhhE97L"
      },
      "outputs": [],
      "source": [
        ""
      ]
    }
  ]
}