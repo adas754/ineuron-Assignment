{
  "nbformat": 4,
  "nbformat_minor": 0,
  "metadata": {
    "colab": {
      "name": "Programming_Assingment21.ipynb",
      "provenance": []
    },
    "kernelspec": {
      "name": "python3",
      "display_name": "Python 3"
    },
    "language_info": {
      "name": "python"
    }
  },
  "cells": [
    {
      "cell_type": "markdown",
      "source": [
        "Question1\n",
        "\n",
        "Write a function that takes a list and a number as arguments. Add the number to the end of the list, then remove the first element of the list. The function should then return the updated list.\n",
        "\n",
        "Examples\n",
        "\n",
        "next_in_line([5, 6, 7, 8, 9], 1) ➞ [6, 7, 8, 9, 1]\n",
        "\n",
        "\n",
        "next_in_line([7, 6, 3, 23, 17], 10) ➞ [6, 3, 23, 17, 10]\n",
        "\n",
        "\n",
        "next_in_line([1, 10, 20, 42 ], 6) ➞ [10, 20, 42, 6]\n",
        "\n",
        "\n",
        "next_in_line([], 6) ➞ \"No list has been selected\"\n",
        "\n"
      ],
      "metadata": {
        "id": "5w-G-PRaVmK7"
      }
    },
    {
      "cell_type": "code",
      "execution_count": 24,
      "metadata": {
        "id": "rzPTwZSkTCTF"
      },
      "outputs": [],
      "source": [
        "def next_in_line(l,n):\n",
        "    if len(l)>1:\n",
        "        l.append(n)\n",
        "        l.remove(l[0])\n",
        "        print(l)\n",
        "    else:\n",
        "        return(\"No list has been selected\")\n",
        "    "
      ]
    },
    {
      "cell_type": "code",
      "source": [
        "next_in_line([5, 6, 7, 8, 9], 1) \n",
        "\n",
        "\n",
        "\n"
      ],
      "metadata": {
        "colab": {
          "base_uri": "https://localhost:8080/"
        },
        "id": "yD_V8236Uz_i",
        "outputId": "f8893c1f-4a14-4bc1-9243-842924a46da2"
      },
      "execution_count": 25,
      "outputs": [
        {
          "output_type": "stream",
          "name": "stdout",
          "text": [
            "[6, 7, 8, 9, 1]\n"
          ]
        }
      ]
    },
    {
      "cell_type": "code",
      "source": [
        "next_in_line([7, 6, 3, 23, 17], 10) \n",
        "\n",
        "\n"
      ],
      "metadata": {
        "colab": {
          "base_uri": "https://localhost:8080/"
        },
        "id": "ypOvpvqaVIVN",
        "outputId": "ad9b0d39-764c-4982-9ef4-0b7695797fb2"
      },
      "execution_count": 26,
      "outputs": [
        {
          "output_type": "stream",
          "name": "stdout",
          "text": [
            "[6, 3, 23, 17, 10]\n"
          ]
        }
      ]
    },
    {
      "cell_type": "code",
      "source": [
        "next_in_line([1, 10, 20, 42 ], 6)\n"
      ],
      "metadata": {
        "colab": {
          "base_uri": "https://localhost:8080/"
        },
        "id": "eH2eR-4sV42U",
        "outputId": "8fc0cf54-608a-4acf-b58c-9dcd03b8af6c"
      },
      "execution_count": 27,
      "outputs": [
        {
          "output_type": "stream",
          "name": "stdout",
          "text": [
            "[10, 20, 42, 6]\n"
          ]
        }
      ]
    },
    {
      "cell_type": "code",
      "source": [
        "\n",
        "next_in_line([], 6)"
      ],
      "metadata": {
        "colab": {
          "base_uri": "https://localhost:8080/",
          "height": 35
        },
        "id": "HzPEEerQV_W7",
        "outputId": "1094837b-88b0-4c49-e65a-4d0bcc45be86"
      },
      "execution_count": 29,
      "outputs": [
        {
          "output_type": "execute_result",
          "data": {
            "application/vnd.google.colaboratory.intrinsic+json": {
              "type": "string"
            },
            "text/plain": [
              "'No list has been selected'"
            ]
          },
          "metadata": {},
          "execution_count": 29
        }
      ]
    },
    {
      "cell_type": "markdown",
      "source": [
        "Question2\n",
        "Create the function that takes a list of dictionaries and returns the sum of people's budgets.\n",
        "\n",
        "Examples\n",
        "\n",
        "get_budgets([\n",
        "  { \"name\": \"John\", \"age\": 21, \"budget\": 23000 },\n",
        "\n",
        "  { \"name\": \"Steve\",  \"age\": 32, \"budget\": 40000 },\n",
        "\n",
        "  { \"name\": \"Martin\",  \"age\": 16, \"budget\": 2700 }\n",
        "\n",
        "]) ➞ 65700\n",
        "\n",
        "\n",
        "\n",
        "\n",
        "get_budgets([\n",
        "\n",
        "  { \"name\": \"John\",  \"age\": 21, \"budget\": 29000 },\n",
        "\n",
        "  { \"name\": \"Steve\",  \"age\": 32, \"budget\": 32000 },\n",
        "\n",
        "  { \"name\": \"Martin\",  \"age\": 16, \"budget\": 1600 }\n",
        "\n",
        "]) ➞ 62600\n",
        "\n",
        "\n",
        "\n"
      ],
      "metadata": {
        "id": "69pYlIDLXkdY"
      }
    },
    {
      "cell_type": "code",
      "source": [
        "def get_budgets(l):\n",
        "    budget = 0\n",
        "    for i in l:\n",
        "        for key,value in i.items():\n",
        "            if key==\"budget\":\n",
        "                budget+=value\n",
        "    return budget"
      ],
      "metadata": {
        "id": "arsUtEJLWq8d"
      },
      "execution_count": 30,
      "outputs": []
    },
    {
      "cell_type": "code",
      "source": [
        "get_budgets([ { \"name\": \"John\", \"age\": 21, \"budget\": 23000 },\n",
        "\n",
        "{ \"name\": \"Steve\", \"age\": 32, \"budget\": 40000 },\n",
        "\n",
        "{ \"name\": \"Martin\", \"age\": 16, \"budget\": 2700 }])"
      ],
      "metadata": {
        "colab": {
          "base_uri": "https://localhost:8080/"
        },
        "id": "kjqkgaMrYj5X",
        "outputId": "63b10708-80bf-439b-c223-f45f3a5c57f4"
      },
      "execution_count": 32,
      "outputs": [
        {
          "output_type": "execute_result",
          "data": {
            "text/plain": [
              "65700"
            ]
          },
          "metadata": {},
          "execution_count": 32
        }
      ]
    },
    {
      "cell_type": "code",
      "source": [
        "get_budgets([\n",
        "\n",
        "{ \"name\": \"John\", \"age\": 21, \"budget\": 29000 },\n",
        "\n",
        "{ \"name\": \"Steve\", \"age\": 32, \"budget\": 32000 },\n",
        "\n",
        "{ \"name\": \"Martin\", \"age\": 16, \"budget\": 1600 }\n",
        "\n",
        "]) "
      ],
      "metadata": {
        "colab": {
          "base_uri": "https://localhost:8080/"
        },
        "id": "QjD98beQYyVi",
        "outputId": "3f788855-95f6-4268-cb2a-8538732f7af9"
      },
      "execution_count": 33,
      "outputs": [
        {
          "output_type": "execute_result",
          "data": {
            "text/plain": [
              "62600"
            ]
          },
          "metadata": {},
          "execution_count": 33
        }
      ]
    },
    {
      "cell_type": "markdown",
      "source": [
        "Question3\n",
        "\n",
        "Create a function that takes a string and returns a string with its letters in alphabetical order.\n",
        "\n",
        "Examples\n",
        "alphabet_soup(\"hello\") ➞ \"ehllo\"\n",
        "\n",
        "\n",
        "alphabet_soup(\"edabit\") ➞ \"abdeit\"\n",
        "\n",
        "\n",
        "alphabet_soup(\"hacker\") ➞ \"acehkr\"\n",
        "\n",
        "\n",
        "alphabet_soup(\"geek\") ➞ \"eegk\"\n",
        "\n",
        "\n",
        "alphabet_soup(\"javascript\") ➞ \"aacijprstv\"\n",
        "\n"
      ],
      "metadata": {
        "id": "CMJqIFxcZACL"
      }
    },
    {
      "cell_type": "code",
      "source": [
        "def alphabet_soup(string):\n",
        "    return ''.join(sorted(string))"
      ],
      "metadata": {
        "id": "chP4EFRLZSCh"
      },
      "execution_count": 34,
      "outputs": []
    },
    {
      "cell_type": "code",
      "source": [
        "alphabet_soup(\"edabit\"),alphabet_soup(\"hacker\"),alphabet_soup(\"geek\"),alphabet_soup(\"javascript\") "
      ],
      "metadata": {
        "colab": {
          "base_uri": "https://localhost:8080/"
        },
        "id": "GNi-cEj_aE5q",
        "outputId": "50d35409-c696-4e85-ba49-3926c25425b3"
      },
      "execution_count": 36,
      "outputs": [
        {
          "output_type": "execute_result",
          "data": {
            "text/plain": [
              "('abdeit', 'acehkr', 'eegk', 'aacijprstv')"
            ]
          },
          "metadata": {},
          "execution_count": 36
        }
      ]
    },
    {
      "cell_type": "markdown",
      "source": [
        "Question4\n",
        "\n",
        "Suppose that you invest $10,000 for 10 years at an interest rate of 6% compounded monthly. What will be the value of your investment at the end of the 10 year period?\n",
        "\n",
        "Create a function that accepts the principal p, the term in years t, the interest rate r, and the number of compounding periods per year n. The function returns the value at the end of term rounded to the nearest cent.\n",
        "For the example above:\n",
        "\n",
        "compound_interest(10000, 10, 0.06, 12) ➞ 18193.97\n",
        "\n",
        "Note that the interest rate is given as a decimal and n=12 because with monthly compounding there are 12 periods per year. Compounding can also be done annually, quarterly, weekly, or daily.\n",
        "\n",
        "Examples\n",
        "\n",
        "compound_interest(100, 1, 0.05, 1) ➞ 105.0\n",
        "\n",
        "\n",
        "compound_interest(3500, 15, 0.1, 4) ➞ 15399.26\n",
        "\n",
        "\n",
        "compound_interest(100000, 20, 0.15, 365) ➞ 2007316.26\n",
        "\n",
        "\n"
      ],
      "metadata": {
        "id": "yqVJynZfaiSa"
      }
    },
    {
      "cell_type": "code",
      "source": [
        "def compound_interest(p,t,r,n):\n",
        "    ci=p*(1+r/n)**(n*t)\n",
        "    return round(ci,2)"
      ],
      "metadata": {
        "id": "1Cv_BHz4a3Zs"
      },
      "execution_count": 41,
      "outputs": []
    },
    {
      "cell_type": "code",
      "source": [
        "compound_interest(100, 1, 0.05, 1),compound_interest(3500, 15, 0.1, 4),compound_interest(100000, 20, 0.15, 365)"
      ],
      "metadata": {
        "colab": {
          "base_uri": "https://localhost:8080/"
        },
        "id": "NEHZ4UICcGAk",
        "outputId": "c515ff55-6574-4165-a454-ad07620b3b97"
      },
      "execution_count": 43,
      "outputs": [
        {
          "output_type": "execute_result",
          "data": {
            "text/plain": [
              "(105.0, 15399.26, 2007316.26)"
            ]
          },
          "metadata": {},
          "execution_count": 43
        }
      ]
    },
    {
      "cell_type": "markdown",
      "source": [
        "Question5\n",
        "\n",
        "Write a function that takes a list of elements and returns only the integers.\n",
        "\n",
        "Examples\n",
        "\n",
        "return_only_integer([9, 2, \"space\", \"car\", \"lion\", 16]) ➞ [9, 2, 16]\n",
        "\n",
        "\n",
        "return_only_integer([\"hello\", 81, \"basketball\", 123, \"fox\"]) ➞ [81, 123]\n",
        "\n",
        "\n",
        "\n",
        "return_only_integer([10, \"121\", 56, 20, \"car\", 3, \"lion\"]) ➞ [10, 56, 20, 3]\n",
        "\n",
        "\n",
        "return_only_integer([\"String\",  True,  3.3,  1]) ➞ [1]\n",
        "\n",
        "\n"
      ],
      "metadata": {
        "id": "i_4aXu5-cnZH"
      }
    },
    {
      "cell_type": "code",
      "source": [
        "def return_only_integer(l):\n",
        "    l1=[]\n",
        "    for i in l:\n",
        "        if type(i)==int:\n",
        "           l1.append(i)\n",
        "    return l1"
      ],
      "metadata": {
        "id": "lT0gswPvc2YV"
      },
      "execution_count": 46,
      "outputs": []
    },
    {
      "cell_type": "code",
      "source": [
        "return_only_integer([9, 2, \"space\", \"car\", \"lion\", 16]),return_only_integer([\"hello\", 81, \"basketball\", 123, \"fox\"]),return_only_integer([10, \"121\", 56, 20, \"car\", 3, \"lion\"]),return_only_integer([\"String\", True, 3.3, 1])"
      ],
      "metadata": {
        "colab": {
          "base_uri": "https://localhost:8080/"
        },
        "id": "dtZ3_eHYdeg2",
        "outputId": "c28ab42e-29f6-4a57-d8dc-316e5ca1ce62"
      },
      "execution_count": 47,
      "outputs": [
        {
          "output_type": "execute_result",
          "data": {
            "text/plain": [
              "([9, 2, 16], [81, 123], [10, 56, 20, 3], [1])"
            ]
          },
          "metadata": {},
          "execution_count": 47
        }
      ]
    }
  ]
}