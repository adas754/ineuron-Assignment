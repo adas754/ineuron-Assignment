{
  "nbformat": 4,
  "nbformat_minor": 0,
  "metadata": {
    "colab": {
      "name": "python basic ass5.ipynb",
      "provenance": []
    },
    "kernelspec": {
      "name": "python3",
      "display_name": "Python 3"
    },
    "language_info": {
      "name": "python"
    }
  },
  "cells": [
    {
      "cell_type": "markdown",
      "source": [
        "1. What does an empty dictionary&#39;s code look like?"
      ],
      "metadata": {
        "id": "CJWAk7elIgqO"
      }
    },
    {
      "cell_type": "code",
      "execution_count": 3,
      "metadata": {
        "id": "MJFJwpiVIfnc"
      },
      "outputs": [],
      "source": [
        "d1={} #empty dictionary"
      ]
    },
    {
      "cell_type": "code",
      "source": [
        "type(d1)"
      ],
      "metadata": {
        "colab": {
          "base_uri": "https://localhost:8080/"
        },
        "id": "zX94rozvIrS2",
        "outputId": "f95fd55f-45a6-4fee-8ae4-fdf244e828b1"
      },
      "execution_count": 4,
      "outputs": [
        {
          "output_type": "execute_result",
          "data": {
            "text/plain": [
              "dict"
            ]
          },
          "metadata": {},
          "execution_count": 4
        }
      ]
    },
    {
      "cell_type": "markdown",
      "source": [
        "2. What is the value of a dictionary value with the key &#39;foo&#39; and the value 42?"
      ],
      "metadata": {
        "id": "jt7jFarYI4js"
      }
    },
    {
      "cell_type": "code",
      "source": [
        "d1={'foo':42}"
      ],
      "metadata": {
        "id": "lfrWZl6fJCeV"
      },
      "execution_count": 16,
      "outputs": []
    },
    {
      "cell_type": "code",
      "source": [
        "d1.keys()"
      ],
      "metadata": {
        "colab": {
          "base_uri": "https://localhost:8080/"
        },
        "id": "ttiRBnzpJsZt",
        "outputId": "0f905a2f-4346-4458-ab32-1832bac3dea4"
      },
      "execution_count": 19,
      "outputs": [
        {
          "output_type": "execute_result",
          "data": {
            "text/plain": [
              "dict_keys(['foo'])"
            ]
          },
          "metadata": {},
          "execution_count": 19
        }
      ]
    },
    {
      "cell_type": "code",
      "source": [
        "d1.values()"
      ],
      "metadata": {
        "colab": {
          "base_uri": "https://localhost:8080/"
        },
        "id": "lAsajcSpJw2X",
        "outputId": "3a5ce3a1-081b-4b96-ce99-165aae4b3b78"
      },
      "execution_count": 20,
      "outputs": [
        {
          "output_type": "execute_result",
          "data": {
            "text/plain": [
              "dict_values([42])"
            ]
          },
          "metadata": {},
          "execution_count": 20
        }
      ]
    },
    {
      "cell_type": "markdown",
      "source": [
        "3. What is the most significant distinction between a dictionary and a list?"
      ],
      "metadata": {
        "id": "3VSpGEyZM1al"
      }
    },
    {
      "cell_type": "markdown",
      "source": [
        "list item is orderd \n",
        "item in dictionary is unorderd"
      ],
      "metadata": {
        "id": "3lgbqxCXM5K9"
      }
    },
    {
      "cell_type": "markdown",
      "source": [
        "4. What happens if you try to access spam[&#39;foo&#39;] if spam is {&#39;bar&#39;: 100}?"
      ],
      "metadata": {
        "id": "T7E9eCanLMOy"
      }
    },
    {
      "cell_type": "code",
      "source": [
        "spam={'bar':100} #get keyerror"
      ],
      "metadata": {
        "id": "7nH8Tjp0LteR"
      },
      "execution_count": 22,
      "outputs": []
    },
    {
      "cell_type": "code",
      "source": [
        "spam['foo']"
      ],
      "metadata": {
        "colab": {
          "base_uri": "https://localhost:8080/",
          "height": 171
        },
        "id": "LpyzmgW8MVVz",
        "outputId": "472feb40-6720-4516-9508-dfd65b19a5d3"
      },
      "execution_count": 25,
      "outputs": [
        {
          "output_type": "error",
          "ename": "KeyError",
          "evalue": "ignored",
          "traceback": [
            "\u001b[0;31m---------------------------------------------------------------------------\u001b[0m",
            "\u001b[0;31mKeyError\u001b[0m                                  Traceback (most recent call last)",
            "\u001b[0;32m<ipython-input-25-9b5a94d1de8d>\u001b[0m in \u001b[0;36m<module>\u001b[0;34m()\u001b[0m\n\u001b[0;32m----> 1\u001b[0;31m \u001b[0mspam\u001b[0m\u001b[0;34m[\u001b[0m\u001b[0;34m'foo'\u001b[0m\u001b[0;34m]\u001b[0m\u001b[0;34m\u001b[0m\u001b[0;34m\u001b[0m\u001b[0m\n\u001b[0m",
            "\u001b[0;31mKeyError\u001b[0m: 'foo'"
          ]
        }
      ]
    },
    {
      "cell_type": "markdown",
      "source": [
        "5. If a dictionary is stored in spam, what is the difference between the expressions &#39;cat&#39; in spam and\n",
        "&#39;cat&#39; in spam.keys()?"
      ],
      "metadata": {
        "id": "fW8Vn8dZNKt0"
      }
    },
    {
      "cell_type": "code",
      "source": [
        "spam={'cat':100}"
      ],
      "metadata": {
        "id": "s0WntSSvNPCH"
      },
      "execution_count": 26,
      "outputs": []
    },
    {
      "cell_type": "code",
      "source": [
        "'cat' in spam"
      ],
      "metadata": {
        "colab": {
          "base_uri": "https://localhost:8080/"
        },
        "id": "7FYpV_91Nt6m",
        "outputId": "b74ef14a-45f5-4248-caf0-845a0f2ac1cb"
      },
      "execution_count": 27,
      "outputs": [
        {
          "output_type": "execute_result",
          "data": {
            "text/plain": [
              "True"
            ]
          },
          "metadata": {},
          "execution_count": 27
        }
      ]
    },
    {
      "cell_type": "code",
      "source": [
        "'cat' in spam.keys()"
      ],
      "metadata": {
        "colab": {
          "base_uri": "https://localhost:8080/"
        },
        "id": "JPxxBvxpN2Y2",
        "outputId": "3463cc6e-d5b8-420e-97f0-3e17723886c3"
      },
      "execution_count": 28,
      "outputs": [
        {
          "output_type": "execute_result",
          "data": {
            "text/plain": [
              "True"
            ]
          },
          "metadata": {},
          "execution_count": 28
        }
      ]
    },
    {
      "cell_type": "markdown",
      "source": [
        "no difference both the cases its returns true"
      ],
      "metadata": {
        "id": "3o_1Jx5uN94-"
      }
    },
    {
      "cell_type": "markdown",
      "source": [
        "6. If a dictionary is stored in spam, what is the difference between the expressions &#39;cat&#39; in spam and\n",
        "&#39;cat&#39; in spam.values()?"
      ],
      "metadata": {
        "id": "P9UWHSsBODJn"
      }
    },
    {
      "cell_type": "code",
      "source": [
        "spam={'cat':100}"
      ],
      "metadata": {
        "id": "sPFK9S0fOLAw"
      },
      "execution_count": 30,
      "outputs": []
    },
    {
      "cell_type": "code",
      "source": [
        "'cat' in spam #it basically check cat object is in spam or not"
      ],
      "metadata": {
        "colab": {
          "base_uri": "https://localhost:8080/"
        },
        "id": "taYuvCvnOf9f",
        "outputId": "4988e2ca-31e1-47b2-aa17-9a7d7016aa8d"
      },
      "execution_count": 37,
      "outputs": [
        {
          "output_type": "execute_result",
          "data": {
            "text/plain": [
              "True"
            ]
          },
          "metadata": {},
          "execution_count": 37
        }
      ]
    },
    {
      "cell_type": "code",
      "source": [
        "'cat' in spam.values() #it basically indicate value i.e 100"
      ],
      "metadata": {
        "colab": {
          "base_uri": "https://localhost:8080/"
        },
        "id": "9rFzCEqeOkJ4",
        "outputId": "560681ab-3c3b-4727-a790-58c0428a4d0e"
      },
      "execution_count": 33,
      "outputs": [
        {
          "output_type": "execute_result",
          "data": {
            "text/plain": [
              "False"
            ]
          },
          "metadata": {},
          "execution_count": 33
        }
      ]
    },
    {
      "cell_type": "code",
      "source": [
        "spam.values()"
      ],
      "metadata": {
        "colab": {
          "base_uri": "https://localhost:8080/"
        },
        "id": "2WWx5mUhOvkg",
        "outputId": "e876ce1d-11dd-465a-bfe4-0e8787c8e8c8"
      },
      "execution_count": 36,
      "outputs": [
        {
          "output_type": "execute_result",
          "data": {
            "text/plain": [
              "dict_values([100])"
            ]
          },
          "metadata": {},
          "execution_count": 36
        }
      ]
    },
    {
      "cell_type": "markdown",
      "source": [
        "7. What is a shortcut for the following code?\n",
        "if &#39;color&#39; not in spam:\n",
        "spam[&#39;color&#39;] = &#39;black&#39;"
      ],
      "metadata": {
        "id": "OUNYS_ifO_mJ"
      }
    },
    {
      "cell_type": "code",
      "source": [
        "spam"
      ],
      "metadata": {
        "colab": {
          "base_uri": "https://localhost:8080/"
        },
        "id": "Fh3tvOZaPFXg",
        "outputId": "cbd9f669-bbb9-4df4-cb22-0f6d88ff4c25"
      },
      "execution_count": 38,
      "outputs": [
        {
          "output_type": "execute_result",
          "data": {
            "text/plain": [
              "{'cat': 100}"
            ]
          },
          "metadata": {},
          "execution_count": 38
        }
      ]
    },
    {
      "cell_type": "code",
      "source": [
        " if 'color' not in spam:\n",
        "   spam['color']='black'"
      ],
      "metadata": {
        "id": "FKFU4-aaP6-y"
      },
      "execution_count": 41,
      "outputs": []
    },
    {
      "cell_type": "code",
      "source": [
        "spam"
      ],
      "metadata": {
        "colab": {
          "base_uri": "https://localhost:8080/"
        },
        "id": "ND1glVjnQThC",
        "outputId": "16b122a8-e92a-4441-daf5-82c498616872"
      },
      "execution_count": 42,
      "outputs": [
        {
          "output_type": "execute_result",
          "data": {
            "text/plain": [
              "{'cat': 100, 'color': 'black'}"
            ]
          },
          "metadata": {},
          "execution_count": 42
        }
      ]
    },
    {
      "cell_type": "code",
      "source": [
        "spam1={'cat':900}"
      ],
      "metadata": {
        "id": "hlpIt4lDQp7r"
      },
      "execution_count": 49,
      "outputs": []
    },
    {
      "cell_type": "code",
      "source": [
        "#shortcut of following code\n",
        "spam1.setdefault('color','black')"
      ],
      "metadata": {
        "colab": {
          "base_uri": "https://localhost:8080/",
          "height": 36
        },
        "id": "uqHefK5mQVq9",
        "outputId": "47cb76b2-f6b9-4c6a-931f-1442ee21f165"
      },
      "execution_count": 50,
      "outputs": [
        {
          "output_type": "execute_result",
          "data": {
            "text/plain": [
              "'black'"
            ],
            "application/vnd.google.colaboratory.intrinsic+json": {
              "type": "string"
            }
          },
          "metadata": {},
          "execution_count": 50
        }
      ]
    },
    {
      "cell_type": "code",
      "source": [
        "spam1"
      ],
      "metadata": {
        "colab": {
          "base_uri": "https://localhost:8080/"
        },
        "id": "Gg1koridQmZL",
        "outputId": "f59fc820-5124-41e7-c356-bb513ef73791"
      },
      "execution_count": 51,
      "outputs": [
        {
          "output_type": "execute_result",
          "data": {
            "text/plain": [
              "{'cat': 900, 'color': 'black'}"
            ]
          },
          "metadata": {},
          "execution_count": 51
        }
      ]
    },
    {
      "cell_type": "markdown",
      "source": [
        "8. How do you &quot;pretty print&quot; dictionary values using which module and function?"
      ],
      "metadata": {
        "id": "NGIYoVnbQ_us"
      }
    },
    {
      "cell_type": "code",
      "source": [
        "d= [ {'Name': 'S', 'Age': '23', 'Country': 'India'},\n",
        "  {'Name': 'A', 'Age': '44', 'Country': 'China'},\n",
        "  {'Name': 'J', 'Age': '29', 'Country': 'UK'},\n",
        "  {'Name': 'G', 'Age': '35', 'Country': 'USA'}\n",
        "]"
      ],
      "metadata": {
        "id": "bPEogN2LRHSE"
      },
      "execution_count": 52,
      "outputs": []
    },
    {
      "cell_type": "code",
      "source": [
        "import pprint"
      ],
      "metadata": {
        "id": "TwQFxZFGRq6v"
      },
      "execution_count": 53,
      "outputs": []
    },
    {
      "cell_type": "code",
      "source": [
        "pprint.pprint(d)"
      ],
      "metadata": {
        "colab": {
          "base_uri": "https://localhost:8080/"
        },
        "id": "vYYHZzkIR4ZV",
        "outputId": "1f340bec-3241-44ed-c2db-18e8fb30917b"
      },
      "execution_count": 54,
      "outputs": [
        {
          "output_type": "stream",
          "name": "stdout",
          "text": [
            "[{'Age': '23', 'Country': 'India', 'Name': 'S'},\n",
            " {'Age': '44', 'Country': 'China', 'Name': 'A'},\n",
            " {'Age': '29', 'Country': 'UK', 'Name': 'J'},\n",
            " {'Age': '35', 'Country': 'USA', 'Name': 'G'}]\n"
          ]
        }
      ]
    },
    {
      "cell_type": "code",
      "source": [
        "import json\n",
        "dump = json.dumps(d,indent=3)\n",
        "print(dump)"
      ],
      "metadata": {
        "colab": {
          "base_uri": "https://localhost:8080/"
        },
        "id": "kBhqb2eSR9MV",
        "outputId": "e4652ea3-bc99-4d6e-b00d-84651c13ab3f"
      },
      "execution_count": 60,
      "outputs": [
        {
          "output_type": "stream",
          "name": "stdout",
          "text": [
            "[\n",
            "   {\n",
            "      \"Name\": \"S\",\n",
            "      \"Age\": \"23\",\n",
            "      \"Country\": \"India\"\n",
            "   },\n",
            "   {\n",
            "      \"Name\": \"A\",\n",
            "      \"Age\": \"44\",\n",
            "      \"Country\": \"China\"\n",
            "   },\n",
            "   {\n",
            "      \"Name\": \"J\",\n",
            "      \"Age\": \"29\",\n",
            "      \"Country\": \"UK\"\n",
            "   },\n",
            "   {\n",
            "      \"Name\": \"G\",\n",
            "      \"Age\": \"35\",\n",
            "      \"Country\": \"USA\"\n",
            "   }\n",
            "]\n"
          ]
        }
      ]
    },
    {
      "cell_type": "code",
      "source": [
        "import yaml\n",
        "dump = yaml.dump(d)\n",
        "print( dump)"
      ],
      "metadata": {
        "colab": {
          "base_uri": "https://localhost:8080/"
        },
        "id": "Kq66cWRISTuB",
        "outputId": "25a106b9-3c26-4dc8-ee7a-0297ddf753aa"
      },
      "execution_count": 61,
      "outputs": [
        {
          "output_type": "stream",
          "name": "stdout",
          "text": [
            "- {Age: '23', Country: India, Name: S}\n",
            "- {Age: '44', Country: China, Name: A}\n",
            "- {Age: '29', Country: UK, Name: J}\n",
            "- {Age: '35', Country: USA, Name: G}\n",
            "\n"
          ]
        }
      ]
    }
  ]
}