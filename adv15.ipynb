{
  "nbformat": 4,
  "nbformat_minor": 0,
  "metadata": {
    "colab": {
      "provenance": []
    },
    "kernelspec": {
      "name": "python3",
      "display_name": "Python 3"
    },
    "language_info": {
      "name": "python"
    }
  },
  "cells": [
    {
      "cell_type": "markdown",
      "source": [
        "# 1. Write a function that returns True if a given name can generate an array of words.\n",
        "\n",
        "Examples\n",
        "\n",
        "anagram(\"Justin Bieber\", [\"injures\", \"ebb\", \"it\"]) ➞ True\n",
        "\n",
        "anagram(\"Natalie Portman\", [\"ornamental\", \"pita\"]) ➞ True\n",
        "\n",
        "anagram(\"Chris Pratt\", [\"chirps\", \"rat\"]) ➞ False\n",
        "# Not all letters are used\n",
        "\n",
        "anagram(\"Jeff Goldblum\", [\"jog\", \"meld\", \"bluffs\"]) ➞ False\n",
        "# \"s\" does not exist in the original name\n"
      ],
      "metadata": {
        "id": "ByFxd-10UAkf"
      }
    },
    {
      "cell_type": "code",
      "source": [
        "def anagram(in_string,in_list):\n",
        "  in_string_list=list(in_string.lower())\n",
        "  in_string_list.remove(' ')\n",
        "  not_exist_list=[]\n",
        "  output=False\n",
        "  for item in in_list:\n",
        "    for ele in item:\n",
        "      if ele in in_string_list:\n",
        "        in_string_list.remove(ele)\n",
        "      else:\n",
        "        not_exist_list.append(ele)\n",
        "    if len(in_string_list)==0 and len(not_exist_list)==0:\n",
        "      output=True\n",
        "  print(f'anagram{in_string,in_list}->{output}')\n",
        "anagram(\"Justin Bieber\", [\"injures\", \"ebb\", \"it\"])\n",
        "anagram(\"Natalie Portman\", [\"ornamental\", \"pita\"])\n",
        "anagram(\"Chris Pratt\", [\"chirps\", \"rat\"])\n",
        "anagram(\"Jeff Goldblum\", [\"jog\", \"meld\", \"bluffs\"])"
      ],
      "metadata": {
        "colab": {
          "base_uri": "https://localhost:8080/"
        },
        "id": "RZmGEqufqqzx",
        "outputId": "188645d8-4ee6-4ac2-d178-f7bbddd6f9e0"
      },
      "execution_count": null,
      "outputs": [
        {
          "output_type": "stream",
          "name": "stdout",
          "text": [
            "anagram('Justin Bieber', ['injures', 'ebb', 'it'])->True\n",
            "anagram('Natalie Portman', ['ornamental', 'pita'])->True\n",
            "anagram('Chris Pratt', ['chirps', 'rat'])->False\n",
            "anagram('Jeff Goldblum', ['jog', 'meld', 'bluffs'])->False\n"
          ]
        }
      ]
    },
    {
      "cell_type": "markdown",
      "source": [
        "# 2. Given an array of users, each defined by an object with the following properties: name, score, reputation create a function that sorts the array to form the correct leaderboard.\n",
        "\n",
        "The leaderboard takes into consideration the score of each user of course, but an emphasis is put on their reputation in the community, so to get the trueScore, you should add the reputation multiplied by 2 to the score.\n",
        "\n",
        "Once you know the trueScore of each user, sort the array according to it in descending order.\n",
        "\n",
        "Examples\n",
        "\n",
        "leaderboards([\n",
        "  { \"name\": \"a\", \"score\": 100, \"reputation\": 20 },\n",
        "  { \"name\": \"b\", \"score\": 90, \"reputation\": 40 },\n",
        "  { \"name\": \"c\", \"score\": 115, \"reputation\": 30 },\n",
        "]) ➞ [\n",
        "  { \"name\": \"c\", \"score\": 115, \"reputation\": 30 },  # trueScore = 175\n",
        "  { \"name\": \"b\", \"score\": 90, \"reputation\": 40 },   # trueScore = 170\n",
        "  { \"name\": \"a\", \"score\": 100, \"reputation\": 20 }   # trueScore = 140\n",
        "]\n",
        "\n"
      ],
      "metadata": {
        "id": "IqtoyPxCs1f6"
      }
    },
    {
      "cell_type": "code",
      "source": [
        "def leaderboards(in_list):\n",
        "    temp_dict = {}\n",
        "    out_list = []\n",
        "    for ele in in_list:\n",
        "        temp_dict[(ele['reputation']*2)+ele['score']] = ele\n",
        "    for ele in sorted(temp_dict.keys(),reverse=True):\n",
        "        out_list.append(temp_dict[ele])\n",
        "    print(f'leaderboards({in_list}) ➞ {out_list}')\n",
        "    \n",
        "leaderboards([\n",
        "  { \"name\": \"a\", \"score\": 100, \"reputation\": 20 },\n",
        "  { \"name\": \"b\", \"score\": 90, \"reputation\": 40 },\n",
        "  { \"name\": \"c\", \"score\": 115, \"reputation\": 30 },\n",
        "])"
      ],
      "metadata": {
        "colab": {
          "base_uri": "https://localhost:8080/"
        },
        "id": "QlMM5abRwvOL",
        "outputId": "a9fb8616-52e6-4391-ff2d-e3dce03c4f8d"
      },
      "execution_count": null,
      "outputs": [
        {
          "output_type": "stream",
          "name": "stdout",
          "text": [
            "leaderboards([{'name': 'a', 'score': 100, 'reputation': 20}, {'name': 'b', 'score': 90, 'reputation': 40}, {'name': 'c', 'score': 115, 'reputation': 30}]) ➞ [{'name': 'c', 'score': 115, 'reputation': 30}, {'name': 'b', 'score': 90, 'reputation': 40}, {'name': 'a', 'score': 100, 'reputation': 20}]\n"
          ]
        }
      ]
    },
    {
      "cell_type": "markdown",
      "source": [
        "# 3. Create a function that, given a phrase and a number of letters guessed, returns a string with hyphens - for every letter of the phrase not guessed, and each letter guessed in place.\n",
        "\n",
        "Examples\n",
        "\n",
        "hangman(\"helicopter\", [\"o\", \"e\", \"s\"]) ➞ \"-e---o--e-\"\n",
        "\n",
        "hangman(\"tree\", [\"r\", \"t\", \"e\"]) ➞ \"tree\"\n",
        "\n",
        "hangman(\"Python rules\", [\"a\", \"n\", \"p\", \"r\", \"z\"]) ➞ \"P----n r----\"\n",
        "\n",
        "hangman(\"He\"s a very naughty boy!\", [\"e\", \"a\", \"y\"]) ➞ \"-e\"- a -e-y -a----y –y!\"\n"
      ],
      "metadata": {
        "id": "bpaRqrOow24t"
      }
    },
    {
      "cell_type": "code",
      "source": [
        "def hangman(in_string,in_list):\n",
        "  out_string=''\n",
        "  for ele in range(len(in_string)):\n",
        "    if in_string[ele].lower() in in_list:\n",
        "      out_string+=in_string[ele]\n",
        "    elif in_string[ele] in '\"! ' :\n",
        "      out_string+=in_string[ele]\n",
        "    else:\n",
        "      out_string+='-'\n",
        "  print(f'hangman{in_string,in_list}->{out_string}')"
      ],
      "metadata": {
        "id": "FEXkUIrGDVz1"
      },
      "execution_count": null,
      "outputs": []
    },
    {
      "cell_type": "code",
      "source": [
        "hangman(\"helicopter\", [\"o\", \"e\", \"s\"]) \n",
        "\n",
        "hangman(\"tree\", [\"r\", \"t\", \"e\"]) \n",
        "\n",
        "hangman(\"Python rules\", [\"a\", \"n\", \"p\", \"r\", \"z\"])\n",
        "\n",
        "#hangman(\"He\"s a very naughty boy!\", [\"e\", \"a\", \"y\"]) \n",
        "hangman(\"He\\\"s a very naughty boy!\", [\"e\", \"a\", \"y\"])"
      ],
      "metadata": {
        "colab": {
          "base_uri": "https://localhost:8080/"
        },
        "id": "a8ikblcDH46W",
        "outputId": "6c311397-6881-48b7-e112-43b5bef811c6"
      },
      "execution_count": null,
      "outputs": [
        {
          "output_type": "stream",
          "name": "stdout",
          "text": [
            "hangman('helicopter', ['o', 'e', 's'])->-e---o--e-\n",
            "hangman('tree', ['r', 't', 'e'])->tree\n",
            "hangman('Python rules', ['a', 'n', 'p', 'r', 'z'])->P----n r----\n",
            "hangman('He\"s a very naughty boy!', ['e', 'a', 'y'])->-e\"- a -e-y -a----y --y!\n"
          ]
        }
      ]
    },
    {
      "cell_type": "markdown",
      "source": [
        "# 4. The Collatz sequence is as follows:\n",
        "\n",
        "  - Start with some given integer n.\n",
        "  - If it is even, the next number will be n divided by 2.\n",
        "  - If it is odd, multiply it by 3 and add 1 to make the next number.\n",
        "  - The sequence stops when it reaches 1.\n",
        "\n",
        "According to the Collatz conjecture, it will always reach 1. If that's true, you can construct a finite sequence following the aforementioned method for any given integer.\n",
        "\n",
        "Write a function that takes in an integer n and returns the highest integer in the corresponding Collatz sequence.\n",
        "\n",
        "Examples\n",
        "\n",
        "max_collatz(10) ➞ 16\n",
        "# Collatz sequence: 10, 5, 16, 8, 4, 2, 1\n",
        "\n",
        "max_collatz(32) ➞ 32\n",
        "# Collatz sequence: 32, 16, 8, 4, 2, 1\n",
        "\n",
        "max_collatz(85) ➞ 256\n",
        "# Collatz sequence: 85, 256, 128, 64, 32, 16, 8, 4, 2, 1\n",
        "\n"
      ],
      "metadata": {
        "id": "7RdYb5-dJgUv"
      }
    },
    {
      "cell_type": "code",
      "source": [
        "def max_collatz(in_num):\n",
        "  out_list=[]\n",
        "  out_list.append(in_num)\n",
        "  temp_in_num=in_num\n",
        "  while True:\n",
        "    if temp_in_num%2==0:\n",
        "      temp_in_num/=2\n",
        "    else:\n",
        "      temp_in_num=(temp_in_num*3)+1\n",
        "      out_list.append(int(temp_in_num))\n",
        "    if temp_in_num==1:\n",
        "      break\n",
        "  x=str(out_list)\n",
        "  print(f'max_colltaz({in_num})->{max(out_list)}')\n",
        "max_collatz(10) \n",
        "# Collatz sequence: 10, 5, 16, 8, 4, 2, 1\n",
        "\n",
        "max_collatz(32) \n",
        "# Collatz sequence: 32, 16, 8, 4, 2, 1\n",
        "\n",
        "max_collatz(85) \n"
      ],
      "metadata": {
        "colab": {
          "base_uri": "https://localhost:8080/"
        },
        "id": "H6Ug7q90L9XA",
        "outputId": "14a58d77-aa04-4fc2-fadb-5c1a411f9032"
      },
      "execution_count": 19,
      "outputs": [
        {
          "output_type": "stream",
          "name": "stdout",
          "text": [
            "max_colltaz(10)->16\n",
            "max_colltaz(32)->32\n",
            "max_colltaz(85)->256\n"
          ]
        }
      ]
    },
    {
      "cell_type": "markdown",
      "source": [
        "# 5. Write a function that sorts a list of integers by their digit length in descending order, then settles ties by sorting numbers with the same digit length in ascending order.\n",
        "\n",
        "Examples\n",
        "\n",
        "digit_sort([77, 23, 5, 7, 101])\n",
        "➞ [101, 23, 77, 5, 7]\n",
        "\n",
        "digit_sort([1, 5, 9, 2, 789, 563, 444])\n",
        "➞ [444, 563, 789, 1, 2, 5, 9]\n",
        "\n",
        "digit_sort([53219, 3772, 564, 32, 1])\n",
        "➞ [53219, 3772, 564, 32, 1]\n"
      ],
      "metadata": {
        "id": "rJ_32XKtPGks"
      }
    },
    {
      "cell_type": "code",
      "source": [
        "def digit_sort(in_list):\n",
        "  max_len=len(str(max(in_list)))\n",
        "  output=[]\n",
        "  for item in range(max_len,0,-1):\n",
        "    temp=[]\n",
        "    for ele in in_list:\n",
        "      if len(str(ele))==item:\n",
        "        temp.append(ele)\n",
        "    output.extend(sorted(temp))\n",
        "  print(f'digit_sort({in_list})->{output}')\n",
        "digit_sort([77, 23, 5, 7, 101]) \n",
        "\n",
        "digit_sort([1, 5, 9, 2, 789, 563, 444]) \n",
        "\n",
        "digit_sort([53219, 3772, 564, 32, 1]) "
      ],
      "metadata": {
        "colab": {
          "base_uri": "https://localhost:8080/"
        },
        "id": "vG1lGlGtQVM4",
        "outputId": "2153625c-f14d-4723-9827-87ccf1d8a28e"
      },
      "execution_count": 21,
      "outputs": [
        {
          "output_type": "stream",
          "name": "stdout",
          "text": [
            "digit_sort([77, 23, 5, 7, 101])->[101, 23, 77, 5, 7]\n",
            "digit_sort([1, 5, 9, 2, 789, 563, 444])->[444, 563, 789, 1, 2, 5, 9]\n",
            "digit_sort([53219, 3772, 564, 32, 1])->[53219, 3772, 564, 32, 1]\n"
          ]
        }
      ]
    }
  ]
}