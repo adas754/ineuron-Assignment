{
  "nbformat": 4,
  "nbformat_minor": 0,
  "metadata": {
    "colab": {
      "name": "Programming_Assingment12.ipynb",
      "provenance": []
    },
    "kernelspec": {
      "name": "python3",
      "display_name": "Python 3"
    },
    "language_info": {
      "name": "python"
    }
  },
  "cells": [
    {
      "cell_type": "markdown",
      "source": [
        "Q 1 Write a Python program to Extract Unique values dictionary values?"
      ],
      "metadata": {
        "id": "IH2xZOVcscrX"
      }
    },
    {
      "cell_type": "code",
      "execution_count": 1,
      "metadata": {
        "colab": {
          "base_uri": "https://localhost:8080/"
        },
        "id": "Lze0m_rDsXgX",
        "outputId": "fe5ce072-157a-421b-bba2-d6b09dcc6782"
      },
      "outputs": [
        {
          "output_type": "stream",
          "name": "stdout",
          "text": [
            "['monu', 'munai', 'adas']\n"
          ]
        }
      ],
      "source": [
        "d={'1':'monu','2':'munai','3':'monu','4':'adas'}\n",
        "l=[]\n",
        "for val in d.values():\n",
        "    if val in l:\n",
        "       continue\n",
        "    else:\n",
        "        l.append(val)\n",
        "print(l)"
      ]
    },
    {
      "cell_type": "markdown",
      "source": [
        " Q 2 .Write a Python program to find the sum of all items in a dictionary?\n"
      ],
      "metadata": {
        "id": "ULloBeTgywVi"
      }
    },
    {
      "cell_type": "code",
      "source": [
        "d={'a':[70,5],'b':[5,0],'c':[80,5]}\n",
        "l=[]\n",
        "for i in d.values():\n",
        "    for j in i:\n",
        "        l.append(j)\n",
        "print(sum(l))"
      ],
      "metadata": {
        "colab": {
          "base_uri": "https://localhost:8080/"
        },
        "id": "-az3NI_jy5qo",
        "outputId": "78ab1a5d-ee1f-4fac-836e-885797b5a77a"
      },
      "execution_count": 2,
      "outputs": [
        {
          "output_type": "stream",
          "name": "stdout",
          "text": [
            "165\n"
          ]
        }
      ]
    },
    {
      "cell_type": "markdown",
      "source": [
        " Q3 . Write a Python program to Merging two Dictionaries?\n"
      ],
      "metadata": {
        "id": "aK3POC2T0pdc"
      }
    },
    {
      "cell_type": "code",
      "source": [
        "d1={'a':100,'b':200,'c':300}\n",
        "d2={'d':600,'e':300,'f':400}\n",
        "d2.update(d1)\n",
        "d2"
      ],
      "metadata": {
        "colab": {
          "base_uri": "https://localhost:8080/"
        },
        "id": "9_yB_iWT1DuE",
        "outputId": "50703c91-0263-49a1-a2a6-4db6520f7c34"
      },
      "execution_count": 3,
      "outputs": [
        {
          "output_type": "execute_result",
          "data": {
            "text/plain": [
              "{'a': 100, 'b': 200, 'c': 300, 'd': 600, 'e': 300, 'f': 400}"
            ]
          },
          "metadata": {},
          "execution_count": 3
        }
      ]
    },
    {
      "cell_type": "markdown",
      "source": [
        " Q 4: Write a Python program to convert key-values list to flat dictionary?\n"
      ],
      "metadata": {
        "id": "iE5Ze5j23ES3"
      }
    },
    {
      "cell_type": "code",
      "source": [
        "l=['a',100,'b',200,'c',500,'d',600]\n",
        "l1=[]\n",
        "l2=[]\n",
        "for i in range(0,len(l),2):\n",
        "    l1.append(l[i])\n",
        "for j in range(1,len(l),2):\n",
        "    if j not in l1:\n",
        "       l2.append(l[j])\n",
        "d=dict(zip(l1,l2))\n",
        "print('list{} to \\n Dictionary{}'.format(l,d))"
      ],
      "metadata": {
        "colab": {
          "base_uri": "https://localhost:8080/"
        },
        "id": "_bZOxOco3Oy6",
        "outputId": "bc959c2c-d116-4f23-c4e9-359506a85424"
      },
      "execution_count": 4,
      "outputs": [
        {
          "output_type": "stream",
          "name": "stdout",
          "text": [
            "list['a', 100, 'b', 200, 'c', 500, 'd', 600] to \n",
            " Dictionary{'a': 100, 'b': 200, 'c': 500, 'd': 600}\n"
          ]
        }
      ]
    },
    {
      "cell_type": "markdown",
      "source": [
        "Q 5 .Write a Python program to insertion at the beginning in OrderedDict?\n"
      ],
      "metadata": {
        "id": "Oxa81tps5ViG"
      }
    },
    {
      "cell_type": "code",
      "source": [
        "from collections import OrderedDict\n"
      ],
      "metadata": {
        "id": "UvFoUOjz5jcB"
      },
      "execution_count": 6,
      "outputs": []
    },
    {
      "cell_type": "code",
      "source": [
        "d={'a':100,'b':'200','c':300,'d':400,'e':'500'}\n",
        "od=OrderedDict(d)\n",
        "print(od)\n",
        "od['f']=900\n",
        "print(od)\n",
        "od.move_to_end('f',False)\n",
        "print(od)"
      ],
      "metadata": {
        "colab": {
          "base_uri": "https://localhost:8080/"
        },
        "id": "EmSejoAx6R8O",
        "outputId": "f84bd1b3-d79a-4056-a66e-becf139eef5d"
      },
      "execution_count": 9,
      "outputs": [
        {
          "output_type": "stream",
          "name": "stdout",
          "text": [
            "OrderedDict([('a', 100), ('b', '200'), ('c', 300), ('d', 400), ('e', '500')])\n",
            "OrderedDict([('a', 100), ('b', '200'), ('c', 300), ('d', 400), ('e', '500'), ('f', 900)])\n",
            "OrderedDict([('f', 900), ('a', 100), ('b', '200'), ('c', 300), ('d', 400), ('e', '500')])\n"
          ]
        }
      ]
    },
    {
      "cell_type": "markdown",
      "source": [
        "Q 6 Write a Python program to check order of character in string using OrderedDict()?\n"
      ],
      "metadata": {
        "id": "zjB4ssVZ7iKy"
      }
    },
    {
      "cell_type": "code",
      "source": [
        "from collections import OrderedDict\n",
        "\n",
        "initial_list = {'a': 1000, 'f': 200, 'd': 300, 'c': 400, 'b': 500, 'e': 600}\n",
        "print(initial_list)\n",
        "\n",
        "final_list = OrderedDict(dict(sorted(initial_list.items())))\n",
        "print(final_list)"
      ],
      "metadata": {
        "colab": {
          "base_uri": "https://localhost:8080/"
        },
        "id": "qaXQw4Av7pJM",
        "outputId": "ca15e441-c912-4c6f-f91d-e20a1fca6272"
      },
      "execution_count": 10,
      "outputs": [
        {
          "output_type": "stream",
          "name": "stdout",
          "text": [
            "{'a': 1000, 'f': 200, 'd': 300, 'c': 400, 'b': 500, 'e': 600}\n",
            "OrderedDict([('a', 1000), ('b', 500), ('c', 400), ('d', 300), ('e', 600), ('f', 200)])\n"
          ]
        }
      ]
    },
    {
      "cell_type": "markdown",
      "source": [
        "Q 7:Write a Python program to sort Python Dictionaries by Key or Value?\n"
      ],
      "metadata": {
        "id": "OeBA9A8W7_yg"
      }
    },
    {
      "cell_type": "code",
      "source": [
        "d = {'a': 1000, 'f': 200, 'd': 300, 'c': 400, 'b': 500, 'e': 600}\n",
        "sort = sorted(d.items())\n",
        "\n",
        "print(\"Sorted by key: \",sort)"
      ],
      "metadata": {
        "colab": {
          "base_uri": "https://localhost:8080/"
        },
        "id": "ArU4RjRI8MtI",
        "outputId": "9a587db6-fb15-4ce5-c2af-c935e2b330f2"
      },
      "execution_count": 11,
      "outputs": [
        {
          "output_type": "stream",
          "name": "stdout",
          "text": [
            "Sorted by key:  [('a', 1000), ('b', 500), ('c', 400), ('d', 300), ('e', 600), ('f', 200)]\n"
          ]
        }
      ]
    }
  ]
}